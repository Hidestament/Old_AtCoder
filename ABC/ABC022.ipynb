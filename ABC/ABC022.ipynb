{
  "nbformat": 4,
  "nbformat_minor": 0,
  "metadata": {
    "colab": {
      "name": "ABC022.ipynb",
      "provenance": [],
      "authorship_tag": "ABX9TyM28vCIBZqisbun7+oAG4jG",
      "include_colab_link": true
    },
    "kernelspec": {
      "name": "python3",
      "display_name": "Python 3"
    }
  },
  "cells": [
    {
      "cell_type": "markdown",
      "metadata": {
        "id": "view-in-github",
        "colab_type": "text"
      },
      "source": [
        "<a href=\"https://colab.research.google.com/github/Hidestament/AtCoder/blob/main/ABC/ABC022.ipynb\" target=\"_parent\"><img src=\"https://colab.research.google.com/assets/colab-badge.svg\" alt=\"Open In Colab\"/></a>"
      ]
    },
    {
      "cell_type": "markdown",
      "metadata": {
        "id": "zyAdll6QNLYJ"
      },
      "source": [
        "# B - 細いお菓子\r\n",
        "尺取法の典型的な問題. 条件の確認が少し面倒.\r\n",
        "\r\n",
        "現在の l - r区間で, 使っている味のリストを作成することによりこれを実現する.\r\n",
        "\r\n",
        "l, r の更新のときに, この使用味リストも更新すること."
      ]
    },
    {
      "cell_type": "code",
      "metadata": {
        "colab": {
          "base_uri": "https://localhost:8080/"
        },
        "id": "6IUYlhVUNHjX",
        "outputId": "59df9d52-ff96-4cfd-dfa1-a3cc03e67176"
      },
      "source": [
        "n = int(input())\r\n",
        "a = list(map(int, input().split()))"
      ],
      "execution_count": 4,
      "outputs": [
        {
          "output_type": "stream",
          "text": [
            "7\n",
            "1 2 1 3 1 4 4\n"
          ],
          "name": "stdout"
        }
      ]
    },
    {
      "cell_type": "code",
      "metadata": {
        "id": "4hlr6YK7NS4h"
      },
      "source": [
        "l, r = 0,0\r\n",
        "ans = 0"
      ],
      "execution_count": 11,
      "outputs": []
    },
    {
      "cell_type": "code",
      "metadata": {
        "id": "seezryR9QIC2"
      },
      "source": [
        "# 味aを使ったかどうかのリスト 0 は使ってない, 1は使った\r\n",
        "v = [0] * (max(a) + 1)"
      ],
      "execution_count": 12,
      "outputs": []
    },
    {
      "cell_type": "code",
      "metadata": {
        "colab": {
          "base_uri": "https://localhost:8080/"
        },
        "id": "TLb_BAsoNcSJ",
        "outputId": "e78a9a4a-eda8-484f-a3a5-aedc0014fa77"
      },
      "source": [
        "while r < n:\r\n",
        "  if v[a[r]] == 0:\r\n",
        "    v[a[r]] = 1\r\n",
        "    r += 1\r\n",
        "    ans = max(ans, r - l)\r\n",
        "  elif r == l:\r\n",
        "    r += 1\r\n",
        "    l += 1\r\n",
        "  else:\r\n",
        "    v[a[l]] = 0\r\n",
        "    l += 1\r\n",
        "print(ans)"
      ],
      "execution_count": 13,
      "outputs": [
        {
          "output_type": "stream",
          "text": [
            "0 1\n",
            "0 2\n",
            "1 2\n",
            "1 3\n",
            "1 4\n",
            "2 4\n",
            "3 4\n",
            "3 5\n",
            "3 6\n",
            "4 6\n",
            "5 6\n",
            "6 6\n",
            "6 7\n",
            "3\n"
          ],
          "name": "stdout"
        }
      ]
    },
    {
      "cell_type": "code",
      "metadata": {
        "id": "GbqvBru_N3Ge"
      },
      "source": [
        ""
      ],
      "execution_count": null,
      "outputs": []
    }
  ]
}