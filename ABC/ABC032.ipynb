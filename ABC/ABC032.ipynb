{
  "nbformat": 4,
  "nbformat_minor": 0,
  "metadata": {
    "colab": {
      "name": "ABC032.ipynb",
      "provenance": [],
      "authorship_tag": "ABX9TyMrV3y/xGFKiXuDnZlZOk3s",
      "include_colab_link": true
    },
    "kernelspec": {
      "name": "python3",
      "display_name": "Python 3"
    }
  },
  "cells": [
    {
      "cell_type": "markdown",
      "metadata": {
        "id": "view-in-github",
        "colab_type": "text"
      },
      "source": [
        "<a href=\"https://colab.research.google.com/github/Hidestament/AtCoder/blob/main/ABC/ABC032.ipynb\" target=\"_parent\"><img src=\"https://colab.research.google.com/assets/colab-badge.svg\" alt=\"Open In Colab\"/></a>"
      ]
    },
    {
      "cell_type": "markdown",
      "metadata": {
        "id": "zyAdll6QNLYJ"
      },
      "source": [
        "# C - 列\r\n",
        "尺取法の典型的な問題. 尺取法で実装する. \r\n",
        "\r\n",
        "配列に0が含まれている場合は, ans = n となるので注意."
      ]
    },
    {
      "cell_type": "code",
      "metadata": {
        "colab": {
          "base_uri": "https://localhost:8080/"
        },
        "id": "6IUYlhVUNHjX",
        "outputId": "eb2581db-8ac3-46dc-8e26-919b00a52dfd"
      },
      "source": [
        "n, k = map(int, input().split())\r\n",
        "s = [int(input()) for _ in range(n)]"
      ],
      "execution_count": 1,
      "outputs": [
        {
          "output_type": "stream",
          "text": [
            "7 6\n",
            "4\n",
            "3\n",
            "1\n",
            "1\n",
            "2\n",
            "10\n",
            "2\n"
          ],
          "name": "stdout"
        }
      ]
    },
    {
      "cell_type": "code",
      "metadata": {
        "id": "4hlr6YK7NS4h"
      },
      "source": [
        "l, r = 0,0\r\n",
        "ans = 0\r\n",
        "sum_s = 1"
      ],
      "execution_count": 2,
      "outputs": []
    },
    {
      "cell_type": "code",
      "metadata": {
        "colab": {
          "base_uri": "https://localhost:8080/"
        },
        "id": "TLb_BAsoNcSJ",
        "outputId": "b2bf5c04-6617-4a07-852c-6f7b12671e3c"
      },
      "source": [
        "if 0 in s:\r\n",
        "  print(n)\r\n",
        "else:\r\n",
        "  while r < n:\r\n",
        "    if sum_s * s[r] <= k:\r\n",
        "      sum_s *= s[r]\r\n",
        "      r += 1\r\n",
        "      ans = max(ans, r - l)\r\n",
        "    elif r == l:\r\n",
        "      r += 1\r\n",
        "      l += 1\r\n",
        "    else:\r\n",
        "      sum_s //= s[l]\r\n",
        "      l += 1\r\n",
        "  print(ans)"
      ],
      "execution_count": 3,
      "outputs": [
        {
          "output_type": "stream",
          "text": [
            "4\n"
          ],
          "name": "stdout"
        }
      ]
    },
    {
      "cell_type": "code",
      "metadata": {
        "id": "GbqvBru_N3Ge"
      },
      "source": [
        ""
      ],
      "execution_count": null,
      "outputs": []
    }
  ]
}