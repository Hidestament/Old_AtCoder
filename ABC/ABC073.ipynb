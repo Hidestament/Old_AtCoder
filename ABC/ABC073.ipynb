{
  "nbformat": 4,
  "nbformat_minor": 0,
  "metadata": {
    "colab": {
      "name": "ABC073.ipynb",
      "provenance": [],
      "collapsed_sections": [],
      "authorship_tag": "ABX9TyNcM4Y/ckh4PUG+4d/okwfn",
      "include_colab_link": true
    },
    "kernelspec": {
      "name": "python3",
      "display_name": "Python 3"
    },
    "language_info": {
      "name": "python"
    }
  },
  "cells": [
    {
      "cell_type": "markdown",
      "metadata": {
        "id": "view-in-github",
        "colab_type": "text"
      },
      "source": [
        "<a href=\"https://colab.research.google.com/github/Hidestament/AtCoder/blob/main/ABC/ABC073.ipynb\" target=\"_parent\"><img src=\"https://colab.research.google.com/assets/colab-badge.svg\" alt=\"Open In Colab\"/></a>"
      ]
    },
    {
      "cell_type": "markdown",
      "source": [
        "# [AtCoder Beginner Contest 073](https://atcoder.jp/contests/abc073)"
      ],
      "metadata": {
        "id": "ctvkrgxaWYl8"
      }
    },
    {
      "cell_type": "markdown",
      "source": [
        "## [A - September 9](https://atcoder.jp/contests/abc073/tasks/abc073_a)"
      ],
      "metadata": {
        "id": "UW_LLtH6WaeS"
      }
    },
    {
      "cell_type": "code",
      "execution_count": null,
      "metadata": {
        "id": "faflFBXiTsEd"
      },
      "outputs": [],
      "source": [
        "N = str(input())\n",
        "print(\"Yes\" if \"9\" in N else \"No\")"
      ]
    },
    {
      "cell_type": "markdown",
      "source": [
        "## [B - Theater](https://atcoder.jp/contests/abc073/tasks/abc073_b)"
      ],
      "metadata": {
        "id": "-1-wf3iXWlau"
      }
    },
    {
      "cell_type": "code",
      "source": [
        "N = int(input())\n",
        "ans = 0\n",
        "for _ in range(N):\n",
        "    l, r = map(int, input().split())\n",
        "    ans += (r - l + 1)\n",
        "print(ans)"
      ],
      "metadata": {
        "id": "zMupVLS7TuxT"
      },
      "execution_count": null,
      "outputs": []
    },
    {
      "cell_type": "markdown",
      "source": [
        "## [C - Write and Erase](https://atcoder.jp/contests/abc073/tasks/abc073_c)"
      ],
      "metadata": {
        "id": "ztZnTGSlW11i"
      }
    },
    {
      "cell_type": "code",
      "source": [
        "from collections import defaultdict\n",
        "N = int(input())\n",
        "cnt = defaultdict(int)"
      ],
      "metadata": {
        "id": "-N8rjmfUW-Bk"
      },
      "execution_count": null,
      "outputs": []
    },
    {
      "cell_type": "code",
      "source": [
        "for _ in range(N):\n",
        "    a = int(input())\n",
        "    cnt[a] = 1 - cnt[a]\n",
        "print(sum(value for key, value in cnt.items()))"
      ],
      "metadata": {
        "id": "QcMfduGiTuuN"
      },
      "execution_count": null,
      "outputs": []
    },
    {
      "cell_type": "markdown",
      "source": [
        "## [D - joisino's travel](https://atcoder.jp/contests/abc073/tasks/abc073_d)"
      ],
      "metadata": {
        "id": "NAGp9DUxTu-Y"
      }
    },
    {
      "cell_type": "code",
      "source": [
        "import numpy as np\n",
        "from scipy.sparse import csr_matrix\n",
        "from scipy.sparse.csgraph import floyd_warshall\n",
        "from itertools import permutations\n",
        "\n",
        "\n",
        "N, M, R = map(int, input().split())\n",
        "r = list(map(int, input().split()))\n",
        "graph = [[0] * N for _ in range(N)]\n",
        "for _ in range(M):\n",
        "    a, b, c = map(int, input().split())\n",
        "    graph[a-1][b-1] = c\n",
        "    graph[b-1][a-1] = c\n",
        "graph = csr_matrix(graph)\n",
        "dist = floyd_warshall(graph, directed=False, return_predecessors=False, unweighted=False)"
      ],
      "metadata": {
        "colab": {
          "base_uri": "https://localhost:8080/"
        },
        "id": "p8DrDhnhUwGU",
        "outputId": "5bb89b9e-a819-418d-efd7-c6fb0703cbb8"
      },
      "execution_count": null,
      "outputs": [
        {
          "output_type": "execute_result",
          "data": {
            "text/plain": [
              "40320"
            ]
          },
          "metadata": {},
          "execution_count": 4
        }
      ]
    },
    {
      "cell_type": "code",
      "source": [
        "ans = 10**10\n",
        "for per in permutations(r):\n",
        "    temp = 0\n",
        "    for i in range(1, R):\n",
        "        temp += dist[per[i]-1][per[i-1]-1]\n",
        "    ans = min(ans, temp)\n",
        "print(int(ans))"
      ],
      "metadata": {
        "colab": {
          "base_uri": "https://localhost:8080/"
        },
        "id": "pkrvpsSpUv71",
        "outputId": "96dce868-df91-4c4b-d760-30b0b0bc3331"
      },
      "execution_count": null,
      "outputs": [
        {
          "output_type": "stream",
          "name": "stdout",
          "text": [
            "(1, 3, 5)\n",
            "(1, 5, 3)\n",
            "(3, 1, 5)\n",
            "(3, 5, 1)\n",
            "(5, 1, 3)\n",
            "(5, 3, 1)\n"
          ]
        }
      ]
    }
  ]
}