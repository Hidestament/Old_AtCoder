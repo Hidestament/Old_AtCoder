{
  "nbformat": 4,
  "nbformat_minor": 0,
  "metadata": {
    "colab": {
      "name": "ABC079.ipynb",
      "provenance": [],
      "collapsed_sections": [],
      "authorship_tag": "ABX9TyMwKtnHFkwyg9onoAVL26mA",
      "include_colab_link": true
    },
    "kernelspec": {
      "name": "python3",
      "display_name": "Python 3"
    },
    "language_info": {
      "name": "python"
    }
  },
  "cells": [
    {
      "cell_type": "markdown",
      "metadata": {
        "id": "view-in-github",
        "colab_type": "text"
      },
      "source": [
        "<a href=\"https://colab.research.google.com/github/Hidestament/AtCoder/blob/main/ABC/ABC079.ipynb\" target=\"_parent\"><img src=\"https://colab.research.google.com/assets/colab-badge.svg\" alt=\"Open In Colab\"/></a>"
      ]
    },
    {
      "cell_type": "markdown",
      "source": [
        "# [AtCoder Beginner Contest 079](https://atcoder.jp/contests/abc079)"
      ],
      "metadata": {
        "id": "oJG-ZPQ2uiuV"
      }
    },
    {
      "cell_type": "markdown",
      "source": [
        "## [A - Good Integer](https://atcoder.jp/contests/abc079/tasks/abc079_a)"
      ],
      "metadata": {
        "id": "v9tSLsYsum_7"
      }
    },
    {
      "cell_type": "code",
      "execution_count": null,
      "metadata": {
        "id": "Fv8S7FMduiNm"
      },
      "outputs": [],
      "source": [
        "N = str(input())\n",
        "if N[0] == N[1] == N[2]:\n",
        "    print(\"Yes\")\n",
        "elif N[1] == N[2] == N[3]:\n",
        "    print(\"Yes\")\n",
        "else:\n",
        "    print(\"No\")"
      ]
    },
    {
      "cell_type": "markdown",
      "source": [
        "## [B - Lucas Number](https://atcoder.jp/contests/abc079/tasks/abc079_b)"
      ],
      "metadata": {
        "id": "pYquNFZpu1-B"
      }
    },
    {
      "cell_type": "code",
      "source": [
        "N = int(input())\n",
        "memo = [-1] * (N + 10)\n",
        "memo[0] = 2\n",
        "memo[1] = 1"
      ],
      "metadata": {
        "colab": {
          "base_uri": "https://localhost:8080/"
        },
        "id": "opBc-hfUvJDU",
        "outputId": "08fe3cfb-b232-4ad2-a25b-6c252a0642c4"
      },
      "execution_count": null,
      "outputs": [
        {
          "name": "stdout",
          "output_type": "stream",
          "text": [
            "80\n"
          ]
        }
      ]
    },
    {
      "cell_type": "code",
      "source": [
        "def lucas_number(i):\n",
        "    if memo[i] != -1:\n",
        "        return memo[i]\n",
        "    lucas = lucas_number(i - 1) + lucas_number(i - 2)\n",
        "    memo[i] = lucas\n",
        "    return lucas"
      ],
      "metadata": {
        "id": "9uLpltnevOKs"
      },
      "execution_count": null,
      "outputs": []
    },
    {
      "cell_type": "code",
      "source": [
        "print(lucas_number(N))"
      ],
      "metadata": {
        "colab": {
          "base_uri": "https://localhost:8080/"
        },
        "id": "fy5WagIwvcJX",
        "outputId": "bc1f4b16-54ba-499c-8c12-bba146f5265b"
      },
      "execution_count": null,
      "outputs": [
        {
          "output_type": "execute_result",
          "data": {
            "text/plain": [
              "52361396397820127"
            ]
          },
          "metadata": {},
          "execution_count": 4
        }
      ]
    },
    {
      "cell_type": "markdown",
      "source": [
        "## [C - Train Ticket](https://atcoder.jp/contests/abc079/tasks/abc079_c)"
      ],
      "metadata": {
        "id": "V_gwjbt-vmaE"
      }
    },
    {
      "cell_type": "code",
      "source": [
        "num = list(input())"
      ],
      "metadata": {
        "colab": {
          "base_uri": "https://localhost:8080/"
        },
        "id": "ddbkStP1vgHv",
        "outputId": "cfd64cc3-2199-42b1-9d7f-37228f67028f"
      },
      "execution_count": null,
      "outputs": [
        {
          "name": "stdout",
          "output_type": "stream",
          "text": [
            "0290\n"
          ]
        }
      ]
    },
    {
      "cell_type": "code",
      "source": [
        "for bits in range(2 << 3):\n",
        "    temp = int(num[0])\n",
        "    ans = [num[0]]\n",
        "    for j in range(3):\n",
        "        if (bits >> j) & 1:\n",
        "            temp += -1 * int(num[j+1])\n",
        "            ans.append(\"-\")\n",
        "        else:\n",
        "            temp += int(num[j+1])\n",
        "            ans.append(\"+\")\n",
        "        ans.append(num[j+1])\n",
        "    if temp == 7:\n",
        "        ans.append(\"=7\")\n",
        "        print(\"\".join(ans))\n",
        "        exit()"
      ],
      "metadata": {
        "colab": {
          "base_uri": "https://localhost:8080/"
        },
        "id": "M694npgBwD1z",
        "outputId": "a6568a5e-d36f-4e18-e7db-d8c2b9a6c2ba"
      },
      "execution_count": null,
      "outputs": [
        {
          "output_type": "stream",
          "name": "stdout",
          "text": [
            "0-2+9+0=7\n",
            "0-2+9-0=7\n",
            "0-2+9+0=7\n",
            "0-2+9-0=7\n"
          ]
        }
      ]
    },
    {
      "cell_type": "markdown",
      "source": [
        "## [D - Wall](https://atcoder.jp/contests/abc079/tasks/abc079_d)"
      ],
      "metadata": {
        "id": "1j9DBhQTxOCT"
      }
    },
    {
      "cell_type": "code",
      "source": [
        "H, W = map(int, input().split())\n",
        "C = [list(map(int, input().split())) for _ in range(10)]\n",
        "A = [list(map(int, input().split())) for _ in range(H)]"
      ],
      "metadata": {
        "colab": {
          "base_uri": "https://localhost:8080/"
        },
        "id": "T7pZ7oVDwDzA",
        "outputId": "faa96239-7a08-48c3-e1b0-acefc38fded3"
      },
      "execution_count": null,
      "outputs": [
        {
          "name": "stdout",
          "output_type": "stream",
          "text": [
            "2 4\n",
            "0 9 9 9 9 9 9 9 9 9\n",
            "9 0 9 9 9 9 9 9 9 9\n",
            "9 9 0 9 9 9 9 9 9 9\n",
            "9 9 9 0 9 9 9 9 9 9\n",
            "9 9 9 9 0 9 9 9 9 2\n",
            "9 9 9 9 9 0 9 9 9 9\n",
            "9 9 9 9 9 9 0 9 9 9\n",
            "9 9 9 9 2 9 9 9 0 9\n",
            "9 9 9 9 2 9 9 9 0 9\n",
            "9 2 9 9 9 9 9 9 9 0\n",
            "-1 -1 -1 -1\n",
            "8 1 1 8\n"
          ]
        }
      ]
    },
    {
      "cell_type": "code",
      "source": [
        "import numpy as np\n",
        "from scipy.sparse import csr_matrix\n",
        "from scipy.sparse.csgraph import floyd_warshall\n",
        "\n",
        "graph = csr_matrix(C)\n",
        "dist = floyd_warshall(graph, directed=True, unweighted=False)"
      ],
      "metadata": {
        "id": "mhplA7L0wBaQ"
      },
      "execution_count": null,
      "outputs": []
    },
    {
      "cell_type": "code",
      "source": [
        "ans = 0\n",
        "for h in range(H):\n",
        "    for w in range(W):\n",
        "        if A[h][w] != -1:\n",
        "            ans += dist[A[h][w]][1]\n",
        "print(int(ans))"
      ],
      "metadata": {
        "colab": {
          "base_uri": "https://localhost:8080/"
        },
        "id": "vPBE3WcZ0vp2",
        "outputId": "4d3802df-a81e-47db-da90-245d5f40c873"
      },
      "execution_count": null,
      "outputs": [
        {
          "output_type": "stream",
          "name": "stdout",
          "text": [
            "12\n"
          ]
        }
      ]
    }
  ]
}