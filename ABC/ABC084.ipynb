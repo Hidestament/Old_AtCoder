{
  "nbformat": 4,
  "nbformat_minor": 0,
  "metadata": {
    "colab": {
      "name": "ABC084.ipynb",
      "provenance": [],
      "authorship_tag": "ABX9TyMmTsqE8nNH1/YE1Q63se+S",
      "include_colab_link": true
    },
    "kernelspec": {
      "name": "python3",
      "display_name": "Python 3"
    },
    "language_info": {
      "name": "python"
    }
  },
  "cells": [
    {
      "cell_type": "markdown",
      "metadata": {
        "id": "view-in-github",
        "colab_type": "text"
      },
      "source": [
        "<a href=\"https://colab.research.google.com/github/Hidestament/AtCoder/blob/main/ABC/ABC084.ipynb\" target=\"_parent\"><img src=\"https://colab.research.google.com/assets/colab-badge.svg\" alt=\"Open In Colab\"/></a>"
      ]
    },
    {
      "cell_type": "markdown",
      "source": [
        "# [AtCoder Beginner Contest 084](https://atcoder.jp/contests/abc084)"
      ],
      "metadata": {
        "id": "iZ43COaeE-5g"
      }
    },
    {
      "cell_type": "markdown",
      "source": [
        "## [A - New Year](https://atcoder.jp/contests/abc084/tasks/abc084_a)"
      ],
      "metadata": {
        "id": "JilT1wK0FBlg"
      }
    },
    {
      "cell_type": "code",
      "execution_count": null,
      "metadata": {
        "colab": {
          "base_uri": "https://localhost:8080/"
        },
        "id": "69QxoICSE8zY",
        "outputId": "1569fe6b-b9e2-4e9f-a8d1-d44a99da99f9"
      },
      "outputs": [
        {
          "output_type": "stream",
          "name": "stdout",
          "text": [
            "12\n",
            "36\n"
          ]
        }
      ],
      "source": [
        "M = int(input())\n",
        "print(24 + 24 - M)"
      ]
    },
    {
      "cell_type": "markdown",
      "source": [
        "## [B - Postal Code](https://atcoder.jp/contests/abc084/tasks/abc084_b)"
      ],
      "metadata": {
        "id": "wTN6r6OLFRDt"
      }
    },
    {
      "cell_type": "code",
      "source": [
        "A, B = map(int, input().split())\n",
        "S = list(input())"
      ],
      "metadata": {
        "colab": {
          "base_uri": "https://localhost:8080/"
        },
        "id": "ggZMTr54FNKB",
        "outputId": "74bbca62-4996-4b0e-d747-c8b02057db34"
      },
      "execution_count": null,
      "outputs": [
        {
          "name": "stdout",
          "output_type": "stream",
          "text": [
            "1 1\n",
            "---\n"
          ]
        }
      ]
    },
    {
      "cell_type": "code",
      "source": [
        "if (S[A] == \"-\") and (\"-\" not in S[:A]) and (\"-\" not in S[A+1:]):\n",
        "    print(\"Yes\")\n",
        "else:\n",
        "    print(\"No\")"
      ],
      "metadata": {
        "colab": {
          "base_uri": "https://localhost:8080/"
        },
        "id": "d48_PFMjFmjv",
        "outputId": "5109ccda-6afd-4c5d-9f97-c9f4effe9ad2"
      },
      "execution_count": null,
      "outputs": [
        {
          "output_type": "stream",
          "name": "stdout",
          "text": [
            "No\n"
          ]
        }
      ]
    },
    {
      "cell_type": "markdown",
      "source": [
        "## [C - Special Trains](https://atcoder.jp/contests/abc084/tasks/abc084_c)"
      ],
      "metadata": {
        "id": "e0WPGtnDF3Nw"
      }
    },
    {
      "cell_type": "code",
      "source": [
        "N = int(input())\n",
        "stations = []\n",
        "for _ in range(N-1):\n",
        "    c, s, f = map(int, input().split())\n",
        "    stations.append([c, s, f])"
      ],
      "metadata": {
        "colab": {
          "base_uri": "https://localhost:8080/"
        },
        "id": "GY55MdpJKXTB",
        "outputId": "921dbbbe-ea94-41e9-d785-8d7eaed179c4"
      },
      "execution_count": null,
      "outputs": [
        {
          "name": "stdout",
          "output_type": "stream",
          "text": [
            "4\n",
            "12 13 1\n",
            "44 17 17\n",
            "66 4096 64\n"
          ]
        }
      ]
    },
    {
      "cell_type": "code",
      "source": [
        "for i in range(N):\n",
        "    time = 0\n",
        "    while i < N - 1:\n",
        "        c, s, f = stations[i]\n",
        "        if time <= s:\n",
        "            time = s + c\n",
        "        else:\n",
        "            offset = -int(-(time-s)//f)\n",
        "            time = s + f * offset + c\n",
        "        i += 1\n",
        "    print(time)"
      ],
      "metadata": {
        "colab": {
          "base_uri": "https://localhost:8080/"
        },
        "id": "uXZNARE6KXP-",
        "outputId": "16417e44-6660-43f5-8385-be1a56eb1d85"
      },
      "execution_count": null,
      "outputs": [
        {
          "output_type": "stream",
          "name": "stdout",
          "text": [
            "12\n",
            "11\n",
            "0\n"
          ]
        }
      ]
    },
    {
      "cell_type": "markdown",
      "source": [
        "## [D - 2017-like Number](https://atcoder.jp/contests/abc084/tasks/abc084_d)"
      ],
      "metadata": {
        "id": "R41YRwFLGO0U"
      }
    },
    {
      "cell_type": "markdown",
      "source": [
        "### 二分探索を使う場合"
      ],
      "metadata": {
        "id": "gmVe2bRhR5DU"
      }
    },
    {
      "cell_type": "code",
      "source": [
        "Q = int(input())"
      ],
      "metadata": {
        "colab": {
          "base_uri": "https://localhost:8080/"
        },
        "id": "-pPii_p8GSel",
        "outputId": "2820d8e1-771b-4ee3-a7f3-a9178094ba24"
      },
      "execution_count": null,
      "outputs": [
        {
          "name": "stdout",
          "output_type": "stream",
          "text": [
            "1\n"
          ]
        }
      ]
    },
    {
      "cell_type": "code",
      "source": [
        "def eratosthenes(n):\n",
        "  is_prime = [True] * (n + 1)\n",
        "  is_prime[0], is_prime[1] = False, False\n",
        "  for p in range(2, int(n**0.5) + 1):\n",
        "    if is_prime[p]:\n",
        "      for mp in range(2 * p, n + 1, p):\n",
        "        is_prime[mp] = False\n",
        "  return [p for p in range(3, n+1) if is_prime[p]]"
      ],
      "metadata": {
        "id": "6G0jpn1yGWo6"
      },
      "execution_count": null,
      "outputs": []
    },
    {
      "cell_type": "code",
      "source": [
        "prime_numbers = [2] + eratosthenes(10**6 + 10)\n",
        "prime_numbers_set = set(prime_numbers)"
      ],
      "metadata": {
        "id": "v91xv2n8GXHq"
      },
      "execution_count": null,
      "outputs": []
    },
    {
      "cell_type": "code",
      "source": [
        "like_prime_numbers = []\n",
        "for p in prime_numbers:\n",
        "    np = (p + 1) // 2\n",
        "    if np in prime_numbers_set:\n",
        "        like_prime_numbers.append(p)\n",
        "like_prime_numbers_set = set(like_prime_numbers)"
      ],
      "metadata": {
        "id": "5tT2szkbGY0v"
      },
      "execution_count": null,
      "outputs": []
    },
    {
      "cell_type": "code",
      "source": [
        "from bisect import bisect_left, bisect_right\n",
        "for _ in range(Q):\n",
        "    l, r = map(int, input().split())\n",
        "    if l == r:\n",
        "        if l in like_prime_numbers_set:\n",
        "            print(1)\n",
        "        else:\n",
        "            print(0)\n",
        "    else:\n",
        "        left_ind = bisect_left(like_prime_numbers, l)\n",
        "        right_ind = bisect_right(like_prime_numbers, r)\n",
        "        print(right_ind - left_ind)"
      ],
      "metadata": {
        "colab": {
          "base_uri": "https://localhost:8080/"
        },
        "id": "0-Z27Xq2HS_9",
        "outputId": "ce566586-8d43-4cfd-d5bf-b7f93f427824"
      },
      "execution_count": null,
      "outputs": [
        {
          "output_type": "stream",
          "name": "stdout",
          "text": [
            "3 7\n",
            "2\n"
          ]
        }
      ]
    },
    {
      "cell_type": "markdown",
      "source": [
        "### 累積和を使う場合"
      ],
      "metadata": {
        "id": "MrNC2Fa0R7ih"
      }
    },
    {
      "cell_type": "code",
      "source": [
        "Q = int(input())\n",
        "def eratosthenes(n):\n",
        "  is_prime = [1] * (n + 1)\n",
        "  is_prime[0], is_prime[1] = 0, 0\n",
        "  for p in range(2, int(n**0.5) + 1):\n",
        "    if is_prime[p]:\n",
        "      for mp in range(2 * p, n + 1, p):\n",
        "        is_prime[mp] = 0\n",
        "  return is_prime"
      ],
      "metadata": {
        "colab": {
          "base_uri": "https://localhost:8080/"
        },
        "id": "xwPHWQA6R9Ey",
        "outputId": "d855867f-a210-4e9b-fe89-d5162bda9f66"
      },
      "execution_count": 6,
      "outputs": [
        {
          "name": "stdout",
          "output_type": "stream",
          "text": [
            "5\n"
          ]
        }
      ]
    },
    {
      "cell_type": "code",
      "source": [
        "prime_numbers = eratosthenes(10**6 + 10)\n",
        "like_prime_numbers = [0] * (10**6 + 10)"
      ],
      "metadata": {
        "id": "sJG9En7USA8t"
      },
      "execution_count": 7,
      "outputs": []
    },
    {
      "cell_type": "code",
      "source": [
        "for i in range(3, 10**6 + 10):\n",
        "    if prime_numbers[i]:\n",
        "        np = (i + 1) // 2\n",
        "        if prime_numbers[np]:\n",
        "            like_prime_numbers[i] = 1"
      ],
      "metadata": {
        "id": "Pg9PO7OJSBxx"
      },
      "execution_count": 8,
      "outputs": []
    },
    {
      "cell_type": "code",
      "source": [
        "from itertools import accumulate\n",
        "acc = list(accumulate(like_prime_numbers))"
      ],
      "metadata": {
        "id": "u3WGXAtfSEMC"
      },
      "execution_count": 12,
      "outputs": []
    },
    {
      "cell_type": "code",
      "source": [
        "for _ in range(Q):\n",
        "    l, r = map(int, input().split())\n",
        "    print(acc[r] - acc[l - 1])"
      ],
      "metadata": {
        "id": "XvHWtXALSUm6"
      },
      "execution_count": null,
      "outputs": []
    },
    {
      "cell_type": "code",
      "source": [
        ""
      ],
      "metadata": {
        "id": "_VJeWzIPTJbH"
      },
      "execution_count": null,
      "outputs": []
    }
  ]
}