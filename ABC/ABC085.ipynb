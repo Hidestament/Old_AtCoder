{
  "nbformat": 4,
  "nbformat_minor": 0,
  "metadata": {
    "colab": {
      "name": "ABC085.ipynb",
      "provenance": [],
      "collapsed_sections": [],
      "authorship_tag": "ABX9TyOnlNX4AlPkHmLMOQBx4cuv",
      "include_colab_link": true
    },
    "kernelspec": {
      "name": "python3",
      "display_name": "Python 3"
    },
    "language_info": {
      "name": "python"
    }
  },
  "cells": [
    {
      "cell_type": "markdown",
      "metadata": {
        "id": "view-in-github",
        "colab_type": "text"
      },
      "source": [
        "<a href=\"https://colab.research.google.com/github/Hidestament/AtCoder/blob/main/ABC/ABC085.ipynb\" target=\"_parent\"><img src=\"https://colab.research.google.com/assets/colab-badge.svg\" alt=\"Open In Colab\"/></a>"
      ]
    },
    {
      "cell_type": "markdown",
      "source": [
        "# [AtCoder Beginner Contest 085](https://atcoder.jp/contests/abc085)"
      ],
      "metadata": {
        "id": "wbuC6bCx1mjd"
      }
    },
    {
      "cell_type": "markdown",
      "source": [
        "## [A - Already 2018](https://atcoder.jp/contests/abc085/tasks/abc085_a)"
      ],
      "metadata": {
        "id": "r7MIaW8z1sZN"
      }
    },
    {
      "cell_type": "code",
      "execution_count": null,
      "metadata": {
        "colab": {
          "base_uri": "https://localhost:8080/"
        },
        "id": "sDlZkn6V1SNa",
        "outputId": "7cb4a8d1-1331-423c-ec6e-4479c47bb2ba"
      },
      "outputs": [
        {
          "output_type": "stream",
          "name": "stdout",
          "text": [
            "2017/01/07\n",
            "2018/01/07\n"
          ]
        }
      ],
      "source": [
        "S = list(input())\n",
        "S[3] = \"8\"\n",
        "print(\"\".join(S))"
      ]
    },
    {
      "cell_type": "markdown",
      "source": [
        "## [B - Kagami Mochi](https://atcoder.jp/contests/abc085/tasks/abc085_b)"
      ],
      "metadata": {
        "id": "6zLUiYJT2D7t"
      }
    },
    {
      "cell_type": "code",
      "source": [
        "N = int(input())\n",
        "D = [int(input()) for _ in range(N)]\n",
        "print(len(set(D)))"
      ],
      "metadata": {
        "colab": {
          "base_uri": "https://localhost:8080/"
        },
        "id": "CxeoO8Pm2Cu5",
        "outputId": "7acea1a1-4255-4852-d41f-7d4ddd21e708"
      },
      "execution_count": null,
      "outputs": [
        {
          "output_type": "stream",
          "name": "stdout",
          "text": [
            "3\n",
            "15\n",
            "15\n",
            "15\n",
            "1\n"
          ]
        }
      ]
    },
    {
      "cell_type": "markdown",
      "source": [
        "## [C - Otoshidama](https://atcoder.jp/contests/abc085/tasks/abc085_c)"
      ],
      "metadata": {
        "id": "tDt48QpS2k7v"
      }
    },
    {
      "cell_type": "code",
      "source": [
        "N, Y = map(int, input().split())\n",
        "for a in range(N + 1):\n",
        "    for b in range(N + 1):\n",
        "        c = N - a - b\n",
        "        if c < 0: continue\n",
        "        if 10000 * a + 5000 * b + 1000 * c == Y:\n",
        "            print(a, b, c)\n",
        "            exit()\n",
        "print(\"-1 -1 -1\")"
      ],
      "metadata": {
        "colab": {
          "base_uri": "https://localhost:8080/"
        },
        "id": "yetucNo_2hFq",
        "outputId": "c7c90b8b-5c3b-44a0-8560-a0db2b20c30f"
      },
      "execution_count": null,
      "outputs": [
        {
          "output_type": "stream",
          "name": "stdout",
          "text": [
            "9 45000\n",
            "0 9 0\n",
            "4 0 5\n",
            "-1 -1 -1\n"
          ]
        }
      ]
    },
    {
      "cell_type": "markdown",
      "source": [
        "## [D - Katana Thrower](https://atcoder.jp/contests/abc085/tasks/abc085_d)"
      ],
      "metadata": {
        "id": "bTt5I3tY3-m_"
      }
    },
    {
      "cell_type": "markdown",
      "source": [
        "maxaより小さい a の刀は投げてしまって良い\n",
        "\n",
        "そのbの値がaより小さいモノは捨ててしまって良い"
      ],
      "metadata": {
        "id": "x2UtUZmwBrUZ"
      }
    },
    {
      "cell_type": "code",
      "source": [
        "N, H = map(int, input().split())\n",
        "katana = []\n",
        "for _ in range(N):\n",
        "    a, b = map(int, input().split())\n",
        "    katana.append([a, b])"
      ],
      "metadata": {
        "id": "0oi87MD33FVB"
      },
      "execution_count": null,
      "outputs": []
    },
    {
      "cell_type": "code",
      "source": [
        "maxa = max(a for a, b in katana)"
      ],
      "metadata": {
        "id": "xM8UqS4D5QpO"
      },
      "execution_count": null,
      "outputs": []
    },
    {
      "cell_type": "code",
      "source": [
        "sort_katana = sorted(katana, reverse=True, key=lambda x:(x[1], x[0]))\n",
        "cnt = 0\n",
        "damage = 0\n",
        "for a, b in sort_katana:\n",
        "    if damage >= H:\n",
        "        print(cnt)\n",
        "        exit()\n",
        "    if b > maxa:\n",
        "        damage += b\n",
        "        cnt += 1"
      ],
      "metadata": {
        "id": "AYt0xBBB6Ued"
      },
      "execution_count": null,
      "outputs": []
    },
    {
      "cell_type": "code",
      "source": [
        "res = H - damage\n",
        "cnt += -int(-res//maxa)\n",
        "print(cnt)"
      ],
      "metadata": {
        "id": "6NuP8k69Buo_"
      },
      "execution_count": null,
      "outputs": []
    }
  ]
}