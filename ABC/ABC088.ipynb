{
  "nbformat": 4,
  "nbformat_minor": 0,
  "metadata": {
    "colab": {
      "name": "ABC088.ipynb",
      "provenance": [],
      "collapsed_sections": [],
      "authorship_tag": "ABX9TyPJSQsQAPkeR0OGK5ImJ05o",
      "include_colab_link": true
    },
    "kernelspec": {
      "name": "python3",
      "display_name": "Python 3"
    },
    "language_info": {
      "name": "python"
    }
  },
  "cells": [
    {
      "cell_type": "markdown",
      "metadata": {
        "id": "view-in-github",
        "colab_type": "text"
      },
      "source": [
        "<a href=\"https://colab.research.google.com/github/Hidestament/AtCoder/blob/main/ABC/ABC088.ipynb\" target=\"_parent\"><img src=\"https://colab.research.google.com/assets/colab-badge.svg\" alt=\"Open In Colab\"/></a>"
      ]
    },
    {
      "cell_type": "markdown",
      "source": [
        "# [AtCoder Beginner Contest 088](https://atcoder.jp/contests/abc088)"
      ],
      "metadata": {
        "id": "LDARYnHNzZ1g"
      }
    },
    {
      "cell_type": "markdown",
      "source": [
        "## [A - Infinite Coins](https://atcoder.jp/contests/abc088/tasks/abc088_a)"
      ],
      "metadata": {
        "id": "DU-8xY3YzdIl"
      }
    },
    {
      "cell_type": "code",
      "execution_count": null,
      "metadata": {
        "id": "0XYoLWHEzVwV"
      },
      "outputs": [],
      "source": [
        "N = int(input())\n",
        "A = int(input())\n",
        "res = N % 500\n",
        "print(\"Yes\" if res <= A else \"No\")"
      ]
    },
    {
      "cell_type": "markdown",
      "source": [
        "## [B - Card Game for Two](https://atcoder.jp/contests/abc088/tasks/abc088_b)"
      ],
      "metadata": {
        "id": "fWAjnZgSzqZ4"
      }
    },
    {
      "cell_type": "code",
      "source": [
        "from collections import deque\n",
        "N = int(input())\n",
        "A = sorted(list(map(int, input().split())), reverse=True)\n",
        "alice = sum(A[::2])\n",
        "bob = sum(A[1::2])"
      ],
      "metadata": {
        "colab": {
          "base_uri": "https://localhost:8080/"
        },
        "id": "VAnDoC8EzstO",
        "outputId": "eddf139a-09ea-4d6d-e910-2ca3eaa94708"
      },
      "execution_count": null,
      "outputs": [
        {
          "name": "stdout",
          "output_type": "stream",
          "text": [
            "4\n",
            "20 18 2 18\n"
          ]
        }
      ]
    },
    {
      "cell_type": "code",
      "source": [
        "print(alice - bob)"
      ],
      "metadata": {
        "colab": {
          "base_uri": "https://localhost:8080/"
        },
        "id": "MG3s0wcRzvOt",
        "outputId": "3fd4ecf9-4c1c-4e63-8a8f-8e0e052a1b17"
      },
      "execution_count": null,
      "outputs": [
        {
          "output_type": "stream",
          "name": "stdout",
          "text": [
            "18\n"
          ]
        }
      ]
    },
    {
      "cell_type": "markdown",
      "source": [
        "## [C - Takahashi's Information](https://atcoder.jp/contests/abc088/tasks/abc088_c)"
      ],
      "metadata": {
        "id": "HPDNNSpRzvJ-"
      }
    },
    {
      "cell_type": "markdown",
      "source": [
        "### 解1\n",
        "差分に注目する"
      ],
      "metadata": {
        "id": "aNrURXa09MJ6"
      }
    },
    {
      "cell_type": "code",
      "source": [
        "C = [list(map(int, input().split())) for _ in range(3)]\n",
        "flag = True"
      ],
      "metadata": {
        "colab": {
          "base_uri": "https://localhost:8080/"
        },
        "id": "lxYrbjqM0Qk2",
        "outputId": "b4b992b4-00f6-40ef-ed80-06bd693d3fa5"
      },
      "execution_count": null,
      "outputs": [
        {
          "name": "stdout",
          "output_type": "stream",
          "text": [
            "0 8 8\n",
            "0 8 8\n",
            "0 8 8\n"
          ]
        }
      ]
    },
    {
      "cell_type": "code",
      "source": [
        "for h in range(3):\n",
        "    diff = C[(h+1)%3][0] - C[h][0]\n",
        "    if any(C[(h+1)%3][w] - C[h][w] != diff for w in range(3)):\n",
        "        flag = False\n",
        "for w in range(3):\n",
        "    diff = C[0][(w+1)%3] - C[0][w]\n",
        "    if any(C[h][(w+1)%3] - C[h][w] != diff for h in range(3)):\n",
        "        flag = False"
      ],
      "metadata": {
        "colab": {
          "base_uri": "https://localhost:8080/"
        },
        "id": "edQLnW5K1B5l",
        "outputId": "53a7d925-298e-407f-dc94-0880696ad2f4"
      },
      "execution_count": null,
      "outputs": [
        {
          "output_type": "stream",
          "name": "stdout",
          "text": [
            "No\n",
            "No\n"
          ]
        }
      ]
    },
    {
      "cell_type": "code",
      "source": [
        "print(\"Yes\" if flag else \"No\")"
      ],
      "metadata": {
        "id": "B4AeQ9ju2Rhr"
      },
      "execution_count": null,
      "outputs": []
    },
    {
      "cell_type": "markdown",
      "source": [
        "### 別解\n",
        "a1 = 0 としてしまう"
      ],
      "metadata": {
        "id": "Xw9fRIzx8e0m"
      }
    },
    {
      "cell_type": "code",
      "source": [
        "C = [list(map(int, input().split())) for _ in range(3)]"
      ],
      "metadata": {
        "id": "_wXVU8Yj8fWF"
      },
      "execution_count": null,
      "outputs": []
    },
    {
      "cell_type": "code",
      "source": [
        "a1 = 0\n",
        "b1 = C[0][0]\n",
        "b2 = C[0][1]\n",
        "b3 = C[0][2]\n",
        "a2 = C[1][0] - b1\n",
        "a3 = C[2][0] - b1\n",
        "\n",
        "a = [a1, a2, a3]\n",
        "b = [b1, b2, b3]"
      ],
      "metadata": {
        "id": "4o1tiF3Z8fTa"
      },
      "execution_count": null,
      "outputs": []
    },
    {
      "cell_type": "code",
      "source": [
        "if all(C[h][w] == a[h] + b[w] for h in range(3) for w in range(3)):\n",
        "    print(\"Yes\")\n",
        "else:\n",
        "    print(\"No\")"
      ],
      "metadata": {
        "id": "anFwaS0G8fQM"
      },
      "execution_count": null,
      "outputs": []
    },
    {
      "cell_type": "markdown",
      "source": [
        "## [D - Grid Repainting](https://atcoder.jp/contests/abc088/tasks/abc088_d)"
      ],
      "metadata": {
        "id": "iNGTT4fx4aom"
      }
    },
    {
      "cell_type": "code",
      "source": [
        "H, W = map(int, input().split())\n",
        "grid = [\"#\" * (W+2)]\n",
        "for _ in range(H):\n",
        "    s = input()\n",
        "    s = \"#\" + s + \"#\"\n",
        "    grid.append(s)\n",
        "grid.append(\"#\" * (W + 2))"
      ],
      "metadata": {
        "colab": {
          "base_uri": "https://localhost:8080/"
        },
        "id": "Jpdp_Pqj4c_x",
        "outputId": "7b39ac54-3ba3-4d78-bfed-33f539688db4"
      },
      "execution_count": null,
      "outputs": [
        {
          "name": "stdout",
          "output_type": "stream",
          "text": [
            "3 3\n",
            "..#\n",
            "#..\n",
            "...\n"
          ]
        }
      ]
    },
    {
      "cell_type": "code",
      "source": [
        "from collections import deque\n",
        "def dfs():\n",
        "    dq = deque()\n",
        "    dist = [[-1] * (W+2) for _ in range(H+2)]\n",
        "    dq.append([1, 1])\n",
        "    dx = [1, 0, -1, 0]\n",
        "    dy = [0, 1, 0, -1]\n",
        "    dist[1][1] = 0\n",
        "\n",
        "    while dq:\n",
        "        h, w = dq.popleft()\n",
        "        for x, y in zip(dx, dy):\n",
        "            nh = h + x\n",
        "            nw = w + y\n",
        "            if grid[nh][nw] == \"#\":\n",
        "                continue\n",
        "            if dist[nh][nw] == -1:\n",
        "                dist[nh][nw] = dist[h][w] + 1\n",
        "                dq.append([nh, nw])\n",
        "    return dist"
      ],
      "metadata": {
        "id": "HeKPmpvk5-MD"
      },
      "execution_count": null,
      "outputs": []
    },
    {
      "cell_type": "code",
      "source": [
        "d = dfs()"
      ],
      "metadata": {
        "id": "zQ2YttNn6o3n"
      },
      "execution_count": null,
      "outputs": []
    },
    {
      "cell_type": "code",
      "source": [
        "if d[H][W] == -1:\n",
        "    print(-1)\n",
        "else:\n",
        "    cnt = 0\n",
        "    for h in range(H+2):\n",
        "        for w in range(W+2):\n",
        "            if grid[h][w] == \".\":\n",
        "                cnt += 1\n",
        "    print(cnt - d[H][W] - 1)"
      ],
      "metadata": {
        "colab": {
          "base_uri": "https://localhost:8080/"
        },
        "id": "5DGacGlt6rhT",
        "outputId": "347b0604-f1c3-4cd0-afb3-e9b4c788ce60"
      },
      "execution_count": null,
      "outputs": [
        {
          "output_type": "stream",
          "name": "stdout",
          "text": [
            "2\n"
          ]
        }
      ]
    }
  ]
}