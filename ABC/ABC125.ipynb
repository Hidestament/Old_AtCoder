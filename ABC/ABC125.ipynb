{
  "nbformat": 4,
  "nbformat_minor": 0,
  "metadata": {
    "colab": {
      "name": "ABC125.ipynb",
      "provenance": [],
      "collapsed_sections": [],
      "authorship_tag": "ABX9TyOxf0LoOeBCquigLZDPssIe",
      "include_colab_link": true
    },
    "kernelspec": {
      "name": "python3",
      "display_name": "Python 3"
    },
    "language_info": {
      "name": "python"
    }
  },
  "cells": [
    {
      "cell_type": "markdown",
      "metadata": {
        "id": "view-in-github",
        "colab_type": "text"
      },
      "source": [
        "<a href=\"https://colab.research.google.com/github/Hidestament/AtCoder/blob/main/ABC/ABC125.ipynb\" target=\"_parent\"><img src=\"https://colab.research.google.com/assets/colab-badge.svg\" alt=\"Open In Colab\"/></a>"
      ]
    },
    {
      "cell_type": "markdown",
      "metadata": {
        "id": "_qsZ5LT2hxKQ"
      },
      "source": [
        "# [AtCoder Beginner Contest 125](https://atcoder.jp/contests/abc125)"
      ]
    },
    {
      "cell_type": "markdown",
      "metadata": {
        "id": "Ud3FO_05hzk-"
      },
      "source": [
        "## [A - Biscuit Generator](https://atcoder.jp/contests/abc125/tasks/abc125_a)"
      ]
    },
    {
      "cell_type": "code",
      "metadata": {
        "id": "bJ93WW8KhuTX"
      },
      "source": [
        "A, B, T = map(int, input().split())\n",
        "print(B * (T // A))"
      ],
      "execution_count": null,
      "outputs": []
    },
    {
      "cell_type": "markdown",
      "metadata": {
        "id": "xqxGXOCpiGLC"
      },
      "source": [
        "## [B - Resale](https://atcoder.jp/contests/abc125/tasks/abc125_b)"
      ]
    },
    {
      "cell_type": "code",
      "metadata": {
        "id": "2RVzXjnTiIl8"
      },
      "source": [
        "N = int(input())\n",
        "V = list(map(int, input().split()))\n",
        "C = list(map(int, input().split()))\n",
        "\n",
        "ans = sum(V[i] - C[i] for i in range(N) if V[i] > C[i])\n",
        "print(ans)"
      ],
      "execution_count": null,
      "outputs": []
    },
    {
      "cell_type": "markdown",
      "metadata": {
        "id": "QPFPAonNiys_"
      },
      "source": [
        "## [C - GCD on Blackboard](https://atcoder.jp/contests/abc125/tasks/abc125_c)"
      ]
    },
    {
      "cell_type": "code",
      "source": [
        "from math import gcd\n",
        "N = int(input())\n",
        "A = list(map(int, input().split()))"
      ],
      "metadata": {
        "colab": {
          "base_uri": "https://localhost:8080/"
        },
        "id": "AjF4YsivGeyz",
        "outputId": "1d704da5-fcae-4966-c51c-77c146c79b32"
      },
      "execution_count": 5,
      "outputs": [
        {
          "name": "stdout",
          "output_type": "stream",
          "text": [
            "3\n",
            "12 15 18\n"
          ]
        }
      ]
    },
    {
      "cell_type": "code",
      "source": [
        "Lgcd = [0] * (N + 1)\n",
        "Rgcd = [0] * (N + 1)"
      ],
      "metadata": {
        "id": "p9FmulbLGewc"
      },
      "execution_count": 6,
      "outputs": []
    },
    {
      "cell_type": "code",
      "source": [
        "for i in range(1, N+1):\n",
        "    Lgcd[i] = gcd(Lgcd[i-1], A[i-1])\n",
        "    Rgcd[i] = gcd(Rgcd[i-1], A[N-i])"
      ],
      "metadata": {
        "id": "Fau77JU4Getf"
      },
      "execution_count": 7,
      "outputs": []
    },
    {
      "cell_type": "code",
      "source": [
        "ans = 0\n",
        "for i in range(N):\n",
        "    ans = max(ans, gcd(Lgcd[i], Rgcd[N-i-1]))\n",
        "print(ans)"
      ],
      "metadata": {
        "colab": {
          "base_uri": "https://localhost:8080/"
        },
        "id": "53KxTBGNGefM",
        "outputId": "0b14e5b2-19d5-4868-f52d-5ae14ed4dc70"
      },
      "execution_count": 12,
      "outputs": [
        {
          "output_type": "stream",
          "name": "stdout",
          "text": [
            "6\n"
          ]
        }
      ]
    },
    {
      "cell_type": "markdown",
      "metadata": {
        "id": "2nw_4lp6l3lX"
      },
      "source": [
        "## [D - Flipping Signs](https://atcoder.jp/contests/abc125/tasks/abc125_d)"
      ]
    },
    {
      "cell_type": "code",
      "source": [
        "N = int(input())\n",
        "A = list(map(int, input().split()))\n",
        "negative_cnt = 0\n",
        "for i in range(N):\n",
        "    if A[i] < 0:\n",
        "        negative_cnt += 1\n",
        "        A[i] *= -1\n",
        "\n",
        "if negative_cnt % 2 == 0:\n",
        "    print(sum(A))\n",
        "else:\n",
        "    print(sum(A) - 2 * min(A))"
      ],
      "metadata": {
        "id": "sS8qcrUwcbw8"
      },
      "execution_count": null,
      "outputs": []
    },
    {
      "cell_type": "markdown",
      "source": [
        "ちょっとpythonっぽく書くと"
      ],
      "metadata": {
        "id": "H4YCsmFQcbms"
      }
    },
    {
      "cell_type": "code",
      "metadata": {
        "colab": {
          "base_uri": "https://localhost:8080/"
        },
        "id": "FRtgytRel7kL",
        "outputId": "4c3af948-fe2c-4947-8c62-c7d1efe3ad2e"
      },
      "source": [
        "N = int(input())\n",
        "A = list(map(int, input().split()))"
      ],
      "execution_count": null,
      "outputs": [
        {
          "name": "stdout",
          "output_type": "stream",
          "text": [
            "5\n",
            "10 -4 -8 -11 3\n"
          ]
        }
      ]
    },
    {
      "cell_type": "code",
      "source": [
        "negative = sum(1 for i in range(N) if A[i] < 0)\n",
        "s = sum(abs(A[i]) for i in range(N))\n",
        "print(s if negative % 2 == 0 else s - 2 * min(abs(A[i]) for i in range(N)))"
      ],
      "metadata": {
        "id": "iHyXQnSFb8Oa"
      },
      "execution_count": null,
      "outputs": []
    }
  ]
}