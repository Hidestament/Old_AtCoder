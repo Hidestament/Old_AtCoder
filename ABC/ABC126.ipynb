{
  "nbformat": 4,
  "nbformat_minor": 0,
  "metadata": {
    "colab": {
      "name": "ABC126.ipynb",
      "provenance": [],
      "authorship_tag": "ABX9TyNzJtoNXC/bzyXfS0qp8nIC",
      "include_colab_link": true
    },
    "kernelspec": {
      "name": "python3",
      "display_name": "Python 3"
    },
    "language_info": {
      "name": "python"
    }
  },
  "cells": [
    {
      "cell_type": "markdown",
      "metadata": {
        "id": "view-in-github",
        "colab_type": "text"
      },
      "source": [
        "<a href=\"https://colab.research.google.com/github/Hidestament/AtCoder/blob/main/ABC/ABC126.ipynb\" target=\"_parent\"><img src=\"https://colab.research.google.com/assets/colab-badge.svg\" alt=\"Open In Colab\"/></a>"
      ]
    },
    {
      "cell_type": "markdown",
      "metadata": {
        "id": "sHsEn9QAn1fp"
      },
      "source": [
        "# [ABC126](https://atcoder.jp/contests/abc126)"
      ]
    },
    {
      "cell_type": "markdown",
      "metadata": {
        "id": "CkjFNJBRn4tn"
      },
      "source": [
        "## [A - Changing a Character](https://atcoder.jp/contests/abc126/tasks/abc126_a)"
      ]
    },
    {
      "cell_type": "code",
      "metadata": {
        "colab": {
          "base_uri": "https://localhost:8080/"
        },
        "id": "FqWkp2F4n8Ih",
        "outputId": "cd1cc78e-918f-4661-b52a-851f9061d64c"
      },
      "source": [
        "n, k = map(int, input().split())\n",
        "s = list(input())\n",
        "s[k-1] = s[k-1].lower()\n",
        "print(\"\".join(s))"
      ],
      "execution_count": null,
      "outputs": [
        {
          "output_type": "stream",
          "name": "stdout",
          "text": [
            "3 1\n",
            "ABC\n",
            "aBC\n"
          ]
        }
      ]
    },
    {
      "cell_type": "markdown",
      "metadata": {
        "id": "5lkd3_g8oh5I"
      },
      "source": [
        "## [B - YYMM or MMYY](https://atcoder.jp/contests/abc126/tasks/abc126_b)"
      ]
    },
    {
      "cell_type": "code",
      "metadata": {
        "colab": {
          "base_uri": "https://localhost:8080/"
        },
        "id": "Q-DxJL-5oFUm",
        "outputId": "fd8cf6f4-2a7a-4c1e-a73c-50db6b39edc9"
      },
      "source": [
        "s = str(input())\n",
        "bef = int(s[:2])\n",
        "af = int(s[2:])\n",
        "\n",
        "if (1 <= bef <= 12) and (1 <= af <= 12): print(\"AMBIGUOUS\")\n",
        "elif (1 <= bef <= 12): print(\"MMYY\")\n",
        "elif (1 <= af <= 12): print(\"YYMM\")\n",
        "else: print(\"NA\")"
      ],
      "execution_count": null,
      "outputs": [
        {
          "output_type": "stream",
          "name": "stdout",
          "text": [
            "1700\n",
            "NA\n"
          ]
        }
      ]
    },
    {
      "cell_type": "markdown",
      "metadata": {
        "id": "tiCRDlKppbL0"
      },
      "source": [
        "## [C - Dice and Coin](https://atcoder.jp/contests/abc126/tasks/abc126_c)"
      ]
    },
    {
      "cell_type": "code",
      "metadata": {
        "colab": {
          "base_uri": "https://localhost:8080/"
        },
        "id": "HmRF3zuUoSCz",
        "outputId": "a7952f43-e12a-45da-fc02-f616c7a22e73"
      },
      "source": [
        "from math import log2, ceil\n",
        "n, k = map(int, input().split())\n",
        "ans = 0\n",
        "for i in range(1, n+1):\n",
        "    if i >= k:\n",
        "        ans += 1 / n\n",
        "    else:\n",
        "        ans += (1/n) * pow(1/2, ceil(log2(k/i)))\n",
        "print(ans)"
      ],
      "execution_count": null,
      "outputs": [
        {
          "output_type": "stream",
          "name": "stdout",
          "text": [
            "100000 5\n",
            "0.9999737499980839\n"
          ]
        }
      ]
    },
    {
      "cell_type": "markdown",
      "metadata": {
        "id": "pnwmoHxQrqlc"
      },
      "source": [
        "## [D - Even Relation](https://atcoder.jp/contests/abc126/tasks/abc126_d)"
      ]
    },
    {
      "cell_type": "markdown",
      "metadata": {
        "id": "GoLC98V43AZl"
      },
      "source": [
        "親 - 子 の距離が偶数なら同じ色で塗る. これをBFS or DFSで繰り返していけば良い. 親 - 子 の距離の偶奇性は子孫まで引き継がれる."
      ]
    },
    {
      "cell_type": "code",
      "metadata": {
        "colab": {
          "base_uri": "https://localhost:8080/"
        },
        "id": "iBGxic9srYBM",
        "outputId": "df87eb6d-1b2d-4710-d6bc-99297103ddba"
      },
      "source": [
        "n = int(input())\n",
        "graph = [[] for _ in range(n)]\n",
        "for _ in range(n-1):\n",
        "    u, v, w = map(int, input().split())\n",
        "    graph[u-1].append((v-1, w))\n",
        "    graph[v-1].append((u-1, w))"
      ],
      "execution_count": null,
      "outputs": [
        {
          "name": "stdout",
          "output_type": "stream",
          "text": [
            "5\n",
            "2 5 2\n",
            "2 3 10\n",
            "1 3 8\n",
            "3 4 2\n"
          ]
        }
      ]
    },
    {
      "cell_type": "code",
      "metadata": {
        "id": "R-0ewSZKuNah"
      },
      "source": [
        "from collections import deque\n",
        "def bfs(s, n):\n",
        "    colors = [-1] * n\n",
        "    colors[s] = 0\n",
        "    dq = deque([s])\n",
        "    while dq:\n",
        "        now = dq.popleft()\n",
        "        for to, w in graph[now]:\n",
        "            if colors[to] == -1:\n",
        "                if w % 2 == 0:\n",
        "                    colors[to] = colors[now]\n",
        "                else:\n",
        "                    colors[to] = 1 - colors[now]\n",
        "                dq.append(to)\n",
        "    return colors"
      ],
      "execution_count": null,
      "outputs": []
    },
    {
      "cell_type": "code",
      "metadata": {
        "colab": {
          "base_uri": "https://localhost:8080/"
        },
        "id": "JqVUAD6Ivi2J",
        "outputId": "93975aca-0e0a-4edb-9ad7-40dae16513e0"
      },
      "source": [
        "color = bfs(0, n)\n",
        "for c in color:\n",
        "    print(c)"
      ],
      "execution_count": null,
      "outputs": [
        {
          "output_type": "execute_result",
          "data": {
            "text/plain": [
              "[0, 0, 0, 0, 0]"
            ]
          },
          "metadata": {},
          "execution_count": 33
        }
      ]
    },
    {
      "cell_type": "markdown",
      "metadata": {
        "id": "MWcEWbc-wm2m"
      },
      "source": [
        "## [E - 1 or 2](https://atcoder.jp/contests/abc126/tasks/abc126_e)"
      ]
    },
    {
      "cell_type": "markdown",
      "metadata": {
        "id": "9r3o2aVj3UoO"
      },
      "source": [
        "Ax + Ay + Zより, Ax or Ayのどちらかの値を知ることができればAxとAyの両方の値を得ることができる.\n",
        "\n",
        "よって, 各Aを頂点, (x, y)を辺と考えた無向グラフにおいて連結成分を求めれば良い.\n",
        "\n",
        "なぜなら連結成分の中の値が1つでもわかれば連鎖的にその連結成分全ての値を知ることができる.\n",
        "\n",
        "UnionFindを使えばOK"
      ]
    },
    {
      "cell_type": "code",
      "metadata": {
        "id": "4OtVqFMcvlde"
      },
      "source": [
        "class UnionFindTree:\n",
        "    def __init__(self, n):\n",
        "        self.parents = [-1] * n\n",
        "  \n",
        "    def find(self, x):\n",
        "        if self.parents[x] < 0:\n",
        "            return x\n",
        "        else:\n",
        "            self.parents[x] = self.find(self.parents[x])\n",
        "            return self.find(self.parents[x])\n",
        "  \n",
        "    def union(self, x, y):\n",
        "        x = self.find(x)\n",
        "        y = self.find(y)\n",
        "        if x == y: return    \n",
        "        if self.parents[x] > self.parents[y]:\n",
        "            x, y = y, x\n",
        "        self.parents[x] += self.parents[y]\n",
        "        self.parents[y] = x\n",
        "\n",
        "    def same_check(self, x, y):\n",
        "        return self.find(x) == self.find(y)\n",
        "\n",
        "    def size(self, x):\n",
        "        return -1 * self.parents[self.find(x)]"
      ],
      "execution_count": null,
      "outputs": []
    },
    {
      "cell_type": "code",
      "metadata": {
        "colab": {
          "base_uri": "https://localhost:8080/"
        },
        "id": "7OzOH0pOwWaU",
        "outputId": "7603e59c-5617-47fb-c660-c2afaf7404f2"
      },
      "source": [
        "n, m = map(int, input().split())\n",
        "uft = UnionFindTree(n)\n",
        "for _ in range(m):\n",
        "    x, y, z = map(int, input().split())\n",
        "    x -= 1\n",
        "    y -= 1\n",
        "    uft.union(x, y)"
      ],
      "execution_count": null,
      "outputs": [
        {
          "name": "stdout",
          "output_type": "stream",
          "text": [
            "3 1\n",
            "1 2 1\n"
          ]
        }
      ]
    },
    {
      "cell_type": "code",
      "metadata": {
        "colab": {
          "base_uri": "https://localhost:8080/"
        },
        "id": "SOZwdGSd0JIZ",
        "outputId": "3e8336cf-4a7b-4b9d-a8a9-a52208625735"
      },
      "source": [
        "cnt = 0\n",
        "for i in uft.parents:\n",
        "    if i < 0:\n",
        "        cnt += 1\n",
        "print(cnt)"
      ],
      "execution_count": null,
      "outputs": [
        {
          "output_type": "stream",
          "name": "stdout",
          "text": [
            "2\n"
          ]
        }
      ]
    }
  ]
}