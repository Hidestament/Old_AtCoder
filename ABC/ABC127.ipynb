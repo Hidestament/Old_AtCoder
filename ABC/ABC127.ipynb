{
  "nbformat": 4,
  "nbformat_minor": 0,
  "metadata": {
    "colab": {
      "name": "ABC127.ipynb",
      "provenance": [],
      "authorship_tag": "ABX9TyMYqqK22+rLIFzceq8fZ5GF",
      "include_colab_link": true
    },
    "kernelspec": {
      "name": "python3",
      "display_name": "Python 3"
    },
    "language_info": {
      "name": "python"
    }
  },
  "cells": [
    {
      "cell_type": "markdown",
      "metadata": {
        "id": "view-in-github",
        "colab_type": "text"
      },
      "source": [
        "<a href=\"https://colab.research.google.com/github/Hidestament/AtCoder/blob/main/ABC/ABC127.ipynb\" target=\"_parent\"><img src=\"https://colab.research.google.com/assets/colab-badge.svg\" alt=\"Open In Colab\"/></a>"
      ]
    },
    {
      "cell_type": "markdown",
      "metadata": {
        "id": "8Hthuv-9_t_m"
      },
      "source": [
        "# [ABC127](https://atcoder.jp/contests/abc127)"
      ]
    },
    {
      "cell_type": "markdown",
      "metadata": {
        "id": "6N4j8O9Q_wf0"
      },
      "source": [
        "## [A - Ferris Wheel](https://atcoder.jp/contests/abc127/tasks/abc127_a)"
      ]
    },
    {
      "cell_type": "code",
      "metadata": {
        "id": "izipMZJX_ouB"
      },
      "source": [
        "a, b = map(int, input().split())\n",
        "if 6 <= a <= 12: print(b // 2)\n",
        "elif 13 <= a: print(b)\n",
        "else: print(0)"
      ],
      "execution_count": null,
      "outputs": []
    },
    {
      "cell_type": "markdown",
      "metadata": {
        "id": "DGzSeCAFAFO4"
      },
      "source": [
        "## [B - Algae](https://atcoder.jp/contests/abc127/tasks/abc127_b)"
      ]
    },
    {
      "cell_type": "code",
      "metadata": {
        "colab": {
          "base_uri": "https://localhost:8080/"
        },
        "id": "TpeKhgl4AJkl",
        "outputId": "fbe7f032-0153-4905-9d76-bdf5ff1b224e"
      },
      "source": [
        "r, d, x = map(int, input().split())\n",
        "for i in range(10):\n",
        "    x = r * x - d\n",
        "    print(x)"
      ],
      "execution_count": null,
      "outputs": [
        {
          "output_type": "stream",
          "name": "stdout",
          "text": [
            "2 10 20\n",
            "30\n",
            "50\n",
            "90\n",
            "170\n",
            "330\n",
            "650\n",
            "1290\n",
            "2570\n",
            "5130\n",
            "10250\n"
          ]
        }
      ]
    },
    {
      "cell_type": "markdown",
      "metadata": {
        "id": "xXEH0mY9AgHS"
      },
      "source": [
        "## [C - Prison](https://atcoder.jp/contests/abc127/tasks/abc127_c)"
      ]
    },
    {
      "cell_type": "markdown",
      "metadata": {
        "id": "UeNH-4Jn8LDx"
      },
      "source": [
        "いもす法でやればOK"
      ]
    },
    {
      "cell_type": "code",
      "metadata": {
        "colab": {
          "base_uri": "https://localhost:8080/"
        },
        "id": "xNm5UBtDAbKC",
        "outputId": "9dfebb6b-80f1-413f-e464-0d58b37ca7f8"
      },
      "source": [
        "from itertools import accumulate\n",
        "n, m = map(int, input().split())\n",
        "cards = [0 for _ in range(n+1)]\n",
        "for _ in range(m):\n",
        "    l, r = map(int, input().split())\n",
        "    cards[l-1] += 1\n",
        "    cards[r] -= 1\n",
        "ans = list(accumulate(cards))\n",
        "print(ans.count(m))"
      ],
      "execution_count": null,
      "outputs": [
        {
          "output_type": "stream",
          "name": "stdout",
          "text": [
            "4 2\n",
            "1 3\n",
            "2 4\n",
            "2\n"
          ]
        }
      ]
    },
    {
      "cell_type": "markdown",
      "metadata": {
        "id": "I2rE97aKUzTM"
      },
      "source": [
        "## [D - Integer Cards](https://atcoder.jp/contests/abc127/tasks/abc127_d)"
      ]
    },
    {
      "cell_type": "markdown",
      "metadata": {
        "id": "wOEz2dRv8MuD"
      },
      "source": [
        "カードの書き換えは大変なので行わない. そこで元のカードに書き換え可能なカード(B, C)を追加していき, 最後にソートし上からN個のカードを最終的なカードとすれば良い.\n",
        "\n",
        "\n",
        "どのカードが何枚あるかはラングレンス圧縮のような形（辞書）で記録していき計算量を小さくしている."
      ]
    },
    {
      "cell_type": "code",
      "metadata": {
        "colab": {
          "base_uri": "https://localhost:8080/"
        },
        "id": "zF7IEkwQvzQq",
        "outputId": "b62d5250-29a0-4103-a4a3-e3b6c16f3d7a"
      },
      "source": [
        "from collections import defaultdict\n",
        "n, m = map(int, input().split())\n",
        "a = list(map(int, input().split()))\n",
        "cnt = defaultdict(int)\n",
        "for i in a:\n",
        "    cnt[i] += 1\n",
        "for _ in range(m):\n",
        "    b, c = map(int, input().split())\n",
        "    cnt[c] += b"
      ],
      "execution_count": null,
      "outputs": [
        {
          "name": "stdout",
          "output_type": "stream",
          "text": [
            "10 3\n",
            "1 88 5 7 100 4 52 33 13 5\n",
            "3 10\n",
            "4 30\n",
            "1 4\n"
          ]
        }
      ]
    },
    {
      "cell_type": "code",
      "metadata": {
        "id": "_tTi2q0mw5aL"
      },
      "source": [
        "ans = []\n",
        "for key, value in cnt.items():\n",
        "    ans.append((key, value))\n",
        "ans.sort(reverse=True, key=lambda x:x[0])"
      ],
      "execution_count": null,
      "outputs": []
    },
    {
      "cell_type": "code",
      "metadata": {
        "id": "rQ2lW55Kw88J"
      },
      "source": [
        "cnt = 0\n",
        "aaa = 0\n",
        "for value, num in ans:\n",
        "    if cnt + num < n:\n",
        "        aaa += (value * num)\n",
        "        cnt += num\n",
        "    else:\n",
        "        res = (n - cnt)\n",
        "        aaa += (value * res)\n",
        "        break\n",
        "print(aaa)"
      ],
      "execution_count": null,
      "outputs": []
    }
  ]
}