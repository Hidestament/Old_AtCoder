{
  "nbformat": 4,
  "nbformat_minor": 0,
  "metadata": {
    "colab": {
      "name": "ABC128.ipynb",
      "provenance": [],
      "authorship_tag": "ABX9TyO2OBg0oBhroMjRj7Wwn8Nq",
      "include_colab_link": true
    },
    "kernelspec": {
      "name": "python3",
      "display_name": "Python 3"
    },
    "language_info": {
      "name": "python"
    }
  },
  "cells": [
    {
      "cell_type": "markdown",
      "metadata": {
        "id": "view-in-github",
        "colab_type": "text"
      },
      "source": [
        "<a href=\"https://colab.research.google.com/github/Hidestament/AtCoder/blob/main/ABC/ABC128.ipynb\" target=\"_parent\"><img src=\"https://colab.research.google.com/assets/colab-badge.svg\" alt=\"Open In Colab\"/></a>"
      ]
    },
    {
      "cell_type": "markdown",
      "metadata": {
        "id": "8UwNKbk01r5d"
      },
      "source": [
        "# [ABC128](https://atcoder.jp/contests/abc128)"
      ]
    },
    {
      "cell_type": "markdown",
      "metadata": {
        "id": "GvMZo0hL1vEb"
      },
      "source": [
        "## [A - Apple Pie](https://atcoder.jp/contests/abc128/tasks/abc128_a)"
      ]
    },
    {
      "cell_type": "code",
      "metadata": {
        "colab": {
          "base_uri": "https://localhost:8080/"
        },
        "id": "motUHGyu1pvQ",
        "outputId": "c327f7c0-03d7-49a6-c2f1-097d75be4c3e"
      },
      "source": [
        "a, p = map(int, input().split())\n",
        "print(((3 * a) + p)//2)"
      ],
      "execution_count": 3,
      "outputs": [
        {
          "output_type": "stream",
          "name": "stdout",
          "text": [
            "32 21\n",
            "58\n"
          ]
        }
      ]
    },
    {
      "cell_type": "markdown",
      "metadata": {
        "id": "__LXvsLO2Bdu"
      },
      "source": [
        "## [B - Guidebook](https://atcoder.jp/contests/abc128/tasks/abc128_b)"
      ]
    },
    {
      "cell_type": "code",
      "metadata": {
        "colab": {
          "base_uri": "https://localhost:8080/"
        },
        "id": "XYLJkfx519V4",
        "outputId": "8e0849df-b61a-4894-cf20-b27e9f49f753"
      },
      "source": [
        "n = int(input())\n",
        "res = []\n",
        "for i in range(n):\n",
        "    s, p = input().split()\n",
        "    res.append([i, str(s), int(p)])\n",
        "res.sort(key=lambda x:(x[1], -1 * x[2]))"
      ],
      "execution_count": 5,
      "outputs": [
        {
          "name": "stdout",
          "output_type": "stream",
          "text": [
            "6\n",
            "khabarovsk 20\n",
            "moscow 10\n",
            "kazan 50\n",
            "kazan 35\n",
            "moscow 60\n",
            "khabarovsk 40\n"
          ]
        }
      ]
    },
    {
      "cell_type": "code",
      "metadata": {
        "colab": {
          "base_uri": "https://localhost:8080/"
        },
        "id": "JK6CpYTt2lAb",
        "outputId": "721b9296-77a5-4241-9cb3-dfbbd1305870"
      },
      "source": [
        "for i, _, _ in res:\n",
        "    print(i + 1)"
      ],
      "execution_count": 7,
      "outputs": [
        {
          "output_type": "stream",
          "name": "stdout",
          "text": [
            "3\n",
            "4\n",
            "6\n",
            "1\n",
            "5\n",
            "2\n"
          ]
        }
      ]
    },
    {
      "cell_type": "markdown",
      "metadata": {
        "id": "9I9e2Pz824-4"
      },
      "source": [
        "## [C - Switches](https://atcoder.jp/contests/abc128/tasks/abc128_c)"
      ]
    },
    {
      "cell_type": "markdown",
      "metadata": {
        "id": "CkzHgDrL-Hus"
      },
      "source": [
        "制約が小さいので全探索すれば良い"
      ]
    },
    {
      "cell_type": "code",
      "metadata": {
        "colab": {
          "base_uri": "https://localhost:8080/"
        },
        "id": "t9UBI4Qk2xme",
        "outputId": "f7a960fd-0514-4013-ba57-5f4aa6b9d05d"
      },
      "source": [
        "from itertools import product\n",
        "n, m = map(int, input().split())\n",
        "switches = [list(map(int, input().split())) for _ in range(m)]\n",
        "p = list(map(int, input().split()))"
      ],
      "execution_count": 8,
      "outputs": [
        {
          "name": "stdout",
          "output_type": "stream",
          "text": [
            "2 2\n",
            "2 1 2\n",
            "1 2\n",
            "0 1\n"
          ]
        }
      ]
    },
    {
      "cell_type": "code",
      "metadata": {
        "id": "F4LOgquf31wz"
      },
      "source": [
        "from itertools import product\n",
        "ans = 0\n",
        "for pat in product([0, 1], repeat=n):\n",
        "    cnt = 0\n",
        "    for j in range(m):\n",
        "        temp = 0\n",
        "        for sw in switches[j][1:]:\n",
        "            temp += pat[sw - 1]\n",
        "        if temp % 2 == p[j]: cnt += 1\n",
        "    if cnt == m: ans += 1 "
      ],
      "execution_count": 14,
      "outputs": []
    },
    {
      "cell_type": "code",
      "metadata": {
        "colab": {
          "base_uri": "https://localhost:8080/"
        },
        "id": "CJl-MMgr34kV",
        "outputId": "cfce2d94-e1ab-4b6b-9188-d79c6a4f2776"
      },
      "source": [
        "ans"
      ],
      "execution_count": 15,
      "outputs": [
        {
          "output_type": "execute_result",
          "data": {
            "text/plain": [
              "1"
            ]
          },
          "metadata": {},
          "execution_count": 15
        }
      ]
    },
    {
      "cell_type": "markdown",
      "metadata": {
        "id": "QyQZ1CBA6ekd"
      },
      "source": [
        "## [D - equeue](https://atcoder.jp/contests/abc128/tasks/abc128_d)"
      ]
    },
    {
      "cell_type": "markdown",
      "metadata": {
        "id": "W4pVwJ-3-Kt-"
      },
      "source": [
        "操作C, Dは最後に行っても答えに影響がないので最後に行う. すると, 操作AとBを何回行うか決める必要があるので, これを全探索する.\n",
        "\n",
        "最後に, 価値がマイナスである宝石を K - (A+B) 個まで捨てれば良い."
      ]
    },
    {
      "cell_type": "code",
      "metadata": {
        "colab": {
          "base_uri": "https://localhost:8080/"
        },
        "id": "KTbTTKRs5mOS",
        "outputId": "83e8cfcf-bada-4d6d-e01b-54625227f857"
      },
      "source": [
        "n, k = map(int, input().split())\n",
        "v = list(map(int, input().split()))\n",
        "rv = v[::-1]"
      ],
      "execution_count": 31,
      "outputs": [
        {
          "name": "stdout",
          "output_type": "stream",
          "text": [
            "1 1\n",
            "1\n"
          ]
        }
      ]
    },
    {
      "cell_type": "code",
      "metadata": {
        "colab": {
          "base_uri": "https://localhost:8080/"
        },
        "id": "18Pf7Fr4RUCo",
        "outputId": "8c539423-b19c-4857-f32a-7974f1fa3841"
      },
      "source": [
        "ans = 0\n",
        "for a in range(n+1):\n",
        "    for b in range(n+1):\n",
        "        if a + b <= min(n, k):\n",
        "            pos = [i for i in v[:a]+rv[:b] if i > 0]\n",
        "            neg = [i for i in v[:a]+rv[:b] if i < 0]\n",
        "            res = k - (a + b)\n",
        "            neg.sort()\n",
        "            neg = neg[res:]\n",
        "            temp = sum(pos) + sum(neg)\n",
        "            ans = max(ans, temp)\n",
        "print(ans)"
      ],
      "execution_count": 35,
      "outputs": [
        {
          "output_type": "stream",
          "name": "stdout",
          "text": [
            "(0, 0)\n",
            "(0, 1)\n",
            "(1, 0)\n",
            "1\n"
          ]
        }
      ]
    }
  ]
}