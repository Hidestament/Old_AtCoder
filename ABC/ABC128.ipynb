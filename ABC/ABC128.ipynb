{
  "nbformat": 4,
  "nbformat_minor": 0,
  "metadata": {
    "colab": {
      "name": "ABC128.ipynb",
      "provenance": [],
      "authorship_tag": "ABX9TyNdSzzdz+Vb28nPQfxtNugA",
      "include_colab_link": true
    },
    "kernelspec": {
      "name": "python3",
      "display_name": "Python 3"
    },
    "language_info": {
      "name": "python"
    }
  },
  "cells": [
    {
      "cell_type": "markdown",
      "metadata": {
        "id": "view-in-github",
        "colab_type": "text"
      },
      "source": [
        "<a href=\"https://colab.research.google.com/github/Hidestament/AtCoder/blob/main/ABC/ABC128.ipynb\" target=\"_parent\"><img src=\"https://colab.research.google.com/assets/colab-badge.svg\" alt=\"Open In Colab\"/></a>"
      ]
    },
    {
      "cell_type": "markdown",
      "metadata": {
        "id": "8UwNKbk01r5d"
      },
      "source": [
        "# [ABC128](https://atcoder.jp/contests/abc128)"
      ]
    },
    {
      "cell_type": "markdown",
      "metadata": {
        "id": "GvMZo0hL1vEb"
      },
      "source": [
        "## [A - Apple Pie](https://atcoder.jp/contests/abc128/tasks/abc128_a)"
      ]
    },
    {
      "cell_type": "code",
      "metadata": {
        "colab": {
          "base_uri": "https://localhost:8080/"
        },
        "id": "motUHGyu1pvQ",
        "outputId": "c327f7c0-03d7-49a6-c2f1-097d75be4c3e"
      },
      "source": [
        "a, p = map(int, input().split())\n",
        "print(((3 * a) + p)//2)"
      ],
      "execution_count": null,
      "outputs": [
        {
          "output_type": "stream",
          "name": "stdout",
          "text": [
            "32 21\n",
            "58\n"
          ]
        }
      ]
    },
    {
      "cell_type": "markdown",
      "metadata": {
        "id": "__LXvsLO2Bdu"
      },
      "source": [
        "## [B - Guidebook](https://atcoder.jp/contests/abc128/tasks/abc128_b)"
      ]
    },
    {
      "cell_type": "code",
      "metadata": {
        "colab": {
          "base_uri": "https://localhost:8080/"
        },
        "id": "XYLJkfx519V4",
        "outputId": "8e0849df-b61a-4894-cf20-b27e9f49f753"
      },
      "source": [
        "n = int(input())\n",
        "res = []\n",
        "for i in range(n):\n",
        "    s, p = input().split()\n",
        "    res.append([i, str(s), int(p)])\n",
        "res.sort(key=lambda x:(x[1], -1 * x[2]))"
      ],
      "execution_count": null,
      "outputs": [
        {
          "name": "stdout",
          "output_type": "stream",
          "text": [
            "6\n",
            "khabarovsk 20\n",
            "moscow 10\n",
            "kazan 50\n",
            "kazan 35\n",
            "moscow 60\n",
            "khabarovsk 40\n"
          ]
        }
      ]
    },
    {
      "cell_type": "code",
      "metadata": {
        "colab": {
          "base_uri": "https://localhost:8080/"
        },
        "id": "JK6CpYTt2lAb",
        "outputId": "721b9296-77a5-4241-9cb3-dfbbd1305870"
      },
      "source": [
        "for i, _, _ in res:\n",
        "    print(i + 1)"
      ],
      "execution_count": null,
      "outputs": [
        {
          "output_type": "stream",
          "name": "stdout",
          "text": [
            "3\n",
            "4\n",
            "6\n",
            "1\n",
            "5\n",
            "2\n"
          ]
        }
      ]
    },
    {
      "cell_type": "markdown",
      "metadata": {
        "id": "9I9e2Pz824-4"
      },
      "source": [
        "## [C - Switches](https://atcoder.jp/contests/abc128/tasks/abc128_c)"
      ]
    },
    {
      "cell_type": "markdown",
      "metadata": {
        "id": "CkzHgDrL-Hus"
      },
      "source": [
        "制約が小さいので全探索すれば良い"
      ]
    },
    {
      "cell_type": "code",
      "metadata": {
        "colab": {
          "base_uri": "https://localhost:8080/"
        },
        "id": "t9UBI4Qk2xme",
        "outputId": "f7a960fd-0514-4013-ba57-5f4aa6b9d05d"
      },
      "source": [
        "from itertools import product\n",
        "n, m = map(int, input().split())\n",
        "switches = [list(map(int, input().split())) for _ in range(m)]\n",
        "p = list(map(int, input().split()))"
      ],
      "execution_count": null,
      "outputs": [
        {
          "name": "stdout",
          "output_type": "stream",
          "text": [
            "2 2\n",
            "2 1 2\n",
            "1 2\n",
            "0 1\n"
          ]
        }
      ]
    },
    {
      "cell_type": "code",
      "metadata": {
        "id": "F4LOgquf31wz"
      },
      "source": [
        "from itertools import product\n",
        "ans = 0\n",
        "for pat in product([0, 1], repeat=n):\n",
        "    cnt = 0\n",
        "    for j in range(m):\n",
        "        temp = 0\n",
        "        for sw in switches[j][1:]:\n",
        "            temp += pat[sw - 1]\n",
        "        if temp % 2 == p[j]: cnt += 1\n",
        "    if cnt == m: ans += 1 "
      ],
      "execution_count": null,
      "outputs": []
    },
    {
      "cell_type": "code",
      "metadata": {
        "colab": {
          "base_uri": "https://localhost:8080/"
        },
        "id": "CJl-MMgr34kV",
        "outputId": "cfce2d94-e1ab-4b6b-9188-d79c6a4f2776"
      },
      "source": [
        "ans"
      ],
      "execution_count": null,
      "outputs": [
        {
          "output_type": "execute_result",
          "data": {
            "text/plain": [
              "1"
            ]
          },
          "metadata": {},
          "execution_count": 15
        }
      ]
    },
    {
      "cell_type": "markdown",
      "metadata": {
        "id": "QyQZ1CBA6ekd"
      },
      "source": [
        "## [D - equeue](https://atcoder.jp/contests/abc128/tasks/abc128_d)"
      ]
    },
    {
      "cell_type": "markdown",
      "metadata": {
        "id": "W4pVwJ-3-Kt-"
      },
      "source": [
        "操作C, Dは最後に行っても答えに影響がないので最後に行う. すると, 操作AとBを何回行うか決める必要があるので, これを全探索する.\n",
        "\n",
        "最後に, 価値がマイナスである宝石を K - (A+B) 個まで捨てれば良い."
      ]
    },
    {
      "cell_type": "code",
      "metadata": {
        "id": "FTok2vPHoJ_P",
        "outputId": "ef425542-ca86-498a-e6b5-4068352e442f",
        "colab": {
          "base_uri": "https://localhost:8080/"
        }
      },
      "source": [
        "N, K = map(int, input().split())\n",
        "V = list(map(int, input().split()))"
      ],
      "execution_count": 1,
      "outputs": [
        {
          "name": "stdout",
          "output_type": "stream",
          "text": [
            "6 4\n",
            "-10 8 2 1 2 6\n"
          ]
        }
      ]
    },
    {
      "cell_type": "code",
      "metadata": {
        "id": "X9Gl1Y0moN84",
        "outputId": "e9cd3839-d30a-4245-c9b1-9260cf763c74",
        "colab": {
          "base_uri": "https://localhost:8080/"
        }
      },
      "source": [
        "ans = 0\n",
        "rV = V[::-1]\n",
        "for a in range(N+1):\n",
        "    for b in range(N+1):\n",
        "        if a + b > min(N, K): continue\n",
        "        temp1 = [V[i] for i in range(a)]\n",
        "        temp2 = [rV[i] for i in range(b)]\n",
        "        \n",
        "        temp = temp1 + temp2\n",
        "        temp.sort()\n",
        "        \n",
        "        res = K - (a + b)\n",
        "        s = 0\n",
        "        for i in range(len(temp)):\n",
        "            if res > 0 and temp[i] < 0:\n",
        "                res -= 1\n",
        "                continue\n",
        "            s += temp[i]\n",
        "\n",
        "        ans = max(ans, s)"
      ],
      "execution_count": 14,
      "outputs": [
        {
          "output_type": "stream",
          "name": "stdout",
          "text": [
            "[6, 2, 1, 2, 8, -10]\n"
          ]
        }
      ]
    },
    {
      "cell_type": "code",
      "metadata": {
        "id": "doaPT9rzpFm5",
        "outputId": "51cfe553-d188-4aa6-dec1-fa69ed15b41f",
        "colab": {
          "base_uri": "https://localhost:8080/"
        }
      },
      "source": [
        "print(ans)"
      ],
      "execution_count": 15,
      "outputs": [
        {
          "output_type": "stream",
          "name": "stdout",
          "text": [
            "14\n"
          ]
        }
      ]
    },
    {
      "cell_type": "code",
      "metadata": {
        "id": "NHBXe_ykpGJa"
      },
      "source": [
        ""
      ],
      "execution_count": null,
      "outputs": []
    }
  ]
}