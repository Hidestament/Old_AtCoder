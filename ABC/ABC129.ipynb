{
  "nbformat": 4,
  "nbformat_minor": 0,
  "metadata": {
    "colab": {
      "name": "ABC129.ipynb",
      "provenance": [],
      "authorship_tag": "ABX9TyM/yWLt0JUUyejzyfN86bFn",
      "include_colab_link": true
    },
    "kernelspec": {
      "name": "python3",
      "display_name": "Python 3"
    },
    "language_info": {
      "name": "python"
    }
  },
  "cells": [
    {
      "cell_type": "markdown",
      "metadata": {
        "id": "view-in-github",
        "colab_type": "text"
      },
      "source": [
        "<a href=\"https://colab.research.google.com/github/Hidestament/AtCoder/blob/main/ABC/ABC129.ipynb\" target=\"_parent\"><img src=\"https://colab.research.google.com/assets/colab-badge.svg\" alt=\"Open In Colab\"/></a>"
      ]
    },
    {
      "cell_type": "markdown",
      "metadata": {
        "id": "ryLkh3lsiTKw"
      },
      "source": [
        "# [ABC129](https://atcoder.jp/contests/abc129)"
      ]
    },
    {
      "cell_type": "markdown",
      "metadata": {
        "id": "5amaqtBAiVNT"
      },
      "source": [
        "## [A - Airplane](https://atcoder.jp/contests/abc129/tasks/abc129_a)"
      ]
    },
    {
      "cell_type": "code",
      "metadata": {
        "id": "M1VfmkJviIgj"
      },
      "source": [
        "p, q, r = map(int, input().split())\n",
        "print(min(p+q, q+r, r+p))"
      ],
      "execution_count": null,
      "outputs": []
    },
    {
      "cell_type": "markdown",
      "metadata": {
        "id": "-QnE8eoCsJcD"
      },
      "source": [
        "## [B - Balance](https://atcoder.jp/contests/abc129/tasks/abc129_b)"
      ]
    },
    {
      "cell_type": "code",
      "metadata": {
        "colab": {
          "base_uri": "https://localhost:8080/"
        },
        "id": "2zKiqzyLsMEA",
        "outputId": "3a9cd2ce-f094-4e86-de0c-e2d6fd8f9d20"
      },
      "source": [
        "n = int(input())\n",
        "w = list(map(int, input().split()))\n",
        "ans = 10**10\n",
        "for t in range(n-1):\n",
        "    left = w[:t+1]\n",
        "    right = w[t+1:]\n",
        "    diff = abs(sum(left) - sum(right))\n",
        "    ans = min(diff, ans)\n",
        "print(ans)"
      ],
      "execution_count": 3,
      "outputs": [
        {
          "output_type": "stream",
          "name": "stdout",
          "text": [
            "4\n",
            "1 3 1 1\n",
            "2\n"
          ]
        }
      ]
    },
    {
      "cell_type": "markdown",
      "metadata": {
        "id": "GlSnedPAsy3b"
      },
      "source": [
        "## [C - Typical Stairs](https://atcoder.jp/contests/abc129/tasks/abc129_c)\n"
      ]
    },
    {
      "cell_type": "markdown",
      "metadata": {
        "id": "sdNJq6Yu_IhG"
      },
      "source": [
        "よくあるDP. a段目の階段の場合だけ, DP[a] = 0 とすれば良い."
      ]
    },
    {
      "cell_type": "code",
      "metadata": {
        "colab": {
          "base_uri": "https://localhost:8080/"
        },
        "id": "dfiXe_Pusrgf",
        "outputId": "ed16eef8-d339-43b8-f9e4-63b1867d10fe"
      },
      "source": [
        "n, m = map(int, input().split())\n",
        "stairs = set([int(input()) for _ in range(m)])\n",
        "mod = 10**9 + 7"
      ],
      "execution_count": 17,
      "outputs": [
        {
          "name": "stdout",
          "output_type": "stream",
          "text": [
            "100 5\n",
            "1\n",
            "23\n",
            "45\n",
            "67\n",
            "89\n"
          ]
        }
      ]
    },
    {
      "cell_type": "code",
      "metadata": {
        "id": "t9moQlRatFOo"
      },
      "source": [
        "dp = [0] * (n + 1)\n",
        "dp[0] = 1\n",
        "if 1 not in stairs:\n",
        "    dp[1] = 1\n",
        "for i in range(2, n+1):\n",
        "    if i in stairs:\n",
        "        dp[i] = 0\n",
        "    else:\n",
        "        dp[i] = dp[i-1] + dp[i-2]\n",
        "        dp[i] %= mod"
      ],
      "execution_count": 20,
      "outputs": []
    },
    {
      "cell_type": "code",
      "metadata": {
        "colab": {
          "base_uri": "https://localhost:8080/"
        },
        "id": "Y-8PAevVtNyJ",
        "outputId": "c1198627-a258-4485-fb1c-40bc4f1beea3"
      },
      "source": [
        "print(dp[n])"
      ],
      "execution_count": 21,
      "outputs": [
        {
          "output_type": "stream",
          "name": "stdout",
          "text": [
            "608200469\n"
          ]
        }
      ]
    },
    {
      "cell_type": "markdown",
      "metadata": {
        "id": "JnXgcsOyt9mR"
      },
      "source": [
        "## [D - Lamp](https://atcoder.jp/contests/abc129/tasks/abc129_d)"
      ]
    },
    {
      "cell_type": "markdown",
      "metadata": {
        "id": "7pbUWgF7_RKZ"
      },
      "source": [
        "$L[i][j]$ : マス(i, j)から左方向に照らせるマスの個数（(i,j)を含む）.\n",
        "\n",
        "$R[i][j]$ : マス(i, j)から右方向に照らせるマスの個数（(i,j)を含む）.\n",
        "\n",
        "$U[i][j]$ : マス(i, j)から上方向に照らせるマスの個数（(i,j)を含む）.\n",
        "\n",
        "$D[i][j]$ : マス(i, j)から下方向に照らせるマスの個数（(i,j)を含む）.\n",
        "\n",
        "を予め計算しておく. すると, マス$(i,j)$に灯りをおいたときに照らせるマスの個数は\n",
        "$$\n",
        "L[i][j] + R[i][j] + U[i][j] + D[i][j] - 3\n",
        "$$\n",
        "となる. マス$(i,j)$の個数を4回カウントしているので-3している."
      ]
    },
    {
      "cell_type": "markdown",
      "metadata": {
        "id": "ZpAR-YGID754"
      },
      "source": [
        "$L$は行別に考えることができる. 例えば, 0行が\n",
        "$$\n",
        ".#...#.\n",
        "$$\n",
        "となっていたとき, \n",
        "$$\n",
        "L[0] = [1, 0, 1, 2, 3, 0, 1]\n",
        "$$\n",
        "\n",
        "となる. これは, $cnt=1$とし左からstartしてマスが$#$なら$cnt=1$と初期化し, $.$なら$cnt += 1$して$L[i][j] = cnt$と記録していけば良い.\n",
        "\n",
        "$L, R, U, D$はそれぞれ$HW$で求めることができる."
      ]
    },
    {
      "cell_type": "code",
      "metadata": {
        "colab": {
          "base_uri": "https://localhost:8080/"
        },
        "id": "NTEi149ett9m",
        "outputId": "44be45b0-0573-48db-872f-e8ab19f4b9da"
      },
      "source": [
        "H, W = map(int, input().split())\n",
        "grid = [input() for _ in range(H)]"
      ],
      "execution_count": 44,
      "outputs": [
        {
          "name": "stdout",
          "output_type": "stream",
          "text": [
            "4 6\n",
            "#..#..\n",
            ".....#\n",
            "....#.\n",
            "#.#...\n"
          ]
        }
      ]
    },
    {
      "cell_type": "code",
      "metadata": {
        "id": "tO9AKT3ru6MS"
      },
      "source": [
        "L = [[0] * W for _ in range(H)]\n",
        "R = [[0] * W for _ in range(H)]\n",
        "U = [[0] * W for _ in range(H)]\n",
        "D = [[0] * W for _ in range(H)]"
      ],
      "execution_count": 45,
      "outputs": []
    },
    {
      "cell_type": "code",
      "metadata": {
        "id": "mpFqS-Qru_fH"
      },
      "source": [
        "for h in range(H):\n",
        "    cnt = 0\n",
        "    for w in range(W):\n",
        "        if grid[h][w] == \"#\": cnt = 0\n",
        "        else: cnt += 1\n",
        "        L[h][w] = cnt\n",
        "\n",
        "for h in range(H):\n",
        "    cnt = 0\n",
        "    for w in range(W-1, -1, -1):\n",
        "        if grid[h][w] == \"#\": cnt = 0\n",
        "        else: cnt += 1\n",
        "        R[h][w] = cnt\n",
        "\n",
        "for w in range(W):\n",
        "    cnt = 0\n",
        "    for h in range(H):\n",
        "        if grid[h][w] == \"#\": cnt = 0\n",
        "        else: cnt += 1\n",
        "        U[h][w] = cnt\n",
        "\n",
        "for w in range(W):\n",
        "    cnt = 0\n",
        "    for h in range(H-1, -1, -1):\n",
        "        if grid[h][w] == \"#\": cnt = 0\n",
        "        else: cnt += 1\n",
        "        D[h][w] = cnt"
      ],
      "execution_count": 46,
      "outputs": []
    },
    {
      "cell_type": "code",
      "metadata": {
        "colab": {
          "base_uri": "https://localhost:8080/"
        },
        "id": "Fttz_yo2_5Ci",
        "outputId": "a784156b-0c38-462c-ca88-992c9e9c67ff"
      },
      "source": [
        "ans = 0\n",
        "for h in range(H):\n",
        "    for w in range(W):\n",
        "        ans = max(ans, L[h][w] + R[h][w] + U[h][w] + D[h][w] - 3)\n",
        "print(ans)"
      ],
      "execution_count": 48,
      "outputs": [
        {
          "output_type": "stream",
          "name": "stdout",
          "text": [
            "8\n"
          ]
        }
      ]
    }
  ]
}