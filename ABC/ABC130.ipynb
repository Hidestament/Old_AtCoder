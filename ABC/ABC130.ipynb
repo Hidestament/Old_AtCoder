{
  "nbformat": 4,
  "nbformat_minor": 0,
  "metadata": {
    "colab": {
      "name": "ABC130.ipynb",
      "provenance": [],
      "authorship_tag": "ABX9TyMgkw6Dqn9lh7Gj4fmMNP/b",
      "include_colab_link": true
    },
    "kernelspec": {
      "name": "python3",
      "display_name": "Python 3"
    },
    "language_info": {
      "name": "python"
    }
  },
  "cells": [
    {
      "cell_type": "markdown",
      "metadata": {
        "id": "view-in-github",
        "colab_type": "text"
      },
      "source": [
        "<a href=\"https://colab.research.google.com/github/Hidestament/AtCoder/blob/main/ABC/ABC130.ipynb\" target=\"_parent\"><img src=\"https://colab.research.google.com/assets/colab-badge.svg\" alt=\"Open In Colab\"/></a>"
      ]
    },
    {
      "cell_type": "markdown",
      "metadata": {
        "id": "Ygkq3LooENkl"
      },
      "source": [
        "# [ABC130](https://atcoder.jp/contests/abc130)"
      ]
    },
    {
      "cell_type": "markdown",
      "metadata": {
        "id": "inKPR_rzENcm"
      },
      "source": [
        "## [A - Rounding](https://atcoder.jp/contests/abc130/tasks/abc130_a)"
      ]
    },
    {
      "cell_type": "code",
      "metadata": {
        "colab": {
          "base_uri": "https://localhost:8080/"
        },
        "id": "ZeSrNPkWELA8",
        "outputId": "ba0e83fb-2613-4891-cd3e-f2cc031e62bd"
      },
      "source": [
        "X, A = map(int, input().split())\n",
        "print(0 if X < A else 10)"
      ],
      "execution_count": 1,
      "outputs": [
        {
          "output_type": "stream",
          "name": "stdout",
          "text": [
            "3 5\n",
            "0\n"
          ]
        }
      ]
    },
    {
      "cell_type": "markdown",
      "metadata": {
        "id": "4uNleT8bEfhK"
      },
      "source": [
        "## [B - Bounding](https://atcoder.jp/contests/abc130/tasks/abc130_b)"
      ]
    },
    {
      "cell_type": "code",
      "metadata": {
        "colab": {
          "base_uri": "https://localhost:8080/"
        },
        "id": "Kp-YYjKTEaNr",
        "outputId": "0e74cddf-9d83-42e5-ef22-5dc8e3f535a9"
      },
      "source": [
        "N, X = map(int, input().split())\n",
        "L = list(map(int, input().split()))\n",
        "D = 0\n",
        "cnt = 1\n",
        "for i in range(N):\n",
        "    D += L[i]\n",
        "    if D <= X: cnt += 1\n",
        "print(cnt)"
      ],
      "execution_count": 3,
      "outputs": [
        {
          "output_type": "stream",
          "name": "stdout",
          "text": [
            "4 9\n",
            "3 3 3 3\n",
            "4\n"
          ]
        }
      ]
    },
    {
      "cell_type": "markdown",
      "metadata": {
        "id": "UGvE5tkaE6_2"
      },
      "source": [
        "## [C - Rectangle Cutting](https://atcoder.jp/contests/abc130/tasks/abc130_c)"
      ]
    },
    {
      "cell_type": "markdown",
      "metadata": {
        "id": "lFZ12AenGv-d"
      },
      "source": [
        "理論的な面積の大きくない方の面積の最大値は, 元の面積の半分である.\n",
        "\n",
        "この理論値を達成するには長方形の中心を通る直線を引けば良い.\n",
        "\n",
        "よって, $(x, y)$が長方形の中心である場合, この最大値を達成する分割の方法は複数あるが, そうでない場合は1つだけとなる."
      ]
    },
    {
      "cell_type": "code",
      "metadata": {
        "colab": {
          "base_uri": "https://localhost:8080/"
        },
        "id": "KfJlGMbYE23n",
        "outputId": "2e73d139-14d4-40de-9958-18829adb7daf"
      },
      "source": [
        "W, H, x, y = map(int, input().split())"
      ],
      "execution_count": 62,
      "outputs": [
        {
          "name": "stdout",
          "output_type": "stream",
          "text": [
            "2 2 1 1\n"
          ]
        }
      ]
    },
    {
      "cell_type": "code",
      "metadata": {
        "colab": {
          "base_uri": "https://localhost:8080/"
        },
        "id": "iksiZlf0FUeu",
        "outputId": "5e9b59cc-793e-45e1-dacc-10734b4637c2"
      },
      "source": [
        "print(H * W / 2)\n",
        "if (W == 2 * x) and (H == 2 * y):\n",
        "    print(1)\n",
        "else:\n",
        "    print(0)"
      ],
      "execution_count": 63,
      "outputs": [
        {
          "output_type": "stream",
          "name": "stdout",
          "text": [
            "2.0\n",
            "1\n"
          ]
        }
      ]
    },
    {
      "cell_type": "markdown",
      "metadata": {
        "id": "-Pub6aOZFUEH"
      },
      "source": [
        "## [D - Enough Array](https://atcoder.jp/contests/abc130/tasks/abc130_d)"
      ]
    },
    {
      "cell_type": "markdown",
      "metadata": {
        "id": "STFbM8NHHfWr"
      },
      "source": [
        "左端の値を全探索し, その場合に要素の和が$K$以上となるような最小の右端を二分探索やしゃくとり法で求める（尺取法の場合左端を全探索というわけではないが）.\n",
        "\n",
        "この際求まった右端の最小値を$r$とすれば, 題意を達成する連続部分列の個数は, 固定された左端に対して, $N-r+1$個となる."
      ]
    },
    {
      "cell_type": "markdown",
      "metadata": {
        "id": "XrJwTkW4H8to"
      },
      "source": [
        "### Binary Search\n",
        "Aの累積和をACCとする. このとき$[A[i], A[j]]$の連続部分列の要素の値の和は, $ACC[j] - ACC[i-1]$となる.\n",
        "\n",
        "これを用いて二分探索で最小の右端を求める."
      ]
    },
    {
      "cell_type": "code",
      "metadata": {
        "colab": {
          "base_uri": "https://localhost:8080/"
        },
        "id": "gm9FHrd9FXP5",
        "outputId": "7d34b980-fad1-4ca5-b46f-61a91033cdfc"
      },
      "source": [
        "from itertools import accumulate\n",
        "from bisect import bisect_left\n",
        "N, K = map(int, input().split())\n",
        "A = list(map(int, input().split()))"
      ],
      "execution_count": 55,
      "outputs": [
        {
          "name": "stdout",
          "output_type": "stream",
          "text": [
            "3 5\n",
            "3 3 3\n"
          ]
        }
      ]
    },
    {
      "cell_type": "code",
      "metadata": {
        "id": "WEcvGDoGFtSk"
      },
      "source": [
        "acc = list(accumulate(A))\n",
        "acc = [0] + acc"
      ],
      "execution_count": 56,
      "outputs": []
    },
    {
      "cell_type": "markdown",
      "metadata": {
        "id": "QA6IuCyvJo91"
      },
      "source": [
        "連続部分列の和$acc[right] - acc[left-1]$が$K$以上になれば良いので\n",
        "$$\n",
        "acc[right] - acc[left-1] \\ge K\n",
        "$$\n",
        "となる最小のrightを求めたいので, \n",
        "$$\n",
        "value = K + acc[left-1]\n",
        "$$\n",
        "の挿入場所を二分探索で求める"
      ]
    },
    {
      "cell_type": "code",
      "metadata": {
        "id": "WKIrrpLlIezy"
      },
      "source": [
        "ans = 0\n",
        "for left in range(1, N+1):\n",
        "    value = K + acc[left]\n",
        "    right = bisect_left(acc, acc[left-1] + K, lo=left)\n",
        "    ans += (N - right + 1)\n",
        "print(ans)"
      ],
      "execution_count": null,
      "outputs": []
    },
    {
      "cell_type": "markdown",
      "metadata": {
        "id": "vzJLCcQRPLe5"
      },
      "source": [
        "まとめると"
      ]
    },
    {
      "cell_type": "code",
      "metadata": {
        "id": "rq3bTafWPLVr"
      },
      "source": [
        "from itertools import accumulate\n",
        "from bisect import bisect_left\n",
        "N, K = map(int, input().split())\n",
        "A = list(map(int, input().split()))\n",
        "\n",
        "acc = list(accumulate(A))\n",
        "acc = [0] + acc\n",
        "\n",
        "ans = 0\n",
        "for left in range(1, N+1):\n",
        "    value = K + acc[left]\n",
        "    right = bisect_left(acc, acc[left-1] + K, lo=left)\n",
        "    ans += (N - right + 1)\n",
        "print(ans)"
      ],
      "execution_count": null,
      "outputs": []
    },
    {
      "cell_type": "markdown",
      "metadata": {
        "id": "g19JzUJnI4Aq"
      },
      "source": [
        "### 尺取り法"
      ]
    },
    {
      "cell_type": "markdown",
      "metadata": {
        "id": "h1dgae-iMR53"
      },
      "source": [
        "尺取法"
      ]
    },
    {
      "cell_type": "code",
      "metadata": {
        "colab": {
          "base_uri": "https://localhost:8080/"
        },
        "id": "EhDQ5x9rMRx8",
        "outputId": "b3970e09-8874-40bb-fd35-0c6b610c4666"
      },
      "source": [
        "N, K = map(int, input().split())\n",
        "A = list(map(int, input().split()))"
      ],
      "execution_count": 65,
      "outputs": [
        {
          "name": "stdout",
          "output_type": "stream",
          "text": [
            "4 10\n",
            "6 1 2 7\n"
          ]
        }
      ]
    },
    {
      "cell_type": "code",
      "metadata": {
        "id": "FuSP89WdQWl_"
      },
      "source": [
        "ans, right, s = 0, 0, 0\n",
        "for left in range(N):\n",
        "    while (right < N) and (s < K):\n",
        "        s += A[right]\n",
        "        right += 1\n",
        "    if s >= K:\n",
        "        ans += (N - right + 1)\n",
        "    s -= A[left]"
      ],
      "execution_count": null,
      "outputs": []
    },
    {
      "cell_type": "code",
      "metadata": {
        "id": "1pqb9kBMQWjf"
      },
      "source": [
        "print(ans)"
      ],
      "execution_count": null,
      "outputs": []
    }
  ]
}