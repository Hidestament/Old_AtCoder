{
  "nbformat": 4,
  "nbformat_minor": 0,
  "metadata": {
    "colab": {
      "name": "ABC131.ipynb",
      "provenance": [],
      "collapsed_sections": [],
      "authorship_tag": "ABX9TyMRXYfMhD2n0UBEJ7JpyO3r",
      "include_colab_link": true
    },
    "kernelspec": {
      "name": "python3",
      "display_name": "Python 3"
    },
    "language_info": {
      "name": "python"
    }
  },
  "cells": [
    {
      "cell_type": "markdown",
      "metadata": {
        "id": "view-in-github",
        "colab_type": "text"
      },
      "source": [
        "<a href=\"https://colab.research.google.com/github/Hidestament/AtCoder/blob/main/ABC/ABC131.ipynb\" target=\"_parent\"><img src=\"https://colab.research.google.com/assets/colab-badge.svg\" alt=\"Open In Colab\"/></a>"
      ]
    },
    {
      "cell_type": "markdown",
      "metadata": {
        "id": "sAhhimOzPyqH"
      },
      "source": [
        "# [ABC131](https://atcoder.jp/contests/abc131)"
      ]
    },
    {
      "cell_type": "markdown",
      "metadata": {
        "id": "eYh6UUMXP1EJ"
      },
      "source": [
        "## [A - Security](https://atcoder.jp/contests/abc131/tasks/abc131_a)"
      ]
    },
    {
      "cell_type": "code",
      "metadata": {
        "colab": {
          "base_uri": "https://localhost:8080/"
        },
        "id": "K5QLjh4OPvUn",
        "outputId": "95eabf0d-e058-43bc-f754-cbd6d058156e"
      },
      "source": [
        "S = str(input())\n",
        "flag = False\n",
        "for i in range(1, len(S)):\n",
        "    if S[i-1] == S[i]: flag = True\n",
        "print(\"Bad\" if flag else \"Good\")"
      ],
      "execution_count": null,
      "outputs": [
        {
          "output_type": "stream",
          "name": "stdout",
          "text": [
            "3776\n",
            "Bad\n"
          ]
        }
      ]
    },
    {
      "cell_type": "markdown",
      "metadata": {
        "id": "9QF-fiK3QS7V"
      },
      "source": [
        "これでも良いかも"
      ]
    },
    {
      "cell_type": "code",
      "metadata": {
        "id": "7ZX4_ZJwQTfo"
      },
      "source": [
        "S = str(input())\n",
        "condition = (S[0] == S[1]) or (S[1] == S[2]) or (S[2] == S[3])\n",
        "print(\"Bad\" if condition else \"Good\")"
      ],
      "execution_count": null,
      "outputs": []
    },
    {
      "cell_type": "markdown",
      "metadata": {
        "id": "eYs6UGEaQMG7"
      },
      "source": [
        "## [B - Bite Eating](https://atcoder.jp/contests/abc131/tasks/abc131_b)"
      ]
    },
    {
      "cell_type": "code",
      "metadata": {
        "colab": {
          "base_uri": "https://localhost:8080/"
        },
        "id": "Ao3ubj9-QI5e",
        "outputId": "df5d7860-a1b2-4f1a-d291-21e6bd8409e8"
      },
      "source": [
        "N, L = map(int, input().split())"
      ],
      "execution_count": null,
      "outputs": [
        {
          "name": "stdout",
          "output_type": "stream",
          "text": [
            "5 2\n"
          ]
        }
      ]
    },
    {
      "cell_type": "code",
      "metadata": {
        "colab": {
          "base_uri": "https://localhost:8080/"
        },
        "id": "rV1wAV6-QltF",
        "outputId": "4e34dd28-99a8-425c-b194-2352f6216816"
      },
      "source": [
        "s = sum([L + i - 1 for i in range(1, N+1)])\n",
        "cnt = 10**10\n",
        "ans = 0\n",
        "for i in range(1, N+1):\n",
        "    eat = L + i - 1\n",
        "    diff = abs(eat)\n",
        "    if diff <= cnt:\n",
        "        cnt = diff\n",
        "        ans = s - eat\n",
        "print(ans)"
      ],
      "execution_count": null,
      "outputs": [
        {
          "output_type": "stream",
          "name": "stdout",
          "text": [
            "18\n"
          ]
        }
      ]
    },
    {
      "cell_type": "markdown",
      "metadata": {
        "id": "uHnBZLrzRiSC"
      },
      "source": [
        "## [C - Anti-Division](https://atcoder.jp/contests/abc131/tasks/abc131_c)"
      ]
    },
    {
      "cell_type": "markdown",
      "metadata": {
        "id": "8s-_gHu9p055"
      },
      "source": [
        "答え = (条件を満たすB以下の整数の個数) - (条件を満たすA-1以下の整数の個数)\n",
        "\n",
        "と考えるとかんたん."
      ]
    },
    {
      "cell_type": "markdown",
      "metadata": {
        "id": "YJ8MlIunp-d7"
      },
      "source": [
        "条件を満たすB以下の整数の個数 = B - (Cの倍数の個数) - (Dの倍数の個数) + (CとDの最小公倍数の倍数の個数)\n",
        "\n",
        "(Cの倍数の個数)と(Dの倍数の個数)で, CとDの最小公倍数の個数を2回引いてしまっているため, そのカウント分を足す必要がある."
      ]
    },
    {
      "cell_type": "code",
      "metadata": {
        "colab": {
          "base_uri": "https://localhost:8080/"
        },
        "id": "FmILDw1pQuKC",
        "outputId": "a4e2e5b9-f27d-4eb6-d1e8-f2eed419940b"
      },
      "source": [
        "from math import gcd\n",
        "A, B, C, D = map(int, input().split())"
      ],
      "execution_count": null,
      "outputs": [
        {
          "name": "stdout",
          "output_type": "stream",
          "text": [
            "10 40 6 8\n"
          ]
        }
      ]
    },
    {
      "cell_type": "code",
      "metadata": {
        "id": "cvdqO8WlqWdK"
      },
      "source": [
        "num_c = B//C - (A-1)//C\n",
        "num_d = B//D - (A-1)//D"
      ],
      "execution_count": null,
      "outputs": []
    },
    {
      "cell_type": "code",
      "metadata": {
        "id": "laGOes_2qWap"
      },
      "source": [
        "CD = C * D // gcd(C, D)\n",
        "num_cd = B//CD - (A-1)//CD"
      ],
      "execution_count": null,
      "outputs": []
    },
    {
      "cell_type": "code",
      "metadata": {
        "colab": {
          "base_uri": "https://localhost:8080/"
        },
        "id": "4s5MQ7CFqWYH",
        "outputId": "10303986-fc74-4544-db05-ee5b3e2d0a8e"
      },
      "source": [
        "ans = (B - A + 1) - (num_c + num_d - num_cd)\n",
        "print(ans)"
      ],
      "execution_count": null,
      "outputs": [
        {
          "output_type": "execute_result",
          "data": {
            "text/plain": [
              "23"
            ]
          },
          "metadata": {},
          "execution_count": 11
        }
      ]
    },
    {
      "cell_type": "markdown",
      "metadata": {
        "id": "PmcfCVf4lJ_V"
      },
      "source": [
        "## [D - Megalomania](https://atcoder.jp/contests/abc131/tasks/abc131_d)"
      ]
    },
    {
      "cell_type": "markdown",
      "metadata": {
        "id": "8y8XPMbFpiEH"
      },
      "source": [
        "区間スケジューリング問題. 貪欲法で解ける."
      ]
    },
    {
      "cell_type": "code",
      "metadata": {
        "colab": {
          "base_uri": "https://localhost:8080/"
        },
        "id": "Z29QLr1RlPbD",
        "outputId": "a96a23d6-2c52-46a6-8b53-d92484bd701a"
      },
      "source": [
        "N = int(input())\n",
        "jobs = [list(map(int, input().split())) for _ in range(N)]"
      ],
      "execution_count": null,
      "outputs": [
        {
          "name": "stdout",
          "output_type": "stream",
          "text": [
            "5\n",
            "2 4\n",
            "1 9\n",
            "1 8\n",
            "4 9\n",
            "3 12\n"
          ]
        }
      ]
    },
    {
      "cell_type": "code",
      "metadata": {
        "id": "F4T8RUjalYp4"
      },
      "source": [
        "jobs.sort(key=lambda x:(x[1], x[0]))"
      ],
      "execution_count": null,
      "outputs": []
    },
    {
      "cell_type": "code",
      "metadata": {
        "id": "nPMIdcdSljgP"
      },
      "source": [
        "flag = True\n",
        "t = 0\n",
        "for a, b in jobs:\n",
        "    t += a\n",
        "    if t > b:\n",
        "        flag = False\n",
        "        break"
      ],
      "execution_count": null,
      "outputs": []
    },
    {
      "cell_type": "code",
      "metadata": {
        "colab": {
          "base_uri": "https://localhost:8080/"
        },
        "id": "ZZ19Pernlzok",
        "outputId": "e0a770fe-f4fd-4e12-9d3a-99508d22c6dc"
      },
      "source": [
        "print(\"Yes\" if flag else \"No\")"
      ],
      "execution_count": null,
      "outputs": [
        {
          "output_type": "execute_result",
          "data": {
            "text/plain": [
              "True"
            ]
          },
          "metadata": {},
          "execution_count": 14
        }
      ]
    },
    {
      "cell_type": "markdown",
      "metadata": {
        "id": "iRl6tSRMr_wh"
      },
      "source": [
        "## [E - Friendships](https://atcoder.jp/contests/abc131/tasks/abc131_e)"
      ]
    },
    {
      "cell_type": "markdown",
      "metadata": {
        "id": "HRncPQd3m2nR"
      },
      "source": [
        "解説はNotionで"
      ]
    },
    {
      "cell_type": "code",
      "metadata": {
        "id": "piafBs-Cl0Il"
      },
      "source": [
        "N, K = map(int, input().split())\n",
        "num = (N-1) * (N-2) // 2\n",
        "if K > num:\n",
        "    print(-1)\n",
        "else:\n",
        "    # 最初はスター\n",
        "    edges = [[1, i] for i in range(2, N+1)]\n",
        "    for u in range(2, N):\n",
        "        for v in range(u+1, N+1):\n",
        "            if num == K: break\n",
        "            edges.append([u, v])\n",
        "            num -= 1\n",
        "    \n",
        "    print(len(edges))\n",
        "    for u, v in edges:\n",
        "        print(u, v)"
      ],
      "execution_count": null,
      "outputs": []
    }
  ]
}