{
  "nbformat": 4,
  "nbformat_minor": 0,
  "metadata": {
    "colab": {
      "name": "ABC132.ipynb",
      "provenance": [],
      "collapsed_sections": [],
      "authorship_tag": "ABX9TyMrvNSujtpmHpNqiAlPxP/G",
      "include_colab_link": true
    },
    "kernelspec": {
      "name": "python3",
      "display_name": "Python 3"
    },
    "language_info": {
      "name": "python"
    }
  },
  "cells": [
    {
      "cell_type": "markdown",
      "metadata": {
        "id": "view-in-github",
        "colab_type": "text"
      },
      "source": [
        "<a href=\"https://colab.research.google.com/github/Hidestament/AtCoder/blob/main/ABC/ABC132.ipynb\" target=\"_parent\"><img src=\"https://colab.research.google.com/assets/colab-badge.svg\" alt=\"Open In Colab\"/></a>"
      ]
    },
    {
      "cell_type": "markdown",
      "metadata": {
        "id": "L4zVNMA8d95m"
      },
      "source": [
        "# [ABC132](https://atcoder.jp/contests/abc132)"
      ]
    },
    {
      "cell_type": "markdown",
      "metadata": {
        "id": "ClFMwYozeCj-"
      },
      "source": [
        "## [A - Fifty-Fifty](https://atcoder.jp/contests/abc132/tasks/abc132_a)"
      ]
    },
    {
      "cell_type": "code",
      "metadata": {
        "colab": {
          "base_uri": "https://localhost:8080/"
        },
        "id": "yvwg5HQMd7pC",
        "outputId": "90cf54d5-e721-4b8a-a63d-5b045a77e2a7"
      },
      "source": [
        "from collections import defaultdict\n",
        "S = str(input())\n",
        "cnt = defaultdict(int)\n",
        "for s in S:\n",
        "    cnt[s] += 1\n",
        "print(\"Yes\" if len(cnt) == 2 and cnt[S[0]] == 2 else \"No\")"
      ],
      "execution_count": null,
      "outputs": [
        {
          "output_type": "stream",
          "name": "stdout",
          "text": [
            "ASSA\n",
            "Yes\n"
          ]
        }
      ]
    },
    {
      "cell_type": "markdown",
      "metadata": {
        "id": "TGJnZXqWet0Y"
      },
      "source": [
        "こっちの方が良さそう"
      ]
    },
    {
      "cell_type": "code",
      "metadata": {
        "id": "a3wZt9YresFM"
      },
      "source": [
        "S = str(input())\n",
        "if (S.count(S[0]) == 2) and len(set(S)) == 2: print(\"Yes\")\n",
        "else: print(\"No\")"
      ],
      "execution_count": null,
      "outputs": []
    },
    {
      "cell_type": "markdown",
      "metadata": {
        "id": "tH4CVRH4fIAp"
      },
      "source": [
        "## [B - Ordinary Number](https://atcoder.jp/contests/abc132/tasks/abc132_b)"
      ]
    },
    {
      "cell_type": "code",
      "metadata": {
        "colab": {
          "base_uri": "https://localhost:8080/"
        },
        "id": "a5-kY78FefzF",
        "outputId": "e077d971-8985-4021-eb7d-98a3d5f93ad9"
      },
      "source": [
        "N = int(input())\n",
        "P = list(map(int, input().split()))"
      ],
      "execution_count": null,
      "outputs": [
        {
          "name": "stdout",
          "output_type": "stream",
          "text": [
            "9\n",
            "9 6 3 2 5 8 7 4 1\n"
          ]
        }
      ]
    },
    {
      "cell_type": "code",
      "metadata": {
        "colab": {
          "base_uri": "https://localhost:8080/"
        },
        "id": "TDgK14PGfaQZ",
        "outputId": "dd68256b-fbeb-490f-c66d-721fdd380ab3"
      },
      "source": [
        "cnt = 0\n",
        "for i in range(1, N-1):\n",
        "    if (P[i-1] < P[i]) and (P[i] < P[i+1]):  cnt += 1\n",
        "    elif (P[i+1] < P[i]) and (P[i] < P[i-1]): cnt += 1\n",
        "    else: continue\n",
        "print(cnt)"
      ],
      "execution_count": null,
      "outputs": [
        {
          "output_type": "stream",
          "name": "stdout",
          "text": [
            "5\n"
          ]
        }
      ]
    },
    {
      "cell_type": "markdown",
      "metadata": {
        "id": "62U5A6hjf3Wu"
      },
      "source": [
        "これでも良いかも"
      ]
    },
    {
      "cell_type": "code",
      "metadata": {
        "id": "hwNtUNbCfsH1"
      },
      "source": [
        "N = int(input())\n",
        "P = list(map(int, input().split()))\n",
        "cnt = 0\n",
        "for i in range(1, N-1):\n",
        "    temp = [P[i-1], P[i], P[i+1]]\n",
        "    temp.sort()\n",
        "    if temp[1] == P[i]: cnt += 1\n",
        "print(cnt)"
      ],
      "execution_count": null,
      "outputs": []
    },
    {
      "cell_type": "markdown",
      "metadata": {
        "id": "R3LKlMCxgUJC"
      },
      "source": [
        "## [C - Divide the Problems](https://atcoder.jp/contests/abc132/tasks/abc132_c)"
      ]
    },
    {
      "cell_type": "code",
      "metadata": {
        "colab": {
          "base_uri": "https://localhost:8080/"
        },
        "id": "y6VPwkESgYvp",
        "outputId": "28ae4c59-7841-48d2-b68e-0ef743038880"
      },
      "source": [
        "N = int(input())\n",
        "D = list(map(int, input().split()))"
      ],
      "execution_count": null,
      "outputs": [
        {
          "name": "stdout",
          "output_type": "stream",
          "text": [
            "14\n",
            "99592 10342 29105 78532 83018 11639 92015 77204 30914 21912 34519 80835 100000 1\n"
          ]
        }
      ]
    },
    {
      "cell_type": "code",
      "metadata": {
        "id": "ckoeI_ung43C"
      },
      "source": [
        "D.sort()"
      ],
      "execution_count": null,
      "outputs": []
    },
    {
      "cell_type": "code",
      "metadata": {
        "colab": {
          "base_uri": "https://localhost:8080/"
        },
        "id": "nFR93u8Pg78G",
        "outputId": "9ef38c6e-24e2-4a78-fde7-df6236c40cfa"
      },
      "source": [
        "diff = D[N//2] - D[N//2 - 1]\n",
        "print(diff)"
      ],
      "execution_count": null,
      "outputs": [
        {
          "output_type": "execute_result",
          "data": {
            "text/plain": [
              "42685"
            ]
          },
          "metadata": {},
          "execution_count": 20
        }
      ]
    },
    {
      "cell_type": "markdown",
      "metadata": {
        "id": "QVskpPjWhi7q"
      },
      "source": [
        "## [D - Blue and Red Balls](https://atcoder.jp/contests/abc132/tasks/abc132_d)"
      ]
    },
    {
      "cell_type": "markdown",
      "metadata": {
        "id": "vQ6AOpNhzCDT"
      },
      "source": [
        "解説は[Notion](https://www.notion.so/Blue-and-Red-Balls-bfbfedd05e254c11a0c7bbcb45031bbd)"
      ]
    },
    {
      "cell_type": "markdown",
      "metadata": {
        "id": "j2HJrUXgzc-Z"
      },
      "source": [
        "ex.\n",
        "\n",
        "青 = K = 5\n",
        "\n",
        "赤 = N - K = 5\n",
        "\n",
        "\n",
        "i = 3 として考える.\n",
        "1. 青i個を並べる: 1通り（ボールに区別は無し） \\\n",
        "B B B\n",
        "2. 残った 青 K - i = 2個の場所を決める. 置ける箇所はi個. (i-1)個の棒と青(K-i)個の区別なし順列と考えて, $_{(K-i) + (i-1)} C _{i-1} = _{K-1}C_{i-1}$通り \\\n",
        "B | B | |\n",
        "3. 赤を青の間(i-1)に置く: 1通り\\\n",
        "BB A BB A B\n",
        "4. 残った赤 N - K - (i -1) = 3の場所を決める. 置ける箇所は青の間(i-1)箇所と青の両端2箇所の (i - 1) + 2 = i + 1箇所. \\\n",
        "残りの赤 (N - K - i + 1)と棒(i+1-1)=iの区別なし順列と考えて $_{(N-K-i+1) + (i)}C_{i} = _{N-K+1}C_{i}$\\\n",
        "A | A || A\n",
        "5. 最終的に A BB AA BB A B A. 組合せは$_{K-1}C_{i-1} * _{N-K+1}C_{i}$"
      ]
    },
    {
      "cell_type": "code",
      "metadata": {
        "id": "-h6h_ztmsrM9"
      },
      "source": [
        "N, K = map(int, input().split())"
      ],
      "execution_count": null,
      "outputs": []
    },
    {
      "cell_type": "code",
      "metadata": {
        "id": "ucXMy3N5xeAf"
      },
      "source": [
        "mod = 10**9 + 7\n",
        "\n",
        "fact = [1] * (N+1) # fact[i] = i! % mod\n",
        "inv = [1] * (N+1) # inv[i] = i^-1 % mod, factinvの計算用\n",
        "inv[0] = 0\n",
        "factinv = [1] * (N+1) # factinv[i] = (i!)^-1 % mod\n",
        "\n",
        "for i in range(2, N+1):\n",
        "    fact[i] = (fact[i-1] * i) % mod\n",
        "    inv[i] = (-inv[mod % i] * (mod // i)) % mod\n",
        "    factinv[i] = (factinv[i-1] * inv[i]) % mod\n",
        "\n",
        "def cmb_mod(n, r):\n",
        "    if (r < 0) or (n < r):\n",
        "        return 0\n",
        "    r = min(r, n-r)\n",
        "    return fact[n] * factinv[r] * factinv[n-r] % mod"
      ],
      "execution_count": null,
      "outputs": []
    },
    {
      "cell_type": "code",
      "metadata": {
        "id": "pWNx4eMh7P_R",
        "colab": {
          "base_uri": "https://localhost:8080/"
        },
        "outputId": "2c7f76cd-90be-4d05-ee37-c3a0609d469b"
      },
      "source": [
        "for i in range(1, K+1):\n",
        "    t1 = cmb_mod(K - 1, i - 1)\n",
        "    t2 = cmb_mod(N - K + 1, i)\n",
        "    print(t1 * t2 % mod)"
      ],
      "execution_count": null,
      "outputs": [
        {
          "output_type": "stream",
          "name": "stdout",
          "text": [
            "3\n",
            "6\n",
            "1\n"
          ]
        }
      ]
    }
  ]
}