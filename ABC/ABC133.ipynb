{
  "nbformat": 4,
  "nbformat_minor": 0,
  "metadata": {
    "colab": {
      "name": "ABC133.ipynb",
      "provenance": [],
      "authorship_tag": "ABX9TyNveGZFhXrZt7vaWBo5r/7Q",
      "include_colab_link": true
    },
    "kernelspec": {
      "name": "python3",
      "display_name": "Python 3"
    },
    "language_info": {
      "name": "python"
    }
  },
  "cells": [
    {
      "cell_type": "markdown",
      "metadata": {
        "id": "view-in-github",
        "colab_type": "text"
      },
      "source": [
        "<a href=\"https://colab.research.google.com/github/Hidestament/AtCoder/blob/main/ABC/ABC133.ipynb\" target=\"_parent\"><img src=\"https://colab.research.google.com/assets/colab-badge.svg\" alt=\"Open In Colab\"/></a>"
      ]
    },
    {
      "cell_type": "markdown",
      "metadata": {
        "id": "SpaIdy71tusY"
      },
      "source": [
        "# [ABC133](https://atcoder.jp/contests/abc133)"
      ]
    },
    {
      "cell_type": "markdown",
      "metadata": {
        "id": "TnIUs5vBtxg_"
      },
      "source": [
        "## [A - T or T](https://atcoder.jp/contests/abc133/tasks/abc133_a)"
      ]
    },
    {
      "cell_type": "code",
      "metadata": {
        "id": "-xj2O69GttEt"
      },
      "source": [
        "N, A, B = map(int, input().split())\n",
        "print(min(N*A, B))"
      ],
      "execution_count": null,
      "outputs": []
    },
    {
      "cell_type": "markdown",
      "metadata": {
        "id": "qu0cXnMcuGrk"
      },
      "source": [
        "## [B - Good Distance](https://atcoder.jp/contests/abc133/tasks/abc133_b)"
      ]
    },
    {
      "cell_type": "code",
      "metadata": {
        "id": "TXdV-VpyuthI",
        "colab": {
          "base_uri": "https://localhost:8080/"
        },
        "outputId": "4384ce63-294b-4039-9df9-80c8395d8566"
      },
      "source": [
        "N, D = map(int, input().split())\n",
        "points = [list(map(int, input().split())) for _ in range(N)]"
      ],
      "execution_count": null,
      "outputs": [
        {
          "name": "stdout",
          "output_type": "stream",
          "text": [
            "3 2\n",
            "1 2\n",
            "5 5\n",
            "-2 8\n"
          ]
        }
      ]
    },
    {
      "cell_type": "code",
      "metadata": {
        "id": "OVFY-YgtvH_f",
        "colab": {
          "base_uri": "https://localhost:8080/"
        },
        "outputId": "eeaacbaf-c5e4-4601-9c24-031b883c37ec"
      },
      "source": [
        "cnt = 0\n",
        "for i in range(N-1):\n",
        "    for j in range(i+1, N):\n",
        "        y = points[i]\n",
        "        z = points[j]\n",
        "        dis2 = 0\n",
        "        for k in range(D):\n",
        "            dis2 += (y[k] - z[k]) ** 2\n",
        "        dis = int(dis2 ** 0.5)\n",
        "        if dis ** 2 == dis2:\n",
        "            cnt += 1\n",
        "print(cnt)"
      ],
      "execution_count": null,
      "outputs": [
        {
          "output_type": "stream",
          "name": "stdout",
          "text": [
            "1\n"
          ]
        }
      ]
    },
    {
      "cell_type": "markdown",
      "metadata": {
        "id": "e_Mn7DohlSxK"
      },
      "source": [
        "## [C - Remainder Minimization 2019](https://atcoder.jp/contests/abc133/tasks/abc133_c)"
      ]
    },
    {
      "cell_type": "markdown",
      "metadata": {
        "id": "ok10XytZL4yz"
      },
      "source": [
        "区間$[L, R]$の中には$R-L+1$個の整数が存在する. このとき, $R-L+1 \\ge 2019$であれば必ず$2019$の倍数が存在するはずである.\n",
        "\n",
        "$L\\le i \\le R$に$2019$の倍数が存在すれば, $i$を$2019$の倍数にすることで$(i*j) % 2019 =0$とすることができる.\n",
        "\n",
        "よって, $R - L + 1\\ge 2019$のときは ans = 0.\n",
        "\n",
        "そうでない場合は, 全探索する.このときの計算量は$O(2019^2) = O(10^6)$"
      ]
    },
    {
      "cell_type": "code",
      "metadata": {
        "colab": {
          "base_uri": "https://localhost:8080/"
        },
        "id": "DvFRnzKZk6DA",
        "outputId": "28390ab5-7790-49e3-b4ee-499c61aa0d2d"
      },
      "source": [
        "L, R = map(int, input().split())"
      ],
      "execution_count": null,
      "outputs": [
        {
          "name": "stdout",
          "output_type": "stream",
          "text": [
            "2020 2040\n"
          ]
        }
      ]
    },
    {
      "cell_type": "code",
      "metadata": {
        "id": "ci0pw-rbK6BU"
      },
      "source": [
        "if R - L + 1 >= 2019:\n",
        "    print(0)\n",
        "else:\n",
        "    ans = 3000\n",
        "    for i in range(L, R):\n",
        "        for j in range(i+1, R+1):\n",
        "            ans = min((i*j)%2019, ans)\n",
        "    print(ans)"
      ],
      "execution_count": null,
      "outputs": []
    },
    {
      "cell_type": "markdown",
      "metadata": {
        "id": "RjE9N_RSppAc"
      },
      "source": [
        "## [D - Rain Flows into Dams](https://atcoder.jp/contests/abc133/tasks/abc133_d)"
      ]
    },
    {
      "cell_type": "markdown",
      "metadata": {
        "id": "mPFrzkDvHQw8"
      },
      "source": [
        "解説はNotionにかいた"
      ]
    },
    {
      "cell_type": "code",
      "metadata": {
        "id": "NrYqfKirpr1U",
        "colab": {
          "base_uri": "https://localhost:8080/"
        },
        "outputId": "43fd05ca-f6a1-4061-a688-41e3147354c0"
      },
      "source": [
        "N = int(input())\n",
        "A = list(map(int, input().split()))"
      ],
      "execution_count": null,
      "outputs": [
        {
          "name": "stdout",
          "output_type": "stream",
          "text": [
            "3\n",
            "2 2 4\n"
          ]
        }
      ]
    },
    {
      "cell_type": "code",
      "metadata": {
        "id": "MIQbRZfr66Xr"
      },
      "source": [
        "ans = [0] * N\n",
        "s = 0\n",
        "for i in range(N):\n",
        "    if i % 2 == 0:\n",
        "        s += A[i]\n",
        "    else:\n",
        "        s -= A[i]\n",
        "ans[0] = s"
      ],
      "execution_count": null,
      "outputs": []
    },
    {
      "cell_type": "code",
      "metadata": {
        "id": "IM1xRYWa6_cv"
      },
      "source": [
        "for i in range(1, N):\n",
        "    ans[i] = 2 * A[i-1] - ans[i-1]"
      ],
      "execution_count": null,
      "outputs": []
    },
    {
      "cell_type": "code",
      "metadata": {
        "colab": {
          "base_uri": "https://localhost:8080/"
        },
        "id": "JRYWUptywHNU",
        "outputId": "dba8475e-1ecf-4e7b-ede6-fe650c1f3981"
      },
      "source": [
        "print(*ans)"
      ],
      "execution_count": null,
      "outputs": [
        {
          "output_type": "stream",
          "name": "stdout",
          "text": [
            "4 0 4\n"
          ]
        }
      ]
    },
    {
      "cell_type": "markdown",
      "metadata": {
        "id": "V7PFrU-zwcEE"
      },
      "source": [
        "## [E - Virus Tree 2](https://atcoder.jp/contests/abc133/tasks/abc133_e)"
      ]
    },
    {
      "cell_type": "markdown",
      "metadata": {
        "id": "K19a4niaIKW9"
      },
      "source": [
        "解説はNotionにある"
      ]
    },
    {
      "cell_type": "code",
      "metadata": {
        "id": "hKp3vVAQ3PXa"
      },
      "source": [
        "from collections import deque"
      ],
      "execution_count": null,
      "outputs": []
    },
    {
      "cell_type": "code",
      "metadata": {
        "colab": {
          "base_uri": "https://localhost:8080/"
        },
        "id": "oLgRy7frwMDp",
        "outputId": "a1a6e684-b6d4-4292-d268-e16b424b9f17"
      },
      "source": [
        "N, K = map(int, input().split())\n",
        "mod = 10**9 + 7\n",
        "graph = [[] for _ in range(N)]\n",
        "for _ in range(N-1):\n",
        "    a, b = map(int, input().split())\n",
        "    a -= 1\n",
        "    b -= 1\n",
        "    graph[a].append(b)\n",
        "    graph[b].append(a)"
      ],
      "execution_count": null,
      "outputs": [
        {
          "name": "stdout",
          "output_type": "stream",
          "text": [
            "5 4\n",
            "1 2\n",
            "1 3\n",
            "1 4\n",
            "4 5\n"
          ]
        }
      ]
    },
    {
      "cell_type": "code",
      "metadata": {
        "id": "Jn0gARxM-WrA"
      },
      "source": [
        "# mod上でのpermutationを求めるための処理\n",
        "fact = [1] * (K+1)\n",
        "inv = [1] * (K+1)\n",
        "inv[0] = 0\n",
        "factinv = [1] * (K+1)\n",
        "for i in range(2, K+1):\n",
        "    fact[i] = (fact[i-1] * i) % mod\n",
        "    inv[i] = (-inv[mod % i] * (mod // i)) % mod\n",
        "    factinv[i] = (factinv[i-1] * inv[i]) % mod\n",
        "def per_mod(n, r):\n",
        "    if (r < 0) or (n < r):\n",
        "        return 0\n",
        "    return fact[n] * factinv[n-r] % mod"
      ],
      "execution_count": null,
      "outputs": []
    },
    {
      "cell_type": "code",
      "metadata": {
        "id": "Ty8iRDIjzVkJ"
      },
      "source": [
        "def bfs(s):\n",
        "    dq = deque([s])\n",
        "    depth = [-1] * N\n",
        "    depth[s] = 0\n",
        "    ans = K\n",
        "    while dq:\n",
        "        now = dq.popleft()\n",
        "        num_child = 0\n",
        "        for to in graph[now]:\n",
        "            if depth[to] == -1:\n",
        "                num_child += 1\n",
        "                depth[to] = depth[now] + 1\n",
        "                dq.append(to)\n",
        "        if num_child != 0:\n",
        "            if depth[now] == 0:\n",
        "                ans *= per_mod(K-1, num_child) % mod\n",
        "            else:\n",
        "                ans *= per_mod(K-2, num_child) % mod\n",
        "    return ans"
      ],
      "execution_count": null,
      "outputs": []
    },
    {
      "cell_type": "code",
      "metadata": {
        "colab": {
          "base_uri": "https://localhost:8080/"
        },
        "id": "ffr9BD-lz_3U",
        "outputId": "98b9f596-35c4-4ff5-ef86-ab8ca5ade283"
      },
      "source": [
        "ans = bfs(0)\n",
        "print(ans % mod)"
      ],
      "execution_count": null,
      "outputs": [
        {
          "output_type": "stream",
          "name": "stdout",
          "text": [
            "3 3\n",
            "6\n"
          ]
        }
      ]
    }
  ]
}