{
  "nbformat": 4,
  "nbformat_minor": 0,
  "metadata": {
    "colab": {
      "name": "ABC134.ipynb",
      "provenance": [],
      "authorship_tag": "ABX9TyMePDz0LoIbl8iAdHaSyTxf",
      "include_colab_link": true
    },
    "kernelspec": {
      "name": "python3",
      "display_name": "Python 3"
    },
    "language_info": {
      "name": "python"
    }
  },
  "cells": [
    {
      "cell_type": "markdown",
      "metadata": {
        "id": "view-in-github",
        "colab_type": "text"
      },
      "source": [
        "<a href=\"https://colab.research.google.com/github/Hidestament/AtCoder/blob/main/ABC/ABC134.ipynb\" target=\"_parent\"><img src=\"https://colab.research.google.com/assets/colab-badge.svg\" alt=\"Open In Colab\"/></a>"
      ]
    },
    {
      "cell_type": "markdown",
      "metadata": {
        "id": "8jL4dOE_AP9E"
      },
      "source": [
        "# [AtCoder Beginner Contest 134](https://atcoder.jp/contests/abc134)"
      ]
    },
    {
      "cell_type": "markdown",
      "metadata": {
        "id": "kDCSTsVNATgl"
      },
      "source": [
        "## [A - Dodecagon](https://atcoder.jp/contests/abc134/tasks/abc134_a)"
      ]
    },
    {
      "cell_type": "code",
      "metadata": {
        "colab": {
          "base_uri": "https://localhost:8080/"
        },
        "id": "1EITKJBzAOvE",
        "outputId": "4b32b941-1740-4879-9c16-26e571b3fd84"
      },
      "source": [
        "r = int(input())\n",
        "print(3 * r * r)"
      ],
      "execution_count": null,
      "outputs": [
        {
          "output_type": "stream",
          "name": "stdout",
          "text": [
            "4\n",
            "48\n"
          ]
        }
      ]
    },
    {
      "cell_type": "markdown",
      "metadata": {
        "id": "lIhSCvgcAfSD"
      },
      "source": [
        "## [B - Golden Apple](https://atcoder.jp/contests/abc134/tasks/abc134_b)"
      ]
    },
    {
      "cell_type": "code",
      "metadata": {
        "colab": {
          "base_uri": "https://localhost:8080/"
        },
        "id": "iEmyv2vKAa8m",
        "outputId": "f295fbf2-6a81-49e0-872d-b5a57e256c8c"
      },
      "source": [
        "N, D = map(int, input().split())\n",
        "num = 2 * D + 1\n",
        "print(-(-N//num))"
      ],
      "execution_count": null,
      "outputs": [
        {
          "output_type": "stream",
          "name": "stdout",
          "text": [
            "20 4\n",
            "3\n"
          ]
        }
      ]
    },
    {
      "cell_type": "markdown",
      "metadata": {
        "id": "6Kbo8cFZBIRE"
      },
      "source": [
        "## [C - Exception Handling](https://atcoder.jp/contests/abc134/tasks/abc134_c)"
      ]
    },
    {
      "cell_type": "code",
      "metadata": {
        "colab": {
          "base_uri": "https://localhost:8080/"
        },
        "id": "YjWVhoufBAtO",
        "outputId": "80772afe-b5c8-4ddf-c300-a9073b7e3f5a"
      },
      "source": [
        "N = int(input())\n",
        "A = [int(input()) for _ in range(N)]\n",
        "sortA = sorted(A, reverse=True)"
      ],
      "execution_count": null,
      "outputs": [
        {
          "name": "stdout",
          "output_type": "stream",
          "text": [
            "3\n",
            "1\n",
            "4\n",
            "3\n"
          ]
        }
      ]
    },
    {
      "cell_type": "code",
      "metadata": {
        "id": "rgH6HbkOBsJ6"
      },
      "source": [
        "for i in range(N):\n",
        "    maxa = sortA[0]\n",
        "    if A[i] == maxa: print(sortA[1])\n",
        "    else: print(maxa)"
      ],
      "execution_count": null,
      "outputs": []
    },
    {
      "cell_type": "markdown",
      "metadata": {
        "id": "RjHTtlntCEjZ"
      },
      "source": [
        "## [D - Preparing Boxes](https://atcoder.jp/contests/abc134/tasks/abc134_d)"
      ]
    },
    {
      "cell_type": "markdown",
      "metadata": {
        "id": "xfy_xzvXNTH6"
      },
      "source": [
        "解説は[Notion](https://www.notion.so/Preparing-Boxes-04f95fa2dee343b5b8707827fa083086)"
      ]
    },
    {
      "cell_type": "code",
      "metadata": {
        "colab": {
          "base_uri": "https://localhost:8080/"
        },
        "id": "qSZa-7iYCHvc",
        "outputId": "d7a3e2ee-a95f-43ec-db9d-31c98a9f6e4e"
      },
      "source": [
        "N = int(input())\n",
        "A = list(map(int, input().split()))"
      ],
      "execution_count": null,
      "outputs": [
        {
          "name": "stdout",
          "output_type": "stream",
          "text": [
            "3\n",
            "1 0 0\n"
          ]
        }
      ]
    },
    {
      "cell_type": "code",
      "metadata": {
        "id": "XVGnkBLRCsyr"
      },
      "source": [
        "B = [0] * N\n",
        "for i in range(N-1, -1, -1):\n",
        "    s = 0\n",
        "    for j in range(i, N, i+1):\n",
        "        s += B[j]\n",
        "    s %= 2\n",
        "    B[i] = abs(A[i] - s)"
      ],
      "execution_count": null,
      "outputs": []
    },
    {
      "cell_type": "code",
      "metadata": {
        "id": "OG1NXlU4EP8Q",
        "colab": {
          "base_uri": "https://localhost:8080/"
        },
        "outputId": "707fe232-2439-4a5a-c013-0b2c18576cd0"
      },
      "source": [
        "print(sum(B))\n",
        "ans = [i+1 for i in range(N) if B[i] == 1]\n",
        "print(*ans)"
      ],
      "execution_count": null,
      "outputs": [
        {
          "output_type": "stream",
          "name": "stdout",
          "text": [
            "1\n",
            "1\n"
          ]
        }
      ]
    },
    {
      "cell_type": "markdown",
      "metadata": {
        "id": "eLof-UmANq3Z"
      },
      "source": [
        "## [E - Sequence Decomposing](https://atcoder.jp/contests/abc134/tasks/abc134_e)"
      ]
    },
    {
      "cell_type": "markdown",
      "metadata": {
        "id": "lUZbmxcVKPT6"
      },
      "source": [
        "解説は[Notion](https://www.notion.so/Sequence-Decomposing-8fb34630f9fb430c95bd3cb15f0f514b)"
      ]
    },
    {
      "cell_type": "code",
      "metadata": {
        "colab": {
          "base_uri": "https://localhost:8080/"
        },
        "id": "U_k2JbexNDLl",
        "outputId": "dbd15f57-8d9f-4237-d9ef-0eb7af4e14a6"
      },
      "source": [
        "N = int(input())\n",
        "A = [int(input()) for _ in range(N)]"
      ],
      "execution_count": null,
      "outputs": [
        {
          "name": "stdout",
          "output_type": "stream",
          "text": [
            "5\n",
            "2\n",
            "1\n",
            "4\n",
            "5\n",
            "3\n"
          ]
        }
      ]
    },
    {
      "cell_type": "code",
      "metadata": {
        "id": "_z0YK12l32B6"
      },
      "source": [
        "from bisect import bisect_right\n",
        "def lis(A: list):\n",
        "    LIS = [A[0]]\n",
        "    for a in A[1:]:\n",
        "        if a >= LIS[-1]:\n",
        "            LIS.append(a)\n",
        "        else:\n",
        "            ind = bisect_right(LIS, a)\n",
        "            LIS[ind] = a\n",
        "    return len(LIS)"
      ],
      "execution_count": null,
      "outputs": []
    },
    {
      "cell_type": "code",
      "metadata": {
        "id": "VJY_YGdl31_g"
      },
      "source": [
        "print(lis(A[::-1]))"
      ],
      "execution_count": null,
      "outputs": []
    }
  ]
}