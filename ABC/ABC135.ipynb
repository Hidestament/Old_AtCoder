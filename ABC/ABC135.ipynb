{
  "nbformat": 4,
  "nbformat_minor": 0,
  "metadata": {
    "colab": {
      "name": "ABC135.ipynb",
      "provenance": [],
      "authorship_tag": "ABX9TyNzSdHh/8MPRjBHrSZ2I696",
      "include_colab_link": true
    },
    "kernelspec": {
      "name": "python3",
      "display_name": "Python 3"
    },
    "language_info": {
      "name": "python"
    }
  },
  "cells": [
    {
      "cell_type": "markdown",
      "metadata": {
        "id": "view-in-github",
        "colab_type": "text"
      },
      "source": [
        "<a href=\"https://colab.research.google.com/github/Hidestament/AtCoder/blob/main/ABC/ABC135.ipynb\" target=\"_parent\"><img src=\"https://colab.research.google.com/assets/colab-badge.svg\" alt=\"Open In Colab\"/></a>"
      ]
    },
    {
      "cell_type": "markdown",
      "metadata": {
        "id": "GEuw0ejby0Ko"
      },
      "source": [
        "# [ABC135](https://atcoder.jp/contests/abc135)"
      ]
    },
    {
      "cell_type": "markdown",
      "metadata": {
        "id": "mssXMpOjy3Nd"
      },
      "source": [
        "## [A - Harmony](https://atcoder.jp/contests/abc135/tasks/abc135_a)"
      ]
    },
    {
      "cell_type": "markdown",
      "metadata": {
        "id": "HbEIzRrb0Bk_"
      },
      "source": [
        "$$\n",
        "|A-K| = |B-K| \\\\\n",
        "\\Leftrightarrow (A^2 - 2AK + K^2) = (B^2 - 2KB + K^2) \\\\\n",
        "\\Leftrightarrow A^2 - B^2 = 2AK - 2KB \\\\\n",
        "\\Leftrightarrow (A-B)(A+B) = 2K(A-B) \\\\\n",
        "\\Leftrightarrow K = (A+B)/2\n",
        "$$\n",
        "よって, A+Bが奇数だと答えが存在しない. 偶数の場合は, $(A+B)/2$が答え"
      ]
    },
    {
      "cell_type": "code",
      "metadata": {
        "id": "lOwfwuAhyyIe"
      },
      "source": [
        "A, B = map(int, input().split())\n",
        "if (A+B) % 2 == 0:\n",
        "  print((A+B)//2)\n",
        "else:\n",
        "  print(\"IMPOSSIBLE\") "
      ],
      "execution_count": null,
      "outputs": []
    },
    {
      "cell_type": "markdown",
      "metadata": {
        "id": "3iamx8x80a6D"
      },
      "source": [
        "## [B - 0 or 1 Swap](https://atcoder.jp/contests/abc135/tasks/abc135_b)"
      ]
    },
    {
      "cell_type": "markdown",
      "metadata": {
        "id": "2nKL43lx4xKl"
      },
      "source": [
        "全列挙で頑張る"
      ]
    },
    {
      "cell_type": "code",
      "metadata": {
        "colab": {
          "base_uri": "https://localhost:8080/"
        },
        "id": "NAGzjXtl0eRg",
        "outputId": "d4944f6e-6f2a-4f44-c4e2-617da26c7806"
      },
      "source": [
        "N = int(input())\n",
        "P = list(map(int, input().split()))\n",
        "sort_P = sorted(P)\n",
        "if sort_P == P:\n",
        "  ans = True\n",
        "else:\n",
        "  ans = False\n",
        "for i in range(N-1):\n",
        "  for j in range(i+1, N):\n",
        "    new = P[:]\n",
        "    new[i], new[j] = new[j], new[i]\n",
        "    if new == sort_P:\n",
        "      ans = True\n",
        "print(\"YES\" if ans else \"NO\")"
      ],
      "execution_count": null,
      "outputs": [
        {
          "output_type": "stream",
          "text": [
            "7\n",
            "1 2 3 4 5 6 7\n",
            "NO\n"
          ],
          "name": "stdout"
        }
      ]
    },
    {
      "cell_type": "markdown",
      "metadata": {
        "id": "aJxkvhGe4y40"
      },
      "source": [
        "Pをソートした配列をQとする.\n",
        "\n",
        "任意の$1 \\leq i\\leq N$について, $q_i$と$p_i$が異なる$i$の個数が2個以下のときその2個を1回swapすれば, ソートされた配列をPから作ることができる.\n",
        "\n",
        "ちなみに, この異なる個数が1個になることはありえない. 1個だと, それと対になるもう片方も$p_j \\neq q_j$となるはずだからである."
      ]
    },
    {
      "cell_type": "code",
      "metadata": {
        "id": "k2G03nAk4zDr"
      },
      "source": [
        "N = int(input())\n",
        "P = list(map(int, input().split()))\n",
        "Q = sorted(P)\n",
        "\n",
        "cnt = 0\n",
        "for i in range(N):\n",
        "  if P[i] != Q[i]:\n",
        "    cnt += 1\n",
        "print(\"YES\" if cnt <= 2 else \"NO\")"
      ],
      "execution_count": null,
      "outputs": []
    },
    {
      "cell_type": "markdown",
      "metadata": {
        "id": "748zOfVb1lYX"
      },
      "source": [
        "## [C - City Savers](https://atcoder.jp/contests/abc135/tasks/abc135_c)"
      ]
    },
    {
      "cell_type": "markdown",
      "metadata": {
        "id": "hI9PyifK5cLH"
      },
      "source": [
        "街1にいるモンスターは, 勇者1しか倒すことができない.\n",
        "\n",
        "よって, 勇者1は街1いにいるモンスターを全力で$\\min(A_1, B_1)$体倒して, 残った力で街2にいるモンスターを全力で $\\min(A_2, B_1 - \\min(A_1, B_1))$ 体倒すのが最適となる.\n",
        "\n",
        "これをどんどん繰り返していけば良い.\n",
        "\n",
        "これをちゃんと証明しようとするには, この問題を最大流問題に帰着することができる. ただちょっと難しかった... "
      ]
    },
    {
      "cell_type": "code",
      "metadata": {
        "colab": {
          "base_uri": "https://localhost:8080/"
        },
        "id": "RBiY0Jiv0-hN",
        "outputId": "a48c5162-8163-4456-87bf-0234e3230b39"
      },
      "source": [
        "N = int(input())\n",
        "A = list(map(int, input().split()))\n",
        "B = list(map(int, input().split()))"
      ],
      "execution_count": null,
      "outputs": [
        {
          "output_type": "stream",
          "text": [
            "3\n",
            "5 6 3 8\n",
            "5 100 8\n"
          ],
          "name": "stdout"
        }
      ]
    },
    {
      "cell_type": "code",
      "metadata": {
        "colab": {
          "base_uri": "https://localhost:8080/"
        },
        "id": "dQrSTqE32tFZ",
        "outputId": "86c70254-b421-45c7-f4e0-a98030b20777"
      },
      "source": [
        "ans = 0\n",
        "for i in range(len(B)):\n",
        "  if A[i] > B[i]:\n",
        "    temp1 = B[i]\n",
        "    B[i] = 0\n",
        "  else:\n",
        "    temp1 = A[i]\n",
        "    B[i] -= A[i]\n",
        "\n",
        "  if A[i+1] > B[i]:\n",
        "    temp2 = B[i]\n",
        "    A[i+1] -= B[i]\n",
        "  else:\n",
        "    temp2 = A[i+1]\n",
        "    A[i+1] = 0  \n",
        "  ans += temp1 + temp2\n",
        "print(ans)"
      ],
      "execution_count": null,
      "outputs": [
        {
          "output_type": "stream",
          "text": [
            "22\n"
          ],
          "name": "stdout"
        }
      ]
    },
    {
      "cell_type": "markdown",
      "metadata": {
        "id": "0SfvnDk4L2H6"
      },
      "source": [
        "上のやつをもう少しきれいにかく"
      ]
    },
    {
      "cell_type": "code",
      "metadata": {
        "id": "3n3DA9YS2xl0"
      },
      "source": [
        "N = int(input())\n",
        "A = list(map(int, input().split()))\n",
        "B = list(map(int, input().split()))\n",
        "ans = 0\n",
        "for i in range(len(B)):\n",
        "  temp1 = min(A[i], B[i])\n",
        "  temp2 = min(A[i+1], B[i] - temp1)\n",
        "  # A[i+1]の更新を忘れずに\n",
        "  A[i+1] -= temp2\n",
        "  ans += temp1 + temp2\n",
        "print(ans)"
      ],
      "execution_count": null,
      "outputs": []
    },
    {
      "cell_type": "markdown",
      "metadata": {
        "id": "ytU-adEaAlZz"
      },
      "source": [
        "## [D -Digits Parade](https://atcoder.jp/contests/abc135/tasks/abc135_d)"
      ]
    },
    {
      "cell_type": "markdown",
      "metadata": {
        "id": "YmlP2KzxNW4-"
      },
      "source": [
        "桁DPと呼ばれる問題. まだちょっとよくわからないです"
      ]
    },
    {
      "cell_type": "code",
      "metadata": {
        "id": "ZVNHPYKWF0Ge"
      },
      "source": [
        ""
      ],
      "execution_count": null,
      "outputs": []
    }
  ]
}