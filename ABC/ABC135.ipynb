{
  "nbformat": 4,
  "nbformat_minor": 0,
  "metadata": {
    "colab": {
      "name": "ABC135.ipynb",
      "provenance": [],
      "authorship_tag": "ABX9TyPtjdJWcqUl3H8OXG0pnMGk",
      "include_colab_link": true
    },
    "kernelspec": {
      "name": "python3",
      "display_name": "Python 3"
    },
    "language_info": {
      "name": "python"
    }
  },
  "cells": [
    {
      "cell_type": "markdown",
      "metadata": {
        "id": "view-in-github",
        "colab_type": "text"
      },
      "source": [
        "<a href=\"https://colab.research.google.com/github/Hidestament/AtCoder/blob/main/ABC/ABC135.ipynb\" target=\"_parent\"><img src=\"https://colab.research.google.com/assets/colab-badge.svg\" alt=\"Open In Colab\"/></a>"
      ]
    },
    {
      "cell_type": "markdown",
      "metadata": {
        "id": "WOEZS3P8_WBz"
      },
      "source": [
        "# [AtCoder Beginner Contest 135](https://atcoder.jp/contests/abc135)"
      ]
    },
    {
      "cell_type": "markdown",
      "metadata": {
        "id": "tju7Mu80_aDi"
      },
      "source": [
        "## [A - Harmony](https://atcoder.jp/contests/abc135/tasks/abc135_a)"
      ]
    },
    {
      "cell_type": "code",
      "metadata": {
        "colab": {
          "base_uri": "https://localhost:8080/"
        },
        "id": "EK-nxFZp_UkY",
        "outputId": "467674fa-3725-4c94-c53b-070f6247b5f1"
      },
      "source": [
        "A, B = map(int, input().split())\n",
        "k = (A**2 - B**2) // (2*(A - B))\n",
        "if (A**2 - B**2) == 2 * k * (A - B):\n",
        "    print(k)\n",
        "else:\n",
        "    print(\"IMPOSSIBLE\")"
      ],
      "execution_count": null,
      "outputs": [
        {
          "output_type": "stream",
          "name": "stdout",
          "text": [
            "2 16\n",
            "9\n"
          ]
        }
      ]
    },
    {
      "cell_type": "markdown",
      "metadata": {
        "id": "tUzmqgi0AKUR"
      },
      "source": [
        "## [B - 0 or 1 Swap](https://atcoder.jp/contests/abc135/tasks/abc135_b)"
      ]
    },
    {
      "cell_type": "code",
      "metadata": {
        "id": "sHKXAjLB_rAL",
        "colab": {
          "base_uri": "https://localhost:8080/"
        },
        "outputId": "94a2665a-d149-4e09-82f3-8c45f78c5752"
      },
      "source": [
        "N = int(input())\n",
        "P = list(map(int, input().split()))\n",
        "rP = sorted(P)"
      ],
      "execution_count": null,
      "outputs": [
        {
          "name": "stdout",
          "output_type": "stream",
          "text": [
            "5\n",
            "5 2 3 4 1\n"
          ]
        }
      ]
    },
    {
      "cell_type": "code",
      "metadata": {
        "colab": {
          "base_uri": "https://localhost:8080/"
        },
        "id": "aBDt2sEeOZO0",
        "outputId": "1e7c3438-cce0-49da-dc8b-7ffa1ae9c0d0"
      },
      "source": [
        "diff = 0\n",
        "for i in range(N):\n",
        "    if P[i] != rP[i]:\n",
        "        diff += 1\n",
        "print(\"YES\" if diff <= 2 else \"NO\")"
      ],
      "execution_count": null,
      "outputs": [
        {
          "output_type": "stream",
          "name": "stdout",
          "text": [
            "YES\n"
          ]
        }
      ]
    },
    {
      "cell_type": "markdown",
      "metadata": {
        "id": "8EkBE359O6FQ"
      },
      "source": [
        "## [C - City Savers](https://atcoder.jp/contests/abc135/tasks/abc135_c)"
      ]
    },
    {
      "cell_type": "code",
      "metadata": {
        "colab": {
          "base_uri": "https://localhost:8080/"
        },
        "id": "MWl_TCChOi9W",
        "outputId": "53fc8807-4066-4226-bd37-71747c97418f"
      },
      "source": [
        "N = int(input())\n",
        "A = list(map(int, input().split()))\n",
        "B = list(map(int, input().split()))"
      ],
      "execution_count": null,
      "outputs": [
        {
          "name": "stdout",
          "output_type": "stream",
          "text": [
            "3\n",
            "5 6 3 8\n",
            "5 100 8\n"
          ]
        }
      ]
    },
    {
      "cell_type": "code",
      "metadata": {
        "colab": {
          "base_uri": "https://localhost:8080/"
        },
        "id": "vNHgu6wvPLda",
        "outputId": "2c34da99-1da2-4b92-fb0a-ff66d7544211"
      },
      "source": [
        "ans = 0\n",
        "for i in range(N):\n",
        "    b = B[i]\n",
        "    temp = min(b, A[i])\n",
        "    ans += temp\n",
        "    b -= temp\n",
        "    temp2 = min(b, A[i+1])\n",
        "    ans += temp2\n",
        "    A[i+1] -= temp2"
      ],
      "execution_count": null,
      "outputs": [
        {
          "output_type": "stream",
          "name": "stdout",
          "text": [
            "5\n",
            "0\n",
            "6\n",
            "3\n",
            "0\n",
            "8\n"
          ]
        }
      ]
    },
    {
      "cell_type": "code",
      "metadata": {
        "colab": {
          "base_uri": "https://localhost:8080/"
        },
        "id": "z5FG6WeLQJjt",
        "outputId": "ea9c744a-83d3-43eb-fa90-4daa5379a1d9"
      },
      "source": [
        "print(ans)"
      ],
      "execution_count": null,
      "outputs": [
        {
          "output_type": "execute_result",
          "data": {
            "text/plain": [
              "22"
            ]
          },
          "metadata": {},
          "execution_count": 8
        }
      ]
    },
    {
      "cell_type": "markdown",
      "metadata": {
        "id": "N7ek5md3otMR"
      },
      "source": [
        "## [D - Digits Parade](https://atcoder.jp/contests/abc135/tasks/abc135_d)"
      ]
    },
    {
      "cell_type": "markdown",
      "metadata": {
        "id": "AnHijkWJYpx1"
      },
      "source": [
        "解説は[Notion](https://www.notion.so/Digits-Parade-90eb15cd01b644eab723eb8fec5c9eed)"
      ]
    },
    {
      "cell_type": "code",
      "metadata": {
        "colab": {
          "base_uri": "https://localhost:8080/"
        },
        "id": "el2X2nkUCLR_",
        "outputId": "44dd4d13-6857-4bae-d3bb-522be20e168a"
      },
      "source": [
        "S = str(input())"
      ],
      "execution_count": null,
      "outputs": [
        {
          "name": "stdout",
          "output_type": "stream",
          "text": [
            "??2??5\n"
          ]
        }
      ]
    },
    {
      "cell_type": "code",
      "metadata": {
        "id": "0_xAmZCQDZwf"
      },
      "source": [
        "mod = 10**9 + 7\n",
        "DP = [[0] * 13 for _ in range(len(S) + 1)]\n",
        "DP[0][0] = 1"
      ],
      "execution_count": null,
      "outputs": []
    },
    {
      "cell_type": "code",
      "metadata": {
        "id": "0n641CX0CLPI"
      },
      "source": [
        "for i in range(1, len(S)+1):\n",
        "    s = S[i-1]\n",
        "    if s == \"?\":\n",
        "        for j in range(10):\n",
        "            for k in range(13):\n",
        "                DP[i][(10*k + j)%13] += DP[i-1][k] % mod\n",
        "    else:\n",
        "        for k in range(13):\n",
        "            DP[i][(10*k + int(s))%13] += DP[i-1][k]%mod"
      ],
      "execution_count": null,
      "outputs": []
    },
    {
      "cell_type": "code",
      "metadata": {
        "colab": {
          "base_uri": "https://localhost:8080/"
        },
        "id": "1NLDaHpPCmSA",
        "outputId": "7067d9cd-d7c0-4e16-9a11-da4b8cb4da54"
      },
      "source": [
        "print(DP[-1][5])"
      ],
      "execution_count": null,
      "outputs": [
        {
          "output_type": "stream",
          "name": "stdout",
          "text": [
            "768\n"
          ]
        }
      ]
    },
    {
      "cell_type": "code",
      "metadata": {
        "colab": {
          "base_uri": "https://localhost:8080/"
        },
        "id": "MqZ0JZAzjWry",
        "outputId": "d0abacbf-8491-49aa-9521-7ff3ec2f80fe"
      },
      "source": [
        "DP"
      ],
      "execution_count": 23,
      "outputs": [
        {
          "output_type": "execute_result",
          "data": {
            "text/plain": [
              "[[1, 0, 0, 0, 0, 0, 0, 0, 0, 0, 0, 0, 0],\n",
              " [1, 1, 1, 1, 1, 1, 1, 1, 1, 1, 0, 0, 0],\n",
              " [8, 8, 8, 8, 8, 8, 8, 8, 8, 7, 7, 7, 7],\n",
              " [8, 7, 8, 8, 8, 7, 8, 8, 7, 8, 8, 7, 8],\n",
              " [77, 77, 76, 77, 77, 77, 76, 77, 78, 78, 77, 76, 77],\n",
              " [768, 768, 769, 770, 771, 772, 771, 770, 769, 768, 768, 768, 768],\n",
              " [771, 768, 768, 772, 768, 768, 771, 769, 768, 770, 770, 768, 769]]"
            ]
          },
          "metadata": {},
          "execution_count": 23
        }
      ]
    },
    {
      "cell_type": "code",
      "metadata": {
        "colab": {
          "base_uri": "https://localhost:8080/"
        },
        "id": "PJA5jc6EjXsx",
        "outputId": "20f22e63-749f-445f-d7ee-f458f12c9491"
      },
      "source": [
        ""
      ],
      "execution_count": 22,
      "outputs": [
        {
          "output_type": "execute_result",
          "data": {
            "text/plain": [
              "2"
            ]
          },
          "metadata": {},
          "execution_count": 22
        }
      ]
    },
    {
      "cell_type": "code",
      "metadata": {
        "id": "QaYx8Gp_jk4o"
      },
      "source": [
        ""
      ],
      "execution_count": null,
      "outputs": []
    }
  ]
}