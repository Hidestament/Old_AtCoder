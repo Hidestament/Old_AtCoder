{
  "nbformat": 4,
  "nbformat_minor": 0,
  "metadata": {
    "colab": {
      "name": "ABC136.ipynb",
      "provenance": [],
      "authorship_tag": "ABX9TyMnbYiTnh62AvoSlFqZrVDV",
      "include_colab_link": true
    },
    "kernelspec": {
      "name": "python3",
      "display_name": "Python 3"
    },
    "language_info": {
      "name": "python"
    }
  },
  "cells": [
    {
      "cell_type": "markdown",
      "metadata": {
        "id": "view-in-github",
        "colab_type": "text"
      },
      "source": [
        "<a href=\"https://colab.research.google.com/github/Hidestament/AtCoder/blob/main/ABC/ABC136.ipynb\" target=\"_parent\"><img src=\"https://colab.research.google.com/assets/colab-badge.svg\" alt=\"Open In Colab\"/></a>"
      ]
    },
    {
      "cell_type": "markdown",
      "metadata": {
        "id": "XMZQw1VGZ4AY"
      },
      "source": [
        "# [AtCoder Beginner Contest 136](https://atcoder.jp/contests/abc136)"
      ]
    },
    {
      "cell_type": "markdown",
      "metadata": {
        "id": "WQJ2N-zyZ7A8"
      },
      "source": [
        "## [A - Transfer](https://atcoder.jp/contests/abc136/tasks/abc136_a)"
      ]
    },
    {
      "cell_type": "code",
      "metadata": {
        "colab": {
          "base_uri": "https://localhost:8080/"
        },
        "id": "IcmEx2X1Z2Kx",
        "outputId": "eab0a89e-36ec-4df2-8f40-8dab8f708ce8"
      },
      "source": [
        "A, B, C = map(int, input().split())\n",
        "res = A - B\n",
        "print(max(0, C - res))"
      ],
      "execution_count": 1,
      "outputs": [
        {
          "output_type": "stream",
          "name": "stdout",
          "text": [
            "6 4 3\n",
            "1\n"
          ]
        }
      ]
    },
    {
      "cell_type": "markdown",
      "metadata": {
        "id": "9UZ3WOFnaPQw"
      },
      "source": [
        "## [B - Uneven Numbers](https://atcoder.jp/contests/abc136/tasks/abc136_b)"
      ]
    },
    {
      "cell_type": "code",
      "metadata": {
        "colab": {
          "base_uri": "https://localhost:8080/"
        },
        "id": "Z26KMKscaLP4",
        "outputId": "81751028-30ee-4b25-f217-c0412cb63dd6"
      },
      "source": [
        "N = int(input())\n",
        "ans = 0\n",
        "for i in range(1, N+1):\n",
        "    s = str(i)\n",
        "    if len(s) % 2 == 1:\n",
        "        ans += 1\n",
        "print(ans)"
      ],
      "execution_count": 2,
      "outputs": [
        {
          "output_type": "stream",
          "name": "stdout",
          "text": [
            "11\n",
            "9\n"
          ]
        }
      ]
    },
    {
      "cell_type": "markdown",
      "metadata": {
        "id": "CrCqBLcHad2t"
      },
      "source": [
        "## [C - Build Stairs](https://atcoder.jp/contests/abc136/tasks/abc136_c)"
      ]
    },
    {
      "cell_type": "markdown",
      "metadata": {
        "id": "B6NiRU1Ob1CJ"
      },
      "source": [
        "小さくできるならしたほうが良いので小さくする.\n",
        "\n",
        "最後に操作を行った配列と, その配列をソートした配列が同じならYes. 異なるならNo"
      ]
    },
    {
      "cell_type": "code",
      "metadata": {
        "colab": {
          "base_uri": "https://localhost:8080/"
        },
        "id": "ZfI-9HiXapzo",
        "outputId": "a06c8b69-c91b-43a5-e59a-d4b520fbc0d6"
      },
      "source": [
        "N = int(input())\n",
        "H = list(map(int, input().split()))\n",
        "H[0] -= 1\n",
        "for i in range(1, N):\n",
        "    if H[i] - 1 >= H[i-1]:\n",
        "        H[i] -= 1\n",
        "print(\"Yes\" if H == sorted(H) else \"No\")"
      ],
      "execution_count": 14,
      "outputs": [
        {
          "output_type": "stream",
          "name": "stdout",
          "text": [
            "1\n",
            "10000000\n",
            "Yes\n"
          ]
        }
      ]
    },
    {
      "cell_type": "markdown",
      "metadata": {
        "id": "b0FOTHUMbzwG"
      },
      "source": [
        "## [D - Gathering Children](https://atcoder.jp/contests/abc136/tasks/abc136_d)"
      ]
    },
    {
      "cell_type": "markdown",
      "metadata": {
        "id": "s6Ndnt-9gsvm"
      },
      "source": [
        "参考:\n",
        "- groupby : https://qiita.com/DaikiSuyama/items/07e237b7372e7c7b3432\n",
        "- https://drken1215.hatenablog.com/entry/2020/12/29/190100\n",
        "\n",
        "解説はノートに書いた.\n",
        "\n",
        "\"RL\"の箇所のみを考えればよく, 他はラグレンス圧縮してしまえばOK.\n",
        "\n",
        "ラグレンス圧縮をした結果, 圧縮された\"R\"より左にある\"R\"は, \"R\"と\"L\"の境界線から距離が偶数なら\"R\"に+1され, 奇数なら右の\"L\"に+1される.\n",
        "\n",
        "逆に, \"L\"では, \"L\"より右にあった\"L\"が, 境界線からの距離が偶数なら\"L\"に+1され, 奇数なら\"R\"に+1される.\n",
        "\n",
        "ラグレンス圧縮を実現するこれらの実装は, itertools.groupbyを使うと良い."
      ]
    },
    {
      "cell_type": "code",
      "metadata": {
        "colab": {
          "base_uri": "https://localhost:8080/"
        },
        "id": "BEiHH823bTrA",
        "outputId": "436b36f3-bce6-48eb-ad7b-ea7cc5c7c97f"
      },
      "source": [
        "from itertools import groupby\n",
        "S = str(input())"
      ],
      "execution_count": 33,
      "outputs": [
        {
          "name": "stdout",
          "output_type": "stream",
          "text": [
            "RL\n"
          ]
        }
      ]
    },
    {
      "cell_type": "code",
      "metadata": {
        "id": "mbZAJxzydSrE"
      },
      "source": [
        "ans = [0] * len(S)\n",
        "now = 0\n",
        "for s, num in groupby(S):\n",
        "    num = len(list(num))\n",
        "    if s == \"R\":\n",
        "        now += num\n",
        "        ans[now] += (num//2)\n",
        "        ans[now-1] += 1 + (num-1)//2\n",
        "    else:\n",
        "        ans[now] += 1 + (num-1)//2\n",
        "        ans[now-1] += num // 2\n",
        "        now += num"
      ],
      "execution_count": 34,
      "outputs": []
    },
    {
      "cell_type": "code",
      "metadata": {
        "colab": {
          "base_uri": "https://localhost:8080/"
        },
        "id": "KWCpTJlWgBep",
        "outputId": "ec31c12f-9c7a-4d55-dfa3-8efc1756af91"
      },
      "source": [
        "print(*ans)"
      ],
      "execution_count": 35,
      "outputs": [
        {
          "output_type": "stream",
          "name": "stdout",
          "text": [
            "1 1\n"
          ]
        }
      ]
    },
    {
      "cell_type": "code",
      "metadata": {
        "id": "LpOxuWI1gCNk"
      },
      "source": [
        ""
      ],
      "execution_count": null,
      "outputs": []
    }
  ]
}