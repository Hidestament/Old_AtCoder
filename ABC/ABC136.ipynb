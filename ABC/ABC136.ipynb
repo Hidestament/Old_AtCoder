{
  "nbformat": 4,
  "nbformat_minor": 0,
  "metadata": {
    "colab": {
      "name": "ABC136.ipynb",
      "provenance": [],
      "authorship_tag": "ABX9TyMe/Syf6hLf6Mr54r9C6Eg/",
      "include_colab_link": true
    },
    "kernelspec": {
      "name": "python3",
      "display_name": "Python 3"
    },
    "language_info": {
      "name": "python"
    }
  },
  "cells": [
    {
      "cell_type": "markdown",
      "metadata": {
        "id": "view-in-github",
        "colab_type": "text"
      },
      "source": [
        "<a href=\"https://colab.research.google.com/github/Hidestament/AtCoder/blob/main/ABC/ABC136.ipynb\" target=\"_parent\"><img src=\"https://colab.research.google.com/assets/colab-badge.svg\" alt=\"Open In Colab\"/></a>"
      ]
    },
    {
      "cell_type": "markdown",
      "metadata": {
        "id": "4v78l6et6t1A"
      },
      "source": [
        "# [ABC136](https://atcoder.jp/contests/abc136)"
      ]
    },
    {
      "cell_type": "markdown",
      "metadata": {
        "id": "Ppit2Sb36w_X"
      },
      "source": [
        "## [A - Transfer](https://atcoder.jp/contests/abc136/tasks/abc136_a)"
      ]
    },
    {
      "cell_type": "code",
      "metadata": {
        "colab": {
          "base_uri": "https://localhost:8080/"
        },
        "id": "p1BPg7B46w6F",
        "outputId": "5347b469-134d-425a-d01e-0cdc9d31c80a"
      },
      "source": [
        "A, B, C = map(int, input().split())\n",
        "print(max(0, C - (A - B)))"
      ],
      "execution_count": 2,
      "outputs": [
        {
          "output_type": "stream",
          "text": [
            "6 4 3\n",
            "1\n"
          ],
          "name": "stdout"
        }
      ]
    },
    {
      "cell_type": "markdown",
      "metadata": {
        "id": "9OCqTx3m7KhD"
      },
      "source": [
        "## [B - Unven Numbers](https://atcoder.jp/contests/abc136/tasks/abc136_b)"
      ]
    },
    {
      "cell_type": "markdown",
      "metadata": {
        "id": "_eo5eQJ87VU_"
      },
      "source": [
        "愚直に頑張る"
      ]
    },
    {
      "cell_type": "code",
      "metadata": {
        "colab": {
          "base_uri": "https://localhost:8080/"
        },
        "id": "_STszPXG6sj6",
        "outputId": "d5194a02-4c80-4854-b271-518a54d8d10e"
      },
      "source": [
        "N = int(input())\n",
        "ans = 0\n",
        "for i in range(1, N+1):\n",
        "  if len(str(i)) % 2 == 1:\n",
        "    ans += 1\n",
        "print(ans)"
      ],
      "execution_count": 5,
      "outputs": [
        {
          "output_type": "stream",
          "text": [
            "136\n",
            "46\n"
          ],
          "name": "stdout"
        }
      ]
    },
    {
      "cell_type": "markdown",
      "metadata": {
        "id": "nkL4cgLN7nGT"
      },
      "source": [
        "## [C - Build Stairs](https://atcoder.jp/contests/abc136/tasks/abc136_c)"
      ]
    },
    {
      "cell_type": "markdown",
      "metadata": {
        "id": "HMkONMvBvT8I"
      },
      "source": [
        "左から考えて, 小さくできるなら小さくした方が良い.\n",
        "\n",
        "ここで, $h_i$を小さくできない場合というのは, $h_i - 1$が$h_{i-1}$より小さくなってしまう場合である.\n",
        "\n",
        "また, この操作をしていってもどう頑張っても非減少にできない場合は, 答えは\"no\"である"
      ]
    },
    {
      "cell_type": "code",
      "metadata": {
        "colab": {
          "base_uri": "https://localhost:8080/"
        },
        "id": "-ALley087qyy",
        "outputId": "c6f492b0-5ab2-4e5f-f75a-d0e843089e8d"
      },
      "source": [
        "N = int(input())\n",
        "H = list(map(int, input().split()))\n",
        "H[0] -= 1\n",
        "\n",
        "ans = True\n",
        "for i in range(1, N):\n",
        "  # どう頑張っても無理な場合\n",
        "  if H[i]  < H[i-1]:\n",
        "    ans = False\n",
        "    break\n",
        "  # 小さくできるならする\n",
        "  elif H[i] - 1 >= H[i-1]:\n",
        "    H[i] -= 1\n",
        "\n",
        "print(\"Yes\" if ans else \"No\")"
      ],
      "execution_count": 12,
      "outputs": [
        {
          "output_type": "stream",
          "text": [
            "4\n",
            "1 3 2 1\n",
            "[0, 2, 2, 1]\n",
            "No\n"
          ],
          "name": "stdout"
        }
      ]
    },
    {
      "cell_type": "markdown",
      "metadata": {
        "id": "9WjI6GQj-pbz"
      },
      "source": [
        "## [D - Gathering Children](https://atcoder.jp/contests/abc136/tasks/abc136_d)\n",
        "参考:\n",
        "- groupby : https://qiita.com/DaikiSuyama/items/07e237b7372e7c7b3432\n",
        "- https://drken1215.hatenablog.com/entry/2020/12/29/190100"
      ]
    },
    {
      "cell_type": "markdown",
      "metadata": {
        "id": "fJmIR9N9uSS2"
      },
      "source": [
        "解説はノートに書いた.\n",
        "\n",
        "\"RL\"の箇所のみを考えればよく, 他はラグレンス圧縮してしまえばOK.\n",
        "\n",
        "ラグレンス圧縮をした結果, 圧縮された\"R\"より左にある\"R\"は, \"R\"と\"L\"の境界線から距離が偶数なら\"R\"に+1され, 奇数なら右の\"L\"に+1される.\n",
        "\n",
        "逆に, \"L\"では, \"L\"より右にあった\"L\"が, 境界線からの距離が偶数なら\"L\"に+1され, 奇数なら\"R\"に+1される.\n",
        "\n",
        "ラグレンス圧縮を実現するこれらの実装は, itertools.groupbyを使うと良い."
      ]
    },
    {
      "cell_type": "code",
      "metadata": {
        "colab": {
          "base_uri": "https://localhost:8080/"
        },
        "id": "7l6v9bhB9mgW",
        "outputId": "38f4d08c-91d5-4cb2-c400-9ad7418b9aac"
      },
      "source": [
        "S = str(input())"
      ],
      "execution_count": 1,
      "outputs": [
        {
          "output_type": "stream",
          "text": [
            "RRLLLLRLRRLL\n"
          ],
          "name": "stdout"
        }
      ]
    },
    {
      "cell_type": "code",
      "metadata": {
        "colab": {
          "base_uri": "https://localhost:8080/"
        },
        "id": "q1VXg0nydtjQ",
        "outputId": "b51ceda8-87ab-4ef5-9744-855dd274091a"
      },
      "source": [
        "# itertools.groupbyのらグレンス圧縮を使うとこんな感じ\n",
        "from itertools import groupby\n",
        "groupby_s = []\n",
        "for i, v in groupby(S):\n",
        "  groupby_s.append([i, len(list(v))])\n",
        "print(groupby_s)"
      ],
      "execution_count": 18,
      "outputs": [
        {
          "output_type": "stream",
          "text": [
            "[['R', 2], ['L', 4], ['R', 1], ['L', 1], ['R', 2], ['L', 2]]\n"
          ],
          "name": "stdout"
        }
      ]
    },
    {
      "cell_type": "code",
      "metadata": {
        "colab": {
          "base_uri": "https://localhost:8080/"
        },
        "id": "jyiyIQQwfqP8",
        "outputId": "bb1c3ada-17c6-40c0-d693-5fa93ae74f2d"
      },
      "source": [
        "ans = [0] * len(S)\n",
        "# nowは元のSにおいて, \"RL\"の境界線の位置を表す\n",
        "now = 0\n",
        "for i,v in groupby(S):\n",
        "  v = len(list(v))\n",
        "  if i == \"R\":\n",
        "    now += (v-1)\n",
        "    for j in range(v):\n",
        "      if j % 2 == 0:\n",
        "        ans[now] += 1\n",
        "      else:\n",
        "        ans[now + 1] += 1\n",
        "  else:\n",
        "    now += 1\n",
        "    for j in range(v):\n",
        "      if j % 2 == 0:\n",
        "        ans[now] += 1\n",
        "      else:\n",
        "        ans[now - 1] += 1\n",
        "    now += v\n",
        "print(*ans)"
      ],
      "execution_count": 17,
      "outputs": [
        {
          "output_type": "stream",
          "text": [
            "0\n",
            "1\n",
            "6\n",
            "6\n",
            "8\n",
            "9\n",
            "0 3 3 0 0 0 1 1 0 2 2 0\n"
          ],
          "name": "stdout"
        }
      ]
    },
    {
      "cell_type": "markdown",
      "metadata": {
        "id": "5-RlPgdSvB7g"
      },
      "source": [
        "### 答えをまとめると"
      ]
    },
    {
      "cell_type": "code",
      "metadata": {
        "id": "_ZaAOwXMvC0g"
      },
      "source": [
        "from itertools import groupby\n",
        "S = str(input())\n",
        "ans = [0] * len(S)\n",
        "now = 0\n",
        "for i,v in groupby(S):\n",
        "  v = len(list(v))\n",
        "  if i == \"R\":\n",
        "    now += (v-1)\n",
        "    for j in range(v):\n",
        "      if j % 2 == 0:\n",
        "        ans[now] += 1\n",
        "      else:\n",
        "        ans[now + 1] += 1\n",
        "  else:\n",
        "    now += 1\n",
        "    for j in range(v):\n",
        "      if j % 2 == 0:\n",
        "        ans[now] += 1\n",
        "      else:\n",
        "        ans[now - 1] += 1\n",
        "    now += v\n",
        "print(*ans)"
      ],
      "execution_count": null,
      "outputs": []
    },
    {
      "cell_type": "markdown",
      "metadata": {
        "id": "bhYkk1f0wqQ_"
      },
      "source": [
        "### 解2\n",
        "ラグレンス圧縮をした後, 以下の解説にあるような計算方法が楽.\n",
        "\n",
        "https://drken1215.hatenablog.com/entry/2020/12/29/190100\n"
      ]
    },
    {
      "cell_type": "code",
      "metadata": {
        "colab": {
          "base_uri": "https://localhost:8080/"
        },
        "id": "dIF7XqNZwxDW",
        "outputId": "86eaa4a7-81da-486a-8010-63194cbf3e3c"
      },
      "source": [
        "from itertools import groupby\n",
        "S = str(input())\n",
        "\n",
        "ans = [0] * len(S)\n",
        "now = 0\n",
        "for i,v in groupby(S):\n",
        "  v = len(list(v))\n",
        "  if i == \"R\":\n",
        "    now += (v - 1)\n",
        "    temp = (v + 1)//2\n",
        "    ans[now] += temp\n",
        "    ans[now + 1] += v - temp\n",
        "  else:\n",
        "    now += 1\n",
        "    temp = (v+1)//2\n",
        "    ans[now] += temp\n",
        "    ans[now - 1] += v - temp\n",
        "    now += v\n",
        "print(*ans)"
      ],
      "execution_count": 20,
      "outputs": [
        {
          "output_type": "stream",
          "text": [
            "RRRLLRLLRRRLLLLL\n",
            "0 0 3 2 0 2 1 0 0 0 4 4 0 0 0 0\n"
          ],
          "name": "stdout"
        }
      ]
    },
    {
      "cell_type": "code",
      "metadata": {
        "id": "qqcnobbiyGSm"
      },
      "source": [
        ""
      ],
      "execution_count": null,
      "outputs": []
    }
  ]
}