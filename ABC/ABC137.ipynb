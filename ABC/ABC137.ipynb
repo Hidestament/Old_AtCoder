{
  "nbformat": 4,
  "nbformat_minor": 0,
  "metadata": {
    "colab": {
      "name": "ABC137.ipynb",
      "provenance": [],
      "authorship_tag": "ABX9TyORdqeXSqFfycivfdJowkpR",
      "include_colab_link": true
    },
    "kernelspec": {
      "name": "python3",
      "display_name": "Python 3"
    },
    "language_info": {
      "name": "python"
    }
  },
  "cells": [
    {
      "cell_type": "markdown",
      "metadata": {
        "id": "view-in-github",
        "colab_type": "text"
      },
      "source": [
        "<a href=\"https://colab.research.google.com/github/Hidestament/AtCoder/blob/main/ABC/ABC137.ipynb\" target=\"_parent\"><img src=\"https://colab.research.google.com/assets/colab-badge.svg\" alt=\"Open In Colab\"/></a>"
      ]
    },
    {
      "cell_type": "markdown",
      "metadata": {
        "id": "XU0T6Y8qKLrL"
      },
      "source": [
        "# [ABC137](https://atcoder.jp/contests/abc137)"
      ]
    },
    {
      "cell_type": "markdown",
      "metadata": {
        "id": "_6fRYQM0KOnA"
      },
      "source": [
        "## [A - -+*](https://atcoder.jp/contests/abc137/tasks/abc137_a)"
      ]
    },
    {
      "cell_type": "code",
      "metadata": {
        "colab": {
          "base_uri": "https://localhost:8080/"
        },
        "id": "hIp7kaBHKIqO",
        "outputId": "b2d38547-f0e5-4a96-ccc6-bee59f613918"
      },
      "source": [
        "A, B = map(int, input().split())\n",
        "print(max(A+B, A-B, A*B))"
      ],
      "execution_count": null,
      "outputs": [
        {
          "output_type": "stream",
          "text": [
            "-13 3\n",
            "-10\n"
          ],
          "name": "stdout"
        }
      ]
    },
    {
      "cell_type": "markdown",
      "metadata": {
        "id": "80R4OzFJKZyn"
      },
      "source": [
        "## [B - One Clue](https://atcoder.jp/contests/abc137/tasks/abc137_b)"
      ]
    },
    {
      "cell_type": "code",
      "metadata": {
        "colab": {
          "base_uri": "https://localhost:8080/"
        },
        "id": "JGbSqg9NKWco",
        "outputId": "1ed4ea76-31c2-4717-b9a4-a7293a40e078"
      },
      "source": [
        "K, X = map(int, input().split())\n",
        "ans = [i for i in range(X - K + 1, X + K)]\n",
        "print(*ans)"
      ],
      "execution_count": null,
      "outputs": [
        {
          "output_type": "stream",
          "text": [
            "4 0\n",
            "-3 -2 -1 0 1 2 3\n"
          ],
          "name": "stdout"
        }
      ]
    },
    {
      "cell_type": "markdown",
      "metadata": {
        "id": "TIvgdw97LeaG"
      },
      "source": [
        "## [C - Green Bin](https://atcoder.jp/contests/abc137/tasks/abc137_c)"
      ]
    },
    {
      "cell_type": "markdown",
      "metadata": {
        "id": "tiEXKN76KlGC"
      },
      "source": [
        "$N\\leq 10^5$なので, 全ての組$(i,j)$について確認しているとTLEになってしまう.\n",
        "\n",
        "そこで, どの種類の文字列が何回現れたかをdictで保存しておく.\n",
        "\n",
        "このとき, ある種類文字列$k$の個数がcnt[k]だったとき, 条件を満たす$(i,j)$の個数は, $cnt[k] * (cnt[k] - 1) // 2$となる."
      ]
    },
    {
      "cell_type": "code",
      "metadata": {
        "id": "8tTGpG10LbTI",
        "colab": {
          "base_uri": "https://localhost:8080/"
        },
        "outputId": "86f28ce3-e1a7-4d30-96b0-172771230ff5"
      },
      "source": [
        "N = int(input())\n",
        "from collections import defaultdict\n",
        "temp = defaultdict(int)\n",
        "for _ in range(N):\n",
        "  s = sorted(str(input()))\n",
        "  s = \"\".join(s)\n",
        "  temp[s] += 1"
      ],
      "execution_count": 1,
      "outputs": [
        {
          "output_type": "stream",
          "text": [
            "3\n",
            "acornistnt\n",
            "peanutbomb\n",
            "constraint\n"
          ],
          "name": "stdout"
        }
      ]
    },
    {
      "cell_type": "code",
      "metadata": {
        "colab": {
          "base_uri": "https://localhost:8080/"
        },
        "id": "t1fuvfqoL8j5",
        "outputId": "35dac7ca-9f85-4a79-803a-f419a1f34954"
      },
      "source": [
        "ans = 0\n",
        "for i,v in temp.items():\n",
        "  ans += v * (v - 1) // 2\n",
        "print(ans)"
      ],
      "execution_count": 2,
      "outputs": [
        {
          "output_type": "execute_result",
          "data": {
            "text/plain": [
              "defaultdict(int, {'abbemnoptu': 1, 'acinnorstt': 2})"
            ]
          },
          "metadata": {
            "tags": []
          },
          "execution_count": 2
        }
      ]
    },
    {
      "cell_type": "markdown",
      "metadata": {
        "id": "k3H3hFwTHD4j"
      },
      "source": [
        "## [D - Summer Vacation](https://atcoder.jp/contests/abc137/tasks/abc137_d)\n",
        "参考\n",
        "- https://img.atcoder.jp/abc137/editorial.pdf\n",
        "- https://qiita.com/cocet33000/items/a81a3379fefcc3ffcaf1\n",
        "- https://drken1215.hatenablog.com/entry/2020/12/29/195900"
      ]
    },
    {
      "cell_type": "markdown",
      "metadata": {
        "id": "KiD9RK7kzix6"
      },
      "source": [
        "### 考え方(TLEになる)\n",
        "解き方を厳密に証明しようとすると, 相当難しい. やり方としては, 後ろから決めていく.\n",
        "\n",
        "- $M-1$日目（締め切りの前日）: $A_i = 1$, つまり次の日に受け取れるjobのみOK\n",
        "- $M-2$日目 : $A_i \\leq 2$, つまり2日後以下で受け取れるjobのみOK.\n",
        "....\n",
        "\n",
        "という感じであるので, 後ろからそのとき選べる報酬が最大のものを選んでいけば良い.\n",
        "\n",
        "つまり, 今$M-j$日目のjobを考えているときには, $A_i \\leq j$であるようなjobのうち, $B_i$が最大のものを選ぶ"
      ]
    },
    {
      "cell_type": "code",
      "metadata": {
        "colab": {
          "base_uri": "https://localhost:8080/"
        },
        "id": "NaZgj7v-IriH",
        "outputId": "3ca35164-15e3-43e0-d9a9-564490c06dc0"
      },
      "source": [
        "N, M = map(int, input().split())\n",
        "jobs = [[] for _ in range(M)]\n",
        "\n",
        "for i in range(N):\n",
        "  a, b = map(int, input().split())\n",
        "  if a - 1 < M:\n",
        "    jobs[a-1].append(b)"
      ],
      "execution_count": 3,
      "outputs": [
        {
          "output_type": "stream",
          "text": [
            "3 4\n",
            "4 3\n",
            "4 1\n",
            "2 2\n"
          ],
          "name": "stdout"
        }
      ]
    },
    {
      "cell_type": "code",
      "metadata": {
        "id": "n-CDViU9v9XC"
      },
      "source": [
        "ans = 0\n",
        "now = []\n",
        "for i in range(M):\n",
        "  now.extend(jobs[i])\n",
        "  if len(now) > 0:\n",
        "    temp = max(now)\n",
        "    ans += temp\n",
        "    now.remove(temp)\n",
        "print(ans)"
      ],
      "execution_count": null,
      "outputs": []
    },
    {
      "cell_type": "markdown",
      "metadata": {
        "id": "nFgoRvksx3J_"
      },
      "source": [
        "### ヒープを使う\n",
        "上のコードでは, 考えているjobの中から毎回maxを使って最大値を取得しているため, $O(N^2)$となりTLEになってしまう.\n",
        "\n",
        "そこで, 最大値の取得を効率的に行えるheapを用いる.\n",
        "\n",
        "pythonのヒープは最小値しか取得できないので, -1倍してヒープを作っておく."
      ]
    },
    {
      "cell_type": "code",
      "metadata": {
        "colab": {
          "base_uri": "https://localhost:8080/"
        },
        "id": "zrIAqkNEx3bv",
        "outputId": "1b7fb814-766e-4ffb-d3d4-d4cdd091d462"
      },
      "source": [
        "import heapq\n",
        "\n",
        "N, M = map(int, input().split())\n",
        "jobs = [[] for _ in range(M)]\n",
        "\n",
        "for i in range(N):\n",
        "  a, b = map(int, input().split())\n",
        "  if a - 1 < M:\n",
        "    jobs[a-1].append(-b)\n",
        "\n",
        "ans = 0\n",
        "heap = []\n",
        "for i in range(M):\n",
        "  for job in jobs[i]:\n",
        "    heapq.heappush(heap, job)\n",
        "  if len(heap) > 0:\n",
        "    ans += -1 * heapq.heappop(heap)\n",
        "print(ans)"
      ],
      "execution_count": 8,
      "outputs": [
        {
          "output_type": "stream",
          "text": [
            "3 4\n",
            "4 3\n",
            "4 1\n",
            "2 2\n",
            "5\n"
          ],
          "name": "stdout"
        }
      ]
    },
    {
      "cell_type": "markdown",
      "metadata": {
        "id": "pkp37ZVE1avr"
      },
      "source": [
        "### ヒープまとめ\n",
        "参考\n",
        "- https://qiita.com/ell/items/fe52a9eb9499b7060ed6\n",
        "- https://ufcpp.net/study/algorithm/col_heap.html\n",
        "- https://blog.satoooh.com/entry/4827/"
      ]
    },
    {
      "cell_type": "markdown",
      "metadata": {
        "id": "inD2-ILE2fa1"
      },
      "source": [
        "優先度付きキュー（Pythonでheapq）は, \n",
        "- 最小値を$O(\\log N)$で取得し削除\n",
        "- 要素を$O(\\log N)$で挿入\n",
        "- 最大値の参照$O(1)$\n",
        "\n",
        "で行えるデータ構造である.\n",
        "\n",
        "Pythonではheapqというモジュールが用意されており, これを簡単に実現できる"
      ]
    },
    {
      "cell_type": "code",
      "metadata": {
        "colab": {
          "base_uri": "https://localhost:8080/"
        },
        "id": "iRlEdh6cyoVC",
        "outputId": "522ff2a7-51aa-437a-d98a-53121220991f"
      },
      "source": [
        "import heapq\n",
        "a = [1,6,8,0,-1]\n",
        "\n",
        "# リスト -> heapに変換\n",
        "heapq.heapify(a)\n",
        "print(\"heapに変換 = \", a)\n",
        "\n",
        "# 最小値を取り出す\n",
        "min_num = heapq.heappop(a)\n",
        "print(\"min num = \", min_num)\n",
        "\n",
        "# 要素を挿入\n",
        "heapq.heappush(a, -2)\n",
        "print(\"要素を挿入する = \", a)"
      ],
      "execution_count": 11,
      "outputs": [
        {
          "output_type": "stream",
          "text": [
            "heapに変換 =  [-1, 0, 8, 1, 6]\n",
            "min num =  -1\n",
            "要素を挿入する =  [-2, 0, 8, 6, 1]\n"
          ],
          "name": "stdout"
        }
      ]
    },
    {
      "cell_type": "markdown",
      "metadata": {
        "id": "8OAvwi6j3wL0"
      },
      "source": [
        "最小値しか取り出せないので, 最大値を取り出すには予め全てを-1倍しておかないといけない"
      ]
    },
    {
      "cell_type": "code",
      "metadata": {
        "colab": {
          "base_uri": "https://localhost:8080/"
        },
        "id": "y4uZH2uD3QLh",
        "outputId": "cbd4e00c-0021-4185-b9b5-cc96922d183b"
      },
      "source": [
        "a = [1,6,8,0,-1]\n",
        "\n",
        "# -1倍する\n",
        "a = list(map(lambda x:x*(-1), a))\n",
        "heapq.heapify(a)\n",
        "print(\"-1倍すると\", a)\n",
        "\n",
        "# 最大値を取得\n",
        "max_num = heapq.heappop(a)\n",
        "print(\"最大値は = \", -1 * max_num)"
      ],
      "execution_count": 13,
      "outputs": [
        {
          "output_type": "stream",
          "text": [
            "-1倍すると [-8, -6, -1, 0, 1]\n",
            "最大値は =  8\n"
          ],
          "name": "stdout"
        }
      ]
    },
    {
      "cell_type": "markdown",
      "metadata": {
        "id": "WZ2Qnpem5NU2"
      },
      "source": [
        "pushとpopを同時にすることもできる. こっちのほうが効率的"
      ]
    },
    {
      "cell_type": "code",
      "metadata": {
        "colab": {
          "base_uri": "https://localhost:8080/"
        },
        "id": "THVfPJ1_4Djs",
        "outputId": "f8a19e28-4ffc-45b3-f67b-d72a06da22dd"
      },
      "source": [
        "# push -> popの順でやるには, heappushpopを使う\n",
        "a = [5,3,2,1,6,13,4,12,14,9,10]\n",
        "heapq.heapify(a)\n",
        "\n",
        "min_num = heapq.heappushpop(a, 0)\n",
        "print(\"min_num = \", min_num)\n",
        "print(\"a = \", a)\n",
        "\n",
        "# pop -> pushの順でやるには, heapreplace\n",
        "min_num = heapq.heapreplace(a, -1)\n",
        "print(\"min_num = \", min_num)\n",
        "print(\"a = \", a)"
      ],
      "execution_count": 15,
      "outputs": [
        {
          "output_type": "stream",
          "text": [
            "min_num =  0\n",
            "a =  [1, 3, 2, 5, 6, 13, 4, 12, 14, 9, 10]\n",
            "min_num =  1\n",
            "a =  [-1, 3, 2, 5, 6, 13, 4, 12, 14, 9, 10]\n"
          ],
          "name": "stdout"
        }
      ]
    },
    {
      "cell_type": "code",
      "metadata": {
        "id": "A3gDVW3451WV"
      },
      "source": [
        ""
      ],
      "execution_count": null,
      "outputs": []
    }
  ]
}