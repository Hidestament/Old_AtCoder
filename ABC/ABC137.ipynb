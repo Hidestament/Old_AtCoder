{
  "nbformat": 4,
  "nbformat_minor": 0,
  "metadata": {
    "colab": {
      "name": "ABC137.ipynb",
      "provenance": [],
      "authorship_tag": "ABX9TyO6herKCq4C/LAS3C83RRzB",
      "include_colab_link": true
    },
    "kernelspec": {
      "name": "python3",
      "display_name": "Python 3"
    },
    "language_info": {
      "name": "python"
    }
  },
  "cells": [
    {
      "cell_type": "markdown",
      "metadata": {
        "id": "view-in-github",
        "colab_type": "text"
      },
      "source": [
        "<a href=\"https://colab.research.google.com/github/Hidestament/AtCoder/blob/main/ABC/ABC137.ipynb\" target=\"_parent\"><img src=\"https://colab.research.google.com/assets/colab-badge.svg\" alt=\"Open In Colab\"/></a>"
      ]
    },
    {
      "cell_type": "markdown",
      "metadata": {
        "id": "kCneDECLiqmh"
      },
      "source": [
        "# [AtCoder Beginner Contest 137](https://atcoder.jp/contests/abc137)"
      ]
    },
    {
      "cell_type": "markdown",
      "metadata": {
        "id": "v1K3l3wPitJF"
      },
      "source": [
        "## [A - +-x](https://atcoder.jp/contests/abc137/tasks/abc137_a)"
      ]
    },
    {
      "cell_type": "code",
      "metadata": {
        "id": "ayfCEyFIhZ1O"
      },
      "source": [
        "A, B = map(int, input().split())\n",
        "print(max(A+B, A-B, A*B))"
      ],
      "execution_count": null,
      "outputs": []
    },
    {
      "cell_type": "markdown",
      "metadata": {
        "id": "dUXesCd7i19B"
      },
      "source": [
        "## [B - One Clue](https://atcoder.jp/contests/abc137/tasks/abc137_b)"
      ]
    },
    {
      "cell_type": "code",
      "metadata": {
        "colab": {
          "base_uri": "https://localhost:8080/"
        },
        "id": "oUpbdnLehbtH",
        "outputId": "49ebcae2-1d3b-4885-84de-5c403c669494"
      },
      "source": [
        "K, X = map(int, input().split())\n",
        "for i in range(-1000000, 1000001):\n",
        "    if X - K < i < K + X:\n",
        "        print(i)"
      ],
      "execution_count": 13,
      "outputs": [
        {
          "name": "stdout",
          "output_type": "stream",
          "text": [
            "4 0\n"
          ]
        }
      ]
    },
    {
      "cell_type": "markdown",
      "metadata": {
        "id": "0CQ0L8o3joK0"
      },
      "source": [
        "以下のも良い"
      ]
    },
    {
      "cell_type": "code",
      "metadata": {
        "id": "69ijkUW6hbql"
      },
      "source": [
        "K, X = map(int, input().split())\n",
        "ans = [i for i in range(X - K + 1, K + X)]\n",
        "print(*ans)"
      ],
      "execution_count": null,
      "outputs": []
    },
    {
      "cell_type": "markdown",
      "metadata": {
        "id": "k5hqF5xAhcA7"
      },
      "source": [
        "## [C - Green Bin](https://atcoder.jp/contests/abc137/tasks/abc137_c)"
      ]
    },
    {
      "cell_type": "markdown",
      "metadata": {
        "id": "TWCvqFSNiocY"
      },
      "source": [
        "$N\\leq 10^5$なので, 全ての組$(i,j)$について確認しているとTLEになってしまう.\n",
        "\n",
        "そこで, どの種類の文字列が何回現れたかをdictで保存しておく.\n",
        "\n",
        "このとき, ある種類文字列$k$の個数がcnt[k]だったとき, 条件を満たす$(i,j)$の個数は, $cnt[k] * (cnt[k] - 1) // 2$となる."
      ]
    },
    {
      "cell_type": "code",
      "metadata": {
        "colab": {
          "base_uri": "https://localhost:8080/"
        },
        "id": "TzARGoQlhebQ",
        "outputId": "d46e1e21-5a92-4dda-d0ea-b0cc27c0f919"
      },
      "source": [
        "N = int(input())\n",
        "S = [list(input()) for _ in range(N)]"
      ],
      "execution_count": 1,
      "outputs": [
        {
          "name": "stdout",
          "output_type": "stream",
          "text": [
            "3\n",
            "acornistnt\n",
            "peanutbomb\n",
            "constraint\n"
          ]
        }
      ]
    },
    {
      "cell_type": "code",
      "metadata": {
        "id": "R13aIArThoHD"
      },
      "source": [
        "from collections import defaultdict\n",
        "cnt = defaultdict(int)\n",
        "for s in S:\n",
        "    s.sort()\n",
        "    cnt[\"\".join(s)] += 1"
      ],
      "execution_count": 5,
      "outputs": []
    },
    {
      "cell_type": "code",
      "metadata": {
        "colab": {
          "base_uri": "https://localhost:8080/"
        },
        "id": "1xsu72nBhvpZ",
        "outputId": "c92bc31e-ae0c-42d8-ef67-1757aa391aac"
      },
      "source": [
        "ans = 0\n",
        "for key, value in cnt.items():\n",
        "    ans += value * (value - 1) // 2\n",
        "print(ans)"
      ],
      "execution_count": 7,
      "outputs": [
        {
          "output_type": "stream",
          "name": "stdout",
          "text": [
            "1\n"
          ]
        }
      ]
    },
    {
      "cell_type": "markdown",
      "metadata": {
        "id": "VAes9Q8njxtx"
      },
      "source": [
        "## [D - Summer Vacation](https://atcoder.jp/contests/abc137/tasks/abc137_d)"
      ]
    },
    {
      "cell_type": "markdown",
      "metadata": {
        "id": "xhpyIh8Z8HB4"
      },
      "source": [
        "参考\n",
        "- https://img.atcoder.jp/abc137/editorial.pdf\n",
        "- https://qiita.com/cocet33000/items/a81a3379fefcc3ffcaf1\n",
        "- https://drken1215.hatenablog.com/entry/2020/12/29/195900"
      ]
    },
    {
      "cell_type": "markdown",
      "metadata": {
        "id": "iUBXR1TP8JfZ"
      },
      "source": [
        "解き方を厳密に証明しようとすると, 相当難しい. やり方としては, 後ろから決めていく.\n",
        "\n",
        "- $M-1$日目（締め切りの前日）: $A_i = 1$, つまり次の日に受け取れるjobのみOK\n",
        "- $M-2$日目 : $A_i \\leq 2$, つまり2日後以下で受け取れるjobのみOK. ....\n",
        "という感じであるので, 後ろからそのとき選べる報酬が最大のものを選んでいけば良い.\n",
        "\n",
        "つまり, 今$M-j$日目のjobを考えているときには, $A_i \\leq j$であるようなjobのうち, $B_i$が最大のものを選ぶ"
      ]
    },
    {
      "cell_type": "markdown",
      "metadata": {
        "id": "sqtyttvk8MoK"
      },
      "source": [
        "最大値の取得を効率的に行えるheapを用いる.\n",
        "\n",
        "pythonのヒープは最小値しか取得できないので, -1倍してヒープを作っておく."
      ]
    },
    {
      "cell_type": "code",
      "metadata": {
        "id": "vFdlNwzgj0wm"
      },
      "source": [
        "from heapq import heappush, heappop\n",
        "N, M = map(int, input().split())\n",
        "jobs = [[] for _ in range(M)]\n",
        "for _ in range(N):\n",
        "    a, b = map(int, input().split())\n",
        "    if a - 1 < M:\n",
        "        jobs[a-1].append(-b)"
      ],
      "execution_count": null,
      "outputs": []
    },
    {
      "cell_type": "code",
      "metadata": {
        "id": "DFqMJnZb7F_a"
      },
      "source": [
        "ans = 0\n",
        "hp = []\n",
        "for i in range(M):\n",
        "    for job in jobs[i]:\n",
        "        heappush(hp, job)\n",
        "    if len(hp):\n",
        "        ans += -1 * heappop(hp)\n",
        "print(ans)"
      ],
      "execution_count": null,
      "outputs": []
    }
  ]
}