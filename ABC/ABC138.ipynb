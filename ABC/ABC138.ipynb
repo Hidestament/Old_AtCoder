{
  "nbformat": 4,
  "nbformat_minor": 0,
  "metadata": {
    "colab": {
      "name": "ABC138.ipynb",
      "provenance": [],
      "authorship_tag": "ABX9TyMfT7ISXqfOuAOdkMIWekke",
      "include_colab_link": true
    },
    "kernelspec": {
      "name": "python3",
      "display_name": "Python 3"
    },
    "language_info": {
      "name": "python"
    }
  },
  "cells": [
    {
      "cell_type": "markdown",
      "metadata": {
        "id": "view-in-github",
        "colab_type": "text"
      },
      "source": [
        "<a href=\"https://colab.research.google.com/github/Hidestament/AtCoder/blob/main/ABC/ABC138.ipynb\" target=\"_parent\"><img src=\"https://colab.research.google.com/assets/colab-badge.svg\" alt=\"Open In Colab\"/></a>"
      ]
    },
    {
      "cell_type": "markdown",
      "metadata": {
        "id": "HreNsV-T8lJi"
      },
      "source": [
        "# [AtCoder Beginner Contest 138](https://atcoder.jp/contests/abc138)"
      ]
    },
    {
      "cell_type": "markdown",
      "metadata": {
        "id": "fRw5OE-58oro"
      },
      "source": [
        "## [A - Red or Not](https://atcoder.jp/contests/abc138/tasks/abc138_a)"
      ]
    },
    {
      "cell_type": "code",
      "metadata": {
        "id": "dx-7yHe48jb-"
      },
      "source": [
        "a = int(input())\n",
        "s = str(input())\n",
        "print(s if a >= 3200 else \"red\")"
      ],
      "execution_count": null,
      "outputs": []
    },
    {
      "cell_type": "markdown",
      "metadata": {
        "id": "40Naq-cl8yRR"
      },
      "source": [
        "## [B - Resistors in Parallel](https://atcoder.jp/contests/abc138/tasks/abc138_b)"
      ]
    },
    {
      "cell_type": "code",
      "metadata": {
        "id": "syz5LDP781LS"
      },
      "source": [
        "N = int(input())\n",
        "A = list(map(int, input().split()))"
      ],
      "execution_count": null,
      "outputs": []
    },
    {
      "cell_type": "code",
      "metadata": {
        "id": "w--u8Jso81Fy"
      },
      "source": [
        "s = 0\n",
        "for a in A:\n",
        "    s += 1 / a\n",
        "print(1 / s)"
      ],
      "execution_count": null,
      "outputs": []
    },
    {
      "cell_type": "markdown",
      "metadata": {
        "id": "BUwXh9QQ9C8u"
      },
      "source": [
        "## [C - Alchemist](https://atcoder.jp/contests/abc138/tasks/abc138_c)"
      ]
    },
    {
      "cell_type": "markdown",
      "metadata": {
        "id": "0MvjpOR3HJdu"
      },
      "source": [
        "a,b,cの価値をもつ3つの具材があるとして, どういう順番で合成するとどうなるか考える.\n",
        "\n",
        "- (a,b)を合成し, それとcを合成する\n",
        "$$\n",
        "\\frac{\\left(\\frac{a+b}{2} \\right) + c}{2} = \\frac{a}{4} + \\frac{b}{4} + \\frac{c}{2}\n",
        "$$\n",
        " \n",
        "ここから, 先に合成すると, 分母の値が大きくなる. よって, 価値のものが小さいものから順番に合成していったほうが良いことがわかる.\n",
        "\n",
        "よって, vを予めソートして, このソートを保ったまま, 合成を勧めていけば良い.\n",
        "\n",
        "新しくできた素材を, ソートされたvのどこに挿入すれば良いかはbisectを使えば良い."
      ]
    },
    {
      "cell_type": "code",
      "metadata": {
        "colab": {
          "base_uri": "https://localhost:8080/"
        },
        "id": "IuOSeS0c9FjI",
        "outputId": "56261f5e-3ed8-4cfd-abf0-bc56adc04ac2"
      },
      "source": [
        "import bisect\n",
        "N = int(input())\n",
        "V = list(map(int, input().split()))\n",
        "V.sort()"
      ],
      "execution_count": null,
      "outputs": [
        {
          "name": "stdout",
          "output_type": "stream",
          "text": [
            "3\n",
            "500 300 200\n"
          ]
        }
      ]
    },
    {
      "cell_type": "code",
      "metadata": {
        "colab": {
          "base_uri": "https://localhost:8080/"
        },
        "id": "9b4ZmRlfGe7I",
        "outputId": "814c6e45-1e46-42af-94cc-90b556c45a6e"
      },
      "source": [
        "while len(V) != 1:\n",
        "    x = V.pop(0)\n",
        "    y = V.pop(0)\n",
        "    z = (x + y) / 2\n",
        "    bisect.insort(V, z)\n",
        "print(V[0])"
      ],
      "execution_count": null,
      "outputs": [
        {
          "output_type": "stream",
          "name": "stdout",
          "text": [
            "375.0\n"
          ]
        }
      ]
    },
    {
      "cell_type": "markdown",
      "metadata": {
        "id": "RSNWMwLuCMUd"
      },
      "source": [
        "## [D - Ki](https://atcoder.jp/contests/abc138/tasks/abc138_d)"
      ]
    },
    {
      "cell_type": "markdown",
      "metadata": {
        "id": "KP53M1S_GOJU"
      },
      "source": [
        "ある頂点$i$におけるカウンターの値は, $i$と$i$の祖先に直接クエリから与えられた値の合計となる.\n",
        "\n",
        "つまり, 各クエリにおいては, どの頂点にどれだけの値が与えられたかを記憶しておいて, 最後に深さ優先探索を用いて, 全ての頂点のカウンターの値を求めれば良い.\n",
        "\n",
        "これは, 幅優先探索ではダメ. というのも, ある頂点$i$のカウンターに影響が与えられるのは, その$i$の祖先だからである.\n",
        "\n",
        "なので, 縦の探索, 深さ優先探索で実行しないといけない."
      ]
    },
    {
      "cell_type": "code",
      "metadata": {
        "id": "e9pb-T5nFK54"
      },
      "source": [
        "import sys\n",
        "sys.setrecursionlimit(10**9)"
      ],
      "execution_count": null,
      "outputs": []
    },
    {
      "cell_type": "code",
      "metadata": {
        "colab": {
          "base_uri": "https://localhost:8080/"
        },
        "id": "8JZuIteHCOYN",
        "outputId": "be14c778-a7ed-492c-9f60-970df5fa3d42"
      },
      "source": [
        "N, Q = map(int, input().split())\n",
        "graph = [[] for _ in range(N)]\n",
        "for _ in range(N-1):\n",
        "    a, b = map(int, input().split())\n",
        "    a -= 1\n",
        "    b -= 1\n",
        "    graph[a].append(b)\n",
        "    graph[b].append(a)\n",
        "P = [0] * N\n",
        "for _ in range(Q):\n",
        "    p, x = map(int, input().split())\n",
        "    p -= 1\n",
        "    P[p] += x"
      ],
      "execution_count": null,
      "outputs": [
        {
          "name": "stdout",
          "output_type": "stream",
          "text": [
            "4 3\n",
            "1 2\n",
            "2 3\n",
            "2 4\n",
            "2 10\n",
            "1 100\n",
            "3 1\n"
          ]
        }
      ]
    },
    {
      "cell_type": "code",
      "metadata": {
        "id": "W4Me1XOxClKX"
      },
      "source": [
        "ans = [-1] * N\n",
        "def dfs(now, cnt):\n",
        "    for to in graph[now]:\n",
        "        if ans[to] == -1:\n",
        "            ans[to] = cnt + P[to]\n",
        "            dfs(to, cnt + P[to])"
      ],
      "execution_count": null,
      "outputs": []
    },
    {
      "cell_type": "code",
      "metadata": {
        "id": "ABP5nwDGDFQV"
      },
      "source": [
        "ans[0] = P[0]\n",
        "cnt = P[0]\n",
        "dfs(0, cnt)"
      ],
      "execution_count": null,
      "outputs": []
    },
    {
      "cell_type": "code",
      "metadata": {
        "colab": {
          "base_uri": "https://localhost:8080/"
        },
        "id": "IfjvY_3KEafi",
        "outputId": "a22bf48f-5924-4673-b716-ae7fcd75f225"
      },
      "source": [
        "ans"
      ],
      "execution_count": null,
      "outputs": [
        {
          "output_type": "execute_result",
          "data": {
            "text/plain": [
              "[100, 110, 111, 110]"
            ]
          },
          "metadata": {},
          "execution_count": 33
        }
      ]
    },
    {
      "cell_type": "markdown",
      "metadata": {
        "id": "d7LH1EERGPOU"
      },
      "source": [
        "## [E - Strings of Impurity](https://atcoder.jp/contests/abc138/tasks/abc138_e)"
      ]
    },
    {
      "cell_type": "markdown",
      "metadata": {
        "id": "3a7bzTkeZtoI"
      },
      "source": [
        "解説は[Notion](https://www.notion.so/Strings-of-Impurity-0068240ea0e640d38cc5d398389ee874)"
      ]
    },
    {
      "cell_type": "code",
      "metadata": {
        "id": "UObs8tfPxph6"
      },
      "source": [
        "from collections import defaultdict\n",
        "from bisect import bisect_right"
      ],
      "execution_count": null,
      "outputs": []
    },
    {
      "cell_type": "code",
      "metadata": {
        "id": "TZQMmWTeFWO6",
        "colab": {
          "base_uri": "https://localhost:8080/"
        },
        "outputId": "9383b035-cb3e-4f5b-ff06-74b7635042fd"
      },
      "source": [
        "S = str(input())\n",
        "T = str(input())"
      ],
      "execution_count": null,
      "outputs": [
        {
          "name": "stdout",
          "output_type": "stream",
          "text": [
            "abab\n",
            "abbb\n"
          ]
        }
      ]
    },
    {
      "cell_type": "code",
      "metadata": {
        "id": "iKjsMIw4xSch"
      },
      "source": [
        "cnt = defaultdict(list)\n",
        "for i in range(len(S)):\n",
        "    s = S[i]\n",
        "    cnt[s].append(i+1)"
      ],
      "execution_count": null,
      "outputs": []
    },
    {
      "cell_type": "code",
      "metadata": {
        "id": "WX3CxGqIxq9f"
      },
      "source": [
        "ans = 0\n",
        "i = 0\n",
        "for t in T:\n",
        "    if t not in cnt:\n",
        "        ans = -1\n",
        "        break\n",
        "    ind = bisect_right(cnt[t], i)\n",
        "    if ind == len(cnt[t]):\n",
        "        i = cnt[t][0]\n",
        "        ans += len(S)\n",
        "    else:\n",
        "        i = cnt[t][ind]"
      ],
      "execution_count": null,
      "outputs": []
    },
    {
      "cell_type": "code",
      "metadata": {
        "colab": {
          "base_uri": "https://localhost:8080/"
        },
        "id": "EUuLYsYRx5Da",
        "outputId": "e46da2a1-0550-42b7-82cc-16604b9f1f0b"
      },
      "source": [
        "print(ans+i if ans != -1 else -1)"
      ],
      "execution_count": null,
      "outputs": [
        {
          "output_type": "stream",
          "name": "stdout",
          "text": [
            "6\n"
          ]
        }
      ]
    },
    {
      "cell_type": "code",
      "metadata": {
        "id": "ZdIzzcGj0Ddo"
      },
      "source": [
        ""
      ],
      "execution_count": null,
      "outputs": []
    }
  ]
}