{
  "nbformat": 4,
  "nbformat_minor": 0,
  "metadata": {
    "colab": {
      "name": "ABC139.ipynb",
      "provenance": [],
      "collapsed_sections": [],
      "authorship_tag": "ABX9TyP1A8biBCqdV1Y0u0tIbDqq",
      "include_colab_link": true
    },
    "kernelspec": {
      "name": "python3",
      "display_name": "Python 3"
    },
    "language_info": {
      "name": "python"
    }
  },
  "cells": [
    {
      "cell_type": "markdown",
      "metadata": {
        "id": "view-in-github",
        "colab_type": "text"
      },
      "source": [
        "<a href=\"https://colab.research.google.com/github/Hidestament/AtCoder/blob/main/ABC/ABC139.ipynb\" target=\"_parent\"><img src=\"https://colab.research.google.com/assets/colab-badge.svg\" alt=\"Open In Colab\"/></a>"
      ]
    },
    {
      "cell_type": "markdown",
      "metadata": {
        "id": "DPM0dnmALEh9"
      },
      "source": [
        "# [AtCoder Beginner Contest 139](https://atcoder.jp/contests/abc139)"
      ]
    },
    {
      "cell_type": "markdown",
      "metadata": {
        "id": "gHlRNchNLH37"
      },
      "source": [
        "## [A - Tenki](https://atcoder.jp/contests/abc139/tasks/abc139_a)"
      ]
    },
    {
      "cell_type": "code",
      "metadata": {
        "id": "AzAWiQ7QLCsB"
      },
      "source": [
        "S = str(input())\n",
        "T = str(input())\n",
        "cnt = 0\n",
        "for i in range(3):\n",
        "    if S[i] == T[i]:\n",
        "        cnt += 1\n",
        "print(cnt)"
      ],
      "execution_count": null,
      "outputs": []
    },
    {
      "cell_type": "markdown",
      "metadata": {
        "id": "Gke8VyGvLUWR"
      },
      "source": [
        "## [B - Power Socket](https://atcoder.jp/contests/abc139/tasks/abc139_b)"
      ]
    },
    {
      "cell_type": "code",
      "metadata": {
        "colab": {
          "base_uri": "https://localhost:8080/"
        },
        "id": "H3m2FSClLYeC",
        "outputId": "b91c9725-7e88-4466-d5f6-2d30aea42c7c"
      },
      "source": [
        "A, B = map(int, input().split())\n",
        "if B == 1:\n",
        "    print(0)\n",
        "    exit()\n",
        "tap = A\n",
        "cnt = 1\n",
        "while tap < B:\n",
        "    tap = (tap-1) + A\n",
        "    cnt += 1\n",
        "print(cnt)"
      ],
      "execution_count": null,
      "outputs": [
        {
          "output_type": "stream",
          "name": "stdout",
          "text": [
            "8 9\n",
            "2\n"
          ]
        }
      ]
    },
    {
      "cell_type": "markdown",
      "metadata": {
        "id": "l_vOFpjGPS9A"
      },
      "source": [
        "## [C - Lower](https://atcoder.jp/contests/abc139/tasks/abc139_c)"
      ]
    },
    {
      "cell_type": "markdown",
      "source": [
        "尺取り法 的なやつは deque() でやるのが良い"
      ],
      "metadata": {
        "id": "_RtwaXWFyOzj"
      }
    },
    {
      "cell_type": "code",
      "source": [
        "from collections import deque\n",
        "N = int(input())\n",
        "H = list(map(int, input().split()))"
      ],
      "metadata": {
        "colab": {
          "base_uri": "https://localhost:8080/"
        },
        "id": "dZa_wsDmvLnt",
        "outputId": "0b54ec18-54e0-4fdb-af25-6c348fa019bc"
      },
      "execution_count": 2,
      "outputs": [
        {
          "name": "stdout",
          "output_type": "stream",
          "text": [
            "5\n",
            "10 4 8 7 3\n"
          ]
        }
      ]
    },
    {
      "cell_type": "code",
      "source": [
        "dq = deque()\n",
        "ans = 0\n",
        "for h in H:\n",
        "    if dq:\n",
        "        if dq[-1] < h:\n",
        "            dq = deque()\n",
        "    dq.append(h)\n",
        "    ans = max(ans, len(dq) - 1)"
      ],
      "metadata": {
        "colab": {
          "base_uri": "https://localhost:8080/"
        },
        "id": "VYL-_yVGvLku",
        "outputId": "68c8a82a-171e-4380-ea22-8a080f938ade"
      },
      "execution_count": 12,
      "outputs": [
        {
          "output_type": "stream",
          "name": "stdout",
          "text": [
            "deque([])\n",
            "deque([10])\n",
            "deque([10, 4])\n",
            "deque([8])\n",
            "deque([8, 7])\n"
          ]
        }
      ]
    },
    {
      "cell_type": "code",
      "source": [
        "print(ans)"
      ],
      "metadata": {
        "colab": {
          "base_uri": "https://localhost:8080/"
        },
        "id": "B68QN38ovLh8",
        "outputId": "8cfe93c5-4f10-4eea-9891-e793308fac16"
      },
      "execution_count": 13,
      "outputs": [
        {
          "output_type": "execute_result",
          "data": {
            "text/plain": [
              "2"
            ]
          },
          "metadata": {},
          "execution_count": 13
        }
      ]
    },
    {
      "cell_type": "markdown",
      "metadata": {
        "id": "9KfkLXvOV6y4"
      },
      "source": [
        "## [D - ModSum](https://atcoder.jp/contests/abc139/tasks/abc139_d)"
      ]
    },
    {
      "cell_type": "code",
      "metadata": {
        "colab": {
          "base_uri": "https://localhost:8080/"
        },
        "id": "25dnwvz5VbYc",
        "outputId": "a10b6d8d-6521-419c-99fd-9108e1779530"
      },
      "source": [
        "N = int(input())\n",
        "print(N * (N-1) // 2)"
      ],
      "execution_count": null,
      "outputs": [
        {
          "name": "stdout",
          "output_type": "stream",
          "text": [
            "13\n"
          ]
        }
      ]
    },
    {
      "cell_type": "markdown",
      "metadata": {
        "id": "0_y4jfeza5t6"
      },
      "source": [
        "## [E - League](https://atcoder.jp/contests/abc139/tasks/abc139_e)"
      ]
    },
    {
      "cell_type": "markdown",
      "source": [
        "Greedyに解く"
      ],
      "metadata": {
        "id": "oJyzpjjL7ifb"
      }
    },
    {
      "cell_type": "code",
      "metadata": {
        "id": "bvC3usgya8lG",
        "colab": {
          "base_uri": "https://localhost:8080/"
        },
        "outputId": "f87d12f4-c07c-42d6-8605-3f605158c809"
      },
      "source": [
        "from collections import deque\n",
        "N = int(input())\n",
        "A = []\n",
        "for _ in range(N):\n",
        "    a = list(map(lambda x: int(x) - 1, input().split()))\n",
        "    dq = deque(a)\n",
        "    A.append(dq)"
      ],
      "execution_count": null,
      "outputs": [
        {
          "name": "stdout",
          "output_type": "stream",
          "text": [
            "3\n",
            "2 3\n",
            "1 3\n",
            "1 2\n"
          ]
        }
      ]
    },
    {
      "cell_type": "code",
      "source": [
        "cnt = 0\n",
        "done = set()\n",
        "update = deque([i for i in range(N)])\n",
        "while update:\n",
        "    if all(len(a) == 0 for a in A): break\n",
        "    flag = [0] * N\n",
        "    num = len(update)\n",
        "    for _ in range(num):\n",
        "        i = update.popleft()\n",
        "        if flag[i] or not len(A[i]): continue\n",
        "        j = A[i][0]\n",
        "        if flag[j] or not len(A[j]): continue\n",
        "        if A[j][0] == i:\n",
        "            update.append(i)\n",
        "            update.append(j)\n",
        "            A[i].popleft()\n",
        "            A[j].popleft()\n",
        "            flag[i], flag[j] = 1, 1\n",
        "            done.add((i, j))\n",
        "    cnt += 1"
      ],
      "metadata": {
        "id": "KB2YsYpFECz8"
      },
      "execution_count": null,
      "outputs": []
    },
    {
      "cell_type": "code",
      "source": [
        "print(cnt if len(done) == N*(N-1)//2 else -1)"
      ],
      "metadata": {
        "id": "dBPzmpe-EFy9",
        "colab": {
          "base_uri": "https://localhost:8080/"
        },
        "outputId": "5e4788ae-2474-4fe9-e110-f72095d7bfbb"
      },
      "execution_count": null,
      "outputs": [
        {
          "output_type": "execute_result",
          "data": {
            "text/plain": [
              "[deque([1, 2]), deque([0, 2]), deque([0, 1])]"
            ]
          },
          "metadata": {},
          "execution_count": 2
        }
      ]
    },
    {
      "cell_type": "markdown",
      "source": [
        "グラフの最短経路に帰着する"
      ],
      "metadata": {
        "id": "qjxwR4Ru7j7w"
      }
    },
    {
      "cell_type": "code",
      "source": [
        "N = int(input())\n",
        "A = []\n",
        "for _ in range(N):\n",
        "    a = list(map(int, input().split()))\n",
        "    A.append(a)"
      ],
      "metadata": {
        "colab": {
          "base_uri": "https://localhost:8080/"
        },
        "id": "dD5UuuIl8ar8",
        "outputId": "032ff0d9-accf-47c7-8dd1-a37c3fdfd732"
      },
      "execution_count": 3,
      "outputs": [
        {
          "name": "stdout",
          "output_type": "stream",
          "text": [
            "3\n",
            "2 3\n",
            "1 3\n",
            "1 2\n"
          ]
        }
      ]
    },
    {
      "cell_type": "code",
      "source": [
        "# id[i][j]: 試合(i, j)のグラフ上の頂点番号\n",
        "# 頂点はまじでN^2で作る. バグがへるから\n",
        "id = [[0] * (N + 1) for _ in range(N+1)]\n",
        "cnt = 0\n",
        "for i in range(N+1):\n",
        "    for j in range(N+1):\n",
        "        id[i][j] = cnt\n",
        "        cnt += 1"
      ],
      "metadata": {
        "id": "bkr7uF98_oNi"
      },
      "execution_count": 4,
      "outputs": []
    },
    {
      "cell_type": "code",
      "source": [
        "def get_id(i, j):\n",
        "    i, j = min(i, j), max(i, j)\n",
        "    return id[i-1][j-1]"
      ],
      "metadata": {
        "id": "HzUzyF-1C78w"
      },
      "execution_count": 6,
      "outputs": []
    },
    {
      "cell_type": "code",
      "source": [
        "graph = [[] for _ in range((N+1)**2)]"
      ],
      "metadata": {
        "id": "3HvMxHPVCS-M"
      },
      "execution_count": 7,
      "outputs": []
    },
    {
      "cell_type": "code",
      "source": [
        "for i in range(N):\n",
        "    for j in range(1, N-1):\n",
        "        bef = A[i][j-1]\n",
        "        to = A[i][j]\n",
        "        # (i, bef) -> (i, to)\n",
        "        # iだけ 1-indexになってるから 0-indexにしておく\n",
        "        bef_id, to_id = get_id(i+1, bef), get_id(i+1, to)\n",
        "        graph[bef_id].append(to_id)"
      ],
      "metadata": {
        "id": "vrlejekJCG2_"
      },
      "execution_count": 8,
      "outputs": []
    },
    {
      "cell_type": "code",
      "source": [
        "# 再帰をやるときのおまじない\n",
        "import sys\n",
        "sys.setrecursionlimit(10**9)\n",
        "def dfs(now):\n",
        "    # 値が確定していたらその値を返す\n",
        "    if visited[now]:\n",
        "        if not calculated[now]:\n",
        "            print(-1)\n",
        "            exit()\n",
        "        return DP[now]\n",
        "    visited[now] = 1\n",
        "    for to in graph[now]:\n",
        "        dist = dfs(to)\n",
        "        DP[now] = max(DP[now], dist + 1)\n",
        "    calculated[now] = 1\n",
        "    return DP[now]"
      ],
      "metadata": {
        "id": "jA6UNvBcGC_D"
      },
      "execution_count": 10,
      "outputs": []
    },
    {
      "cell_type": "code",
      "source": [
        "# DP[v]: 頂点vから始まる経路の中で最長のモノ（経路上の頂点数とする）\n",
        "DP = [0] * len(graph)\n",
        "visited = [0] * len(graph)\n",
        "calculated = [0] * len(graph) \n",
        "\n",
        "ans = 0\n",
        "for v in range(len(graph)):\n",
        "    if calculated[v]: continue\n",
        "    dist = dfs(v)\n",
        "    ans = max(ans, dist)"
      ],
      "metadata": {
        "id": "PqT1kGfMEfnN"
      },
      "execution_count": 11,
      "outputs": []
    },
    {
      "cell_type": "code",
      "source": [
        "# 求めるのは日数なので, 最長経路 + 1 が答えとなる\n",
        "print(ans + 1)"
      ],
      "metadata": {
        "id": "rkiAKUM0J8Q1"
      },
      "execution_count": null,
      "outputs": []
    }
  ]
}