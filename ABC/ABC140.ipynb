{
  "nbformat": 4,
  "nbformat_minor": 0,
  "metadata": {
    "colab": {
      "name": "ABC140.ipynb",
      "provenance": [],
      "authorship_tag": "ABX9TyNTuHkiHRGaBxhL848LxKE9",
      "include_colab_link": true
    },
    "kernelspec": {
      "name": "python3",
      "display_name": "Python 3"
    },
    "language_info": {
      "name": "python"
    }
  },
  "cells": [
    {
      "cell_type": "markdown",
      "metadata": {
        "id": "view-in-github",
        "colab_type": "text"
      },
      "source": [
        "<a href=\"https://colab.research.google.com/github/Hidestament/AtCoder/blob/main/ABC/ABC140.ipynb\" target=\"_parent\"><img src=\"https://colab.research.google.com/assets/colab-badge.svg\" alt=\"Open In Colab\"/></a>"
      ]
    },
    {
      "cell_type": "markdown",
      "metadata": {
        "id": "dJiXPMt-Ewth"
      },
      "source": [
        "# [AtCoder Beginner Contest 140](https://atcoder.jp/contests/abc140)"
      ]
    },
    {
      "cell_type": "markdown",
      "metadata": {
        "id": "Zy67QFeBEyl0"
      },
      "source": [
        "## [A - Password](https://atcoder.jp/contests/abc140/tasks/abc140_a)"
      ]
    },
    {
      "cell_type": "code",
      "metadata": {
        "colab": {
          "base_uri": "https://localhost:8080/"
        },
        "id": "JBGLaqWIEqXL",
        "outputId": "8fa95eb1-326f-4c87-bb48-8c3af2d93b2b"
      },
      "source": [
        "N = int(input())\n",
        "print(N * N * N)"
      ],
      "execution_count": 1,
      "outputs": [
        {
          "output_type": "stream",
          "name": "stdout",
          "text": [
            "2\n",
            "8\n"
          ]
        }
      ]
    },
    {
      "cell_type": "markdown",
      "metadata": {
        "id": "EARos83kE8Ju"
      },
      "source": [
        "## [B - Buffet](https://atcoder.jp/contests/abc140/tasks/abc140_b)"
      ]
    },
    {
      "cell_type": "code",
      "metadata": {
        "colab": {
          "base_uri": "https://localhost:8080/"
        },
        "id": "2mxmf5VDE5kz",
        "outputId": "b38e55fc-1fca-462d-8e6f-f7980a91d31f"
      },
      "source": [
        "N = int(input())\n",
        "A = list(map(int, input().split()))\n",
        "B = list(map(int, input().split()))\n",
        "C = list(map(int, input().split()))"
      ],
      "execution_count": 3,
      "outputs": [
        {
          "name": "stdout",
          "output_type": "stream",
          "text": [
            "3\n",
            "3 1 2\n",
            "2 5 4\n",
            "3 6\n"
          ]
        }
      ]
    },
    {
      "cell_type": "code",
      "metadata": {
        "colab": {
          "base_uri": "https://localhost:8080/"
        },
        "id": "pBGMF-9mFLCc",
        "outputId": "6766efa6-7f17-455a-a6f3-b2abf28e555f"
      },
      "source": [
        "bef = -1\n",
        "ans = 0\n",
        "for i in range(N):\n",
        "    a = A[i]\n",
        "    b = B[a - 1]\n",
        "    ans += b\n",
        "    if bef != -1:\n",
        "        if bef + 1 == a:\n",
        "            c = C[bef-1]\n",
        "            ans += c\n",
        "    bef = a"
      ],
      "execution_count": 11,
      "outputs": [
        {
          "output_type": "stream",
          "name": "stdout",
          "text": [
            "4\n",
            "6\n",
            "2\n",
            "6\n",
            "5\n",
            "3\n"
          ]
        }
      ]
    },
    {
      "cell_type": "code",
      "metadata": {
        "colab": {
          "base_uri": "https://localhost:8080/"
        },
        "id": "n7MGbOeRFnzN",
        "outputId": "175ff121-eec6-4714-945c-848758de078c"
      },
      "source": [
        "ans"
      ],
      "execution_count": 12,
      "outputs": [
        {
          "output_type": "execute_result",
          "data": {
            "text/plain": [
              "14"
            ]
          },
          "metadata": {},
          "execution_count": 12
        }
      ]
    },
    {
      "cell_type": "markdown",
      "metadata": {
        "id": "JLCCk83HNf1t"
      },
      "source": [
        "こっちのほうが簡潔"
      ]
    },
    {
      "cell_type": "code",
      "metadata": {
        "id": "GsoomY2aFq_c"
      },
      "source": [
        "N = int(input())\n",
        "A = list(map(int, input().split()))\n",
        "B = list(map(int, input().split()))\n",
        "C = list(map(int, input().split()))\n",
        "ans = sum(B)\n",
        "bef = None\n",
        "for i in range(N-1):\n",
        "    if A[i+1] == A[i] + 1:\n",
        "        ans += C[A[i] - 1]\n",
        "print(ans)"
      ],
      "execution_count": null,
      "outputs": []
    },
    {
      "cell_type": "markdown",
      "metadata": {
        "id": "3heWjf2xOA3F"
      },
      "source": [
        "## [C - Maximal Value](https://atcoder.jp/contests/abc140/tasks/abc140_c)"
      ]
    },
    {
      "cell_type": "code",
      "metadata": {
        "colab": {
          "base_uri": "https://localhost:8080/"
        },
        "id": "wBtpQxM_OEXO",
        "outputId": "f9fa3f07-fe10-46b5-d12c-3dd565d4c778"
      },
      "source": [
        "N = int(input())\n",
        "B = list(map(int, input().split()))\n",
        "A = [0] * N"
      ],
      "execution_count": 22,
      "outputs": [
        {
          "name": "stdout",
          "output_type": "stream",
          "text": [
            "6\n",
            "0 153 10 10 23\n"
          ]
        }
      ]
    },
    {
      "cell_type": "code",
      "metadata": {
        "id": "izHz-LuNOMII"
      },
      "source": [
        "A[0], A[-1] = B[0], B[-1]\n",
        "for i in range(N-2, 0, -1):\n",
        "    A[i] = min(B[i], B[i-1])"
      ],
      "execution_count": 25,
      "outputs": []
    },
    {
      "cell_type": "code",
      "metadata": {
        "colab": {
          "base_uri": "https://localhost:8080/"
        },
        "id": "w7N8ybfSQa_Z",
        "outputId": "a9a95f12-9b13-47ad-dca8-0c4d3172803d"
      },
      "source": [
        "print(sum(A))"
      ],
      "execution_count": 24,
      "outputs": [
        {
          "output_type": "stream",
          "name": "stdout",
          "text": [
            "53\n"
          ]
        }
      ]
    },
    {
      "cell_type": "markdown",
      "metadata": {
        "id": "TcWsIGhtRGbF"
      },
      "source": [
        "## [D - Face Produces Unhappiness](https://atcoder.jp/contests/abc140/tasks/abc140_d)"
      ]
    },
    {
      "cell_type": "markdown",
      "metadata": {
        "id": "tL4yq1cO6CqH"
      },
      "source": [
        "解説はNotion\n",
        "https://www.notion.so/Face-Produces-Unhappiness-50fc818a065b42d1a07faee559b812b8"
      ]
    },
    {
      "cell_type": "code",
      "metadata": {
        "colab": {
          "base_uri": "https://localhost:8080/"
        },
        "id": "TZGpO7N1QhV6",
        "outputId": "4f923fbe-55a4-413b-fbe1-b32490e3b52e"
      },
      "source": [
        "from itertools import groupby\n",
        "N, K = map(int, input().split())\n",
        "S = str(input())"
      ],
      "execution_count": 6,
      "outputs": [
        {
          "name": "stdout",
          "output_type": "stream",
          "text": [
            "6 1\n",
            "LRLRRL\n"
          ]
        }
      ]
    },
    {
      "cell_type": "code",
      "metadata": {
        "id": "TTS9Digl84nn"
      },
      "source": [
        "now = 0\n",
        "for s, num in groupby(S):\n",
        "    num = len(list(num))\n",
        "    now += (num - 1)"
      ],
      "execution_count": 7,
      "outputs": []
    },
    {
      "cell_type": "code",
      "metadata": {
        "colab": {
          "base_uri": "https://localhost:8080/"
        },
        "id": "_QSZxKmY6bC8",
        "outputId": "5cf7d342-fbec-4b89-deb9-a2a716a87667"
      },
      "source": [
        "print(min(N-1, now + 2 * K))"
      ],
      "execution_count": 9,
      "outputs": [
        {
          "output_type": "stream",
          "name": "stdout",
          "text": [
            "3\n"
          ]
        }
      ]
    }
  ]
}