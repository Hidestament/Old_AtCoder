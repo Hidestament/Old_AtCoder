{
  "nbformat": 4,
  "nbformat_minor": 0,
  "metadata": {
    "colab": {
      "name": "ABC141.ipynb",
      "provenance": [],
      "authorship_tag": "ABX9TyMxwSj4X97Ey/n8VAYvZzJP",
      "include_colab_link": true
    },
    "kernelspec": {
      "name": "python3",
      "display_name": "Python 3"
    },
    "language_info": {
      "name": "python"
    }
  },
  "cells": [
    {
      "cell_type": "markdown",
      "metadata": {
        "id": "view-in-github",
        "colab_type": "text"
      },
      "source": [
        "<a href=\"https://colab.research.google.com/github/Hidestament/AtCoder/blob/main/ABC/ABC141.ipynb\" target=\"_parent\"><img src=\"https://colab.research.google.com/assets/colab-badge.svg\" alt=\"Open In Colab\"/></a>"
      ]
    },
    {
      "cell_type": "markdown",
      "metadata": {
        "id": "PMDc6k6RCEzZ"
      },
      "source": [
        "# [AtCoder Beginner Contest 141](https://atcoder.jp/contests/abc141)"
      ]
    },
    {
      "cell_type": "markdown",
      "metadata": {
        "id": "jhIBTb-ICG7F"
      },
      "source": [
        "## [A - Weather Prediction](https://atcoder.jp/contests/abc141/tasks/abc141_a)"
      ]
    },
    {
      "cell_type": "code",
      "metadata": {
        "id": "UsH_MLVRCDih"
      },
      "source": [
        "S = str(input())\n",
        "ans = {\"Sunny\":\"Cloudy\", \"Cloudy\":\"Rainy\", \"Rainy\":\"Sunny\"}\n",
        "print(ans[S])"
      ],
      "execution_count": null,
      "outputs": []
    },
    {
      "cell_type": "markdown",
      "metadata": {
        "id": "g6VrjqkwCXHN"
      },
      "source": [
        "## [B - Tap Dance](https://atcoder.jp/contests/abc141/tasks/abc141_b)"
      ]
    },
    {
      "cell_type": "code",
      "metadata": {
        "colab": {
          "base_uri": "https://localhost:8080/"
        },
        "id": "cy5ORUTTCZih",
        "outputId": "9ab98a0e-0bed-4e26-ae71-9b30e1965126"
      },
      "source": [
        "S = str(input())\n",
        "odd = set([S[i] for i in range(len(S)) if i % 2 == 0])\n",
        "even = set([S[i] for i in range(len(S)) if i % 2 == 1])\n",
        "if (\"L\" not in odd) and (\"R\" not in even):\n",
        "    print(\"Yes\")\n",
        "else:\n",
        "    print(\"No\")"
      ],
      "execution_count": null,
      "outputs": [
        {
          "output_type": "stream",
          "name": "stdout",
          "text": [
            "UUUUUUUUUUUUUUU\n",
            "Yes\n"
          ]
        }
      ]
    },
    {
      "cell_type": "markdown",
      "metadata": {
        "id": "dm4rUM4wC91V"
      },
      "source": [
        "## [C - Attack Survival](https://atcoder.jp/contests/abc141/tasks/abc141_c)"
      ]
    },
    {
      "cell_type": "code",
      "metadata": {
        "id": "EJfsa2dWC1m3"
      },
      "source": [
        "N, K, Q = map(int, input().split())\n",
        "P = [0] * N\n",
        "for _ in range(Q):\n",
        "    a = int(input())\n",
        "    P[a-1] += 1\n",
        "s = sum(P)\n",
        "for i in range(N):\n",
        "    print(\"No\" if K - s + P[i] <= 0 else \"Yes\")"
      ],
      "execution_count": null,
      "outputs": []
    },
    {
      "cell_type": "markdown",
      "metadata": {
        "id": "HvsyNfmxEAGt"
      },
      "source": [
        "## [D - Powerful Discount Tickets](https://atcoder.jp/contests/abc141/tasks/abc141_d)"
      ]
    },
    {
      "cell_type": "markdown",
      "metadata": {
        "id": "TA5Bc2dV-Ivg"
      },
      "source": [
        "割引券を1枚ずつ順にどの商品に適応するかを考える.\n",
        "\n",
        "明らかに1番値段が高いものに適応するのが良い.\n",
        "\n",
        "そこで, 現状の一番値段を高いものを取り出して（これの値段をaとする）, その商品に割引を適応して, $a // 2$とした後もとの配列に戻す.\n",
        "\n",
        "よって, 最大値の取り出しと値の挿入を高速で行えばよく, これを行うにはpythonのheapqを使用すれば良い.\n",
        "\n",
        "heapqは最小値の取り出しとなるため, 予め元の値を全て-1倍しておく."
      ]
    },
    {
      "cell_type": "code",
      "metadata": {
        "colab": {
          "base_uri": "https://localhost:8080/"
        },
        "id": "7ZcqI0-IECu6",
        "outputId": "93c4820f-5c2c-456e-edca-601c0d4f35d5"
      },
      "source": [
        "from heapq import heapify, heappop, heappush\n",
        "N, M = map(int, input().split())\n",
        "A = list(map(lambda x: -1 * int(x), input().split()))"
      ],
      "execution_count": null,
      "outputs": [
        {
          "name": "stdout",
          "output_type": "stream",
          "text": [
            "3 3\n",
            "2 13 8\n"
          ]
        }
      ]
    },
    {
      "cell_type": "code",
      "metadata": {
        "colab": {
          "base_uri": "https://localhost:8080/"
        },
        "id": "bgHm1jBT8tNj",
        "outputId": "44d14779-f355-4007-f77b-38eb9315b264"
      },
      "source": [
        "heapify(A)\n",
        "for _ in range(M):\n",
        "    a = heappop(A)\n",
        "    a *= -1\n",
        "    a //= 2\n",
        "    a *= -1\n",
        "    heappush(A, a)\n",
        "print(-1 * sum(A))"
      ],
      "execution_count": null,
      "outputs": [
        {
          "output_type": "stream",
          "name": "stdout",
          "text": [
            "[-13, -2, -8]\n",
            "-13\n",
            "6\n",
            "-8\n",
            "4\n",
            "-6\n",
            "3\n",
            "9\n"
          ]
        }
      ]
    },
    {
      "cell_type": "markdown",
      "metadata": {
        "id": "U2-4Wdp7-m4Z"
      },
      "source": [
        "## [E - Who Says a Pun?](https://atcoder.jp/contests/abc141/tasks/abc141_e)"
      ]
    },
    {
      "cell_type": "markdown",
      "metadata": {
        "id": "9l8fdTEEodZX"
      },
      "source": [
        "解法は複数ある. DPとローリングハッシュで解いた. 解説は[Notion](https://www.notion.so/Who-Says-a-Pun-15a0be031aee4b3e8816672610bc4f5c)\n"
      ]
    },
    {
      "cell_type": "markdown",
      "metadata": {
        "id": "vprnkIe1nugH"
      },
      "source": [
        "### 解法1 : 動的計画法 $O(N^2)$\n",
        "`DP[i][j]` : `S`の`i`番目からと`S`の`j`番目からで一致させることのできる文字列の最大値.\n",
        "\n",
        "DPの更新\n",
        "\n",
        "`if S[i] == S[j]: DP[i][j] = DP[i+1][j+1] + 1`\n",
        "\n",
        "`else: DP[i][j] = 0`"
      ]
    },
    {
      "cell_type": "code",
      "metadata": {
        "colab": {
          "base_uri": "https://localhost:8080/"
        },
        "id": "xpCQP_uL9KVv",
        "outputId": "c89885fe-4a6b-4cb6-f502-8d7afe32a2ab"
      },
      "source": [
        "N = int(input())\n",
        "S = str(input())"
      ],
      "execution_count": null,
      "outputs": [
        {
          "name": "stdout",
          "output_type": "stream",
          "text": [
            "13\n",
            "strangeorange\n"
          ]
        }
      ]
    },
    {
      "cell_type": "code",
      "metadata": {
        "id": "to2gtYqAQIKo"
      },
      "source": [
        "DP = [[0] * (N+1) for _ in range(N+1)]"
      ],
      "execution_count": null,
      "outputs": []
    },
    {
      "cell_type": "code",
      "metadata": {
        "id": "VEb6TXPOQPRO"
      },
      "source": [
        "for i in range(N-1, -1, -1):\n",
        "    for j in range(N-1, -1, -1):\n",
        "        if S[i] == S[j]:\n",
        "            DP[i][j] = DP[i+1][j+1] + 1"
      ],
      "execution_count": null,
      "outputs": []
    },
    {
      "cell_type": "code",
      "metadata": {
        "colab": {
          "base_uri": "https://localhost:8080/"
        },
        "id": "Zv1CE8qrQcZt",
        "outputId": "04408b9f-a216-4329-fee0-3d72672ca57a"
      },
      "source": [
        "ans = 0\n",
        "for i in range(N-1):\n",
        "    for j in range(i, N):\n",
        "        now = min(j-i, DP[i][j])\n",
        "        ans = max(now, ans)\n",
        "print(ans)"
      ],
      "execution_count": null,
      "outputs": [
        {
          "output_type": "stream",
          "name": "stdout",
          "text": [
            "5\n"
          ]
        }
      ]
    },
    {
      "cell_type": "markdown",
      "metadata": {
        "id": "OqTKcgHtRau3"
      },
      "source": [
        "### 解法2 : 二分探索 + RabinKarp法（ローリングハッシュ）$O(N \\log N)$"
      ]
    },
    {
      "cell_type": "code",
      "metadata": {
        "id": "K3PUkGQNcgyd"
      },
      "source": [
        "from collections import defaultdict\n",
        "N = int(input())\n",
        "S = str(input())"
      ],
      "execution_count": null,
      "outputs": []
    },
    {
      "cell_type": "code",
      "metadata": {
        "id": "lb5DNNwdnmBB"
      },
      "source": [
        "def make_rolling_hash(S, k):\n",
        "    MOD = 2**61 - 1 # MODはこの値が良いらしい\n",
        "    base = 1234 # MODと素な適当な値\n",
        "    strings = defaultdict(list)\n",
        "    rolling_hash = 0\n",
        "    n = len(S)\n",
        "    for i in range(n):\n",
        "        rolling_hash *= base\n",
        "        rolling_hash += ord(S[i])\n",
        "        if i - k >= 0:\n",
        "            rolling_hash -= ord(S[i-k]) * pow(base, k, MOD)\n",
        "        rolling_hash %= MOD\n",
        "        if i < k - 1: continue\n",
        "        strings[rolling_hash].append(i-(k-1))\n",
        "    \n",
        "    for s, position in strings.items():\n",
        "        if position[-1] - position[0] >= k:\n",
        "            return True\n",
        "    return False"
      ],
      "execution_count": null,
      "outputs": []
    },
    {
      "cell_type": "code",
      "metadata": {
        "id": "S5kT12Xrnl-c"
      },
      "source": [
        "l, r = 0, N\n",
        "while (r - l) > 1:\n",
        "    mid = (r + l) // 2\n",
        "    if make_rolling_hash(S, mid): l = mid\n",
        "    else: r = mid\n",
        "print(l)"
      ],
      "execution_count": null,
      "outputs": []
    }
  ]
}