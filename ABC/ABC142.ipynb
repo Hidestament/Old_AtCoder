{
  "nbformat": 4,
  "nbformat_minor": 0,
  "metadata": {
    "colab": {
      "name": "ABC142.ipynb",
      "provenance": [],
      "collapsed_sections": [],
      "authorship_tag": "ABX9TyPe/UTJQwaGE0t4/NTMSHGd",
      "include_colab_link": true
    },
    "kernelspec": {
      "name": "python3",
      "display_name": "Python 3"
    },
    "language_info": {
      "name": "python"
    }
  },
  "cells": [
    {
      "cell_type": "markdown",
      "metadata": {
        "id": "view-in-github",
        "colab_type": "text"
      },
      "source": [
        "<a href=\"https://colab.research.google.com/github/Hidestament/AtCoder/blob/main/ABC/ABC142.ipynb\" target=\"_parent\"><img src=\"https://colab.research.google.com/assets/colab-badge.svg\" alt=\"Open In Colab\"/></a>"
      ]
    },
    {
      "cell_type": "markdown",
      "metadata": {
        "id": "YWHVMMMz7Qgc"
      },
      "source": [
        "# [AtCoder Beginner Contest 142](https://atcoder.jp/contests/abc142)"
      ]
    },
    {
      "cell_type": "markdown",
      "metadata": {
        "id": "OdZZxYmK7TiH"
      },
      "source": [
        "## [A - Odds of Oddness](https://atcoder.jp/contests/abc142/tasks/abc142_a)"
      ]
    },
    {
      "cell_type": "code",
      "metadata": {
        "id": "fQ2igURu7Ojd"
      },
      "source": [
        "N = int(input())\n",
        "num_odd = 0\n",
        "for i in range(1, N+1):\n",
        "    if i % 2 == 1:\n",
        "        num_odd += 1\n",
        "print(num_odd / N)"
      ],
      "execution_count": null,
      "outputs": []
    },
    {
      "cell_type": "markdown",
      "metadata": {
        "id": "zvYgFooz7m2g"
      },
      "source": [
        "これでも良い"
      ]
    },
    {
      "cell_type": "code",
      "metadata": {
        "id": "1061ir9V7nJi"
      },
      "source": [
        "N = int(input())\n",
        "if N % 2 == 0:\n",
        "  print((N/2)/N)\n",
        "else:\n",
        "  print((N+1)/2/N)"
      ],
      "execution_count": null,
      "outputs": []
    },
    {
      "cell_type": "markdown",
      "metadata": {
        "id": "7An7q1tt7o22"
      },
      "source": [
        "## [B - Roller Coaster](https://atcoder.jp/contests/abc142/tasks/abc142_b)"
      ]
    },
    {
      "cell_type": "code",
      "metadata": {
        "id": "0QlNEOws7sTX"
      },
      "source": [
        "N, K = map(int, input().split())\n",
        "H = list(map(int, input().split()))"
      ],
      "execution_count": null,
      "outputs": []
    },
    {
      "cell_type": "code",
      "metadata": {
        "id": "3oJlOvFk8F4r"
      },
      "source": [
        "ans = [h for h in H if h >= K]\n",
        "print(len(ans))"
      ],
      "execution_count": null,
      "outputs": []
    },
    {
      "cell_type": "markdown",
      "metadata": {
        "id": "8-jH9YTr8Xap"
      },
      "source": [
        "## [C - Go to School](https://atcoder.jp/contests/abc142/tasks/abc142_c)"
      ]
    },
    {
      "cell_type": "markdown",
      "metadata": {
        "id": "1JWjAZ3WKWlw"
      },
      "source": [
        "最初に来た生徒は, その人より前にいた生徒は, その生徒を含め１人となる.\n",
        "\n",
        "次に来た生徒は, その人より前にいた生徒は, その生徒を含め２人となる.\n",
        "\n",
        "...\n",
        "\n",
        "となるため, 記録された人数と来た順番は一致する.\n",
        "\n",
        "よって, Aの値でソートして, Indexがどう変わったかを調べれば良い."
      ]
    },
    {
      "cell_type": "code",
      "metadata": {
        "colab": {
          "base_uri": "https://localhost:8080/"
        },
        "id": "HSreVt7Y8bI4",
        "outputId": "a0d8bd51-6520-4d59-850c-8148ae4c5c47"
      },
      "source": [
        "N = int(input())\n",
        "A = list(map(int, input().split()))"
      ],
      "execution_count": null,
      "outputs": [
        {
          "name": "stdout",
          "output_type": "stream",
          "text": [
            "8\n",
            "8 2 7 3 4 5 6 1\n"
          ]
        }
      ]
    },
    {
      "cell_type": "code",
      "metadata": {
        "id": "IpCVr54ZCDxV"
      },
      "source": [
        "for i in range(N):\n",
        "    A[i] = [A[i], i+1]"
      ],
      "execution_count": null,
      "outputs": []
    },
    {
      "cell_type": "code",
      "metadata": {
        "colab": {
          "base_uri": "https://localhost:8080/"
        },
        "id": "Q-oCyLQcCLCp",
        "outputId": "f70c6a3b-0847-4f76-b1c9-2fd5f38e5aab"
      },
      "source": [
        "A.sort(key=lambda x:(x[0], x[1]))\n",
        "ans = []\n",
        "for a, i in A:\n",
        "    ans.append(i)\n",
        "print(*ans)"
      ],
      "execution_count": null,
      "outputs": [
        {
          "output_type": "stream",
          "name": "stdout",
          "text": [
            "8 2 4 5 6 7 3 1\n"
          ]
        }
      ]
    },
    {
      "cell_type": "markdown",
      "metadata": {
        "id": "yj6Dl8TOKnnC"
      },
      "source": [
        "### 解2\n",
        "Aの配列には, i番目の人A[i]に前に何人来たかが入っている.\n",
        "\n",
        "よって, i番目の人は, A[i]番目にくる\n",
        "\n",
        "\n",
        "ansとして来た順番を保存する配列をもっておくと, ans[j] = j番目に来た人の番号 という配列を持っておく.\n",
        "\n",
        "つまり, ans[A[i]] = i+1 とすれば良い"
      ]
    },
    {
      "cell_type": "code",
      "metadata": {
        "id": "wKHJD8XzJ_mU"
      },
      "source": [
        "N = int(input())\n",
        "A = list(map(int, input().split()))\n",
        "ans = [0 for _ in range(N+1)]\n",
        "\n",
        "for i in range(N):\n",
        "  ans[A[i]] = str(i+1)\n",
        "\n",
        "print(\" \".join(ans[1:]))"
      ],
      "execution_count": null,
      "outputs": []
    },
    {
      "cell_type": "markdown",
      "metadata": {
        "id": "nSeuKsatKsUk"
      },
      "source": [
        "## [D - Disjoint Set of Common Divisors](https://atcoder.jp/contests/abc142/tasks/abc142_d)"
      ]
    },
    {
      "cell_type": "markdown",
      "metadata": {
        "id": "g0gFXpQxlM7c"
      },
      "source": [
        "解説は[Notion](https://www.notion.so/Disjoint-Set-of-Common-Divisors-a520b88293464228b5c2ed7b95dc8e32)"
      ]
    },
    {
      "cell_type": "code",
      "metadata": {
        "colab": {
          "base_uri": "https://localhost:8080/"
        },
        "id": "BJ48u80a_6_4",
        "outputId": "2f753c0d-d3f9-418a-b589-4cb98ff0f547"
      },
      "source": [
        "from collections import Counter\n",
        "A, B = map(int, input().split())"
      ],
      "execution_count": null,
      "outputs": [
        {
          "name": "stdout",
          "output_type": "stream",
          "text": [
            "12 18\n"
          ]
        }
      ]
    },
    {
      "cell_type": "code",
      "metadata": {
        "id": "QAX3fMzFA8BD"
      },
      "source": [
        "def prime_factorize(n):\n",
        "    a = []\n",
        "    while n % 2 == 0:\n",
        "        a.append(2)\n",
        "        n //= 2\n",
        "    f = 3\n",
        "    while f * f <= n:\n",
        "        if n % f == 0:\n",
        "            a.append(f)\n",
        "            n //= f\n",
        "        else:\n",
        "            f += 2\n",
        "    if n != 1:\n",
        "        a.append(n)\n",
        "    return a"
      ],
      "execution_count": null,
      "outputs": []
    },
    {
      "cell_type": "code",
      "metadata": {
        "id": "ovNGqx--A7-a"
      },
      "source": [
        "a = Counter(prime_factorize(A))\n",
        "b = Counter(prime_factorize(B))"
      ],
      "execution_count": null,
      "outputs": []
    },
    {
      "cell_type": "code",
      "metadata": {
        "colab": {
          "base_uri": "https://localhost:8080/"
        },
        "id": "bmg0RykFA77u",
        "outputId": "eedd824a-390a-47f5-b060-a21dade21582"
      },
      "source": [
        "ans = 1\n",
        "for key, value in a.items():\n",
        "    if key in b:\n",
        "        ans += 1\n",
        "print(ans)"
      ],
      "execution_count": null,
      "outputs": [
        {
          "output_type": "stream",
          "name": "stdout",
          "text": [
            "3\n"
          ]
        }
      ]
    },
    {
      "cell_type": "markdown",
      "metadata": {
        "id": "bi5w9_HKluDR"
      },
      "source": [
        "こっちのほうが明快.\n",
        "1. 最大公約数を求める\n",
        "2. 最大公約数を素因数分解する\n",
        "3. 2の素数の個数 + 1が答え"
      ]
    },
    {
      "cell_type": "code",
      "metadata": {
        "colab": {
          "base_uri": "https://localhost:8080/"
        },
        "id": "-JrxbH67luiY",
        "outputId": "e3fb4c3d-c610-4032-d01a-a7e09a9742b4"
      },
      "source": [
        "from math import gcd\n",
        "from collections import Counter\n",
        "A, B = map(int, input().split())\n",
        "G = gcd(A, B)"
      ],
      "execution_count": 16,
      "outputs": [
        {
          "name": "stdout",
          "output_type": "stream",
          "text": [
            "420 660\n"
          ]
        }
      ]
    },
    {
      "cell_type": "code",
      "metadata": {
        "id": "qYkElOwfluf4"
      },
      "source": [
        "def prime_factorize(n):\n",
        "    a = []\n",
        "    while n % 2 == 0:\n",
        "        a.append(2)\n",
        "        n //= 2\n",
        "    f = 3\n",
        "    while f * f <= n:\n",
        "        if n % f == 0:\n",
        "            a.append(f)\n",
        "            n //= f\n",
        "        else:\n",
        "            f += 2\n",
        "    if n != 1:\n",
        "        a.append(n)\n",
        "    return a"
      ],
      "execution_count": 23,
      "outputs": []
    },
    {
      "cell_type": "code",
      "metadata": {
        "id": "EyPmsORBlucs"
      },
      "source": [
        "prime = Counter(prime_factorize(G))"
      ],
      "execution_count": 18,
      "outputs": []
    },
    {
      "cell_type": "code",
      "metadata": {
        "colab": {
          "base_uri": "https://localhost:8080/"
        },
        "id": "j2Xt4ieMmF3L",
        "outputId": "ea08159c-762d-4485-eda5-d918b06fb1cb"
      },
      "source": [
        "print(len(prime) + 1)"
      ],
      "execution_count": 15,
      "outputs": [
        {
          "output_type": "stream",
          "name": "stdout",
          "text": [
            "3\n"
          ]
        }
      ]
    },
    {
      "cell_type": "markdown",
      "metadata": {
        "id": "UXbyFwl7_OEB"
      },
      "source": [
        "## [E - Get Everything](https://atcoder.jp/contests/abc142/tasks/abc142_e)"
      ]
    },
    {
      "cell_type": "markdown",
      "metadata": {
        "id": "IShMDBi_nu_f"
      },
      "source": [
        "解説: [Notion](https://www.notion.so/Get-Everything-29c25889bce74d6c96f1b7d88c28a5b9)"
      ]
    },
    {
      "cell_type": "markdown",
      "metadata": {
        "id": "uy8wW2kH9W6H"
      },
      "source": [
        "- DPテーブル\n",
        "\n",
        "DP[i][s]: i番目までの鍵を使って, 宝箱の部分集合$s$を開けることのできる場合の費用の最小値\n",
        "\n",
        "- 初期状態\n",
        "\n",
        "DP[0][$\\emptyset$] = 0: 0個の鍵で0個の宝箱を開けるための費用の最小値は0\n",
        "\n",
        "- 遷移\n",
        "\n",
        "1. 鍵iを使用しない場合: DP[i-1][s] -> DP[i][s]\n",
        "2. 鍵iを使用する場合: DP[i-1][s] +$a_i$ -> DP[i][$s\\cup s_i$]. ここで$s_i$は鍵iが開けられる宝箱の集合."
      ]
    },
    {
      "cell_type": "code",
      "metadata": {
        "id": "V9Mtd3ihFRDt"
      },
      "source": [
        "N, M = map(int, input().split())\n",
        "keys = []\n",
        "for _ in range(M):\n",
        "    a, b = map(int, input().split())\n",
        "    c = list(map(int, input().split()))\n",
        "    bits = [\"0\"] * N\n",
        "    for k in range(b):\n",
        "        bits[c[k] - 1] = \"1\"\n",
        "    c = int(\"\".join(bits), 2)\n",
        "    keys.append([a, c])"
      ],
      "execution_count": null,
      "outputs": []
    },
    {
      "cell_type": "code",
      "metadata": {
        "id": "cpYTRvMnHMd9"
      },
      "source": [
        "INF = 10**10\n",
        "DP = [[INF] * (2 ** N) for _ in range(M+1)]"
      ],
      "execution_count": null,
      "outputs": []
    },
    {
      "cell_type": "code",
      "metadata": {
        "id": "brnDIauUHMbE"
      },
      "source": [
        "# 初期状態: 0個の鍵で0個の宝箱を開ける最小の費用は0\n",
        "DP[0][0] = 0\n",
        "\n",
        "for i in range(1, M+1):\n",
        "    a, c = keys[i-1]\n",
        "    for s in range(2**N):\n",
        "        # 鍵i-1を使わないとき\n",
        "        DP[i][s] = min(DP[i-1][s], DP[i][s])\n",
        "\n",
        "        # 鍵i-1を使うとき: s + {i-1で開けられる宝箱の集合} が 開けられる宝箱の部分集合で, 費用は DP[i-1][s] + a\n",
        "        next = s | c\n",
        "        DP[i][next] = min(DP[i][next], DP[i-1][s] + a)\n",
        "print(DP[M][2**N-1] if DP[M][2**N-1] < INF else - 1)"
      ],
      "execution_count": null,
      "outputs": []
    }
  ]
}