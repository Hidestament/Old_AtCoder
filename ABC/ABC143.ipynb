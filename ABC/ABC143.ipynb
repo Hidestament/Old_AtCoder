{
  "nbformat": 4,
  "nbformat_minor": 0,
  "metadata": {
    "colab": {
      "name": "ABC143.ipynb",
      "provenance": [],
      "authorship_tag": "ABX9TyPllKPgtqhRIHR2kHDKKU5I",
      "include_colab_link": true
    },
    "kernelspec": {
      "name": "python3",
      "display_name": "Python 3"
    },
    "language_info": {
      "name": "python"
    }
  },
  "cells": [
    {
      "cell_type": "markdown",
      "metadata": {
        "id": "view-in-github",
        "colab_type": "text"
      },
      "source": [
        "<a href=\"https://colab.research.google.com/github/Hidestament/AtCoder/blob/main/ABC/ABC143.ipynb\" target=\"_parent\"><img src=\"https://colab.research.google.com/assets/colab-badge.svg\" alt=\"Open In Colab\"/></a>"
      ]
    },
    {
      "cell_type": "markdown",
      "metadata": {
        "id": "wwmxEv7jIndU"
      },
      "source": [
        "# [AtCoder Beginner Contest 143](https://atcoder.jp/contests/abc143)"
      ]
    },
    {
      "cell_type": "markdown",
      "metadata": {
        "id": "5JdlsofgIp0G"
      },
      "source": [
        "## [A - Curtain](https://atcoder.jp/contests/abc143/tasks/abc143_a)"
      ]
    },
    {
      "cell_type": "code",
      "metadata": {
        "id": "hI8yxRU7Ikxi"
      },
      "source": [
        "A, B = map(int, input().split())\n",
        "print(max(0, A - 2*B))"
      ],
      "execution_count": null,
      "outputs": []
    },
    {
      "cell_type": "markdown",
      "metadata": {
        "id": "dd2iWq-vI5oD"
      },
      "source": [
        "## [B - TAKOYAKI FESTIVAL 2019](https://atcoder.jp/contests/abc143/tasks/abc143_b)"
      ]
    },
    {
      "cell_type": "code",
      "metadata": {
        "id": "0KtwbLwgI8pZ"
      },
      "source": [
        "N = int(input())\n",
        "D = list(map(int, input().split()))"
      ],
      "execution_count": null,
      "outputs": []
    },
    {
      "cell_type": "code",
      "metadata": {
        "id": "-OOpCfFPJFaA"
      },
      "source": [
        "ans = 0\n",
        "for i in range(N-1):\n",
        "    for j in range(i+1, N):\n",
        "        ans += D[i] * D[j]\n",
        "print(ans)"
      ],
      "execution_count": null,
      "outputs": []
    },
    {
      "cell_type": "markdown",
      "metadata": {
        "id": "f9BM6bblJQtW"
      },
      "source": [
        "itertoolsを使うとこんな漢字"
      ]
    },
    {
      "cell_type": "code",
      "metadata": {
        "colab": {
          "base_uri": "https://localhost:8080/"
        },
        "id": "AvEsvoNUJRvp",
        "outputId": "b765fce4-ec7a-47ac-9e43-3463680037c0"
      },
      "source": [
        "from itertools import combinations\n",
        "N = int(input())\n",
        "D = list(map(int, input().split()))\n",
        "ans = 0\n",
        "for i, j in combinations(D, 2):\n",
        "    ans += i * j\n",
        "print(ans) "
      ],
      "execution_count": null,
      "outputs": [
        {
          "output_type": "stream",
          "name": "stdout",
          "text": [
            "3\n",
            "3 1 2\n",
            "11\n"
          ]
        }
      ]
    },
    {
      "cell_type": "markdown",
      "metadata": {
        "id": "6dlxKFKFJdL3"
      },
      "source": [
        "## [C - Slimes](https://atcoder.jp/contests/abc143/tasks/abc143_c)"
      ]
    },
    {
      "cell_type": "code",
      "metadata": {
        "colab": {
          "base_uri": "https://localhost:8080/"
        },
        "id": "DMTTdv_pJcBF",
        "outputId": "a75b459a-6c96-4814-8c51-255508c75d2e"
      },
      "source": [
        "from itertools import groupby\n",
        "N = int(input())\n",
        "S = str(input())\n",
        "ans = len(list(groupby(S)))\n",
        "print(ans)"
      ],
      "execution_count": null,
      "outputs": [
        {
          "name": "stdout",
          "output_type": "stream",
          "text": [
            "10\n",
            "aabbbbaaca\n"
          ]
        }
      ]
    },
    {
      "cell_type": "markdown",
      "metadata": {
        "id": "--pGxjMLKA8V"
      },
      "source": [
        "## [D - Triangles](https://atcoder.jp/contests/abc143/tasks/abc143_d)"
      ]
    },
    {
      "cell_type": "markdown",
      "metadata": {
        "id": "tDJ7ywMYY1qV"
      },
      "source": [
        "aとbは全探索するとする. するとcが満たすべき条件は, \n",
        "$$\n",
        "\\max(a - b, b -a) < c \\\\\n",
        "c < a + b\n",
        "$$\n",
        "となる. あらかじめ$L$をソートしといて, 上の条件を満たす範囲を二分探索で求めれば良い"
      ]
    },
    {
      "cell_type": "code",
      "metadata": {
        "colab": {
          "base_uri": "https://localhost:8080/"
        },
        "id": "r5--pE4JJ6U8",
        "outputId": "256c4c9c-9445-4493-fc39-b019b24253ab"
      },
      "source": [
        "N = int(input())\n",
        "L = list(map(int, input().split()))\n",
        "L.sort()"
      ],
      "execution_count": null,
      "outputs": [
        {
          "name": "stdout",
          "output_type": "stream",
          "text": [
            "3\n",
            "1 1000 1\n"
          ]
        }
      ]
    },
    {
      "cell_type": "code",
      "metadata": {
        "colab": {
          "base_uri": "https://localhost:8080/"
        },
        "id": "gIuf5MpxKZ1S",
        "outputId": "94526da3-5826-4fa4-8671-001ef9089501"
      },
      "source": [
        "import bisect\n",
        "cnt = 0\n",
        "for i in range(N-2):\n",
        "    for j in range(i+1, N-1):\n",
        "        a, b = L[i], L[j]\n",
        "        c_min = max(a-b, b-a)\n",
        "        c_max = a + b\n",
        "        l_index = bisect.bisect_right(L, c_min, lo=j+1)\n",
        "        r_index = bisect.bisect_left(L, c_max, lo=j+1)\n",
        "        if l_index > N: continue\n",
        "        cnt += (r_index - l_index)\n",
        "print(cnt)"
      ],
      "execution_count": null,
      "outputs": [
        {
          "output_type": "stream",
          "name": "stdout",
          "text": [
            "0\n"
          ]
        }
      ]
    },
    {
      "cell_type": "markdown",
      "metadata": {
        "id": "-KWoKjdwZFqC"
      },
      "source": [
        "## [E - Travel by Car](https://atcoder.jp/contests/abc143/tasks/abc143_e)"
      ]
    },
    {
      "cell_type": "markdown",
      "metadata": {
        "id": "QdIzs5b7qAkP"
      },
      "source": [
        "解説は[Notion](https://www.notion.so/Travel-by-Car-2afc6c6fd3f84faa8d333416b1e5ec51)\n",
        "\n",
        "Warshall-Floyd法 -> 距離がL以下の頂点を辺で結んだグラフを作成 -> Warshall-Floyd法\n",
        "\n",
        "という感じ"
      ]
    },
    {
      "cell_type": "code",
      "metadata": {
        "colab": {
          "base_uri": "https://localhost:8080/"
        },
        "id": "EhsbftD8Ul2v",
        "outputId": "565daa52-971f-477d-8039-7d26f1b1a57b"
      },
      "source": [
        "N, M, L = map(int, input().split())\n",
        "graph = [[] for _ in range(N)]\n",
        "for _ in range(M):\n",
        "    a, b, c = map(int, input().split())\n",
        "    a -= 1\n",
        "    b -= 1\n",
        "    graph[a].append((b, c))\n",
        "    graph[b].append((a, c))"
      ],
      "execution_count": 10,
      "outputs": [
        {
          "name": "stdout",
          "output_type": "stream",
          "text": [
            "4 0 1\n"
          ]
        }
      ]
    },
    {
      "cell_type": "code",
      "metadata": {
        "id": "qXS6qN_qe320"
      },
      "source": [
        "INF = 10 ** 10\n",
        "def warshall_floyd(graph):\n",
        "    N = len(graph)\n",
        "    dist = [[INF] * N for _ in range(N)]\n",
        "\n",
        "    # i -> i は 距離0\n",
        "    for i in range(N):\n",
        "        dist[i][i] = 0\n",
        "\n",
        "    # 初期状態：隣接頂点のコストをdistに記録する\n",
        "    for now in range(N):\n",
        "        for to, cost in graph[now]:\n",
        "            dist[now][to] = cost\n",
        "    \n",
        "    for k in range(N):\n",
        "        for i in range(N):\n",
        "            for j in range(N):\n",
        "                dist[i][j] = min(dist[i][j], dist[i][k] + dist[k][j])\n",
        " \n",
        "    return dist"
      ],
      "execution_count": null,
      "outputs": []
    },
    {
      "cell_type": "code",
      "metadata": {
        "id": "LfPG46L4fmCd"
      },
      "source": [
        "dist = warshall_floyd(graph)"
      ],
      "execution_count": null,
      "outputs": []
    },
    {
      "cell_type": "code",
      "metadata": {
        "id": "2vJP_271fl_p"
      },
      "source": [
        "# 新しいグラフの作成\n",
        "g = [[] for _ in range(N)]\n",
        "for i in range(N):\n",
        "    for j in range(N):\n",
        "        if i == j:\n",
        "            continue\n",
        "        if dist[i][j] <= L:\n",
        "            g[i].append([j, 1])"
      ],
      "execution_count": null,
      "outputs": []
    },
    {
      "cell_type": "code",
      "metadata": {
        "id": "DUVlKo3Pfl8x"
      },
      "source": [
        "dist = warshall_floyd(g)"
      ],
      "execution_count": null,
      "outputs": []
    },
    {
      "cell_type": "code",
      "metadata": {
        "id": "bi6Sj-hHfl6a"
      },
      "source": [
        "Q = int(input())\n",
        "for _ in range(Q):\n",
        "    s, t = map(int, input().split())\n",
        "    s -= 1\n",
        "    t -= 1\n",
        "    print(dist[s][t] - 1 if dist[s][t] != INF else -1)"
      ],
      "execution_count": null,
      "outputs": []
    },
    {
      "cell_type": "markdown",
      "metadata": {
        "id": "MPjj6hSu8u0o"
      },
      "source": [
        "scipyを使うとこんな感じ"
      ]
    },
    {
      "cell_type": "code",
      "metadata": {
        "id": "Wso8ebYp7JWJ"
      },
      "source": [
        "import numpy as np\n",
        "from scipy.sparse import csr_matrix\n",
        "from scipy.sparse.csgraph import floyd_warshall"
      ],
      "execution_count": 11,
      "outputs": []
    },
    {
      "cell_type": "code",
      "metadata": {
        "colab": {
          "base_uri": "https://localhost:8080/"
        },
        "id": "3A8swrax7cwR",
        "outputId": "c9b9533d-17a4-4b7a-9869-77a28509588a"
      },
      "source": [
        "N, M, L = map(int, input().split())\n",
        "graph = [[0] * N for _ in range(N)]\n",
        "for _ in range(M):\n",
        "    a, b, c = map(int, input().split())\n",
        "    a -= 1\n",
        "    b -= 1\n",
        "    graph[a][b] = c\n",
        "    graph[b][a] = c\n",
        "graph = csr_matrix(graph)\n",
        "dist = floyd_warshall(graph)\n",
        "graph = [[0] * N for _ in range(N)]\n",
        "for i in range(N):\n",
        "    for j in range(N):\n",
        "        if dist[i][j] <= L:\n",
        "            graph[i][j] = 1\n",
        "graph = csr_matrix(graph)\n",
        "dist = floyd_warshall(graph)\n",
        "Q = int(input())\n",
        "for _ in range(Q):\n",
        "    s, t = map(int, input().split())\n",
        "    s -= 1\n",
        "    t -= 1\n",
        "    if dist[s][t] == np.inf:\n",
        "        print(-1)\n",
        "    else:\n",
        "        print(dist[s][t] - 1)"
      ],
      "execution_count": 14,
      "outputs": [
        {
          "output_type": "stream",
          "name": "stdout",
          "text": [
            "4 0 1\n",
            "1\n",
            "2 1\n",
            "inf\n"
          ]
        }
      ]
    }
  ]
}