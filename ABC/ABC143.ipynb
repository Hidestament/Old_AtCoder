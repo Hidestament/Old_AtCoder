{
  "nbformat": 4,
  "nbformat_minor": 0,
  "metadata": {
    "colab": {
      "name": "ABC143.ipynb",
      "provenance": [],
      "authorship_tag": "ABX9TyNuP8MoER0w7Q0k4eboz6cX",
      "include_colab_link": true
    },
    "kernelspec": {
      "name": "python3",
      "display_name": "Python 3"
    },
    "language_info": {
      "name": "python"
    }
  },
  "cells": [
    {
      "cell_type": "markdown",
      "metadata": {
        "id": "view-in-github",
        "colab_type": "text"
      },
      "source": [
        "<a href=\"https://colab.research.google.com/github/Hidestament/AtCoder/blob/main/ABC/ABC143.ipynb\" target=\"_parent\"><img src=\"https://colab.research.google.com/assets/colab-badge.svg\" alt=\"Open In Colab\"/></a>"
      ]
    },
    {
      "cell_type": "markdown",
      "metadata": {
        "id": "Fi9VFoVhBzNs"
      },
      "source": [
        "# [ABC143](https://atcoder.jp/contests/abc143)"
      ]
    },
    {
      "cell_type": "markdown",
      "metadata": {
        "id": "nEOrv1BCB3I6"
      },
      "source": [
        "## [A - Curtain](https://atcoder.jp/contests/abc143/tasks/abc143_a)"
      ]
    },
    {
      "cell_type": "code",
      "metadata": {
        "id": "_oTKvEQIBzHy"
      },
      "source": [
        "A, B = map(int, input().split())\n",
        "print(max(0, A - 2*B))"
      ],
      "execution_count": null,
      "outputs": []
    },
    {
      "cell_type": "markdown",
      "metadata": {
        "id": "0fNCHEK8CMFV"
      },
      "source": [
        "## [B - TAKOYAKI FESTIVAL 2019](https://atcoder.jp/contests/abc143/tasks/abc143_b)"
      ]
    },
    {
      "cell_type": "code",
      "metadata": {
        "colab": {
          "base_uri": "https://localhost:8080/"
        },
        "id": "ktgAHvlrBtmm",
        "outputId": "d3a97ca9-17f7-4823-8803-5eac04836a05"
      },
      "source": [
        "from itertools import combinations\n",
        "N = int(input())\n",
        "D = list(map(int, input().split()))"
      ],
      "execution_count": 1,
      "outputs": [
        {
          "output_type": "stream",
          "text": [
            "3\n",
            "3 1 2\n"
          ],
          "name": "stdout"
        }
      ]
    },
    {
      "cell_type": "code",
      "metadata": {
        "id": "fRWTWwVTDN_0"
      },
      "source": [
        "ans = 0\n",
        "for i in combinations(D, 2):\n",
        "  ans += i[0] * i[1]"
      ],
      "execution_count": 4,
      "outputs": []
    },
    {
      "cell_type": "code",
      "metadata": {
        "colab": {
          "base_uri": "https://localhost:8080/"
        },
        "id": "hqb7WWvQDTnh",
        "outputId": "1c9d5ed6-a300-4002-845d-115a7712726b"
      },
      "source": [
        "print(ans)"
      ],
      "execution_count": 5,
      "outputs": [
        {
          "output_type": "execute_result",
          "data": {
            "text/plain": [
              "11"
            ]
          },
          "metadata": {
            "tags": []
          },
          "execution_count": 5
        }
      ]
    },
    {
      "cell_type": "markdown",
      "metadata": {
        "id": "GxSuZhrQDfFj"
      },
      "source": [
        "## [C - Slimes](https://atcoder.jp/contests/abc143/tasks/abc143_c)"
      ]
    },
    {
      "cell_type": "markdown",
      "metadata": {
        "id": "Mt0Ox_e9UxoC"
      },
      "source": [
        "### 解1 : 頑張って数える"
      ]
    },
    {
      "cell_type": "code",
      "metadata": {
        "colab": {
          "base_uri": "https://localhost:8080/"
        },
        "id": "pWXJVpr6Did1",
        "outputId": "41cf5c5e-ec8b-4f74-8f3c-20fd4c8a1da4"
      },
      "source": [
        "N = int(input())\n",
        "S = str(input())"
      ],
      "execution_count": 6,
      "outputs": [
        {
          "output_type": "stream",
          "text": [
            "10\n",
            "aabbbbaaca\n"
          ],
          "name": "stdout"
        }
      ]
    },
    {
      "cell_type": "code",
      "metadata": {
        "colab": {
          "base_uri": "https://localhost:8080/"
        },
        "id": "eNxttMfsEHjk",
        "outputId": "1370a6dd-49a4-48e5-bcb8-06762f5542b5"
      },
      "source": [
        "ans = [S[0]]"
      ],
      "execution_count": 8,
      "outputs": [
        {
          "output_type": "execute_result",
          "data": {
            "text/plain": [
              "['a']"
            ]
          },
          "metadata": {
            "tags": []
          },
          "execution_count": 8
        }
      ]
    },
    {
      "cell_type": "code",
      "metadata": {
        "colab": {
          "base_uri": "https://localhost:8080/"
        },
        "id": "aidOP3hwEUr_",
        "outputId": "03fa90b4-fa35-428e-d57e-c55dea7c25fb"
      },
      "source": [
        "for i in range(1, N):\n",
        "  if S[i] != ans[-1]:\n",
        "    ans.append(S[i])\n",
        "print(len(ans))"
      ],
      "execution_count": 11,
      "outputs": [
        {
          "output_type": "stream",
          "text": [
            "5\n"
          ],
          "name": "stdout"
        }
      ]
    },
    {
      "cell_type": "markdown",
      "metadata": {
        "id": "1ybcw1hkUz-D"
      },
      "source": [
        "### 解2 : groupbyを使う"
      ]
    },
    {
      "cell_type": "markdown",
      "metadata": {
        "id": "kyLlf__kU2BF"
      },
      "source": [
        "itertoolsとか他の色々には, 連続した同じ要素を1つにするgroupbyという関数がある.\n",
        "下のような感じ"
      ]
    },
    {
      "cell_type": "code",
      "metadata": {
        "colab": {
          "base_uri": "https://localhost:8080/"
        },
        "id": "fBuzfk6SVj3G",
        "outputId": "8ad6d82d-e42a-442c-d0c2-d6f54eceb52f"
      },
      "source": [
        "s = \"aabbbbaaca\"\n",
        "group = itertools.groupby(s)\n",
        "for  key, value in group:\n",
        "  print(key, value)"
      ],
      "execution_count": 41,
      "outputs": [
        {
          "output_type": "stream",
          "text": [
            "a <itertools._grouper object at 0x7f842f8fc410>\n",
            "b <itertools._grouper object at 0x7f842f8fc090>\n",
            "a <itertools._grouper object at 0x7f842f8fc410>\n",
            "c <itertools._grouper object at 0x7f842f8fc090>\n",
            "a <itertools._grouper object at 0x7f842f8fc410>\n"
          ],
          "name": "stdout"
        }
      ]
    },
    {
      "cell_type": "markdown",
      "metadata": {
        "id": "lMAqW42vVzH4"
      },
      "source": [
        "これを使うと答えは"
      ]
    },
    {
      "cell_type": "code",
      "metadata": {
        "colab": {
          "base_uri": "https://localhost:8080/"
        },
        "id": "XohPwoN8Vj0I",
        "outputId": "bf342581-466c-4bd1-d9e7-cd47a6e47a3a"
      },
      "source": [
        "from itertools import groupby\n",
        "N = int(input())\n",
        "S = str(input())\n",
        "ans = 0\n",
        "for i in groupby(S):\n",
        "  ans += 1\n",
        "print(ans)"
      ],
      "execution_count": 42,
      "outputs": [
        {
          "output_type": "stream",
          "text": [
            "10\n",
            "aabbbbaaca\n",
            "5\n"
          ],
          "name": "stdout"
        }
      ]
    },
    {
      "cell_type": "markdown",
      "metadata": {
        "id": "_XUptG3KEkY6"
      },
      "source": [
        "## [D - Triangles](https://atcoder.jp/contests/abc143/tasks/abc143_d)"
      ]
    },
    {
      "cell_type": "markdown",
      "metadata": {
        "id": "-VivntmaTh5P"
      },
      "source": [
        "edge1とedge2を固定（2重ループ）して考える. すると, 3番目の辺edge3の満たす条件は\n",
        "- edge3 < edge1 + edge2\n",
        "- edge2 < edge3 + edge1 -> edge2 - edge1 < edge3\n",
        "- edge1 < edge2 + edge3 -> edge1 - edge2 < edge3\n",
        "\n",
        "になる. ここで, Lが最初ソートされているとして, 二分探索を使って条件を満たすIndexを見つける.\n",
        "\n",
        "ここで, 2番目と3番目の条件式は, max(edge2-edge1, edge1-edge2)に対して二分探索を行えば良い.\n",
        "\n",
        "この二分探索を自分で組むとめんどいので, bisectを使う"
      ]
    },
    {
      "cell_type": "code",
      "metadata": {
        "colab": {
          "base_uri": "https://localhost:8080/"
        },
        "id": "geP9082BEcph",
        "outputId": "8f5759c8-d18b-4e9b-aa25-f8c1f42d08ce"
      },
      "source": [
        "N = int(input())\n",
        "L = sorted(list(map(int, input().split())))"
      ],
      "execution_count": 32,
      "outputs": [
        {
          "output_type": "stream",
          "text": [
            "7\n",
            "218 786 704 233 645 728 389\n"
          ],
          "name": "stdout"
        }
      ]
    },
    {
      "cell_type": "code",
      "metadata": {
        "id": "OjjukxwZHUoD"
      },
      "source": [
        "import bisect\n",
        "ans = 0\n",
        "for i in range(N-2):\n",
        "  edge1 = L[i]\n",
        "  for j in range(i+1, N-1):\n",
        "    edge2 = L[j]\n",
        "    left = bisect.bisect_left(L, edge1+edge2, lo=j+1)\n",
        "    k = max(edge2-edge1, edge1-edge2)\n",
        "    right = bisect.bisect_left(L, k, lo=j+1)\n",
        "    ans += (left - right)\n",
        "print(ans)"
      ],
      "execution_count": 35,
      "outputs": []
    }
  ]
}