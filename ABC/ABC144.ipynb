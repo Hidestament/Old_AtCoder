{
  "nbformat": 4,
  "nbformat_minor": 0,
  "metadata": {
    "colab": {
      "name": "ABC144.ipynb",
      "provenance": [],
      "authorship_tag": "ABX9TyPoZm7jm100Srn0/UbxKAbt",
      "include_colab_link": true
    },
    "kernelspec": {
      "name": "python3",
      "display_name": "Python 3"
    },
    "language_info": {
      "name": "python"
    }
  },
  "cells": [
    {
      "cell_type": "markdown",
      "metadata": {
        "id": "view-in-github",
        "colab_type": "text"
      },
      "source": [
        "<a href=\"https://colab.research.google.com/github/Hidestament/AtCoder/blob/main/ABC/ABC144.ipynb\" target=\"_parent\"><img src=\"https://colab.research.google.com/assets/colab-badge.svg\" alt=\"Open In Colab\"/></a>"
      ]
    },
    {
      "cell_type": "markdown",
      "metadata": {
        "id": "mHJp_R9Sw1aM"
      },
      "source": [
        "# [ABC144](https://atcoder.jp/contests/abc144)"
      ]
    },
    {
      "cell_type": "markdown",
      "metadata": {
        "id": "JQYKsg-Kw4ed"
      },
      "source": [
        "## [A - 9×9](https://atcoder.jp/contests/abc144/tasks/abc144_a)"
      ]
    },
    {
      "cell_type": "code",
      "metadata": {
        "id": "_kitGvdowztt"
      },
      "source": [
        "A, B = map(int, input().split())\n",
        "if A <= 9 and B <= 9:\n",
        "  print(A*B)\n",
        "else:\n",
        "  print(-1)"
      ],
      "execution_count": null,
      "outputs": []
    },
    {
      "cell_type": "markdown",
      "metadata": {
        "id": "syrihAmvxPZs"
      },
      "source": [
        "## [B - 81](https://atcoder.jp/contests/abc144/tasks/abc144_b)"
      ]
    },
    {
      "cell_type": "code",
      "metadata": {
        "id": "jjLiw5CNxPUW"
      },
      "source": [
        "N = int(input())"
      ],
      "execution_count": null,
      "outputs": []
    },
    {
      "cell_type": "code",
      "metadata": {
        "id": "c7V3MrQlxeNZ"
      },
      "source": [
        "ans = False\n",
        "for i in range(1, 10):\n",
        "  for j in range(1, 10):\n",
        "    if i * j == N:\n",
        "      ans = True\n",
        "print(\"Yes\" if ans else \"No\")"
      ],
      "execution_count": null,
      "outputs": []
    },
    {
      "cell_type": "markdown",
      "metadata": {
        "id": "TXt0LzqBxurj"
      },
      "source": [
        "## [C - Walk on Multiplication Table](https://atcoder.jp/contests/abc144/tasks/abc144_c)"
      ]
    },
    {
      "cell_type": "markdown",
      "metadata": {
        "id": "3FcqpjSScP0K"
      },
      "source": [
        "$x * y = N$となる$(x,y)$は, $x$を$1$ ～ $\\sqrt(N)$まで探索すれば十分である（素数の判定のときと同じ様な考え方）.\n",
        "\n",
        "ここで, $N \\leq 10^{12}$なので, $1 \\leq x \\leq 10^6$と$x$を全探索して間に合う."
      ]
    },
    {
      "cell_type": "markdown",
      "metadata": {
        "id": "wRJapRToyJjD"
      },
      "source": [
        "ちなみに, この距離はマンハッタン距離と呼ばれるやつ."
      ]
    },
    {
      "cell_type": "code",
      "metadata": {
        "id": "VEeHFRWCBsFD"
      },
      "source": [
        "import math\n",
        "N = int(input())\n",
        "ans = 10**16\n",
        "for x in range(1, int(math.sqrt(N)) + 1):\n",
        "  y = N // x\n",
        "  # 両方が整数になるときのみ考える\n",
        "  if x * y == N:\n",
        "    if x + y - 2 <= ans:\n",
        "      ans = x + y - 2\n",
        "print(ans)"
      ],
      "execution_count": null,
      "outputs": []
    },
    {
      "cell_type": "markdown",
      "metadata": {
        "id": "0gltQTOb1R3_"
      },
      "source": [
        "## [D - Water Bottle](https://atcoder.jp/contests/abc144/tasks/abc144_d)"
      ]
    },
    {
      "cell_type": "markdown",
      "metadata": {
        "id": "WV-Bx0MJhZBr"
      },
      "source": [
        "解説はノートにある. 幾何の問題. 表面積を元にして, 角度とかを考えていけばとける."
      ]
    },
    {
      "cell_type": "markdown",
      "metadata": {
        "id": "4XDUa5GHANym"
      },
      "source": [
        "場合分けが必要"
      ]
    },
    {
      "cell_type": "code",
      "metadata": {
        "id": "QdsjbQlJAOR5"
      },
      "source": [
        "import math\n",
        "a, b, x = map(int, input().split())\n",
        "S = x / a\n",
        "\n",
        "l = 2 * b - (2 * S / a)\n",
        "\n",
        "h = (2 * S / a) - b\n",
        "if h > 0:\n",
        "  ans = math.degrees(math.atan((b - h)/a))\n",
        "  print(ans)\n",
        "else:\n",
        "  l = 2 * S / b\n",
        "  ans = math.degrees(math.atan(b / l))\n",
        "  print(ans)"
      ],
      "execution_count": null,
      "outputs": []
    }
  ]
}