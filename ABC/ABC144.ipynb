{
  "nbformat": 4,
  "nbformat_minor": 0,
  "metadata": {
    "colab": {
      "name": "ABC144.ipynb",
      "provenance": [],
      "collapsed_sections": [],
      "authorship_tag": "ABX9TyOIZeVaqgn9+waM/SAVJ3r8",
      "include_colab_link": true
    },
    "kernelspec": {
      "name": "python3",
      "display_name": "Python 3"
    },
    "language_info": {
      "name": "python"
    }
  },
  "cells": [
    {
      "cell_type": "markdown",
      "metadata": {
        "id": "view-in-github",
        "colab_type": "text"
      },
      "source": [
        "<a href=\"https://colab.research.google.com/github/Hidestament/AtCoder/blob/main/ABC/ABC144.ipynb\" target=\"_parent\"><img src=\"https://colab.research.google.com/assets/colab-badge.svg\" alt=\"Open In Colab\"/></a>"
      ]
    },
    {
      "cell_type": "markdown",
      "metadata": {
        "id": "E8hcSe0nbU0M"
      },
      "source": [
        "# [AtCoder Beginner Contest 144](https://atcoder.jp/contests/abc144)"
      ]
    },
    {
      "cell_type": "markdown",
      "metadata": {
        "id": "sLRrdDr4bXQp"
      },
      "source": [
        "## [A - 9x9](https://atcoder.jp/contests/abc144/tasks/abc144_a)"
      ]
    },
    {
      "cell_type": "code",
      "metadata": {
        "id": "P_7GEwBSbTSA"
      },
      "source": [
        "A, B = map(int, input().split())\n",
        "if 1 <= A <= 9 and 1 <= B <= 9:\n",
        "    print(A * B)\n",
        "else:\n",
        "    print(-1)"
      ],
      "execution_count": null,
      "outputs": []
    },
    {
      "cell_type": "markdown",
      "metadata": {
        "id": "-YgJa4NYbkQ6"
      },
      "source": [
        "## [B - 81](https://atcoder.jp/contests/abc144/tasks/abc144_b)"
      ]
    },
    {
      "cell_type": "code",
      "metadata": {
        "id": "3xUQqD-MbmT4"
      },
      "source": [
        "N = int(input())\n",
        "for i in range(1, 10):\n",
        "    for j in range(1, 10):\n",
        "        if i * j == N:\n",
        "            print(\"Yes\")\n",
        "            exit()\n",
        "print(\"No\")"
      ],
      "execution_count": null,
      "outputs": []
    },
    {
      "cell_type": "markdown",
      "metadata": {
        "id": "fdTDE1UsbyBo"
      },
      "source": [
        "## [C - Walk on Multiplication Table](https://atcoder.jp/contests/abc144/tasks/abc144_c)"
      ]
    },
    {
      "cell_type": "markdown",
      "metadata": {
        "id": "dRrohJkbduOi"
      },
      "source": [
        "$N = i * j$ と表せたとする. このとき, 移動には1回で1マスしか動けないので, $i + j - 2$の移動で目標のマスに到達できる.\n",
        "\n",
        "よって, $N=i*j$と表せる中で, $i + j$が最小のものを見つければ良い.\n",
        "\n",
        "これは, $\\sqrt{N}$まで$i$を全探索して, それに対応する$j$を見つければ良い."
      ]
    },
    {
      "cell_type": "code",
      "metadata": {
        "id": "DgmUzrELb0m6",
        "colab": {
          "base_uri": "https://localhost:8080/"
        },
        "outputId": "fa395b55-536a-4a8d-f3fd-9ef3ad25c7fb"
      },
      "source": [
        "from math import sqrt\n",
        "N = int(input())\n",
        "sq = int(sqrt(N)) + 1\n",
        "\n",
        "ans = 10**20\n",
        "for i in range(1, sq + 1):\n",
        "    j = N // i\n",
        "    if i * j == N:\n",
        "        if i + j <= ans:\n",
        "            ans = i + j\n",
        "print(ans - 2)"
      ],
      "execution_count": null,
      "outputs": [
        {
          "name": "stdout",
          "output_type": "stream",
          "text": [
            "10000000019\n"
          ]
        }
      ]
    },
    {
      "cell_type": "markdown",
      "metadata": {
        "id": "lS4V1siOcA6g"
      },
      "source": [
        "## [D - Water Bottle](https://atcoder.jp/contests/abc144/tasks/abc144_d)"
      ]
    },
    {
      "cell_type": "code",
      "metadata": {
        "colab": {
          "base_uri": "https://localhost:8080/"
        },
        "id": "fz3Y1tMFcDAa",
        "outputId": "566be096-6cda-4725-f018-df9a7275784e"
      },
      "source": [
        "import math\n",
        "a, b, x = map(int, input().split())\n",
        "x /= a"
      ],
      "execution_count": null,
      "outputs": [
        {
          "name": "stdout",
          "output_type": "stream",
          "text": [
            "3 1 8\n"
          ]
        }
      ]
    },
    {
      "cell_type": "code",
      "source": [
        "c = 2 * x / b\n",
        "if c > a:\n",
        "    ans = math.degrees(math.atan((2*a*b - 2*x) / (a*a)))\n",
        "else:\n",
        "    ans = math.degrees(math.atan((b**2) / (2 * x)))\n",
        "\n",
        "print(ans)"
      ],
      "metadata": {
        "colab": {
          "base_uri": "https://localhost:8080/"
        },
        "id": "a2I0X9jmxnc_",
        "outputId": "b7eecd74-b7bf-4992-85c6-f0ac15525ee9"
      },
      "execution_count": null,
      "outputs": [
        {
          "output_type": "stream",
          "name": "stdout",
          "text": [
            "4.236394799058843\n"
          ]
        }
      ]
    },
    {
      "cell_type": "markdown",
      "source": [
        "## [E - Gluttony](https://atcoder.jp/contests/abc144/tasks/abc144_e)"
      ],
      "metadata": {
        "id": "ddrsI9j9kM0u"
      }
    },
    {
      "cell_type": "code",
      "source": [
        "N, K = map(int, input().split())\n",
        "A = list(map(int, input().split()))\n",
        "F = list(map(int, input().split()))"
      ],
      "metadata": {
        "id": "rgXUhRT_kPWc",
        "colab": {
          "base_uri": "https://localhost:8080/"
        },
        "outputId": "ea852305-fa87-4b2e-b763-4e532e5235d1"
      },
      "execution_count": null,
      "outputs": [
        {
          "name": "stdout",
          "output_type": "stream",
          "text": [
            "3 5\n",
            "4 2 1\n",
            "2 3 1\n"
          ]
        }
      ]
    },
    {
      "cell_type": "code",
      "source": [
        "A.sort()\n",
        "F.sort(reverse=True)"
      ],
      "metadata": {
        "id": "KOw0eosx2LUf"
      },
      "execution_count": null,
      "outputs": []
    },
    {
      "cell_type": "code",
      "source": [
        "def check(k):\n",
        "    cnt = 0\n",
        "    for i in range(N):\n",
        "        if A[i] * F[i] <= k: continue\n",
        "        temp = A[i] - int(k/F[i])\n",
        "        cnt += temp\n",
        "    return True if cnt <= K else False"
      ],
      "metadata": {
        "id": "K0DjbMOd2t8q"
      },
      "execution_count": null,
      "outputs": []
    },
    {
      "cell_type": "code",
      "source": [
        "l, r = 0, 10**15\n",
        "while (r - l) > 1:\n",
        "    mid = (l + r) // 2\n",
        "    if check(mid):\n",
        "        r = mid\n",
        "    else:\n",
        "        l = mid"
      ],
      "metadata": {
        "colab": {
          "base_uri": "https://localhost:8080/"
        },
        "id": "YG7wXIoe2T2Y",
        "outputId": "2c0f870f-708d-4062-8275-c47cba13aa11"
      },
      "execution_count": null,
      "outputs": [
        {
          "output_type": "stream",
          "name": "stdout",
          "text": [
            "2\n"
          ]
        }
      ]
    },
    {
      "cell_type": "code",
      "source": [
        "# 0が答えになることもあるので一応check(l)をしておく\n",
        "if check(l): print(l)\n",
        "else: print(r)"
      ],
      "metadata": {
        "id": "g_TDmbfv31lu"
      },
      "execution_count": null,
      "outputs": []
    }
  ]
}