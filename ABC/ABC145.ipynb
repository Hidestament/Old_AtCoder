{
  "nbformat": 4,
  "nbformat_minor": 0,
  "metadata": {
    "colab": {
      "name": "ABC145.ipynb",
      "provenance": [],
      "collapsed_sections": [],
      "authorship_tag": "ABX9TyMdZzhYFDNumcgfnx6Ggo12",
      "include_colab_link": true
    },
    "kernelspec": {
      "name": "python3",
      "display_name": "Python 3"
    },
    "language_info": {
      "name": "python"
    }
  },
  "cells": [
    {
      "cell_type": "markdown",
      "metadata": {
        "id": "view-in-github",
        "colab_type": "text"
      },
      "source": [
        "<a href=\"https://colab.research.google.com/github/Hidestament/AtCoder/blob/main/ABC/ABC145.ipynb\" target=\"_parent\"><img src=\"https://colab.research.google.com/assets/colab-badge.svg\" alt=\"Open In Colab\"/></a>"
      ]
    },
    {
      "cell_type": "markdown",
      "metadata": {
        "id": "Io-XiDLnMFQS"
      },
      "source": [
        "# [AtCoder Beginner Contest 145](https://atcoder.jp/contests/abc145)"
      ]
    },
    {
      "cell_type": "markdown",
      "metadata": {
        "id": "UQk4dCAbMHgB"
      },
      "source": [
        "## [A - Circle](https://atcoder.jp/contests/abc145/tasks/abc145_a)"
      ]
    },
    {
      "cell_type": "code",
      "metadata": {
        "id": "LOy83PXMMEPS"
      },
      "source": [
        "r = int(input())\n",
        "print(r**2)"
      ],
      "execution_count": null,
      "outputs": []
    },
    {
      "cell_type": "markdown",
      "metadata": {
        "id": "XHardxkZMQC_"
      },
      "source": [
        "## [B - Echo](https://atcoder.jp/contests/abc145/tasks/abc145_b)"
      ]
    },
    {
      "cell_type": "code",
      "metadata": {
        "colab": {
          "base_uri": "https://localhost:8080/"
        },
        "id": "dwCCSS0PMTEw",
        "outputId": "100784cb-7435-4bef-bb3b-60af336d6abb"
      },
      "source": [
        "N = int(input())\n",
        "S = str(input())"
      ],
      "execution_count": null,
      "outputs": [
        {
          "name": "stdout",
          "output_type": "stream",
          "text": [
            "6\n",
            "abcabc\n"
          ]
        }
      ]
    },
    {
      "cell_type": "code",
      "metadata": {
        "colab": {
          "base_uri": "https://localhost:8080/"
        },
        "id": "5erg0AOUMWXA",
        "outputId": "d62a1111-55c6-4a5c-a672-2f3f8ba68865"
      },
      "source": [
        "if S[:N//2] == S[N//2:]:\n",
        "    print(\"Yes\")\n",
        "else:\n",
        "    print(\"No\")"
      ],
      "execution_count": null,
      "outputs": [
        {
          "output_type": "stream",
          "name": "stdout",
          "text": [
            "Yes\n"
          ]
        }
      ]
    },
    {
      "cell_type": "markdown",
      "metadata": {
        "id": "p28lP2JpMt28"
      },
      "source": [
        "## [C - Average Length](https://atcoder.jp/contests/abc145/tasks/abc145_c)"
      ]
    },
    {
      "cell_type": "code",
      "metadata": {
        "colab": {
          "base_uri": "https://localhost:8080/"
        },
        "id": "A7eB25BAMlyd",
        "outputId": "0a6f3c29-4d8e-49a3-a943-77cdeebfc364"
      },
      "source": [
        "from itertools import permutations\n",
        "from math import sqrt\n",
        "N = int(input())\n",
        "points = [list(map(int, input().split())) for _ in range(N)]"
      ],
      "execution_count": null,
      "outputs": [
        {
          "name": "stdout",
          "output_type": "stream",
          "text": [
            "3\n",
            "0 0\n",
            "1 0\n",
            "0 1\n"
          ]
        }
      ]
    },
    {
      "cell_type": "code",
      "metadata": {
        "id": "Nsr3nGTeNwgi"
      },
      "source": [
        "def dist(p1, p2):\n",
        "    return sqrt((p1[0] - p2[0]) ** 2 + (p1[1] - p2[1]) ** 2)"
      ],
      "execution_count": null,
      "outputs": []
    },
    {
      "cell_type": "code",
      "metadata": {
        "colab": {
          "base_uri": "https://localhost:8080/"
        },
        "id": "NL6wIlLyM6JB",
        "outputId": "a1350fd7-9a79-481d-8216-7613ccbceea8"
      },
      "source": [
        "all_length = 0\n",
        "for per in permutations(range(N)):\n",
        "    now_length = 0\n",
        "    for i in range(1, N):\n",
        "        p1 = points[per[i-1]]\n",
        "        p2 = points[per[i]]\n",
        "        now_length += dist(p1, p2)\n",
        "    all_length += now_length"
      ],
      "execution_count": null,
      "outputs": [
        {
          "output_type": "stream",
          "name": "stdout",
          "text": [
            "[0, 0] [1, 0]\n",
            "[1, 0] [0, 1]\n",
            "[0, 0] [0, 1]\n",
            "[0, 1] [1, 0]\n",
            "[1, 0] [0, 0]\n",
            "[0, 0] [0, 1]\n",
            "[1, 0] [0, 1]\n",
            "[0, 1] [0, 0]\n",
            "[0, 1] [0, 0]\n",
            "[0, 0] [1, 0]\n",
            "[0, 1] [1, 0]\n",
            "[1, 0] [0, 0]\n"
          ]
        }
      ]
    },
    {
      "cell_type": "code",
      "metadata": {
        "colab": {
          "base_uri": "https://localhost:8080/"
        },
        "id": "ZEgSJ-1SM9hc",
        "outputId": "930a2ec4-bad0-4cde-f2cb-0bbd450456ee"
      },
      "source": [
        "pattern = 1\n",
        "for i in range(1, N+1):\n",
        "    pattern *= i\n",
        "print(all_length / pattern)"
      ],
      "execution_count": null,
      "outputs": [
        {
          "output_type": "stream",
          "name": "stdout",
          "text": [
            "2.2761423749153966\n"
          ]
        }
      ]
    },
    {
      "cell_type": "markdown",
      "metadata": {
        "id": "e1DAQy1fOcdw"
      },
      "source": [
        "## [D - Knight](https://atcoder.jp/contests/abc145/tasks/abc145_d)"
      ]
    },
    {
      "cell_type": "code",
      "metadata": {
        "colab": {
          "base_uri": "https://localhost:8080/"
        },
        "id": "90aWyMz7OQ_Q",
        "outputId": "990de8e3-9573-40c9-cd29-2861257539da"
      },
      "source": [
        "X, Y = map(int, input().split())"
      ],
      "execution_count": null,
      "outputs": [
        {
          "name": "stdout",
          "output_type": "stream",
          "text": [
            "999999 999999\n"
          ]
        }
      ]
    },
    {
      "cell_type": "code",
      "metadata": {
        "id": "L5ET2M3hSgmv"
      },
      "source": [
        "mod = 10**9 + 7\n",
        "N = 10**7\n",
        "\n",
        "fact = [1] * (N+1) # fact[i] = i! % mod\n",
        "inv = [1] * (N+1) # inv[i] = i^-1 % mod, factinvの計算用\n",
        "inv[0] = 0\n",
        "factinv = [1] * (N+1) # factinv[i] = (i!)^-1 % mod\n",
        "\n",
        "for i in range(2, N+1):\n",
        "    fact[i] = (fact[i-1] * i) % mod\n",
        "    inv[i] = (-inv[mod % i] * (mod // i)) % mod\n",
        "    factinv[i] = (factinv[i-1] * inv[i]) % mod\n",
        "\n",
        "def cmb_mod(n, r):\n",
        "    if (r < 0) or (n < r):\n",
        "        return 0\n",
        "    r = min(r, n-r)\n",
        "    return fact[n] * factinv[r] * factinv[n-r] % mod"
      ],
      "execution_count": null,
      "outputs": []
    },
    {
      "cell_type": "code",
      "metadata": {
        "id": "t2Sn5050RgEx"
      },
      "source": [
        "if (X + Y) % 3 != 0:\n",
        "    print(0)\n",
        "    exit()"
      ],
      "execution_count": null,
      "outputs": []
    },
    {
      "cell_type": "code",
      "metadata": {
        "colab": {
          "base_uri": "https://localhost:8080/"
        },
        "id": "NdMmSfJmRUux",
        "outputId": "0a1e6998-05e8-4e26-eec7-ecf36a6a4aff"
      },
      "source": [
        "n = (X+Y)//3\n",
        "print(cmb_mod(n, Y-n))"
      ],
      "execution_count": null,
      "outputs": [
        {
          "output_type": "stream",
          "name": "stdout",
          "text": [
            "151840682\n"
          ]
        }
      ]
    },
    {
      "cell_type": "markdown",
      "metadata": {
        "id": "QdQVo2iDS_sm"
      },
      "source": [
        "## [E - All-you-can-eat](https://atcoder.jp/contests/abc145/tasks/abc145_e)"
      ]
    },
    {
      "cell_type": "markdown",
      "source": [
        "### 両端からDP"
      ],
      "metadata": {
        "id": "859Kk8IOIsdE"
      }
    },
    {
      "cell_type": "code",
      "metadata": {
        "id": "JdUhPKZ6Ss1F",
        "colab": {
          "base_uri": "https://localhost:8080/"
        },
        "outputId": "728bf21a-bfb2-4c80-9472-5846debc03ec"
      },
      "source": [
        "N, T = map(int, input().split())\n",
        "foods = []\n",
        "for _ in range(N):\n",
        "    A, B = map(int, input().split())\n",
        "    foods.append([A, B])"
      ],
      "execution_count": 6,
      "outputs": [
        {
          "name": "stdout",
          "output_type": "stream",
          "text": [
            "10 100\n",
            "15 23\n",
            "20 18\n",
            "13 17\n",
            "24 12\n",
            "18 29\n",
            "19 27\n",
            "23 21\n",
            "18 20\n",
            "27 15\n",
            "22 25\n"
          ]
        }
      ]
    },
    {
      "cell_type": "code",
      "metadata": {
        "id": "OjG0I4xFE2QF"
      },
      "source": [
        "# DP1[i][t]: i番目より小さいfoodsの中から, 時間がtとなるなるようなモノの美味しさの最大値\n",
        "DP1 = [[0] * T for _ in range(N+1)]\n",
        "\n",
        "# DP2[i][t]: i番目より大きいfoodsの中から, 時間がtとなるなるようなモノの美味しさの最大値\n",
        "DP2 = [[0] * T for _ in range(N+1)]"
      ],
      "execution_count": 17,
      "outputs": []
    },
    {
      "cell_type": "code",
      "source": [
        "# DP1\n",
        "for i in range(1, N+1):\n",
        "    ai, bi = foods[i-1]\n",
        "    for t in range(T):\n",
        "        # food i-1 を食べるとき\n",
        "        if t - ai >= 0:\n",
        "            DP1[i][t] = max(DP1[i][t], DP1[i - 1][t - ai] + bi)\n",
        "        # food i-1 を食べないとき\n",
        "        DP1[i][t] = max(DP1[i][t], DP1[i-1][t])"
      ],
      "metadata": {
        "id": "tViwpKIfWE4C"
      },
      "execution_count": 18,
      "outputs": []
    },
    {
      "cell_type": "code",
      "source": [
        "# DP2\n",
        "rfoods = foods[::-1]\n",
        "for i in range(1, N+1):\n",
        "    ai, bi = rfoods[i-1]\n",
        "    for t in range(T):\n",
        "        # food i-1 を食べるとき\n",
        "        if t - ai >= 0:\n",
        "            DP2[i][t] = max(DP2[i][t], DP2[i - 1][t - ai] + bi)\n",
        "        # food i-1 を食べないとき\n",
        "        DP2[i][t] = max(DP2[i][t], DP2[i-1][t])"
      ],
      "metadata": {
        "id": "o8u3W55hWEzR"
      },
      "execution_count": 19,
      "outputs": []
    },
    {
      "cell_type": "code",
      "source": [
        "ans = 0\n",
        "for i in range(N):\n",
        "    ai, bi = foods[i]\n",
        "    for t in range(T):\n",
        "        ans = max(ans, bi + DP1[i][t] + DP2[N-i-1][T-1-t])\n",
        "print(ans)"
      ],
      "metadata": {
        "colab": {
          "base_uri": "https://localhost:8080/"
        },
        "id": "CZKp6qUcXJio",
        "outputId": "38097633-349b-41d7-91cc-9e08e5516aa3"
      },
      "execution_count": 20,
      "outputs": [
        {
          "output_type": "stream",
          "name": "stdout",
          "text": [
            "145\n"
          ]
        }
      ]
    },
    {
      "cell_type": "markdown",
      "source": [
        "### ソートしてDP"
      ],
      "metadata": {
        "id": "D6UdQRHeIvWX"
      }
    },
    {
      "cell_type": "code",
      "metadata": {
        "id": "oR_my5cuTaUH"
      },
      "source": [
        "N, T = map(int, input().split())\n",
        "foods = []\n",
        "for _ in range(N):\n",
        "    A, B = map(int, input().split())\n",
        "    foods.append([A, B])\n",
        "foods.sort()"
      ],
      "execution_count": null,
      "outputs": []
    },
    {
      "cell_type": "code",
      "source": [
        "# DP1[i][t]: i番目より小さいfoodsの中から, 時間がtとなるなるようなモノの美味しさの最大値\n",
        "DP1 = [[0] * T for _ in range(N+1)]"
      ],
      "metadata": {
        "id": "K4ceRAmhI1-f"
      },
      "execution_count": null,
      "outputs": []
    },
    {
      "cell_type": "code",
      "source": [
        "# DP1\n",
        "for i in range(1, N+1):\n",
        "    ai, bi = foods[i-1]\n",
        "    for t in range(T):\n",
        "        # food i-1 を食べるとき\n",
        "        if t - ai >= 0:\n",
        "            DP1[i][t] = max(DP1[i][t], DP1[i - 1][t - ai] + bi)\n",
        "        # food i-1 を食べないとき\n",
        "        DP1[i][t] = max(DP1[i][t], DP1[i-1][t])"
      ],
      "metadata": {
        "id": "yNn2tsuVI17u"
      },
      "execution_count": null,
      "outputs": []
    },
    {
      "cell_type": "code",
      "source": [
        "ans = 0\n",
        "for i in range(N):\n",
        "    ai, bi = foods[i]\n",
        "    ans = max(ans, bi + DP1[i][T - 1])\n",
        "print(ans)"
      ],
      "metadata": {
        "colab": {
          "base_uri": "https://localhost:8080/"
        },
        "id": "JfcusPTaJLgS",
        "outputId": "63ec91a4-e14a-4295-9d82-03e6c8a87ddd"
      },
      "execution_count": 21,
      "outputs": [
        {
          "output_type": "stream",
          "name": "stdout",
          "text": [
            "145\n"
          ]
        }
      ]
    },
    {
      "cell_type": "code",
      "source": [
        ""
      ],
      "metadata": {
        "id": "oev89PJaKDhZ"
      },
      "execution_count": null,
      "outputs": []
    }
  ]
}