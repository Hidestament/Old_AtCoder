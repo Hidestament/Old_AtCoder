{
  "nbformat": 4,
  "nbformat_minor": 0,
  "metadata": {
    "colab": {
      "name": "ABC146.ipynb",
      "provenance": [],
      "authorship_tag": "ABX9TyM/BMsoz+90XecoGzq6elye",
      "include_colab_link": true
    },
    "kernelspec": {
      "name": "python3",
      "display_name": "Python 3"
    },
    "language_info": {
      "name": "python"
    }
  },
  "cells": [
    {
      "cell_type": "markdown",
      "metadata": {
        "id": "view-in-github",
        "colab_type": "text"
      },
      "source": [
        "<a href=\"https://colab.research.google.com/github/Hidestament/AtCoder/blob/main/ABC/ABC146.ipynb\" target=\"_parent\"><img src=\"https://colab.research.google.com/assets/colab-badge.svg\" alt=\"Open In Colab\"/></a>"
      ]
    },
    {
      "cell_type": "markdown",
      "metadata": {
        "id": "-C6BoN36oWMy"
      },
      "source": [
        "# [AtCoder Beginner Contest 146](https://atcoder.jp/contests/abc146)"
      ]
    },
    {
      "cell_type": "markdown",
      "metadata": {
        "id": "G1wPQpe3oY2F"
      },
      "source": [
        "## [A - Can't Wait for Holiday](https://atcoder.jp/contests/abc146/tasks/abc146_a)"
      ]
    },
    {
      "cell_type": "code",
      "metadata": {
        "id": "VvrC5dLPoP55"
      },
      "source": [
        "S = str(input())\n",
        "next = {\"SAT\":1, \"FRI\":2, \"THU\":3, \"WED\":4, \"TUE\":5, \"MON\":6, \"SUN\":7}\n",
        "print(next[S])"
      ],
      "execution_count": null,
      "outputs": []
    },
    {
      "cell_type": "markdown",
      "metadata": {
        "id": "ErB-Jirvot5W"
      },
      "source": [
        "## [B - ROT N](https://atcoder.jp/contests/abc146/tasks/abc146_b)"
      ]
    },
    {
      "cell_type": "code",
      "metadata": {
        "colab": {
          "base_uri": "https://localhost:8080/"
        },
        "id": "YZeNjzfJoxX1",
        "outputId": "6ba9032d-4ae8-40c0-ca56-50263deffee3"
      },
      "source": [
        "N = int(input())\n",
        "S = str(input())"
      ],
      "execution_count": null,
      "outputs": [
        {
          "name": "stdout",
          "output_type": "stream",
          "text": [
            "0\n",
            "ABCXYZ\n"
          ]
        }
      ]
    },
    {
      "cell_type": "code",
      "metadata": {
        "colab": {
          "base_uri": "https://localhost:8080/"
        },
        "id": "_-021XJOpELA",
        "outputId": "de3020e8-d0af-4e21-b1b5-a1f205239a5c"
      },
      "source": [
        "ans = \"\"\n",
        "for s in S:\n",
        "    num = ord(s) - 65\n",
        "    next = (num + N) % 26\n",
        "    ans += chr(next + 65)\n",
        "print(ans)"
      ],
      "execution_count": null,
      "outputs": [
        {
          "output_type": "stream",
          "name": "stdout",
          "text": [
            "ABCXYZ\n"
          ]
        }
      ]
    },
    {
      "cell_type": "markdown",
      "metadata": {
        "id": "HCw9Z6TUqwLn"
      },
      "source": [
        "## [C - Buy an Integer](https://atcoder.jp/contests/abc146/tasks/abc146_c)"
      ]
    },
    {
      "cell_type": "code",
      "metadata": {
        "colab": {
          "base_uri": "https://localhost:8080/"
        },
        "id": "a_taDtq7qQsw",
        "outputId": "88d5d8b1-ae82-4f39-a5a8-d3b9978eba8b"
      },
      "source": [
        "A, B, X = map(int, input().split())"
      ],
      "execution_count": null,
      "outputs": [
        {
          "name": "stdout",
          "output_type": "stream",
          "text": [
            "2 1 100000000000\n"
          ]
        }
      ]
    },
    {
      "cell_type": "code",
      "metadata": {
        "id": "dDnuyF7TrgAo"
      },
      "source": [
        "def cal_int(n):\n",
        "    v = A * n\n",
        "    v += B * len(str(n))\n",
        "    return v"
      ],
      "execution_count": null,
      "outputs": []
    },
    {
      "cell_type": "code",
      "metadata": {
        "colab": {
          "base_uri": "https://localhost:8080/"
        },
        "id": "KZIUAF1hrNd7",
        "outputId": "8818aec3-5b72-408d-a606-81dac9a716f7"
      },
      "source": [
        "l, r = 0, 10**9 + 1\n",
        "while r - l > 1:\n",
        "    mid = (l + r) // 2\n",
        "    if cal_int(mid) <= X:\n",
        "        l = mid\n",
        "    else:\n",
        "        r = mid\n",
        "print(l)"
      ],
      "execution_count": null,
      "outputs": [
        {
          "output_type": "stream",
          "name": "stdout",
          "text": [
            "1000000000\n"
          ]
        }
      ]
    },
    {
      "cell_type": "markdown",
      "metadata": {
        "id": "KF-F6q_LsAJS"
      },
      "source": [
        "## [D - Coloring Edges on Tree](https://atcoder.jp/contests/abc146/tasks/abc146_d)"
      ]
    },
    {
      "cell_type": "markdown",
      "metadata": {
        "id": "pSvvB0v_6ahQ"
      },
      "source": [
        "BFSでやると"
      ]
    },
    {
      "cell_type": "code",
      "metadata": {
        "colab": {
          "base_uri": "https://localhost:8080/"
        },
        "id": "jImc3AVjrXbf",
        "outputId": "beebff5c-7f75-408b-f371-3168cda120ef"
      },
      "source": [
        "N = int(input())\n",
        "graph = [[] for _ in range(N)]\n",
        "edges = []\n",
        "for _ in range(N-1):\n",
        "    a, b = map(int, input().split())\n",
        "    a -= 1\n",
        "    b -= 1\n",
        "    graph[a].append(b)\n",
        "    graph[b].append(a)\n",
        "    edges.append([a, b])"
      ],
      "execution_count": 9,
      "outputs": [
        {
          "name": "stdout",
          "output_type": "stream",
          "text": [
            "3\n",
            "1 2\n",
            "2 3\n"
          ]
        }
      ]
    },
    {
      "cell_type": "code",
      "metadata": {
        "id": "MKHRstgsrIja"
      },
      "source": [
        "from collections import deque\n",
        "def bfs(s):\n",
        "    colors = {}\n",
        "    c = 0\n",
        "    flag = [-1] * N\n",
        "    dq = deque()\n",
        "    dq.append([c, s])\n",
        "    flag[s] = 1\n",
        "    while dq:\n",
        "        c, now = dq.popleft()\n",
        "        now_c = 1\n",
        "        for to in graph[now]:\n",
        "            if flag[to] != -1: continue\n",
        "            if now_c == c:\n",
        "                now_c += 1\n",
        "            colors[now, to] = now_c\n",
        "            dq.append([now_c, to])\n",
        "            now_c += 1\n",
        "            flag[to] = 1\n",
        "    return colors"
      ],
      "execution_count": 26,
      "outputs": []
    },
    {
      "cell_type": "code",
      "metadata": {
        "colab": {
          "base_uri": "https://localhost:8080/"
        },
        "id": "STRrkoRusrAO",
        "outputId": "8196a574-60f1-41f2-c7f7-3f60a3def9b5"
      },
      "source": [
        "c = bfs(0)\n",
        "print(max(v for k, v in c.items()))\n",
        "for now, to in edges:\n",
        "    print(c[now, to])"
      ],
      "execution_count": 33,
      "outputs": [
        {
          "output_type": "stream",
          "name": "stdout",
          "text": [
            "2\n",
            "1\n",
            "2\n"
          ]
        }
      ]
    },
    {
      "cell_type": "markdown",
      "metadata": {
        "id": "z-y31bTI6c1M"
      },
      "source": [
        "DFSでやった方が簡潔になる"
      ]
    },
    {
      "cell_type": "code",
      "metadata": {
        "id": "zfE6oO3z4Boy"
      },
      "source": [
        "import sys\n",
        "sys.setrecursionlimit(10**9)"
      ],
      "execution_count": null,
      "outputs": []
    },
    {
      "cell_type": "code",
      "metadata": {
        "colab": {
          "base_uri": "https://localhost:8080/"
        },
        "id": "DKZ5dncM4BmY",
        "outputId": "a35a282c-d4bc-4296-fbec-cf12d48b75cf"
      },
      "source": [
        "N = int(input())\n",
        "graph = [[] for _ in range(N)]\n",
        "edges = []\n",
        "for _ in range(N-1):\n",
        "    a, b = map(int, input().split())\n",
        "    a -= 1\n",
        "    b -= 1\n",
        "    graph[a].append(b)\n",
        "    graph[b].append(a)\n",
        "    edges.append([a, b])"
      ],
      "execution_count": 34,
      "outputs": [
        {
          "name": "stdout",
          "output_type": "stream",
          "text": [
            "3\n",
            "1 2\n",
            "2 3\n"
          ]
        }
      ]
    },
    {
      "cell_type": "code",
      "metadata": {
        "id": "RtnPb-MR4HfB"
      },
      "source": [
        "colors = {}\n",
        "def dfs(now, bef=-1, c=0):\n",
        "    color = 1\n",
        "    for to in graph[now]:\n",
        "        if to == bef: continue\n",
        "        if color == c:\n",
        "            color += 1\n",
        "        colors[now, to] = color\n",
        "        dfs(to, now, color)\n",
        "        color += 1"
      ],
      "execution_count": 46,
      "outputs": []
    },
    {
      "cell_type": "code",
      "metadata": {
        "colab": {
          "base_uri": "https://localhost:8080/"
        },
        "id": "oYdgOk1I5AHR",
        "outputId": "d3bca254-95af-4b7b-e85f-f2e2f2c969ac"
      },
      "source": [
        "dfs(0)\n",
        "print(max(v for k, v in colors.items()))\n",
        "for a, b in edges:\n",
        "    print(colors[a, b])"
      ],
      "execution_count": 51,
      "outputs": [
        {
          "output_type": "stream",
          "name": "stdout",
          "text": [
            "2\n",
            "1\n",
            "2\n"
          ]
        }
      ]
    }
  ]
}