{
  "nbformat": 4,
  "nbformat_minor": 0,
  "metadata": {
    "colab": {
      "name": "ABC146.ipynb",
      "provenance": [],
      "authorship_tag": "ABX9TyNDVQY3cfNH3h284lPZJm6b",
      "include_colab_link": true
    },
    "kernelspec": {
      "name": "python3",
      "display_name": "Python 3"
    },
    "language_info": {
      "name": "python"
    }
  },
  "cells": [
    {
      "cell_type": "markdown",
      "metadata": {
        "id": "view-in-github",
        "colab_type": "text"
      },
      "source": [
        "<a href=\"https://colab.research.google.com/github/Hidestament/AtCoder/blob/main/ABC/ABC146.ipynb\" target=\"_parent\"><img src=\"https://colab.research.google.com/assets/colab-badge.svg\" alt=\"Open In Colab\"/></a>"
      ]
    },
    {
      "cell_type": "markdown",
      "metadata": {
        "id": "jEav0zHgSLrL"
      },
      "source": [
        "# ABC146\n",
        "https://atcoder.jp/contests/abc146"
      ]
    },
    {
      "cell_type": "markdown",
      "metadata": {
        "id": "-LXGz2B6SN6k"
      },
      "source": [
        "## A - Can't Wait for Holiday\n",
        "https://atcoder.jp/contests/abc146/tasks/abc146_a"
      ]
    },
    {
      "cell_type": "code",
      "metadata": {
        "colab": {
          "base_uri": "https://localhost:8080/"
        },
        "id": "2rZ0r_6MSH8w",
        "outputId": "4d4e7445-e65f-4ca3-e601-3a3f46eae419"
      },
      "source": [
        "S = str(input())\n",
        "ans = {\"SUN\":7, \"MON\":6, \"TUE\":5, \"WED\":4, \"THU\":3, \"FRI\":2, \"SAT\":1}\n",
        "print(ans[S])"
      ],
      "execution_count": 1,
      "outputs": [
        {
          "output_type": "stream",
          "text": [
            "SAT\n",
            "1\n"
          ],
          "name": "stdout"
        }
      ]
    },
    {
      "cell_type": "markdown",
      "metadata": {
        "id": "jX2ZFI1iSt3a"
      },
      "source": [
        "数値に変換しても良いよ"
      ]
    },
    {
      "cell_type": "code",
      "metadata": {
        "colab": {
          "base_uri": "https://localhost:8080/"
        },
        "id": "q89ruZtnSkNZ",
        "outputId": "c3e92281-6b01-46a3-e295-87c039b41e39"
      },
      "source": [
        "S = str(input())\n",
        "ans = [\"SUN\", \"MON\", \"TUE\", \"WED\", \"THU\",\"FRI\", \"SAT\"]\n",
        "ind = ans.index(S)\n",
        "\n",
        "print(7 - ind)"
      ],
      "execution_count": 2,
      "outputs": [
        {
          "output_type": "stream",
          "text": [
            "SUN\n",
            "7\n"
          ],
          "name": "stdout"
        }
      ]
    },
    {
      "cell_type": "markdown",
      "metadata": {
        "id": "Z2GDwl37S9du"
      },
      "source": [
        "## B - ROT N\n",
        "https://atcoder.jp/contests/abc146/tasks/abc146_b"
      ]
    },
    {
      "cell_type": "code",
      "metadata": {
        "colab": {
          "base_uri": "https://localhost:8080/"
        },
        "id": "d_s-wckeS6DE",
        "outputId": "51f1371a-fb91-4196-a204-a3296f3451ba"
      },
      "source": [
        "N = int(input())\n",
        "S = str(input())"
      ],
      "execution_count": 7,
      "outputs": [
        {
          "output_type": "stream",
          "text": [
            "2\n",
            "ABCXYZ\n"
          ],
          "name": "stdout"
        }
      ]
    },
    {
      "cell_type": "code",
      "metadata": {
        "colab": {
          "base_uri": "https://localhost:8080/"
        },
        "id": "W5BMrZMXTND1",
        "outputId": "cc141dd3-1c83-479b-c202-c57c089c29ee"
      },
      "source": [
        "str_list = [\"A\", \"B\", \"C\", \"D\", \"E\", \"F\", \"G\", \"H\", \"I\", \"J\", \"K\", \"L\", \"M\", \"N\", \"O\", \"P\", \"Q\", \"R\", \"S\", \"T\", \"U\", \"V\", \"W\", \"X\", \"Y\", \"Z\"]\n",
        "len(str_list)"
      ],
      "execution_count": 8,
      "outputs": [
        {
          "output_type": "execute_result",
          "data": {
            "text/plain": [
              "26"
            ]
          },
          "metadata": {
            "tags": []
          },
          "execution_count": 8
        }
      ]
    },
    {
      "cell_type": "code",
      "metadata": {
        "colab": {
          "base_uri": "https://localhost:8080/"
        },
        "id": "EkLc6zZPTvTJ",
        "outputId": "b08ffb97-69e0-4ff9-f18c-5578cd6e3ce3"
      },
      "source": [
        "ans = \"\"\n",
        "for s in S:\n",
        "  ind = str_list.index(s) + N\n",
        "  ans += str_list[ind % 26]\n",
        "print(ans)"
      ],
      "execution_count": 23,
      "outputs": [
        {
          "output_type": "stream",
          "text": [
            "CDEZAB\n"
          ],
          "name": "stdout"
        }
      ]
    },
    {
      "cell_type": "markdown",
      "metadata": {
        "id": "ukSkrsMFU56r"
      },
      "source": [
        "## C - Buy ans Integer\n",
        "https://atcoder.jp/contests/abc146/tasks/abc146_c"
      ]
    },
    {
      "cell_type": "markdown",
      "metadata": {
        "id": "r3Kwf-SLYJcq"
      },
      "source": [
        "ある整数$i$の値段を求める関数は, \n",
        "$$\n",
        "price(i) = (A*i) + (B * d(i))\n",
        "$$\n",
        "ここで, $d(i)$は10進数における$i$の桁数である.\n",
        "\n",
        "この関数は, $i \\leq j$の$i,j$に対して, $Ai \\leq Aj$かつ$Bd(i)\\leq Bd(j)$が成り立つので, 単調増加な関数である.\n",
        "\n",
        "よって, 二分探索を使う\n",
        "\n",
        "10進数における桁数を求めるには, $i$を文字列に変換して, その文字列の長さを求めれば良い."
      ]
    },
    {
      "cell_type": "code",
      "metadata": {
        "colab": {
          "base_uri": "https://localhost:8080/"
        },
        "id": "c3qSWOdWUIXh",
        "outputId": "2b8931b6-5d2a-4877-96b1-cf53cdd6724d"
      },
      "source": [
        "A, B, X = map(int, input().split())"
      ],
      "execution_count": 42,
      "outputs": [
        {
          "output_type": "stream",
          "text": [
            "1234 56789 314159265\n"
          ],
          "name": "stdout"
        }
      ]
    },
    {
      "cell_type": "code",
      "metadata": {
        "id": "DvYmDbRiV1DX"
      },
      "source": [
        "def price(i):\n",
        "  global A, B\n",
        "  temp = str(i)\n",
        "  dn = len(temp)\n",
        "  return (A*i) + (B*dn)"
      ],
      "execution_count": 43,
      "outputs": []
    },
    {
      "cell_type": "code",
      "metadata": {
        "id": "jlnWq1XeVMK4"
      },
      "source": [
        "# 二分探索\n",
        "left = 0\n",
        "right = 10 ** 9 + 1\n",
        "while right - left > 1:\n",
        "  mid = (right + left) // 2\n",
        "  if price(mid) <= X:\n",
        "    left = mid\n",
        "  else:\n",
        "    right = mid\n",
        "print(left)"
      ],
      "execution_count": null,
      "outputs": []
    },
    {
      "cell_type": "markdown",
      "metadata": {
        "id": "gJOkKgsnXKuT"
      },
      "source": [
        "## D - Coloring Edges on Tree\n",
        "https://atcoder.jp/contests/abc146/tasks/abc146_d"
      ]
    },
    {
      "cell_type": "markdown",
      "metadata": {
        "id": "CtZu1b0_aY0N"
      },
      "source": [
        "**木は基本的にDFSで行うのが典型**\n",
        "\n",
        "解説\n",
        "1. https://www.youtube.com/watch?v=7IlBVSglZqc\n",
        "2. https://drken1215.hatenablog.com/entry/2020/04/26/172200\n",
        "3. https://maspypy.com/atcoder-%E5%8F%82%E5%8A%A0%E6%84%9F%E6%83%B3-2019-11-16abc-146"
      ]
    },
    {
      "cell_type": "markdown",
      "metadata": {
        "id": "p3eRATNca7JA"
      },
      "source": [
        "### おさらい\n",
        "グラフの最大次数を$\\Delta_G$とする.\n",
        "1. $\\Delta_G \\leq 最小辺色彩数 \\leq \\Delta_G + 1$\n",
        "2. 二部グラフ -> 最小辺色彩数 = $\\Delta_G + 1$\n",
        "3. 木（木は二部グラフ） ->  $\\Delta_G + 1$\n",
        "4. 偶数頂点からなる完全グラフ -> $\\Delta_G (=頂点数 -1)$\n",
        "5. 奇数頂点からなる完全グラフ -> $\\Delta_G + 1 (=頂点数)$"
      ]
    },
    {
      "cell_type": "markdown",
      "metadata": {
        "id": "qqgK2Z_McQGA"
      },
      "source": [
        "### 解法\n",
        "適当な頂点を１つ根と指定して, DFSを使ってどんどん塗っていく.\n",
        "\n",
        "このとき気をつけるのが, 次の辺を塗るには, \n",
        "- 前いた頂点\n",
        "- 今頂点-前頂点で使った色\n",
        "\n",
        "の情報が必要であるので, これにあうように少しDFSを変更しないといけない."
      ]
    },
    {
      "cell_type": "code",
      "metadata": {
        "id": "MACeOAMDad1H"
      },
      "source": [
        "# 再帰上限を上げておく\n",
        "import sys\n",
        "sys.setrecursionlimit(10**9)"
      ],
      "execution_count": null,
      "outputs": []
    },
    {
      "cell_type": "code",
      "metadata": {
        "colab": {
          "base_uri": "https://localhost:8080/"
        },
        "id": "ClYLAQ0qW2kT",
        "outputId": "0b828a80-56c7-4963-d0c1-ec784a77640e"
      },
      "source": [
        "N = int(input())"
      ],
      "execution_count": 37,
      "outputs": [
        {
          "output_type": "stream",
          "text": [
            "8\n"
          ],
          "name": "stdout"
        }
      ]
    },
    {
      "cell_type": "code",
      "metadata": {
        "colab": {
          "base_uri": "https://localhost:8080/"
        },
        "id": "_hb3M4pFGHe7",
        "outputId": "f3c73c3d-a777-4e7d-8468-fdf044b07afc"
      },
      "source": [
        "# (頂点, edgeのnum)という形でグラフを持つ\n",
        "graph = [[] for _ in range(N)]\n",
        "for i in range(N-1):\n",
        "  a,b = map(int, input().split())\n",
        "  graph[a-1].append((b-1, i))\n",
        "  graph[b-1].append((a-1, i))"
      ],
      "execution_count": 51,
      "outputs": [
        {
          "output_type": "stream",
          "text": [
            "1 2\n",
            "2 3\n",
            "2 4\n",
            "2 5\n",
            "4 7\n",
            "5 6\n",
            "6 8\n"
          ],
          "name": "stdout"
        }
      ]
    },
    {
      "cell_type": "code",
      "metadata": {
        "id": "Z8pevFONVRgi"
      },
      "source": [
        "colors = [1 for _ in range(N-1)]"
      ],
      "execution_count": 53,
      "outputs": []
    },
    {
      "cell_type": "code",
      "metadata": {
        "id": "5i81AQDrSUZg"
      },
      "source": [
        "# v:現在の頂点, u:前にいた頂点, c:(u,v)で使った色\n",
        "def dfs(v, u, c):\n",
        "  color = 1\n",
        "  for i in graph[v]:\n",
        "    # 親以外のノードを探索する\n",
        "    if i[0] != u:\n",
        "      # 親と自分をつなぐ辺で, 色がすでに使われていたら, 色を+1する\n",
        "      if color == c:\n",
        "        color += 1\n",
        "      # 実際に色を塗る\n",
        "      colors[i[1]] = color\n",
        "      # 自分の子に対して同様の操作をする\n",
        "      dfs(i[0], v, color)\n",
        "      color += 1"
      ],
      "execution_count": 54,
      "outputs": []
    },
    {
      "cell_type": "code",
      "metadata": {
        "id": "AFiq-dHrS4kA"
      },
      "source": [
        "dfs(0, 0, 0)"
      ],
      "execution_count": 55,
      "outputs": []
    },
    {
      "cell_type": "code",
      "metadata": {
        "colab": {
          "base_uri": "https://localhost:8080/"
        },
        "id": "eqzwH4KqVHgr",
        "outputId": "1ff12d2d-a304-4d7f-c1e9-e3fe1692e1f3"
      },
      "source": [
        "print(max(colors))\n",
        "for i in colors:\n",
        "  print(i)"
      ],
      "execution_count": 57,
      "outputs": [
        {
          "output_type": "stream",
          "text": [
            "4\n",
            "2\n",
            "1\n",
            "3\n",
            "4\n",
            "1\n",
            "1\n",
            "2\n"
          ],
          "name": "stdout"
        }
      ]
    },
    {
      "cell_type": "code",
      "metadata": {
        "id": "QVBpDM9KWMF5"
      },
      "source": [
        ""
      ],
      "execution_count": null,
      "outputs": []
    }
  ]
}