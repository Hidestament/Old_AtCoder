{
  "nbformat": 4,
  "nbformat_minor": 0,
  "metadata": {
    "colab": {
      "name": "ABC147.ipynb",
      "provenance": [],
      "collapsed_sections": [],
      "authorship_tag": "ABX9TyNRQMfgG3vbDyhHO/DPSjoi",
      "include_colab_link": true
    },
    "kernelspec": {
      "name": "python3",
      "display_name": "Python 3"
    },
    "language_info": {
      "name": "python"
    }
  },
  "cells": [
    {
      "cell_type": "markdown",
      "metadata": {
        "id": "view-in-github",
        "colab_type": "text"
      },
      "source": [
        "<a href=\"https://colab.research.google.com/github/Hidestament/AtCoder/blob/main/ABC/ABC147.ipynb\" target=\"_parent\"><img src=\"https://colab.research.google.com/assets/colab-badge.svg\" alt=\"Open In Colab\"/></a>"
      ]
    },
    {
      "cell_type": "markdown",
      "metadata": {
        "id": "PePEv4FCA-A4"
      },
      "source": [
        "# [AtCoder Beginner Contest 147](https://atcoder.jp/contests/abc147)"
      ]
    },
    {
      "cell_type": "markdown",
      "metadata": {
        "id": "VUcE6FBzBF9I"
      },
      "source": [
        "## [A - Blackjack](https://atcoder.jp/contests/abc147/tasks/abc147_a)"
      ]
    },
    {
      "cell_type": "code",
      "metadata": {
        "id": "IA9ujQDGBFm3"
      },
      "source": [
        "A1, A2, A3 = map(int, input().split())\n",
        "print(\"bust\" if A1 + A2 + A3 >= 22 else \"win\")"
      ],
      "execution_count": null,
      "outputs": []
    },
    {
      "cell_type": "markdown",
      "metadata": {
        "id": "dCgRXzq_BUIg"
      },
      "source": [
        "## [B - Palindrome-philia](https://atcoder.jp/contests/abc147/tasks/abc147_b)"
      ]
    },
    {
      "cell_type": "code",
      "metadata": {
        "colab": {
          "base_uri": "https://localhost:8080/"
        },
        "id": "Vx0n8kYoA9j9",
        "outputId": "2ed3b2aa-60b2-4a68-df45-812b142dca6b"
      },
      "source": [
        "S = str(input())\n",
        "rS = S[::-1]"
      ],
      "execution_count": null,
      "outputs": [
        {
          "name": "stdout",
          "output_type": "stream",
          "text": [
            "abcdabc\n"
          ]
        }
      ]
    },
    {
      "cell_type": "code",
      "metadata": {
        "colab": {
          "base_uri": "https://localhost:8080/"
        },
        "id": "TI1mDR2YBqZR",
        "outputId": "37956c97-726f-458b-b6be-dd631b3a949c"
      },
      "source": [
        "cnt = 0\n",
        "for i in range(len(S)//2):\n",
        "    if S[i] != rS[i]:\n",
        "        cnt += 1\n",
        "print(cnt)"
      ],
      "execution_count": null,
      "outputs": [
        {
          "output_type": "stream",
          "name": "stdout",
          "text": [
            "2\n"
          ]
        }
      ]
    },
    {
      "cell_type": "markdown",
      "metadata": {
        "id": "79ccwRCiCD_L"
      },
      "source": [
        "## [C - HonestOrUnkind2](https://atcoder.jp/contests/abc147/tasks/abc147_c)"
      ]
    },
    {
      "cell_type": "code",
      "metadata": {
        "colab": {
          "base_uri": "https://localhost:8080/"
        },
        "id": "cJjvrLT4B-cG",
        "outputId": "05c6de4b-549c-45b5-f00c-2427ab367243"
      },
      "source": [
        "from itertools import product\n",
        "N = int(input())"
      ],
      "execution_count": null,
      "outputs": [
        {
          "name": "stdout",
          "output_type": "stream",
          "text": [
            "5\n"
          ]
        }
      ]
    },
    {
      "cell_type": "code",
      "metadata": {
        "id": "_bULsSYXERxo"
      },
      "source": [
        "evidence = []\n",
        "for _ in range(N):\n",
        "    A = int(input())\n",
        "    temp = [list(map(int, input().split())) for _ in range(A)]\n",
        "    evidence.append(temp)"
      ],
      "execution_count": null,
      "outputs": []
    },
    {
      "cell_type": "code",
      "metadata": {
        "id": "1EzZvZg3CqFT"
      },
      "source": [
        "ans = 0\n",
        "for pattern in product([0, 1], repeat=N):\n",
        "    flag = True\n",
        "    for i in range(N):\n",
        "        if pattern[i] == 1:\n",
        "            for x, y in evidence[i]:\n",
        "                x -= 1\n",
        "                if pattern[x] != y:\n",
        "                    flag = False\n",
        "                    break\n",
        "    if flag:\n",
        "        ans = max(ans, sum(pattern))"
      ],
      "execution_count": null,
      "outputs": []
    },
    {
      "cell_type": "code",
      "metadata": {
        "id": "Zu0rWEdWDuUj"
      },
      "source": [
        "print(ans)"
      ],
      "execution_count": null,
      "outputs": []
    },
    {
      "cell_type": "markdown",
      "metadata": {
        "id": "7o9oPiuvFvA3"
      },
      "source": [
        "## [D - Xor Sum 4](https://atcoder.jp/contests/abc147/tasks/abc147_d)"
      ]
    },
    {
      "cell_type": "code",
      "metadata": {
        "id": "t9UUFXvvErPL",
        "colab": {
          "base_uri": "https://localhost:8080/"
        },
        "outputId": "8696daa4-b7ab-42ec-e9eb-ee0c4a79def9"
      },
      "source": [
        "N = int(input())\n",
        "A = list(map(lambda x: format(int(x), \"061b\"), input().split()))\n",
        "mod = 10**9 + 7"
      ],
      "execution_count": null,
      "outputs": [
        {
          "name": "stdout",
          "output_type": "stream",
          "text": [
            "10\n",
            "3 1 4 1 5 9 2 6 5 3\n"
          ]
        }
      ]
    },
    {
      "cell_type": "code",
      "metadata": {
        "id": "8Z80dvkAKj2h"
      },
      "source": [
        "num_zeros = [0] * 61\n",
        "num_ones = [0] * 61\n",
        "for a in A:\n",
        "    a = a[::-1]\n",
        "    for i in range(61):\n",
        "        if a[i] == \"1\":\n",
        "            num_ones[i] += 1\n",
        "        else:\n",
        "            num_zeros[i] += 1"
      ],
      "execution_count": null,
      "outputs": []
    },
    {
      "cell_type": "code",
      "metadata": {
        "colab": {
          "base_uri": "https://localhost:8080/"
        },
        "id": "JbgJxgYKK8My",
        "outputId": "f981751a-8080-4083-c7fe-15d5ef40a7ae"
      },
      "source": [
        "ans = 0\n",
        "for k in range(61):\n",
        "    ans += num_ones[k] * num_zeros[k] * pow(2, k, mod)\n",
        "    ans %= mod\n",
        "print(ans%mod)"
      ],
      "execution_count": null,
      "outputs": [
        {
          "output_type": "stream",
          "name": "stdout",
          "text": [
            "237\n"
          ]
        }
      ]
    }
  ]
}