{
  "nbformat": 4,
  "nbformat_minor": 0,
  "metadata": {
    "colab": {
      "name": "ABC147.ipynb",
      "provenance": [],
      "collapsed_sections": [],
      "authorship_tag": "ABX9TyMuIPs/RkFljUuwCDDuoHsa",
      "include_colab_link": true
    },
    "kernelspec": {
      "name": "python3",
      "display_name": "Python 3"
    },
    "language_info": {
      "name": "python"
    }
  },
  "cells": [
    {
      "cell_type": "markdown",
      "metadata": {
        "id": "view-in-github",
        "colab_type": "text"
      },
      "source": [
        "<a href=\"https://colab.research.google.com/github/Hidestament/AtCoder/blob/main/ABC/ABC147.ipynb\" target=\"_parent\"><img src=\"https://colab.research.google.com/assets/colab-badge.svg\" alt=\"Open In Colab\"/></a>"
      ]
    },
    {
      "cell_type": "markdown",
      "metadata": {
        "id": "PePEv4FCA-A4"
      },
      "source": [
        "# [AtCoder Beginner Contest 147](https://atcoder.jp/contests/abc147)"
      ]
    },
    {
      "cell_type": "markdown",
      "metadata": {
        "id": "VUcE6FBzBF9I"
      },
      "source": [
        "## [A - Blackjack](https://atcoder.jp/contests/abc147/tasks/abc147_a)"
      ]
    },
    {
      "cell_type": "code",
      "metadata": {
        "id": "IA9ujQDGBFm3"
      },
      "source": [
        "A1, A2, A3 = map(int, input().split())\n",
        "print(\"bust\" if A1 + A2 + A3 >= 22 else \"win\")"
      ],
      "execution_count": null,
      "outputs": []
    },
    {
      "cell_type": "markdown",
      "metadata": {
        "id": "dCgRXzq_BUIg"
      },
      "source": [
        "## [B - Palindrome-philia](https://atcoder.jp/contests/abc147/tasks/abc147_b)"
      ]
    },
    {
      "cell_type": "code",
      "metadata": {
        "colab": {
          "base_uri": "https://localhost:8080/"
        },
        "id": "Vx0n8kYoA9j9",
        "outputId": "2ed3b2aa-60b2-4a68-df45-812b142dca6b"
      },
      "source": [
        "S = str(input())\n",
        "rS = S[::-1]"
      ],
      "execution_count": null,
      "outputs": [
        {
          "name": "stdout",
          "output_type": "stream",
          "text": [
            "abcdabc\n"
          ]
        }
      ]
    },
    {
      "cell_type": "code",
      "metadata": {
        "colab": {
          "base_uri": "https://localhost:8080/"
        },
        "id": "TI1mDR2YBqZR",
        "outputId": "37956c97-726f-458b-b6be-dd631b3a949c"
      },
      "source": [
        "cnt = 0\n",
        "for i in range(len(S)//2):\n",
        "    if S[i] != rS[i]:\n",
        "        cnt += 1\n",
        "print(cnt)"
      ],
      "execution_count": null,
      "outputs": [
        {
          "output_type": "stream",
          "name": "stdout",
          "text": [
            "2\n"
          ]
        }
      ]
    },
    {
      "cell_type": "markdown",
      "metadata": {
        "id": "79ccwRCiCD_L"
      },
      "source": [
        "## [C - HonestOrUnkind2](https://atcoder.jp/contests/abc147/tasks/abc147_c)"
      ]
    },
    {
      "cell_type": "markdown",
      "metadata": {
        "id": "2leCom0xBywi"
      },
      "source": [
        "itertoolsで実装"
      ]
    },
    {
      "cell_type": "code",
      "metadata": {
        "colab": {
          "base_uri": "https://localhost:8080/"
        },
        "id": "cJjvrLT4B-cG",
        "outputId": "05c6de4b-549c-45b5-f00c-2427ab367243"
      },
      "source": [
        "from itertools import product\n",
        "N = int(input())"
      ],
      "execution_count": null,
      "outputs": [
        {
          "name": "stdout",
          "output_type": "stream",
          "text": [
            "5\n"
          ]
        }
      ]
    },
    {
      "cell_type": "code",
      "metadata": {
        "id": "_bULsSYXERxo"
      },
      "source": [
        "evidence = []\n",
        "for _ in range(N):\n",
        "    A = int(input())\n",
        "    temp = [list(map(int, input().split())) for _ in range(A)]\n",
        "    evidence.append(temp)"
      ],
      "execution_count": null,
      "outputs": []
    },
    {
      "cell_type": "code",
      "metadata": {
        "id": "1EzZvZg3CqFT"
      },
      "source": [
        "ans = 0\n",
        "for pattern in product([0, 1], repeat=N):\n",
        "    flag = True\n",
        "    for i in range(N):\n",
        "        if pattern[i] == 1:\n",
        "            for x, y in evidence[i]:\n",
        "                x -= 1\n",
        "                if pattern[x] != y:\n",
        "                    flag = False\n",
        "                    break\n",
        "    if flag:\n",
        "        ans = max(ans, sum(pattern))"
      ],
      "execution_count": null,
      "outputs": []
    },
    {
      "cell_type": "code",
      "metadata": {
        "id": "Zu0rWEdWDuUj"
      },
      "source": [
        "print(ans)"
      ],
      "execution_count": null,
      "outputs": []
    },
    {
      "cell_type": "markdown",
      "metadata": {
        "id": "ncoFDXB5BwrS"
      },
      "source": [
        "bit演算で実装"
      ]
    },
    {
      "cell_type": "code",
      "metadata": {
        "colab": {
          "base_uri": "https://localhost:8080/"
        },
        "id": "CHS1pKwF4nzt",
        "outputId": "ce519c77-9765-49dc-dfa6-66bd1ff65612"
      },
      "source": [
        "N = int(input())\n",
        "\n",
        "# evidence[i][x]: i番目の人のxに関する証言. 1なら正直, 0なら不親切, -1なら証言なし\n",
        "evidence = [[-1] * N for _ in range(N)]\n",
        "for i in range(N):\n",
        "    A = int(input())\n",
        "    for _ in range(A):\n",
        "        x, y = map(int, input().split())\n",
        "        evidence[i][x - 1] = y"
      ],
      "execution_count": 13,
      "outputs": [
        {
          "name": "stdout",
          "output_type": "stream",
          "text": [
            "3\n",
            "2\n",
            "2 1\n",
            "3 0\n",
            "2\n",
            "3 1\n",
            "1 0\n",
            "2\n",
            "1 1\n",
            "2 0\n"
          ]
        }
      ]
    },
    {
      "cell_type": "code",
      "metadata": {
        "colab": {
          "base_uri": "https://localhost:8080/"
        },
        "id": "Y01GU4bV4nxA",
        "outputId": "f4507fd0-aec6-4a9b-aae1-f0b3b05f3c9f"
      },
      "source": [
        "# bit演算での実装\n",
        "ans = 0\n",
        "for bit in range(1 << N):\n",
        "    flag = True\n",
        "    cnt = 0\n",
        "    for i in range(N):\n",
        "        if (bit >> i) & 1:\n",
        "            cnt += 1\n",
        "            for j in range(N):\n",
        "                if (bit>>j & 1) and (evidence[i][j] == 0):\n",
        "                    flag = False\n",
        "                    break\n",
        "                if not (bit>>j & 1) and (evidence[i][j] == 1):\n",
        "                    flag = False\n",
        "                    break\n",
        "\n",
        "    if flag:\n",
        "        ans = max(ans, cnt)\n",
        "\n",
        "print(ans)"
      ],
      "execution_count": 16,
      "outputs": [
        {
          "output_type": "stream",
          "name": "stdout",
          "text": [
            "0\n"
          ]
        }
      ]
    },
    {
      "cell_type": "markdown",
      "metadata": {
        "id": "7o9oPiuvFvA3"
      },
      "source": [
        "## [D - Xor Sum 4](https://atcoder.jp/contests/abc147/tasks/abc147_d)"
      ]
    },
    {
      "cell_type": "code",
      "metadata": {
        "colab": {
          "base_uri": "https://localhost:8080/"
        },
        "id": "0VdbU7_y4fnR",
        "outputId": "1e45809a-1093-433c-b351-f3e40ea639f7"
      },
      "source": [
        "# A <= 2^60 なので, 61bitまでカウントすれば十分\n",
        "N = int(input())\n",
        "# 整数を61bit2進数としてうけとる\n",
        "A = list(map(lambda x: format(int(x), \"061b\"), input().split()))\n",
        "mod = 10**9 + 7"
      ],
      "execution_count": 7,
      "outputs": [
        {
          "name": "stdout",
          "output_type": "stream",
          "text": [
            "10\n",
            "3 14 159 2653 58979 323846 2643383 27950288 419716939 9375105820\n"
          ]
        }
      ]
    },
    {
      "cell_type": "code",
      "metadata": {
        "colab": {
          "base_uri": "https://localhost:8080/"
        },
        "id": "zxcybPD24fkR",
        "outputId": "27c2547e-b7bf-4f41-dbeb-90569f99863f"
      },
      "source": [
        "zeros = [0] * 61\n",
        "ones = [0] * 61"
      ],
      "execution_count": 8,
      "outputs": [
        {
          "output_type": "execute_result",
          "data": {
            "text/plain": [
              "61"
            ]
          },
          "metadata": {},
          "execution_count": 8
        }
      ]
    },
    {
      "cell_type": "code",
      "metadata": {
        "id": "4jJYhQP44yCT"
      },
      "source": [
        "# 0と1の個数を数える\n",
        "for a in A:\n",
        "    for k in range(61):\n",
        "        if a[k] == \"0\":\n",
        "            zeros[k] += 1\n",
        "        else:\n",
        "            ones[k] += 1"
      ],
      "execution_count": 9,
      "outputs": []
    },
    {
      "cell_type": "code",
      "metadata": {
        "colab": {
          "base_uri": "https://localhost:8080/"
        },
        "id": "4mFCgxk745-6",
        "outputId": "54f8d80b-b4eb-400b-eb4b-04b2e5a3e032"
      },
      "source": [
        "ans = 0\n",
        "for k in range(61):\n",
        "    ans += zeros[k] * ones[k] * pow(2, 60-k, mod)\n",
        "    ans %= mod\n",
        "print(ans % mod)"
      ],
      "execution_count": 10,
      "outputs": [
        {
          "output_type": "stream",
          "name": "stdout",
          "text": [
            "103715602\n"
          ]
        }
      ]
    }
  ]
}