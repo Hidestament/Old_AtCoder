{
  "nbformat": 4,
  "nbformat_minor": 0,
  "metadata": {
    "colab": {
      "name": "ABC148.ipynb",
      "provenance": [],
      "collapsed_sections": [],
      "authorship_tag": "ABX9TyOf8n1HXHzfrS7oOEScCtQr",
      "include_colab_link": true
    },
    "kernelspec": {
      "name": "python3",
      "display_name": "Python 3"
    },
    "language_info": {
      "name": "python"
    }
  },
  "cells": [
    {
      "cell_type": "markdown",
      "metadata": {
        "id": "view-in-github",
        "colab_type": "text"
      },
      "source": [
        "<a href=\"https://colab.research.google.com/github/Hidestament/AtCoder/blob/main/ABC/ABC148.ipynb\" target=\"_parent\"><img src=\"https://colab.research.google.com/assets/colab-badge.svg\" alt=\"Open In Colab\"/></a>"
      ]
    },
    {
      "cell_type": "markdown",
      "metadata": {
        "id": "sb3hjihT8QE6"
      },
      "source": [
        "# [AtCoder Beginner Contest 148](https://atcoder.jp/contests/abc148)"
      ]
    },
    {
      "cell_type": "markdown",
      "metadata": {
        "id": "csY2a1pF8SS8"
      },
      "source": [
        "## [A - Round One](https://atcoder.jp/contests/abc148/tasks/abc148_a)"
      ]
    },
    {
      "cell_type": "code",
      "metadata": {
        "id": "M6mQIMy08MmW"
      },
      "source": [
        "A = int(input())\n",
        "B = int(input())\n",
        "ans = [1, 2, 3]\n",
        "ans.pop(ans.index(A))\n",
        "ans.pop(ans.index(B))\n",
        "print(ans[0])"
      ],
      "execution_count": null,
      "outputs": []
    },
    {
      "cell_type": "markdown",
      "metadata": {
        "id": "hYa-X7KW8tYw"
      },
      "source": [
        "これでも良い"
      ]
    },
    {
      "cell_type": "code",
      "metadata": {
        "colab": {
          "base_uri": "https://localhost:8080/"
        },
        "id": "btizE0n88eNL",
        "outputId": "1c2a4d36-f441-4a7e-9403-e80468c64651"
      },
      "source": [
        "A = int(input())\n",
        "B = int(input())\n",
        "print(6 - A - B)"
      ],
      "execution_count": null,
      "outputs": [
        {
          "output_type": "stream",
          "name": "stdout",
          "text": [
            "[0, 2]\n"
          ]
        }
      ]
    },
    {
      "cell_type": "markdown",
      "metadata": {
        "id": "mF1TW4jd8xNo"
      },
      "source": [
        "## [B - Strings with the Same Length](https://atcoder.jp/contests/abc148/tasks/abc148_b)"
      ]
    },
    {
      "cell_type": "code",
      "metadata": {
        "id": "ND66xxK78guo"
      },
      "source": [
        "N = int(input())\n",
        "S, T = map(str, input().split())\n",
        "ans = \"\"\n",
        "for i in range(N):\n",
        "    ans += S[i]\n",
        "    ans += T[i]\n",
        "print(ans)"
      ],
      "execution_count": null,
      "outputs": []
    },
    {
      "cell_type": "markdown",
      "metadata": {
        "id": "o89gq8OH8_LC"
      },
      "source": [
        "## [C - Snack](https://atcoder.jp/contests/abc148/tasks/abc148_c)"
      ]
    },
    {
      "cell_type": "code",
      "metadata": {
        "colab": {
          "base_uri": "https://localhost:8080/"
        },
        "id": "5U0VfJdE9Bxc",
        "outputId": "948f43e2-6993-4ff9-af98-f10e67e46326"
      },
      "source": [
        "from math import gcd\n",
        "A, B = map(int, input().split())\n",
        "print(A * B // gcd(A, B))"
      ],
      "execution_count": null,
      "outputs": [
        {
          "output_type": "stream",
          "name": "stdout",
          "text": [
            "100000 99999\n",
            "9999900000\n"
          ]
        }
      ]
    },
    {
      "cell_type": "markdown",
      "metadata": {
        "id": "qCTQkscy9VZG"
      },
      "source": [
        "## [D - Brick Break](https://atcoder.jp/contests/abc148/tasks/abc148_d)"
      ]
    },
    {
      "cell_type": "code",
      "metadata": {
        "colab": {
          "base_uri": "https://localhost:8080/"
        },
        "id": "6BrYz5qB9Q7z",
        "outputId": "82c7cb1a-4872-486e-f750-367344127e39"
      },
      "source": [
        "N = int(input())\n",
        "A = list(map(int, input().split()))"
      ],
      "execution_count": null,
      "outputs": [
        {
          "name": "stdout",
          "output_type": "stream",
          "text": [
            "1\n",
            "1\n"
          ]
        }
      ]
    },
    {
      "cell_type": "code",
      "metadata": {
        "id": "FdzjRsPQ9vsg"
      },
      "source": [
        "cnt = 0\n",
        "now = 1\n",
        "for i in range(N):\n",
        "    if A[i] != now:\n",
        "        cnt += 1\n",
        "    else:\n",
        "        now += 1"
      ],
      "execution_count": null,
      "outputs": []
    },
    {
      "cell_type": "code",
      "metadata": {
        "colab": {
          "base_uri": "https://localhost:8080/"
        },
        "id": "P-KuHSIv96e6",
        "outputId": "4d2586c2-f7f2-4293-833c-0a1a6bd23751"
      },
      "source": [
        "print(-1 if cnt == N else cnt)"
      ],
      "execution_count": null,
      "outputs": [
        {
          "output_type": "stream",
          "name": "stdout",
          "text": [
            "0\n"
          ]
        }
      ]
    },
    {
      "cell_type": "markdown",
      "metadata": {
        "id": "l0TCc4uc-LqX"
      },
      "source": [
        "## [E - Double Factorial](https://atcoder.jp/contests/abc148/tasks/abc148_e)"
      ]
    },
    {
      "cell_type": "code",
      "source": [
        "N = int(input())\n",
        "if N%2 == 1:\n",
        "    print(0)\n",
        "    exit()"
      ],
      "metadata": {
        "colab": {
          "base_uri": "https://localhost:8080/"
        },
        "id": "fN2j4VfTP5Je",
        "outputId": "41b7813f-6786-4b1f-faa7-c67fc2df4787"
      },
      "execution_count": 3,
      "outputs": [
        {
          "name": "stdout",
          "output_type": "stream",
          "text": [
            "1000000000000000000\n"
          ]
        }
      ]
    },
    {
      "cell_type": "code",
      "source": [
        "N //= 2\n",
        "cnt = 0\n",
        "now = 5\n",
        "while now <= N:\n",
        "    cnt += (N // now)\n",
        "    now *= 5\n",
        "print(cnt)"
      ],
      "metadata": {
        "colab": {
          "base_uri": "https://localhost:8080/"
        },
        "id": "WRBdox2OP5Gn",
        "outputId": "87331abf-03f7-40e9-dab9-9be989493a76"
      },
      "execution_count": 4,
      "outputs": [
        {
          "output_type": "stream",
          "name": "stdout",
          "text": [
            "124999999999999995\n"
          ]
        }
      ]
    },
    {
      "cell_type": "markdown",
      "metadata": {
        "id": "UFRZSzAqCUSV"
      },
      "source": [
        "## [F - Playing Tag on Tree](https://atcoder.jp/contests/abc148/tasks/abc148_f)"
      ]
    },
    {
      "cell_type": "code",
      "metadata": {
        "id": "cxz7kW5jB_mX"
      },
      "source": [
        "N, u, v = map(int, input().split())\n",
        "u -= 1\n",
        "v -= 1\n",
        "graph = [[] for _ in range(N)]\n",
        "for _ in range(N-1):\n",
        "    a, b = map(int, input().split())\n",
        "    graph[a-1].append(b-1)\n",
        "    graph[b-1].append(a-1)"
      ],
      "execution_count": null,
      "outputs": []
    },
    {
      "cell_type": "code",
      "metadata": {
        "id": "rPXaU7ZZHzTF"
      },
      "source": [
        "from collections import deque\n",
        "def bfs(s):\n",
        "    dist = [-1] * N\n",
        "    dq = deque([s])\n",
        "    dist[s] = 0\n",
        "    while dq:\n",
        "        now = dq.popleft()\n",
        "        for to in graph[now]:\n",
        "            if dist[to] == -1:\n",
        "                dist[to] = dist[now] + 1\n",
        "                dq.append(to)\n",
        "    return dist"
      ],
      "execution_count": null,
      "outputs": []
    },
    {
      "cell_type": "code",
      "metadata": {
        "id": "NWHs2Vl_ROXV"
      },
      "source": [
        "distu = bfs(u)\n",
        "distv = bfs(v)"
      ],
      "execution_count": null,
      "outputs": []
    },
    {
      "cell_type": "code",
      "metadata": {
        "id": "BkSdSpoXRTMD"
      },
      "source": [
        "ans = 0\n",
        "for du, dv in zip(distu, distv):\n",
        "    if du < dv:\n",
        "        ans = ans(ans, dv)\n",
        "print(ans - 1)"
      ],
      "execution_count": null,
      "outputs": []
    }
  ]
}