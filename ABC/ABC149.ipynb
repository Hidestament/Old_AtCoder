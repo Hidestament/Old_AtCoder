{
  "nbformat": 4,
  "nbformat_minor": 0,
  "metadata": {
    "colab": {
      "name": "ABC149.ipynb",
      "provenance": [],
      "collapsed_sections": [],
      "authorship_tag": "ABX9TyOikzJnOyKuNlQyJ8mrqYTw",
      "include_colab_link": true
    },
    "kernelspec": {
      "name": "python3",
      "display_name": "Python 3"
    },
    "language_info": {
      "name": "python"
    }
  },
  "cells": [
    {
      "cell_type": "markdown",
      "metadata": {
        "id": "view-in-github",
        "colab_type": "text"
      },
      "source": [
        "<a href=\"https://colab.research.google.com/github/Hidestament/AtCoder/blob/main/ABC/ABC149.ipynb\" target=\"_parent\"><img src=\"https://colab.research.google.com/assets/colab-badge.svg\" alt=\"Open In Colab\"/></a>"
      ]
    },
    {
      "cell_type": "markdown",
      "metadata": {
        "id": "WqKaF7MmXUBk"
      },
      "source": [
        "# [AtCoder Beginner Contest 149](https://atcoder.jp/contests/abc149)"
      ]
    },
    {
      "cell_type": "markdown",
      "metadata": {
        "id": "Ldz3-1BDXW65"
      },
      "source": [
        "## [A - Strings](https://atcoder.jp/contests/abc149/tasks/abc149_a)"
      ]
    },
    {
      "cell_type": "code",
      "metadata": {
        "id": "_0ZQejGUXOyo"
      },
      "source": [
        "S, T = map(str, input().split())\n",
        "print(T + S)"
      ],
      "execution_count": null,
      "outputs": []
    },
    {
      "cell_type": "markdown",
      "metadata": {
        "id": "225PEHCKXeap"
      },
      "source": [
        "## [B - Greedy Takahashi](https://atcoder.jp/contests/abc149/tasks/abc149_b)"
      ]
    },
    {
      "cell_type": "code",
      "metadata": {
        "colab": {
          "base_uri": "https://localhost:8080/"
        },
        "id": "Jlpo3EOzXiCW",
        "outputId": "ad954bec-c2de-481a-c7b1-9f3314aceba8"
      },
      "source": [
        "A, B, K = map(int, input().split())\n",
        "ans = [max(0,A - K), max(0, B - max(K - A, 0))]\n",
        "print(*ans)"
      ],
      "execution_count": null,
      "outputs": [
        {
          "output_type": "stream",
          "name": "stdout",
          "text": [
            "500000000000 500000000000 1000000000000\n",
            "0 0\n"
          ]
        }
      ]
    },
    {
      "cell_type": "markdown",
      "metadata": {
        "id": "zV28JarBYLG4"
      },
      "source": [
        "## [C - Next Prime](https://atcoder.jp/contests/abc149/tasks/abc149_c)"
      ]
    },
    {
      "cell_type": "code",
      "metadata": {
        "colab": {
          "base_uri": "https://localhost:8080/"
        },
        "id": "PwD9JwZxYAM_",
        "outputId": "69493612-aae0-4738-ffd6-b8ea6b472bb5"
      },
      "source": [
        "X = int(input())\n",
        "if X == 2:\n",
        "    print(2)\n",
        "    exit()"
      ],
      "execution_count": null,
      "outputs": [
        {
          "name": "stdout",
          "output_type": "stream",
          "text": [
            "99992\n"
          ]
        }
      ]
    },
    {
      "cell_type": "code",
      "metadata": {
        "id": "LPycXSS3ZIh8"
      },
      "source": [
        "def eratosthenes(n):\n",
        "  is_prime = [True] * (n + 1)\n",
        "  is_prime[0], is_prime[1] = False, False\n",
        "  for p in range(2, int(n**0.5) + 1):\n",
        "    if is_prime[p]:\n",
        "      for mp in range(2 * p, n + 1, p):\n",
        "        is_prime[mp] = False\n",
        "  return [p for p in range(2, n+1) if is_prime[p]]"
      ],
      "execution_count": null,
      "outputs": []
    },
    {
      "cell_type": "code",
      "metadata": {
        "id": "vpB38qizZQHS"
      },
      "source": [
        "primes = eratosthenes(10**6)"
      ],
      "execution_count": null,
      "outputs": []
    },
    {
      "cell_type": "code",
      "metadata": {
        "colab": {
          "base_uri": "https://localhost:8080/"
        },
        "id": "OK-ood5rZSwc",
        "outputId": "edc81dd5-9e71-495b-da56-88e37ab7a274"
      },
      "source": [
        "l, r = 0, len(primes)\n",
        "while r - l > 1:\n",
        "    mid = (l + r) // 2\n",
        "    if primes[mid] >= X: r = mid\n",
        "    else: l = mid\n",
        "print(primes[r])"
      ],
      "execution_count": null,
      "outputs": [
        {
          "output_type": "stream",
          "name": "stdout",
          "text": [
            "100003\n"
          ]
        }
      ]
    },
    {
      "cell_type": "markdown",
      "metadata": {
        "id": "r5yo-_LXaJMs"
      },
      "source": [
        "## [D - Prediction and Restriction](https://atcoder.jp/contests/abc149/tasks/abc149_d)"
      ]
    },
    {
      "cell_type": "markdown",
      "metadata": {
        "id": "Z1iK-_DiOHMz"
      },
      "source": [
        "解説は[Notion](https://www.notion.so/Prediction-and-Restriction-165dd41ea9e54d83a028708f351c2ba9)\n",
        "\n",
        "じゃんけんって実装だるい"
      ]
    },
    {
      "cell_type": "markdown",
      "metadata": {
        "id": "rJsHiOxZi-iZ"
      },
      "source": [
        "r : グー 0\n",
        "\n",
        "s : ちょき 1\n",
        "\n",
        "p : パー 2"
      ]
    },
    {
      "cell_type": "markdown",
      "metadata": {
        "id": "7bV73W1XRuBW"
      },
      "source": [
        "### DP"
      ]
    },
    {
      "cell_type": "code",
      "metadata": {
        "colab": {
          "base_uri": "https://localhost:8080/"
        },
        "id": "TsI8tsTDZx-u",
        "outputId": "87b372a0-e4e0-475b-d321-8ce13ab55dc7"
      },
      "source": [
        "N, K = map(int, input().split())\n",
        "R, S, P = map(int, input().split())\n",
        "T = str(input())"
      ],
      "execution_count": null,
      "outputs": [
        {
          "name": "stdout",
          "output_type": "stream",
          "text": [
            "5 2\n",
            "8 7 6\n",
            "rsrpr\n"
          ]
        }
      ]
    },
    {
      "cell_type": "code",
      "metadata": {
        "id": "0lpSW2J0goaa"
      },
      "source": [
        "points = [R, S, P]"
      ],
      "execution_count": null,
      "outputs": []
    },
    {
      "cell_type": "code",
      "metadata": {
        "id": "VrFg286EfLPK"
      },
      "source": [
        "def dp(t):\n",
        "    DP = [[0] * 3 for _ in range(len(t))]\n",
        "    for j in range(3):\n",
        "        if zyan(t[0], j):\n",
        "            DP[0][j] = points[j]\n",
        "\n",
        "    for i in range(1, len(t)):\n",
        "        for j in range(3):\n",
        "            if zyan(t[i], j):\n",
        "                DP[i][j] = max(DP[i-1][k] for k in range(3) if k != j) + points[j]\n",
        "            else:\n",
        "                DP[i][j] = max(DP[i-1][k] for k in range(3) if k != j)\n",
        "\n",
        "    return max(DP[-1])\n",
        "\n",
        "def zyan(s, num):\n",
        "    if num == 0:\n",
        "        num_s = \"r\"\n",
        "    elif num == 1:\n",
        "        num_s = \"s\"\n",
        "    else:\n",
        "        num_s = \"p\"\n",
        "    \n",
        "    if num_s == \"r\" and s == \"s\":\n",
        "        return True\n",
        "    elif num_s == \"s\" and s == \"p\":\n",
        "        return True\n",
        "    elif num_s == \"p\" and s == \"r\":\n",
        "        return True\n",
        "    return False"
      ],
      "execution_count": null,
      "outputs": []
    },
    {
      "cell_type": "code",
      "metadata": {
        "colab": {
          "base_uri": "https://localhost:8080/"
        },
        "id": "E09E8Hh-cRLU",
        "outputId": "103175fe-17cf-4b59-ae54-9f3126b98896"
      },
      "source": [
        "ans = 0\n",
        "for i in range(K):\n",
        "    now = T[i::K]\n",
        "    ans += dp(now)\n",
        "print(ans)"
      ],
      "execution_count": null,
      "outputs": [
        {
          "output_type": "stream",
          "name": "stdout",
          "text": [
            "27\n"
          ]
        }
      ]
    },
    {
      "cell_type": "markdown",
      "metadata": {
        "id": "1BuZetVNRwGS"
      },
      "source": [
        "### 貪欲法"
      ]
    },
    {
      "cell_type": "code",
      "metadata": {
        "colab": {
          "base_uri": "https://localhost:8080/"
        },
        "id": "xMtA-uvTRxGg",
        "outputId": "c782d786-6b97-4369-8585-e37d8373937f"
      },
      "source": [
        "N, K = map(int, input().split())\n",
        "R, S, P = map(int, input().split())\n",
        "T = str(input())"
      ],
      "execution_count": 1,
      "outputs": [
        {
          "name": "stdout",
          "output_type": "stream",
          "text": [
            "5 2\n",
            "8 7 6\n",
            "rsrpr\n"
          ]
        }
      ]
    },
    {
      "cell_type": "markdown",
      "metadata": {
        "id": "4nwi4XkxSnnw"
      },
      "source": [
        "r : グー 0\n",
        "\n",
        "s : ちょき 1\n",
        "\n",
        "p : パー 2"
      ]
    },
    {
      "cell_type": "code",
      "metadata": {
        "id": "AbVunRxAThKn"
      },
      "source": [
        "points = {\"r\":R, \"s\":S, \"p\":P}"
      ],
      "execution_count": null,
      "outputs": []
    },
    {
      "cell_type": "code",
      "metadata": {
        "id": "VP3pYtKSR01w"
      },
      "source": [
        "def greedy(t):\n",
        "    player = [0] * len(t)\n",
        "    if t[0] == \"r\": player[0] = \"p\"\n",
        "    if t[0] == \"s\": player[0] = \"r\"\n",
        "    if t[0] == \"p\": player[0] = \"s\"\n",
        "    now = 1\n",
        "    while True:\n",
        "        if now == len(t): break\n",
        "        # 筐体の手が前の手と同じ\n",
        "        if t[now - 1] == t[now]:\n",
        "            # 前は勝てない手をだしたとき, 今回は勝てる\n",
        "            if player[now - 1] == None:\n",
        "                if t[now] == \"r\": player[now] = \"p\"\n",
        "                if t[now] == \"s\": player[now] = \"r\"\n",
        "                if t[now] == \"p\": player[now] = \"s\"\n",
        "            else:\n",
        "                player[now] = None\n",
        "        else:\n",
        "            # 筐体の手が前の手と違うなら絶対勝てる\n",
        "            if t[now] == \"r\": player[now] = \"p\"\n",
        "            if t[now] == \"s\": player[now] = \"r\"\n",
        "            if t[now] == \"p\": player[now] = \"s\"\n",
        "        now += 1\n",
        "    p = 0\n",
        "    for s in player:\n",
        "        if s != None:\n",
        "            p += points[s]\n",
        "    return p"
      ],
      "execution_count": null,
      "outputs": []
    },
    {
      "cell_type": "code",
      "metadata": {
        "colab": {
          "base_uri": "https://localhost:8080/"
        },
        "id": "n_exw90XRxxh",
        "outputId": "09fbc577-bc30-4d83-eb8a-eaf41c5f7a4e"
      },
      "source": [
        "ans = 0\n",
        "for i in range(K):\n",
        "    now = T[i::K]\n",
        "    print(now)\n",
        "    ans += greedy(now)\n",
        "print(ans)"
      ],
      "execution_count": 2,
      "outputs": [
        {
          "output_type": "stream",
          "name": "stdout",
          "text": [
            "rrr\n",
            "sp\n"
          ]
        }
      ]
    },
    {
      "cell_type": "code",
      "metadata": {
        "id": "E1hBi85jSABn"
      },
      "source": [
        ""
      ],
      "execution_count": null,
      "outputs": []
    }
  ]
}