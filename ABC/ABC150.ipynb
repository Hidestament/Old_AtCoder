{
  "nbformat": 4,
  "nbformat_minor": 0,
  "metadata": {
    "colab": {
      "name": "ABC150.ipynb",
      "provenance": [],
      "collapsed_sections": [],
      "authorship_tag": "ABX9TyNY+DWOwWMgee0rn6gv6UMw",
      "include_colab_link": true
    },
    "kernelspec": {
      "name": "python3",
      "display_name": "Python 3"
    },
    "language_info": {
      "name": "python"
    }
  },
  "cells": [
    {
      "cell_type": "markdown",
      "metadata": {
        "id": "view-in-github",
        "colab_type": "text"
      },
      "source": [
        "<a href=\"https://colab.research.google.com/github/Hidestament/AtCoder/blob/main/ABC/ABC150.ipynb\" target=\"_parent\"><img src=\"https://colab.research.google.com/assets/colab-badge.svg\" alt=\"Open In Colab\"/></a>"
      ]
    },
    {
      "cell_type": "markdown",
      "metadata": {
        "id": "Nmrar3PvDZWZ"
      },
      "source": [
        "# [AtCoder Beginner Contest 150](https://atcoder.jp/contests/abc150/tasks/abc150_a)"
      ]
    },
    {
      "cell_type": "markdown",
      "metadata": {
        "id": "MIR8zSzXDhnx"
      },
      "source": [
        "## [A - 500 Yen Coins](https://atcoder.jp/contests/abc150/tasks/abc150_a)"
      ]
    },
    {
      "cell_type": "code",
      "metadata": {
        "id": "tdnWcI3rDWdO"
      },
      "source": [
        "K, X = map(int, input().split())\n",
        "print(\"Yes\" if 500 * K >= X else \"No\")"
      ],
      "execution_count": null,
      "outputs": []
    },
    {
      "cell_type": "markdown",
      "metadata": {
        "id": "GXLA1HCUDgqs"
      },
      "source": [
        "## [B - Count ABC](https://atcoder.jp/contests/abc150/tasks/abc150_b)"
      ]
    },
    {
      "cell_type": "code",
      "metadata": {
        "colab": {
          "base_uri": "https://localhost:8080/"
        },
        "id": "j733K_vaDmbH",
        "outputId": "e139ebf0-cf0d-46d3-f6cb-18c070fce25d"
      },
      "source": [
        "N = int(input())\n",
        "S = str(input())\n",
        "print(S.count(\"ABC\"))"
      ],
      "execution_count": null,
      "outputs": [
        {
          "output_type": "stream",
          "name": "stdout",
          "text": [
            "33\n",
            "ABCCABCBABCCABACBCBBABCBCBCBCABCB\n",
            "5\n"
          ]
        }
      ]
    },
    {
      "cell_type": "markdown",
      "metadata": {
        "id": "QO96osp6DzkF"
      },
      "source": [
        "## [C - Count Order](https://atcoder.jp/contests/abc150/tasks/abc150_c)"
      ]
    },
    {
      "cell_type": "code",
      "metadata": {
        "colab": {
          "base_uri": "https://localhost:8080/"
        },
        "id": "-fHXsh7SDqUo",
        "outputId": "1eb954ba-1f83-4bf9-d698-13586b539c0f"
      },
      "source": [
        "from itertools import permutations\n",
        "N = int(input())\n",
        "P = tuple(map(int, input().split()))\n",
        "Q = tuple(map(int, input().split()))"
      ],
      "execution_count": null,
      "outputs": [
        {
          "output_type": "execute_result",
          "data": {
            "text/plain": [
              "2"
            ]
          },
          "metadata": {},
          "execution_count": 2
        }
      ]
    },
    {
      "cell_type": "code",
      "metadata": {
        "id": "hN0EcLaaDtz3"
      },
      "source": [
        "dictorder = list(permutations(range(1, N + 1)))\n",
        "ans = abs(dictorder.index(P) - dictorder.index(Q))\n",
        "print(ans)"
      ],
      "execution_count": null,
      "outputs": []
    },
    {
      "cell_type": "markdown",
      "metadata": {
        "id": "jaPVn5G9FC49"
      },
      "source": [
        "## [D - Semi Common Multiple](https://atcoder.jp/contests/abc150/tasks/abc150_d)"
      ]
    },
    {
      "cell_type": "code",
      "source": [
        "N, M = map(int, input().split())\n",
        "A = list(map(lambda x:int(x)//2, input().split()))"
      ],
      "metadata": {
        "colab": {
          "base_uri": "https://localhost:8080/"
        },
        "id": "g0KYJZUjQf7z",
        "outputId": "060a9094-2cb0-49af-a091-8e506a34f30f"
      },
      "execution_count": 8,
      "outputs": [
        {
          "name": "stdout",
          "output_type": "stream",
          "text": [
            "2 50\n",
            "6 10\n"
          ]
        }
      ]
    },
    {
      "cell_type": "code",
      "source": [
        "# A[i]に含まれている2の個数が一緒か確認する\n",
        "two_primes = [0] * N\n",
        "for i in range(N):\n",
        "    cnt = 0\n",
        "    while A[i] % 2 == 0:\n",
        "        cnt += 1\n",
        "        A[i] //= 2\n",
        "    two_primes[i] = cnt"
      ],
      "metadata": {
        "id": "IoVTrnb0Qf4m"
      },
      "execution_count": 9,
      "outputs": []
    },
    {
      "cell_type": "code",
      "source": [
        "# 2の倍数の個数が異なっていた場合は, Xは存在しない\n",
        "flag = False\n",
        "if all(two_primes[0] == two_primes[i] for i in range(N)):\n",
        "    flag = True"
      ],
      "metadata": {
        "id": "cSXkzrSfRQqq"
      },
      "execution_count": null,
      "outputs": []
    },
    {
      "cell_type": "code",
      "source": [
        "from math import gcd\n",
        "lcm = lambda x, y: x * y // gcd(x, y)"
      ],
      "metadata": {
        "id": "bpjuc_8rQf1k"
      },
      "execution_count": 11,
      "outputs": []
    },
    {
      "cell_type": "code",
      "source": [
        "# 全てのlcmを計算する\n",
        "all_lcm = 1\n",
        "for i in range(N):\n",
        "    all_lcm = lcm(all_lcm, A[i])\n",
        "all_lcm *= pow(2, two_primes[0])"
      ],
      "metadata": {
        "id": "PgHmbRp8Qfyx"
      },
      "execution_count": null,
      "outputs": []
    },
    {
      "cell_type": "code",
      "source": [
        "print((M // all_lcm) - (M // (2 * all_lcm)) if flag else 0)"
      ],
      "metadata": {
        "colab": {
          "base_uri": "https://localhost:8080/"
        },
        "id": "8oB-OjM_Qfvj",
        "outputId": "8775b686-0db6-49a1-9697-99f4d8fd3b33"
      },
      "execution_count": 13,
      "outputs": [
        {
          "output_type": "execute_result",
          "data": {
            "text/plain": [
              "0"
            ]
          },
          "metadata": {},
          "execution_count": 13
        }
      ]
    }
  ]
}