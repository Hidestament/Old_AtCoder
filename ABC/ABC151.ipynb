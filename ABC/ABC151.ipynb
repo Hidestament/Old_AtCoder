{
  "nbformat": 4,
  "nbformat_minor": 0,
  "metadata": {
    "colab": {
      "name": "ABC151.ipynb",
      "provenance": [],
      "authorship_tag": "ABX9TyOoEv85OHtGkVxZnVlkWJ7b",
      "include_colab_link": true
    },
    "kernelspec": {
      "name": "python3",
      "display_name": "Python 3"
    },
    "language_info": {
      "name": "python"
    }
  },
  "cells": [
    {
      "cell_type": "markdown",
      "metadata": {
        "id": "view-in-github",
        "colab_type": "text"
      },
      "source": [
        "<a href=\"https://colab.research.google.com/github/Hidestament/AtCoder/blob/main/ABC/ABC151.ipynb\" target=\"_parent\"><img src=\"https://colab.research.google.com/assets/colab-badge.svg\" alt=\"Open In Colab\"/></a>"
      ]
    },
    {
      "cell_type": "markdown",
      "metadata": {
        "id": "AdPIvWyRO8Zo"
      },
      "source": [
        "# [AtCoder Beginner Contest 151](https://atcoder.jp/contests/abc151)"
      ]
    },
    {
      "cell_type": "markdown",
      "metadata": {
        "id": "y0e-h177O-Ii"
      },
      "source": [
        "## [A - Next Alphabet](https://atcoder.jp/contests/abc151/tasks/abc151_a)"
      ]
    },
    {
      "cell_type": "code",
      "metadata": {
        "colab": {
          "base_uri": "https://localhost:8080/"
        },
        "id": "7wICveekO68c",
        "outputId": "128e5647-1fe6-4712-c877-4c1b686c0a37"
      },
      "source": [
        "C = str(input())\n",
        "print(chr(ord(C) + 1))"
      ],
      "execution_count": null,
      "outputs": [
        {
          "name": "stdout",
          "output_type": "stream",
          "text": [
            "a\n"
          ]
        }
      ]
    },
    {
      "cell_type": "markdown",
      "metadata": {
        "id": "NH2DhXMoPKrx"
      },
      "source": [
        "## [B - Achieve the Goal](https://atcoder.jp/contests/abc151/tasks/abc151_b)"
      ]
    },
    {
      "cell_type": "code",
      "metadata": {
        "colab": {
          "base_uri": "https://localhost:8080/"
        },
        "id": "hjf110I4PDN9",
        "outputId": "9ea877df-46f7-4dc4-fad0-d368fa683ed7"
      },
      "source": [
        "N, K, M = map(int, input().split())\n",
        "A = list(map(int, input().split()))\n",
        "s = sum(A)\n",
        "border = N * M - s\n",
        "if border <= 0:\n",
        "    print(0)\n",
        "elif border > K:\n",
        "    print(-1)\n",
        "else:\n",
        "    print(border)"
      ],
      "execution_count": null,
      "outputs": [
        {
          "output_type": "stream",
          "name": "stdout",
          "text": [
            "4 100 60\n",
            "100 100 100\n",
            "-60\n"
          ]
        }
      ]
    },
    {
      "cell_type": "markdown",
      "metadata": {
        "id": "2KQSH6u5P2nP"
      },
      "source": [
        "## [C - Welcome to AtCoder](https://atcoder.jp/contests/abc151/tasks/abc151_c)"
      ]
    },
    {
      "cell_type": "code",
      "metadata": {
        "colab": {
          "base_uri": "https://localhost:8080/"
        },
        "id": "qERwMxToPF7m",
        "outputId": "b67cf687-d74d-400e-a524-bc4cd746758e"
      },
      "source": [
        "N, M = map(int, input().split())\n",
        "ac_cnt = [0] * N\n",
        "prob = [[] for _ in range(N)]\n",
        "for _ in range(M):\n",
        "    p, s = input().split()\n",
        "    p = int(p) - 1\n",
        "    if s == \"AC\":\n",
        "        ac_cnt[p] += 1\n",
        "    prob[p].append(s)"
      ],
      "execution_count": null,
      "outputs": [
        {
          "name": "stdout",
          "output_type": "stream",
          "text": [
            "2 5\n",
            "1 WA\n",
            "1 AC\n",
            "2 WA\n",
            "2 AC\n",
            "2 WA\n"
          ]
        }
      ]
    },
    {
      "cell_type": "code",
      "metadata": {
        "id": "i_CRioZVQ8ls"
      },
      "source": [
        "from itertools import groupby\n",
        "penalty = 0\n",
        "ac = 0\n",
        "for i in range(N):\n",
        "    if ac_cnt[i] >= 1:\n",
        "        ac += 1\n",
        "        for s, num in groupby(prob[i]):\n",
        "            if s == \"WA\":\n",
        "                num = len(list(num))\n",
        "                penalty += num\n",
        "                break\n",
        "            else:\n",
        "                break"
      ],
      "execution_count": null,
      "outputs": []
    },
    {
      "cell_type": "code",
      "metadata": {
        "colab": {
          "base_uri": "https://localhost:8080/"
        },
        "id": "XyFL0hFDRB0z",
        "outputId": "b4981874-2d36-4fa8-f16a-f70385e9c330"
      },
      "source": [
        "print(ac, penalty)"
      ],
      "execution_count": null,
      "outputs": [
        {
          "output_type": "stream",
          "name": "stdout",
          "text": [
            "2 2\n"
          ]
        }
      ]
    },
    {
      "cell_type": "markdown",
      "metadata": {
        "id": "Yei7vJfMSoXF"
      },
      "source": [
        "## [D - Maze Master](https://atcoder.jp/contests/abc151/tasks/abc151_d)"
      ]
    },
    {
      "cell_type": "markdown",
      "metadata": {
        "id": "3j1eJuPtypJZ"
      },
      "source": [
        "BFSで実装"
      ]
    },
    {
      "cell_type": "code",
      "metadata": {
        "colab": {
          "base_uri": "https://localhost:8080/"
        },
        "id": "uIUutriLvuw_",
        "outputId": "5fda8309-9f50-407f-8f47-98c545face32"
      },
      "source": [
        "H, W = map(int, input().split())\n",
        "H += 2\n",
        "W += 2\n",
        "\n",
        "grid = [\"#\" * W]\n",
        "for _ in range(H - 2):\n",
        "    g = input()\n",
        "    grid.append(\"#\" + g + \"#\")\n",
        "grid.append(\"#\" * W)"
      ],
      "execution_count": 15,
      "outputs": [
        {
          "name": "stdout",
          "output_type": "stream",
          "text": [
            "3 3\n",
            "...\n",
            "...\n",
            "...\n"
          ]
        }
      ]
    },
    {
      "cell_type": "code",
      "metadata": {
        "id": "wE5qkFljvuuY"
      },
      "source": [
        "INF = 10**10"
      ],
      "execution_count": 18,
      "outputs": []
    },
    {
      "cell_type": "code",
      "metadata": {
        "id": "npebSNq-0D-S"
      },
      "source": [
        "from collections import deque\n",
        "def grid_bfs(sh, sw):\n",
        "    mh = [0, 1, -1, 0]\n",
        "    mw = [1, 0, 0, -1]\n",
        "    dist = [[INF] * W for _ in range(H)]\n",
        "    dq = deque()\n",
        "    dq.append([0, sh, sw])\n",
        "    dist[sh][sw] = 0\n",
        "    while dq:\n",
        "        c, h, w = dq.popleft()\n",
        "        for dh, dw in zip(mh, mw):\n",
        "            nh, nw = h + dh, w + dw\n",
        "            if grid[nh][nw] == \"#\": continue\n",
        "            if c + 1 < dist[nh][nw]:\n",
        "                dist[nh][nw] = c + 1\n",
        "                dq.append([c+1, nh, nw])\n",
        "    return max(dist[i][j] for i in range(H) for j in range(W) if dist[i][j] != INF)"
      ],
      "execution_count": 24,
      "outputs": []
    },
    {
      "cell_type": "code",
      "metadata": {
        "id": "jqGvtAwTvur1"
      },
      "source": [
        "ans = 0\n",
        "for i in range(H):\n",
        "    for j in range(W):\n",
        "        if grid[i][j] == \".\":\n",
        "            ans = max(ans, grid_bfs(i, j))\n",
        "print(ans)"
      ],
      "execution_count": 20,
      "outputs": []
    },
    {
      "cell_type": "markdown",
      "metadata": {
        "id": "ItH3Y-rSWJQ9"
      },
      "source": [
        "## [E - Max-Min Sums](https://atcoder.jp/contests/abc151/tasks/abc151_e)"
      ]
    },
    {
      "cell_type": "code",
      "metadata": {
        "id": "fp6njj3J69fq"
      },
      "source": [
        "N, K = map(int, input().split())\n",
        "A = list(map(int, input().split()))\n",
        "mod = 10**9 + 7"
      ],
      "execution_count": null,
      "outputs": []
    },
    {
      "cell_type": "code",
      "metadata": {
        "id": "UHZYHB4h69c8"
      },
      "source": [
        "fact = [1] * (N+1) # fact[i] = i! % mod\n",
        "inv = [1] * (N+1) # inv[i] = i^-1 % mod, factinvの計算用\n",
        "inv[0] = 0\n",
        "factinv = [1] * (N+1) # factinv[i] = (i!)^-1 % mod\n",
        "\n",
        "for i in range(2, N+1):\n",
        "    fact[i] = (fact[i-1] * i) % mod\n",
        "    inv[i] = (-inv[mod % i] * (mod // i)) % mod\n",
        "    factinv[i] = (factinv[i-1] * inv[i]) % mod\n",
        "\n",
        "def cmb_mod(n, r):\n",
        "    if (r < 0) or (n < r):\n",
        "        return 0\n",
        "    r = min(r, n-r)\n",
        "    return fact[n] * factinv[r] * factinv[n-r] % mod"
      ],
      "execution_count": null,
      "outputs": []
    },
    {
      "cell_type": "code",
      "metadata": {
        "id": "kZFA6dYT780G"
      },
      "source": [
        "ans = 0\n",
        "A.sort()\n",
        "for i in range(N):\n",
        "    ans += A[i] * cmb_mod(i, K-1)\n",
        "    ans %= mod\n",
        "\n",
        "A.sort(reverse=True)\n",
        "for i in range(N):\n",
        "    ans -= A[i] * cmb_mod(i, K-1)\n",
        "    ans %= mod\n",
        "\n",
        "print(ans % mod)"
      ],
      "execution_count": null,
      "outputs": []
    }
  ]
}