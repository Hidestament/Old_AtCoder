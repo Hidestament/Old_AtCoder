{
  "nbformat": 4,
  "nbformat_minor": 0,
  "metadata": {
    "colab": {
      "name": "ABC152.ipynb",
      "provenance": [],
      "collapsed_sections": [],
      "authorship_tag": "ABX9TyMfuenWtEi1/fCkN9L5yneK",
      "include_colab_link": true
    },
    "kernelspec": {
      "name": "python3",
      "display_name": "Python 3"
    },
    "language_info": {
      "name": "python"
    }
  },
  "cells": [
    {
      "cell_type": "markdown",
      "metadata": {
        "id": "view-in-github",
        "colab_type": "text"
      },
      "source": [
        "<a href=\"https://colab.research.google.com/github/Hidestament/AtCoder/blob/main/ABC/ABC152.ipynb\" target=\"_parent\"><img src=\"https://colab.research.google.com/assets/colab-badge.svg\" alt=\"Open In Colab\"/></a>"
      ]
    },
    {
      "cell_type": "markdown",
      "source": [
        "# [AtCoder Beginner Contest 152](https://atcoder.jp/contests/abc152)"
      ],
      "metadata": {
        "id": "cJ4MCsMCEccB"
      }
    },
    {
      "cell_type": "markdown",
      "source": [
        "## [A - AC or WA](https://atcoder.jp/contests/abc152/tasks/abc152_a)"
      ],
      "metadata": {
        "id": "R7RSIs01EfFF"
      }
    },
    {
      "cell_type": "code",
      "execution_count": null,
      "metadata": {
        "id": "Pkh98pIPEa8m"
      },
      "outputs": [],
      "source": [
        "N, M = map(int, input().split())\n",
        "print(\"Yes\" if N == M else \"No\")"
      ]
    },
    {
      "cell_type": "markdown",
      "source": [
        "## [B - Comparing Strings](https://atcoder.jp/contests/abc152/tasks/abc152_b)"
      ],
      "metadata": {
        "id": "EUZBmomuEvlH"
      }
    },
    {
      "cell_type": "code",
      "source": [
        "a, b = map(int, input().split())\n",
        "print(min(str(a) * b, str(b) * a))"
      ],
      "metadata": {
        "id": "27SM2CNZEy0N"
      },
      "execution_count": null,
      "outputs": []
    },
    {
      "cell_type": "markdown",
      "source": [
        "## [C - Low Elements](https://atcoder.jp/contests/abc152/tasks/abc152_c)"
      ],
      "metadata": {
        "id": "LTvTCbOnFEBu"
      }
    },
    {
      "cell_type": "code",
      "source": [
        "N = int(input())\n",
        "P = list(map(int, input().split()))"
      ],
      "metadata": {
        "id": "QaJ9ckaQFGke"
      },
      "execution_count": null,
      "outputs": []
    },
    {
      "cell_type": "code",
      "source": [
        "ans = 0\n",
        "now_min = N + 10\n",
        "for p in P:\n",
        "    if p < now_min:\n",
        "        ans += 1\n",
        "    now_min = min(now_min, p)\n",
        "print(ans)"
      ],
      "metadata": {
        "id": "XaCdoWRWFPYB"
      },
      "execution_count": null,
      "outputs": []
    },
    {
      "cell_type": "markdown",
      "source": [
        "## [D - Handstand 2](https://atcoder.jp/contests/abc152/tasks/abc152_d)"
      ],
      "metadata": {
        "id": "PqRbJElJF4bK"
      }
    },
    {
      "cell_type": "code",
      "source": [
        "N = int(input())"
      ],
      "metadata": {
        "id": "WLyHDDqEF7f5",
        "colab": {
          "base_uri": "https://localhost:8080/"
        },
        "outputId": "71d5a51f-2cd9-4512-b8ad-1c538e911d7c"
      },
      "execution_count": null,
      "outputs": [
        {
          "name": "stdout",
          "output_type": "stream",
          "text": [
            "25\n"
          ]
        }
      ]
    },
    {
      "cell_type": "code",
      "source": [
        "# DP[top][bottom]: 先頭がtopで末尾がbottomであるものの個数\n",
        "DP = [[0] * 10 for _ in range(10)]"
      ],
      "metadata": {
        "id": "QL3HH3FyIx1O"
      },
      "execution_count": null,
      "outputs": []
    },
    {
      "cell_type": "code",
      "source": [
        "for i in range(1, N+1):\n",
        "    top, bottom = int(str(i)[0]), int(str(i)[-1])\n",
        "    DP[top][bottom] += 1"
      ],
      "metadata": {
        "id": "kwoUYyGMHt7b"
      },
      "execution_count": null,
      "outputs": []
    },
    {
      "cell_type": "code",
      "source": [
        "ans = 0\n",
        "for top in range(1, 10):\n",
        "    for bottom in range(1, 10):\n",
        "        ans += DP[top][bottom] * DP[bottom][top]\n",
        "print(ans)"
      ],
      "metadata": {
        "id": "NmQ-TNo2F_Md",
        "colab": {
          "base_uri": "https://localhost:8080/"
        },
        "outputId": "1fa5f122-4eea-422d-e8d9-61c14725605c"
      },
      "execution_count": null,
      "outputs": [
        {
          "output_type": "stream",
          "name": "stdout",
          "text": [
            "17\n"
          ]
        }
      ]
    },
    {
      "cell_type": "markdown",
      "source": [
        "## [E - Flatten](https://atcoder.jp/contests/abc152/tasks/abc152_e)"
      ],
      "metadata": {
        "id": "QVop2pMXJgqY"
      }
    },
    {
      "cell_type": "markdown",
      "source": [
        "### とりあえず愚直解法\n",
        "全てのA[i] * B[i] の値を同じにすれば良いので, 最小公倍数 // A[i] が B[i]の値になる。\n",
        "\n",
        "これを愚直に行う\n",
        "\n",
        "-> TLE"
      ],
      "metadata": {
        "id": "ODqTlDWJNSEq"
      }
    },
    {
      "cell_type": "code",
      "source": [
        "N = int(input())\n",
        "A = list(map(int, input().split()))\n",
        "mod = 10**9 + 7"
      ],
      "metadata": {
        "colab": {
          "base_uri": "https://localhost:8080/"
        },
        "id": "4xli_lh5G0wh",
        "outputId": "85f6a5ec-93bb-45f6-8103-e66b5fceb2f2"
      },
      "execution_count": null,
      "outputs": [
        {
          "name": "stdout",
          "output_type": "stream",
          "text": [
            "3\n",
            "1000000 999999 999998\n"
          ]
        }
      ]
    },
    {
      "cell_type": "code",
      "source": [
        "from math import gcd\n",
        "lcm = lambda a, b: a * b // gcd(a, b)\n",
        "all_lcm = 1\n",
        "for i in range(N):\n",
        "    all_lcm = lcm(all_lcm, A[i])"
      ],
      "metadata": {
        "id": "LVuY7TbcKIWK"
      },
      "execution_count": null,
      "outputs": []
    },
    {
      "cell_type": "code",
      "source": [
        "ans = 0\n",
        "for i in range(N):\n",
        "    ans += all_lcm // A[i]\n",
        "    ans %= mod\n",
        "print(ans)"
      ],
      "metadata": {
        "colab": {
          "base_uri": "https://localhost:8080/"
        },
        "id": "AouQrmciOWKm",
        "outputId": "e87db74e-351d-41d0-e0ef-83eef1ae4218"
      },
      "execution_count": null,
      "outputs": [
        {
          "output_type": "stream",
          "name": "stdout",
          "text": [
            "996989508\n"
          ]
        }
      ]
    },
    {
      "cell_type": "markdown",
      "source": [
        "### 最後の答えの計算のときに, 逆元を用いてみる\n",
        "all_lcm / A[i] を計算する必要があるが, mod上で求めるので, 逆元を使う\n",
        "\n",
        "$$\n",
        "(lcm / A[i] ) \\ mod = lcm * A[i]^{-1} (mod上の)\n",
        "$$\n",
        "\n",
        "で求められる.\n",
        "これはPythonだと, `poI(A[i], -1, mod)` とすれば良い.\n",
        "\n",
        "-> Python で AC"
      ],
      "metadata": {
        "id": "SZdZQzHSQEZf"
      }
    },
    {
      "cell_type": "code",
      "source": [
        "N = int(input())\n",
        "A = list(map(int, input().split()))\n",
        "mod = 10**9 + 7"
      ],
      "metadata": {
        "id": "HTIjYWI5QJ9v"
      },
      "execution_count": null,
      "outputs": []
    },
    {
      "cell_type": "code",
      "source": [
        "from math import gcd\n",
        "lcm = lambda a, b: a * b // gcd(a, b)\n",
        "all_lcm = 1\n",
        "for i in range(N):\n",
        "    all_lcm = lcm(all_lcm, A[i])"
      ],
      "metadata": {
        "id": "v9u_hAfzQKM3"
      },
      "execution_count": null,
      "outputs": []
    },
    {
      "cell_type": "code",
      "source": [
        "ans = 0\n",
        "for i in range(N):\n",
        "    ans += all_lcm * pow(A[i], -1, mod)\n",
        "    ans %= mod\n",
        "print(ans)"
      ],
      "metadata": {
        "id": "27FHDPhSQLFl"
      },
      "execution_count": null,
      "outputs": []
    }
  ]
}