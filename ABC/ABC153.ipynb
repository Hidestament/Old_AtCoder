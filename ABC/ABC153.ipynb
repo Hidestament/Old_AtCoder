{
  "nbformat": 4,
  "nbformat_minor": 0,
  "metadata": {
    "colab": {
      "name": "ABC153.ipynb",
      "provenance": [],
      "collapsed_sections": [],
      "authorship_tag": "ABX9TyPhyR0PsAbUpKXyGcxXkiEO",
      "include_colab_link": true
    },
    "kernelspec": {
      "name": "python3",
      "display_name": "Python 3"
    },
    "language_info": {
      "name": "python"
    }
  },
  "cells": [
    {
      "cell_type": "markdown",
      "metadata": {
        "id": "view-in-github",
        "colab_type": "text"
      },
      "source": [
        "<a href=\"https://colab.research.google.com/github/Hidestament/AtCoder/blob/main/ABC/ABC153.ipynb\" target=\"_parent\"><img src=\"https://colab.research.google.com/assets/colab-badge.svg\" alt=\"Open In Colab\"/></a>"
      ]
    },
    {
      "cell_type": "markdown",
      "metadata": {
        "id": "4_0hLBAz7Tia"
      },
      "source": [
        "# [AtCoder Beginner Contest 153](https://atcoder.jp/contests/abc153)"
      ]
    },
    {
      "cell_type": "markdown",
      "metadata": {
        "id": "M0ClqN_s7VxX"
      },
      "source": [
        "## [A - Serval vs Monster](https://atcoder.jp/contests/abc153/tasks/abc153_a)"
      ]
    },
    {
      "cell_type": "code",
      "metadata": {
        "colab": {
          "base_uri": "https://localhost:8080/"
        },
        "id": "_wb6SbSI7R1A",
        "outputId": "c5a9610d-de41-4000-8309-02077bca65ef"
      },
      "source": [
        "H, A = map(int, input().split())\n",
        "print(-(-H//A))"
      ],
      "execution_count": null,
      "outputs": [
        {
          "output_type": "stream",
          "name": "stdout",
          "text": [
            "1 10000\n",
            "1\n"
          ]
        }
      ]
    },
    {
      "cell_type": "markdown",
      "metadata": {
        "id": "afPxWrEO7jHb"
      },
      "source": [
        "## [B - Common Raccoon vs Monster](https://atcoder.jp/contests/abc153/tasks/abc153_b)"
      ]
    },
    {
      "cell_type": "code",
      "metadata": {
        "id": "fc65guVS7eQ2"
      },
      "source": [
        "H, N = map(int, input().split())\n",
        "A = list(map(int, input().split()))\n",
        "s = sum(A)\n",
        "print(\"Yes\" if s >= H else \"No\")"
      ],
      "execution_count": null,
      "outputs": []
    },
    {
      "cell_type": "markdown",
      "metadata": {
        "id": "fDfSi7ji72x8"
      },
      "source": [
        "## [C - Fennec vs Monste](https://atcoder.jp/contests/abc153/tasks/abc153_c)"
      ]
    },
    {
      "cell_type": "code",
      "metadata": {
        "colab": {
          "base_uri": "https://localhost:8080/"
        },
        "id": "qCZqLRBS76J1",
        "outputId": "c28a2af9-d520-4610-aefe-fd0cdaa7b99a"
      },
      "source": [
        "N, K = map(int, input().split())\n",
        "H = list(map(int, input().split()))\n",
        "H.sort(reverse=True)"
      ],
      "execution_count": null,
      "outputs": [
        {
          "name": "stdout",
          "output_type": "stream",
          "text": [
            "8 9\n",
            "7 9 3 2 3 8 4 6\n"
          ]
        }
      ]
    },
    {
      "cell_type": "code",
      "metadata": {
        "colab": {
          "base_uri": "https://localhost:8080/"
        },
        "id": "dE2NHFl48Jne",
        "outputId": "00499458-89c9-4583-8494-1a3a48e96c5b"
      },
      "source": [
        "ans = 0\n",
        "for i in range(N):\n",
        "    if i < K: continue\n",
        "    ans += H[i]\n",
        "print(ans)"
      ],
      "execution_count": null,
      "outputs": [
        {
          "output_type": "stream",
          "name": "stdout",
          "text": [
            "0\n"
          ]
        }
      ]
    },
    {
      "cell_type": "markdown",
      "metadata": {
        "id": "vzA7kpNK8WXl"
      },
      "source": [
        "## [D - Caracal vs Monster](https://atcoder.jp/contests/abc153/tasks/abc153_d)"
      ]
    },
    {
      "cell_type": "code",
      "metadata": {
        "colab": {
          "base_uri": "https://localhost:8080/"
        },
        "id": "Be4qaj_V8SCO",
        "outputId": "d7a8b788-0566-41de-cd97-b4186ef207fa"
      },
      "source": [
        "H = int(input())"
      ],
      "execution_count": null,
      "outputs": [
        {
          "name": "stdout",
          "output_type": "stream",
          "text": [
            "1000000000000\n"
          ]
        }
      ]
    },
    {
      "cell_type": "code",
      "metadata": {
        "id": "3Nejjm7q9JbE"
      },
      "source": [
        "monster = 1\n",
        "attack = 0\n",
        "while True:\n",
        "    attack += monster\n",
        "    H //= 2\n",
        "    monster *= 2\n",
        "    if H == 0: break"
      ],
      "execution_count": null,
      "outputs": []
    },
    {
      "cell_type": "code",
      "metadata": {
        "colab": {
          "base_uri": "https://localhost:8080/"
        },
        "id": "5FQ3jaNZ9QZw",
        "outputId": "c2a342ad-59c2-4752-d817-6996ce98562a"
      },
      "source": [
        "print(attack)"
      ],
      "execution_count": null,
      "outputs": [
        {
          "output_type": "execute_result",
          "data": {
            "text/plain": [
              "1099511627775"
            ]
          },
          "metadata": {},
          "execution_count": 15
        }
      ]
    },
    {
      "cell_type": "markdown",
      "metadata": {
        "id": "iN7zVbSF9wk5"
      },
      "source": [
        "## [E - Crested Ibis vs Monster](https://atcoder.jp/contests/abc153/tasks/abc153_e)"
      ]
    },
    {
      "cell_type": "code",
      "metadata": {
        "id": "1wp__kGP0Bpp"
      },
      "source": [
        "H, N = map(int, input().split())\n",
        "magic = [list(map(int, input().split())) for _ in range(N)]\n",
        "INF = 10**10\n",
        "maxa = max(b for a, b in magic)"
      ],
      "execution_count": null,
      "outputs": []
    },
    {
      "cell_type": "code",
      "metadata": {
        "id": "ZS3lO8rK0BnL"
      },
      "source": [
        "# DP[n][h]: n番目未満の魔法を使用して, 体力をh以上削る際の消費魔力の最小値\n",
        "DP = [[INF] * (H + maxa + 5) for _ in range(N+1)]"
      ],
      "execution_count": null,
      "outputs": []
    },
    {
      "cell_type": "code",
      "metadata": {
        "id": "ILSaxEaj0Bkp"
      },
      "source": [
        "# 初期状態: 0番目以下の魔法を使用して, 体力を0削るのに消費魔力0\n",
        "DP[0][0] = 0"
      ],
      "execution_count": null,
      "outputs": []
    },
    {
      "cell_type": "code",
      "metadata": {
        "id": "78rjKzYT0Bhj"
      },
      "source": [
        "for n in range(1, N+1):\n",
        "    a, b = magic[n-1]\n",
        "    for h in range(H + maxa + 5):\n",
        "        # 魔法i-1を初めて使用するとき\n",
        "        if h - a >= 0:\n",
        "            DP[n][h] = min(DP[n][h], DP[n-1][h - a] + b)\n",
        "        \n",
        "        # 魔法i-1を2回以上しようするとき\n",
        "        if h - a >= 0:\n",
        "            DP[n][h] = min(DP[n][h], DP[n][h-a] + b)\n",
        "\n",
        "        # 魔法i-1を使用しないとき\n",
        "        DP[n][h] = min(DP[n][h], DP[n-1][h])"
      ],
      "execution_count": null,
      "outputs": []
    },
    {
      "cell_type": "code",
      "metadata": {
        "id": "5_EAIAMg0BfA"
      },
      "source": [
        "# 出力: 魔法N以下すべて使って, 体力をH以上削るときの消費魔力の最小値\n",
        "print(min(DP[N][H:]))"
      ],
      "execution_count": null,
      "outputs": []
    },
    {
      "cell_type": "markdown",
      "metadata": {
        "id": "ddKnomSLtOx8"
      },
      "source": [
        "## [F - Silver Fox vs Monster](https://atcoder.jp/contests/abc153/tasks/abc153_f)"
      ]
    },
    {
      "cell_type": "markdown",
      "metadata": {
        "id": "E0RmP9CZUPJz"
      },
      "source": [
        "https://drken1215.hatenablog.com/entry/2020/01/26/234000"
      ]
    },
    {
      "cell_type": "markdown",
      "metadata": {
        "id": "jr8rbxhJT9KK"
      },
      "source": [
        "imos法 + 二分探索"
      ]
    },
    {
      "cell_type": "code",
      "metadata": {
        "id": "VZWa6Nu9CXzd"
      },
      "source": [
        "from bisect import bisect_right\n",
        "N, D, A = map(int, input().split())\n",
        "monsters = [list(map(int, input().split())) for _ in range(N)]\n",
        "monsters.sort(key=lambda x:x[0])\n",
        "points = [monsters[i][0] for i in range(N)]"
      ],
      "execution_count": null,
      "outputs": []
    },
    {
      "cell_type": "code",
      "metadata": {
        "id": "uadeKi1ACXxf"
      },
      "source": [
        "# 爆発を行う区間の配列（imos法用）\n",
        "damages = [0] * (N + 1)\n",
        "ans = 0\n",
        "\n",
        "for m in range(N):\n",
        "    # imos法の更新: 現在考えているモンスターまで更新すれば良い\n",
        "    damages[m] += damages[m-1] \n",
        "    acc_attack = damages[m] # imos法の更新からこれまでの累積攻撃回数を取得\n",
        "    need = -(-max(0, monsters[m][1] - acc_attack * A)//A)\n",
        "    if need:\n",
        "        damages[m] += need\n",
        "        ans += need\n",
        "        ind = bisect_right(points, monsters[m][0] + 2*D) # どのモンスターまで攻撃が及ぶかを2分探索で計算\n",
        "        damages[ind] -= need"
      ],
      "execution_count": null,
      "outputs": []
    },
    {
      "cell_type": "code",
      "metadata": {
        "id": "h86AFVzYCXvE"
      },
      "source": [
        "print(ans)"
      ],
      "execution_count": null,
      "outputs": []
    },
    {
      "cell_type": "markdown",
      "metadata": {
        "id": "KbhbWLf4UBkK"
      },
      "source": [
        "dequeを使ってもできる"
      ]
    },
    {
      "cell_type": "markdown",
      "metadata": {
        "id": "AI8syO18UM-p"
      },
      "source": [
        "https://at274.hatenablog.com/entry/2020/02/01/060000"
      ]
    },
    {
      "cell_type": "code",
      "metadata": {
        "id": "o9glP7Ks7SGc"
      },
      "source": [
        "from collections import deque\n",
        "N, D, A = map(int, input().split())\n",
        "monsters = [list(map(int, input().split())) for _ in range(N)]\n",
        "monsters.sort(key=lambda x:x[0])"
      ],
      "execution_count": null,
      "outputs": []
    },
    {
      "cell_type": "code",
      "metadata": {
        "id": "AOrmfTja7h_R"
      },
      "source": [
        "dq = deque()\n",
        "acc_attack = 0\n",
        "ans = 0\n",
        "for x, h in monsters:\n",
        "    while dq and x > dq[0][0]:\n",
        "        _, num_attack = dq.popleft()\n",
        "        acc_attack -= num_attack\n",
        "    \n",
        "    need = -(-max(0, h - A * acc_attack)//A)\n",
        "    if need:\n",
        "        ans += need\n",
        "        acc_attack += need\n",
        "        dq.append([x + 2*D, need])"
      ],
      "execution_count": null,
      "outputs": []
    },
    {
      "cell_type": "code",
      "metadata": {
        "id": "Vf5cfUyx7h8x"
      },
      "source": [
        "print(ans)"
      ],
      "execution_count": null,
      "outputs": []
    }
  ]
}