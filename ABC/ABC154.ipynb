{
  "nbformat": 4,
  "nbformat_minor": 0,
  "metadata": {
    "colab": {
      "name": "ABC154.ipynb",
      "provenance": [],
      "collapsed_sections": [],
      "authorship_tag": "ABX9TyNjAvzrYBOfRw7OhpUsmoro",
      "include_colab_link": true
    },
    "kernelspec": {
      "name": "python3",
      "display_name": "Python 3"
    },
    "language_info": {
      "name": "python"
    }
  },
  "cells": [
    {
      "cell_type": "markdown",
      "metadata": {
        "id": "view-in-github",
        "colab_type": "text"
      },
      "source": [
        "<a href=\"https://colab.research.google.com/github/Hidestament/AtCoder/blob/main/ABC/ABC154.ipynb\" target=\"_parent\"><img src=\"https://colab.research.google.com/assets/colab-badge.svg\" alt=\"Open In Colab\"/></a>"
      ]
    },
    {
      "cell_type": "markdown",
      "metadata": {
        "id": "Q_-jPI4GPSgZ"
      },
      "source": [
        "# [AtCoder Beginner Contest 154](https://atcoder.jp/contests/abc154)"
      ]
    },
    {
      "cell_type": "markdown",
      "metadata": {
        "id": "DwciEGeyPUiQ"
      },
      "source": [
        "## [A - Remaining Balls](https://atcoder.jp/contests/abc154/tasks/abc154_a)"
      ]
    },
    {
      "cell_type": "code",
      "metadata": {
        "colab": {
          "base_uri": "https://localhost:8080/"
        },
        "id": "o_mb5VD_PN98",
        "outputId": "d4d8e70e-eb4b-4722-9ecd-e504f1240e58"
      },
      "source": [
        "S, T = map(str, input().split())\n",
        "A, B = map(int, input().split())\n",
        "U = str(input())\n",
        "if S == U:\n",
        "    print(A-1, B)\n",
        "else:\n",
        "    print(A, B-1)"
      ],
      "execution_count": null,
      "outputs": [
        {
          "output_type": "stream",
          "name": "stdout",
          "text": [
            "red blue\n",
            "3 4\n",
            "red\n",
            "2 4\n"
          ]
        }
      ]
    },
    {
      "cell_type": "markdown",
      "metadata": {
        "id": "FJDaO2Q5PqZg"
      },
      "source": [
        "## [B - I miss you...](https://atcoder.jp/contests/abc154/tasks/abc154_b)"
      ]
    },
    {
      "cell_type": "code",
      "metadata": {
        "id": "2OmL2BL2PhIB"
      },
      "source": [
        "S = str(input())\n",
        "print(\"x\" * len(S))"
      ],
      "execution_count": null,
      "outputs": []
    },
    {
      "cell_type": "markdown",
      "metadata": {
        "id": "U4YmqIfFPxGK"
      },
      "source": [
        "## [C - Distinct or Not](https://atcoder.jp/contests/abc154/tasks/abc154_c)"
      ]
    },
    {
      "cell_type": "code",
      "metadata": {
        "colab": {
          "base_uri": "https://localhost:8080/"
        },
        "id": "k9gj62H5PzGb",
        "outputId": "27d6bad9-7286-46c0-dd41-a10bebeb4b57"
      },
      "source": [
        "N = int(input())\n",
        "A = list(map(int, input().split()))\n",
        "print(\"YES\" if len(set(A)) == N else \"NO\")"
      ],
      "execution_count": null,
      "outputs": [
        {
          "output_type": "stream",
          "name": "stdout",
          "text": [
            "5\n",
            "2 6 1 4 5\n",
            "Yes\n"
          ]
        }
      ]
    },
    {
      "cell_type": "markdown",
      "metadata": {
        "id": "ki2mM8QmQBZD"
      },
      "source": [
        "## [D - Dice in Line](https://atcoder.jp/contests/abc154/tasks/abc154_d)"
      ]
    },
    {
      "cell_type": "code",
      "metadata": {
        "colab": {
          "base_uri": "https://localhost:8080/"
        },
        "id": "Uglx0gOnP9B1",
        "outputId": "68b33ca8-8304-455d-ce9f-fd0c2c9241aa"
      },
      "source": [
        "N, K = map(int, input().split())\n",
        "P = list(map(int, input().split()))"
      ],
      "execution_count": null,
      "outputs": [
        {
          "name": "stdout",
          "output_type": "stream",
          "text": [
            "5 3\n",
            "1 2 2 4 5\n"
          ]
        }
      ]
    },
    {
      "cell_type": "code",
      "metadata": {
        "id": "JNgtZTVEUnZj"
      },
      "source": [
        "def e_value(n):\n",
        "    return n * (n+1) // 2 / n"
      ],
      "execution_count": null,
      "outputs": []
    },
    {
      "cell_type": "code",
      "metadata": {
        "colab": {
          "base_uri": "https://localhost:8080/"
        },
        "id": "vdxq9ZaOQqIp",
        "outputId": "3d4bb57f-cc63-4fbf-90d5-9ae0a0398d17"
      },
      "source": [
        "now = 0\n",
        "for i in range(K):\n",
        "    now += e_value(P[i])\n",
        "\n",
        "ans = now\n",
        "l, r = 1, K\n",
        "\n",
        "while True:\n",
        "    if r >= N: break\n",
        "    now += e_value(P[r])\n",
        "    now -= e_value(P[l-1])\n",
        "    ans = max(ans, now)\n",
        "    l += 1\n",
        "    r += 1\n",
        "print(ans)"
      ],
      "execution_count": null,
      "outputs": [
        {
          "output_type": "stream",
          "name": "stdout",
          "text": [
            "4.0\n",
            "7.0\n"
          ]
        }
      ]
    },
    {
      "cell_type": "markdown",
      "source": [
        "尺取り法はdequeでやるとバグらなくて良い"
      ],
      "metadata": {
        "id": "lcBOD6tHeT92"
      }
    },
    {
      "cell_type": "code",
      "source": [
        "from collections import deque\n",
        "N, K = map(int, input().split())\n",
        "P = list(map(int, input().split()))"
      ],
      "metadata": {
        "id": "Dou7CGa5eUhJ"
      },
      "execution_count": null,
      "outputs": []
    },
    {
      "cell_type": "code",
      "source": [
        "E = [0] * N\n",
        "for i in range(N):\n",
        "    E[i] = (P[i] + 1)/2"
      ],
      "metadata": {
        "id": "V_08pxL3esAH"
      },
      "execution_count": null,
      "outputs": []
    },
    {
      "cell_type": "code",
      "source": [
        "ans = 0\n",
        "s = 0\n",
        "dq = deque()\n",
        "for e in E:\n",
        "    dq.append(e)\n",
        "    s += e\n",
        "    while dq and len(dq) > K:\n",
        "        rm = dq.popleft()\n",
        "        s -= rm\n",
        "    ans = max(ans, s)"
      ],
      "metadata": {
        "id": "-QOr-qYneUdc"
      },
      "execution_count": null,
      "outputs": []
    },
    {
      "cell_type": "code",
      "source": [
        "print(ans)"
      ],
      "metadata": {
        "id": "Vt-oMeFJeUKj"
      },
      "execution_count": null,
      "outputs": []
    },
    {
      "cell_type": "markdown",
      "metadata": {
        "id": "roO2ailBVMka"
      },
      "source": [
        "## [E - Almost Everywhere Zero](https://atcoder.jp/contests/abc154/tasks/abc154_e)"
      ]
    },
    {
      "cell_type": "markdown",
      "metadata": {
        "id": "0V1O1_XcBZrN"
      },
      "source": [
        "### 貰うDP"
      ]
    },
    {
      "cell_type": "code",
      "metadata": {
        "colab": {
          "base_uri": "https://localhost:8080/"
        },
        "id": "PRpdRawBs4EW",
        "outputId": "2403b374-3167-4d31-dbdc-3a7a91ffc817"
      },
      "source": [
        "N = int(input())\n",
        "K = int(input())\n",
        "dig = len(str(N))"
      ],
      "execution_count": null,
      "outputs": [
        {
          "name": "stdout",
          "output_type": "stream",
          "text": [
            "100\n",
            "1\n"
          ]
        }
      ]
    },
    {
      "cell_type": "code",
      "metadata": {
        "id": "S-EBbR3ys4B_"
      },
      "source": [
        "# DP[i][smaller][k]: i-1桁目以下で0でない数字の個数がkであるものの個数\n",
        "# smaller = 1: Nより小さいと確定している\n",
        "# smaller = 0: 現状Nと同じ\n",
        "DP = [[[0] * (K+1) for _ in range(2)] for _ in range(dig + 1)]"
      ],
      "execution_count": null,
      "outputs": []
    },
    {
      "cell_type": "code",
      "metadata": {
        "id": "eZBmGx9cs3_D"
      },
      "source": [
        "# 初期状態: -1桁目は0としてNと一致しているとする. このとき0以外の使用はk=0の1通り\n",
        "DP[0][0][0] = 1"
      ],
      "execution_count": null,
      "outputs": []
    },
    {
      "cell_type": "code",
      "metadata": {
        "id": "ic3fMvW5s38K"
      },
      "source": [
        "for i in range(1, dig+1):\n",
        "    # 現在考えているNの値\n",
        "    n = int(str(N)[i-1])\n",
        "    for k in range(K+1):\n",
        "        # Nより小さいと確定している場合 = (i桁目で初めて確定する場合) + (i-1桁目で既に確定している場合)\n",
        "        # i桁目で初めて一致: i桁目でnより小さい数を使う\n",
        "        if n != 0:\n",
        "            # i桁目で0を使う場合\n",
        "            DP[i][1][k] += DP[i-1][0][k]\n",
        "            # i桁目で0以外を使う場合: 1,..,n-1 の n-1個使える\n",
        "            if k - 1 >= 0:\n",
        "                DP[i][1][k] += DP[i-1][0][k-1] * (n-1)\n",
        "        \n",
        "        # i-1桁目で既に確定している場合\n",
        "        # i桁目で0を使うとき\n",
        "        DP[i][1][k] += DP[i-1][1][k]\n",
        "        # i桁目で1 ~ 9のどれかを使う場合\n",
        "        if k - 1 >= 0:\n",
        "            DP[i][1][k] += DP[i-1][1][k-1] * 9\n",
        "\n",
        "        # 現状Nと一致している場合: i-1でも一致している場合のみ\n",
        "        # 使える数字はnだけ\n",
        "        if n == 0:\n",
        "            DP[i][0][k] += DP[i-1][0][k]\n",
        "        elif k - 1 >= 0:\n",
        "            DP[i][0][k] += DP[i-1][0][k-1]"
      ],
      "execution_count": null,
      "outputs": []
    },
    {
      "cell_type": "code",
      "metadata": {
        "colab": {
          "base_uri": "https://localhost:8080/"
        },
        "id": "7LSRYPLQs35t",
        "outputId": "fc506635-da7a-41dc-bd8e-11d680d51d2f"
      },
      "source": [
        "# 出力: 今回全て0の場合はk=0となるので, 答えにカウントされないから1引かなくて良い\n",
        "print(DP[dig][0][K] + DP[dig][1][K])"
      ],
      "execution_count": null,
      "outputs": [
        {
          "output_type": "stream",
          "name": "stdout",
          "text": [
            "19\n"
          ]
        }
      ]
    },
    {
      "cell_type": "markdown",
      "metadata": {
        "id": "ds6WmaznBb2A"
      },
      "source": [
        "### 配るDP"
      ]
    },
    {
      "cell_type": "code",
      "metadata": {
        "colab": {
          "base_uri": "https://localhost:8080/"
        },
        "id": "z7TSW1b3Bcw4",
        "outputId": "4de4cd58-9f94-4ebe-e33b-5a9c21555bf8"
      },
      "source": [
        "N = str(input())\n",
        "K = int(input())\n",
        "dig = len(N)"
      ],
      "execution_count": null,
      "outputs": [
        {
          "name": "stdout",
          "output_type": "stream",
          "text": [
            "100\n",
            "1\n"
          ]
        }
      ]
    },
    {
      "cell_type": "code",
      "metadata": {
        "colab": {
          "base_uri": "https://localhost:8080/"
        },
        "id": "TCeKLScZBg5c",
        "outputId": "2dde7b31-4823-42d5-972f-7ee0911214ac"
      },
      "source": [
        "DP = [[[0] * (K+1) for _ in range(2)] for _ in range(dig + 1)]\n",
        "DP[0][0][0] = 1\n",
        "for i in range(dig):\n",
        "    n = int(N[i])\n",
        "    for k in range(K+1):\n",
        "        # smaller(i-1) = 1 -> smaller(i) = 1\n",
        "        if k < K:\n",
        "            DP[i+1][1][k+1] += DP[i][1][k] * 9 # 1 ~ 9の数字を使う\n",
        "        DP[i+1][1][k] += DP[i][1][k] # 0を使う\n",
        "\n",
        "        # smaller(i-1) = 0 -> smaller(i) = 1 (n=0のときはこの遷移はありえない)\n",
        "        if n != 0:\n",
        "            DP[i+1][1][k] += DP[i][0][k] # 0を使う\n",
        "            if k < K:\n",
        "                DP[i+1][1][k+1] += DP[i][0][k] * (n - 1) # 1 ~ n-1のn-1個を使う\n",
        "\n",
        "        # smaller(i-1) = 0 -> smaller(i) = 0\n",
        "        if n == 0:\n",
        "            DP[i+1][0][k] += DP[i][0][k]\n",
        "        else:\n",
        "            if k < K:\n",
        "                DP[i+1][0][k+1] += DP[i][0][k]"
      ],
      "execution_count": null,
      "outputs": [
        {
          "output_type": "stream",
          "name": "stdout",
          "text": [
            "1\n",
            "0\n",
            "0\n"
          ]
        }
      ]
    },
    {
      "cell_type": "code",
      "metadata": {
        "colab": {
          "base_uri": "https://localhost:8080/"
        },
        "id": "GqZ-WxPtEK-R",
        "outputId": "a987a289-5edc-40f2-b5e8-56a47d3deb34"
      },
      "source": [
        "print(DP[dig][0][K] + DP[dig][1][K])"
      ],
      "execution_count": null,
      "outputs": [
        {
          "output_type": "stream",
          "name": "stdout",
          "text": [
            "19\n"
          ]
        }
      ]
    }
  ]
}