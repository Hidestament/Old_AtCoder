{
  "nbformat": 4,
  "nbformat_minor": 0,
  "metadata": {
    "colab": {
      "name": "ABC155.ipynb",
      "provenance": [],
      "authorship_tag": "ABX9TyPflplTP5k1LaW2GS4T98L+",
      "include_colab_link": true
    },
    "kernelspec": {
      "name": "python3",
      "display_name": "Python 3"
    }
  },
  "cells": [
    {
      "cell_type": "markdown",
      "metadata": {
        "id": "view-in-github",
        "colab_type": "text"
      },
      "source": [
        "<a href=\"https://colab.research.google.com/github/Hidestament/AtCoder/blob/main/ABC/ABC155.ipynb\" target=\"_parent\"><img src=\"https://colab.research.google.com/assets/colab-badge.svg\" alt=\"Open In Colab\"/></a>"
      ]
    },
    {
      "cell_type": "markdown",
      "metadata": {
        "id": "cEtSKWEcQW1i"
      },
      "source": [
        "# A - Poor"
      ]
    },
    {
      "cell_type": "code",
      "metadata": {
        "colab": {
          "base_uri": "https://localhost:8080/"
        },
        "id": "CctjBURlQR71",
        "outputId": "d05853b7-892a-431b-baa6-f732e0a7b1af"
      },
      "source": [
        "a,b,c = map(int, input().split())\r\n",
        "A = set([a,b,c])\r\n",
        "print(\"YNeos\"[len(A)!=2::2])"
      ],
      "execution_count": 7,
      "outputs": [
        {
          "output_type": "stream",
          "text": [
            "4 4 4\n",
            "No\n"
          ],
          "name": "stdout"
        }
      ]
    },
    {
      "cell_type": "markdown",
      "metadata": {
        "id": "GcKt0hYzQ928"
      },
      "source": [
        "# B - Papers, Please"
      ]
    },
    {
      "cell_type": "code",
      "metadata": {
        "colab": {
          "base_uri": "https://localhost:8080/"
        },
        "id": "fnHpnix2RAzV",
        "outputId": "98cba8c7-d3c3-4e91-e664-3b72fb51d5b2"
      },
      "source": [
        "N = int(input())\r\n",
        "A = list(map(int, input().split()))"
      ],
      "execution_count": 12,
      "outputs": [
        {
          "output_type": "stream",
          "text": [
            "3\n",
            "28 27 24\n"
          ],
          "name": "stdout"
        }
      ]
    },
    {
      "cell_type": "code",
      "metadata": {
        "id": "-hiSBYgSRfB_"
      },
      "source": [
        "A = [i for i in A if i % 2 == 0]"
      ],
      "execution_count": 13,
      "outputs": []
    },
    {
      "cell_type": "code",
      "metadata": {
        "colab": {
          "base_uri": "https://localhost:8080/"
        },
        "id": "ooCqC38YRmN1",
        "outputId": "4dd95fa5-737f-49e8-ac84-369a2dd8ed5f"
      },
      "source": [
        "ans = True\r\n",
        "for i in A:\r\n",
        "  if i % 3 != 0 and i % 5 != 0:\r\n",
        "    ans = False\r\n",
        "print(\"APPROVED\" if ans else \"DENIED\")"
      ],
      "execution_count": 14,
      "outputs": [
        {
          "output_type": "stream",
          "text": [
            "DENIED\n"
          ],
          "name": "stdout"
        }
      ]
    },
    {
      "cell_type": "markdown",
      "metadata": {
        "id": "9bkj4mLVSCph"
      },
      "source": [
        "# C - Poll"
      ]
    },
    {
      "cell_type": "code",
      "metadata": {
        "colab": {
          "base_uri": "https://localhost:8080/"
        },
        "id": "uNwYt7QWRmmF",
        "outputId": "937cda1a-2a24-424d-960d-4bd2ae817fbe"
      },
      "source": [
        "from collections import defaultdict\r\n",
        "N = int(input())\r\n",
        "cnt = defaultdict(int)"
      ],
      "execution_count": 17,
      "outputs": [
        {
          "output_type": "stream",
          "text": [
            "7\n"
          ],
          "name": "stdout"
        }
      ]
    },
    {
      "cell_type": "code",
      "metadata": {
        "colab": {
          "base_uri": "https://localhost:8080/"
        },
        "id": "0T_HwvSxTGn4",
        "outputId": "e5cfc97c-91f2-4582-c973-16aac3e683f3"
      },
      "source": [
        "for _ in range(N):\r\n",
        "  s = str(input())\r\n",
        "  cnt[s] += 1"
      ],
      "execution_count": 18,
      "outputs": [
        {
          "output_type": "stream",
          "text": [
            "beat\n",
            "vet\n",
            "beet\n",
            "bed\n",
            "vet\n",
            "bet\n",
            "beet\n"
          ],
          "name": "stdout"
        }
      ]
    },
    {
      "cell_type": "code",
      "metadata": {
        "id": "1giVL4LhTJEN"
      },
      "source": [
        "max_val = max(cnt.values())\r\n",
        "ans = [key for key in cnt if cnt[key] == max_val]"
      ],
      "execution_count": 23,
      "outputs": []
    },
    {
      "cell_type": "code",
      "metadata": {
        "colab": {
          "base_uri": "https://localhost:8080/"
        },
        "id": "9--OgqVnTJr0",
        "outputId": "dc9d4ef4-1325-4331-9893-1100847efbd5"
      },
      "source": [
        "for i in sorted(ans):\r\n",
        "  print(i)"
      ],
      "execution_count": 26,
      "outputs": [
        {
          "output_type": "stream",
          "text": [
            "beet\n",
            "vet\n"
          ],
          "name": "stdout"
        }
      ]
    }
  ]
}