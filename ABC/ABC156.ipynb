{
  "nbformat": 4,
  "nbformat_minor": 0,
  "metadata": {
    "colab": {
      "name": "ABC156.ipynb",
      "provenance": [],
      "authorship_tag": "ABX9TyOcCfc7mWn6mHxlZauYokT2",
      "include_colab_link": true
    },
    "kernelspec": {
      "name": "python3",
      "display_name": "Python 3"
    }
  },
  "cells": [
    {
      "cell_type": "markdown",
      "metadata": {
        "id": "view-in-github",
        "colab_type": "text"
      },
      "source": [
        "<a href=\"https://colab.research.google.com/github/Hidestament/AtCoder/blob/main/ABC/ABC156.ipynb\" target=\"_parent\"><img src=\"https://colab.research.google.com/assets/colab-badge.svg\" alt=\"Open In Colab\"/></a>"
      ]
    },
    {
      "cell_type": "markdown",
      "metadata": {
        "id": "AgX1AthagCQu"
      },
      "source": [
        "# A - Beginner\r\n",
        "r = x - 100 *(10-n)\r\n",
        "\r\n",
        "x = r + 100*(10-n)"
      ]
    },
    {
      "cell_type": "code",
      "metadata": {
        "colab": {
          "base_uri": "https://localhost:8080/"
        },
        "id": "QZx2uHGnf_2_",
        "outputId": "5ee51c79-b0fb-4ac6-8b67-676bdf8d24ef"
      },
      "source": [
        "n,r = map(int, input().split())\r\n",
        "print(r if n >= 10 else r + 100*(10-n))"
      ],
      "execution_count": 3,
      "outputs": [
        {
          "output_type": "stream",
          "text": [
            "22 3051\n",
            "3051\n"
          ],
          "name": "stdout"
        }
      ]
    },
    {
      "cell_type": "markdown",
      "metadata": {
        "id": "npIAc6GNgocm"
      },
      "source": [
        "# B - Digits"
      ]
    },
    {
      "cell_type": "code",
      "metadata": {
        "colab": {
          "base_uri": "https://localhost:8080/"
        },
        "id": "QzrF_d5zgkHK",
        "outputId": "6e1f8f71-753e-4fee-b14b-a052b68a67f4"
      },
      "source": [
        "n, k = map(int, input().split())"
      ],
      "execution_count": 12,
      "outputs": [
        {
          "output_type": "stream",
          "text": [
            "1010101 10\n"
          ],
          "name": "stdout"
        }
      ]
    },
    {
      "cell_type": "code",
      "metadata": {
        "id": "QYxlIi-KhUKd"
      },
      "source": [
        "def base_k(n,k):\r\n",
        "  if n//k != 0:\r\n",
        "    return base_k(n//k, k) + str(n%k)\r\n",
        "  else:\r\n",
        "    return str(n%k)"
      ],
      "execution_count": 13,
      "outputs": []
    },
    {
      "cell_type": "code",
      "metadata": {
        "colab": {
          "base_uri": "https://localhost:8080/"
        },
        "id": "u-1AhxJDiRVj",
        "outputId": "d8282994-a816-431b-f2e1-2655b73caefb"
      },
      "source": [
        "print(len(base_k(n,k)))"
      ],
      "execution_count": 14,
      "outputs": [
        {
          "output_type": "stream",
          "text": [
            "7\n"
          ],
          "name": "stdout"
        }
      ]
    },
    {
      "cell_type": "markdown",
      "metadata": {
        "id": "O7IgjQopicKZ"
      },
      "source": [
        "# C - Rally\r\n",
        "nとxが小さいので, 全列挙できる."
      ]
    },
    {
      "cell_type": "code",
      "metadata": {
        "colab": {
          "base_uri": "https://localhost:8080/"
        },
        "id": "LCHMnMRtifEi",
        "outputId": "e28be1cc-7718-4cec-c408-36df20e84e4b"
      },
      "source": [
        "n = int(input())\r\n",
        "X = list(map(int, input().split()))"
      ],
      "execution_count": 15,
      "outputs": [
        {
          "output_type": "stream",
          "text": [
            "2\n",
            "1 4\n"
          ],
          "name": "stdout"
        }
      ]
    },
    {
      "cell_type": "code",
      "metadata": {
        "colab": {
          "base_uri": "https://localhost:8080/"
        },
        "id": "sz9--Hadiz8N",
        "outputId": "230cbc9d-bc91-4570-9917-18f32dc33128"
      },
      "source": [
        "ans = 10**16\r\n",
        "for p in range(101):\r\n",
        "  temp = 0\r\n",
        "  for x in X:\r\n",
        "    temp += (p-x)**2\r\n",
        "  if temp < ans:\r\n",
        "    ans = temp\r\n",
        "print(ans)"
      ],
      "execution_count": 16,
      "outputs": [
        {
          "output_type": "stream",
          "text": [
            "5\n"
          ],
          "name": "stdout"
        }
      ]
    }
  ]
}