{
  "nbformat": 4,
  "nbformat_minor": 0,
  "metadata": {
    "colab": {
      "name": "ABC156.ipynb",
      "provenance": [],
      "collapsed_sections": [],
      "authorship_tag": "ABX9TyOfVoCSevWAp/qgMqQUt10U",
      "include_colab_link": true
    },
    "kernelspec": {
      "name": "python3",
      "display_name": "Python 3"
    },
    "language_info": {
      "name": "python"
    }
  },
  "cells": [
    {
      "cell_type": "markdown",
      "metadata": {
        "id": "view-in-github",
        "colab_type": "text"
      },
      "source": [
        "<a href=\"https://colab.research.google.com/github/Hidestament/AtCoder/blob/main/ABC/ABC156.ipynb\" target=\"_parent\"><img src=\"https://colab.research.google.com/assets/colab-badge.svg\" alt=\"Open In Colab\"/></a>"
      ]
    },
    {
      "cell_type": "markdown",
      "metadata": {
        "id": "7iuZevuw2_Pn"
      },
      "source": [
        "# [AtCoder Beginner Contest 156](https://atcoder.jp/contests/abc156)"
      ]
    },
    {
      "cell_type": "markdown",
      "metadata": {
        "id": "5QwU9Fl23CMr"
      },
      "source": [
        "## [A - Beginner](https://atcoder.jp/contests/abc156/tasks/abc156_a)"
      ]
    },
    {
      "cell_type": "code",
      "metadata": {
        "colab": {
          "base_uri": "https://localhost:8080/"
        },
        "id": "CVP5gxPO2-1M",
        "outputId": "13d315fe-b9a6-490a-cb4d-792eb54c151a"
      },
      "source": [
        "N, R = map(int, input().split())\n",
        "if N >= 10: print(R)\n",
        "else: print(R + 100*(10 - N))"
      ],
      "execution_count": null,
      "outputs": [
        {
          "output_type": "stream",
          "name": "stdout",
          "text": [
            "22 3051\n",
            "3051\n"
          ]
        }
      ]
    },
    {
      "cell_type": "markdown",
      "metadata": {
        "id": "69VXr6Uk3l-x"
      },
      "source": [
        "## [B - Digits](https://atcoder.jp/contests/abc156/tasks/abc156_b)"
      ]
    },
    {
      "cell_type": "markdown",
      "metadata": {
        "id": "n2O0-l7iy69I"
      },
      "source": [
        "めんどくさいからnumpy使う\n"
      ]
    },
    {
      "cell_type": "code",
      "metadata": {
        "colab": {
          "base_uri": "https://localhost:8080/"
        },
        "id": "azAa7b4ryd5x",
        "outputId": "dc0e101c-3466-44c8-9d58-019cb9e55b5a"
      },
      "source": [
        "import numpy as np\n",
        "N, K = map(int, input().split())\n",
        "print(len(str(np.base_repr(N, K))))"
      ],
      "execution_count": null,
      "outputs": [
        {
          "output_type": "stream",
          "name": "stdout",
          "text": [
            "314159265 3\n",
            "210220010221111100\n"
          ]
        }
      ]
    },
    {
      "cell_type": "markdown",
      "metadata": {
        "id": "xzt2mc7N4MPe"
      },
      "source": [
        "## [C - Rally](https://atcoder.jp/contests/abc156/tasks/abc156_c)"
      ]
    },
    {
      "cell_type": "markdown",
      "source": [
        "答えは明らかに1以上100以下であるので, その範囲で全探索する."
      ],
      "metadata": {
        "id": "HlFX1VM0Ie1N"
      }
    },
    {
      "cell_type": "code",
      "metadata": {
        "colab": {
          "base_uri": "https://localhost:8080/"
        },
        "id": "M1YADz1p36zO",
        "outputId": "e25791d3-0978-4bf8-ae12-bbc221682afa"
      },
      "source": [
        "N = int(input())\n",
        "X = list(map(int, input().split()))\n",
        "\n",
        "ans = 10**10\n",
        "for p in range(101):\n",
        "    temp = 0\n",
        "    for x in X:\n",
        "        temp += (x - p) ** 2\n",
        "    ans = min(ans, temp)\n",
        "print(ans)"
      ],
      "execution_count": null,
      "outputs": [
        {
          "output_type": "stream",
          "name": "stdout",
          "text": [
            "2\n",
            "1 4\n",
            "5\n"
          ]
        }
      ]
    },
    {
      "cell_type": "markdown",
      "metadata": {
        "id": "8ZVz343P5W5U"
      },
      "source": [
        "## [D - Bouquet](https://atcoder.jp/contests/abc156/tasks/abc156_d)"
      ]
    },
    {
      "cell_type": "code",
      "metadata": {
        "id": "hZFj6Vf65UsO",
        "colab": {
          "base_uri": "https://localhost:8080/"
        },
        "outputId": "47153eae-ee3c-4244-c31d-c9cf7dee6d55"
      },
      "source": [
        "N, A, B = map(int, input().split())\n",
        "mod = 10**9 + 7"
      ],
      "execution_count": null,
      "outputs": [
        {
          "name": "stdout",
          "output_type": "stream",
          "text": [
            "4 1 3\n"
          ]
        }
      ]
    },
    {
      "cell_type": "code",
      "metadata": {
        "id": "GHF_9fDHqAlw"
      },
      "source": [
        "fact = [1] * (B+1) # fact[i] = i! % mod\n",
        "inv = [1] * (B+1) # inv[i] = i^-1 % mod, factinvの計算用\n",
        "inv[0] = 0\n",
        "factinv = [1] * (B+1) # factinv[i] = (i!)^-1 % mod\n",
        "\n",
        "for i in range(2, B+1):\n",
        "    fact[i] = (fact[i-1] * i) % mod\n",
        "    inv[i] = (-inv[mod % i] * (mod // i)) % mod\n",
        "    factinv[i] = (factinv[i-1] * inv[i]) % mod\n",
        "\n",
        "def cmb_mod(n, r):\n",
        "    if (r < 0) or (n < r):\n",
        "        return 0\n",
        "    temp = 1\n",
        "    for i in range(r):\n",
        "        temp *= (n - i)\n",
        "        temp %= mod\n",
        "    return temp * factinv[r] % mod"
      ],
      "execution_count": null,
      "outputs": []
    },
    {
      "cell_type": "code",
      "metadata": {
        "colab": {
          "base_uri": "https://localhost:8080/"
        },
        "id": "L84eTT4DXmQx",
        "outputId": "201c7608-eb53-4665-ffc4-1ad149a3322c"
      },
      "source": [
        "ans = pow(2, N, mod) - cmb_mod(N, A) - cmb_mod(N, B) - 1\n",
        "print(ans % mod)"
      ],
      "execution_count": null,
      "outputs": [
        {
          "output_type": "stream",
          "name": "stdout",
          "text": [
            "7\n"
          ]
        }
      ]
    },
    {
      "cell_type": "markdown",
      "metadata": {
        "id": "YXExmvE9sJii"
      },
      "source": [
        "## [E - Roaming](https://atcoder.jp/contests/abc156/tasks/abc156_e)"
      ]
    },
    {
      "cell_type": "code",
      "metadata": {
        "colab": {
          "base_uri": "https://localhost:8080/"
        },
        "id": "jdahUnGJsU9o",
        "outputId": "1d229104-cae4-405b-ccad-915b290cb541"
      },
      "source": [
        "N, K = map(int, input().split())"
      ],
      "execution_count": null,
      "outputs": [
        {
          "name": "stdout",
          "output_type": "stream",
          "text": [
            "3 2\n"
          ]
        }
      ]
    },
    {
      "cell_type": "code",
      "metadata": {
        "id": "wA_CgLe8wdAl"
      },
      "source": [
        "mod = 10**9 + 7\n",
        "fact = [1] * (N+1) # fact[i] = i! % mod\n",
        "inv = [1] * (N+1) # inv[i] = i^-1 % mod, factinvの計算用\n",
        "inv[0] = 0\n",
        "factinv = [1] * (N+1) # factinv[i] = (i!)^-1 % mod\n",
        "for i in range(2, N+1):\n",
        "    fact[i] = (fact[i-1] * i) % mod\n",
        "    inv[i] = (-inv[mod % i] * (mod // i)) % mod\n",
        "    factinv[i] = (factinv[i-1] * inv[i]) % mod\n",
        "def cmb_mod(n, r):\n",
        "    if (r < 0) or (n < r):\n",
        "        return 0\n",
        "    r = min(r, n-r)\n",
        "    return fact[n] * factinv[r] * factinv[n-r] % mod"
      ],
      "execution_count": null,
      "outputs": []
    },
    {
      "cell_type": "code",
      "metadata": {
        "colab": {
          "base_uri": "https://localhost:8080/"
        },
        "id": "lE_UOIaWuQN7",
        "outputId": "16649281-36e3-4d4d-b3e1-5146517874be"
      },
      "source": [
        "ans = 0\n",
        "for k in range(min(N, K) + 1):\n",
        "    ans += cmb_mod(N-1, k) * cmb_mod(N, k)\n",
        "    ans %= mod\n",
        "print(ans)"
      ],
      "execution_count": null,
      "outputs": [
        {
          "output_type": "stream",
          "name": "stdout",
          "text": [
            "10\n"
          ]
        }
      ]
    }
  ]
}