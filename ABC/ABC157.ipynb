{
  "nbformat": 4,
  "nbformat_minor": 0,
  "metadata": {
    "colab": {
      "name": "ABC157.ipynb",
      "provenance": [],
      "collapsed_sections": [],
      "authorship_tag": "ABX9TyPIl3PeHDiSiPBPjJSIasSd",
      "include_colab_link": true
    },
    "kernelspec": {
      "name": "python3",
      "display_name": "Python 3"
    },
    "language_info": {
      "name": "python"
    }
  },
  "cells": [
    {
      "cell_type": "markdown",
      "metadata": {
        "id": "view-in-github",
        "colab_type": "text"
      },
      "source": [
        "<a href=\"https://colab.research.google.com/github/Hidestament/AtCoder/blob/main/ABC/ABC157.ipynb\" target=\"_parent\"><img src=\"https://colab.research.google.com/assets/colab-badge.svg\" alt=\"Open In Colab\"/></a>"
      ]
    },
    {
      "cell_type": "markdown",
      "metadata": {
        "id": "Q0CI0kbG88Nx"
      },
      "source": [
        "# [AtCoder Beginner Contest 157](https://atcoder.jp/contests/abc157)"
      ]
    },
    {
      "cell_type": "markdown",
      "metadata": {
        "id": "CBCD13Ea89_x"
      },
      "source": [
        "## [A - Douplex Printing](https://atcoder.jp/contests/abc157/tasks/abc157_a)"
      ]
    },
    {
      "cell_type": "code",
      "metadata": {
        "id": "WUChphoP87A_"
      },
      "source": [
        "N = int(input())\n",
        "print(-(-N//2))"
      ],
      "execution_count": null,
      "outputs": []
    },
    {
      "cell_type": "markdown",
      "metadata": {
        "id": "dFOISvzz9E12"
      },
      "source": [
        "## [B - Bingo](https://atcoder.jp/contests/abc157/tasks/abc157_b)"
      ]
    },
    {
      "cell_type": "code",
      "metadata": {
        "id": "qcWxQAAw9Gn1"
      },
      "source": [
        "A = [list(map(int, input().split())) for _ in range(3)]\n",
        "N = int(input())\n",
        "num = set([int(input()) for _ in range(N)])"
      ],
      "execution_count": null,
      "outputs": []
    },
    {
      "cell_type": "code",
      "metadata": {
        "id": "CbcIdKJGBoQX"
      },
      "source": [
        "flag = False\n",
        "# 縦 & 横\n",
        "for i in range(3):\n",
        "    if all(A[i][j] in num for j in range(3)):\n",
        "        flag = True\n",
        "    if all(A[j][i] in num for j in range(3)):\n",
        "        flag = True"
      ],
      "execution_count": null,
      "outputs": []
    },
    {
      "cell_type": "code",
      "metadata": {
        "id": "Ty-IqEV0BoKv"
      },
      "source": [
        "# 斜め\n",
        "if all(A[i][i] in num for i in range(3)):\n",
        "    flag = True\n",
        "if (A[1][1] in num) and (A[0][2] in num) and (A[2][0] in num):\n",
        "    flag = True"
      ],
      "execution_count": null,
      "outputs": []
    },
    {
      "cell_type": "code",
      "metadata": {
        "colab": {
          "base_uri": "https://localhost:8080/"
        },
        "id": "Hn1A68DjAAuz",
        "outputId": "1e9a3236-4447-4505-8dfe-77cab2339db5"
      },
      "source": [
        "print(\"Yes\" if flag else \"No\")"
      ],
      "execution_count": null,
      "outputs": [
        {
          "output_type": "stream",
          "name": "stdout",
          "text": [
            "Yes\n"
          ]
        }
      ]
    },
    {
      "cell_type": "markdown",
      "metadata": {
        "id": "qF-LXHWH9-s8"
      },
      "source": [
        "## [C - Guess The Number](https://atcoder.jp/contests/abc157/tasks/abc157_c)"
      ]
    },
    {
      "cell_type": "code",
      "source": [
        "N, M = map(int, input().split())\n",
        "cond = [list(map(int, input().split())) for _ in range(M)]"
      ],
      "metadata": {
        "colab": {
          "base_uri": "https://localhost:8080/"
        },
        "id": "awM3qtSKevuk",
        "outputId": "f3e9a88e-e262-4ee4-b7da-3e38a165b814"
      },
      "execution_count": 8,
      "outputs": [
        {
          "name": "stdout",
          "output_type": "stream",
          "text": [
            "3 1\n",
            "1 0\n"
          ]
        }
      ]
    },
    {
      "cell_type": "code",
      "source": [
        "if N == 1:\n",
        "    start = 0\n",
        "else:\n",
        "    start = 10**(N-1)\n",
        "\n",
        "for num in range(start, 10**N):\n",
        "    num = str(num)\n",
        "    flag = True\n",
        "    for s, c in cond:\n",
        "        if len(num) < s:\n",
        "            flag = False\n",
        "            break\n",
        "        if num[s - 1] != str(c):\n",
        "            flag = False\n",
        "            break    \n",
        "    if flag:\n",
        "        print(num)\n",
        "        break\n",
        "else:\n",
        "    print(-1)"
      ],
      "metadata": {
        "colab": {
          "base_uri": "https://localhost:8080/"
        },
        "id": "ru3yFHvHevrY",
        "outputId": "27d6cf04-d690-4000-8b35-26d388c5626a"
      },
      "execution_count": 9,
      "outputs": [
        {
          "output_type": "stream",
          "name": "stdout",
          "text": [
            "0\n"
          ]
        }
      ]
    },
    {
      "cell_type": "markdown",
      "metadata": {
        "id": "9InnwQR3_Izg"
      },
      "source": [
        "## [D - Friend Suggestions](https://atcoder.jp/contests/abc157/tasks/abc157_d)"
      ]
    },
    {
      "cell_type": "code",
      "metadata": {
        "id": "T4QAl0lIC9ia"
      },
      "source": [
        "class UnionFindTree:\n",
        "    def __init__(self, n):\n",
        "        self.parents = [-1] * n\n",
        "  \n",
        "    def find(self, x):\n",
        "        if self.parents[x] < 0:\n",
        "            return x\n",
        "        else:\n",
        "            self.parents[x] = self.find(self.parents[x])\n",
        "            return self.find(self.parents[x])\n",
        "  \n",
        "    def union(self, x, y):\n",
        "        x = self.find(x)\n",
        "        y = self.find(y)\n",
        "        if x == y: return    \n",
        "        if self.parents[x] > self.parents[y]:\n",
        "            x, y = y, x\n",
        "        self.parents[x] += self.parents[y]\n",
        "        self.parents[y] = x\n",
        "\n",
        "    def same_check(self, x, y):\n",
        "        return self.find(x) == self.find(y)\n",
        "\n",
        "    def size(self, x):\n",
        "        return -1 * self.parents[self.find(x)]"
      ],
      "execution_count": null,
      "outputs": []
    },
    {
      "cell_type": "code",
      "metadata": {
        "colab": {
          "base_uri": "https://localhost:8080/"
        },
        "id": "MIFuk_GUC9ib",
        "outputId": "eb947d60-f460-4b70-acbd-90bbda3c9ed1"
      },
      "source": [
        "N, M, K = map(int, input().split())\n",
        "uf = UnionFindTree(N)\n",
        "\n",
        "friend_graph = [[] for _ in range(N)]\n",
        "block_graph = [[] for _ in range(N)]\n",
        "for _ in range(M):\n",
        "    a, b = map(int, input().split())\n",
        "    a -= 1\n",
        "    b -= 1\n",
        "    uf.union(a, b)\n",
        "    friend_graph[a].append(b)\n",
        "    friend_graph[b].append(a)\n",
        "\n",
        "for _ in range(K):\n",
        "    c, d = map(int, input().split())\n",
        "    c -= 1\n",
        "    d -= 1\n",
        "    block_graph[c].append(d)\n",
        "    block_graph[d].append(c)"
      ],
      "execution_count": null,
      "outputs": [
        {
          "name": "stdout",
          "output_type": "stream",
          "text": [
            "10 9 3\n",
            "10 1\n",
            "6 7\n",
            "8 2\n",
            "2 5\n",
            "8 4\n",
            "7 3\n",
            "10 9\n",
            "6 4\n",
            "5 8\n",
            "2 6\n",
            "7 5\n",
            "3 1\n"
          ]
        }
      ]
    },
    {
      "cell_type": "code",
      "metadata": {
        "colab": {
          "base_uri": "https://localhost:8080/"
        },
        "id": "7KribxoWEFaU",
        "outputId": "839fa1e4-6648-4cea-b247-10708304a40e"
      },
      "source": [
        "for i in range(N):\n",
        "    ans = uf.size(i) - 1 - len(friend_graph[i])\n",
        "    for b in block_graph[i]:\n",
        "        if uf.same_check(i, b):\n",
        "            ans -= 1\n",
        "    print(ans)"
      ],
      "execution_count": null,
      "outputs": [
        {
          "output_type": "stream",
          "name": "stdout",
          "text": [
            "1\n",
            "3\n",
            "5\n",
            "4\n",
            "3\n",
            "3\n",
            "3\n",
            "3\n",
            "1\n",
            "0\n"
          ]
        }
      ]
    },
    {
      "cell_type": "markdown",
      "metadata": {
        "id": "6E0V1i-IFSnY"
      },
      "source": [
        "## [E - Simple String Queries](https://atcoder.jp/contests/abc157/tasks/abc157_e)"
      ]
    },
    {
      "cell_type": "markdown",
      "metadata": {
        "id": "7AMbiL5HFpgW"
      },
      "source": [
        "### Seg木を使う\n",
        "\n",
        "N ~ 5*10^5\n",
        "\n",
        "\n",
        "Q ~ 2 * 10^4"
      ]
    },
    {
      "cell_type": "code",
      "metadata": {
        "id": "a0MbmUTnE5PC",
        "colab": {
          "base_uri": "https://localhost:8080/"
        },
        "outputId": "60bd0c5b-e9db-4363-e640-ea2a58a26b79"
      },
      "source": [
        "from collections import defaultdict\n",
        "N = int(input())\n",
        "S = list(input())\n",
        "Q = int(input())"
      ],
      "execution_count": null,
      "outputs": [
        {
          "name": "stdout",
          "output_type": "stream",
          "text": [
            "7\n",
            "abcdbbd\n",
            "6\n"
          ]
        }
      ]
    },
    {
      "cell_type": "code",
      "source": [
        "A = [1 << (ord(s) - 97) for s in S]"
      ],
      "metadata": {
        "id": "S67sPAC29ksP"
      },
      "execution_count": null,
      "outputs": []
    },
    {
      "cell_type": "code",
      "metadata": {
        "id": "_FGydQkNHgqE"
      },
      "source": [
        "class SegmentTree:\n",
        "    \"\"\" 1点更新・区間集約 Segment Tree. 非再起・1-index・非可換\n",
        "\n",
        "    Attributes:\n",
        "        tree (List[Union[int, float]]): セグメントツリーを表す配列\n",
        "        segfunc (Callable): 集約を行う関数 (モノイド上の演算)\n",
        "        ide_ele (float): 集約の関数における単位元　（モノイド上の単位元）\n",
        "        update (int, float): 元の配列の更新 & セグメントツリーの更新\n",
        "        query (int, int): 区間集約値の取得\n",
        "    \"\"\"\n",
        "    def __init__(self, n: int, ide_ele: float, seg_func: callable):\n",
        "        \"\"\"\n",
        "        Args:\n",
        "            n (int): 元の配列のサイズ\n",
        "            ide_ele (float): モノイドにおける単位元\n",
        "            segfunc (callable): 集約を行う関数 （モノイド上の演算）\n",
        "        \"\"\"\n",
        "        self.segfunc = seg_func\n",
        "        self.ide_ele = ide_ele\n",
        "        self.num = 1 << (n - 1).bit_length()\n",
        "        self.tree = [self.ide_ele] * (2 * self.num)\n",
        "    \n",
        "    def update(self, i: int, x: float) -> None:\n",
        "        \"\"\"元の配列のi番目を x に変更（上書き）する. それに伴ってセグメントツリーも更新する. +=のようなupdateではない.\n",
        "\n",
        "        Args:\n",
        "            i (int): 元の配列のi番目の要素. 元の配列の0-indexの\n",
        "            x (float): 変更後の値        \n",
        "        \"\"\"\n",
        "        i += self.num\n",
        "        self.tree[i] = x\n",
        "        while i > 1:\n",
        "            i >>= 1\n",
        "            self.tree[i] = self.segfunc(self.tree[i << 1], self.tree[(i << 1) + 1])\n",
        "        \n",
        "    def query(self, l: int, r: int):\n",
        "        \"\"\"元の配列の閉区間[l, r]のsegfuncにおける集約値を取得する\n",
        "\n",
        "        Args:\n",
        "            l (int): 元の配列の集約を行う区間の左端のindex. 0-index\n",
        "            r (int): 元の配列の集約を行う区間の右端のindex. 0-index\n",
        "        \"\"\"\n",
        "        # [l, r) として葉から計算していく\n",
        "        l += self.num\n",
        "        r += self.num + 1\n",
        "\n",
        "        l_res = self.ide_ele\n",
        "        r_res = self.ide_ele\n",
        "        \n",
        "        while l < r:\n",
        "            if l & 1:  # lが奇数だったらそのノードを集約する\n",
        "                l_res = self.segfunc(l_res, self.tree[l])\n",
        "                l += 1  # 右に進む\n",
        "            if r & 1:  # rが奇数だったら, rは開区間なので その1つ左ノードを集約する\n",
        "                r_res = self.segfunc(self.tree[r - 1], r_res)\n",
        "\n",
        "            l >>= 1  # 上に進む（２で割って切り捨て）\n",
        "            r >>= 1\n",
        "        \n",
        "        return self.segfunc(l_res, r_res)"
      ],
      "execution_count": null,
      "outputs": []
    },
    {
      "cell_type": "code",
      "source": [
        "def popcount(x):\n",
        "    '''xの立っているビット数をカウントする関数\n",
        "    (xは64bit整数)'''\n",
        "\n",
        "    # 2bitごとの組に分け、立っているビット数を2bitで表現する\n",
        "    x = x - ((x >> 1) & 0x5555555555555555)\n",
        "\n",
        "    # 4bit整数に 上位2bit + 下位2bit を計算した値を入れる\n",
        "    x = (x & 0x3333333333333333) + ((x >> 2) & 0x3333333333333333)\n",
        "\n",
        "    x = (x + (x >> 4)) & 0x0f0f0f0f0f0f0f0f # 8bitごと\n",
        "    x = x + (x >> 8) # 16bitごと\n",
        "    x = x + (x >> 16) # 32bitごと\n",
        "    x = x + (x >> 32) # 64bitごと = 全部の合計\n",
        "    return x & 0x0000007f"
      ],
      "metadata": {
        "id": "DCB1n_lz_ana"
      },
      "execution_count": null,
      "outputs": []
    },
    {
      "cell_type": "code",
      "metadata": {
        "id": "IzHGhW15H_ku"
      },
      "source": [
        "seg = SegmentTree(N, 0, lambda x, y: x | y)"
      ],
      "execution_count": null,
      "outputs": []
    },
    {
      "cell_type": "code",
      "source": [
        "for i in range(N):\n",
        "    seg.update(i, A[i])"
      ],
      "metadata": {
        "id": "3oVWoO8Z-ZtF"
      },
      "execution_count": null,
      "outputs": []
    },
    {
      "cell_type": "code",
      "source": [
        "for _ in range(Q):\n",
        "    query = list(input().split())\n",
        "    if query[0] == \"1\":\n",
        "        i, c = int(query[1]), str(query[2])\n",
        "        seg.update(i-1, 1 << (ord(c) - 97))\n",
        "    else:\n",
        "        l, r = int(query[1]), int(query[2])\n",
        "        ans = seg.query(l-1, r-1)\n",
        "        print(popcount(ans))"
      ],
      "metadata": {
        "id": "NDK_dd3E_sAv"
      },
      "execution_count": null,
      "outputs": []
    },
    {
      "cell_type": "markdown",
      "source": [
        "### Binary Searchで頑張る\n",
        "計算量的には$O(N^2)$な気がする。。。。"
      ],
      "metadata": {
        "id": "g2ure2v4Iyvx"
      }
    },
    {
      "cell_type": "code",
      "source": [
        "from bisect import bisect_left, bisect_right, insort\n",
        "from collections import defaultdict\n",
        "\n",
        "N = int(input())\n",
        "S = list(input())\n",
        "Q = int(input())\n",
        "\n",
        "cnt = defaultdict(list)\n",
        "for i, s in enumerate(S):\n",
        "    cnt[s].append(i)"
      ],
      "metadata": {
        "id": "ikK7cJYA_mAZ",
        "colab": {
          "base_uri": "https://localhost:8080/"
        },
        "outputId": "55f9df72-9339-4c80-bbc3-286241cc711b"
      },
      "execution_count": null,
      "outputs": [
        {
          "name": "stdout",
          "output_type": "stream",
          "text": [
            "7\n",
            "abcdbbd\n",
            "6\n"
          ]
        }
      ]
    },
    {
      "cell_type": "code",
      "source": [
        "for _ in range(Q):\n",
        "    query = list(input().split())\n",
        "    if query[0] == \"1\":\n",
        "        i, c = int(query[1]), query[2]\n",
        "        i -= 1\n",
        "        s = S[i]\n",
        "\n",
        "        if c == S[i]: continue\n",
        "        \n",
        "        cnt[s].remove(i)\n",
        "        S[i] = c\n",
        "        insort(cnt[c], i)\n",
        "    \n",
        "    else:\n",
        "        l, r = int(query[1]), int(query[2])\n",
        "        ans = 0\n",
        "        for i in range(26):\n",
        "            s = chr(ord(\"a\") + i)\n",
        "            \n",
        "            left_ind = bisect_left(cnt[s], l-1)\n",
        "            right_ind = bisect_right(cnt[s], r-1)\n",
        "            if right_ind > left_ind:\n",
        "                ans += 1\n",
        "        print(ans)"
      ],
      "metadata": {
        "colab": {
          "base_uri": "https://localhost:8080/"
        },
        "id": "XW3Pen5uI8wW",
        "outputId": "bc000b43-ba6d-4617-ff2b-fe329565d596"
      },
      "execution_count": null,
      "outputs": [
        {
          "output_type": "stream",
          "name": "stdout",
          "text": [
            "2 3 6\n",
            "3\n",
            "1 5 z\n",
            "2 1 1\n",
            "1\n",
            "1 4 a\n",
            "1 7 d\n",
            "2 1 7\n",
            "5\n"
          ]
        }
      ]
    }
  ]
}