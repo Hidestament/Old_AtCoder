{
  "nbformat": 4,
  "nbformat_minor": 0,
  "metadata": {
    "colab": {
      "name": "ABC157.ipynb",
      "provenance": [],
      "authorship_tag": "ABX9TyNqDpG5Sniz/kc2elyQKVNZ",
      "include_colab_link": true
    },
    "kernelspec": {
      "name": "python3",
      "display_name": "Python 3"
    }
  },
  "cells": [
    {
      "cell_type": "markdown",
      "metadata": {
        "id": "view-in-github",
        "colab_type": "text"
      },
      "source": [
        "<a href=\"https://colab.research.google.com/github/Hidestament/AtCoder/blob/main/ABC/ABC157.ipynb\" target=\"_parent\"><img src=\"https://colab.research.google.com/assets/colab-badge.svg\" alt=\"Open In Colab\"/></a>"
      ]
    },
    {
      "cell_type": "markdown",
      "metadata": {
        "id": "499jbvHf1fD_"
      },
      "source": [
        "# A - Duplex Printing"
      ]
    },
    {
      "cell_type": "code",
      "metadata": {
        "colab": {
          "base_uri": "https://localhost:8080/"
        },
        "id": "vx_b4qpb1dRT",
        "outputId": "842b3d31-5a9c-4dad-af2a-ed5d9d362877"
      },
      "source": [
        "n = int(input())\r\n",
        "print(-(-n//2))"
      ],
      "execution_count": 2,
      "outputs": [
        {
          "output_type": "stream",
          "text": [
            "2\n",
            "1\n"
          ],
          "name": "stdout"
        }
      ]
    },
    {
      "cell_type": "markdown",
      "metadata": {
        "id": "_Bz0sAUK1uRc"
      },
      "source": [
        "# B - Bingo\r\n",
        "出たマスを-1に変える -> ビンゴの並び8パターンのどれかのマス全部が -1 かどうか確認"
      ]
    },
    {
      "cell_type": "code",
      "metadata": {
        "colab": {
          "base_uri": "https://localhost:8080/"
        },
        "id": "Bi2Jh6He1psn",
        "outputId": "40239b9e-1c28-44af-dd8b-95e5fcead471"
      },
      "source": [
        "A = [list(map(int, input().split())) for _ in range(3)]\r\n",
        "N = int(input())"
      ],
      "execution_count": 16,
      "outputs": [
        {
          "output_type": "stream",
          "text": [
            "84 97 66\n",
            "79 89 11\n",
            "61 59 7\n",
            "7\n"
          ],
          "name": "stdout"
        }
      ]
    },
    {
      "cell_type": "code",
      "metadata": {
        "id": "iR1GgpLd47EU"
      },
      "source": [
        "bingo = [[(0,0),(0,1),(0,2)], [(1,0), (1,1), (1,2)], [(2,0), (2,1), (2,2)], [(0,0), (1,0), (2,0)], [(0,1), (1,1), (2,1)], [(0,2),(1,2),(2,2)], [(0,0),(1,1),(2,2)], [(0,2), (1,1), (2,0)]]\r\n",
        "for i in temp:\r\n",
        "  bingo.append(set(i))"
      ],
      "execution_count": 22,
      "outputs": []
    },
    {
      "cell_type": "code",
      "metadata": {
        "colab": {
          "base_uri": "https://localhost:8080/"
        },
        "id": "OwUYVk-q2KkR",
        "outputId": "69aa17ba-ade1-4f39-c856-d91231f41300"
      },
      "source": [
        "for _ in range(N):\r\n",
        "  b = int(input())\r\n",
        "  for i in range(3):\r\n",
        "    if b in A[i]:\r\n",
        "      A[i][A[i].index(b)] = -1"
      ],
      "execution_count": 18,
      "outputs": [
        {
          "output_type": "stream",
          "text": [
            "89\n",
            "7\n",
            "87\n",
            "79\n",
            "24\n",
            "84\n",
            "30\n"
          ],
          "name": "stdout"
        }
      ]
    },
    {
      "cell_type": "code",
      "metadata": {
        "id": "HInfR_k12Own"
      },
      "source": [
        "ans = False\r\n",
        "for k in bingo:\r\n",
        "  if all(A[i][j] == -1 for i,j in k):\r\n",
        "    ans = True\r\n",
        "\r\n",
        "print(\"YNeos\"[not ans::2])"
      ],
      "execution_count": 19,
      "outputs": []
    },
    {
      "cell_type": "markdown",
      "metadata": {
        "id": "ocrpTeQS6iRk"
      },
      "source": [
        "# C - Guess The Number\r\n",
        "N = 1のときに注意\r\n",
        "\r\n",
        "N != 1 のときは, 10**(N-1) ～ 10**N まで全列挙して, 条件を満たすものが存在するかどうかを判定していく.\r\n",
        "\r\n",
        "一番最初に見つかったものを出力.\r\n",
        "\r\n",
        "見つからなければ-1を出力."
      ]
    },
    {
      "cell_type": "code",
      "metadata": {
        "colab": {
          "base_uri": "https://localhost:8080/"
        },
        "id": "-2LfzVyC6w3F",
        "outputId": "b6c471d1-4dfa-4989-ad8b-054437a42b54"
      },
      "source": [
        "N, M = map(int, input().split())\r\n",
        "Q = [list(map(int, input().split())) for _ in range(M)]"
      ],
      "execution_count": 36,
      "outputs": [
        {
          "output_type": "stream",
          "text": [
            "1 1\n",
            "1 0\n"
          ],
          "name": "stdout"
        }
      ]
    },
    {
      "cell_type": "code",
      "metadata": {
        "colab": {
          "base_uri": "https://localhost:8080/"
        },
        "id": "EOruQnOT98Av",
        "outputId": "e8b39ee4-4040-4128-afae-e11d4a4c2ed4"
      },
      "source": [
        "for i in range(10**(N-1), 10**(N)):\r\n",
        "  if all(str(i)[s-1] == str(c) for s,c in Q):\r\n",
        "    print(i)\r\n",
        "    exit()\r\n",
        "print(-1)"
      ],
      "execution_count": 37,
      "outputs": [
        {
          "output_type": "stream",
          "text": [
            "-1\n"
          ],
          "name": "stdout"
        }
      ]
    },
    {
      "cell_type": "code",
      "metadata": {
        "id": "ShuaTX4WARgf"
      },
      "source": [
        "if N == 1:\r\n",
        "  for i in range(0, 10):\r\n",
        "    if all(str(i)[s-1] == str(c) for s, c in Q):\r\n",
        "      print(i)\r\n",
        "      exit()\r\n",
        "else:\r\n",
        "  for i in range(10**(N-1), 10**N):\r\n",
        "    if all(str(i)[s-1] == str(c) for s, c in Q):\r\n",
        "      print(i)\r\n",
        "      exit()\r\n",
        "print(-1)"
      ],
      "execution_count": null,
      "outputs": []
    },
    {
      "cell_type": "markdown",
      "metadata": {
        "id": "f9-ujQUYAxHA"
      },
      "source": [
        "# D - Friend Suggestions\r\n",
        "友達をたどって友達である人同士である人々を一つのグラフの連結成分と見る.\r\n",
        "\r\n",
        "こうすると, UnionFindTreeを使えば良いことがわかる.\r\n",
        "\r\n",
        "ここで, ある人が属するTreeの要素数から, 自分自身と直接友達関係である人数とブロック関係の人の人数を引く必要がある.\r\n",
        "\r\n",
        "ある人が属するTreeの要素数をa, 直接友達関係 + ブロック関係 である人数をbとすると, \r\n",
        "\r\n",
        "$a-b-1$が答えとなる.\r\n",
        "\r\n",
        "要素数を保存するUnionFindTreeを実装して, 直接友達関係とブロック関係は別でカウントしておく."
      ]
    },
    {
      "cell_type": "code",
      "metadata": {
        "id": "ZS3ezZcFb06o"
      },
      "source": [
        "class UnionFindTree:\r\n",
        "  def __init__(self, n):\r\n",
        "    self.parents = [-1] * n\r\n",
        "  \r\n",
        "  def find(self, x):\r\n",
        "    if self.parents[x] < 0:\r\n",
        "      return x\r\n",
        "    else:\r\n",
        "      self.parents[x] = self.find(self.parents[x])\r\n",
        "      return self.find(self.parents[x])\r\n",
        "\r\n",
        "  def same_check(self, x, y):\r\n",
        "    return self.find(x) == self.find(y)\r\n",
        "\r\n",
        "  def union(self, x, y):\r\n",
        "    x = self.find(x)\r\n",
        "    y = self.find(y)\r\n",
        "\r\n",
        "    if x == y:\r\n",
        "      return \r\n",
        "    \r\n",
        "    if self.parents[x] > self.parents[y]:\r\n",
        "      x,y = y, x\r\n",
        "\r\n",
        "    self.parents[x] += self.parents[y]\r\n",
        "    self.parents[y] = x\r\n",
        "\r\n",
        "  def size(self, x):\r\n",
        "    x = self.find(x)\r\n",
        "    return -1 * self.parents[x]"
      ],
      "execution_count": 89,
      "outputs": []
    },
    {
      "cell_type": "code",
      "metadata": {
        "colab": {
          "base_uri": "https://localhost:8080/"
        },
        "id": "2ZYAL7T-b03z",
        "outputId": "2e40b011-0189-4dbf-cc1e-ce1c86f9d8f4"
      },
      "source": [
        "n, m, k = map(int, input().split())"
      ],
      "execution_count": 88,
      "outputs": [
        {
          "output_type": "stream",
          "text": [
            "4 4 1\n"
          ],
          "name": "stdout"
        }
      ]
    },
    {
      "cell_type": "code",
      "metadata": {
        "id": "b6XwAnEtb00n"
      },
      "source": [
        "uf = UnionFindTree(n)"
      ],
      "execution_count": 90,
      "outputs": []
    },
    {
      "cell_type": "code",
      "metadata": {
        "colab": {
          "base_uri": "https://localhost:8080/"
        },
        "id": "KPamx4Gwb0yH",
        "outputId": "134025f1-2ec3-4848-a3d2-0ca75e89158c"
      },
      "source": [
        "ng_list = [0] * n\r\n",
        "for _ in range(m):\r\n",
        "  a,b = map(int, input().split())\r\n",
        "  uf.union(a-1, b-1)\r\n",
        "  ng_list[a-1] += 1\r\n",
        "  ng_list[b-1] += 1\r\n",
        "\r\n",
        "for _ in range(k):\r\n",
        "  a,b = map(int, input().split())\r\n",
        "  if uf.same_check(a-1, b-1):\r\n",
        "    ng_list[a-1] += 1\r\n",
        "    ng_list[b-1] += 1\r\n",
        "\r\n",
        "ans = [0] * n\r\n",
        "for i in range(n):\r\n",
        "  ans[i] += uf.size(i) - ng_list[i] - 1\r\n",
        "  ans[i] = str(ans[i])\r\n",
        "\r\n",
        "print(\" \".join(ans))"
      ],
      "execution_count": 91,
      "outputs": [
        {
          "output_type": "stream",
          "text": [
            "2 1\n",
            "1 3\n",
            "3 2\n",
            "3 4\n",
            "4 1\n",
            "0 1 0 1\n"
          ],
          "name": "stdout"
        }
      ]
    },
    {
      "cell_type": "code",
      "metadata": {
        "id": "_olJeN8VfD01"
      },
      "source": [
        ""
      ],
      "execution_count": null,
      "outputs": []
    }
  ]
}