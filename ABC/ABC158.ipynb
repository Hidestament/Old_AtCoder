{
  "nbformat": 4,
  "nbformat_minor": 0,
  "metadata": {
    "colab": {
      "name": "ABC158.ipynb",
      "provenance": [],
      "collapsed_sections": [],
      "authorship_tag": "ABX9TyOyS7bfWXeg+uDFw7yjMdhp",
      "include_colab_link": true
    },
    "kernelspec": {
      "name": "python3",
      "display_name": "Python 3"
    },
    "language_info": {
      "name": "python"
    }
  },
  "cells": [
    {
      "cell_type": "markdown",
      "metadata": {
        "id": "view-in-github",
        "colab_type": "text"
      },
      "source": [
        "<a href=\"https://colab.research.google.com/github/Hidestament/AtCoder/blob/main/ABC/ABC158.ipynb\" target=\"_parent\"><img src=\"https://colab.research.google.com/assets/colab-badge.svg\" alt=\"Open In Colab\"/></a>"
      ]
    },
    {
      "cell_type": "markdown",
      "metadata": {
        "id": "fvoak5TmMGlH"
      },
      "source": [
        "# [AtCoder Beginner Contest 158](https://atcoder.jp/contests/abc158)"
      ]
    },
    {
      "cell_type": "markdown",
      "metadata": {
        "id": "3qBAb5HoMIME"
      },
      "source": [
        "## [A - Station and Bus](https://atcoder.jp/contests/abc158/tasks/abc158_a)"
      ]
    },
    {
      "cell_type": "code",
      "metadata": {
        "id": "mg-yZiGdMCih"
      },
      "source": [
        "S = str(input())\n",
        "if S == \"AAA\" or S == \"BBB\":\n",
        "    print(\"No\")\n",
        "else:\n",
        "    print(\"Yes\")"
      ],
      "execution_count": null,
      "outputs": []
    },
    {
      "cell_type": "markdown",
      "metadata": {
        "id": "1EZQoASWMbBj"
      },
      "source": [
        "## [B - Count Balls](https://atcoder.jp/contests/abc158/tasks/abc158_b)"
      ]
    },
    {
      "cell_type": "code",
      "metadata": {
        "colab": {
          "base_uri": "https://localhost:8080/"
        },
        "id": "bjbRl90JMfR-",
        "outputId": "a2366067-f8c0-4929-d50a-892194b8078c"
      },
      "source": [
        "N, A, B = map(int, input().split())\n",
        "ans = A * (N // (A+B)) + min(A, N % (A+B))\n",
        "print(ans)"
      ],
      "execution_count": null,
      "outputs": [
        {
          "output_type": "stream",
          "name": "stdout",
          "text": [
            "6 2 4\n",
            "2\n"
          ]
        }
      ]
    },
    {
      "cell_type": "markdown",
      "metadata": {
        "id": "qXDlPYGANZ-V"
      },
      "source": [
        "## [C - Tax Increase](https://atcoder.jp/contests/abc158/tasks/abc158_c)"
      ]
    },
    {
      "cell_type": "code",
      "metadata": {
        "colab": {
          "base_uri": "https://localhost:8080/"
        },
        "id": "PbrSYIx_Ngdg",
        "outputId": "35323793-61a6-4d12-9ca4-916a0b631018"
      },
      "source": [
        "A, B = map(int, input().split())\n",
        "for i in range(1, 10**6):\n",
        "    if int(i * 0.08) == A and int(i * 0.1) == B:\n",
        "        print(i)\n",
        "        break\n",
        "else:\n",
        "    print(-1)"
      ],
      "execution_count": null,
      "outputs": [
        {
          "output_type": "stream",
          "name": "stdout",
          "text": [
            "19 99\n",
            "-1\n"
          ]
        }
      ]
    },
    {
      "cell_type": "markdown",
      "metadata": {
        "id": "Tj88svpoN90u"
      },
      "source": [
        "## [D - String Formation](https://atcoder.jp/contests/abc158/tasks/abc158_d)"
      ]
    },
    {
      "cell_type": "code",
      "metadata": {
        "colab": {
          "base_uri": "https://localhost:8080/"
        },
        "id": "TVL8YSgONxdC",
        "outputId": "c4f04617-a5c7-437a-f96a-c58879cb567f"
      },
      "source": [
        "from collections import deque\n",
        "S = str(input())\n",
        "Q = int(input())\n",
        "\n",
        "dq = deque(\".\")"
      ],
      "execution_count": null,
      "outputs": [
        {
          "name": "stdout",
          "output_type": "stream",
          "text": [
            "abc\n",
            "4\n"
          ]
        }
      ]
    },
    {
      "cell_type": "code",
      "metadata": {
        "colab": {
          "base_uri": "https://localhost:8080/"
        },
        "id": "4nO4GrJOOQ1u",
        "outputId": "4e4d4cf3-805d-4ee0-c4ce-a57013ac65d1"
      },
      "source": [
        "# reverse=0:反転無し, 1反転有り\n",
        "reverse = 0\n",
        "\n",
        "for _ in range(Q):\n",
        "    query = list(input().split())\n",
        "    if query[0] == \"1\":\n",
        "        reverse = 1 - reverse\n",
        "    else:\n",
        "        f, c = int(query[1]), query[2]\n",
        "        if f == 1 and reverse == 0:\n",
        "            dq.appendleft(c)\n",
        "        elif f == 1 and reverse == 1:\n",
        "            dq.append(c)\n",
        "        elif f == 2 and reverse == 0:\n",
        "            dq.append(c)\n",
        "        else:\n",
        "            dq.appendleft(c)"
      ],
      "execution_count": null,
      "outputs": [
        {
          "name": "stdout",
          "output_type": "stream",
          "text": [
            "2 1 p\n",
            "1\n",
            "2 2 c\n",
            "1\n"
          ]
        }
      ]
    },
    {
      "cell_type": "code",
      "metadata": {
        "colab": {
          "base_uri": "https://localhost:8080/"
        },
        "id": "w7BQKVQ3OitC",
        "outputId": "817461b6-d4d9-46f3-deff-4b8452189a26"
      },
      "source": [
        "if reverse:\n",
        "    ans = \"\"\n",
        "    while dq:\n",
        "        s = dq.pop()\n",
        "        if s == \".\":\n",
        "            ans += S[::-1]\n",
        "        else:\n",
        "            ans += s \n",
        "else:\n",
        "    ans = \"\"\n",
        "    while dq:\n",
        "        s = dq.popleft()\n",
        "        if s == \".\":\n",
        "            ans += S\n",
        "        else:\n",
        "            ans += s\n",
        "\n",
        "print(ans)"
      ],
      "execution_count": null,
      "outputs": [
        {
          "output_type": "stream",
          "name": "stdout",
          "text": [
            "cppabc\n"
          ]
        }
      ]
    },
    {
      "cell_type": "code",
      "metadata": {
        "id": "DMFH86OTPJQ3"
      },
      "source": [
        ""
      ],
      "execution_count": null,
      "outputs": []
    }
  ]
}