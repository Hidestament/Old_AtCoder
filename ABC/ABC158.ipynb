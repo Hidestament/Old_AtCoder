{
  "nbformat": 4,
  "nbformat_minor": 0,
  "metadata": {
    "colab": {
      "name": "ABC158.ipynb",
      "provenance": [],
      "authorship_tag": "ABX9TyOKWPX8O3A0CNgqG7cls3cz",
      "include_colab_link": true
    },
    "kernelspec": {
      "name": "python3",
      "display_name": "Python 3"
    }
  },
  "cells": [
    {
      "cell_type": "markdown",
      "metadata": {
        "id": "view-in-github",
        "colab_type": "text"
      },
      "source": [
        "<a href=\"https://colab.research.google.com/github/Hidestament/AtCoder/blob/main/ABC/ABC158.ipynb\" target=\"_parent\"><img src=\"https://colab.research.google.com/assets/colab-badge.svg\" alt=\"Open In Colab\"/></a>"
      ]
    },
    {
      "cell_type": "markdown",
      "metadata": {
        "id": "WSnrwJkiWWJz"
      },
      "source": [
        "# A - Station and Bus"
      ]
    },
    {
      "cell_type": "code",
      "metadata": {
        "colab": {
          "base_uri": "https://localhost:8080/"
        },
        "id": "JXzalxpKWhFX",
        "outputId": "701af9e1-a2e2-43b4-9e15-42caf60de303"
      },
      "source": [
        "s = str(input())\r\n",
        "print(\"Yes\" if \"A\" in s and \"B\" in s else \"No\")"
      ],
      "execution_count": 3,
      "outputs": [
        {
          "output_type": "stream",
          "text": [
            "ABA\n",
            "Yes\n"
          ],
          "name": "stdout"
        }
      ]
    },
    {
      "cell_type": "markdown",
      "metadata": {
        "id": "aNJYtbkBHI83"
      },
      "source": [
        "## 他にもこんな書き方がある"
      ]
    },
    {
      "cell_type": "code",
      "metadata": {
        "colab": {
          "base_uri": "https://localhost:8080/"
        },
        "id": "-qTo7st8HJJR",
        "outputId": "d7d06391-02d6-42ed-bcd6-e31151a4149c"
      },
      "source": [
        "s = set(input())\r\n",
        "print(\"YNeos\"[len(s)==1::2])"
      ],
      "execution_count": 83,
      "outputs": [
        {
          "output_type": "stream",
          "text": [
            "AAA\n",
            "No\n"
          ],
          "name": "stdout"
        }
      ]
    },
    {
      "cell_type": "markdown",
      "metadata": {
        "id": "J0yOUGSqW442"
      },
      "source": [
        "# B - Count Balls"
      ]
    },
    {
      "cell_type": "code",
      "metadata": {
        "colab": {
          "base_uri": "https://localhost:8080/"
        },
        "id": "qQgkEeIRW7T8",
        "outputId": "ad99b2cb-1656-45f5-93df-dfe55b14adef"
      },
      "source": [
        "n, a, b = map(int, input().split())"
      ],
      "execution_count": 20,
      "outputs": [
        {
          "output_type": "stream",
          "text": [
            "6 2 4\n"
          ],
          "name": "stdout"
        }
      ]
    },
    {
      "cell_type": "code",
      "metadata": {
        "id": "XS-lG9EWpGK2"
      },
      "source": [
        "num_op, res = divmod(n, a+b)"
      ],
      "execution_count": 21,
      "outputs": []
    },
    {
      "cell_type": "code",
      "metadata": {
        "id": "ka3SZltfpGIm"
      },
      "source": [
        "ans = a * num_op + min(a, res)"
      ],
      "execution_count": 22,
      "outputs": []
    },
    {
      "cell_type": "code",
      "metadata": {
        "colab": {
          "base_uri": "https://localhost:8080/"
        },
        "id": "St9038fnpGGL",
        "outputId": "dc011d56-34fc-4c57-bdf3-0b9139b9cb81"
      },
      "source": [
        "print(ans)"
      ],
      "execution_count": 23,
      "outputs": [
        {
          "output_type": "stream",
          "text": [
            "2\n"
          ],
          "name": "stdout"
        }
      ]
    },
    {
      "cell_type": "markdown",
      "metadata": {
        "id": "3KGvt0_JpGaE"
      },
      "source": [
        "# C - Tax Increase\r\n",
        "x * 0.08 = A\r\n",
        " \r\n",
        "x * 0.1 = B"
      ]
    },
    {
      "cell_type": "code",
      "metadata": {
        "colab": {
          "base_uri": "https://localhost:8080/"
        },
        "id": "eYIJO41fpJPL",
        "outputId": "4f7ebf7f-35f9-4f61-f745-b8b679a180d1"
      },
      "source": [
        "a, b = map(int, input().split())"
      ],
      "execution_count": 38,
      "outputs": [
        {
          "output_type": "stream",
          "text": [
            "19 99\n"
          ],
          "name": "stdout"
        }
      ]
    },
    {
      "cell_type": "code",
      "metadata": {
        "id": "G46QwS9VqdUH"
      },
      "source": [
        "start =int(a / 0.08)"
      ],
      "execution_count": 39,
      "outputs": []
    },
    {
      "cell_type": "code",
      "metadata": {
        "colab": {
          "base_uri": "https://localhost:8080/"
        },
        "id": "uJSgBvejqkF0",
        "outputId": "1c5d2252-2fee-454e-dc7b-1ca093eaab75"
      },
      "source": [
        "start"
      ],
      "execution_count": 40,
      "outputs": [
        {
          "output_type": "execute_result",
          "data": {
            "text/plain": [
              "237"
            ]
          },
          "metadata": {
            "tags": []
          },
          "execution_count": 40
        }
      ]
    },
    {
      "cell_type": "code",
      "metadata": {
        "colab": {
          "base_uri": "https://localhost:8080/"
        },
        "id": "COfO9k5rqo9p",
        "outputId": "7afd2fbe-64e1-4060-ac0f-138a019bc279"
      },
      "source": [
        "for i in range(start, 10 ** 5):\r\n",
        "  if int(i * 0.08) == a and int(i * 0.1) == b:\r\n",
        "    print(i)\r\n",
        "    break\r\n",
        "print(-1)"
      ],
      "execution_count": 41,
      "outputs": [
        {
          "output_type": "stream",
          "text": [
            "-1\n"
          ],
          "name": "stdout"
        }
      ]
    },
    {
      "cell_type": "markdown",
      "metadata": {
        "id": "FmPjkflvrfjc"
      },
      "source": [
        "# D - String Formation"
      ]
    },
    {
      "cell_type": "markdown",
      "metadata": {
        "id": "y7xPeoYiLTZq"
      },
      "source": [
        "## PythonでTLE\r\n",
        "毎回毎回文字列を判定させているとTLEになる.\r\n",
        "\r\n",
        "文字列を1回反転させると, その次に加える文字は本来加える側と逆側に文字を足すことになる.\r\n",
        "\r\n",
        "よって, 今何回文字列を反転させるかを保存して操作を行い, 最後に反転させる."
      ]
    },
    {
      "cell_type": "code",
      "metadata": {
        "colab": {
          "base_uri": "https://localhost:8080/"
        },
        "id": "l_7zMdz0rhzE",
        "outputId": "fdb20d11-b014-44ab-d074-de0741ed082e"
      },
      "source": [
        "s = str(input())\r\n",
        "Q = int(input())"
      ],
      "execution_count": 76,
      "outputs": [
        {
          "output_type": "stream",
          "text": [
            "a\n",
            "6\n"
          ],
          "name": "stdout"
        }
      ]
    },
    {
      "cell_type": "code",
      "metadata": {
        "id": "oY3cJI7_sQfv"
      },
      "source": [
        "cnt = 2\r\n",
        "for i in range(Q):\r\n",
        "  q = list(input().split())\r\n",
        "  if q[0] == \"1\":\r\n",
        "    cnt += 1\r\n",
        "  else:\r\n",
        "    if cnt % 2 == 0:\r\n",
        "      if q[1] == \"1\":\r\n",
        "        s = q[-1] + s\r\n",
        "      else:\r\n",
        "        s +=  q[-1]\r\n",
        "    else:\r\n",
        "      if q[1] == \"1\":\r\n",
        "        s +=  q[-1]\r\n",
        "      else:\r\n",
        "        s = q[-1] + s\r\n",
        "print(s if cnt % 2 == 0 else s[::-1])"
      ],
      "execution_count": null,
      "outputs": []
    },
    {
      "cell_type": "markdown",
      "metadata": {
        "id": "NzGEOIwhLP_N"
      },
      "source": [
        "## 文字列の操作は一番最後に行う\r\n",
        "左側に加える文字列と, 右側に加える文字列を別々に保存しておく.\r\n",
        "\r\n",
        "そしてそれを最後に加える."
      ]
    },
    {
      "cell_type": "code",
      "metadata": {
        "id": "-qiDwsXRLR8H"
      },
      "source": [
        "s = str(input())\r\n",
        "Q = int(input())"
      ],
      "execution_count": null,
      "outputs": []
    },
    {
      "cell_type": "code",
      "metadata": {
        "id": "TmAXqurl0VkO"
      },
      "source": [
        "cnt = 2\r\n",
        "left = \"\"\r\n",
        "right = \"\"\r\n",
        "for i in range(Q):\r\n",
        "  q = list(input().split())\r\n",
        "  if q[0] == \"1\":\r\n",
        "    cnt += 1\r\n",
        "  else:\r\n",
        "    if cnt % 2 == 0:\r\n",
        "      if q[1] == \"1\":\r\n",
        "        left = q[-1] + left\r\n",
        "      else:\r\n",
        "        right = right + q[-1]\r\n",
        "    else:\r\n",
        "      if q[1] == \"1\":\r\n",
        "        right = right + q[-1]\r\n",
        "      else:\r\n",
        "        left = q[-1] + left\r\n",
        "\r\n",
        "s = left + s + right\r\n",
        "print(s if cnt % 2 == 0 else s[::-1])"
      ],
      "execution_count": 79,
      "outputs": []
    },
    {
      "cell_type": "markdown",
      "metadata": {
        "id": "VjNX13WwLVPa"
      },
      "source": [
        "## Dequeを使う\r\n",
        "頭と末尾にしか要素を加えないので, Dequeを使えば文字を加える操作は$O(1)$で行える."
      ]
    },
    {
      "cell_type": "code",
      "metadata": {
        "colab": {
          "base_uri": "https://localhost:8080/"
        },
        "id": "eZ7t070-LWTL",
        "outputId": "41e31a5a-637e-45e5-e11a-f879f2300620"
      },
      "source": [
        "from collections import deque\r\n",
        "\r\n",
        "s = input()\r\n",
        "Q = int(input())\r\n",
        "ans = deque(s)\r\n",
        "cnt = 2\r\n",
        "\r\n",
        "for i in range(Q):\r\n",
        "  q = list(input().split())\r\n",
        "  if q[0] == \"1\":\r\n",
        "    cnt += 1\r\n",
        "  else:\r\n",
        "    if cnt % 2 == 0:\r\n",
        "      if q[1] == \"1\":\r\n",
        "        ans.appendleft(q[-1])\r\n",
        "      else:\r\n",
        "        ans.append(q[-1])\r\n",
        "    else:\r\n",
        "      if q[1] == \"1\":\r\n",
        "        ans.append(q[-1])\r\n",
        "      else:\r\n",
        "        ans.appendleft(q[-1])\r\n",
        "\r\n",
        "print(\"\".join(map(str,ans)) if cnt % 2 == 0 else \"\".join(map(str, ans))[::-1])"
      ],
      "execution_count": 92,
      "outputs": [
        {
          "output_type": "stream",
          "text": [
            "a\n",
            "4\n",
            "2 1 p\n",
            "1\n",
            "2 2 c\n",
            "1\n",
            "cpa\n"
          ],
          "name": "stdout"
        }
      ]
    },
    {
      "cell_type": "code",
      "metadata": {
        "id": "3joK3VFsM0K1"
      },
      "source": [
        ""
      ],
      "execution_count": null,
      "outputs": []
    }
  ]
}