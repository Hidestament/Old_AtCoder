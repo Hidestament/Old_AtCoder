{
  "nbformat": 4,
  "nbformat_minor": 0,
  "metadata": {
    "colab": {
      "name": "ABC159.ipynb",
      "provenance": [],
      "authorship_tag": "ABX9TyM21W+bVQmHRha7KjBa+MvI",
      "include_colab_link": true
    },
    "kernelspec": {
      "name": "python3",
      "display_name": "Python 3"
    }
  },
  "cells": [
    {
      "cell_type": "markdown",
      "metadata": {
        "id": "view-in-github",
        "colab_type": "text"
      },
      "source": [
        "<a href=\"https://colab.research.google.com/github/Hidestament/AtCoder/blob/main/ABC/ABC159.ipynb\" target=\"_parent\"><img src=\"https://colab.research.google.com/assets/colab-badge.svg\" alt=\"Open In Colab\"/></a>"
      ]
    },
    {
      "cell_type": "markdown",
      "metadata": {
        "id": "i7VoCWBg6fHd"
      },
      "source": [
        "# A - The Number of Even Pairs"
      ]
    },
    {
      "cell_type": "markdown",
      "metadata": {
        "id": "ynGbw07i7hc7"
      },
      "source": [
        "$$\r\n",
        "_{n}C_{2} + _{m}C_{2} \\\\\r\n",
        "= \\frac{n!}{2!(n-2)!} + \\frac{m!}{2!(m-2)!}\r\n",
        "$$"
      ]
    },
    {
      "cell_type": "code",
      "metadata": {
        "colab": {
          "base_uri": "https://localhost:8080/"
        },
        "id": "fqMp5KzD6dyr",
        "outputId": "0c8b92db-bcdd-426d-a331-330ef82c1b18"
      },
      "source": [
        "import math\r\n",
        "n, m = map(int, input().split())\r\n",
        "if n >= 2 and m >= 2:\r\n",
        "  ans = 0\r\n",
        "  ans += int(math.factorial(n) / (2 * math.factorial(n-2)))\r\n",
        "  ans += int(math.factorial(m) / (2 * math.factorial(m-2)))\r\n",
        "  print(ans)\r\n",
        "elif n >= 2 and m < 2:\r\n",
        "  ans = int(math.factorial(n) / (2 * math.factorial(n-2)))\r\n",
        "  print(ans)\r\n",
        "elif n < 2 and m >= 2:\r\n",
        "  ans = int(math.factorial(m) / (2 * math.factorial(m-2)))\r\n",
        "  print(ans)\r\n",
        "else:\r\n",
        "  print(0)"
      ],
      "execution_count": null,
      "outputs": [
        {
          "output_type": "stream",
          "text": [
            "4 3\n",
            "9\n"
          ],
          "name": "stdout"
        }
      ]
    },
    {
      "cell_type": "markdown",
      "metadata": {
        "id": "knUvmbB0NMMr"
      },
      "source": [
        "## きれいに\r\n",
        "$_nC_2 = \\frac{n(n-1)}{2}$ なので, これを計算すれば良い.\r\n",
        "これなら場合分けもいらない（0になるので）"
      ]
    },
    {
      "cell_type": "code",
      "metadata": {
        "id": "oCbk7g0zNVYd"
      },
      "source": [
        "n, m = map(int, input().split())\r\n",
        "ans = (n*(n-1)) // 2 + (m*(m-1))//2\r\n",
        "print(ans)"
      ],
      "execution_count": null,
      "outputs": []
    },
    {
      "cell_type": "markdown",
      "metadata": {
        "id": "DZRdY8R_9UFE"
      },
      "source": [
        "# B - String Palindrome"
      ]
    },
    {
      "cell_type": "code",
      "metadata": {
        "colab": {
          "base_uri": "https://localhost:8080/"
        },
        "id": "mpbyd64Y9NOS",
        "outputId": "a13020d1-8cc7-456c-ec80-8590bb28fe69"
      },
      "source": [
        "s = str(input())\r\n",
        "s1 = s[:int((len(s)-1)//2)]\r\n",
        "s2 = s[int((len(s)+3)//2)-1:]\r\n",
        "print(\"Yes\" if s==s[::-1] and s1 == s1[::-1] and s2 == s2[::-1] else \"No\")"
      ],
      "execution_count": null,
      "outputs": [
        {
          "output_type": "stream",
          "text": [
            "akasaka\n",
            "aka\n",
            "aka\n",
            "Yes\n"
          ],
          "name": "stdout"
        }
      ]
    },
    {
      "cell_type": "markdown",
      "metadata": {
        "id": "SmFj0HHh-Xxn"
      },
      "source": [
        "# C - Maximum Volume"
      ]
    },
    {
      "cell_type": "markdown",
      "metadata": {
        "id": "KwTCpGoP--s9"
      },
      "source": [
        "縦, 横, 高さをそれぞれx, y, zとし, 求める体積をVとする.\r\n",
        "\r\n",
        "相加相乗平均より,\r\n",
        "$$ \r\n",
        "x + y + z \\geq 3(x*y*z)^{1/3} \\\\\r\n",
        "\\Leftrightarrow\r\n",
        "L \\geq 3V^{1/3} \\\\\r\n",
        "\\Leftrightarrow\r\n",
        "\\left( \\frac{L}{3} \\right)^3 \\geq V\r\n",
        "$$\r\n",
        "\r\n",
        "よって, 体積の最大値は$(L/3)^3$であり, 等号成立は, $x=y=z$である.\r\n",
        "\r\n",
        "参考:https://manabitimes.jp/math/566"
      ]
    },
    {
      "cell_type": "code",
      "metadata": {
        "colab": {
          "base_uri": "https://localhost:8080/"
        },
        "id": "l2OgV4EW9_7T",
        "outputId": "d87db651-19a2-427a-8c0f-023eb0c0b5b0"
      },
      "source": [
        "l = int(input())\r\n",
        "print((l/3) ** 3)"
      ],
      "execution_count": null,
      "outputs": [
        {
          "output_type": "stream",
          "text": [
            "99\n",
            "35937.0\n"
          ],
          "name": "stdout"
        }
      ]
    },
    {
      "cell_type": "markdown",
      "metadata": {
        "id": "KT0LH6c2_Vql"
      },
      "source": [
        "# D - Banned K"
      ]
    },
    {
      "cell_type": "markdown",
      "metadata": {
        "id": "HK9ZO65fBbf1"
      },
      "source": [
        "## 愚直にやるとTLE"
      ]
    },
    {
      "cell_type": "code",
      "metadata": {
        "colab": {
          "base_uri": "https://localhost:8080/"
        },
        "id": "PhHZeB4P_YQo",
        "outputId": "a9ef77a5-f714-41fb-9489-487df33f7272"
      },
      "source": [
        "from collections import Counter\r\n",
        "import math\r\n",
        "n = int(input())\r\n",
        "A = list(map(int, input().split()))\r\n",
        "cnt = Counter(A)"
      ],
      "execution_count": null,
      "outputs": [
        {
          "output_type": "stream",
          "text": [
            "5\n",
            "3 3 3 3 3\n"
          ],
          "name": "stdout"
        }
      ]
    },
    {
      "cell_type": "code",
      "metadata": {
        "colab": {
          "base_uri": "https://localhost:8080/"
        },
        "id": "WbPoovtN_3lD",
        "outputId": "d2f6b928-e818-470b-fb89-10147ca41561"
      },
      "source": [
        "for i in range(n):\r\n",
        "  new_cnt = cnt - Counter([A[i]])\r\n",
        "  ans = 0\r\n",
        "  for x in new_cnt:\r\n",
        "    if new_cnt[x] >= 2:\r\n",
        "      ans += math.factorial(new_cnt[x]) // (2 * math.factorial(new_cnt[x] - 2))\r\n",
        "  print(ans)"
      ],
      "execution_count": null,
      "outputs": [
        {
          "output_type": "stream",
          "text": [
            "6\n",
            "6\n",
            "6\n",
            "6\n",
            "6\n"
          ],
          "name": "stdout"
        }
      ]
    },
    {
      "cell_type": "markdown",
      "metadata": {
        "id": "Z0SFQsfNBdww"
      },
      "source": [
        "## 差で計算する（PythonでAC）\r\n",
        "$$\r\n",
        "_n C_2 - _{n-1}C_2 = \\frac{n!}{2!(n-2)!} - \\frac{(n-1)!}{2!(n-3)!} \\\\\r\n",
        "= \\frac{1}{2}\\left(\\frac{n!(n-3)!}{(n-2)!(n-3)!} - \\frac{(n-1)!(n-2)!}{(n-2)!(n-3)!} \\right) \\\\\r\n",
        "= \\frac{1}{2}\\left(\\frac{n!(n-3)! - (n-1)!(n-2)!}{(n-2)!(n-3)!} \\right) \\\\\r\n",
        "= \\frac{1}{2}\\left(\\frac{n!(n-3)! - (n-1)!(n-2)*(n-3)!}{(n-2)!(n-3)!} \\right) \\\\\r\n",
        "= \\frac{1}{2}\\left(\\frac{n! - (n-1)!(n-2)}{(n-2)!} \\right) \\\\\r\n",
        "= \\frac{1}{2}\\left(\\frac{n * (n-1) * (n-2)! - (n-1) * (n-2)!(n-2)}{(n-2)!} \\right) \\\\\r\n",
        "= \\frac{1}{2}\\left( n * (n-1) - (n-1)(n-2) \\right) \\\\\r\n",
        "= \\frac{1}{2}(n-1)\\left( n  - n + 2) \\right) \\\\\r\n",
        "= (n-1)\r\n",
        "$$\r\n",
        "\r\n",
        "より, 予め全ての$_nC_2$を計算しておいて, $n>=3$のものは$(n-1)$をひく.\r\n",
        "\r\n",
        "$n=2$のものはその組み合わせは存在しなくなるので, $_nC_2$をひく\r\n",
        "\r\n",
        "$n=0, 1$のものは最初から選べないので, 最終的な結果に影響はない.\r\n"
      ]
    },
    {
      "cell_type": "code",
      "metadata": {
        "colab": {
          "base_uri": "https://localhost:8080/"
        },
        "id": "zNQw-YPUBvsE",
        "outputId": "609af55f-8f53-4608-81a0-e8206e02ab91"
      },
      "source": [
        "from collections import Counter\r\n",
        "import math\r\n",
        "n = int(input())\r\n",
        "A = list(map(int, input().split()))\r\n",
        "cnt = Counter(A)\r\n",
        "combination = {}\r\n",
        "for i in cnt:\r\n",
        "  if cnt[i] >= 2:\r\n",
        "    combination[i] = int(math.factorial(cnt[i]) / (2 * math.factorial(cnt[i]-2)))\r\n",
        "\r\n",
        "sum_com = 0\r\n",
        "for i in combination:\r\n",
        "  sum_com += combination[i]"
      ],
      "execution_count": null,
      "outputs": [
        {
          "output_type": "stream",
          "text": [
            "8\n",
            "1 2 1 4 2 1 4 1\n"
          ],
          "name": "stdout"
        }
      ]
    },
    {
      "cell_type": "code",
      "metadata": {
        "colab": {
          "base_uri": "https://localhost:8080/"
        },
        "id": "d8ILcpylI4Ew",
        "outputId": "f08bb09a-6d8f-4f15-fc4e-40177d2f8b32"
      },
      "source": [
        "for i in range(n):\r\n",
        "  if cnt[A[i]] >= 3:\r\n",
        "    ans = sum_com - (cnt[A[i]] - 1)\r\n",
        "  elif 2 <= cnt[A[i]] < 3:\r\n",
        "    ans = sum_com - combination[A[i]]\r\n",
        "  else:\r\n",
        "    ans = sum_com\r\n",
        "  print(ans)"
      ],
      "execution_count": null,
      "outputs": [
        {
          "output_type": "stream",
          "text": [
            "5\n",
            "7\n",
            "5\n",
            "7\n",
            "7\n",
            "5\n",
            "7\n",
            "5\n"
          ],
          "name": "stdout"
        }
      ]
    },
    {
      "cell_type": "markdown",
      "metadata": {
        "id": "F5evt6LCQwa5"
      },
      "source": [
        "## きれいに\r\n",
        "上のような複雑な計算をしなくとも,\r\n",
        "$$\r\n",
        "_n C_2 - _{n-1}C_2 = \\frac{n(n-1)}{2} - \\frac{(n-1)(n-2)}{2} \\\\\r\n",
        "= \\frac{n-1}{2} \\left( n - n + 2 \\right) \\\\\r\n",
        "= (n-1)\r\n",
        "$$\r\n",
        "\r\n",
        "ここから全体の組み合わせを計算して, その後引くという考え.\r\n",
        "\r\n",
        "ある数が2個のときは, 元々組み合わせは1個なので, (n-1) = 1を引く.\r\n",
        "\r\n",
        "ある数が1個のときは, 元々組み合わせは0個なので, (n-1) = 0を引く.\r\n",
        "\r\n",
        "と,　場合分けもいらない"
      ]
    },
    {
      "cell_type": "code",
      "metadata": {
        "colab": {
          "base_uri": "https://localhost:8080/"
        },
        "id": "JiOOG_7wRDh2",
        "outputId": "3ceb20c1-0e0d-4879-f44a-533267e97673"
      },
      "source": [
        "from collections import Counter\r\n",
        "n = int(input())\r\n",
        "A = list(map(int, input().split()))\r\n",
        "cnt = Counter(A)\r\n",
        "\r\n",
        "total = 0\r\n",
        "for i in cnt:\r\n",
        "  total += ( cnt[i] * (cnt[i]-1) ) // 2"
      ],
      "execution_count": 72,
      "outputs": [
        {
          "output_type": "stream",
          "text": [
            "5\n",
            "1 1 2 1 2\n"
          ],
          "name": "stdout"
        }
      ]
    },
    {
      "cell_type": "code",
      "metadata": {
        "colab": {
          "base_uri": "https://localhost:8080/"
        },
        "id": "5okCnYvzRjqV",
        "outputId": "d67f71dd-39bc-40cb-9b0b-1856f3588415"
      },
      "source": [
        "for k in A:\r\n",
        "  print(total - (cnt[k] - 1))"
      ],
      "execution_count": 74,
      "outputs": [
        {
          "output_type": "stream",
          "text": [
            "2\n",
            "2\n",
            "3\n",
            "2\n",
            "3\n"
          ],
          "name": "stdout"
        }
      ]
    },
    {
      "cell_type": "code",
      "metadata": {
        "id": "BnObPOS7Rnb0"
      },
      "source": [
        ""
      ],
      "execution_count": null,
      "outputs": []
    }
  ]
}