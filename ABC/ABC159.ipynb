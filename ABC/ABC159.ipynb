{
  "nbformat": 4,
  "nbformat_minor": 0,
  "metadata": {
    "colab": {
      "name": "ABC159.ipynb",
      "provenance": [],
      "authorship_tag": "ABX9TyM2HhZxXKZFa7EwmBIVhABQ",
      "include_colab_link": true
    },
    "kernelspec": {
      "name": "python3",
      "display_name": "Python 3"
    },
    "language_info": {
      "name": "python"
    }
  },
  "cells": [
    {
      "cell_type": "markdown",
      "metadata": {
        "id": "view-in-github",
        "colab_type": "text"
      },
      "source": [
        "<a href=\"https://colab.research.google.com/github/Hidestament/AtCoder/blob/main/ABC/ABC159.ipynb\" target=\"_parent\"><img src=\"https://colab.research.google.com/assets/colab-badge.svg\" alt=\"Open In Colab\"/></a>"
      ]
    },
    {
      "cell_type": "markdown",
      "source": [
        "# [AtCoder Beginner Contest 159](https://atcoder.jp/contests/abc159)"
      ],
      "metadata": {
        "id": "3RCKmc1WGRRU"
      }
    },
    {
      "cell_type": "markdown",
      "source": [
        "## [A - The Number of Even Pairs](https://atcoder.jp/contests/abc159/tasks/abc159_a)"
      ],
      "metadata": {
        "id": "ALZIYiUMGTwa"
      }
    },
    {
      "cell_type": "code",
      "execution_count": null,
      "metadata": {
        "id": "951EPgVxFtbV"
      },
      "outputs": [],
      "source": [
        "N, M = map(int, input().split())\n",
        "print(N * (N - 1) // 2 + M * (M - 1) // 2)"
      ]
    },
    {
      "cell_type": "markdown",
      "source": [
        "## [B - String Palindrome](https://atcoder.jp/contests/abc159/tasks/abc159_b)"
      ],
      "metadata": {
        "id": "xgF5mpsjGfbY"
      }
    },
    {
      "cell_type": "code",
      "source": [
        "S = str(input())\n",
        "N = len(S)\n",
        "before = S[:N//2]\n",
        "after = S[N//2 + 1:]\n",
        "if S == S[::-1] and before == before[::-1] and after == after[::-1]:\n",
        "    print(\"Yes\")\n",
        "else:\n",
        "    print(\"No\") "
      ],
      "metadata": {
        "id": "NG80dJ4JGhDb"
      },
      "execution_count": null,
      "outputs": []
    },
    {
      "cell_type": "markdown",
      "source": [
        "## [C - Maximum Volume](https://atcoder.jp/contests/abc159/tasks/abc159_c)"
      ],
      "metadata": {
        "id": "s0QDU9WBHNJk"
      }
    },
    {
      "cell_type": "code",
      "source": [
        "L = int(input())\n",
        "print(pow(L/3, 3))"
      ],
      "metadata": {
        "id": "8_nn729EHQ1h"
      },
      "execution_count": null,
      "outputs": []
    },
    {
      "cell_type": "markdown",
      "source": [
        "## [D - Banned K](https://atcoder.jp/contests/abc159/tasks/abc159_d)"
      ],
      "metadata": {
        "id": "-YYytrVlHjG8"
      }
    },
    {
      "cell_type": "code",
      "source": [
        "N = int(input())\n",
        "A = list(map(int, input().split()))"
      ],
      "metadata": {
        "colab": {
          "base_uri": "https://localhost:8080/"
        },
        "id": "RgCDUmUAHjA4",
        "outputId": "6687da7b-c42f-4708-a116-e562ad0b7689"
      },
      "execution_count": 1,
      "outputs": [
        {
          "name": "stdout",
          "output_type": "stream",
          "text": [
            "5\n",
            "1 1 2 1 2\n"
          ]
        }
      ]
    },
    {
      "cell_type": "code",
      "source": [
        "from collections import Counter\n",
        "cnt = Counter(A)\n",
        "s = sum(value * (value - 1) // 2 for key, value in cnt.items())\n",
        "for i in range(N):\n",
        "    n = A[i]\n",
        "    s -= cnt[n] * (cnt[n] - 1) // 2\n",
        "    s += (cnt[n] - 1) * (cnt[n] - 2) // 2\n",
        "    print(s)\n",
        "    s -= (cnt[n] - 1) * (cnt[n] - 2) // 2\n",
        "    s += cnt[n] * (cnt[n] - 1) // 2"
      ],
      "metadata": {
        "colab": {
          "base_uri": "https://localhost:8080/"
        },
        "id": "5x24B7G6HzM2",
        "outputId": "89ced7d3-1ee1-4321-ba39-9ba9d439b7b8"
      },
      "execution_count": 2,
      "outputs": [
        {
          "output_type": "stream",
          "name": "stdout",
          "text": [
            "4\n",
            "4\n",
            "3\n",
            "4\n",
            "3\n"
          ]
        }
      ]
    },
    {
      "cell_type": "markdown",
      "source": [
        "## [E - Dividing Chocolate](https://atcoder.jp/contests/abc159/tasks/abc159_e)"
      ],
      "metadata": {
        "id": "qejLPEvAJFiE"
      }
    },
    {
      "cell_type": "code",
      "source": [
        "H, W, K = map(int, input().split())\n",
        "S = [input() for _ in range(H)]"
      ],
      "metadata": {
        "colab": {
          "base_uri": "https://localhost:8080/"
        },
        "id": "nWvXupUDIHaa",
        "outputId": "4b26816d-61e2-48fc-9520-ddee96bdc0f0"
      },
      "execution_count": 9,
      "outputs": [
        {
          "name": "stdout",
          "output_type": "stream",
          "text": [
            "3 5 4\n",
            "11100\n",
            "10001\n",
            "00111\n"
          ]
        }
      ]
    },
    {
      "cell_type": "code",
      "source": [
        "acc = [[0] * W for _ in range(H+1)]\n",
        "for w in range(W):\n",
        "    for h in range(H):\n",
        "        acc[h+1][w] += acc[h][w] + int(S[h][w])"
      ],
      "metadata": {
        "id": "xNdkstsWQX6x"
      },
      "execution_count": 21,
      "outputs": []
    },
    {
      "cell_type": "code",
      "source": [
        "acc"
      ],
      "metadata": {
        "colab": {
          "base_uri": "https://localhost:8080/"
        },
        "id": "94cSH_qwS8TK",
        "outputId": "33862609-aa29-49ad-d4a6-56c67f454028"
      },
      "execution_count": 13,
      "outputs": [
        {
          "output_type": "execute_result",
          "data": {
            "text/plain": [
              "[[0, 0, 0, 0, 0], [1, 1, 1, 0, 0], [2, 1, 1, 0, 1], [2, 1, 2, 1, 2]]"
            ]
          },
          "metadata": {},
          "execution_count": 13
        }
      ]
    },
    {
      "cell_type": "code",
      "source": [
        "ans = 10**15\n",
        "for bit in range(1 << (H - 1)):\n",
        "    cut = [0]\n",
        "    for i in range(H - 1):\n",
        "        if bit & 1 << i:\n",
        "            cut.append(i + 1)\n",
        "    cut.append(H)\n",
        "\n",
        "    white = [0] * (len(cut) - 1)\n",
        "    num_cut = len(cut) - 2\n",
        "\n",
        "    flag = True\n",
        "    for w in range(W):\n",
        "        if any(acc[cut[i+1]][w] - acc[cut[i]][w] > K for i in range(len(cut)-1)):\n",
        "            flag = False\n",
        "            break\n",
        "        elif all(white[i] + (acc[cut[i+1]][w] - acc[cut[i]][w]) <= K for i in range(len(cut)-1)):\n",
        "            white = [white[i] + (acc[cut[i+1]][w] - acc[cut[i]][w]) for i in range(len(cut)-1)]\n",
        "        else:\n",
        "            white = [(acc[cut[i+1]][w] - acc[cut[i]][w]) for i in range(len(cut)-1)]\n",
        "            num_cut += 1\n",
        "    \n",
        "    if flag:\n",
        "        ans = min(ans, num_cut)"
      ],
      "metadata": {
        "id": "gRuxf0n0IoRF"
      },
      "execution_count": 19,
      "outputs": []
    },
    {
      "cell_type": "code",
      "source": [
        "print(ans)"
      ],
      "metadata": {
        "colab": {
          "base_uri": "https://localhost:8080/"
        },
        "id": "dXjsLLl1Q8i7",
        "outputId": "1e69c9d6-5966-4f92-af8f-beeb3fef97bd"
      },
      "execution_count": 20,
      "outputs": [
        {
          "output_type": "stream",
          "name": "stdout",
          "text": [
            "2\n"
          ]
        }
      ]
    },
    {
      "cell_type": "code",
      "source": [
        ""
      ],
      "metadata": {
        "id": "p7cW0hTfTSAr"
      },
      "execution_count": null,
      "outputs": []
    }
  ]
}