{
  "nbformat": 4,
  "nbformat_minor": 0,
  "metadata": {
    "colab": {
      "name": "ABC160.ipynb",
      "provenance": [],
      "collapsed_sections": [],
      "authorship_tag": "ABX9TyNGh1nG8N55zN2Fem+GgrPx",
      "include_colab_link": true
    },
    "kernelspec": {
      "name": "python3",
      "display_name": "Python 3"
    },
    "language_info": {
      "name": "python"
    }
  },
  "cells": [
    {
      "cell_type": "markdown",
      "metadata": {
        "id": "view-in-github",
        "colab_type": "text"
      },
      "source": [
        "<a href=\"https://colab.research.google.com/github/Hidestament/AtCoder/blob/main/ABC/ABC160.ipynb\" target=\"_parent\"><img src=\"https://colab.research.google.com/assets/colab-badge.svg\" alt=\"Open In Colab\"/></a>"
      ]
    },
    {
      "cell_type": "markdown",
      "metadata": {
        "id": "-lz1jc16EpHs"
      },
      "source": [
        "# [AtCoder Beginner Contest 160](https://atcoder.jp/contests/abc160)"
      ]
    },
    {
      "cell_type": "markdown",
      "metadata": {
        "id": "mzm8xD6SEpDb"
      },
      "source": [
        "## [A - Coffee](https://atcoder.jp/contests/abc160/tasks/abc160_a)"
      ]
    },
    {
      "cell_type": "code",
      "metadata": {
        "id": "0at9skpcEoAN"
      },
      "source": [
        "S = str(input())\n",
        "if S[2] == S[3] and S[4] == S[5]: print(\"Yes\")\n",
        "else: print(\"No\")"
      ],
      "execution_count": null,
      "outputs": []
    },
    {
      "cell_type": "markdown",
      "metadata": {
        "id": "-7QMb767E0gA"
      },
      "source": [
        "## [B - Golden Coins](https://atcoder.jp/contests/abc160/tasks/abc160_b)"
      ]
    },
    {
      "cell_type": "code",
      "metadata": {
        "colab": {
          "base_uri": "https://localhost:8080/"
        },
        "id": "tSOH3VAbE3ec",
        "outputId": "c60f98f1-e901-4881-8008-86584391b297"
      },
      "source": [
        "X = int(input())\n",
        "ans = 0\n",
        "for x, v in [[500, 1000], [5, 5]]:\n",
        "    ans += v * (X // x)\n",
        "    X = X % x\n",
        "print(ans)"
      ],
      "execution_count": null,
      "outputs": [
        {
          "output_type": "stream",
          "name": "stdout",
          "text": [
            "1024\n",
            "2020\n"
          ]
        }
      ]
    },
    {
      "cell_type": "markdown",
      "metadata": {
        "id": "-150RZv2Fck7"
      },
      "source": [
        "## [C - Traveling Salesman around Lake](https://atcoder.jp/contests/abc160/tasks/abc160_c)"
      ]
    },
    {
      "cell_type": "markdown",
      "metadata": {
        "id": "GKQY6zI3N7so"
      },
      "source": [
        "番兵入れると計算しやすい"
      ]
    },
    {
      "cell_type": "code",
      "metadata": {
        "colab": {
          "base_uri": "https://localhost:8080/"
        },
        "id": "JoY6vvn2FE7D",
        "outputId": "b4b39773-9270-4f33-b7f3-a15cc0a47f65"
      },
      "source": [
        "K, N = map(int, input().split())\n",
        "A = list(map(int, input().split()))"
      ],
      "execution_count": null,
      "outputs": [
        {
          "name": "stdout",
          "output_type": "stream",
          "text": [
            "20 3\n",
            "5 10 15\n"
          ]
        }
      ]
    },
    {
      "cell_type": "code",
      "metadata": {
        "colab": {
          "base_uri": "https://localhost:8080/"
        },
        "id": "LdTm43tqLczb",
        "outputId": "e950a9b6-48f4-4594-88b0-2500b6129857"
      },
      "source": [
        "A = [0] + A + [K]"
      ],
      "execution_count": null,
      "outputs": [
        {
          "output_type": "execute_result",
          "data": {
            "text/plain": [
              "[0, 5, 10, 15, 20]"
            ]
          },
          "metadata": {},
          "execution_count": 46
        }
      ]
    },
    {
      "cell_type": "code",
      "metadata": {
        "id": "RBo5nlSjLcwZ"
      },
      "source": [
        "dist = [0] * (N+2)\n",
        "\n",
        "for i in range(N+1):\n",
        "    dist[i] = A[i+1] - A[i]\n",
        "dist[-1] = dist[0] + dist[-2]"
      ],
      "execution_count": null,
      "outputs": []
    },
    {
      "cell_type": "code",
      "metadata": {
        "colab": {
          "base_uri": "https://localhost:8080/"
        },
        "id": "EqXpfOK3Lctu",
        "outputId": "890e7919-b098-4bf6-e5ea-76afa30eebf3"
      },
      "source": [
        "print(K - max(dist))"
      ],
      "execution_count": null,
      "outputs": [
        {
          "output_type": "execute_result",
          "data": {
            "text/plain": [
              "[5, 5, 5, 5, 0]"
            ]
          },
          "metadata": {},
          "execution_count": 51
        }
      ]
    },
    {
      "cell_type": "markdown",
      "metadata": {
        "id": "GvZoNjtcGxoe"
      },
      "source": [
        "## [D - Line ++](https://atcoder.jp/contests/abc160/tasks/abc160_d)"
      ]
    },
    {
      "cell_type": "code",
      "metadata": {
        "colab": {
          "base_uri": "https://localhost:8080/"
        },
        "id": "9q5tB5ePGTHI",
        "outputId": "7e26f299-af16-497e-f3f1-60874d9c31e0"
      },
      "source": [
        "N, X, Y = map(int, input().split())\n",
        "X -= 1\n",
        "Y -= 1"
      ],
      "execution_count": null,
      "outputs": [
        {
          "name": "stdout",
          "output_type": "stream",
          "text": [
            "5 2 4\n"
          ]
        }
      ]
    },
    {
      "cell_type": "markdown",
      "metadata": {
        "id": "i5kDk7P76tTg"
      },
      "source": [
        "dist[i][j] = dist[i][x] + dist[x][y] + dist[y][j] or dist[i][j]"
      ]
    },
    {
      "cell_type": "code",
      "metadata": {
        "id": "JhQRf-ThGa3Q"
      },
      "source": [
        "INF = 10**10\n",
        "dist = [[INF] * N for _ in range(N)]\n",
        "for i in range(N):\n",
        "    dist[i][i] = 0\n",
        "\n",
        "for i in range(N-1):\n",
        "    for j in range(i+1, N):\n",
        "        if (i == X and j == Y):\n",
        "            dist[i][j] = 1\n",
        "        elif (j == i + 1):\n",
        "            dist[i][j] = 1\n",
        "        else:\n",
        "            # 直接行くか or X-Yループを使うか\n",
        "            dist[i][j] = min(j-i, abs(X-i) + 1 + abs(Y-j))"
      ],
      "execution_count": null,
      "outputs": []
    },
    {
      "cell_type": "code",
      "metadata": {
        "colab": {
          "base_uri": "https://localhost:8080/"
        },
        "id": "11MkUbKV5bQb",
        "outputId": "4bfac84e-c604-4946-de97-bb19d7da83d6"
      },
      "source": [
        "ans = [0] * (N+10)\n",
        "for i in range(N-1):\n",
        "    for j in range(i+1, N):\n",
        "        k = dist[i][j]\n",
        "        ans[k] += 1\n",
        "for k in range(1, N):\n",
        "    print(ans[k])"
      ],
      "execution_count": null,
      "outputs": [
        {
          "output_type": "stream",
          "name": "stdout",
          "text": [
            "5\n",
            "4\n",
            "1\n",
            "0\n"
          ]
        }
      ]
    },
    {
      "cell_type": "markdown",
      "metadata": {
        "id": "kUYRaGIc7zeM"
      },
      "source": [
        "今回の最短距離は, 他の最短距離を参照せずとも作れるため, 距離配列を持っておく必要はない"
      ]
    },
    {
      "cell_type": "code",
      "metadata": {
        "colab": {
          "base_uri": "https://localhost:8080/"
        },
        "id": "Nm0lDC076OeZ",
        "outputId": "5f6021be-6291-4913-eadd-c16fa8a32b29"
      },
      "source": [
        "N, X, Y = map(int, input().split())\n",
        "X -= 1\n",
        "Y -= 1"
      ],
      "execution_count": null,
      "outputs": [
        {
          "output_type": "execute_result",
          "data": {
            "text/plain": [
              "1"
            ]
          },
          "metadata": {},
          "execution_count": 10
        }
      ]
    },
    {
      "cell_type": "code",
      "metadata": {
        "id": "_bibxp6_6Obb"
      },
      "source": [
        "ans = [0] * (N + 10)\n",
        "for i in range(N-1):\n",
        "    for j in range(i+1, N):\n",
        "        if (i == X and j == Y):\n",
        "            ans[1] += 1\n",
        "        elif (j == i + 1):\n",
        "            ans[1] += 1\n",
        "        else:\n",
        "            # 直接行くか or X-Yループを使うか\n",
        "            k = min(j-i, abs(X-i) + 1 + abs(Y-j))\n",
        "            ans[k] += 1"
      ],
      "execution_count": null,
      "outputs": []
    },
    {
      "cell_type": "code",
      "metadata": {
        "id": "TyWPxRww7_yP"
      },
      "source": [
        "for k in range(1, N):\n",
        "    print(ans[k])"
      ],
      "execution_count": null,
      "outputs": []
    },
    {
      "cell_type": "markdown",
      "metadata": {
        "id": "ga0P24OE8cVj"
      },
      "source": [
        "## [E - Red and Green Apples](https://atcoder.jp/contests/abc160/tasks/abc160_e)"
      ]
    },
    {
      "cell_type": "code",
      "metadata": {
        "colab": {
          "base_uri": "https://localhost:8080/"
        },
        "id": "XfM-aR-p8gpm",
        "outputId": "1d3308b7-fab2-41ea-e992-f7f56d7ed968"
      },
      "source": [
        "X, Y, A, B, C = map(int, input().split())\n",
        "P = list(map(int, input().split()))\n",
        "Q = list(map(int, input().split()))\n",
        "R = list(map(int, input().split()))"
      ],
      "execution_count": null,
      "outputs": [
        {
          "name": "stdout",
          "output_type": "stream",
          "text": [
            "1 2 2 2 1\n",
            "2 4\n",
            "5 1\n",
            "3\n"
          ]
        }
      ]
    },
    {
      "cell_type": "code",
      "metadata": {
        "id": "2YZewVsV-XyN"
      },
      "source": [
        "P = sorted(P, reverse=True)\n",
        "Q = sorted(Q, reverse=True)\n",
        "R = sorted(R, reverse=True)"
      ],
      "execution_count": null,
      "outputs": []
    },
    {
      "cell_type": "code",
      "metadata": {
        "id": "0BquYWAr-dNb"
      },
      "source": [
        "from heapq import heappop, heappush, heapify, heappushpop\n",
        "hq = P[:X] + Q[:Y]\n",
        "heapify(hq)"
      ],
      "execution_count": null,
      "outputs": []
    },
    {
      "cell_type": "code",
      "metadata": {
        "colab": {
          "base_uri": "https://localhost:8080/"
        },
        "id": "p7CAX7dc-8GV",
        "outputId": "9cb99680-c1bc-467f-8f2b-fb601e89e0ca"
      },
      "source": [
        "for r in R:\n",
        "    heappushpop(hq, r)"
      ],
      "execution_count": null,
      "outputs": [
        {
          "output_type": "execute_result",
          "data": {
            "text/plain": [
              "([4, 2], [5, 1], [3])"
            ]
          },
          "metadata": {},
          "execution_count": 31
        }
      ]
    },
    {
      "cell_type": "code",
      "metadata": {
        "colab": {
          "base_uri": "https://localhost:8080/"
        },
        "id": "1ZsYTXG6_nuZ",
        "outputId": "9e9ce3c4-b0fe-40ee-db60-54f4aa31a0f8"
      },
      "source": [
        "print(sum(hq))"
      ],
      "execution_count": null,
      "outputs": [
        {
          "output_type": "execute_result",
          "data": {
            "text/plain": [
              "([4], [5, 1])"
            ]
          },
          "metadata": {},
          "execution_count": 32
        }
      ]
    }
  ]
}