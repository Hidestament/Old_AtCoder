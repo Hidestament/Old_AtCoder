{
  "nbformat": 4,
  "nbformat_minor": 0,
  "metadata": {
    "colab": {
      "name": "ABC161.ipynb",
      "provenance": [],
      "collapsed_sections": [],
      "authorship_tag": "ABX9TyPtD16Qi1rOKlJdSV3jpgi7",
      "include_colab_link": true
    },
    "kernelspec": {
      "name": "python3",
      "display_name": "Python 3"
    },
    "language_info": {
      "name": "python"
    }
  },
  "cells": [
    {
      "cell_type": "markdown",
      "metadata": {
        "id": "view-in-github",
        "colab_type": "text"
      },
      "source": [
        "<a href=\"https://colab.research.google.com/github/Hidestament/AtCoder/blob/main/ABC/ABC161.ipynb\" target=\"_parent\"><img src=\"https://colab.research.google.com/assets/colab-badge.svg\" alt=\"Open In Colab\"/></a>"
      ]
    },
    {
      "cell_type": "markdown",
      "metadata": {
        "id": "zY7vGID17yKh"
      },
      "source": [
        "# [AtCoder Beginner Contest 161](https://atcoder.jp/contests/abc161)"
      ]
    },
    {
      "cell_type": "markdown",
      "metadata": {
        "id": "84L8EdlJ700c"
      },
      "source": [
        "## [A - ABC Swap](https://atcoder.jp/contests/abc161/tasks/abc161_a)"
      ]
    },
    {
      "cell_type": "code",
      "metadata": {
        "id": "J70OmbVh7wlp"
      },
      "source": [
        "X, Y, Z = map(int, input().split())\n",
        "print(Z, X, Y)"
      ],
      "execution_count": null,
      "outputs": []
    },
    {
      "cell_type": "markdown",
      "metadata": {
        "id": "qabEA1I28AiH"
      },
      "source": [
        "## [B - Popular Vote](https://atcoder.jp/contests/abc161/tasks/abc161_b)"
      ]
    },
    {
      "cell_type": "code",
      "metadata": {
        "id": "BKkD1X8j8Dec"
      },
      "source": [
        "N, M = map(int, input().split())\n",
        "A = list(map(int, input().split()))\n",
        "\n",
        "border = sum(A) / (4 * M)\n",
        "ans = [a for a in A if a >= border]\n",
        "print(\"Yes\" if len(ans) >= M else \"No\")"
      ],
      "execution_count": null,
      "outputs": []
    },
    {
      "cell_type": "markdown",
      "metadata": {
        "id": "X4UtRiU-8nla"
      },
      "source": [
        "## [C - Replacing Integer](https://atcoder.jp/contests/abc161/tasks/abc161_c)"
      ]
    },
    {
      "cell_type": "code",
      "metadata": {
        "colab": {
          "base_uri": "https://localhost:8080/"
        },
        "id": "pu0AMh3t8qJ4",
        "outputId": "7de4a2c6-fe6f-4d4e-bdff-48c5966eea33"
      },
      "source": [
        "N, K = map(int, input().split())\n",
        "if N == K: print(0)\n",
        "elif N < K: print(min(N, abs(N-K)))\n",
        "else:\n",
        "    next = N % K\n",
        "    print(min(next, abs(next - K)))"
      ],
      "execution_count": null,
      "outputs": [
        {
          "output_type": "stream",
          "name": "stdout",
          "text": [
            "1000000000000000000 1\n",
            "0\n"
          ]
        }
      ]
    },
    {
      "cell_type": "markdown",
      "metadata": {
        "id": "b9i-Zv_7-qqf"
      },
      "source": [
        "## [D - Lunlun Number](https://atcoder.jp/contests/abc161/tasks/abc161_d)"
      ]
    },
    {
      "cell_type": "markdown",
      "metadata": {
        "id": "iOSu9NFrwxHM"
      },
      "source": [
        "3通りの方法で解いている. [解説](https://www.notion.so/14dd0ba15c874b3988f7436a0fe6e8f0)\n",
        "1. あるルンルン数を受け取って, 辞書順で次のルンルン数を頑張って生成する方法.\n",
        "2. 10桁までのルンルン数をDFSで全列挙する方法.\n",
        "3. BFSを使って, K番目のルンルン数を生成する方法."
      ]
    },
    {
      "cell_type": "markdown",
      "metadata": {
        "id": "CfEwDk1kxRCo"
      },
      "source": [
        "### 1. 次のルンルン数を頑張って作る方法"
      ]
    },
    {
      "cell_type": "code",
      "metadata": {
        "id": "f8CY_vUw683k"
      },
      "source": [
        "def next_lunlun(n):\n",
        "    n = list(str(n))\n",
        "    dig = len(n)\n",
        "    n = n[::-1]\n",
        "    for k in range(len(n)-1):\n",
        "        if n[k] <= n[k+1] and int(n[k]) < 9:\n",
        "            n[k] = str(int(n[k]) + 1)\n",
        "            h = k\n",
        "            cnt = 1\n",
        "            while h >= 1:\n",
        "                n[h-1] = str(max(0, int(n[k]) - cnt))\n",
        "                h -= 1\n",
        "                cnt += 1\n",
        "            break\n",
        "\n",
        "    else:\n",
        "        if int(n[-1]) < 9:\n",
        "            n = [str(i) for i in range(int(n[-1])+1, -1, -1)]\n",
        "            n += [\"0\"] * 10\n",
        "            n = n[:dig]\n",
        "            return int(\"\".join(n))\n",
        "        else:\n",
        "            return 1 * 10 **(len(n))\n",
        "\n",
        "    n = n[::-1]\n",
        "    n = int(\"\".join(n))\n",
        "    return n"
      ],
      "execution_count": null,
      "outputs": []
    },
    {
      "cell_type": "code",
      "metadata": {
        "colab": {
          "base_uri": "https://localhost:8080/"
        },
        "id": "hqt4vhv49u37",
        "outputId": "9a36d8cb-d09e-42f1-fc44-039d8268428f"
      },
      "source": [
        "K = int(input())\n",
        "now = 1\n",
        "temp = [1]\n",
        "for i in range(K-1):\n",
        "    now = next_lunlun(now)\n",
        "    temp.append(now)\n",
        "print(now)"
      ],
      "execution_count": null,
      "outputs": [
        {
          "output_type": "stream",
          "name": "stdout",
          "text": [
            "100000\n",
            "3234566667\n"
          ]
        }
      ]
    },
    {
      "cell_type": "markdown",
      "metadata": {
        "id": "WDgo33azn04b"
      },
      "source": [
        "### 2. DFSで全列挙する方法"
      ]
    },
    {
      "cell_type": "code",
      "metadata": {
        "id": "hml5l25YqbCJ"
      },
      "source": [
        "def dfs(now, depth):\n",
        "    if depth == 10: return\n",
        "    s = int(now[-1])\n",
        "    for next in range(s-1, s+2):\n",
        "        if 0 <= next <= 9:\n",
        "            next_num = now + str(next)\n",
        "            ans.append(int(next_num))\n",
        "            dfs(next_num, depth + 1)"
      ],
      "execution_count": 67,
      "outputs": []
    },
    {
      "cell_type": "code",
      "metadata": {
        "colab": {
          "base_uri": "https://localhost:8080/"
        },
        "id": "y87I1lmPsgfL",
        "outputId": "c88599e5-cfed-4141-c734-725ef4193b05"
      },
      "source": [
        "K = int(input())\n",
        "ans = []\n",
        "for i in range(1, 10):\n",
        "    ans.append(i)\n",
        "    dfs(str(i), 0)\n",
        "ans = sorted(ans)\n",
        "print(ans[K-1])"
      ],
      "execution_count": 68,
      "outputs": [
        {
          "output_type": "stream",
          "name": "stdout",
          "text": [
            "10\n",
            "10\n"
          ]
        }
      ]
    },
    {
      "cell_type": "markdown",
      "metadata": {
        "id": "O-bBifa9t6pg"
      },
      "source": [
        "### 3. BFSで列挙する方法"
      ]
    },
    {
      "cell_type": "code",
      "metadata": {
        "colab": {
          "base_uri": "https://localhost:8080/"
        },
        "id": "Gc90Fc4DtK1Z",
        "outputId": "29340e9c-4f21-4f19-b375-bc5a2958acf4"
      },
      "source": [
        "from collections import deque\n",
        "K = int(input())\n",
        "dq = deque([str(i) for i in range(1, 10)])\n",
        "for _ in range(K-1):\n",
        "    now = dq.popleft()\n",
        "    s = int(now[-1])\n",
        "    for next in range(s-1, s+2):\n",
        "        if 0 <= next <= 9:\n",
        "            next_num = now + str(next)\n",
        "            dq.append(next_num)"
      ],
      "execution_count": 61,
      "outputs": [
        {
          "name": "stdout",
          "output_type": "stream",
          "text": [
            "100000\n"
          ]
        }
      ]
    },
    {
      "cell_type": "code",
      "metadata": {
        "colab": {
          "base_uri": "https://localhost:8080/"
        },
        "id": "iPRXtG1RuYqR",
        "outputId": "2a21ed53-0415-4151-a8c2-d1aa6fb4732e"
      },
      "source": [
        "print(dq.popleft())"
      ],
      "execution_count": 62,
      "outputs": [
        {
          "output_type": "stream",
          "name": "stdout",
          "text": [
            "3234566667\n"
          ]
        }
      ]
    }
  ]
}