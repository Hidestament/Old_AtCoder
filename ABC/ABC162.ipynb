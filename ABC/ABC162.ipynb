{
  "nbformat": 4,
  "nbformat_minor": 0,
  "metadata": {
    "colab": {
      "name": "ABC162.ipynb",
      "provenance": [],
      "collapsed_sections": [],
      "authorship_tag": "ABX9TyPBEbEC5ghqeFDNI9zY+A58",
      "include_colab_link": true
    },
    "kernelspec": {
      "name": "python3",
      "display_name": "Python 3"
    },
    "language_info": {
      "name": "python"
    }
  },
  "cells": [
    {
      "cell_type": "markdown",
      "metadata": {
        "id": "view-in-github",
        "colab_type": "text"
      },
      "source": [
        "<a href=\"https://colab.research.google.com/github/Hidestament/AtCoder/blob/main/ABC/ABC162.ipynb\" target=\"_parent\"><img src=\"https://colab.research.google.com/assets/colab-badge.svg\" alt=\"Open In Colab\"/></a>"
      ]
    },
    {
      "cell_type": "markdown",
      "metadata": {
        "id": "RLCRPxGz2qQH"
      },
      "source": [
        "# [AtCoder Beginner Contest 162](https://atcoder.jp/contests/abc162)"
      ]
    },
    {
      "cell_type": "markdown",
      "metadata": {
        "id": "UoEldaBi2sJV"
      },
      "source": [
        "## [A - Lucky 7](https://atcoder.jp/contests/abc162/tasks/abc162_a)"
      ]
    },
    {
      "cell_type": "code",
      "metadata": {
        "id": "rUqsSgCj2qGC"
      },
      "source": [
        "N = str(input())\n",
        "print(\"Yes\" if \"7\" in N else \"No\")"
      ],
      "execution_count": null,
      "outputs": []
    },
    {
      "cell_type": "markdown",
      "metadata": {
        "id": "leUcWLBo28Ha"
      },
      "source": [
        "## [B - FizzBuzz Sum](https://atcoder.jp/contests/abc162/tasks/abc162_b)"
      ]
    },
    {
      "cell_type": "code",
      "metadata": {
        "colab": {
          "base_uri": "https://localhost:8080/"
        },
        "id": "4IrZqGzO2iAc",
        "outputId": "17f1d79c-bb33-499d-83f3-ef3c187c5306"
      },
      "source": [
        "N = int(input())\n",
        "ans = 0\n",
        "for i in range(1, N+1):\n",
        "    if i % 3 != 0 and i % 5 != 0:\n",
        "        ans += i\n",
        "print(ans)"
      ],
      "execution_count": null,
      "outputs": [
        {
          "output_type": "stream",
          "name": "stdout",
          "text": [
            "1000000\n",
            "266666333332\n"
          ]
        }
      ]
    },
    {
      "cell_type": "markdown",
      "metadata": {
        "id": "PFt594qu3dw2"
      },
      "source": [
        "簡潔に"
      ]
    },
    {
      "cell_type": "code",
      "metadata": {
        "colab": {
          "base_uri": "https://localhost:8080/"
        },
        "id": "p23YiepQ3d89",
        "outputId": "eb3384cb-d2ed-45fb-dacd-d92e6488938a"
      },
      "source": [
        "N = int(input())\n",
        "ans = sum(i for i in range(1, N+1) if (i % 3  != 0) and (i % 5 != 0))\n",
        "print(ans)"
      ],
      "execution_count": null,
      "outputs": [
        {
          "output_type": "stream",
          "name": "stdout",
          "text": [
            "15\n",
            "60\n"
          ]
        }
      ]
    },
    {
      "cell_type": "markdown",
      "metadata": {
        "id": "IEout8zw3YXi"
      },
      "source": [
        "## [C - Sum of gcd of Tuples (Easy)](https://atcoder.jp/contests/abc162/tasks/abc162_c)"
      ]
    },
    {
      "cell_type": "code",
      "metadata": {
        "colab": {
          "base_uri": "https://localhost:8080/"
        },
        "id": "WnKP0Jfi23Al",
        "outputId": "815e7cee-884b-4d98-9ad5-6dba7fd067bb"
      },
      "source": [
        "from math import gcd\n",
        "K = int(input())\n",
        "ans = 0\n",
        "for a in range(1, K+1):\n",
        "    for b in range(1, K+1):\n",
        "        ab = gcd(a, b)\n",
        "        for c in range(1, K+1):\n",
        "            ans += gcd(ab, c)\n",
        "print(ans)"
      ],
      "execution_count": null,
      "outputs": [
        {
          "output_type": "stream",
          "name": "stdout",
          "text": [
            "200\n",
            "10813692\n"
          ]
        }
      ]
    },
    {
      "cell_type": "markdown",
      "metadata": {
        "id": "uMmtGpOn4BGU"
      },
      "source": [
        "## [D - RGB Triplets](https://atcoder.jp/contests/abc162/tasks/abc162_d)"
      ]
    },
    {
      "cell_type": "markdown",
      "metadata": {
        "id": "MzN7bBgqUqCt"
      },
      "source": [
        "[解説](https://www.notion.so/RGB-Triplets-4d15084f775b422aa989dfd8185be6fc)\n",
        "\n",
        "1. i, j は全列挙する. Si != Sjなら2へ\n",
        "2. \"RGB\"の中で SiでもSjでもない個数を数える\n",
        "3. k-j = j-i より k=2j - i の数字が2で考えた対象の文字なら2から-1する. そうでないなら2をカウントする."
      ]
    },
    {
      "cell_type": "code",
      "metadata": {
        "colab": {
          "base_uri": "https://localhost:8080/"
        },
        "id": "7p3fKP5Q36EE",
        "outputId": "87663b88-8266-425e-e995-714a53726191"
      },
      "source": [
        "N = int(input())\n",
        "S = str(input())"
      ],
      "execution_count": null,
      "outputs": [
        {
          "name": "stdout",
          "output_type": "stream",
          "text": [
            "39\n",
            "RBRBGRBGGBBRRGBBRRRBGGBRBGBRBGBRBBBGBBB\n"
          ]
        }
      ]
    },
    {
      "cell_type": "code",
      "metadata": {
        "id": "-RJ9IcFB7dVs"
      },
      "source": [
        "S = S.replace(\"R\", \"0\")\n",
        "S = S.replace(\"G\", \"1\")\n",
        "S = S.replace(\"B\", \"2\")"
      ],
      "execution_count": null,
      "outputs": []
    },
    {
      "cell_type": "markdown",
      "metadata": {
        "id": "sje5pg2S5O0N"
      },
      "source": [
        "R: 0\n",
        "\n",
        "G: 1\n",
        "\n",
        "B: 2"
      ]
    },
    {
      "cell_type": "code",
      "metadata": {
        "id": "X5HJO54g4dQb"
      },
      "source": [
        "# cnt[i][s]: i番目より後ろのsの個数\n",
        "cnt = [[0] * 3 for _ in range(N)]\n",
        "cnt[-1][int(S[-1])] += 1\n",
        "\n",
        "for i in range(-2, -N - 1, -1):\n",
        "    if S[i] == \"0\":\n",
        "        cnt[i][0] = cnt[i+1][0] + 1\n",
        "        cnt[i][1] = cnt[i+1][1]\n",
        "        cnt[i][2] = cnt[i+1][2]\n",
        "    elif S[i] == \"1\":\n",
        "        cnt[i][0] = cnt[i+1][0]\n",
        "        cnt[i][1] = cnt[i+1][1] + 1\n",
        "        cnt[i][2] = cnt[i+1][2]\n",
        "    else:\n",
        "        cnt[i][0] = cnt[i+1][0] \n",
        "        cnt[i][1] = cnt[i+1][1]\n",
        "        cnt[i][2] = cnt[i+1][2] + 1"
      ],
      "execution_count": null,
      "outputs": []
    },
    {
      "cell_type": "code",
      "metadata": {
        "id": "I5eQbzls4Npv"
      },
      "source": [
        "ans = 0\n",
        "for i in range(N-2):\n",
        "    for j in range(i+1, N-1):\n",
        "        if S[i] == S[j]: continue\n",
        "        s = \"012\".replace(S[i], \"\")\n",
        "        s = s.replace(S[j], \"\")\n",
        "        num_s = cnt[j+1][int(s)]\n",
        "\n",
        "        if j + (j - i) < N:\n",
        "            if S[j + (j-i)] == s:\n",
        "                num_s = max(num_s-1, 0)\n",
        "        ans += num_s"
      ],
      "execution_count": null,
      "outputs": []
    },
    {
      "cell_type": "code",
      "metadata": {
        "colab": {
          "base_uri": "https://localhost:8080/"
        },
        "id": "vCrLYztN6zcc",
        "outputId": "c4781cf8-bc92-4428-d571-8f015482da12"
      },
      "source": [
        "print(ans)"
      ],
      "execution_count": null,
      "outputs": [
        {
          "output_type": "stream",
          "name": "stdout",
          "text": [
            "1800\n"
          ]
        }
      ]
    },
    {
      "cell_type": "markdown",
      "metadata": {
        "id": "bMn_b7aoPB3q"
      },
      "source": [
        "余事象でやったほうがいいかも\n",
        "1. R, G, Bとなる組合せを数える\n",
        "2. 上の組合せの中から, j - i = k - j となるモノを引く"
      ]
    },
    {
      "cell_type": "code",
      "metadata": {
        "colab": {
          "base_uri": "https://localhost:8080/"
        },
        "id": "hfTxorwhPBwF",
        "outputId": "e30c986b-fb57-4258-9836-beaff249ba40"
      },
      "source": [
        "from collections import Counter\n",
        "N = int(input())\n",
        "S = str(input())"
      ],
      "execution_count": 16,
      "outputs": [
        {
          "name": "stdout",
          "output_type": "stream",
          "text": [
            "39\n",
            "RBRBGRBGGBBRRGBBRRRBGGBRBGBRBGBRBBBGBBB\n"
          ]
        }
      ]
    },
    {
      "cell_type": "code",
      "metadata": {
        "colab": {
          "base_uri": "https://localhost:8080/"
        },
        "id": "cb8_ihO6PBtF",
        "outputId": "46dc73d0-2145-42db-de92-38e31dcf0203"
      },
      "source": [
        "cnt = Counter(S)"
      ],
      "execution_count": 17,
      "outputs": [
        {
          "output_type": "execute_result",
          "data": {
            "text/plain": [
              "Counter({'B': 19, 'G': 9, 'R': 11})"
            ]
          },
          "metadata": {},
          "execution_count": 17
        }
      ]
    },
    {
      "cell_type": "code",
      "metadata": {
        "id": "KMjLrHtiPBp8"
      },
      "source": [
        "ans = cnt[\"R\"] * cnt[\"G\"] * cnt[\"B\"]\n",
        "for i in range(N-2):\n",
        "    for j in range(i+1, N-1):\n",
        "        if S[i] == S[j]: continue\n",
        "        \n",
        "        k = 2 * j - i\n",
        "        if k >= N: continue\n",
        "        if (S[i] != S[k]) and (S[j] != S[k]):\n",
        "            ans -=1"
      ],
      "execution_count": 20,
      "outputs": []
    },
    {
      "cell_type": "code",
      "metadata": {
        "colab": {
          "base_uri": "https://localhost:8080/"
        },
        "id": "1xDD1OlDPBnR",
        "outputId": "217e9434-bd7b-47ce-8918-21fd3a7947b9"
      },
      "source": [
        "print(ans)"
      ],
      "execution_count": 21,
      "outputs": [
        {
          "output_type": "stream",
          "name": "stdout",
          "text": [
            "1800\n"
          ]
        }
      ]
    }
  ]
}