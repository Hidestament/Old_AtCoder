{
  "nbformat": 4,
  "nbformat_minor": 0,
  "metadata": {
    "colab": {
      "name": "ABC163.ipynb",
      "provenance": [],
      "collapsed_sections": [],
      "authorship_tag": "ABX9TyPVnbRbDY8z8lfikN/a57he",
      "include_colab_link": true
    },
    "kernelspec": {
      "name": "python3",
      "display_name": "Python 3"
    },
    "language_info": {
      "name": "python"
    }
  },
  "cells": [
    {
      "cell_type": "markdown",
      "metadata": {
        "id": "view-in-github",
        "colab_type": "text"
      },
      "source": [
        "<a href=\"https://colab.research.google.com/github/Hidestament/AtCoder/blob/main/ABC/ABC163.ipynb\" target=\"_parent\"><img src=\"https://colab.research.google.com/assets/colab-badge.svg\" alt=\"Open In Colab\"/></a>"
      ]
    },
    {
      "cell_type": "markdown",
      "metadata": {
        "id": "9CRkoUXqZ60Q"
      },
      "source": [
        "# [AtCoder Beginner Contest 163](https://atcoder.jp/contests/abc163)"
      ]
    },
    {
      "cell_type": "markdown",
      "metadata": {
        "id": "WkOi38qxZ9zN"
      },
      "source": [
        "## [A - Circle Pond](https://atcoder.jp/contests/abc163/tasks/abc163_a)"
      ]
    },
    {
      "cell_type": "code",
      "metadata": {
        "colab": {
          "base_uri": "https://localhost:8080/"
        },
        "id": "PsZBOxfQZ6c5",
        "outputId": "259002ff-bbed-4c8f-b7dd-6ae493fb5e56"
      },
      "source": [
        "from math import pi\n",
        "R = int(input())\n",
        "print(2 * R * pi)"
      ],
      "execution_count": null,
      "outputs": [
        {
          "output_type": "stream",
          "name": "stdout",
          "text": [
            "1\n",
            "6.283185307179586\n"
          ]
        }
      ]
    },
    {
      "cell_type": "markdown",
      "metadata": {
        "id": "CV-XqikCaIY7"
      },
      "source": [
        "## [B - Homework](https://atcoder.jp/contests/abc163/tasks/abc163_b)"
      ]
    },
    {
      "cell_type": "code",
      "metadata": {
        "colab": {
          "base_uri": "https://localhost:8080/"
        },
        "id": "K1Em8WmhaFN4",
        "outputId": "aeef6784-ee7b-4011-c6d2-2678e9a146fc"
      },
      "source": [
        "N, M = map(int, input().split())\n",
        "A = list(map(int, input().split()))\n",
        "print(max(-1, N - sum(A)))"
      ],
      "execution_count": null,
      "outputs": [
        {
          "output_type": "stream",
          "name": "stdout",
          "text": [
            "10 2\n",
            "5 6\n",
            "-1\n"
          ]
        }
      ]
    },
    {
      "cell_type": "markdown",
      "metadata": {
        "id": "Ho1KPGiZafN1"
      },
      "source": [
        "## [C - management](https://atcoder.jp/contests/abc163/tasks/abc163_c)"
      ]
    },
    {
      "cell_type": "code",
      "metadata": {
        "colab": {
          "base_uri": "https://localhost:8080/"
        },
        "id": "lMA_8txNaYpz",
        "outputId": "fec0dcfb-7941-4ee3-f3e9-37bc2a35d4e3"
      },
      "source": [
        "N = int(input())\n",
        "A = list(map(int, input().split()))\n",
        "ans = [0] * N\n",
        "for i in range(2, N+1):\n",
        "    a = A[i-2]\n",
        "    ans[A[i-2] - 1] += 1"
      ],
      "execution_count": null,
      "outputs": [
        {
          "name": "stdout",
          "output_type": "stream",
          "text": [
            "5\n",
            "1 1 2 2\n"
          ]
        }
      ]
    },
    {
      "cell_type": "code",
      "metadata": {
        "colab": {
          "base_uri": "https://localhost:8080/"
        },
        "id": "WJZok2eLbExQ",
        "outputId": "2c648011-5952-49b0-8f7b-d40c68ff8ff9"
      },
      "source": [
        "print(*ans)"
      ],
      "execution_count": null,
      "outputs": [
        {
          "output_type": "stream",
          "name": "stdout",
          "text": [
            "2 2 0 0 0\n"
          ]
        }
      ]
    },
    {
      "cell_type": "markdown",
      "metadata": {
        "id": "rTJWnRN8bqIG"
      },
      "source": [
        "## [D - Sum of Large Numbers](https://atcoder.jp/contests/abc163/tasks/abc163_d)"
      ]
    },
    {
      "cell_type": "code",
      "metadata": {
        "colab": {
          "base_uri": "https://localhost:8080/"
        },
        "id": "roxjpY53bfRp",
        "outputId": "ca9aeb04-b9a7-4e12-cb26-450def9fdbb5"
      },
      "source": [
        "N, K = map(int, input().split())\n",
        "mod = 10**9 + 7"
      ],
      "execution_count": 57,
      "outputs": [
        {
          "name": "stdout",
          "output_type": "stream",
          "text": [
            "141421 35623\n"
          ]
        }
      ]
    },
    {
      "cell_type": "code",
      "metadata": {
        "id": "V3aFG6lzb8tA"
      },
      "source": [
        "min_s = K * (K-1) // 2\n",
        "max_s = min_s + K * (N+1-K)"
      ],
      "execution_count": 58,
      "outputs": []
    },
    {
      "cell_type": "code",
      "metadata": {
        "id": "27Dfhh-EwrNH"
      },
      "source": [
        "ans = 0\n",
        "for k in range(K, N+2):\n",
        "    ans += (max_s - min_s + 1)\n",
        "    ans %= mod\n",
        "    min_s += k\n",
        "    max_s += N - (k+1)  + 1"
      ],
      "execution_count": 59,
      "outputs": []
    },
    {
      "cell_type": "code",
      "metadata": {
        "colab": {
          "base_uri": "https://localhost:8080/"
        },
        "id": "f1iHE9o9xDyc",
        "outputId": "d3c8eaac-1fb4-4876-fa12-3ba6a24603ef"
      },
      "source": [
        "print(ans)"
      ],
      "execution_count": 60,
      "outputs": [
        {
          "output_type": "stream",
          "name": "stdout",
          "text": [
            "220280457\n"
          ]
        }
      ]
    }
  ]
}