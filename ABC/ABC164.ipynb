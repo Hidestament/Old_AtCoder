{
  "nbformat": 4,
  "nbformat_minor": 0,
  "metadata": {
    "colab": {
      "name": "ABC164.ipynb",
      "provenance": [],
      "authorship_tag": "ABX9TyOPYdByANuC05tQV1ExWkEp",
      "include_colab_link": true
    },
    "kernelspec": {
      "name": "python3",
      "display_name": "Python 3"
    },
    "language_info": {
      "name": "python"
    }
  },
  "cells": [
    {
      "cell_type": "markdown",
      "metadata": {
        "id": "view-in-github",
        "colab_type": "text"
      },
      "source": [
        "<a href=\"https://colab.research.google.com/github/Hidestament/AtCoder/blob/main/ABC/ABC164.ipynb\" target=\"_parent\"><img src=\"https://colab.research.google.com/assets/colab-badge.svg\" alt=\"Open In Colab\"/></a>"
      ]
    },
    {
      "cell_type": "markdown",
      "metadata": {
        "id": "ioJK40AD_Ms5"
      },
      "source": [
        "# [AtCoder Beginner Contest 164](https://atcoder.jp/contests/abc164)"
      ]
    },
    {
      "cell_type": "markdown",
      "metadata": {
        "id": "0ZxmNWnp_OhN"
      },
      "source": [
        "## [A - Sheep and Wolves](https://atcoder.jp/contests/abc164/tasks/abc164_a)"
      ]
    },
    {
      "cell_type": "code",
      "metadata": {
        "colab": {
          "base_uri": "https://localhost:8080/"
        },
        "id": "RMEOF6vV_Lg5",
        "outputId": "c1317a12-3d3d-4c18-e415-f5f09d105294"
      },
      "source": [
        "S, W = map(int, input().split())\n",
        "print(\"unsafe\" if W >= S else \"safe\")"
      ],
      "execution_count": 4,
      "outputs": [
        {
          "output_type": "stream",
          "name": "stdout",
          "text": [
            "10 10\n",
            "Unsafe\n"
          ]
        }
      ]
    },
    {
      "cell_type": "markdown",
      "metadata": {
        "id": "_qOona_sABf6"
      },
      "source": [
        "## [B - Battle](https://atcoder.jp/contests/abc164/tasks/abc164_b)"
      ]
    },
    {
      "cell_type": "code",
      "metadata": {
        "id": "Fjx9JA1u_cZH"
      },
      "source": [
        "A, B, C, D = map(int, input().split())\n",
        "while True:\n",
        "    C -= B\n",
        "    if C <= 0:\n",
        "        print(\"Yes\")\n",
        "        break\n",
        "    A -= D\n",
        "    if A <= 0:\n",
        "        print(\"No\")\n",
        "        break"
      ],
      "execution_count": null,
      "outputs": []
    },
    {
      "cell_type": "markdown",
      "metadata": {
        "id": "0qKoSaaCAiwy"
      },
      "source": [
        "## [C - gacha](https://atcoder.jp/contests/abc164/tasks/abc164_c)"
      ]
    },
    {
      "cell_type": "code",
      "metadata": {
        "id": "8BZMsFPVAkPh"
      },
      "source": [
        "N = int(input())\n",
        "gacha = set()\n",
        "for _ in range(N):\n",
        "    s = str(input())\n",
        "    gacha.add(s)\n",
        "print(len(gacha))"
      ],
      "execution_count": null,
      "outputs": []
    },
    {
      "cell_type": "markdown",
      "metadata": {
        "id": "zgFbg4IbObzo"
      },
      "source": [
        "## [D - Multiple of 2019](https://atcoder.jp/contests/abc164/tasks/abc164_d)"
      ]
    },
    {
      "cell_type": "markdown",
      "metadata": {
        "id": "Undvk3MBY-6H"
      },
      "source": [
        "[解説](https://www.notion.so/Multiple-of-2019-dcf31d40cae844c6ba691dcccffc4c26)"
      ]
    },
    {
      "cell_type": "code",
      "metadata": {
        "colab": {
          "base_uri": "https://localhost:8080/"
        },
        "id": "LLDrt8E3OeR7",
        "outputId": "7fcc8c65-c832-4c77-bb15-e341de7fe5eb"
      },
      "source": [
        "S = str(input())[::-1]\n",
        "mod = 2019"
      ],
      "execution_count": 38,
      "outputs": [
        {
          "name": "stdout",
          "output_type": "stream",
          "text": [
            "2119\n"
          ]
        }
      ]
    },
    {
      "cell_type": "code",
      "metadata": {
        "id": "1UBLoUgTOgjc"
      },
      "source": [
        "counts = [0] * mod\n",
        "counts[0] += 1\n",
        "\n",
        "num, d = 0, 1\n",
        "for s in S:\n",
        "    num += (d * int(s)) % mod\n",
        "    num %= mod\n",
        "    d *= 10\n",
        "    d %= mod\n",
        "    counts[num] += 1"
      ],
      "execution_count": 39,
      "outputs": []
    },
    {
      "cell_type": "code",
      "metadata": {
        "colab": {
          "base_uri": "https://localhost:8080/"
        },
        "id": "_MLtWDDjP4Eu",
        "outputId": "a51aca0f-4a78-4c20-f227-7553474edc21"
      },
      "source": [
        "ans = 0\n",
        "for cnt in counts:\n",
        "    ans += cnt * (cnt - 1) // 2\n",
        "print(ans)"
      ],
      "execution_count": 40,
      "outputs": [
        {
          "output_type": "stream",
          "name": "stdout",
          "text": [
            "0\n"
          ]
        }
      ]
    },
    {
      "cell_type": "code",
      "metadata": {
        "id": "ZbxfyyJQOo3J"
      },
      "source": [
        ""
      ],
      "execution_count": null,
      "outputs": []
    }
  ]
}