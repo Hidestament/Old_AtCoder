{
  "nbformat": 4,
  "nbformat_minor": 0,
  "metadata": {
    "colab": {
      "name": "ABC165.ipynb",
      "provenance": [],
      "authorship_tag": "ABX9TyPnQGRESFJGJTRyK+kiEnEZ",
      "include_colab_link": true
    },
    "kernelspec": {
      "name": "python3",
      "display_name": "Python 3"
    },
    "language_info": {
      "name": "python"
    }
  },
  "cells": [
    {
      "cell_type": "markdown",
      "metadata": {
        "id": "view-in-github",
        "colab_type": "text"
      },
      "source": [
        "<a href=\"https://colab.research.google.com/github/Hidestament/AtCoder/blob/main/ABC/ABC165.ipynb\" target=\"_parent\"><img src=\"https://colab.research.google.com/assets/colab-badge.svg\" alt=\"Open In Colab\"/></a>"
      ]
    },
    {
      "cell_type": "markdown",
      "source": [
        "# [AtCoder Beginner Contest 165](https://atcoder.jp/contests/abc165)"
      ],
      "metadata": {
        "id": "wRxmW1RvPR0f"
      }
    },
    {
      "cell_type": "markdown",
      "source": [
        "## [A - We Love Golf](https://atcoder.jp/contests/abc165/tasks/abc165_a)"
      ],
      "metadata": {
        "id": "W5TaKaGNPUAp"
      }
    },
    {
      "cell_type": "code",
      "execution_count": null,
      "metadata": {
        "id": "l8xqWZq0PQeH"
      },
      "outputs": [],
      "source": [
        "K = int(input())\n",
        "A, B = map(int, input().split())\n",
        "for i in range(A, B+1):\n",
        "    if i % K == 0:\n",
        "        print(\"OK\")\n",
        "        exit()\n",
        "print(\"NG\")"
      ]
    },
    {
      "cell_type": "markdown",
      "source": [
        "## [B - 1%](https://atcoder.jp/contests/abc165/tasks/abc165_b)"
      ],
      "metadata": {
        "id": "LhvZHXO6Pe6k"
      }
    },
    {
      "cell_type": "code",
      "source": [
        "X = int(input())\n",
        "year = 0\n",
        "now = 100\n",
        "while True:\n",
        "    if now >= X: break\n",
        "    now = int(now + now//100)\n",
        "    year += 1\n",
        "print(year)"
      ],
      "metadata": {
        "id": "ehr43XVrPhzJ"
      },
      "execution_count": null,
      "outputs": []
    },
    {
      "cell_type": "markdown",
      "source": [
        "## [C - Many Requirements](https://atcoder.jp/contests/abc165/tasks/abc165_c)"
      ],
      "metadata": {
        "id": "XE7uamcKPwtu"
      }
    },
    {
      "cell_type": "code",
      "source": [
        "import sys\n",
        "sys.setrecursionlimit(10**9)"
      ],
      "metadata": {
        "id": "Rs9eNML260_B"
      },
      "execution_count": null,
      "outputs": []
    },
    {
      "cell_type": "code",
      "source": [
        "N, M, Q = map(int, input().split())\n",
        "query = []\n",
        "for _ in range(Q):\n",
        "    a, b, c, d = map(int, input().split())\n",
        "    a -= 1\n",
        "    b -= 1\n",
        "    query.append([a, b, c, d])"
      ],
      "metadata": {
        "id": "JiJIHMdsP-Ca"
      },
      "execution_count": null,
      "outputs": []
    },
    {
      "cell_type": "code",
      "source": [
        "def dfs(now, A, depth):\n",
        "    global ans\n",
        "    if depth == N-1:\n",
        "        temp = 0\n",
        "        for a, b, c, d in query:\n",
        "            if A[b] - A[a] == c:\n",
        "                temp += d\n",
        "        ans = max(temp, ans)\n",
        "    else:\n",
        "        for next in range(now, M+1):\n",
        "            dfs(next, A+[next], depth+1)"
      ],
      "metadata": {
        "id": "UPjsGBGv3Z-w"
      },
      "execution_count": null,
      "outputs": []
    },
    {
      "cell_type": "code",
      "source": [
        "ans = 0\n",
        "for first in range(1, M+1):\n",
        "    now_ans = [1, first]\n",
        "    dfs(first, now_ans, 1)\n",
        "print(ans)"
      ],
      "metadata": {
        "id": "Ari95MiI3Z8N"
      },
      "execution_count": null,
      "outputs": []
    },
    {
      "cell_type": "markdown",
      "source": [
        "`itertools.combinations_with_replacement()`を使うと便利"
      ],
      "metadata": {
        "id": "t1AaenrLBBOc"
      }
    },
    {
      "cell_type": "code",
      "source": [
        "from itertools import combinations_with_replacement\n",
        "N, M, Q = map(int, input().split())\n",
        "query = []\n",
        "for _ in range(Q):\n",
        "    a, b, c, d = map(int, input().split())\n",
        "    a -= 1\n",
        "    b -= 1\n",
        "    query.append([a, b, c, d])"
      ],
      "metadata": {
        "colab": {
          "base_uri": "https://localhost:8080/"
        },
        "id": "xtsNvlJ6BBH-",
        "outputId": "d02f8073-f9ec-4b12-847e-f9734d5e70e4"
      },
      "execution_count": 3,
      "outputs": [
        {
          "name": "stdout",
          "output_type": "stream",
          "text": [
            "3 4 3\n",
            "1 3 3 100\n",
            "1 2 2 10\n",
            "2 3 2 10\n"
          ]
        }
      ]
    },
    {
      "cell_type": "code",
      "source": [
        "ans = 0\n",
        "for A in combinations_with_replacement(range(1, M+1), r=N):\n",
        "    temp = 0\n",
        "    for a, b, c, d in query:\n",
        "        if A[b] - A[a] == c:\n",
        "            temp += d\n",
        "    ans = max(ans, temp)\n",
        "print(ans)"
      ],
      "metadata": {
        "id": "sgKG6DNCBBFD"
      },
      "execution_count": null,
      "outputs": []
    },
    {
      "cell_type": "markdown",
      "source": [
        "`deque`使ってもできる. BFS的なモノ"
      ],
      "metadata": {
        "id": "k99GazHKIBd7"
      }
    },
    {
      "cell_type": "code",
      "source": [
        "from collections import deque\n",
        "N, M, Q = map(int, input().split())\n",
        "query = []\n",
        "for _ in range(Q):\n",
        "    a, b, c, d = map(int, input().split())\n",
        "    a -= 1\n",
        "    b -= 1\n",
        "    query.append([a, b, c, d])"
      ],
      "metadata": {
        "colab": {
          "base_uri": "https://localhost:8080/"
        },
        "id": "d9mNquEEIBX5",
        "outputId": "34967da8-bb81-4848-c887-b8c7a2d6d2af"
      },
      "execution_count": 9,
      "outputs": [
        {
          "name": "stdout",
          "output_type": "stream",
          "text": [
            "3 4 3\n",
            "1 3 3 100\n",
            "1 2 2 10\n",
            "2 3 2 10\n"
          ]
        }
      ]
    },
    {
      "cell_type": "code",
      "source": [
        "ans = 0\n",
        "dq = deque()\n",
        "dq.append([1])\n",
        "while dq:\n",
        "    A = dq.popleft()\n",
        "    if len(A) == N:\n",
        "        score = sum(d for a, b, c, d in query if A[b] - A[a] == c)\n",
        "        ans = max(ans, score)\n",
        "        continue\n",
        "    \n",
        "    for i in range(A[-1], M+1):\n",
        "        dq.append(A + [i])"
      ],
      "metadata": {
        "id": "X2O4VhJeIBUl"
      },
      "execution_count": null,
      "outputs": []
    },
    {
      "cell_type": "code",
      "source": [
        "print(ans)"
      ],
      "metadata": {
        "id": "96u7PAaoIBRv"
      },
      "execution_count": null,
      "outputs": []
    },
    {
      "cell_type": "markdown",
      "source": [
        "## [D - Floor Function](https://atcoder.jp/contests/abc165/tasks/abc165_d)"
      ],
      "metadata": {
        "id": "EmHavDeiR7Fe"
      }
    },
    {
      "cell_type": "code",
      "source": [
        "A, B, N = map(int, input().split())"
      ],
      "metadata": {
        "colab": {
          "base_uri": "https://localhost:8080/"
        },
        "id": "ThWp1noXR-I8",
        "outputId": "5a95b44a-8b49-4de1-bd48-81f45b558af3"
      },
      "execution_count": null,
      "outputs": [
        {
          "name": "stdout",
          "output_type": "stream",
          "text": [
            "5 7 100\n"
          ]
        }
      ]
    },
    {
      "cell_type": "code",
      "source": [
        "x = min(B-1, N)\n",
        "print((A * x) // B - A * (x // B))"
      ],
      "metadata": {
        "id": "zDGeVPzhikJR"
      },
      "execution_count": null,
      "outputs": []
    }
  ]
}