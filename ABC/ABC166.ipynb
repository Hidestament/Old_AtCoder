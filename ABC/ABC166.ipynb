{
  "nbformat": 4,
  "nbformat_minor": 0,
  "metadata": {
    "colab": {
      "name": "ABC166.ipynb",
      "provenance": [],
      "collapsed_sections": [],
      "authorship_tag": "ABX9TyMb5rK5b92P21cXzwGLsnjy",
      "include_colab_link": true
    },
    "kernelspec": {
      "name": "python3",
      "display_name": "Python 3"
    },
    "language_info": {
      "name": "python"
    }
  },
  "cells": [
    {
      "cell_type": "markdown",
      "metadata": {
        "id": "view-in-github",
        "colab_type": "text"
      },
      "source": [
        "<a href=\"https://colab.research.google.com/github/Hidestament/AtCoder/blob/main/ABC/ABC166.ipynb\" target=\"_parent\"><img src=\"https://colab.research.google.com/assets/colab-badge.svg\" alt=\"Open In Colab\"/></a>"
      ]
    },
    {
      "cell_type": "markdown",
      "metadata": {
        "id": "gViwnubpw0Nq"
      },
      "source": [
        "# [AtCoder Beginner Contest 166](https://atcoder.jp/contests/abc166)"
      ]
    },
    {
      "cell_type": "markdown",
      "metadata": {
        "id": "jUMLB9ZPw3Xj"
      },
      "source": [
        "## [A - A?C](https://atcoder.jp/contests/abc166/tasks/abc166_a)"
      ]
    },
    {
      "cell_type": "code",
      "metadata": {
        "id": "nbQ6vhwOwz3V"
      },
      "source": [
        "S = str(input())\n",
        "if S == \"ABC\": print(\"ARC\")\n",
        "else: print(\"ABC\")"
      ],
      "execution_count": null,
      "outputs": []
    },
    {
      "cell_type": "markdown",
      "metadata": {
        "id": "JG1MgHIqxFFR"
      },
      "source": [
        "## [B - Trick or Treat](https://atcoder.jp/contests/abc166/tasks/abc166_b)"
      ]
    },
    {
      "cell_type": "code",
      "metadata": {
        "colab": {
          "base_uri": "https://localhost:8080/"
        },
        "id": "pMA2syRGxITV",
        "outputId": "fee9d919-9e39-4343-c429-6628769bf023"
      },
      "source": [
        "N, K = map(int, input().split())\n",
        "snuke = [0] * N\n",
        "for _ in range(K):\n",
        "    d = int(input())\n",
        "    A = list(map(int, input().split()))\n",
        "    for i in range(d):\n",
        "        snuke[A[i]-1] += 1\n",
        "print(snuke.count(0))"
      ],
      "execution_count": null,
      "outputs": [
        {
          "output_type": "stream",
          "name": "stdout",
          "text": [
            "3 3\n",
            "1\n",
            "3\n",
            "1\n",
            "3\n",
            "1\n",
            "3\n",
            "2\n"
          ]
        }
      ]
    },
    {
      "cell_type": "markdown",
      "metadata": {
        "id": "jvU1Te-ex8ZC"
      },
      "source": [
        "## [C - Peaks](https://atcoder.jp/contests/abc166/tasks/abc166_c)"
      ]
    },
    {
      "cell_type": "markdown",
      "metadata": {
        "id": "Nol7cAJ0Au-o"
      },
      "source": [
        "幅優先探索 的なことをすれば良い."
      ]
    },
    {
      "cell_type": "code",
      "metadata": {
        "colab": {
          "base_uri": "https://localhost:8080/"
        },
        "id": "89X-CFxkxvye",
        "outputId": "174f6176-8fd2-4671-c06e-dd9a86089a4a"
      },
      "source": [
        "N, M = map(int, input().split())\n",
        "H = list(map(int, input().split()))\n",
        "\n",
        "graph = [[] for _ in range(N)]\n",
        "for _ in range(M):\n",
        "    a, b = map(int, input().split())\n",
        "    a -= 1\n",
        "    b -= 1\n",
        "    graph[a].append(b)\n",
        "    graph[b].append(a)"
      ],
      "execution_count": null,
      "outputs": [
        {
          "name": "stdout",
          "output_type": "stream",
          "text": [
            "4 3\n",
            "1 2 3 4\n",
            "1 3\n",
            "2 3\n",
            "2 4\n"
          ]
        }
      ]
    },
    {
      "cell_type": "code",
      "metadata": {
        "colab": {
          "base_uri": "https://localhost:8080/"
        },
        "id": "81Gb4TET5hKJ",
        "outputId": "099f62eb-4a7a-478a-bb9c-6b7b17729785"
      },
      "source": [
        "cnt = 0\n",
        "for now in range(N):\n",
        "    h = H[now]\n",
        "    \n",
        "    flag = True\n",
        "    for to in graph[now]:\n",
        "        if H[to] >= h:\n",
        "            flag = False\n",
        "            break\n",
        "\n",
        "    if flag: cnt += 1\n",
        "\n",
        "print(cnt)"
      ],
      "execution_count": null,
      "outputs": [
        {
          "output_type": "stream",
          "name": "stdout",
          "text": [
            "2\n"
          ]
        }
      ]
    },
    {
      "cell_type": "markdown",
      "metadata": {
        "id": "rW61CgBj6BBF"
      },
      "source": [
        "## [D - I hate Factorization](https://atcoder.jp/contests/abc166/tasks/abc166_d)"
      ]
    },
    {
      "cell_type": "code",
      "source": [
        "X = int(input())\n",
        "for a in range(200):\n",
        "    for b in range(-200, 200):\n",
        "        if a ** 5 - b ** 5 == X:\n",
        "            print(a, b)\n",
        "            exit()"
      ],
      "metadata": {
        "id": "fcFDB1LBFYSb"
      },
      "execution_count": null,
      "outputs": []
    },
    {
      "cell_type": "markdown",
      "metadata": {
        "id": "hf_svgs8tBTE"
      },
      "source": [
        "## [E - This Message Will Self-Destruct in 5s](https://atcoder.jp/contests/abc166/tasks/abc166_e)"
      ]
    },
    {
      "cell_type": "markdown",
      "metadata": {
        "id": "hfoFejFk7YCL"
      },
      "source": [
        "- i = j が カウントされないか -> されない. rightは -A[j]でleftは+A[i]なので i=jでも同じにならない\n",
        "- i > j が カウントされないか -> されない. j < i のとき, j - A[j] < i - A[j] < i + A[i] (A[i] > 0 なので) なので, 後ろのモノは絶対同じにならない"
      ]
    },
    {
      "cell_type": "code",
      "metadata": {
        "colab": {
          "base_uri": "https://localhost:8080/"
        },
        "id": "ToBYAQCJyko9",
        "outputId": "7b7542aa-1861-472a-ec63-ffc6dd1e17df"
      },
      "source": [
        "from collections import Counter\n",
        "N = int(input())\n",
        "A = list(map(int, input().split()))\n",
        "right = [j - A[j] for j in range(N)]"
      ],
      "execution_count": null,
      "outputs": [
        {
          "name": "stdout",
          "output_type": "stream",
          "text": [
            "6\n",
            "2 3 3 1 3 1\n"
          ]
        }
      ]
    },
    {
      "cell_type": "code",
      "metadata": {
        "id": "qYr8v5tSyZfb"
      },
      "source": [
        "ans = 0\n",
        "cnt = Counter(right)\n",
        "for i in range(N):\n",
        "    ans += cnt[A[i] + i]\n",
        "print(cnt)"
      ],
      "execution_count": null,
      "outputs": []
    }
  ]
}