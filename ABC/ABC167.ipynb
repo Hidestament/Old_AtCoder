{
  "nbformat": 4,
  "nbformat_minor": 0,
  "metadata": {
    "colab": {
      "name": "ABC167.ipynb",
      "provenance": [],
      "authorship_tag": "ABX9TyNAX/loeBMdYjMhynvi2al1",
      "include_colab_link": true
    },
    "kernelspec": {
      "name": "python3",
      "display_name": "Python 3"
    }
  },
  "cells": [
    {
      "cell_type": "markdown",
      "metadata": {
        "id": "view-in-github",
        "colab_type": "text"
      },
      "source": [
        "<a href=\"https://colab.research.google.com/github/Hidestament/AtCoder/blob/main/ABC/ABC167.ipynb\" target=\"_parent\"><img src=\"https://colab.research.google.com/assets/colab-badge.svg\" alt=\"Open In Colab\"/></a>"
      ]
    },
    {
      "cell_type": "markdown",
      "metadata": {
        "id": "2ykPnN6dtvjN"
      },
      "source": [
        "# A - Registration"
      ]
    },
    {
      "cell_type": "code",
      "metadata": {
        "colab": {
          "base_uri": "https://localhost:8080/"
        },
        "id": "hVPVb1FHtt5Y",
        "outputId": "7ecc09ce-5aab-4c0c-c56b-134411df34da"
      },
      "source": [
        "s = str(input())\r\n",
        "t = str(input())"
      ],
      "execution_count": 4,
      "outputs": [
        {
          "output_type": "stream",
          "text": [
            "snuke\n",
            "snekee\n"
          ],
          "name": "stdout"
        }
      ]
    },
    {
      "cell_type": "code",
      "metadata": {
        "colab": {
          "base_uri": "https://localhost:8080/"
        },
        "id": "sbY4_x-Mt8QQ",
        "outputId": "bd0845a5-12dc-4dc6-b306-de79a252fb62"
      },
      "source": [
        "print(\"YNeos\"[s!=t[:-1]::2])"
      ],
      "execution_count": 5,
      "outputs": [
        {
          "output_type": "stream",
          "text": [
            "No\n"
          ],
          "name": "stdout"
        }
      ]
    },
    {
      "cell_type": "markdown",
      "metadata": {
        "id": "XHJtqXEtuKEs"
      },
      "source": [
        "# B - Easy Linear Programming"
      ]
    },
    {
      "cell_type": "code",
      "metadata": {
        "colab": {
          "base_uri": "https://localhost:8080/"
        },
        "id": "K5wLMkOsuD5G",
        "outputId": "f0a218e7-8b92-47d5-e1bf-cab2059c4cfb"
      },
      "source": [
        "a,b,c,k = map(int, input().split())"
      ],
      "execution_count": 21,
      "outputs": [
        {
          "output_type": "stream",
          "text": [
            "2000000000 0 0 2000000000\n"
          ],
          "name": "stdout"
        }
      ]
    },
    {
      "cell_type": "code",
      "metadata": {
        "id": "HzGAV-MBuYqf"
      },
      "source": [
        "ans = 0\r\n",
        "card_a = min(a, k)\r\n",
        "card_b = max(0, k - a)\r\n",
        "card_c = max(0, k - a - b)"
      ],
      "execution_count": 22,
      "outputs": []
    },
    {
      "cell_type": "code",
      "metadata": {
        "colab": {
          "base_uri": "https://localhost:8080/"
        },
        "id": "jp5WK-6TvUh-",
        "outputId": "2d299808-f425-44ea-a27e-f7bdfa91c700"
      },
      "source": [
        "ans = card_a - card_c\r\n",
        "print(ans)"
      ],
      "execution_count": 23,
      "outputs": [
        {
          "output_type": "stream",
          "text": [
            "2000000000\n"
          ],
          "name": "stdout"
        }
      ]
    },
    {
      "cell_type": "markdown",
      "metadata": {
        "id": "UXAUL1JAvpr-"
      },
      "source": [
        "# C - Skill Up\r\n",
        "Bit全探索の問題\r\n",
        "\r\n",
        "素直にやれば良い."
      ]
    },
    {
      "cell_type": "markdown",
      "metadata": {
        "id": "r6Z4G0ctDshs"
      },
      "source": [
        "## itertools と numpyを使って実装."
      ]
    },
    {
      "cell_type": "code",
      "metadata": {
        "id": "hdJfSrn8yR9r"
      },
      "source": [
        "import itertools\r\n",
        "import numpy as np\r\n",
        "\r\n",
        "n, m , x = map(int, input().split())\r\n",
        "book = np.array([list(map(int, input().split())) for _ in range(n)])\r\n",
        "                \r\n",
        "best = 10**9\r\n",
        "for i in itertools.product([0,1], repeat=n):\r\n",
        "  cost = 0\r\n",
        "  skill = np.array([0 for _ in range(m)])\r\n",
        "  for j in range(n):\r\n",
        "    if i[j] == 1:\r\n",
        "      cost += book[j][0]\r\n",
        "      skill += book[j][1:]\r\n",
        "  if np.all(skill >= x) and cost < best:\r\n",
        "  \tbest = cost\r\n",
        "if best==10**9:\r\n",
        "  print(-1)\r\n",
        "else:\r\n",
        "  print(best)\r\n",
        "# print([best, -1][best==10**9])"
      ],
      "execution_count": null,
      "outputs": []
    },
    {
      "cell_type": "markdown",
      "metadata": {
        "id": "YntkNT07DxII"
      },
      "source": [
        "## 使わずにやってみる."
      ]
    },
    {
      "cell_type": "code",
      "metadata": {
        "colab": {
          "base_uri": "https://localhost:8080/"
        },
        "id": "xvpL1tVbDzLq",
        "outputId": "5ca68382-06be-45b7-f92f-632d61933a67"
      },
      "source": [
        "n, m , x = map(int, input().split())\r\n",
        "book = np.array([list(map(int, input().split())) for _ in range(n)])"
      ],
      "execution_count": 139,
      "outputs": [
        {
          "output_type": "stream",
          "text": [
            "3 3 10\n",
            "60 2 2 4\n",
            "70 8 7 9\n",
            "50 2  3 9\n"
          ],
          "name": "stdout"
        }
      ]
    },
    {
      "cell_type": "code",
      "metadata": {
        "id": "x2TE5ddRDzI5"
      },
      "source": [
        "best = 10**9"
      ],
      "execution_count": 140,
      "outputs": []
    },
    {
      "cell_type": "code",
      "metadata": {
        "colab": {
          "base_uri": "https://localhost:8080/"
        },
        "id": "gEj9goqBDzF7",
        "outputId": "cb046a2b-edc9-4cb6-8194-b6843c0af2cd"
      },
      "source": [
        "for bit in range(2**n):\r\n",
        "  cost = 0\r\n",
        "  skills = [0] * m\r\n",
        "  for i in range(n):\r\n",
        "    if ((bit>>i)&1):\r\n",
        "      cost += book[i][0]\r\n",
        "      for skill in range(m):\r\n",
        "        skills[skill] += book[i][skill+1]\r\n",
        "  if all([skill >= x for skill in skills]) and cost < best:\r\n",
        "    best = cost\r\n",
        "\r\n",
        "print(best if best != 10**9 else -1)"
      ],
      "execution_count": 141,
      "outputs": [
        {
          "output_type": "stream",
          "text": [
            "120\n"
          ],
          "name": "stdout"
        }
      ]
    },
    {
      "cell_type": "markdown",
      "metadata": {
        "id": "PmBnNt7u05PS"
      },
      "source": [
        "# D - Teleporter\r\n",
        "\r\n",
        "周期的なツアーと, 非周期的なツアーを求め, Kから非周期的なツアーの個数を引いて, 周期的なツアーの個数で割った余りを求めれば良い."
      ]
    },
    {
      "cell_type": "code",
      "metadata": {
        "colab": {
          "base_uri": "https://localhost:8080/"
        },
        "id": "3G8a5Zy406Hr",
        "outputId": "ff65a3a9-5c7f-411e-d243-1ed55c263a9b"
      },
      "source": [
        "n, k = map(int, input().split())\r\n",
        "a = list(map(int, input().split()))"
      ],
      "execution_count": 127,
      "outputs": [
        {
          "output_type": "stream",
          "text": [
            "6 727202214173249351\n",
            "6 5 2 5 3 2\n"
          ],
          "name": "stdout"
        }
      ]
    },
    {
      "cell_type": "code",
      "metadata": {
        "id": "Op2tRsdi2uBI"
      },
      "source": [
        "m = [0 for _ in range(n+2)]\r\n",
        "tour = [1]\r\n",
        "m[1] = 1\r\n",
        "now = 1\r\n",
        "for i in range(n+2):\r\n",
        "  now = a[now-1]\r\n",
        "  if m[now] == 1:\r\n",
        "    index = now\r\n",
        "    break\r\n",
        "  m[now] += 1\r\n",
        "  tour.append(now)"
      ],
      "execution_count": 128,
      "outputs": []
    },
    {
      "cell_type": "code",
      "metadata": {
        "id": "ANdTaYnF4qxc"
      },
      "source": [
        "non_periodic = m.count(1)\r\n",
        "peri_index = tour.index(index)\r\n",
        "periodic = len(tour[peri_index:])"
      ],
      "execution_count": 133,
      "outputs": []
    },
    {
      "cell_type": "code",
      "metadata": {
        "colab": {
          "base_uri": "https://localhost:8080/"
        },
        "id": "oXq2_NMV4ARr",
        "outputId": "686075b3-608a-40a5-fb9c-4b67bd54be94"
      },
      "source": [
        "if k < non_periodic:\r\n",
        "  print(tour[k])\r\n",
        "else:\r\n",
        "  k -= non_periodic\r\n",
        "  k %= periodic\r\n",
        "  ans = tour[peri_index + k - 1]\r\n",
        "  print(ans)"
      ],
      "execution_count": 116,
      "outputs": [
        {
          "output_type": "stream",
          "text": [
            "32875\n"
          ],
          "name": "stdout"
        }
      ]
    }
  ]
}