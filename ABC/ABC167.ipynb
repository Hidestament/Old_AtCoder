{
  "nbformat": 4,
  "nbformat_minor": 0,
  "metadata": {
    "colab": {
      "name": "ABC167.ipynb",
      "provenance": [],
      "authorship_tag": "ABX9TyOUCg6ONiwbrOccXTAYjkTj",
      "include_colab_link": true
    },
    "kernelspec": {
      "name": "python3",
      "display_name": "Python 3"
    },
    "language_info": {
      "name": "python"
    }
  },
  "cells": [
    {
      "cell_type": "markdown",
      "metadata": {
        "id": "view-in-github",
        "colab_type": "text"
      },
      "source": [
        "<a href=\"https://colab.research.google.com/github/Hidestament/AtCoder/blob/main/ABC/ABC167.ipynb\" target=\"_parent\"><img src=\"https://colab.research.google.com/assets/colab-badge.svg\" alt=\"Open In Colab\"/></a>"
      ]
    },
    {
      "cell_type": "markdown",
      "metadata": {
        "id": "dRCeZbSUtPP6"
      },
      "source": [
        "# [AtCoder Beginner Contest 167](https://atcoder.jp/contests/abc167)"
      ]
    },
    {
      "cell_type": "markdown",
      "metadata": {
        "id": "BtXM5vZOtRwy"
      },
      "source": [
        "## [A - Registration](https://atcoder.jp/contests/abc167/tasks/abc167_a)"
      ]
    },
    {
      "cell_type": "code",
      "metadata": {
        "colab": {
          "base_uri": "https://localhost:8080/"
        },
        "id": "G9Qgq1VMtOpv",
        "outputId": "bb00040a-f9ee-497c-c29a-62ebc5904ffd"
      },
      "source": [
        "S = str(input())\n",
        "T = str(input())\n",
        "print(\"Yes\" if S == T[:-1] else \"No\")"
      ],
      "execution_count": null,
      "outputs": [
        {
          "output_type": "stream",
          "name": "stdout",
          "text": [
            "chokudai\n",
            "chokudaiz\n",
            "Yes\n"
          ]
        }
      ]
    },
    {
      "cell_type": "markdown",
      "metadata": {
        "id": "ASTHdf8_thwx"
      },
      "source": [
        "## [B - Easy Linear Programming](https://atcoder.jp/contests/abc167/tasks/abc167_b)"
      ]
    },
    {
      "cell_type": "code",
      "metadata": {
        "colab": {
          "base_uri": "https://localhost:8080/"
        },
        "id": "W1GYBVWKteVm",
        "outputId": "094f5b1c-9c75-4f2e-eb60-0d84b1d79cb7"
      },
      "source": [
        "A, B, C, K = map(int, input().split())\n",
        "\n",
        "a = min(A, K)\n",
        "b = max(0, K - A)\n",
        "c = max(0, K - A - B)\n",
        "print(a - c)"
      ],
      "execution_count": null,
      "outputs": [
        {
          "output_type": "stream",
          "name": "stdout",
          "text": [
            "1 2 3 4\n",
            "0\n"
          ]
        }
      ]
    },
    {
      "cell_type": "markdown",
      "metadata": {
        "id": "0b2Qhp9RtvNH"
      },
      "source": [
        "## [C - Skill Up]()"
      ]
    },
    {
      "cell_type": "code",
      "metadata": {
        "colab": {
          "base_uri": "https://localhost:8080/"
        },
        "id": "HB79kzkatvo5",
        "outputId": "1188fc79-9ad6-41d5-d1d9-fd7d66c8846b"
      },
      "source": [
        "N, M, X = map(int, input().split())\n",
        "C = []\n",
        "A = []\n",
        "for _ in range(N):\n",
        "    c, *a = map(int, input().split())\n",
        "    C.append(c)\n",
        "    A.append(list(a))"
      ],
      "execution_count": null,
      "outputs": [
        {
          "name": "stdout",
          "output_type": "stream",
          "text": [
            "3 3 10\n",
            "60 2 2 4\n",
            "70 8 7 9\n",
            "50 2 3 9\n"
          ]
        }
      ]
    },
    {
      "cell_type": "code",
      "metadata": {
        "colab": {
          "base_uri": "https://localhost:8080/"
        },
        "id": "-CbBm0MgvaIJ",
        "outputId": "06dd2659-561c-46f7-c257-de6d2b4e5328"
      },
      "source": [
        "from itertools import product\n",
        "ans = 10**10\n",
        "for bits in product([0, 1], repeat=N):\n",
        "    temp = 0\n",
        "    R = [0] * M\n",
        "    for k in range(N):\n",
        "        if bits[k] == 1:\n",
        "            temp += C[k]\n",
        "            book = A[k]\n",
        "            for i in range(M):\n",
        "                R[i] += book[i]\n",
        "    if all([r >= X for r in R]):\n",
        "        ans = min(ans, temp)\n",
        "print(ans if ans < 10**10 else -1)"
      ],
      "execution_count": null,
      "outputs": [
        {
          "output_type": "stream",
          "name": "stdout",
          "text": [
            "(0, 0, 0) [0, 0, 0]\n",
            "(0, 0, 1) [2, 3, 9]\n",
            "(0, 1, 0) [8, 7, 9]\n",
            "(0, 1, 1) [10, 10, 18]\n",
            "(1, 0, 0) [2, 2, 4]\n",
            "(1, 0, 1) [4, 5, 13]\n",
            "(1, 1, 0) [10, 9, 13]\n",
            "(1, 1, 1) [12, 12, 22]\n",
            "120\n"
          ]
        }
      ]
    },
    {
      "cell_type": "markdown",
      "metadata": {
        "id": "cWSZV_1DtvEo"
      },
      "source": [
        "bitでやると"
      ]
    },
    {
      "cell_type": "code",
      "metadata": {
        "id": "c5VCHdZE0BGK"
      },
      "source": [
        "N, M, X = map(int, input().split())\n",
        "C = []\n",
        "A = []\n",
        "for _ in range(N):\n",
        "    c, *a = map(int, input().split())\n",
        "    C.append(c)\n",
        "    A.append(list(a))"
      ],
      "execution_count": null,
      "outputs": []
    },
    {
      "cell_type": "code",
      "metadata": {
        "id": "eMV9Nzic0BDw"
      },
      "source": [
        "ans = 10**10\n",
        "for bits in range(1 << N):\n",
        "    skills = [0] * M\n",
        "    temp = 0\n",
        "    for i in range(N):\n",
        "        if bits & (1 << i):\n",
        "            book = A[i]\n",
        "            temp += C[i]\n",
        "            for j in range(M):\n",
        "                skills[j] += book[j]\n",
        "    if all(r >= X for r in skills):\n",
        "        ans = min(ans, temp)\n",
        "print(ans if ans < 10**10 else -1)"
      ],
      "execution_count": null,
      "outputs": []
    },
    {
      "cell_type": "markdown",
      "metadata": {
        "id": "VnZsqcgG0kxw"
      },
      "source": [
        "## [D - Teleporter](https://atcoder.jp/contests/abc167/tasks/abc167_d)"
      ]
    },
    {
      "cell_type": "code",
      "metadata": {
        "colab": {
          "base_uri": "https://localhost:8080/"
        },
        "id": "yv-MAtfBzv1x",
        "outputId": "2eacf53b-cb25-4ef3-fad1-f79a1a1b6108"
      },
      "source": [
        "N, K = map(int, input().split())\n",
        "A = list(map(int, input().split()))"
      ],
      "execution_count": null,
      "outputs": [
        {
          "name": "stdout",
          "output_type": "stream",
          "text": [
            "6 727202214173249351\n",
            "6 5 2 5 3 2\n"
          ]
        }
      ]
    },
    {
      "cell_type": "code",
      "metadata": {
        "id": "Q1YiymvX1BQf"
      },
      "source": [
        "flag = [0] * (N+1)\n",
        "cycle = []\n",
        "now = 1\n",
        "while True:\n",
        "    if K == 0:\n",
        "        print(now)\n",
        "        exit()\n",
        "    if flag[now] == 2:\n",
        "        break\n",
        "    if flag[now] == 1:\n",
        "        flag[now] += 1\n",
        "        cycle.append(now)\n",
        "        now = A[now - 1]\n",
        "        K -= 1\n",
        "    else:\n",
        "        flag[now] += 1\n",
        "        now = A[now - 1]\n",
        "        K -= 1"
      ],
      "execution_count": null,
      "outputs": []
    },
    {
      "cell_type": "code",
      "metadata": {
        "colab": {
          "base_uri": "https://localhost:8080/"
        },
        "id": "JA2ChrwK1hUb",
        "outputId": "fd6bb389-97aa-4cb4-9867-ea029b698afc"
      },
      "source": [
        "print(cycle[K % len(cycle)])"
      ],
      "execution_count": null,
      "outputs": [
        {
          "output_type": "stream",
          "name": "stdout",
          "text": [
            "2\n"
          ]
        }
      ]
    },
    {
      "cell_type": "markdown",
      "metadata": {
        "id": "tAP3NcLT6PXC"
      },
      "source": [
        "## [E - Colorful Blocks](https://atcoder.jp/contests/abc167/tasks/abc167_e)"
      ]
    },
    {
      "cell_type": "code",
      "metadata": {
        "colab": {
          "base_uri": "https://localhost:8080/"
        },
        "id": "7pyqZRrM2BuW",
        "outputId": "b8c5f89e-cb5e-4638-9450-58502a47d81d"
      },
      "source": [
        "N, M, K = map(int, input().split())"
      ],
      "execution_count": null,
      "outputs": [
        {
          "name": "stdout",
          "output_type": "stream",
          "text": [
            "60522 114575 7559\n"
          ]
        }
      ]
    },
    {
      "cell_type": "code",
      "metadata": {
        "id": "nyUTjNs4CWh8"
      },
      "source": [
        "mod = 998244353\n",
        "\n",
        "fact = [1] * (N+1) # fact[i] = i! % mod\n",
        "inv = [1] * (N+1) # inv[i] = i^-1 % mod, factinvの計算用\n",
        "inv[0] = 0\n",
        "factinv = [1] * (N+1) # factinv[i] = (i!)^-1 % mod\n",
        "\n",
        "for i in range(2, N+1):\n",
        "    fact[i] = (fact[i-1] * i) % mod\n",
        "    inv[i] = (-inv[mod % i] * (mod // i)) % mod\n",
        "    factinv[i] = (factinv[i-1] * inv[i]) % mod\n",
        "\n",
        "def cmb_mod(n, r):\n",
        "    if (r < 0) or (n < r):\n",
        "        return 0\n",
        "    r = min(r, n-r)\n",
        "    return fact[n] * factinv[r] * factinv[n-r] % mod"
      ],
      "execution_count": null,
      "outputs": []
    },
    {
      "cell_type": "code",
      "metadata": {
        "colab": {
          "base_uri": "https://localhost:8080/"
        },
        "id": "PU5XQP-B2M60",
        "outputId": "5401c831-e739-4ded-8a58-dfb4c01be894"
      },
      "source": [
        "ans = 0\n",
        "for k in range(K+1):\n",
        "    ans += cmb_mod(N-1, k) * M * pow(M-1, N-k-1, mod)\n",
        "print(ans % mod)"
      ],
      "execution_count": null,
      "outputs": [
        {
          "output_type": "stream",
          "name": "stdout",
          "text": [
            "479519525\n"
          ]
        }
      ]
    }
  ]
}