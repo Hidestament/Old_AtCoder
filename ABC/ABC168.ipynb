{
  "nbformat": 4,
  "nbformat_minor": 0,
  "metadata": {
    "colab": {
      "name": "ABC168.ipynb",
      "provenance": [],
      "authorship_tag": "ABX9TyMhh68ZWzWPHdh/nV6DWcbp",
      "include_colab_link": true
    },
    "kernelspec": {
      "name": "python3",
      "display_name": "Python 3"
    },
    "language_info": {
      "name": "python"
    }
  },
  "cells": [
    {
      "cell_type": "markdown",
      "metadata": {
        "id": "view-in-github",
        "colab_type": "text"
      },
      "source": [
        "<a href=\"https://colab.research.google.com/github/Hidestament/AtCoder/blob/main/ABC/ABC168.ipynb\" target=\"_parent\"><img src=\"https://colab.research.google.com/assets/colab-badge.svg\" alt=\"Open In Colab\"/></a>"
      ]
    },
    {
      "cell_type": "markdown",
      "metadata": {
        "id": "TNK6xMSOEMXn"
      },
      "source": [
        "# [AtCoder Beginner Contest 168](https://atcoder.jp/contests/abc168)"
      ]
    },
    {
      "cell_type": "markdown",
      "metadata": {
        "id": "7C1IgBOFEOvQ"
      },
      "source": [
        "## [A - ∴ (Therefore)](https://atcoder.jp/contests/abc168/tasks/abc168_a)"
      ]
    },
    {
      "cell_type": "code",
      "metadata": {
        "colab": {
          "base_uri": "https://localhost:8080/"
        },
        "id": "nASAOyHfEJ62",
        "outputId": "85d6ea14-4c5c-4dab-9ca2-fa90052a3da6"
      },
      "source": [
        "N = int(input()[-1])\n",
        "hon = [2, 4, 5, 7, 9]\n",
        "pon = [0, 1, 6, 8]\n",
        "if N in hon:\n",
        "    print(\"hon\")\n",
        "elif N in pon:\n",
        "    print(\"pon\")\n",
        "else:\n",
        "    print(\"bon\")"
      ],
      "execution_count": null,
      "outputs": [
        {
          "output_type": "stream",
          "name": "stdout",
          "text": [
            "183\n",
            "bon\n"
          ]
        }
      ]
    },
    {
      "cell_type": "markdown",
      "metadata": {
        "id": "guQayJz4El4f"
      },
      "source": [
        "## [B - ... (Triple Dots)](https://atcoder.jp/contests/abc168/tasks/abc168_b)"
      ]
    },
    {
      "cell_type": "code",
      "metadata": {
        "colab": {
          "base_uri": "https://localhost:8080/"
        },
        "id": "QJykPmErE1Lo",
        "outputId": "989cf721-0670-4888-ba75-841ce41ee3a2"
      },
      "source": [
        "K = int(input())\n",
        "S = str(input())\n",
        "\n",
        "if len(S) <= K:\n",
        "    print(S)\n",
        "else:\n",
        "    print(S[:K] + \"...\")"
      ],
      "execution_count": null,
      "outputs": [
        {
          "output_type": "stream",
          "name": "stdout",
          "text": [
            "7\n",
            "nikoandsolstice\n",
            "nikoand...\n"
          ]
        }
      ]
    },
    {
      "cell_type": "markdown",
      "metadata": {
        "id": "3ChJ05XaElzy"
      },
      "source": [
        "## [C - : (Colon)](https://atcoder.jp/contests/abc168/tasks/abc168_c)"
      ]
    },
    {
      "cell_type": "code",
      "metadata": {
        "colab": {
          "base_uri": "https://localhost:8080/"
        },
        "id": "6f7hOBD2FJsJ",
        "outputId": "510adf08-3f8b-4475-bb8a-a609eff9868d"
      },
      "source": [
        "import math\n",
        "A, B, H, M = map(int, input().split())"
      ],
      "execution_count": null,
      "outputs": [
        {
          "name": "stdout",
          "output_type": "stream",
          "text": [
            "3 4 10 40\n"
          ]
        }
      ]
    },
    {
      "cell_type": "code",
      "metadata": {
        "id": "MQtjUDBqFaa9"
      },
      "source": [
        "theta = min(abs(6*M - (60*H + M)*0.5), 360 - abs(6*M - (60*H + M)*0.5))"
      ],
      "execution_count": null,
      "outputs": []
    },
    {
      "cell_type": "code",
      "metadata": {
        "colab": {
          "base_uri": "https://localhost:8080/"
        },
        "id": "-Wz1umJMFaVx",
        "outputId": "92ad1dac-0555-4bfb-f85a-0916d38fbbff"
      },
      "source": [
        "double = A**2 + B**2 - 2 * A * B * math.cos(math.radians(theta))\n",
        "print(double ** 0.5)"
      ],
      "execution_count": null,
      "outputs": [
        {
          "output_type": "stream",
          "name": "stdout",
          "text": [
            "4.564257194330056\n"
          ]
        }
      ]
    },
    {
      "cell_type": "markdown",
      "metadata": {
        "id": "KuQEFzBdFak_"
      },
      "source": [
        "## [D - .. (Double Dots)](https://atcoder.jp/contests/abc168/tasks/abc168_d)"
      ]
    },
    {
      "cell_type": "code",
      "metadata": {
        "colab": {
          "base_uri": "https://localhost:8080/"
        },
        "id": "myb-QOmIFdEf",
        "outputId": "ce3721bf-cb4c-45de-cd7a-f67d1402b24b"
      },
      "source": [
        "N, M = map(int, input().split())\n",
        "graph = [[] for _ in range(N+1)]\n",
        "for _ in range(M):\n",
        "    a, b = map(int, input().split())\n",
        "    graph[a].append(b)\n",
        "    graph[b].append(a)"
      ],
      "execution_count": null,
      "outputs": [
        {
          "name": "stdout",
          "output_type": "stream",
          "text": [
            "4 4\n",
            "1 2\n",
            "2 3\n",
            "3 4\n",
            "4 2\n"
          ]
        }
      ]
    },
    {
      "cell_type": "code",
      "metadata": {
        "id": "2YmLpQskGvjc"
      },
      "source": [
        "from collections import deque\n",
        "def bfs(s):\n",
        "    dq = deque([s])\n",
        "    flag = [-1] * (N+1)\n",
        "    flag[s] = 1\n",
        "    while dq:\n",
        "        now = dq.popleft()\n",
        "        for to in graph[now]:\n",
        "            if flag[to] == -1:\n",
        "                flag[to] = now\n",
        "                dq.append(to)\n",
        "    return flag[2:]"
      ],
      "execution_count": null,
      "outputs": []
    },
    {
      "cell_type": "code",
      "metadata": {
        "colab": {
          "base_uri": "https://localhost:8080/"
        },
        "id": "I5mvo6m-HEOC",
        "outputId": "8c8ebd3a-1c70-4fe6-b263-bed34fdc4e0e"
      },
      "source": [
        "flag = bfs(1)\n",
        "if -1 in flag:\n",
        "    print(\"No\")\n",
        "else:\n",
        "    print(\"Yes\")\n",
        "    for i in flag:\n",
        "        print(i)"
      ],
      "execution_count": null,
      "outputs": [
        {
          "output_type": "stream",
          "name": "stdout",
          "text": [
            "Yes\n",
            "1\n",
            "2\n",
            "2\n"
          ]
        }
      ]
    },
    {
      "cell_type": "code",
      "metadata": {
        "id": "0-BiF-_yHPwX"
      },
      "source": [
        ""
      ],
      "execution_count": null,
      "outputs": []
    }
  ]
}