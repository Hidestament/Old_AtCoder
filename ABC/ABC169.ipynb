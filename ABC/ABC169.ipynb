{
  "nbformat": 4,
  "nbformat_minor": 0,
  "metadata": {
    "colab": {
      "name": "ABC169.ipynb",
      "provenance": [],
      "collapsed_sections": [],
      "authorship_tag": "ABX9TyNL1CJGnL2rLLZPHlvDK7L/",
      "include_colab_link": true
    },
    "kernelspec": {
      "name": "python3",
      "display_name": "Python 3"
    },
    "language_info": {
      "name": "python"
    }
  },
  "cells": [
    {
      "cell_type": "markdown",
      "metadata": {
        "id": "view-in-github",
        "colab_type": "text"
      },
      "source": [
        "<a href=\"https://colab.research.google.com/github/Hidestament/AtCoder/blob/main/ABC/ABC169.ipynb\" target=\"_parent\"><img src=\"https://colab.research.google.com/assets/colab-badge.svg\" alt=\"Open In Colab\"/></a>"
      ]
    },
    {
      "cell_type": "markdown",
      "metadata": {
        "id": "Ad5neYsfMQQF"
      },
      "source": [
        "# [AtCoder Beginner Contest 169](https://atcoder.jp/contests/abc169)"
      ]
    },
    {
      "cell_type": "markdown",
      "metadata": {
        "id": "7IZ4_wzSMTNj"
      },
      "source": [
        "## [A - Multiplication 1](https://atcoder.jp/contests/abc169/tasks/abc169_a)"
      ]
    },
    {
      "cell_type": "code",
      "metadata": {
        "id": "jTXpXWNVMPCd"
      },
      "source": [
        "A, B = map(int, input().split())\n",
        "print(A * B)"
      ],
      "execution_count": null,
      "outputs": []
    },
    {
      "cell_type": "markdown",
      "metadata": {
        "id": "ruzHiC0YMZZf"
      },
      "source": [
        "## [B - Multiplication 2](https://atcoder.jp/contests/abc169/tasks/abc169_b)"
      ]
    },
    {
      "cell_type": "code",
      "metadata": {
        "colab": {
          "base_uri": "https://localhost:8080/"
        },
        "id": "AvWMJwdAMcQB",
        "outputId": "f6ac839f-6544-4ec8-c122-61c8be5ffd47"
      },
      "source": [
        "N = int(input())\n",
        "A = list(map(int, input().split()))\n",
        "\n",
        "if 0 in A: print(0)\n",
        "else:\n",
        "    ans = 1\n",
        "    for a in A:\n",
        "        ans *= a\n",
        "        if ans > 10**18:\n",
        "            print(-1)\n",
        "            exit()\n",
        "    print(ans)"
      ],
      "execution_count": null,
      "outputs": [
        {
          "output_type": "stream",
          "name": "stdout",
          "text": [
            "3\n",
            "101 9901 999999000001\n",
            "-1\n",
            "1000000000000000001\n"
          ]
        }
      ]
    },
    {
      "cell_type": "markdown",
      "metadata": {
        "id": "Dp1PX3MYNUp7"
      },
      "source": [
        "## [C - Multiplication 3](https://atcoder.jp/contests/abc169/tasks/abc169_c)"
      ]
    },
    {
      "cell_type": "code",
      "metadata": {
        "id": "YlXO5UF2M7Z5"
      },
      "source": [
        "A, B = map(str, input().split())\n",
        "A = int(A)\n",
        "B = int(B.replace(\".\", \"\"))\n",
        "AB = A * B\n",
        "print(AB//100)"
      ],
      "execution_count": null,
      "outputs": []
    },
    {
      "cell_type": "markdown",
      "metadata": {
        "id": "Xlg9TDP2ODUo"
      },
      "source": [
        "## [D - Div Game](https://atcoder.jp/contests/abc169/tasks/abc169_d)"
      ]
    },
    {
      "cell_type": "code",
      "metadata": {
        "id": "Kf6V_vD6_dkB"
      },
      "source": [
        "64 = 2 * 32 = 2 * 2 * 16 = 2 * 2 * 2^4 = 2^6"
      ],
      "execution_count": null,
      "outputs": []
    },
    {
      "cell_type": "code",
      "metadata": {
        "colab": {
          "base_uri": "https://localhost:8080/"
        },
        "id": "xOmWbWUSOPCM",
        "outputId": "65415735-3685-44a4-e6c4-4323a956a2b8"
      },
      "source": [
        "N = int(input())"
      ],
      "execution_count": null,
      "outputs": [
        {
          "name": "stdout",
          "output_type": "stream",
          "text": [
            "24\n"
          ]
        }
      ]
    },
    {
      "cell_type": "code",
      "metadata": {
        "id": "ClD7EwlXpqJH"
      },
      "source": [
        "def prime_factorize(n):\n",
        "    a = []\n",
        "    while n % 2 == 0:\n",
        "        a.append(2)\n",
        "        n //= 2\n",
        "    f = 3\n",
        "    while f * f <= n:\n",
        "        if n % f == 0:\n",
        "            a.append(f)\n",
        "            n //= f\n",
        "        else:\n",
        "            f += 2\n",
        "    if n != 1:\n",
        "        a.append(n)\n",
        "    return a"
      ],
      "execution_count": null,
      "outputs": []
    },
    {
      "cell_type": "code",
      "metadata": {
        "id": "I73PJd-tpVMN"
      },
      "source": [
        "prime = prime_factorize(N)"
      ],
      "execution_count": null,
      "outputs": []
    },
    {
      "cell_type": "code",
      "metadata": {
        "id": "Fg5ojKuHr1Hl"
      },
      "source": [
        "def binary_search(num):\n",
        "    l, r = 0, 10**10\n",
        "    while r - l > 1:\n",
        "        mid = (l + r) // 2\n",
        "        if mid * (mid + 1) // 2 > num:\n",
        "            r = mid\n",
        "        else:\n",
        "            l = mid\n",
        "    return l"
      ],
      "execution_count": null,
      "outputs": []
    },
    {
      "cell_type": "code",
      "metadata": {
        "colab": {
          "base_uri": "https://localhost:8080/"
        },
        "id": "9dk7mDdfpus6",
        "outputId": "186ae08e-f8a0-4e03-c968-97a02154d3f1"
      },
      "source": [
        "from itertools import groupby\n",
        "from math import log\n",
        "ans = 0\n",
        "for p, num in groupby(prime):\n",
        "    num = len(list(num))\n",
        "    ans += binary_search(num)\n",
        "print(ans)"
      ],
      "execution_count": null,
      "outputs": [
        {
          "output_type": "stream",
          "name": "stdout",
          "text": [
            "3\n"
          ]
        }
      ]
    },
    {
      "cell_type": "markdown",
      "metadata": {
        "id": "eQWvP3XOsSvn"
      },
      "source": [
        "## [E - Count Median](https://atcoder.jp/contests/abc169/tasks/abc169_e)"
      ]
    },
    {
      "cell_type": "code",
      "metadata": {
        "colab": {
          "base_uri": "https://localhost:8080/"
        },
        "id": "T62GpuObsVbA",
        "outputId": "5460f317-2e90-449f-99ef-14cae5e159d6"
      },
      "source": [
        "N = int(input())\n",
        "A = []\n",
        "B = []\n",
        "for _ in range(N):\n",
        "    a, b = map(int, input().split())\n",
        "    A.append(a)\n",
        "    B.append(b)"
      ],
      "execution_count": null,
      "outputs": [
        {
          "name": "stdout",
          "output_type": "stream",
          "text": [
            "2\n",
            "1 2\n",
            "2 3\n"
          ]
        }
      ]
    },
    {
      "cell_type": "code",
      "metadata": {
        "id": "y2VIAu9CgdCe"
      },
      "source": [
        "import numpy as np\n",
        "min_median = np.median(A)\n",
        "max_median = np.median(B)\n",
        "\n",
        "if N % 2 == 0:\n",
        "    min_median *= 2\n",
        "    max_median *= 2\n",
        "print(int(max_median - min_median + 1))"
      ],
      "execution_count": null,
      "outputs": []
    }
  ]
}