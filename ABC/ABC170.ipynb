{
  "nbformat": 4,
  "nbformat_minor": 0,
  "metadata": {
    "colab": {
      "name": "ABC170.ipynb",
      "provenance": [],
      "authorship_tag": "ABX9TyP0AEuFURSklCYeeXvWZMJu",
      "include_colab_link": true
    },
    "kernelspec": {
      "name": "python3",
      "display_name": "Python 3"
    }
  },
  "cells": [
    {
      "cell_type": "markdown",
      "metadata": {
        "id": "view-in-github",
        "colab_type": "text"
      },
      "source": [
        "<a href=\"https://colab.research.google.com/github/Hidestament/AtCoder/blob/main/ABC/ABC170.ipynb\" target=\"_parent\"><img src=\"https://colab.research.google.com/assets/colab-badge.svg\" alt=\"Open In Colab\"/></a>"
      ]
    },
    {
      "cell_type": "markdown",
      "metadata": {
        "id": "rDMY1D-wIRle"
      },
      "source": [
        "# A - Five Variables"
      ]
    },
    {
      "cell_type": "code",
      "metadata": {
        "colab": {
          "base_uri": "https://localhost:8080/"
        },
        "id": "VTpPk7oWIPtP",
        "outputId": "ca27f275-2dab-4052-ad85-d80137776848"
      },
      "source": [
        "x = list(map(int, input().split()))\r\n",
        "for i in range(len(x)):\r\n",
        "  if x[i] == 0:\r\n",
        "    print(i+1)"
      ],
      "execution_count": null,
      "outputs": [
        {
          "output_type": "stream",
          "text": [
            "0 2 3 4 5\n",
            "1\n"
          ],
          "name": "stdout"
        }
      ]
    },
    {
      "cell_type": "markdown",
      "metadata": {
        "id": "bI1tWwOEQFRu"
      },
      "source": [
        "## 解法2\r\n",
        "最初x1 = 1, x2 = 2, ..., x5 = 5であるので, sum(x) = 15である.\r\n",
        "\r\n",
        "0が代入されると, その分 15 から i 分さがるので, 以下のようにもかける"
      ]
    },
    {
      "cell_type": "code",
      "metadata": {
        "id": "wsr6w2syQNWp"
      },
      "source": [
        "x = list(map(int, input().split()))\r\n",
        "print(15 - sum(x))"
      ],
      "execution_count": null,
      "outputs": []
    },
    {
      "cell_type": "markdown",
      "metadata": {
        "id": "aRhs-gEXIyqZ"
      },
      "source": [
        "# B - Crane and Turtle"
      ]
    },
    {
      "cell_type": "markdown",
      "metadata": {
        "id": "bxkpjFxlJMwh"
      },
      "source": [
        "## 方程式による条件\r\n",
        "a + b = x\r\n",
        "2a + 4b = y\r\n",
        "\r\n",
        "2b = y - 2x\r\n",
        "\r\n",
        "b = 1/2 y - x\r\n",
        "\r\n",
        "a = x - b = x - 1/2y + x = 2x - 1/2y\r\n",
        "\r\n",
        "(y-2x)が非負かつ偶数, (4x - y)が非負かつ偶数となれば良い."
      ]
    },
    {
      "cell_type": "code",
      "metadata": {
        "colab": {
          "base_uri": "https://localhost:8080/"
        },
        "id": "IBu07v2VIlJO",
        "outputId": "7e4b21ae-eb4f-4f18-8558-a05d64932f2e"
      },
      "source": [
        "x, y = map(int, input().split())"
      ],
      "execution_count": null,
      "outputs": [
        {
          "output_type": "stream",
          "text": [
            "1 2\n"
          ],
          "name": "stdout"
        }
      ]
    },
    {
      "cell_type": "code",
      "metadata": {
        "colab": {
          "base_uri": "https://localhost:8080/"
        },
        "id": "KW4jp8YBJ3Gi",
        "outputId": "ba8d0b19-09ed-4703-8cd0-760c2e6fa630"
      },
      "source": [
        "if (4*x - y >= 0) and (y - 2* x >= 0) and ((4 * x - y) % 2 == 0) and ((y - 2* x) % 2 == 0):\r\n",
        "  print(\"Yes\")\r\n",
        "else:\r\n",
        "  print(\"No\")"
      ],
      "execution_count": null,
      "outputs": [
        {
          "output_type": "stream",
          "text": [
            "Yes\n"
          ],
          "name": "stdout"
        }
      ]
    },
    {
      "cell_type": "markdown",
      "metadata": {
        "id": "xXYh6wKCQ1Bf"
      },
      "source": [
        "## for文"
      ]
    },
    {
      "cell_type": "code",
      "metadata": {
        "colab": {
          "base_uri": "https://localhost:8080/"
        },
        "id": "eSCpJ0pKQ10-",
        "outputId": "5147ce23-2cb0-45ee-f03e-cd248a2d14c0"
      },
      "source": [
        "x, y = map(int, input().split())"
      ],
      "execution_count": null,
      "outputs": [
        {
          "output_type": "stream",
          "text": [
            "3 8\n"
          ],
          "name": "stdout"
        }
      ]
    },
    {
      "cell_type": "code",
      "metadata": {
        "colab": {
          "base_uri": "https://localhost:8080/"
        },
        "id": "2Smfj3MaQ4ZB",
        "outputId": "2dbdb994-934d-43ec-d64d-422a340ece9d"
      },
      "source": [
        "for a in range(x+1):\r\n",
        "  if 4 * (x - a) == (y - 2*a):\r\n",
        "    print(\"Yes\")\r\n",
        "    exit()\r\n",
        "print(\"No\")"
      ],
      "execution_count": null,
      "outputs": [
        {
          "output_type": "stream",
          "text": [
            "Yes\n",
            "No\n"
          ],
          "name": "stdout"
        }
      ]
    },
    {
      "cell_type": "markdown",
      "metadata": {
        "id": "VAtm2CSBKQDc"
      },
      "source": [
        "# C - Forbidden List"
      ]
    },
    {
      "cell_type": "code",
      "metadata": {
        "colab": {
          "base_uri": "https://localhost:8080/"
        },
        "id": "Pz7NjZvTKEju",
        "outputId": "0b1c7396-27a8-4755-d5a5-09401051f012"
      },
      "source": [
        "x, n = map(int, input().split())\r\n",
        "p = list(map(int, input().split()))"
      ],
      "execution_count": null,
      "outputs": [
        {
          "output_type": "stream",
          "text": [
            "6 5 \n",
            "4 7 10 6 5\n"
          ],
          "name": "stdout"
        }
      ]
    },
    {
      "cell_type": "code",
      "metadata": {
        "id": "LlKN8A8kLsV4"
      },
      "source": [
        "temp = set(i for i in range(102)) - set(p)"
      ],
      "execution_count": null,
      "outputs": []
    },
    {
      "cell_type": "code",
      "metadata": {
        "id": "rM4-pOLeL3PF"
      },
      "source": [
        "ans = (102, 102 - x)\r\n",
        "for i in temp:\r\n",
        "  if abs(i - x) < ans[1]:\r\n",
        "    ans = (i, abs(i-x))\r\n",
        "  elif abs(i-x) == ans[1] and i < ans[0]:\r\n",
        "    ans = (i, abs(i-x))"
      ],
      "execution_count": null,
      "outputs": []
    },
    {
      "cell_type": "code",
      "metadata": {
        "colab": {
          "base_uri": "https://localhost:8080/"
        },
        "id": "VQ00pq8iL3pP",
        "outputId": "ff24bc54-0873-418e-89d8-2d7fb89cc4ed"
      },
      "source": [
        "print(ans[0])"
      ],
      "execution_count": null,
      "outputs": [
        {
          "output_type": "stream",
          "text": [
            "8\n"
          ],
          "name": "stdout"
        }
      ]
    },
    {
      "cell_type": "markdown",
      "metadata": {
        "id": "-9szAWh5M2f9"
      },
      "source": [
        "# D - Not Divisible"
      ]
    },
    {
      "cell_type": "code",
      "metadata": {
        "colab": {
          "base_uri": "https://localhost:8080/"
        },
        "id": "mpAmGY0gMX0G",
        "outputId": "749c31b8-d195-4640-9681-f77c87cb5117"
      },
      "source": [
        "n = int(input())\r\n",
        "a = list(map(int, input().split()))"
      ],
      "execution_count": 35,
      "outputs": [
        {
          "output_type": "stream",
          "text": [
            "10\n",
            "33 18 45 28 8 19 89 86 2 4\n"
          ],
          "name": "stdout"
        }
      ]
    },
    {
      "cell_type": "code",
      "metadata": {
        "id": "nd1grAkZPZg-"
      },
      "source": [
        "d = [0] * (10**7)\r\n",
        "m = [0] * (10**7)"
      ],
      "execution_count": 36,
      "outputs": []
    },
    {
      "cell_type": "code",
      "metadata": {
        "id": "ChyPw_3tdM8p"
      },
      "source": [
        "for i in a:\r\n",
        "  d[i] += 1"
      ],
      "execution_count": 37,
      "outputs": []
    },
    {
      "cell_type": "code",
      "metadata": {
        "id": "l75Kl5brau0M"
      },
      "source": [
        "for i in set(a):\r\n",
        "  if m[i] == 0:\r\n",
        "    for j in range(2*i,10**6 + 1,i):\r\n",
        "      m[j] = 1"
      ],
      "execution_count": 38,
      "outputs": []
    },
    {
      "cell_type": "code",
      "metadata": {
        "id": "qP-SSvpRbppD"
      },
      "source": [
        "ans = 0\r\n",
        "for i in a:\r\n",
        "  if m[i] == 0 and d[i] <= 1:\r\n",
        "    ans += 1"
      ],
      "execution_count": 39,
      "outputs": []
    },
    {
      "cell_type": "code",
      "metadata": {
        "colab": {
          "base_uri": "https://localhost:8080/"
        },
        "id": "zwTbN-ZzdS5M",
        "outputId": "4027f036-d00f-4005-c3d1-be37f6079e51"
      },
      "source": [
        "print(ans)"
      ],
      "execution_count": 40,
      "outputs": [
        {
          "output_type": "stream",
          "text": [
            "5\n"
          ],
          "name": "stdout"
        }
      ]
    },
    {
      "cell_type": "code",
      "metadata": {
        "id": "uqZjv53zdnGr"
      },
      "source": [
        ""
      ],
      "execution_count": null,
      "outputs": []
    }
  ]
}