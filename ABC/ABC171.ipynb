{
  "nbformat": 4,
  "nbformat_minor": 0,
  "metadata": {
    "colab": {
      "name": "ABC171.ipynb",
      "provenance": [],
      "collapsed_sections": [],
      "authorship_tag": "ABX9TyOqAmvCwvFQTB/sZZTWl8iW",
      "include_colab_link": true
    },
    "kernelspec": {
      "name": "python3",
      "display_name": "Python 3"
    },
    "language_info": {
      "name": "python"
    }
  },
  "cells": [
    {
      "cell_type": "markdown",
      "metadata": {
        "id": "view-in-github",
        "colab_type": "text"
      },
      "source": [
        "<a href=\"https://colab.research.google.com/github/Hidestament/AtCoder/blob/main/ABC/ABC171.ipynb\" target=\"_parent\"><img src=\"https://colab.research.google.com/assets/colab-badge.svg\" alt=\"Open In Colab\"/></a>"
      ]
    },
    {
      "cell_type": "markdown",
      "source": [
        "# [AtCoder Beginner Contest 171](https://atcoder.jp/contests/abc171)"
      ],
      "metadata": {
        "id": "wOvDmbYC_UgM"
      }
    },
    {
      "cell_type": "markdown",
      "source": [
        "## [A - αlphabet](https://atcoder.jp/contests/abc171/tasks/abc171_a)"
      ],
      "metadata": {
        "id": "JcxuSmoT_WBu"
      }
    },
    {
      "cell_type": "code",
      "execution_count": null,
      "metadata": {
        "id": "A7c34vMO_Nic"
      },
      "outputs": [],
      "source": [
        "a = input()\n",
        "print(\"A\" if a.isupper() else \"a\")"
      ]
    },
    {
      "cell_type": "markdown",
      "source": [
        "## [B - Mix Juice](https://atcoder.jp/contests/abc171/tasks/abc171_b)"
      ],
      "metadata": {
        "id": "3a9akMU__reM"
      }
    },
    {
      "cell_type": "code",
      "source": [
        "N, K = map(int, input().split())\n",
        "P = list(map(int, input().split()))"
      ],
      "metadata": {
        "colab": {
          "base_uri": "https://localhost:8080/"
        },
        "id": "rT7PRO0m_ukR",
        "outputId": "a8ca1001-6f66-4cce-c08d-61c80619224e"
      },
      "execution_count": null,
      "outputs": [
        {
          "name": "stdout",
          "output_type": "stream",
          "text": [
            "5 3\n",
            "50 100 80 120 80\n"
          ]
        }
      ]
    },
    {
      "cell_type": "code",
      "source": [
        "P.sort()\n",
        "print(sum(P[:K]))"
      ],
      "metadata": {
        "colab": {
          "base_uri": "https://localhost:8080/"
        },
        "id": "bw9YXqxn_zWs",
        "outputId": "33f30578-9438-4370-9013-91fa640b2880"
      },
      "execution_count": null,
      "outputs": [
        {
          "output_type": "stream",
          "name": "stdout",
          "text": [
            "210\n"
          ]
        }
      ]
    },
    {
      "cell_type": "markdown",
      "source": [
        "## [C - One Quadrillion and One Dalmatians](https://atcoder.jp/contests/abc171/tasks/abc171_c)"
      ],
      "metadata": {
        "id": "RMQW0JL7_jKU"
      }
    },
    {
      "cell_type": "code",
      "source": [
        "N = int(input())\n",
        "ans = \"\"\n",
        "while N > 0:\n",
        "    N -= 1\n",
        "    ans += chr(ord(\"a\") + N%26)\n",
        "    N //= 26\n",
        "print(ans[::-1])"
      ],
      "metadata": {
        "id": "-JjTbirWScEO"
      },
      "execution_count": null,
      "outputs": []
    },
    {
      "cell_type": "markdown",
      "source": [
        "## [D - Replacing](https://atcoder.jp/contests/abc171/tasks/abc171_d)"
      ],
      "metadata": {
        "id": "U1FI9QLgABEY"
      }
    },
    {
      "cell_type": "code",
      "source": [
        "N = int(input())\n",
        "A = list(map(int, input().split()))\n",
        "Q = int(input())"
      ],
      "metadata": {
        "id": "7BIIQ0L5JCyG"
      },
      "execution_count": null,
      "outputs": []
    },
    {
      "cell_type": "code",
      "source": [
        "from collections import Counter\n",
        "cnt = Counter(A)"
      ],
      "metadata": {
        "id": "Lcqpfu_PJCvj"
      },
      "execution_count": null,
      "outputs": []
    },
    {
      "cell_type": "code",
      "source": [
        "s = sum(A)\n",
        "for _ in range(Q):\n",
        "    b, c = map(int, input().split())\n",
        "    num_b = cnt[b]\n",
        "    cnt[c] += num_b\n",
        "    cnt[b] = 0\n",
        "    s += (num_b * c) - (num_b * b)\n",
        "    print(s)"
      ],
      "metadata": {
        "id": "Wc1G6xpfJCsr"
      },
      "execution_count": null,
      "outputs": []
    },
    {
      "cell_type": "markdown",
      "source": [
        "## [E - Red Scarf](https://atcoder.jp/contests/abc171/tasks/abc171_e)"
      ],
      "metadata": {
        "id": "0RE3w022BSXz"
      }
    },
    {
      "cell_type": "code",
      "source": [
        "N = int(input())\n",
        "A = list(map(int, input().split()))\n",
        "\n",
        "all_xor = 0\n",
        "for a in A:\n",
        "    all_xor = all_xor ^ a\n",
        "\n",
        "for a in A:\n",
        "    print(all_xor ^ a)"
      ],
      "metadata": {
        "colab": {
          "base_uri": "https://localhost:8080/"
        },
        "id": "rCy7pE6BAc9K",
        "outputId": "c596d2a0-fdd2-44cc-9d84-8352b18ed41f"
      },
      "execution_count": null,
      "outputs": [
        {
          "output_type": "stream",
          "name": "stdout",
          "text": [
            "4\n",
            "20 11 9 24\n",
            "26\n",
            "5\n",
            "7\n",
            "22\n"
          ]
        }
      ]
    }
  ]
}