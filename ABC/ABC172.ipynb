{
  "nbformat": 4,
  "nbformat_minor": 0,
  "metadata": {
    "colab": {
      "name": "ABC172.ipynb",
      "provenance": [],
      "collapsed_sections": [],
      "authorship_tag": "ABX9TyPIEnSGHKKlP87V9tcK2Zja",
      "include_colab_link": true
    },
    "kernelspec": {
      "name": "python3",
      "display_name": "Python 3"
    },
    "language_info": {
      "name": "python"
    }
  },
  "cells": [
    {
      "cell_type": "markdown",
      "metadata": {
        "id": "view-in-github",
        "colab_type": "text"
      },
      "source": [
        "<a href=\"https://colab.research.google.com/github/Hidestament/AtCoder/blob/main/ABC/ABC172.ipynb\" target=\"_parent\"><img src=\"https://colab.research.google.com/assets/colab-badge.svg\" alt=\"Open In Colab\"/></a>"
      ]
    },
    {
      "cell_type": "markdown",
      "source": [
        "# [AtCoder Beginner Contest 172](https://atcoder.jp/contests/abc172)"
      ],
      "metadata": {
        "id": "56_wBTQ3-K6o"
      }
    },
    {
      "cell_type": "markdown",
      "source": [
        "## [A - Calc](https://atcoder.jp/contests/abc172/tasks/abc172_a)"
      ],
      "metadata": {
        "id": "ZZ5stEl7-Pj-"
      }
    },
    {
      "cell_type": "code",
      "execution_count": null,
      "metadata": {
        "id": "lVN2q7Fr-IbO"
      },
      "outputs": [],
      "source": [
        "a = int(input())\n",
        "print(a + a ** 2 + a ** 3)"
      ]
    },
    {
      "cell_type": "markdown",
      "source": [
        "## [B - Minor Change](https://atcoder.jp/contests/abc172/tasks/abc172_b)"
      ],
      "metadata": {
        "id": "RR7-wD8q-bj9"
      }
    },
    {
      "cell_type": "code",
      "source": [
        "S = str(input())\n",
        "T = str(input())\n",
        "ans = sum(1 for i in range(len(S)) if S[i] != T[i])\n",
        "print(ans)"
      ],
      "metadata": {
        "id": "PwbdCMep-dqB"
      },
      "execution_count": null,
      "outputs": []
    },
    {
      "cell_type": "markdown",
      "source": [
        "## [C - Tsundoku](https://atcoder.jp/contests/abc172/tasks/abc172_c)"
      ],
      "metadata": {
        "id": "5dkD5Vrj_7VZ"
      }
    },
    {
      "cell_type": "markdown",
      "source": [
        "### にぶたんで解く"
      ],
      "metadata": {
        "id": "Y-pvGIRjlki9"
      }
    },
    {
      "cell_type": "code",
      "source": [
        "from bisect import bisect_right\n",
        "from itertools import accumulate\n",
        "N, M, K = map(int, input().split())\n",
        "A = list(map(int, input().split()))\n",
        "B = list(map(int, input().split()))"
      ],
      "metadata": {
        "colab": {
          "base_uri": "https://localhost:8080/"
        },
        "id": "SbieuxIV_9wV",
        "outputId": "fb5fce28-0459-4bd8-dc1f-a2b592576c54"
      },
      "execution_count": null,
      "outputs": [
        {
          "name": "stdout",
          "output_type": "stream",
          "text": [
            "3 4 240\n",
            "60 90 120\n",
            "80 150 80 150\n"
          ]
        }
      ]
    },
    {
      "cell_type": "code",
      "source": [
        "Aacc = [0] + list(accumulate(A))\n",
        "Bacc = [0] + list(accumulate(B)) + [10**10]"
      ],
      "metadata": {
        "id": "W2w0l55a__l2"
      },
      "execution_count": null,
      "outputs": []
    },
    {
      "cell_type": "code",
      "source": [
        "ans = 0\n",
        "for i in range(N + 1):\n",
        "    res_time = K - Aacc[i]\n",
        "    if res_time < 0: break\n",
        "    ind = bisect_right(Bacc, res_time)\n",
        "    ans = max(ans, i + ind - 1)"
      ],
      "metadata": {
        "id": "2E1dXuPX__i_"
      },
      "execution_count": null,
      "outputs": []
    },
    {
      "cell_type": "code",
      "source": [
        "print(ans)"
      ],
      "metadata": {
        "colab": {
          "base_uri": "https://localhost:8080/"
        },
        "id": "b6hd0JmwB86w",
        "outputId": "322b9334-99e8-4fec-bf28-1160d1f23c3c"
      },
      "execution_count": null,
      "outputs": [
        {
          "output_type": "stream",
          "name": "stdout",
          "text": [
            "3\n"
          ]
        }
      ]
    },
    {
      "cell_type": "markdown",
      "source": [
        "### しゃくとり法でも解ける"
      ],
      "metadata": {
        "id": "7SLicDK_kHKU"
      }
    },
    {
      "cell_type": "code",
      "source": [
        "from collections import deque\n",
        "N, M, K = map(int, input().split())\n",
        "A = list(map(int, input().split()))\n",
        "B = list(map(int, input().split()))"
      ],
      "metadata": {
        "id": "7YWO3rAzuOzE"
      },
      "execution_count": null,
      "outputs": []
    },
    {
      "cell_type": "code",
      "source": [
        "s = 0\n",
        "a = deque()\n",
        "for i in range(N):\n",
        "    if s + A[i] > K: break\n",
        "    a.append(A[i])\n",
        "    s += A[i]"
      ],
      "metadata": {
        "id": "GIRlGuIVuPhR"
      },
      "execution_count": null,
      "outputs": []
    },
    {
      "cell_type": "code",
      "source": [
        "ans = len(a)\n",
        "b = deque()\n",
        "for i in range(M):\n",
        "    s += B[i]\n",
        "    b.append(B[i])\n",
        "    while a and s > K:\n",
        "        now = a.pop()\n",
        "        s -= now\n",
        "    if s <= K:\n",
        "        ans = max(ans, len(a) + len(b))"
      ],
      "metadata": {
        "id": "ulAR7JJsuPfZ"
      },
      "execution_count": null,
      "outputs": []
    },
    {
      "cell_type": "code",
      "source": [
        "print(ans)"
      ],
      "metadata": {
        "colab": {
          "base_uri": "https://localhost:8080/"
        },
        "id": "tT_G0nrmkIT2",
        "outputId": "1f1795e9-9c41-41ee-8c10-1733398e58e5"
      },
      "execution_count": null,
      "outputs": [
        {
          "output_type": "execute_result",
          "data": {
            "text/plain": [
              "3"
            ]
          },
          "metadata": {},
          "execution_count": 4
        }
      ]
    },
    {
      "cell_type": "markdown",
      "source": [
        "## [D - Sum of Divisors](https://atcoder.jp/contests/abc172/tasks/abc172_d)"
      ],
      "metadata": {
        "id": "ZqXQCoYjE29H"
      }
    },
    {
      "cell_type": "markdown",
      "source": [
        "### 1. エラトステネスの篩の要領で約数の個数を数える\n",
        "$O(N\\log N)$"
      ],
      "metadata": {
        "id": "TLkSWhkzoS2b"
      }
    },
    {
      "cell_type": "code",
      "source": [
        "N = int(input())"
      ],
      "metadata": {
        "id": "C55ycmjBB9pI",
        "colab": {
          "base_uri": "https://localhost:8080/"
        },
        "outputId": "ce21732f-1ae6-485e-eb06-91fba4d2e27d"
      },
      "execution_count": null,
      "outputs": [
        {
          "name": "stdout",
          "output_type": "stream",
          "text": [
            "100\n"
          ]
        }
      ]
    },
    {
      "cell_type": "code",
      "source": [
        "# 全部1と自分自身を約数に持つので\n",
        "num_factors = [2] * (N + 1)\n",
        "num_factors[0], num_factors[1] = 0, 1\n",
        "for p in range(2, N+1):  # pは 2 ~ N で走査する\n",
        "    for mp in range(2 * p, N + 1, p):\n",
        "        num_factors[mp] += 1"
      ],
      "metadata": {
        "id": "6Va0disMmgJV"
      },
      "execution_count": null,
      "outputs": []
    },
    {
      "cell_type": "code",
      "source": [
        "ans = 0\n",
        "for i in range(1, N+1):\n",
        "    ans += i * num_factors[i]\n",
        "print(ans)"
      ],
      "metadata": {
        "colab": {
          "base_uri": "https://localhost:8080/"
        },
        "id": "7rXBG0oKnKGt",
        "outputId": "26683f10-5b78-427d-e47d-7b8a5b82e541"
      },
      "execution_count": null,
      "outputs": [
        {
          "output_type": "stream",
          "name": "stdout",
          "text": [
            "26879\n"
          ]
        }
      ]
    },
    {
      "cell_type": "markdown",
      "source": [
        "### 2. 約数pがどこで足されるかで答える\n",
        "計算量は上と変わらないが, 配列のアクセスがないので相当早い. $O(N\\log N)$"
      ],
      "metadata": {
        "id": "88ghaYiuojGR"
      }
    },
    {
      "cell_type": "code",
      "source": [
        "N = int(input())"
      ],
      "metadata": {
        "colab": {
          "base_uri": "https://localhost:8080/"
        },
        "id": "nsudLvzqoXbT",
        "outputId": "a320c56d-80c4-4357-9fd8-f2bbd69589b9"
      },
      "execution_count": null,
      "outputs": [
        {
          "name": "stdout",
          "output_type": "stream",
          "text": [
            "4\n"
          ]
        }
      ]
    },
    {
      "cell_type": "code",
      "source": [
        "# p = 1 は 1 +  2 + 3 + ... + N なので N(N+1)/2\n",
        "ans = N * (N + 1) // 2\n",
        "for p in range(2, N+1):  # pは 2 ~ N で走査する\n",
        "    # pがmpの約数であるとき, 答えには + mp される\n",
        "    for mp in range(p, N + 1, p):\n",
        "        ans += mp\n",
        "print(ans)"
      ],
      "metadata": {
        "colab": {
          "base_uri": "https://localhost:8080/"
        },
        "id": "Cvmxfn6inKES",
        "outputId": "46c1826c-3f44-4385-b9c4-69ef8717cdea"
      },
      "execution_count": null,
      "outputs": [
        {
          "output_type": "stream",
          "name": "stdout",
          "text": [
            "23\n"
          ]
        }
      ]
    },
    {
      "cell_type": "markdown",
      "source": [
        "### 3. 横方向で和を取る\n",
        "等差数列の和 $O(N)$"
      ],
      "metadata": {
        "id": "qaKbd9GHt6z2"
      }
    },
    {
      "cell_type": "code",
      "source": [
        "N = int(input())\n",
        "ans = 0"
      ],
      "metadata": {
        "colab": {
          "base_uri": "https://localhost:8080/"
        },
        "id": "W5tGwA-x10zk",
        "outputId": "04fd4254-a532-4385-f057-7f20577158a5"
      },
      "execution_count": 31,
      "outputs": [
        {
          "name": "stdout",
          "output_type": "stream",
          "text": [
            "4\n"
          ]
        }
      ]
    },
    {
      "cell_type": "code",
      "source": [
        "for p in range(1, N+1):\n",
        "    k = N // p\n",
        "    ans += p * k * (k + 1) // 2\n",
        "print(ans)"
      ],
      "metadata": {
        "colab": {
          "base_uri": "https://localhost:8080/"
        },
        "id": "9TFPzap210xC",
        "outputId": "d10912a3-1fbd-494d-fbee-1f27e9f91691"
      },
      "execution_count": 32,
      "outputs": [
        {
          "output_type": "stream",
          "name": "stdout",
          "text": [
            "23\n"
          ]
        }
      ]
    },
    {
      "cell_type": "markdown",
      "source": [
        "### 4. 縦横でたす\n",
        "$O(\\sqrt{N})$"
      ],
      "metadata": {
        "id": "M0yRSLqc4Gc8"
      }
    },
    {
      "cell_type": "code",
      "source": [
        "def f(x):\n",
        "  return x * (x+1) // 2"
      ],
      "metadata": {
        "id": "Z1-pirYU5L1_"
      },
      "execution_count": null,
      "outputs": []
    },
    {
      "cell_type": "code",
      "source": [
        "N = int(input())\n",
        "ans = 0\n",
        "for x in range(1, N+1):\n",
        "    if x * x > N: break\n",
        "    # 縦横\n",
        "\n",
        "    ans += 2 * x * (f(N // x) - f(x - 1))\n",
        "    ans -= x * x\n",
        "\n",
        "print(ans)"
      ],
      "metadata": {
        "colab": {
          "base_uri": "https://localhost:8080/"
        },
        "id": "xvK5HWjz4KOq",
        "outputId": "13a09daf-1c2b-4eb9-f177-a3424f802f44"
      },
      "execution_count": null,
      "outputs": [
        {
          "output_type": "stream",
          "name": "stdout",
          "text": [
            "4\n",
            "23\n"
          ]
        }
      ]
    }
  ]
}