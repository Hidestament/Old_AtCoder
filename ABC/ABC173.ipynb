{
  "nbformat": 4,
  "nbformat_minor": 0,
  "metadata": {
    "colab": {
      "name": "ABC173.ipynb",
      "provenance": [],
      "collapsed_sections": [],
      "authorship_tag": "ABX9TyMojnx3Y/lQ3sS30m7FlYBD",
      "include_colab_link": true
    },
    "kernelspec": {
      "name": "python3",
      "display_name": "Python 3"
    },
    "language_info": {
      "name": "python"
    }
  },
  "cells": [
    {
      "cell_type": "markdown",
      "metadata": {
        "id": "view-in-github",
        "colab_type": "text"
      },
      "source": [
        "<a href=\"https://colab.research.google.com/github/Hidestament/AtCoder/blob/main/ABC/ABC173.ipynb\" target=\"_parent\"><img src=\"https://colab.research.google.com/assets/colab-badge.svg\" alt=\"Open In Colab\"/></a>"
      ]
    },
    {
      "cell_type": "markdown",
      "source": [
        "# [AtCoder Beginner Contest 173](https://atcoder.jp/contests/abc173)"
      ],
      "metadata": {
        "id": "D0esSBXJkWE4"
      }
    },
    {
      "cell_type": "markdown",
      "source": [
        "## [A - Payment](https://atcoder.jp/contests/abc173/tasks/abc173_a)"
      ],
      "metadata": {
        "id": "_e9GIlnwkYQm"
      }
    },
    {
      "cell_type": "code",
      "execution_count": null,
      "metadata": {
        "id": "KVod0Or_kUbV"
      },
      "outputs": [],
      "source": [
        "N = int(input())\n",
        "print((1000 - N%1000) % 1000)"
      ]
    },
    {
      "cell_type": "markdown",
      "source": [
        "## [B - Judge Status Summary](https://atcoder.jp/contests/abc173/tasks/abc173_b)"
      ],
      "metadata": {
        "id": "mYYk0sK7kxs4"
      }
    },
    {
      "cell_type": "code",
      "source": [
        "from collections import defaultdict\n",
        "N = int(input())\n",
        "cnt = defaultdict(int)\n",
        "for _ in range(N):\n",
        "    s = str(input())\n",
        "    cnt[s] += 1"
      ],
      "metadata": {
        "id": "ObHLO4Hjkzpl"
      },
      "execution_count": null,
      "outputs": []
    },
    {
      "cell_type": "code",
      "source": [
        "print(\"AC x\", cnt[\"AC\"])\n",
        "print(\"WA x\", cnt[\"WA\"])\n",
        "print(\"TLE x\", cnt[\"TLE\"])\n",
        "print(\"RE x\", cnt[\"RE\"])"
      ],
      "metadata": {
        "id": "5jhoBAuvlEnj"
      },
      "execution_count": null,
      "outputs": []
    },
    {
      "cell_type": "markdown",
      "source": [
        "## [C - H and V](https://atcoder.jp/contests/abc173/tasks/abc173_c)"
      ],
      "metadata": {
        "id": "oD_gOQirlf5y"
      }
    },
    {
      "cell_type": "code",
      "source": [
        "H, W, K = map(int, input().split())\n",
        "c = [input() for _ in range(H)]"
      ],
      "metadata": {
        "colab": {
          "base_uri": "https://localhost:8080/"
        },
        "id": "6MDJRTvtlHVm",
        "outputId": "8d0f029a-7ec0-417d-c485-99c3127e8958"
      },
      "execution_count": null,
      "outputs": [
        {
          "name": "stdout",
          "output_type": "stream",
          "text": [
            "2 3 4\n",
            "..#\n",
            "###\n"
          ]
        }
      ]
    },
    {
      "cell_type": "code",
      "source": [
        "ans = 0\n",
        "for hbit in range(1 << H):\n",
        "    for wbit in range(1 << W):\n",
        "        cnt = 0\n",
        "        for h in range(H):\n",
        "            if (hbit >> h) & 1: continue\n",
        "            for w in range(W):\n",
        "                if (wbit >> w) & 1: continue\n",
        "                if c[h][w] == \"#\":\n",
        "                    cnt += 1\n",
        "        if cnt == K:\n",
        "            ans += 1"
      ],
      "metadata": {
        "id": "1WkZqK36mGqS"
      },
      "execution_count": null,
      "outputs": []
    },
    {
      "cell_type": "code",
      "source": [
        "print(ans)"
      ],
      "metadata": {
        "colab": {
          "base_uri": "https://localhost:8080/"
        },
        "id": "JHNdTi8yman_",
        "outputId": "4aece30b-d581-4361-bc76-0d969bc837df"
      },
      "execution_count": null,
      "outputs": [
        {
          "output_type": "stream",
          "name": "stdout",
          "text": [
            "1\n"
          ]
        }
      ]
    },
    {
      "cell_type": "markdown",
      "source": [
        "## [D - Chat in a Circle](https://atcoder.jp/contests/abc173/tasks/abc173_d)"
      ],
      "metadata": {
        "id": "8nuHNhTNnCh-"
      }
    },
    {
      "cell_type": "code",
      "source": [
        "N = int(input())\n",
        "A = list(map(int, input().split()))\n",
        "A.sort(reverse=True)"
      ],
      "metadata": {
        "colab": {
          "base_uri": "https://localhost:8080/"
        },
        "id": "YVOHxizrm2L9",
        "outputId": "b8699e59-a6cd-4eba-9531-b9e32e6f0c24"
      },
      "execution_count": null,
      "outputs": [
        {
          "output_type": "execute_result",
          "data": {
            "text/plain": [
              "8"
            ]
          },
          "metadata": {},
          "execution_count": 6
        }
      ]
    },
    {
      "cell_type": "code",
      "source": [
        "ans = A[0]\n",
        "cnt = 1\n",
        "for i in range(1, N):\n",
        "    for _ in range(2):\n",
        "        if cnt == N - 1: break\n",
        "        ans += A[i]\n",
        "        cnt += 1"
      ],
      "metadata": {
        "colab": {
          "base_uri": "https://localhost:8080/"
        },
        "id": "La4QDvLUnZT8",
        "outputId": "771aa5e9-9b21-424b-a687-0f0083d77142"
      },
      "execution_count": null,
      "outputs": [
        {
          "output_type": "execute_result",
          "data": {
            "text/plain": [
              "8"
            ]
          },
          "metadata": {},
          "execution_count": 7
        }
      ]
    },
    {
      "cell_type": "code",
      "source": [
        "print(ans)"
      ],
      "metadata": {
        "id": "cn2YLviancWO"
      },
      "execution_count": null,
      "outputs": []
    },
    {
      "cell_type": "markdown",
      "source": [
        "Aを予め2倍しとくと楽"
      ],
      "metadata": {
        "id": "E8ZBfRPgbUSl"
      }
    },
    {
      "cell_type": "code",
      "source": [
        "N = int(input())\n",
        "A = list(map(int, input().split()))\n",
        "A = A + A\n",
        "A.sort(reverse=True)"
      ],
      "metadata": {
        "id": "s4afIGYebUdT"
      },
      "execution_count": null,
      "outputs": []
    },
    {
      "cell_type": "code",
      "source": [
        "ans = sum(A[i] for i in range(1, N))\n",
        "print(ans)"
      ],
      "metadata": {
        "id": "e7Qt0sSqbZkD"
      },
      "execution_count": null,
      "outputs": []
    }
  ]
}