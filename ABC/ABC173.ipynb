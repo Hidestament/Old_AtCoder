{
  "nbformat": 4,
  "nbformat_minor": 0,
  "metadata": {
    "colab": {
      "name": "ABC173.ipynb",
      "provenance": [],
      "authorship_tag": "ABX9TyPHxgDVelTyv+RbcBejm4PD",
      "include_colab_link": true
    },
    "kernelspec": {
      "name": "python3",
      "display_name": "Python 3"
    }
  },
  "cells": [
    {
      "cell_type": "markdown",
      "metadata": {
        "id": "view-in-github",
        "colab_type": "text"
      },
      "source": [
        "<a href=\"https://colab.research.google.com/github/Hidestament/AtCoder/blob/main/ABC/ABC173.ipynb\" target=\"_parent\"><img src=\"https://colab.research.google.com/assets/colab-badge.svg\" alt=\"Open In Colab\"/></a>"
      ]
    },
    {
      "cell_type": "markdown",
      "metadata": {
        "id": "Twx_GuYt2Rig"
      },
      "source": [
        "# A - Payment\r\n"
      ]
    },
    {
      "cell_type": "code",
      "metadata": {
        "colab": {
          "base_uri": "https://localhost:8080/"
        },
        "id": "lMYYnVVE127N",
        "outputId": "8d9884a2-7605-497d-9c0b-78f0f6e94416"
      },
      "source": [
        "n = int(input())"
      ],
      "execution_count": 23,
      "outputs": [
        {
          "output_type": "stream",
          "text": [
            "1900\n"
          ],
          "name": "stdout"
        }
      ]
    },
    {
      "cell_type": "code",
      "metadata": {
        "colab": {
          "base_uri": "https://localhost:8080/"
        },
        "id": "-BLjFV7i2xSV",
        "outputId": "fbc25316-72c1-4400-890c-d515277f0742"
      },
      "source": [
        "if n % 1000 == 0:\r\n",
        "  print(0)\r\n",
        "else:\r\n",
        "  print(1000 - int(str(n)[-3:]))"
      ],
      "execution_count": 24,
      "outputs": [
        {
          "output_type": "stream",
          "text": [
            "100\n"
          ],
          "name": "stdout"
        }
      ]
    },
    {
      "cell_type": "markdown",
      "metadata": {
        "id": "vmL2ydua3xNn"
      },
      "source": [
        "# B - Judge Status Summary"
      ]
    },
    {
      "cell_type": "markdown",
      "metadata": {
        "id": "mrSqQLqtcyeS"
      },
      "source": [
        "## 愚直に\r\n",
        "入力の文字列に改行が入ってたので下のように[:-1]と指定した"
      ]
    },
    {
      "cell_type": "code",
      "metadata": {
        "colab": {
          "base_uri": "https://localhost:8080/"
        },
        "id": "xG_BrGDG30Ej",
        "outputId": "30d1d0d7-9bb2-46ad-ea66-e0e92071dbd4"
      },
      "source": [
        "n = int(input())"
      ],
      "execution_count": 14,
      "outputs": [
        {
          "output_type": "stream",
          "text": [
            "6\n"
          ],
          "name": "stdout"
        }
      ]
    },
    {
      "cell_type": "code",
      "metadata": {
        "colab": {
          "base_uri": "https://localhost:8080/"
        },
        "id": "kEP3qCpc4Qts",
        "outputId": "0ef19000-1cff-47d0-ceb6-f1f12b1ac08d"
      },
      "source": [
        "c = [0,0,0,0]\r\n",
        "a = [\"AC\", \"WA\", \"TLE\", \"RE\"]\r\n",
        "\r\n",
        "for _ in range(n):\r\n",
        "  s = str(input())\r\n",
        "  i = a.index(s[:-1])\r\n",
        "  c[i] += 1\r\n",
        "\r\n",
        "for i in range(len(a)):\r\n",
        "  print(a[i], \" x \", c[i])"
      ],
      "execution_count": 17,
      "outputs": [
        {
          "output_type": "stream",
          "text": [
            "AC\n",
            "TLE\n",
            "AC\n",
            "AC\n",
            "WA\n",
            "TLE\n",
            "AC  x  3\n",
            "WA  x  1\n",
            "TLE  x  2\n",
            "RE  x  0\n"
          ],
          "name": "stdout"
        }
      ]
    },
    {
      "cell_type": "markdown",
      "metadata": {
        "id": "22PIZ5C2cxyM"
      },
      "source": [
        "## Counterを使うと一瞬"
      ]
    },
    {
      "cell_type": "code",
      "metadata": {
        "id": "RWudBdtcc0ob"
      },
      "source": [
        "from collections import Counter\r\n",
        "\r\n",
        "n = int(input())\r\n",
        "s = [input() for _ in range(n)]\r\n",
        "\r\n",
        "C = Counter(s)\r\n",
        "print(\"AC x \" + str(C[\"AC\"]))\r\n",
        "print(\"WA x \" + str(C[\"WA\"]))\r\n",
        "print(\"TLE x \" + str(C[\"TLE\"]))\r\n",
        "print(\"RE x \" + str(C[\"RE\"]))"
      ],
      "execution_count": null,
      "outputs": []
    },
    {
      "cell_type": "markdown",
      "metadata": {
        "id": "fEMOdOYD6JZO"
      },
      "source": [
        "# C - H and V\r\n",
        "h,wがすごく小さいことから, bit全探索を行う.\r\n",
        "\r\n",
        "初めてbit全探索実装した."
      ]
    },
    {
      "cell_type": "markdown",
      "metadata": {
        "id": "-TZ8jDTORaVK"
      },
      "source": [
        "## 自分でBit探索"
      ]
    },
    {
      "cell_type": "code",
      "metadata": {
        "colab": {
          "base_uri": "https://localhost:8080/"
        },
        "id": "K4Hy2U856Meo",
        "outputId": "a133a8df-2163-4715-8dbe-c1e82bd89469"
      },
      "source": [
        "h, w, k = map(int, input().split())\r\n",
        "mas = [list(input()) for _ in range(h)]"
      ],
      "execution_count": 25,
      "outputs": [
        {
          "output_type": "stream",
          "text": [
            "2 3 2\n",
            "..#\n",
            "###\n"
          ],
          "name": "stdout"
        }
      ]
    },
    {
      "cell_type": "code",
      "metadata": {
        "id": "wOdTWuznMzEG"
      },
      "source": [
        "ans = 0\r\n",
        "for paint_h in range(2**h):\r\n",
        "  for paint_w in range(2**w):\r\n",
        "    cnt = 0\r\n",
        "    for i in range(h):\r\n",
        "      for j in range(w):\r\n",
        "        if ((paint_h>>i)&1) and ((paint_w>>j)&1):\r\n",
        "          if mas[i][j] == \"#\":\r\n",
        "            cnt += 1\r\n",
        "    if cnt == k:\r\n",
        "      ans += 1"
      ],
      "execution_count": 95,
      "outputs": []
    },
    {
      "cell_type": "code",
      "metadata": {
        "colab": {
          "base_uri": "https://localhost:8080/"
        },
        "id": "mJNhR4BQMzAc",
        "outputId": "b43bf60a-5957-4f68-8923-76493cb09912"
      },
      "source": [
        "print(ans)"
      ],
      "execution_count": 96,
      "outputs": [
        {
          "output_type": "stream",
          "text": [
            "5\n"
          ],
          "name": "stdout"
        }
      ]
    },
    {
      "cell_type": "markdown",
      "metadata": {
        "id": "r-XuRdOaRdWz"
      },
      "source": [
        "## itertoolsを使う\r\n",
        "itertools便利だなあ"
      ]
    },
    {
      "cell_type": "code",
      "metadata": {
        "colab": {
          "base_uri": "https://localhost:8080/"
        },
        "id": "RX8Lz59lReD4",
        "outputId": "f0d0c180-2efd-4387-ccbb-36191031df20"
      },
      "source": [
        "import itertools\r\n",
        "h, w, k = map(int, input().split())\r\n",
        "mas = [list(input()) for _ in range(h)]"
      ],
      "execution_count": 97,
      "outputs": [
        {
          "output_type": "stream",
          "text": [
            "2 3 2\n",
            "..# \n",
            "###\n"
          ],
          "name": "stdout"
        }
      ]
    },
    {
      "cell_type": "code",
      "metadata": {
        "id": "rLJzmEX8ReBQ"
      },
      "source": [
        "ans = 0\r\n",
        "for row in itertools.product([0,1], repeat=h):\r\n",
        "  for col in itertools.product([0,1], repeat=w):\r\n",
        "    cnt = 0\r\n",
        "    for i in range(h):\r\n",
        "      for j in range(w):\r\n",
        "        if row[i] and col[j] and mas[i][j] == \"#\":\r\n",
        "          cnt += 1\r\n",
        "    if cnt == k:\r\n",
        "      ans += 1"
      ],
      "execution_count": 100,
      "outputs": []
    },
    {
      "cell_type": "code",
      "metadata": {
        "colab": {
          "base_uri": "https://localhost:8080/"
        },
        "id": "3zuc2SsERd-e",
        "outputId": "9f19c30e-6db1-4583-c94e-396e33ee3950"
      },
      "source": [
        "print(ans)"
      ],
      "execution_count": 101,
      "outputs": [
        {
          "output_type": "stream",
          "text": [
            "5\n"
          ],
          "name": "stdout"
        }
      ]
    },
    {
      "cell_type": "markdown",
      "metadata": {
        "id": "FSaPMq9mDL21"
      },
      "source": [
        "# D - Chat in a Circle"
      ]
    },
    {
      "cell_type": "markdown",
      "metadata": {
        "id": "A4-JgF3MnsDl"
      },
      "source": [
        "## 直感的な説明\r\n",
        "\r\n",
        "- ポイントが大きい順に並べた方が良い\r\n",
        "\r\n",
        "小さい順においてしまうと, だれかが小さいポイントを受け取らないといけないが, 大きい順ならば大きいポイントから取れるため.\r\n",
        "\r\n",
        "- 最初の人（ポイント最大）の人以外は, その人のポイントが2回ずつ加算される\r\n",
        "\r\n",
        "大きい人からおいていけば, その量隣に人を置くことによって, その真ん中の人のポイントは2回ずつ換算される."
      ]
    },
    {
      "cell_type": "markdown",
      "metadata": {
        "id": "90461b9roaB5"
      },
      "source": [
        "以上のことをまとめると, ソートしてから大きい順に常にポイントが最大の箇所において行けば良い.\r\n",
        "\r\n",
        "すると, 最大値は1回, その他のnまでは2回ずつカウントされる.\r\n",
        "\r\n",
        "これを実装するためには, a = a + a とし, ソートした後, その配列の1 ~ n の和を取れば良い."
      ]
    },
    {
      "cell_type": "code",
      "metadata": {
        "colab": {
          "base_uri": "https://localhost:8080/"
        },
        "id": "p1h6VNH6DPWW",
        "outputId": "3227b2f4-42e5-425d-b482-2c14d5407a62"
      },
      "source": [
        "n = int(input())\r\n",
        "a = list(map(int, input().split()))"
      ],
      "execution_count": 108,
      "outputs": [
        {
          "output_type": "stream",
          "text": [
            "4\n",
            "2 2 1 3\n"
          ],
          "name": "stdout"
        }
      ]
    },
    {
      "cell_type": "code",
      "metadata": {
        "id": "49v2uAzPDX9A"
      },
      "source": [
        "a = a + a\r\n",
        "a.sort(reverse=True)"
      ],
      "execution_count": 109,
      "outputs": []
    },
    {
      "cell_type": "code",
      "metadata": {
        "colab": {
          "base_uri": "https://localhost:8080/"
        },
        "id": "UOQRnPquXyKB",
        "outputId": "3dbab51d-a291-4110-d66e-e5aa11e1d413"
      },
      "source": [
        "ans = 0\r\n",
        "for i in range(1, n):\r\n",
        "  ans += a[i]\r\n",
        "print(ans)"
      ],
      "execution_count": 110,
      "outputs": [
        {
          "output_type": "stream",
          "text": [
            "7\n"
          ],
          "name": "stdout"
        }
      ]
    }
  ]
}