{
  "nbformat": 4,
  "nbformat_minor": 0,
  "metadata": {
    "colab": {
      "name": "ABC174.ipynb",
      "provenance": [],
      "authorship_tag": "ABX9TyNY0yamvGXS1cii3n2PA7Ws",
      "include_colab_link": true
    },
    "kernelspec": {
      "name": "python3",
      "display_name": "Python 3"
    }
  },
  "cells": [
    {
      "cell_type": "markdown",
      "metadata": {
        "id": "view-in-github",
        "colab_type": "text"
      },
      "source": [
        "<a href=\"https://colab.research.google.com/github/Hidestament/AtCoder/blob/main/ABC/ABC174.ipynb\" target=\"_parent\"><img src=\"https://colab.research.google.com/assets/colab-badge.svg\" alt=\"Open In Colab\"/></a>"
      ]
    },
    {
      "cell_type": "markdown",
      "metadata": {
        "id": "5C-LFb3iS4s1"
      },
      "source": [
        "# A - Air Conditioner"
      ]
    },
    {
      "cell_type": "code",
      "metadata": {
        "colab": {
          "base_uri": "https://localhost:8080/"
        },
        "id": "WsMemhoFS0P_",
        "outputId": "0d2a7742-e7ca-4467-f56e-a14621670f3f"
      },
      "source": [
        "x = int(input())\r\n",
        "print(\"Yes\" if x >= 30 else \"No\")"
      ],
      "execution_count": 8,
      "outputs": [
        {
          "output_type": "stream",
          "text": [
            "25\n",
            "No\n"
          ],
          "name": "stdout"
        }
      ]
    },
    {
      "cell_type": "markdown",
      "metadata": {
        "id": "HsCTZBOxsKV1"
      },
      "source": [
        "Trueが1, Falseが0となることを利用して, `[x<30::2]` とすると, \r\n",
        "\r\n",
        "`[x<30::2]` は, `x<30` のとき, `[1::2]` となり, `\"YNeos\"[1::2] = \"No\"`\r\n",
        "\r\n",
        "`[x<30::2]` は, `x>=30` のとき, `[0::2]` となり, `\"YNeos\"[0::2] = \"Yes\"` となる."
      ]
    },
    {
      "cell_type": "code",
      "metadata": {
        "colab": {
          "base_uri": "https://localhost:8080/"
        },
        "id": "3Fwijpy2TGeQ",
        "outputId": "7ffdb725-9cd0-4de1-af20-b23de919baf4"
      },
      "source": [
        "x = int(input())\r\n",
        "print(\"YNeos\"[x<30::2])"
      ],
      "execution_count": 14,
      "outputs": [
        {
          "output_type": "stream",
          "text": [
            "30\n",
            "Yes\n"
          ],
          "name": "stdout"
        }
      ]
    },
    {
      "cell_type": "markdown",
      "metadata": {
        "id": "fnZCWDQlVUK8"
      },
      "source": [
        "# B - Distance"
      ]
    },
    {
      "cell_type": "markdown",
      "metadata": {
        "id": "GNHlLWOjsuPq"
      },
      "source": [
        "誤差をへらすために, `(x^2 + y^2)^0.5 <= D` ではなく, x^2 + y^2 <= D^2 を評価すると良い."
      ]
    },
    {
      "cell_type": "code",
      "metadata": {
        "colab": {
          "base_uri": "https://localhost:8080/"
        },
        "id": "qbpS2XKLVMPD",
        "outputId": "1a9e8101-8197-43bf-da16-20c59b849f8d"
      },
      "source": [
        "n, d = map(int, input().split())\r\n",
        "ans = 0\r\n",
        "for _ in range(n):\r\n",
        "  x, y = map(int, input().split())\r\n",
        "  if x**2 + y**2 <= d**2:\r\n",
        "    ans += 1\r\n",
        "print(ans)"
      ],
      "execution_count": 15,
      "outputs": [
        {
          "output_type": "stream",
          "text": [
            "4 5\n",
            "0 5\n",
            "-2 4\n",
            "3 4\n",
            "4 -4\n",
            "3\n"
          ],
          "name": "stdout"
        }
      ]
    },
    {
      "cell_type": "markdown",
      "metadata": {
        "id": "hTYWbzP_VtbB"
      },
      "source": [
        "# C - Repsept"
      ]
    },
    {
      "cell_type": "markdown",
      "metadata": {
        "id": "1mNAm3NFuQAy"
      },
      "source": [
        "## 余りで計算する\r\n",
        "7の数列をそのまま作成するのではなく, mod k の k で割った余りに対して, 数列を作成していく.\r\n",
        "\r\n",
        "$a_n = 10 * a_{n-1} + 7 $と表せるが, $a_{n-1}$をそのまま使うのではなく, $a_{n-1} % k $ を代入して数列を作成していく.\r\n",
        "\r\n",
        "数列の作成は, 10を×と7を足すからなるので, これで$a_n$を割った余りは保存される.\r\n",
        "\r\n",
        "また, 割った余りは k未満の整数で循環するため, 同じ余りが現れたら終了すれば良い.\r\n",
        "\r\n",
        "つまり, \r\n",
        "$$\r\n",
        "a_n \\mod k = \\left( 10 * (a_{n-1} \\mod k ) + 7 \\mod k \\right) \\mod k \r\n",
        "$$\r\n",
        "が成り立つ."
      ]
    },
    {
      "cell_type": "code",
      "metadata": {
        "colab": {
          "base_uri": "https://localhost:8080/"
        },
        "id": "9X-zUAu3Vns0",
        "outputId": "a70105bd-7691-4452-af52-3a477d4f7850"
      },
      "source": [
        "k = int(input())"
      ],
      "execution_count": 4,
      "outputs": [
        {
          "output_type": "stream",
          "text": [
            "101\n"
          ],
          "name": "stdout"
        }
      ]
    },
    {
      "cell_type": "code",
      "metadata": {
        "id": "R7I1QwCNplhQ"
      },
      "source": [
        "now = 7\r\n",
        "cnt = 1\r\n",
        "a = set()\r\n",
        "while True:\r\n",
        "  now = now % 7\r\n",
        "  cnt += 1\r\n",
        "  if now == 0:\r\n",
        "    print(cnt)\r\n",
        "    exit()\r\n",
        "  if now in a:\r\n",
        "    print(-1)\r\n",
        "    break\r\n",
        "  a.add(a)"
      ],
      "execution_count": null,
      "outputs": []
    },
    {
      "cell_type": "markdown",
      "metadata": {
        "id": "TuSaV224vJxM"
      },
      "source": [
        "## もう少し詳しく\r\n",
        "7の数列を一般項で表してみる.\r\n",
        "\r\n",
        "1項目 : $7$\r\n",
        "\r\n",
        "2項目 : $77 = 7 * (10^0 + 10^1)$\r\n",
        "\r\n",
        "3項目 : $777 = 7 * (10^0 + 10^1 + 10^2)$\r\n",
        "\r\n",
        "n項目 : $77...7 = 7 * (10^0 + 10^1 + ... + 10^{n-1})$\r\n",
        "\r\n",
        "なので, 第n項目$a_n$は, \r\n",
        "$$\r\n",
        "a_n = 7 * (\\sum_{i=i}^{n}10^0 * 10^{n-1}) = 7 * \\frac{10^0 * (r^{n} - 1)}{r-1}= 7*\\frac{10^{n} - 1}{9}\r\n",
        "$$\r\n",
        "となる."
      ]
    },
    {
      "cell_type": "markdown",
      "metadata": {
        "id": "_ygayrimyMC3"
      },
      "source": [
        "- kが7の倍数のとき \\\r\n",
        "k が 7 で割り切れることから, $\\frac{7}{k} * \\frac{10^n-1}{9} $ より, $10^n - 1$が, $\\frac{k}{7} * 9 $で割り切れるかどうか確認すれば良い.\r\n",
        "\r\n",
        "- kが7の倍数でないとき \\\r\n",
        "$(10^n - 1)$が, $9k$で割り切れるかどうかを確認すれば良い.\r\n",
        "\r\n",
        "\\\r\n",
        "以上より, \r\n",
        "$$\r\n",
        "L = \\begin{cases}\r\n",
        "9k : k が 7の倍数でないとき \\\\\r\n",
        "\\frac{9k}{7} : kが7の倍数のとき\r\n",
        "\\end{cases}\r\n",
        "$$ \r\n",
        "として, $10^n - 1$が$L$で割り切れる最小の$n$を求めれば良い.\r\n",
        "\r\n",
        "言い換えれば, $10^n$を$L$で割った余りが1かどうかを順々に確認すれば良い."
      ]
    },
    {
      "cell_type": "markdown",
      "metadata": {
        "id": "9Rqgr2qEzx0Z"
      },
      "source": [
        "この際, 同様に, $10^n$をどんどん$L$で割っていくのではなく, $10^{n-1}$を$L$で割った余りを$10$倍して, 余りを求めてゆく.\r\n",
        "\r\n",
        "注意として, kが10と互いな素な2と5のときは, 答えが存在しない. これはオイラーのファイ関数の定理から導かれるが難しいので省略."
      ]
    },
    {
      "cell_type": "code",
      "metadata": {
        "colab": {
          "base_uri": "https://localhost:8080/"
        },
        "id": "PDFGyXgkxPDT",
        "outputId": "6e1bab7e-31bb-4e9c-db66-3a1e9974a8e0"
      },
      "source": [
        "k = int(input())\r\n",
        "if k % 7 == 0:\r\n",
        "  l = 9*k // 7\r\n",
        "else:\r\n",
        "  l = 9*k"
      ],
      "execution_count": 38,
      "outputs": [
        {
          "output_type": "stream",
          "text": [
            "999983\n"
          ],
          "name": "stdout"
        }
      ]
    },
    {
      "cell_type": "code",
      "metadata": {
        "colab": {
          "base_uri": "https://localhost:8080/"
        },
        "id": "C8AaLSiW0myk",
        "outputId": "a7c1b934-ea14-4a5a-841a-6ef04649641b"
      },
      "source": [
        "if k % 2 == 0 or k % 5 == 0:\r\n",
        "  print(-1)\r\n",
        "else:\r\n",
        "  ans = 1\r\n",
        "  a = 10\r\n",
        "  while True:\r\n",
        "    if a % l == 1:\r\n",
        "      print(ans)\r\n",
        "      break\r\n",
        "\r\n",
        "    a =10 * ( a % l )\r\n",
        "    ans += 1"
      ],
      "execution_count": 39,
      "outputs": [
        {
          "output_type": "stream",
          "text": [
            "999982\n"
          ],
          "name": "stdout"
        }
      ]
    },
    {
      "cell_type": "markdown",
      "metadata": {
        "id": "c7gpuH3iWJm3"
      },
      "source": [
        "# D - Alter Altar"
      ]
    },
    {
      "cell_type": "markdown",
      "metadata": {
        "id": "ea5zgiSH33z-"
      },
      "source": [
        "厳密に解法を考えると難しい. ある程度直感が必要になりそう."
      ]
    },
    {
      "cell_type": "code",
      "metadata": {
        "colab": {
          "base_uri": "https://localhost:8080/"
        },
        "id": "i1X1M9wnW2rf",
        "outputId": "c0373012-8d16-4016-b45b-03180adf5f24"
      },
      "source": [
        "n = int(input())\r\n",
        "stones = list(str(input()))"
      ],
      "execution_count": 27,
      "outputs": [
        {
          "output_type": "stream",
          "text": [
            "4\n",
            "WWRR\n"
          ],
          "name": "stdout"
        }
      ]
    },
    {
      "cell_type": "code",
      "metadata": {
        "id": "JGi9CyE1W7sF"
      },
      "source": [
        "fin = sorted(stones[:])"
      ],
      "execution_count": 28,
      "outputs": []
    },
    {
      "cell_type": "code",
      "metadata": {
        "colab": {
          "base_uri": "https://localhost:8080/"
        },
        "id": "Iq8tPaTYa1cm",
        "outputId": "6a6ceb7f-6405-4418-e192-7019c5867a9b"
      },
      "source": [
        "stones"
      ],
      "execution_count": 29,
      "outputs": [
        {
          "output_type": "execute_result",
          "data": {
            "text/plain": [
              "['W', 'W', 'R', 'R']"
            ]
          },
          "metadata": {
            "tags": []
          },
          "execution_count": 29
        }
      ]
    },
    {
      "cell_type": "code",
      "metadata": {
        "colab": {
          "base_uri": "https://localhost:8080/"
        },
        "id": "ROOq3J6Za1aD",
        "outputId": "b73f6f6b-3fde-4849-a791-7e3f221a826b"
      },
      "source": [
        "fin"
      ],
      "execution_count": 30,
      "outputs": [
        {
          "output_type": "execute_result",
          "data": {
            "text/plain": [
              "['R', 'R', 'W', 'W']"
            ]
          },
          "metadata": {
            "tags": []
          },
          "execution_count": 30
        }
      ]
    },
    {
      "cell_type": "code",
      "metadata": {
        "id": "oR37hcjla1Xj"
      },
      "source": [
        "a = 0\r\n",
        "b = 0\r\n",
        "for i in range(n):\r\n",
        "  if stones[i] == \"W\" and fin[i] == \"R\":\r\n",
        "    a += 1\r\n",
        "  elif stones[i] == \"R\" and fin[i] == \"W\":\r\n",
        "    b += 1"
      ],
      "execution_count": 31,
      "outputs": []
    },
    {
      "cell_type": "code",
      "metadata": {
        "colab": {
          "base_uri": "https://localhost:8080/"
        },
        "id": "RZ3UssmEa1Uk",
        "outputId": "35cf30b7-c5b4-439f-e7a4-9739f76873f5"
      },
      "source": [
        "print(max(a,b))"
      ],
      "execution_count": 32,
      "outputs": [
        {
          "output_type": "execute_result",
          "data": {
            "text/plain": [
              "(2, 2)"
            ]
          },
          "metadata": {
            "tags": []
          },
          "execution_count": 32
        }
      ]
    },
    {
      "cell_type": "markdown",
      "metadata": {
        "id": "2PAGri0T1z1K"
      },
      "source": [
        "## 別解：直感的な説明\r\n",
        "直感的な説明にはなるが, 石単体の色を変える必要はなく, 石同士の交換のみを考えれば十分（そう）である.\r\n",
        "\r\n",
        "というのも, 石単体の色を変えた場合, 周りの操作が必要になる場合と, ならない場合がある.\r\n",
        "\r\n",
        "どちらの場合も, 石同士の交換よりも, 操作回数が減ることはないからである."
      ]
    },
    {
      "cell_type": "markdown",
      "metadata": {
        "id": "3xOGBWFM2atf"
      },
      "source": [
        "ということで, を  R -> Wに並び替えた後に, 元と異なる配置の個数をカウントした後, それを÷2すれば良い.\r\n",
        "\r\n"
      ]
    },
    {
      "cell_type": "code",
      "metadata": {
        "colab": {
          "base_uri": "https://localhost:8080/"
        },
        "id": "Xssg-CKr2aLv",
        "outputId": "bcc2c857-4914-46ae-b6cd-5f9f71e284c2"
      },
      "source": [
        "n = int(input())\r\n",
        "stones = list(str(input()))\r\n",
        "ans = sorted(stones[:])"
      ],
      "execution_count": 53,
      "outputs": [
        {
          "output_type": "stream",
          "text": [
            "8\n",
            "WRWWRWRR\n"
          ],
          "name": "stdout"
        }
      ]
    },
    {
      "cell_type": "code",
      "metadata": {
        "id": "TXvg285r3NZg"
      },
      "source": [
        "cnt = 0\r\n",
        "for i in range(n):\r\n",
        "  if stones[i] != ans[i]:\r\n",
        "    cnt += 1"
      ],
      "execution_count": 54,
      "outputs": []
    },
    {
      "cell_type": "code",
      "metadata": {
        "colab": {
          "base_uri": "https://localhost:8080/"
        },
        "id": "g63T9pbz3Xta",
        "outputId": "7e6829fa-4d0f-4137-bea2-7b30c1ea31ae"
      },
      "source": [
        "print(cnt//2)"
      ],
      "execution_count": 55,
      "outputs": [
        {
          "output_type": "stream",
          "text": [
            "3\n"
          ],
          "name": "stdout"
        }
      ]
    },
    {
      "cell_type": "markdown",
      "metadata": {
        "id": "IwwKzlhk5G_b"
      },
      "source": [
        "## 別解2 : 上と似たような解答\r\n",
        "元の状態から, R -> W のように並び替えると, R..R | W..W のようになる.\r\n",
        "\r\n",
        "この敷居 | の位置は, 元のRの個数によって決まる.\r\n",
        "\r\n",
        "元の配列において, この敷居 | の位置よりも, 左側にあるWの個数をカウントして, そのWの位置を変更すれば良い."
      ]
    },
    {
      "cell_type": "code",
      "metadata": {
        "colab": {
          "base_uri": "https://localhost:8080/"
        },
        "id": "5nV-NOAB3bJG",
        "outputId": "e839e1d4-dfd1-4612-b6a6-952575ab657c"
      },
      "source": [
        "n = int(input())\r\n",
        "stones = list(str(input()))"
      ],
      "execution_count": 56,
      "outputs": [
        {
          "output_type": "stream",
          "text": [
            "8\n",
            "WRWWRWRR\n"
          ],
          "name": "stdout"
        }
      ]
    },
    {
      "cell_type": "code",
      "metadata": {
        "id": "FIUQz2Ol5k4S"
      },
      "source": [
        "r_cnt = stones.count(\"R\")"
      ],
      "execution_count": 57,
      "outputs": []
    },
    {
      "cell_type": "code",
      "metadata": {
        "id": "FbPAgd_A5qsm"
      },
      "source": [
        "ans = 0\r\n",
        "for i in range(r_cnt):\r\n",
        "  if stones[i] == \"W\":\r\n",
        "    ans += 1"
      ],
      "execution_count": 59,
      "outputs": []
    },
    {
      "cell_type": "code",
      "metadata": {
        "colab": {
          "base_uri": "https://localhost:8080/"
        },
        "id": "XGYwnYwQ5rWe",
        "outputId": "6fcb30a0-770b-4fe5-a4d6-1d896e4fc0bf"
      },
      "source": [
        "print(ans)"
      ],
      "execution_count": 60,
      "outputs": [
        {
          "output_type": "stream",
          "text": [
            "3\n"
          ],
          "name": "stdout"
        }
      ]
    },
    {
      "cell_type": "code",
      "metadata": {
        "id": "12Jn278T5zwW"
      },
      "source": [
        ""
      ],
      "execution_count": null,
      "outputs": []
    }
  ]
}