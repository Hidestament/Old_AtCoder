{
  "nbformat": 4,
  "nbformat_minor": 0,
  "metadata": {
    "colab": {
      "name": "ABC174.ipynb",
      "provenance": [],
      "collapsed_sections": [],
      "authorship_tag": "ABX9TyPcr50V+OhRLz9PDmeMeVVi",
      "include_colab_link": true
    },
    "kernelspec": {
      "name": "python3",
      "display_name": "Python 3"
    },
    "language_info": {
      "name": "python"
    }
  },
  "cells": [
    {
      "cell_type": "markdown",
      "metadata": {
        "id": "view-in-github",
        "colab_type": "text"
      },
      "source": [
        "<a href=\"https://colab.research.google.com/github/Hidestament/AtCoder/blob/main/ABC/ABC174.ipynb\" target=\"_parent\"><img src=\"https://colab.research.google.com/assets/colab-badge.svg\" alt=\"Open In Colab\"/></a>"
      ]
    },
    {
      "cell_type": "markdown",
      "source": [
        "# [AtCoder Beginner Contest 174](https://atcoder.jp/contests/abc174)"
      ],
      "metadata": {
        "id": "7yIiVry2aIKT"
      }
    },
    {
      "cell_type": "markdown",
      "source": [
        "## [A - Air Conditioner](https://atcoder.jp/contests/abc174/tasks/abc174_a)"
      ],
      "metadata": {
        "id": "u2rp4G6uaKk0"
      }
    },
    {
      "cell_type": "code",
      "execution_count": null,
      "metadata": {
        "id": "sqDldGNyaF9P"
      },
      "outputs": [],
      "source": [
        "X = int(input())\n",
        "print(\"Yes\" if X >= 30 else \"No\")"
      ]
    },
    {
      "cell_type": "markdown",
      "source": [
        "## [B - Distance](https://atcoder.jp/contests/abc174/tasks/abc174_b)"
      ],
      "metadata": {
        "id": "UFlQkE9EaXeC"
      }
    },
    {
      "cell_type": "code",
      "source": [
        "N, D = map(int, input().split())\n",
        "cnt = 0\n",
        "for _ in range(N):\n",
        "    x, y = map(int, input().split())\n",
        "    if (x ** 2 + y ** 2) <= D**2:\n",
        "        cnt += 1\n",
        "print(cnt)"
      ],
      "metadata": {
        "id": "Uqpme3dqaYmR"
      },
      "execution_count": null,
      "outputs": []
    },
    {
      "cell_type": "markdown",
      "source": [
        "## [C - Repsept](https://atcoder.jp/contests/abc174/tasks/abc174_c)"
      ],
      "metadata": {
        "id": "ZExSbg1eazqc"
      }
    },
    {
      "cell_type": "code",
      "source": [
        "K = int(input())"
      ],
      "metadata": {
        "id": "oPdOXyQ-a3KZ",
        "colab": {
          "base_uri": "https://localhost:8080/"
        },
        "outputId": "b1a61e30-0c3f-47b2-c769-909960ac4425"
      },
      "execution_count": null,
      "outputs": [
        {
          "name": "stdout",
          "output_type": "stream",
          "text": [
            "999983\n"
          ]
        }
      ]
    },
    {
      "cell_type": "code",
      "source": [
        "amari = set()\n",
        "now, cnt = 0, 0\n",
        "while True:\n",
        "    now = (10 * now + 7) % K\n",
        "    cnt += 1\n",
        "    if now == 0:\n",
        "        print(cnt)\n",
        "        break    \n",
        "    if now in amari:\n",
        "        print(-1)\n",
        "        break\n",
        "    amari.add(now)"
      ],
      "metadata": {
        "id": "_d3yRgEUa3IR",
        "colab": {
          "base_uri": "https://localhost:8080/"
        },
        "outputId": "21d574b3-8d39-4108-a1bf-41ee9cc6bccd"
      },
      "execution_count": null,
      "outputs": [
        {
          "output_type": "stream",
          "name": "stdout",
          "text": [
            "999982\n"
          ]
        }
      ]
    },
    {
      "cell_type": "markdown",
      "source": [
        "## [D - Alter Altar](https://atcoder.jp/contests/abc174/tasks/abc174_d)"
      ],
      "metadata": {
        "id": "v-Eha00Iazj2"
      }
    },
    {
      "cell_type": "code",
      "source": [
        "N = int(input())\n",
        "C = list(input())"
      ],
      "metadata": {
        "colab": {
          "base_uri": "https://localhost:8080/"
        },
        "id": "IWdWTocviXsM",
        "outputId": "2f3ea164-f9bf-4212-9759-4f00f17c1d61"
      },
      "execution_count": null,
      "outputs": [
        {
          "name": "stdout",
          "output_type": "stream",
          "text": [
            "4\n",
            "WWRR\n"
          ]
        }
      ]
    },
    {
      "cell_type": "markdown",
      "source": [
        "W -> Rが駄目\n",
        "\n",
        "Rの塊 -> Wの塊 にすれば良い"
      ],
      "metadata": {
        "id": "vJwaLAL2ixYE"
      }
    },
    {
      "cell_type": "code",
      "source": [
        "cnt = 0\n",
        "l, r = 0, N - 1\n",
        "while l < r:\n",
        "    if C[l] == \"R\" and C[r] == \"R\":\n",
        "        l += 1\n",
        "    elif C[l] == \"R\" and C[r] == \"W\":\n",
        "        l += 1\n",
        "        r -= 1\n",
        "    elif C[l] == \"W\" and C[r] == \"R\":\n",
        "        C[l], C[r] = C[r], C[l]\n",
        "        cnt += 1\n",
        "        r -= 1\n",
        "    elif C[l] == \"W\" and C[r] == \"W\":\n",
        "        r -= 1\n",
        "print(cnt)"
      ],
      "metadata": {
        "colab": {
          "base_uri": "https://localhost:8080/"
        },
        "id": "AZvABOUemaDX",
        "outputId": "a2248675-e0f8-4d52-ce93-268654af7072"
      },
      "execution_count": null,
      "outputs": [
        {
          "output_type": "stream",
          "name": "stdout",
          "text": [
            "0\n"
          ]
        }
      ]
    },
    {
      "cell_type": "markdown",
      "source": [
        "## [E - Logs](https://atcoder.jp/contests/abc174/tasks/abc174_e)"
      ],
      "metadata": {
        "id": "W6Oz7uJPoLRk"
      }
    },
    {
      "cell_type": "code",
      "source": [
        "N, K = map(int, input().split())\n",
        "A = list(map(int, input().split()))"
      ],
      "metadata": {
        "colab": {
          "base_uri": "https://localhost:8080/"
        },
        "id": "WitiakD5oNQ6",
        "outputId": "f8be9c44-9f62-45da-a16f-dafdfa4e78e6"
      },
      "execution_count": null,
      "outputs": [
        {
          "name": "stdout",
          "output_type": "stream",
          "text": [
            "2 3\n",
            "7 9\n"
          ]
        }
      ]
    },
    {
      "cell_type": "code",
      "source": [
        "def check(k):\n",
        "    cnt = 0\n",
        "    for i in range(N):\n",
        "        cnt += (-int(-A[i]//k) - 1)\n",
        "    return True if cnt <= K else False"
      ],
      "metadata": {
        "id": "V_CAmWjltsIR"
      },
      "execution_count": null,
      "outputs": []
    },
    {
      "cell_type": "code",
      "source": [
        "l, r = 0, 10**10\n",
        "while r - l > 1:\n",
        "    mid = (r + l) // 2\n",
        "    if check(mid):\n",
        "        r = mid\n",
        "    else:\n",
        "        l = mid\n",
        "print(r)"
      ],
      "metadata": {
        "colab": {
          "base_uri": "https://localhost:8080/"
        },
        "id": "jhodBoEutijF",
        "outputId": "97d5a21e-613a-46f7-df07-9043cd704079"
      },
      "execution_count": null,
      "outputs": [
        {
          "output_type": "stream",
          "name": "stdout",
          "text": [
            "4\n"
          ]
        }
      ]
    },
    {
      "cell_type": "markdown",
      "source": [
        "## [F - Range Set Query](https://atcoder.jp/contests/abc174/tasks/abc174_f)"
      ],
      "metadata": {
        "id": "bk7_NJWEvP34"
      }
    },
    {
      "cell_type": "code",
      "source": [
        "from collections import defaultdict\n",
        "N, Q = map(int, input().split())\n",
        "C = list(map(int, input().split()))\n",
        "cnt = defaultdict(list)\n",
        "for i, c in enumerate(C, start=1):\n",
        "    cnt[c].append(i)"
      ],
      "metadata": {
        "id": "xEmwwJdCvSmE",
        "colab": {
          "base_uri": "https://localhost:8080/"
        },
        "outputId": "4f0474f2-bf01-47b1-8344-f4899064cb3c"
      },
      "execution_count": null,
      "outputs": [
        {
          "name": "stdout",
          "output_type": "stream",
          "text": [
            "4 3\n",
            "1 2 1 3\n"
          ]
        }
      ]
    },
    {
      "cell_type": "code",
      "source": [
        "query = []\n",
        "for key, value in cnt.items():\n",
        "    for i in range(len(value) - 1):\n",
        "        query.append([value[i], value[i+1], 0])\n",
        "order = defaultdict(list)\n",
        "for i in range(Q):\n",
        "    l, r = map(int, input().split())\n",
        "    order[(l, r)].append(i)\n",
        "    query.append([l, r, 1])"
      ],
      "metadata": {
        "colab": {
          "base_uri": "https://localhost:8080/"
        },
        "id": "w7vPJHaAxl9A",
        "outputId": "cd61b181-5eaf-488d-dde5-2028e190d0dd"
      },
      "execution_count": null,
      "outputs": [
        {
          "name": "stdout",
          "output_type": "stream",
          "text": [
            "1 3\n",
            "2 4\n",
            "3 3\n"
          ]
        }
      ]
    },
    {
      "cell_type": "code",
      "source": [
        "class BinaryIndexedTree:\n",
        "    \"\"\"\n",
        "    A = [a1, a2, a3, ..., an]\n",
        "    1-index\n",
        "    \"\"\"\n",
        "    def __init__(self, n):\n",
        "        self.size = n\n",
        "        self.tree = [0] * (n + 1)\n",
        "        \n",
        "    def add(self, i, x):\n",
        "        \"\"\"\n",
        "        ai += x をする\n",
        "        \"\"\"\n",
        "        while i <= self.size:\n",
        "            self.tree[i] += x\n",
        "            i += i & -i\n",
        "\n",
        "    def sum(self, i):\n",
        "        \"\"\"\n",
        "        a1 + ... + ai\n",
        "        \"\"\"\n",
        "        s = 0\n",
        "        while i > 0:\n",
        "            s += self.tree[i]\n",
        "            i -= i & -i\n",
        "        return s\n",
        "\n",
        "    def get(self, i, j):\n",
        "        \"\"\"\n",
        "        ai + ... + aj \n",
        "        \"\"\"        \n",
        "        return self.sum(j) - self.sum(i - 1)"
      ],
      "metadata": {
        "id": "geY30AEyyX3e"
      },
      "execution_count": null,
      "outputs": []
    },
    {
      "cell_type": "code",
      "source": [
        "query.sort(key=lambda x: (x[1], x[2]))\n",
        "bit = BinaryIndexedTree(10**7)"
      ],
      "metadata": {
        "id": "AOI3N7AAxqF6"
      },
      "execution_count": null,
      "outputs": []
    },
    {
      "cell_type": "code",
      "source": [
        "ans = dict()\n",
        "for i in range(len(query)):\n",
        "    l, r, t = query[i]\n",
        "    if t == 0:\n",
        "        bit.add(l, 1)\n",
        "    if t == 1:\n",
        "        for j in order[(l, r)]:\n",
        "            ans[j] = r - l + 1 - bit.get(l, r)"
      ],
      "metadata": {
        "id": "Eio1hjKUx41b"
      },
      "execution_count": null,
      "outputs": []
    },
    {
      "cell_type": "code",
      "source": [
        "for i in range(Q):\n",
        "    print(ans[i])"
      ],
      "metadata": {
        "colab": {
          "base_uri": "https://localhost:8080/"
        },
        "id": "9sHlspQhydAD",
        "outputId": "24effa65-e286-4aee-b844-6b0b630c635f"
      },
      "execution_count": null,
      "outputs": [
        {
          "output_type": "stream",
          "name": "stdout",
          "text": [
            "<generator object <genexpr> at 0x7fb83af36f50>\n"
          ]
        }
      ]
    },
    {
      "cell_type": "markdown",
      "source": [
        "### 上だと多分ソートのとこでTLEする"
      ],
      "metadata": {
        "id": "vLA34Odh4kQ2"
      }
    },
    {
      "cell_type": "code",
      "source": [
        "from collections import defaultdict, deque\n",
        "N, Q = map(int, input().split())\n",
        "C = list(map(int, input().split()))"
      ],
      "metadata": {
        "colab": {
          "base_uri": "https://localhost:8080/"
        },
        "id": "iycvkm2Zz7i9",
        "outputId": "0e85ddfc-928f-4ba6-87b4-34e0e4b548af"
      },
      "execution_count": null,
      "outputs": [
        {
          "name": "stdout",
          "output_type": "stream",
          "text": [
            "4 3\n",
            "1 2 1 3\n"
          ]
        }
      ]
    },
    {
      "cell_type": "code",
      "source": [
        "query = []\n",
        "order = defaultdict(deque)\n",
        "for i in range(Q):\n",
        "    l, r = map(int, input().split())\n",
        "    order[(l, r)].append(i)\n",
        "    query.append([l, r])"
      ],
      "metadata": {
        "colab": {
          "base_uri": "https://localhost:8080/"
        },
        "id": "TL5bJnpL41Ya",
        "outputId": "9f379695-821a-45a3-f4b1-111b62f6db7d"
      },
      "execution_count": null,
      "outputs": [
        {
          "name": "stdout",
          "output_type": "stream",
          "text": [
            "1 3\n",
            "2 4\n",
            "3 3\n"
          ]
        }
      ]
    },
    {
      "cell_type": "code",
      "source": [
        "class BinaryIndexedTree:\n",
        "    \"\"\"\n",
        "    A = [a1, a2, a3, ..., an]\n",
        "    1-index\n",
        "    \"\"\"\n",
        "    def __init__(self, n):\n",
        "        self.size = n\n",
        "        self.tree = [0] * (n + 1)\n",
        "        \n",
        "    def add(self, i, x):\n",
        "        \"\"\"\n",
        "        ai += x をする\n",
        "        \"\"\"\n",
        "        while i <= self.size:\n",
        "            self.tree[i] += x\n",
        "            i += i & -i\n",
        "\n",
        "    def sum(self, i):\n",
        "        \"\"\"\n",
        "        a1 + ... + ai\n",
        "        \"\"\"\n",
        "        s = 0\n",
        "        while i > 0:\n",
        "            s += self.tree[i]\n",
        "            i -= i & -i\n",
        "        return s\n",
        "\n",
        "    def get(self, i, j):\n",
        "        \"\"\"\n",
        "        ai + ... + aj \n",
        "        \"\"\"        \n",
        "        return self.sum(j) - self.sum(i - 1)"
      ],
      "metadata": {
        "id": "ytF5Wlpk46CD"
      },
      "execution_count": null,
      "outputs": []
    },
    {
      "cell_type": "code",
      "source": [
        "query.sort(key=lambda x: x[1])\n",
        "bit = BinaryIndexedTree(10**6)"
      ],
      "metadata": {
        "id": "F3y2fRdW48rE"
      },
      "execution_count": null,
      "outputs": []
    },
    {
      "cell_type": "code",
      "source": [
        "ans = {i: -1 for i in range(Q)}\n",
        "last = [-1] * (10**6)\n",
        "now = 0\n",
        "for i in range(Q):\n",
        "    l, r = query[i]\n",
        "    if r > now:\n",
        "        for j in range(now, r):\n",
        "            if last[C[j]] != -1:\n",
        "                bef = last[C[j]]\n",
        "                bit.add(bef+1, -1)\n",
        "\n",
        "            last[C[j]] = j\n",
        "            bit.add(j+1, 1)\n",
        "        now = r\n",
        "\n",
        "    j = order[(l, r)].popleft()\n",
        "    ans[j] = bit.get(l, r)"
      ],
      "metadata": {
        "id": "v3EeaLt64-lu"
      },
      "execution_count": null,
      "outputs": []
    },
    {
      "cell_type": "code",
      "source": [
        "for i in range(Q):\n",
        "    print(ans[i])"
      ],
      "metadata": {
        "colab": {
          "base_uri": "https://localhost:8080/"
        },
        "id": "i-ufMlszmMvV",
        "outputId": "d8aa5d5b-4233-43ee-daa4-73fef2dc5285"
      },
      "execution_count": null,
      "outputs": [
        {
          "output_type": "stream",
          "name": "stdout",
          "text": [
            "2\n",
            "3\n",
            "1\n"
          ]
        }
      ]
    },
    {
      "cell_type": "markdown",
      "source": [
        "### 上でもTLEする。。。\n",
        "やっとAC. ソートはしないほうが良い."
      ],
      "metadata": {
        "id": "VkMbUQMOuoLG"
      }
    },
    {
      "cell_type": "code",
      "source": [
        "class BinaryIndexedTree:\n",
        "    \"\"\"\n",
        "    A = [a0, a1, a2, ..., an-1]\n",
        "    元のAの配列は0-indexだが, BIT上では1-indexで扱う\n",
        "    \"\"\"\n",
        "    def __init__(self, n=10**6):\n",
        "        self.size = n + 1\n",
        "        self.tree = [0] * (n + 1)\n",
        "        self.depth = n.bit_length()\n",
        "        \n",
        "    def update(self, i, x):\n",
        "        \"\"\"\n",
        "        ai += x を する\n",
        "        i: 0-index\n",
        "        \"\"\"\n",
        "        # 1-indexに直す\n",
        "        pos = i + 1\n",
        "        while pos <= self.size:\n",
        "            self.tree[pos] += x\n",
        "            # 真上の位置は, iにiのLSBを加えたモノ\n",
        "            pos += pos & -pos\n",
        "\n",
        "    def sum(self, i):\n",
        "        \"\"\"\n",
        "        a[0] + a[1] + ... + a[i] を 求める\n",
        "        i は 0-index\n",
        "        \"\"\"\n",
        "        pos = i + 1\n",
        "        s = 0\n",
        "        while pos > 0:\n",
        "            s += self.tree[pos]\n",
        "            # 左上は i に iのLSBを引いたモノ\n",
        "            pos -= pos & -pos\n",
        "        return s\n",
        "\n",
        "    def sum_range(self, i, j):\n",
        "        \"\"\"\n",
        "        a[i] + a[i+1] + ... + a[j] を 求める\n",
        "        i, j は 0-index\n",
        "        \"\"\"\n",
        "        return self.sum(j) - self.sum(i - 1)\n",
        "    \n",
        "    def lower_bound(self, x):\n",
        "        \"\"\"\n",
        "        a0 + a1 + ... + ai >= x となる最小のiを取得.\n",
        "        各項は非負である必要がある\n",
        "        iは0 - index\n",
        "        \"\"\"\n",
        "        if x <= 0:\n",
        "            return -1\n",
        "        \n",
        "        k = 1 << (self.size.bit_length() - 1)\n",
        "        pos = 0\n",
        "        s = 0\n",
        "        while k > 0:\n",
        "            # (pos + kが配列の長さを超えない) and 和がxを超えない\n",
        "            if (pos + k < self.size) and self.tree[pos + k] + s < x:\n",
        "                s += self.tree[pos + k]\n",
        "                pos += k\n",
        "            # 1つ下の段に行く\n",
        "            k //= 2\n",
        "        return pos"
      ],
      "metadata": {
        "id": "xvFPSnwkFxzJ"
      },
      "execution_count": 25,
      "outputs": []
    },
    {
      "cell_type": "code",
      "source": [
        "N, Q = map(int, input().split())\n",
        "C = list(map(int, input().split()))\n",
        "query = [[] for _ in range(N+4)]\n",
        "for i in range(Q):\n",
        "    l, r = map(int, input().split())\n",
        "    l -= 1\n",
        "    r -= 1\n",
        "    query[r].append([i, l])"
      ],
      "metadata": {
        "colab": {
          "base_uri": "https://localhost:8080/"
        },
        "id": "gIWcciq2Fz7G",
        "outputId": "d13f7d5f-2951-4b58-f1e5-c5fa7b651aaf"
      },
      "execution_count": 26,
      "outputs": [
        {
          "name": "stdout",
          "output_type": "stream",
          "text": [
            "10 10\n",
            "2 5 6 5 2 1 7 9 7 2\n",
            "5 5\n",
            "2 4\n",
            "6 7\n",
            "2 2\n",
            "7 8\n",
            "7 9\n",
            "1 8\n",
            "6 9\n",
            "8 10\n",
            "6 8\n"
          ]
        }
      ]
    },
    {
      "cell_type": "code",
      "source": [
        "last = [-1] * (N + 5)\n",
        "ans = [-1] * Q\n",
        "bit = BinaryIndexedTree()"
      ],
      "metadata": {
        "id": "-oudRY9RGD46"
      },
      "execution_count": 27,
      "outputs": []
    },
    {
      "cell_type": "code",
      "source": [
        "for r in range(N):\n",
        "    c = C[r]\n",
        "    bit.update(r, 1)\n",
        "    if last[c] != -1:\n",
        "        bit.update(last[c], -1)\n",
        "    last[c] = r\n",
        "    if query[r]:\n",
        "        for i, l in query[r]:\n",
        "            ans[i] = bit.sum_range(l, r)"
      ],
      "metadata": {
        "id": "a92TcwTBGD2R"
      },
      "execution_count": 28,
      "outputs": []
    },
    {
      "cell_type": "code",
      "source": [
        "print(*ans)"
      ],
      "metadata": {
        "colab": {
          "base_uri": "https://localhost:8080/"
        },
        "id": "UJP5OTi_GDzJ",
        "outputId": "8f590f5f-d642-4845-9423-ef8624099faa"
      },
      "execution_count": 29,
      "outputs": [
        {
          "output_type": "stream",
          "name": "stdout",
          "text": [
            "1 2 2 1 2 2 6 3 3 3\n"
          ]
        }
      ]
    }
  ]
}