{
  "nbformat": 4,
  "nbformat_minor": 0,
  "metadata": {
    "colab": {
      "name": "ABC176.ipynb",
      "provenance": [],
      "collapsed_sections": [],
      "authorship_tag": "ABX9TyNxlx20rKyaB/00CkJs9PLf",
      "include_colab_link": true
    },
    "kernelspec": {
      "name": "python3",
      "display_name": "Python 3"
    },
    "language_info": {
      "name": "python"
    }
  },
  "cells": [
    {
      "cell_type": "markdown",
      "metadata": {
        "id": "view-in-github",
        "colab_type": "text"
      },
      "source": [
        "<a href=\"https://colab.research.google.com/github/Hidestament/AtCoder/blob/main/ABC/ABC176.ipynb\" target=\"_parent\"><img src=\"https://colab.research.google.com/assets/colab-badge.svg\" alt=\"Open In Colab\"/></a>"
      ]
    },
    {
      "cell_type": "markdown",
      "metadata": {
        "id": "OTdsjib9SCqO"
      },
      "source": [
        "# [AtCoder Beginner Contest 176](https://atcoder.jp/contests/abc176)"
      ]
    },
    {
      "cell_type": "markdown",
      "metadata": {
        "id": "yeghJHQqSE_k"
      },
      "source": [
        "## [A - Takoyaki](https://atcoder.jp/contests/abc176/tasks/abc176_a)"
      ]
    },
    {
      "cell_type": "code",
      "metadata": {
        "colab": {
          "base_uri": "https://localhost:8080/"
        },
        "id": "c8W_5DraSAmM",
        "outputId": "fb75935d-4103-4765-dae9-ce906f62d55a"
      },
      "source": [
        "N, X, T = map(int, input().split())\n",
        "t = 0\n",
        "cnt = 0\n",
        "while True:\n",
        "    if cnt >= N: break\n",
        "    cnt += X\n",
        "    t += T\n",
        "print(t)"
      ],
      "execution_count": null,
      "outputs": [
        {
          "output_type": "stream",
          "name": "stdout",
          "text": [
            "20 12 6\n",
            "12\n"
          ]
        }
      ]
    },
    {
      "cell_type": "markdown",
      "metadata": {
        "id": "ofboSF-YSaDS"
      },
      "source": [
        "## [B - Multiple of 9](https://atcoder.jp/contests/abc176/tasks/abc176_b)"
      ]
    },
    {
      "cell_type": "code",
      "metadata": {
        "colab": {
          "base_uri": "https://localhost:8080/"
        },
        "id": "UVa32YGlSnDH",
        "outputId": "07a36540-5e92-4a9e-fe42-891f5345c32b"
      },
      "source": [
        "N = list(map(int, list(str(input()))))\n",
        "if sum(N) % 9 == 0:\n",
        "    print(\"Yes\")\n",
        "else:\n",
        "    print(\"No\")"
      ],
      "execution_count": null,
      "outputs": [
        {
          "output_type": "stream",
          "name": "stdout",
          "text": [
            "31415926535897932384626433832795028841971693993751058209749445923078164062862089986280\n",
            "No\n"
          ]
        }
      ]
    },
    {
      "cell_type": "markdown",
      "metadata": {
        "id": "HP81FhihS_YY"
      },
      "source": [
        "## [C - Step](https://atcoder.jp/contests/abc176/tasks/abc176_c)"
      ]
    },
    {
      "cell_type": "code",
      "metadata": {
        "colab": {
          "base_uri": "https://localhost:8080/"
        },
        "id": "0zoA2zXCSsUQ",
        "outputId": "0f20c39f-4f57-4e52-b320-24a1e9d10221"
      },
      "source": [
        "N = int(input())\n",
        "A = list(map(int, input().split()))"
      ],
      "execution_count": null,
      "outputs": [
        {
          "name": "stdout",
          "output_type": "stream",
          "text": [
            "5\n",
            "3 3 3 3 3\n"
          ]
        }
      ]
    },
    {
      "cell_type": "code",
      "metadata": {
        "id": "bG21jPQrSxff"
      },
      "source": [
        "dp = [0] * (N + 1)\n",
        "for i in range(N):\n",
        "    dp[i+1] = max(dp[i], A[i])"
      ],
      "execution_count": null,
      "outputs": []
    },
    {
      "cell_type": "code",
      "metadata": {
        "colab": {
          "base_uri": "https://localhost:8080/"
        },
        "id": "DhR9f8gjTyi9",
        "outputId": "5bb9baf0-bfa8-4ff7-d091-c7eeda28b7a0"
      },
      "source": [
        "print(sum(max(0, dp[i+1] - A[i]) for i in range(N)))"
      ],
      "execution_count": null,
      "outputs": [
        {
          "output_type": "stream",
          "name": "stdout",
          "text": [
            "0\n"
          ]
        }
      ]
    },
    {
      "cell_type": "markdown",
      "metadata": {
        "id": "_NGmpkf_UCWt"
      },
      "source": [
        "## [D - Wizard in Maze](https://atcoder.jp/contests/abc176/tasks/abc176_d)"
      ]
    },
    {
      "cell_type": "code",
      "metadata": {
        "colab": {
          "base_uri": "https://localhost:8080/"
        },
        "id": "f0bRcWJUTyzj",
        "outputId": "95310c7e-5661-48a4-f515-8ad2f3dfd3e9"
      },
      "source": [
        "H, W = map(int, input().split())\n",
        "Ch, Cw = map(int, input().split())\n",
        "Dh, Dw = map(int, input().split())\n",
        "grid = [input() for _ in range(H)]"
      ],
      "execution_count": null,
      "outputs": [
        {
          "name": "stdout",
          "output_type": "stream",
          "text": [
            "4 5\n",
            "1 2\n",
            "2 5\n",
            "#.###\n",
            "####.\n",
            "#..##\n",
            "#..##\n"
          ]
        }
      ]
    },
    {
      "cell_type": "code",
      "metadata": {
        "id": "F2RCF9yXUO1p"
      },
      "source": [
        "Ch -= 1\n",
        "Cw -= 1\n",
        "Dh -= 1\n",
        "Dw -= 1"
      ],
      "execution_count": null,
      "outputs": []
    },
    {
      "cell_type": "code",
      "metadata": {
        "colab": {
          "base_uri": "https://localhost:8080/"
        },
        "id": "20RjuWpjUSFx",
        "outputId": "37946ddb-3f34-407c-d653-0519447f0a5b"
      },
      "source": [
        "from itertools import product\n",
        "from collections import deque\n",
        "dxs = [1, 0, -1, 0]\n",
        "dys = [0, 1, 0 , -1]\n",
        "dq = deque()\n",
        "\n",
        "dq.append([0, Ch, Cw])\n",
        "dist = [[10**10] * W for _ in range(H)]\n",
        "dist[Ch][Cw] = 0\n",
        "\n",
        "while dq:\n",
        "    now = dq.popleft()\n",
        "    c, h, w = now[0], now[1], now[2]\n",
        "    for dx, dy in zip(dxs, dys):\n",
        "        nh = h + dx\n",
        "        nw = w + dy\n",
        "        if 0 <= nh < H and 0 <= nw < W:\n",
        "            if grid[nh][nw] == \".\":\n",
        "                if c < dist[nh][nw]:\n",
        "                    dist[nh][nw] = c\n",
        "                    dq.appendleft([c, nh, nw])\n",
        "    \n",
        "    for dx, dy in product(range(-2, 3), repeat=2):\n",
        "        nh = h + dx\n",
        "        nw = w + dy\n",
        "        if 0 <= nh < H and 0 <= nw < W:\n",
        "            if grid[nh][nw] == \".\":\n",
        "                if c + 1 < dist[nh][nw]:\n",
        "                    dq.append([c+1, nh, nw])\n",
        "                    dist[nh][nw] = c + 1\n",
        "\n",
        "print(dist[Dh][Dw] if dist[Dh][Dw] < 10**10 else -1)"
      ],
      "execution_count": null,
      "outputs": [
        {
          "output_type": "stream",
          "name": "stdout",
          "text": [
            "2\n"
          ]
        }
      ]
    },
    {
      "cell_type": "markdown",
      "metadata": {
        "id": "r3nm0A3xcgX-"
      },
      "source": [
        "## [E - Bomber](https://atcoder.jp/contests/abc176/tasks/abc176_e)"
      ]
    },
    {
      "cell_type": "code",
      "metadata": {
        "colab": {
          "base_uri": "https://localhost:8080/"
        },
        "id": "AARjQod8WnRw",
        "outputId": "c8a1e22a-cf9e-4437-c19b-7d67421e4789"
      },
      "source": [
        "H, W, M = map(int, input().split())"
      ],
      "execution_count": null,
      "outputs": [
        {
          "name": "stdout",
          "output_type": "stream",
          "text": [
            "3 3 4\n"
          ]
        }
      ]
    },
    {
      "cell_type": "code",
      "metadata": {
        "colab": {
          "base_uri": "https://localhost:8080/"
        },
        "id": "vl9z5TggfDas",
        "outputId": "113189ef-0ed8-4f0a-b379-0df41342dd6a"
      },
      "source": [
        "yoko = [0] * W\n",
        "tate = [0] * H\n",
        "bomb = []\n",
        "\n",
        "for _ in range(M):\n",
        "    h, w = map(int, input().split())\n",
        "    h -= 1\n",
        "    w -= 1\n",
        "    yoko[w] += 1\n",
        "    tate[h] += 1\n",
        "    bomb.append([h, w])"
      ],
      "execution_count": null,
      "outputs": [
        {
          "name": "stdout",
          "output_type": "stream",
          "text": [
            "3 3\n",
            "3 1\n",
            "1 1\n",
            "1 2\n"
          ]
        }
      ]
    },
    {
      "cell_type": "code",
      "metadata": {
        "id": "aKDgKMBRfgat"
      },
      "source": [
        "max_tate = max(tate)\n",
        "tate_max_index = [i for i in range(len(tate)) if tate[i] == max_tate]\n",
        "tate_max_index = set(tate_max_index)\n",
        "max_yoko = max(yoko)\n",
        "yoko_max_index = [i for i in range(len(yoko)) if yoko[i] == max_yoko]\n",
        "yoko_max_index = set(yoko_max_index)"
      ],
      "execution_count": null,
      "outputs": []
    },
    {
      "cell_type": "code",
      "metadata": {
        "colab": {
          "base_uri": "https://localhost:8080/"
        },
        "id": "SI1auUfngG3v",
        "outputId": "5954e3e3-c3d7-43f6-bb17-7f782cbc5dd5"
      },
      "source": [
        "# 爆弾がおいていない解が存在するかどうかを判定する\n",
        "num_ans = len(tate_max_index) * len(yoko_max_index)\n",
        "num_bomb_ans = 0\n",
        "for h, w in bomb:\n",
        "    if (h in tate_max_index) and (w in yoko_max_index):\n",
        "        num_bomb_ans += 1\n",
        "\n",
        "if num_bomb_ans < num_ans:\n",
        "    print(max_tate + max_yoko)\n",
        "else:\n",
        "    print(max_tate + max_yoko - 1)"
      ],
      "execution_count": null,
      "outputs": [
        {
          "output_type": "stream",
          "name": "stdout",
          "text": [
            "{0, 2} {0}\n",
            "2 2\n",
            "2 0\n",
            "0 0\n",
            "0 1\n",
            "3\n"
          ]
        }
      ]
    }
  ]
}