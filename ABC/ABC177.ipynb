{
  "nbformat": 4,
  "nbformat_minor": 0,
  "metadata": {
    "colab": {
      "name": "ABC177.ipynb",
      "provenance": [],
      "authorship_tag": "ABX9TyNXo13S5wqz96z15A/BENoj",
      "include_colab_link": true
    },
    "kernelspec": {
      "name": "python3",
      "display_name": "Python 3"
    }
  },
  "cells": [
    {
      "cell_type": "markdown",
      "metadata": {
        "id": "view-in-github",
        "colab_type": "text"
      },
      "source": [
        "<a href=\"https://colab.research.google.com/github/Hidestament/AtCoder/blob/main/ABC/ABC177.ipynb\" target=\"_parent\"><img src=\"https://colab.research.google.com/assets/colab-badge.svg\" alt=\"Open In Colab\"/></a>"
      ]
    },
    {
      "cell_type": "markdown",
      "metadata": {
        "id": "4ifv2_NoB0Fk"
      },
      "source": [
        "# A - Don't be late"
      ]
    },
    {
      "cell_type": "code",
      "metadata": {
        "colab": {
          "base_uri": "https://localhost:8080/"
        },
        "id": "ChzD20hsByPw",
        "outputId": "4a0b61b5-6751-4a72-e041-3d036292e7e8"
      },
      "source": [
        "d, t, s = map(int, input().split())"
      ],
      "execution_count": 5,
      "outputs": [
        {
          "output_type": "stream",
          "text": [
            "10000 1 1\n"
          ],
          "name": "stdout"
        }
      ]
    },
    {
      "cell_type": "code",
      "metadata": {
        "colab": {
          "base_uri": "https://localhost:8080/"
        },
        "id": "MxDDp0vDDZqs",
        "outputId": "1a3f04f3-1812-4b85-84f5-87d0aebd54e5"
      },
      "source": [
        "print(\"Yes\" if (d <= s * t) else \"No\")"
      ],
      "execution_count": 6,
      "outputs": [
        {
          "output_type": "stream",
          "text": [
            "No\n"
          ],
          "name": "stdout"
        }
      ]
    },
    {
      "cell_type": "markdown",
      "metadata": {
        "id": "tBOlte-nDugR"
      },
      "source": [
        "# B - Substring\r\n",
        "$T \\subseteq S$となるように, $S$を書き換える.\r\n",
        "\r\n",
        "最低何文字必要か\r\n"
      ]
    },
    {
      "cell_type": "markdown",
      "metadata": {
        "id": "L6O88aHAFIit"
      },
      "source": [
        "## i の範囲に注意\r\n"
      ]
    },
    {
      "cell_type": "code",
      "metadata": {
        "id": "uEcEBFSyNTbh"
      },
      "source": [
        "s = str(input())\r\n",
        "t = str(input())"
      ],
      "execution_count": null,
      "outputs": []
    },
    {
      "cell_type": "code",
      "metadata": {
        "colab": {
          "base_uri": "https://localhost:8080/"
        },
        "id": "Fz62m5P2ETNM",
        "outputId": "6f6bdf62-3cdc-4732-d35d-58d0ceecc03a"
      },
      "source": [
        "len_t = len(t)\r\n",
        "ans = len(s) + 1\r\n",
        "for i in range(len(s) - len_t + 1):\r\n",
        "  temp = 0\r\n",
        "  for j in range(len_t):\r\n",
        "    if t[j] != s[i+j]:\r\n",
        "      temp += 1\r\n",
        "  if ans > temp:\r\n",
        "    ans = temp\r\n",
        "print(ans)"
      ],
      "execution_count": 56,
      "outputs": [
        {
          "output_type": "stream",
          "text": [
            "0\n"
          ],
          "name": "stdout"
        }
      ]
    },
    {
      "cell_type": "markdown",
      "metadata": {
        "id": "UemDL6btFhWk"
      },
      "source": [
        "# C - Sum of product of pairs"
      ]
    },
    {
      "cell_type": "markdown",
      "metadata": {
        "id": "Ff8eYWg4GG8G"
      },
      "source": [
        "## 全列挙（TLE）\r\n",
        "N ~ 2 * 10^5 なので, 2重for文にするとTLEになる."
      ]
    },
    {
      "cell_type": "code",
      "metadata": {
        "colab": {
          "base_uri": "https://localhost:8080/"
        },
        "id": "sUDeKwY1FjC7",
        "outputId": "207c2677-d481-46d0-f36e-8ca443e9a780"
      },
      "source": [
        "n = int(input())\r\n",
        "a = list(map(int, input().split()))"
      ],
      "execution_count": 41,
      "outputs": [
        {
          "output_type": "stream",
          "text": [
            "4\n",
            "141421356 17320508 22360679 244949\n"
          ],
          "name": "stdout"
        }
      ]
    },
    {
      "cell_type": "code",
      "metadata": {
        "id": "tN_aGA7lFoJE"
      },
      "source": [
        "ans = 0\r\n",
        "for i in range(n-1):\r\n",
        "  for j in range(i+1, n):\r\n",
        "    ans += (a[i] * a[j]) % (10**9 + 7)"
      ],
      "execution_count": 42,
      "outputs": []
    },
    {
      "cell_type": "code",
      "metadata": {
        "colab": {
          "base_uri": "https://localhost:8080/"
        },
        "id": "G7OJOAUSF6qS",
        "outputId": "0353590c-89c5-4ab4-b20d-275d4120df62"
      },
      "source": [
        "print(ans % (10**9 + 7))"
      ],
      "execution_count": 44,
      "outputs": [
        {
          "output_type": "stream",
          "text": [
            "437235829\n"
          ],
          "name": "stdout"
        }
      ]
    },
    {
      "cell_type": "markdown",
      "metadata": {
        "id": "SJBkZPNuGRrU"
      },
      "source": [
        "## 累積和を使う（PythonでAC）\r\n",
        "$$\r\n",
        "\\sum_{i} \\sum_{i<j} A_i * A_j \\\\\r\n",
        "= \\sum_{i} A_i \\sum_{i<j} A_j \\\\\r\n",
        "= \\sum_{i} A_i (\\sum_{i<j} A_j)\r\n",
        "$$\r\n",
        "\r\n",
        "$(\\sum_{i<j} A_j)$を先に全部求めておけば, for文1回で終わる."
      ]
    },
    {
      "cell_type": "code",
      "metadata": {
        "colab": {
          "base_uri": "https://localhost:8080/"
        },
        "id": "vLvRSF-7F72i",
        "outputId": "fcc2e1ed-ee16-4987-8142-6206ae749586"
      },
      "source": [
        "n = int(input())\r\n",
        "a = list(map(int, input().split()))"
      ],
      "execution_count": 30,
      "outputs": [
        {
          "output_type": "stream",
          "text": [
            "4\n",
            "141421356 17320508 22360679 244949\n"
          ],
          "name": "stdout"
        }
      ]
    },
    {
      "cell_type": "code",
      "metadata": {
        "id": "MomtpbbXG0vM"
      },
      "source": [
        "cum_sum = [0] * (n+1)\r\n",
        "for i in range(n):\r\n",
        "  cum_sum[i+1] = cum_sum[i] + a[i]"
      ],
      "execution_count": 31,
      "outputs": []
    },
    {
      "cell_type": "code",
      "metadata": {
        "id": "Nu_BkJAtHQ_T"
      },
      "source": [
        "ans = 0\r\n",
        "for i in range(n-1):\r\n",
        "  ans += (a[i] * (cum_sum[-1] - cum_sum[i+1])) % (10**9 + 7)"
      ],
      "execution_count": 37,
      "outputs": []
    },
    {
      "cell_type": "code",
      "metadata": {
        "colab": {
          "base_uri": "https://localhost:8080/"
        },
        "id": "Zlyxz9NVHCjV",
        "outputId": "1336762b-c989-438c-8a91-5622dd8c67fc"
      },
      "source": [
        "print(ans % (10**9 + 7))"
      ],
      "execution_count": 39,
      "outputs": [
        {
          "output_type": "stream",
          "text": [
            "437235829\n"
          ],
          "name": "stdout"
        }
      ]
    },
    {
      "cell_type": "markdown",
      "metadata": {
        "id": "qZzHV24qIMR6"
      },
      "source": [
        "# D - Friends\r\n",
        "Union Findを使った問題で気づいたが, 問題文を読み違えていてどうすれば良いかわからなかった....."
      ]
    },
    {
      "cell_type": "markdown",
      "metadata": {
        "id": "3aFomWsLW4u8"
      },
      "source": [
        "友達関係を連結グラフで表せば, それぞれの連結成分内のノード同士は違うグループにならないといけない.\r\n",
        "\r\n",
        "よって, それぞれの友達連結グラフを作って, その中で最大の要素数が答えとなる.\r\n",
        "\r\n",
        "UnionFindTreeを用いて実装する."
      ]
    },
    {
      "cell_type": "code",
      "metadata": {
        "id": "C7B7sZZzHOxD"
      },
      "source": [
        "class UnionFindTree:\r\n",
        "  def __init__(self, n):\r\n",
        "    self.parents = [-1] * n\r\n",
        "  \r\n",
        "  def find(self, x):\r\n",
        "    if self.parents[x] < 0:\r\n",
        "      return x\r\n",
        "    else:\r\n",
        "      self.parents[x] = self.find(self.parents[x])\r\n",
        "      return self.find(self.parents[x])\r\n",
        "  \r\n",
        "  def union(self, x, y):\r\n",
        "    x = self.find(x)\r\n",
        "    y = self.find(y)\r\n",
        "\r\n",
        "    if x == y:\r\n",
        "      return \r\n",
        "    \r\n",
        "    # xの集合の要素数が, yの集合の要素数より小さかったら\r\n",
        "    if self.parents[x] > self.parents[y]:\r\n",
        "      x, y = y, x\r\n",
        "    \r\n",
        "    self.parents[x] += self.parents[y]\r\n",
        "    self.parents[y] = x"
      ],
      "execution_count": 66,
      "outputs": []
    },
    {
      "cell_type": "code",
      "metadata": {
        "colab": {
          "base_uri": "https://localhost:8080/"
        },
        "id": "DSoLmQrTVJ9Y",
        "outputId": "6baa2231-933b-432f-eada-dd39a0d433bc"
      },
      "source": [
        "n, m = map(int, input().split())\r\n",
        "friends = UnionFindTree(n)"
      ],
      "execution_count": 67,
      "outputs": [
        {
          "output_type": "stream",
          "text": [
            "5 3\n"
          ],
          "name": "stdout"
        }
      ]
    },
    {
      "cell_type": "code",
      "metadata": {
        "colab": {
          "base_uri": "https://localhost:8080/"
        },
        "id": "oW88TtjMVRFF",
        "outputId": "ea0110d8-28e3-48be-fc30-ecf47b3d9d07"
      },
      "source": [
        "# 与えられたクエリに対して, Unionを行う\r\n",
        "for _ in range(m):\r\n",
        "  a, b = map(int, input().split())\r\n",
        "  friends.union(a-1, b-1)"
      ],
      "execution_count": 68,
      "outputs": [
        {
          "output_type": "stream",
          "text": [
            "1 2\n",
            "3 4\n",
            "5 1\n"
          ],
          "name": "stdout"
        }
      ]
    },
    {
      "cell_type": "code",
      "metadata": {
        "colab": {
          "base_uri": "https://localhost:8080/"
        },
        "id": "TuIVada-VaRg",
        "outputId": "e256f320-aa0f-4fe1-93ca-def9ca2f4970"
      },
      "source": [
        "# self.parentsのノードには, 負の値で子の数が記録されているので, その最小値を取れば良い\r\n",
        "print(- min(friends.parents))"
      ],
      "execution_count": 72,
      "outputs": [
        {
          "output_type": "stream",
          "text": [
            "3\n"
          ],
          "name": "stdout"
        }
      ]
    }
  ]
}