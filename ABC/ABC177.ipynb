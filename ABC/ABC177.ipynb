{
  "nbformat": 4,
  "nbformat_minor": 0,
  "metadata": {
    "colab": {
      "name": "ABC177.ipynb",
      "provenance": [],
      "collapsed_sections": [],
      "authorship_tag": "ABX9TyM8WwG/AlIADSS7pbiF5R+t",
      "include_colab_link": true
    },
    "kernelspec": {
      "name": "python3",
      "display_name": "Python 3"
    },
    "language_info": {
      "name": "python"
    }
  },
  "cells": [
    {
      "cell_type": "markdown",
      "metadata": {
        "id": "view-in-github",
        "colab_type": "text"
      },
      "source": [
        "<a href=\"https://colab.research.google.com/github/Hidestament/AtCoder/blob/main/ABC/ABC177.ipynb\" target=\"_parent\"><img src=\"https://colab.research.google.com/assets/colab-badge.svg\" alt=\"Open In Colab\"/></a>"
      ]
    },
    {
      "cell_type": "markdown",
      "metadata": {
        "id": "YmMHBqifHRGO"
      },
      "source": [
        "# [AtCoder Beginner Contest 177](https://atcoder.jp/contests/abc177)"
      ]
    },
    {
      "cell_type": "markdown",
      "metadata": {
        "id": "hbjjR3HHHTt9"
      },
      "source": [
        "## [A - Don't be late](https://atcoder.jp/contests/abc177/tasks/abc177_a)"
      ]
    },
    {
      "cell_type": "code",
      "metadata": {
        "colab": {
          "base_uri": "https://localhost:8080/"
        },
        "id": "QcX_xYNjHNpH",
        "outputId": "de37630f-f555-4e1d-845d-8ff932d48fae"
      },
      "source": [
        "D, T, S = map(int, input().split())\n",
        "print(\"Yes\" if D/S <= T else \"No\")"
      ],
      "execution_count": null,
      "outputs": [
        {
          "output_type": "stream",
          "name": "stdout",
          "text": [
            "10000 1 1\n",
            "No\n"
          ]
        }
      ]
    },
    {
      "cell_type": "markdown",
      "metadata": {
        "id": "bDX6Pz0RH1lh"
      },
      "source": [
        "## [B - Substring](https://atcoder.jp/contests/abc177/tasks/abc177_b)"
      ]
    },
    {
      "cell_type": "code",
      "metadata": {
        "id": "HwwMuEyaHxEW",
        "colab": {
          "base_uri": "https://localhost:8080/"
        },
        "outputId": "a052c712-ec62-42b9-86ab-4dcf6886ef36"
      },
      "source": [
        "S = str(input())\n",
        "T = str(input())\n",
        "\n",
        "# TがSの部分文字列\n",
        "ans = 10**10\n",
        "for i in range(len(S) - len(T) + 1):\n",
        "    diff = 0\n",
        "    for k in range(len(T)):\n",
        "        if T[k] != S[i:i+len(T)][k]:\n",
        "            diff += 1\n",
        "    ans = min(ans, diff)\n",
        "print(ans)"
      ],
      "execution_count": null,
      "outputs": [
        {
          "output_type": "stream",
          "name": "stdout",
          "text": [
            "codeforces\n",
            "atcoder\n",
            "6\n"
          ]
        }
      ]
    },
    {
      "cell_type": "markdown",
      "metadata": {
        "id": "w4sCSSWbIWpH"
      },
      "source": [
        "## [C - Sum of product of pairs](https://atcoder.jp/contests/abc177/tasks/abc177_c)"
      ]
    },
    {
      "cell_type": "code",
      "metadata": {
        "colab": {
          "base_uri": "https://localhost:8080/"
        },
        "id": "T5QsyCc0IXLF",
        "outputId": "f1661f11-bb6e-400f-d8f6-1f8928fd1613"
      },
      "source": [
        "from itertools import accumulate\n",
        "N = int(input())\n",
        "A = list(map(int, input().split()))\n",
        "\n",
        "mod = 10**9 + 7\n",
        "acc = list(accumulate(A))"
      ],
      "execution_count": null,
      "outputs": [
        {
          "name": "stdout",
          "output_type": "stream",
          "text": [
            "3\n",
            "1 2 3\n"
          ]
        }
      ]
    },
    {
      "cell_type": "code",
      "metadata": {
        "colab": {
          "base_uri": "https://localhost:8080/"
        },
        "id": "7fa4ORv7JZie",
        "outputId": "e6bf9bf6-aa6d-4885-92d0-73d55820b8b8"
      },
      "source": [
        "s = 0\n",
        "for i in range(N-1):\n",
        "    s += A[i] * (acc[-1] - acc[i])\n",
        "    s %= mod\n",
        "print(s % mod)"
      ],
      "execution_count": null,
      "outputs": [
        {
          "output_type": "stream",
          "name": "stdout",
          "text": [
            "11\n"
          ]
        }
      ]
    },
    {
      "cell_type": "markdown",
      "metadata": {
        "id": "oZMK-VjNCPMn"
      },
      "source": [
        "## [D - Friend](https://atcoder.jp/contests/abc177/tasks/abc177_d)"
      ]
    },
    {
      "cell_type": "code",
      "metadata": {
        "id": "L98EX725CuoH"
      },
      "source": [
        "class UnionFindTree:\n",
        "    def __init__(self, n):\n",
        "        self.parents = [-1] * n\n",
        "  \n",
        "    def find(self, x):\n",
        "        if self.parents[x] < 0:\n",
        "            return x\n",
        "        else:\n",
        "            self.parents[x] = self.find(self.parents[x])\n",
        "            return self.find(self.parents[x])\n",
        "  \n",
        "    def union(self, x, y):\n",
        "        x = self.find(x)\n",
        "        y = self.find(y)\n",
        "        if x == y: return    \n",
        "        if self.parents[x] > self.parents[y]:\n",
        "            x, y = y, x\n",
        "        self.parents[x] += self.parents[y]\n",
        "        self.parents[y] = x\n",
        "\n",
        "    def same_check(self, x, y):\n",
        "        return self.find(x) == self.find(y)\n",
        "\n",
        "    def size(self, x):\n",
        "        return -1 * self.parents[self.find(x)]"
      ],
      "execution_count": null,
      "outputs": []
    },
    {
      "cell_type": "code",
      "metadata": {
        "colab": {
          "base_uri": "https://localhost:8080/"
        },
        "id": "fVp1pkJaCRmA",
        "outputId": "578f1ca2-2295-4dc6-a22d-629b56237c1b"
      },
      "source": [
        "N, M = map(int, input().split())\n",
        "uf = UnionFindTree(N)\n",
        "for _ in range(M):\n",
        "    a, b = map(int, input().split())\n",
        "    a -= 1\n",
        "    b -= 1\n",
        "    uf.union(a, b)"
      ],
      "execution_count": null,
      "outputs": [
        {
          "name": "stdout",
          "output_type": "stream",
          "text": [
            "5 3\n",
            "1 2\n",
            "3 4\n",
            "5 1\n"
          ]
        }
      ]
    },
    {
      "cell_type": "code",
      "metadata": {
        "id": "vOlGYAUtC1_u"
      },
      "source": [
        "ans = max(uf.size(i) for i in range(N))\n",
        "print(ans)"
      ],
      "execution_count": null,
      "outputs": []
    },
    {
      "cell_type": "markdown",
      "metadata": {
        "id": "-r1XJrLgDVNy"
      },
      "source": [
        "## [E - Coprime](https://atcoder.jp/contests/abc177/tasks/abc177_e)"
      ]
    },
    {
      "cell_type": "code",
      "metadata": {
        "colab": {
          "base_uri": "https://localhost:8080/"
        },
        "id": "WZBU8tF9DGYu",
        "outputId": "e676f1bf-987d-49bd-d80f-1eb60092ebd7"
      },
      "source": [
        "N = int(input())\n",
        "A = list(map(int, input().split()))"
      ],
      "execution_count": null,
      "outputs": [
        {
          "name": "stdout",
          "output_type": "stream",
          "text": [
            "3\n",
            "1 1 1\n"
          ]
        }
      ]
    },
    {
      "cell_type": "code",
      "metadata": {
        "id": "UF2nmyLQD8fc"
      },
      "source": [
        "from math import gcd\n",
        "all_gcd = gcd(A[0], A[1])\n",
        "for i in range(2, N):\n",
        "    all_gcd = gcd(all_gcd, A[i])"
      ],
      "execution_count": null,
      "outputs": []
    },
    {
      "cell_type": "code",
      "metadata": {
        "id": "IzZqcSIfKtUx"
      },
      "source": [
        "def smallest_prime_factors(n):\n",
        "    spf = [i for i in range(n+1)]\n",
        "\n",
        "    for i in range(2, int(n**0.5) + 1):\n",
        "        if spf[i] == i:\n",
        "            print(i)\n",
        "            for j in range(i, n+1, i):\n",
        "                if spf[j] == j:\n",
        "                    spf[j] = i\n",
        "\n",
        "    return spf"
      ],
      "execution_count": null,
      "outputs": []
    },
    {
      "cell_type": "code",
      "metadata": {
        "id": "5aufHW3fEP36"
      },
      "source": [
        "def query_prime_factorization(a):\n",
        "    now_prime = spf[a]\n",
        "    num_primes = 0\n",
        "    while a != 1:\n",
        "        all_primes.add(now_prime)\n",
        "        num_primes += 1\n",
        "        while a % now_prime == 0:\n",
        "            a //= now_prime\n",
        "        now_prime = spf[a]\n",
        "    \n",
        "    return num_primes"
      ],
      "execution_count": null,
      "outputs": []
    },
    {
      "cell_type": "code",
      "metadata": {
        "colab": {
          "base_uri": "https://localhost:8080/"
        },
        "id": "ijs0BVZHKRn5",
        "outputId": "035eb4ca-e06f-4a53-99bb-cf8ae2fc0e7f"
      },
      "source": [
        "spf = smallest_prime_factors(max(A) + 1)\n",
        "all_primes = set()\n",
        "all_primes_cnt = 0\n",
        "for i in range(N):\n",
        "    all_primes_cnt += query_prime_factorization(A[i])\n",
        "\n",
        "if all_primes_cnt == len(all_primes):\n",
        "    print(\"pairwise coprime\")\n",
        "elif all_gcd == 1:\n",
        "    print(\"setwise coprime\")\n",
        "else:\n",
        "    print(\"not coprime\")"
      ],
      "execution_count": null,
      "outputs": [
        {
          "output_type": "stream",
          "name": "stdout",
          "text": [
            "pairwise coprime\n"
          ]
        }
      ]
    }
  ]
}