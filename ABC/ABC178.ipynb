{
  "nbformat": 4,
  "nbformat_minor": 0,
  "metadata": {
    "colab": {
      "name": "ABC178.ipynb",
      "provenance": [],
      "collapsed_sections": [],
      "authorship_tag": "ABX9TyM4Lgufwa2PLDn2KydnyaTw",
      "include_colab_link": true
    },
    "kernelspec": {
      "name": "python3",
      "display_name": "Python 3"
    },
    "language_info": {
      "name": "python"
    }
  },
  "cells": [
    {
      "cell_type": "markdown",
      "metadata": {
        "id": "view-in-github",
        "colab_type": "text"
      },
      "source": [
        "<a href=\"https://colab.research.google.com/github/Hidestament/AtCoder/blob/main/ABC/ABC178.ipynb\" target=\"_parent\"><img src=\"https://colab.research.google.com/assets/colab-badge.svg\" alt=\"Open In Colab\"/></a>"
      ]
    },
    {
      "cell_type": "markdown",
      "source": [
        "# [AtCoder Beginner Contest 178](https://atcoder.jp/contests/abc178)"
      ],
      "metadata": {
        "id": "spR7So0wGf9n"
      }
    },
    {
      "cell_type": "markdown",
      "source": [
        "## [A - Not](https://atcoder.jp/contests/abc178/tasks/abc178_a)"
      ],
      "metadata": {
        "id": "xWBobH6PGh5o"
      }
    },
    {
      "cell_type": "code",
      "execution_count": null,
      "metadata": {
        "colab": {
          "base_uri": "https://localhost:8080/"
        },
        "id": "EO4dx7oPGLtV",
        "outputId": "89cdd992-7b7b-449e-fada-375f0a83cf04"
      },
      "outputs": [
        {
          "output_type": "stream",
          "name": "stdout",
          "text": [
            "1\n",
            "False\n"
          ]
        }
      ],
      "source": [
        "x = int(input())\n",
        "print(1 - x)"
      ]
    },
    {
      "cell_type": "markdown",
      "source": [
        "## [B - Product Max](https://atcoder.jp/contests/abc178/tasks/abc178_b)"
      ],
      "metadata": {
        "id": "pkrEzOJkGtZu"
      }
    },
    {
      "cell_type": "code",
      "source": [
        "a, b, c, d = map(int, input().split())\n",
        "print(max(a*c, a*d, b*c, b*d))"
      ],
      "metadata": {
        "id": "LGtsVoXVGsGJ"
      },
      "execution_count": null,
      "outputs": []
    },
    {
      "cell_type": "markdown",
      "source": [
        "## [C - Ubiquity](https://atcoder.jp/contests/abc178/tasks/abc178_c)"
      ],
      "metadata": {
        "id": "Z3q0u1oaHEhX"
      }
    },
    {
      "cell_type": "code",
      "source": [
        "N = int(input())\n",
        "mod = 10**9 + 7"
      ],
      "metadata": {
        "colab": {
          "base_uri": "https://localhost:8080/"
        },
        "id": "HUo7UIoNHHAe",
        "outputId": "9072e102-f4cf-4db2-ebef-63162e7d5bd6"
      },
      "execution_count": null,
      "outputs": [
        {
          "name": "stdout",
          "output_type": "stream",
          "text": [
            "2\n"
          ]
        }
      ]
    },
    {
      "cell_type": "code",
      "source": [
        "ans = pow(10, N, mod) - pow(9, N, mod) - pow(9, N, mod) + pow(8, N, mod)\n",
        "print(ans % mod)"
      ],
      "metadata": {
        "colab": {
          "base_uri": "https://localhost:8080/"
        },
        "id": "K1Y-JD2HH7Q9",
        "outputId": "9f6b8289-a612-4e40-8ea0-86bd05d7d520"
      },
      "execution_count": null,
      "outputs": [
        {
          "output_type": "stream",
          "name": "stdout",
          "text": [
            "2\n"
          ]
        }
      ]
    },
    {
      "cell_type": "markdown",
      "source": [
        "## [D - Redistribution](abc178/tasks/abc178_d)"
      ],
      "metadata": {
        "id": "Ep8YBIiWIMXA"
      }
    },
    {
      "cell_type": "markdown",
      "source": [
        "求めるのは \"数列\" なので, 1つの項は3以上だったらどんな値でも良い"
      ],
      "metadata": {
        "id": "IPAiDvebXlcN"
      }
    },
    {
      "cell_type": "markdown",
      "source": [
        "### DP解法"
      ],
      "metadata": {
        "id": "RlB7xns1Xcib"
      }
    },
    {
      "cell_type": "code",
      "source": [
        "S = int(input())\n",
        "mod = 10**9 + 7"
      ],
      "metadata": {
        "colab": {
          "base_uri": "https://localhost:8080/"
        },
        "id": "q7a8ujzQIDfa",
        "outputId": "9afe740b-0b22-4347-bced-1e3ec2d05674"
      },
      "execution_count": null,
      "outputs": [
        {
          "name": "stdout",
          "output_type": "stream",
          "text": [
            "1729\n"
          ]
        }
      ]
    },
    {
      "cell_type": "code",
      "source": [
        "DP = [0] * (S + 1)\n",
        "DP[0] = 1\n",
        "for i in range(3, S + 1):\n",
        "    DP[i] = DP[i-1] + DP[i-3]\n",
        "    DP[i] %= mod"
      ],
      "metadata": {
        "id": "NIGHpgw3WsxB"
      },
      "execution_count": null,
      "outputs": []
    },
    {
      "cell_type": "code",
      "source": [
        "print(DP[S])"
      ],
      "metadata": {
        "id": "cYcguYvMJC0T",
        "colab": {
          "base_uri": "https://localhost:8080/"
        },
        "outputId": "3d2cdcfb-245a-4eb5-803a-c399a2bd4ba9"
      },
      "execution_count": null,
      "outputs": [
        {
          "output_type": "execute_result",
          "data": {
            "text/plain": [
              "294867501"
            ]
          },
          "metadata": {},
          "execution_count": 11
        }
      ]
    },
    {
      "cell_type": "markdown",
      "source": [
        "### 重複組合せ"
      ],
      "metadata": {
        "id": "KKXKjyIoXe8n"
      }
    },
    {
      "cell_type": "code",
      "source": [
        "S = int(input())\n",
        "mod = 10**9 + 7"
      ],
      "metadata": {
        "colab": {
          "base_uri": "https://localhost:8080/"
        },
        "id": "c_r8nFO7JCyK",
        "outputId": "86c14c06-5b2d-4046-c5f5-ab1711330882"
      },
      "execution_count": null,
      "outputs": [
        {
          "name": "stdout",
          "output_type": "stream",
          "text": [
            "1729\n"
          ]
        }
      ]
    },
    {
      "cell_type": "code",
      "source": [
        "N = 10**5\n",
        "\n",
        "fact = [1] * (N+1) # fact[i] = i! % mod\n",
        "inv = [1] * (N+1) # inv[i] = i^-1 % mod, factinvの計算用\n",
        "inv[0] = 0\n",
        "factinv = [1] * (N+1) # factinv[i] = (i!)^-1 % mod\n",
        "\n",
        "for i in range(2, N+1):\n",
        "    fact[i] = (fact[i-1] * i) % mod\n",
        "    inv[i] = (-inv[mod % i] * (mod // i)) % mod\n",
        "    factinv[i] = (factinv[i-1] * inv[i]) % mod\n",
        "\n",
        "def cmb_mod(n, r):\n",
        "    if (r < 0) or (n < r):\n",
        "        return 0\n",
        "    r = min(r, n-r)\n",
        "    return fact[n] * factinv[r] * factinv[n-r] % mod"
      ],
      "metadata": {
        "id": "EVZ11FUCXrDp"
      },
      "execution_count": null,
      "outputs": []
    },
    {
      "cell_type": "code",
      "source": [
        "ans = 0\n",
        "dig = 1\n",
        "while True:\n",
        "    res = S - 3 * dig\n",
        "    if res < 0: break\n",
        "    ans += cmb_mod(res + dig - 1, dig - 1)\n",
        "    ans %= mod\n",
        "    dig += 1\n",
        "print(ans)"
      ],
      "metadata": {
        "colab": {
          "base_uri": "https://localhost:8080/"
        },
        "id": "uSTAxS9FJCvm",
        "outputId": "d1d079b4-0e74-47cb-d42a-7bff0d9973a1"
      },
      "execution_count": null,
      "outputs": [
        {
          "output_type": "stream",
          "name": "stdout",
          "text": [
            "294867501\n"
          ]
        }
      ]
    },
    {
      "cell_type": "markdown",
      "source": [
        "## [E - Dist Max](https://atcoder.jp/contests/abc178/tasks/abc178_e)"
      ],
      "metadata": {
        "id": "KAhU6u_BJeZu"
      }
    },
    {
      "cell_type": "code",
      "source": [
        "N = int(input())\n",
        "points = [list(map(int, input().split())) for _ in range(N)]"
      ],
      "metadata": {
        "id": "8yHz44eEJg5S"
      },
      "execution_count": null,
      "outputs": []
    },
    {
      "cell_type": "code",
      "source": [
        "z = [x + y for x, y in points]\n",
        "w = [x - y for x, y in points]\n",
        "print(max(max(z) - min(z), max(w) - min(w)))"
      ],
      "metadata": {
        "id": "LqwXb7DcyBYc"
      },
      "execution_count": null,
      "outputs": []
    }
  ]
}