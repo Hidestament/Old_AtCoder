{
  "nbformat": 4,
  "nbformat_minor": 0,
  "metadata": {
    "colab": {
      "name": "ABC179.ipynb",
      "provenance": [],
      "authorship_tag": "ABX9TyNQ7RRuZjTfBuJ0u0fwgsXJ",
      "include_colab_link": true
    },
    "kernelspec": {
      "name": "python3",
      "display_name": "Python 3"
    }
  },
  "cells": [
    {
      "cell_type": "markdown",
      "metadata": {
        "id": "view-in-github",
        "colab_type": "text"
      },
      "source": [
        "<a href=\"https://colab.research.google.com/github/Hidestament/AtCoder/blob/main/ABC/ABC179.ipynb\" target=\"_parent\"><img src=\"https://colab.research.google.com/assets/colab-badge.svg\" alt=\"Open In Colab\"/></a>"
      ]
    },
    {
      "cell_type": "markdown",
      "metadata": {
        "id": "7UlMsNa3CaOZ"
      },
      "source": [
        "# A - Plural Form"
      ]
    },
    {
      "cell_type": "code",
      "metadata": {
        "colab": {
          "base_uri": "https://localhost:8080/"
        },
        "id": "uCynvVFWCYzS",
        "outputId": "782dc749-9a2f-408d-8be8-ee7320abb2f1"
      },
      "source": [
        "s = input()"
      ],
      "execution_count": null,
      "outputs": [
        {
          "output_type": "stream",
          "text": [
            "bus\n"
          ],
          "name": "stdout"
        }
      ]
    },
    {
      "cell_type": "code",
      "metadata": {
        "colab": {
          "base_uri": "https://localhost:8080/"
        },
        "id": "m4zLMVa8CiQp",
        "outputId": "7e53b671-3a81-480b-dc55-b4f26e5a5f44"
      },
      "source": [
        "print(s+\"s\" if s[-1] != \"s\" else s + \"es\")"
      ],
      "execution_count": null,
      "outputs": [
        {
          "output_type": "stream",
          "text": [
            "buses\n"
          ],
          "name": "stdout"
        }
      ]
    },
    {
      "cell_type": "markdown",
      "metadata": {
        "id": "t-_s_EeICwt_"
      },
      "source": [
        "# B - Go to jail"
      ]
    },
    {
      "cell_type": "code",
      "metadata": {
        "colab": {
          "base_uri": "https://localhost:8080/"
        },
        "id": "PRWdEV5ZCsOC",
        "outputId": "d26a2853-ae2a-47f9-b707-58f0f60d74d5"
      },
      "source": [
        "n = int(input())"
      ],
      "execution_count": null,
      "outputs": [
        {
          "output_type": "stream",
          "text": [
            "5\n"
          ],
          "name": "stdout"
        }
      ]
    },
    {
      "cell_type": "code",
      "metadata": {
        "colab": {
          "base_uri": "https://localhost:8080/"
        },
        "id": "c8dZ5-zQC-Qg",
        "outputId": "59da41fb-256c-4d73-8332-5598a7b0719f"
      },
      "source": [
        "count = 0\r\n",
        "for _ in range(n):\r\n",
        "  d1, d2 = map(int, input().split())\r\n",
        "  if (d1 == d2):\r\n",
        "    count += 1\r\n",
        "    if count >= 3:\r\n",
        "      print(\"Yes\")\r\n",
        "      exit()\r\n",
        "  else:\r\n",
        "    count = 0\r\n",
        "\r\n",
        "print(\"Yes\" if count >= 3 else \"No\")"
      ],
      "execution_count": null,
      "outputs": [
        {
          "output_type": "stream",
          "text": [
            "1 2\n",
            "6 6\n",
            "4 4\n",
            "3 3\n",
            "Yes\n",
            "1 5\n",
            "0\n",
            "No\n"
          ],
          "name": "stdout"
        }
      ]
    },
    {
      "cell_type": "markdown",
      "metadata": {
        "id": "yBTxLKtUD8GN"
      },
      "source": [
        "# C - A × B + C\r\n",
        "\r\n",
        "まず, A を固定する. これをaとする.\r\n",
        "$aB + C = N$ となるが, このときのBの最大値は, $aB \\leq N - 1$ である.\r\n",
        "ここで, それぞれのBに対してCの取りうるパターンは１つしかない.\r\n",
        "\r\n",
        "よって, 固定したAに対して, Bの取りうる個数をカウントしてゆけば良い.\r\n"
      ]
    },
    {
      "cell_type": "code",
      "metadata": {
        "colab": {
          "base_uri": "https://localhost:8080/"
        },
        "id": "9Fe57TnJDZw6",
        "outputId": "78b12e42-39c5-4217-d556-686cad765acb"
      },
      "source": [
        "n = int(input())"
      ],
      "execution_count": 3,
      "outputs": [
        {
          "output_type": "stream",
          "text": [
            "100\n"
          ],
          "name": "stdout"
        }
      ]
    },
    {
      "cell_type": "code",
      "metadata": {
        "colab": {
          "base_uri": "https://localhost:8080/"
        },
        "id": "xJjBWaa2EBRR",
        "outputId": "b550a12e-1272-4c04-ab20-91dbc3e80ac7"
      },
      "source": [
        "ans = 0\r\n",
        "for a in range(1, n):\r\n",
        "  max_b = (n-1)//a\r\n",
        "  ans += max_b\r\n",
        "print(ans)"
      ],
      "execution_count": 4,
      "outputs": [
        {
          "output_type": "stream",
          "text": [
            "473\n"
          ],
          "name": "stdout"
        }
      ]
    }
  ]
}