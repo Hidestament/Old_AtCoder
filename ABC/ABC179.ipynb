{
  "nbformat": 4,
  "nbformat_minor": 0,
  "metadata": {
    "colab": {
      "name": "ABC179.ipynb",
      "provenance": [],
      "collapsed_sections": [],
      "authorship_tag": "ABX9TyPVByYa59fTzkSJHLhZShJ+",
      "include_colab_link": true
    },
    "kernelspec": {
      "name": "python3",
      "display_name": "Python 3"
    },
    "language_info": {
      "name": "python"
    }
  },
  "cells": [
    {
      "cell_type": "markdown",
      "metadata": {
        "id": "view-in-github",
        "colab_type": "text"
      },
      "source": [
        "<a href=\"https://colab.research.google.com/github/Hidestament/AtCoder/blob/main/ABC/ABC179.ipynb\" target=\"_parent\"><img src=\"https://colab.research.google.com/assets/colab-badge.svg\" alt=\"Open In Colab\"/></a>"
      ]
    },
    {
      "cell_type": "markdown",
      "source": [
        "# [AtCoder Beginner Contest 179](https://atcoder.jp/contests/abc179)"
      ],
      "metadata": {
        "id": "iUq970ILneh-"
      }
    },
    {
      "cell_type": "markdown",
      "source": [
        "## [A - Plural Form](https://atcoder.jp/contests/abc179/tasks/abc179_a)"
      ],
      "metadata": {
        "id": "Q110-vSOngKQ"
      }
    },
    {
      "cell_type": "code",
      "execution_count": null,
      "metadata": {
        "id": "rKfxRP0Enc5C"
      },
      "outputs": [],
      "source": [
        "S = str(input())\n",
        "print(S + \"s\" if S[-1] != \"s\" else S + \"es\")"
      ]
    },
    {
      "cell_type": "markdown",
      "source": [
        "## [B - Go to Jail](https://atcoder.jp/contests/abc179/tasks/abc179_b)"
      ],
      "metadata": {
        "id": "rYimXlibnqeu"
      }
    },
    {
      "cell_type": "code",
      "source": [
        "N = int(input())\n",
        "D = [list(map(int, input().split())) for _ in range(N)]\n",
        "print(\"Yes\" if any((D[i][0] == D[i][1]) and (D[i+1][0] == D[i+1][1]) and (D[i+2][0] == D[i+2][1]) for i in range(N-2)) else \"No\")"
      ],
      "metadata": {
        "colab": {
          "base_uri": "https://localhost:8080/"
        },
        "id": "fhhQZnVTntPr",
        "outputId": "b68db95a-abce-4d3e-a462-f6ad21e6f909"
      },
      "execution_count": null,
      "outputs": [
        {
          "output_type": "stream",
          "name": "stdout",
          "text": [
            "5\n",
            "1 2\n",
            "6 6\n",
            "4 4\n",
            "3 3\n",
            "3 2\n",
            "Yes\n"
          ]
        }
      ]
    },
    {
      "cell_type": "markdown",
      "source": [
        "## [C - A x B + C](https://atcoder.jp/contests/abc179/tasks/abc179_c)"
      ],
      "metadata": {
        "id": "bDUVwIovoWo-"
      }
    },
    {
      "cell_type": "code",
      "source": [
        "N = int(input())"
      ],
      "metadata": {
        "colab": {
          "base_uri": "https://localhost:8080/"
        },
        "id": "lIaJ5Vn2oRH3",
        "outputId": "faac07fe-2c77-4963-8174-1127f812d15c"
      },
      "execution_count": null,
      "outputs": [
        {
          "name": "stdout",
          "output_type": "stream",
          "text": [
            "3\n"
          ]
        }
      ]
    },
    {
      "cell_type": "code",
      "source": [
        "cnt = 0\n",
        "for a in range(1, N+1):\n",
        "    l, r = 0, N + 1\n",
        "    while r - l > 1:\n",
        "        mid = (r + l) // 2\n",
        "        if a * mid < N:\n",
        "            l = mid\n",
        "        else:\n",
        "            r = mid\n",
        "    cnt += l\n",
        "print(cnt)"
      ],
      "metadata": {
        "colab": {
          "base_uri": "https://localhost:8080/"
        },
        "id": "KCEqUMntpidM",
        "outputId": "9aa56a9f-b003-49b2-be21-2af4080f5d19"
      },
      "execution_count": null,
      "outputs": [
        {
          "output_type": "stream",
          "name": "stdout",
          "text": [
            "3\n"
          ]
        }
      ]
    },
    {
      "cell_type": "markdown",
      "source": [
        "二分探索しなくても求まる"
      ],
      "metadata": {
        "id": "7fy10iC7riez"
      }
    },
    {
      "cell_type": "code",
      "source": [
        "N = int(input())\n",
        "cnt = 0\n",
        "for a in range(1, N):\n",
        "    cnt += (N - 1) // a\n",
        "print(cnt)"
      ],
      "metadata": {
        "colab": {
          "base_uri": "https://localhost:8080/"
        },
        "id": "CAE2iARWriq1",
        "outputId": "24d02703-dc6d-47ef-b7f3-d6fc23409193"
      },
      "execution_count": null,
      "outputs": [
        {
          "output_type": "stream",
          "name": "stdout",
          "text": [
            "3\n",
            "3\n"
          ]
        }
      ]
    },
    {
      "cell_type": "markdown",
      "source": [
        "## [D - Leaping Tak](https://atcoder.jp/contests/abc179/tasks/abc179_d)"
      ],
      "metadata": {
        "id": "8mMSLZMcrYre"
      }
    },
    {
      "cell_type": "markdown",
      "source": [
        "### とりあえず全探索する（もちろんTLEする）"
      ],
      "metadata": {
        "id": "u0HcfyRws56m"
      }
    },
    {
      "cell_type": "code",
      "source": [
        "N, K = map(int, input().split())\n",
        "move = []\n",
        "for _ in range(K):\n",
        "    l, r = map(int, input().split())\n",
        "    move.append([l, r])"
      ],
      "metadata": {
        "colab": {
          "base_uri": "https://localhost:8080/"
        },
        "id": "JqJeyT4NrDlT",
        "outputId": "e65a808a-ddce-4a82-9d14-fda4d6867edc"
      },
      "execution_count": null,
      "outputs": [
        {
          "name": "stdout",
          "output_type": "stream",
          "text": [
            "5 2\n",
            "1 1\n",
            "3 4\n"
          ]
        }
      ]
    },
    {
      "cell_type": "code",
      "source": [
        "mod = 998244353 \n",
        "DP = [0] * N\n",
        "DP[0] = 1"
      ],
      "metadata": {
        "id": "50qCOy5WswGQ"
      },
      "execution_count": null,
      "outputs": []
    },
    {
      "cell_type": "code",
      "source": [
        "for i in range(N):\n",
        "    for k in range(K):\n",
        "        for to in range(move[k][0], move[k][1] + 1):\n",
        "            if i + to < N:\n",
        "                DP[i + to] += DP[i]\n",
        "                DP[i + to] %= mod"
      ],
      "metadata": {
        "id": "MPQexppes0Ki"
      },
      "execution_count": null,
      "outputs": []
    },
    {
      "cell_type": "code",
      "source": [
        "print(DP[N-1] % mod)"
      ],
      "metadata": {
        "id": "6Gu0kr9es0H1"
      },
      "execution_count": null,
      "outputs": []
    },
    {
      "cell_type": "markdown",
      "source": [
        "### 貰うDP + 累積和\n"
      ],
      "metadata": {
        "id": "oB3Y3AxnuE01"
      }
    },
    {
      "cell_type": "code",
      "source": [
        "N, K = map(int, input().split())\n",
        "seg = [list(map(int, input().split())) for _ in range(K)]\n",
        "mod = 998244353"
      ],
      "metadata": {
        "id": "pbvp9uBVAoVB"
      },
      "execution_count": null,
      "outputs": []
    },
    {
      "cell_type": "code",
      "source": [
        "# acc[k]: 現在のseg[k]の区間のDPの累積和. つまり DP[i - R[k]] + DP[i - R[k] + 1] + ... + D[i - L[k]]\n",
        "acc = [0] * K"
      ],
      "metadata": {
        "id": "T3SxBmtkAoR9"
      },
      "execution_count": null,
      "outputs": []
    },
    {
      "cell_type": "code",
      "source": [
        "# DP[i]: マスiに行く方法の個数\n",
        "DP = [0] * (N + 1)\n",
        "# 最初はマス1にいる\n",
        "DP[1] = 1"
      ],
      "metadata": {
        "id": "viyLlZy8AoPf"
      },
      "execution_count": null,
      "outputs": []
    },
    {
      "cell_type": "code",
      "source": [
        "for i in range(1, N+1):\n",
        "    # accの更新\n",
        "    for k in range(K):\n",
        "        l, r = seg[k]\n",
        "        if i - l >= 0:\n",
        "            acc[k] += DP[i - l]\n",
        "        if i - r - 1>= 0:\n",
        "            acc[k] -= DP[i - r - 1]\n",
        "    \n",
        "    # 各区間に対する DP の更新\n",
        "    for k in range(K):\n",
        "        DP[i] += acc[k]\n",
        "        DP[i] %= mod"
      ],
      "metadata": {
        "id": "1zDZ1WZhAoMu"
      },
      "execution_count": null,
      "outputs": []
    },
    {
      "cell_type": "code",
      "source": [
        "print(DP[N])"
      ],
      "metadata": {
        "id": "LoNXGm6WAoKK"
      },
      "execution_count": null,
      "outputs": []
    },
    {
      "cell_type": "markdown",
      "source": [
        "## [E - Sequence Sum](https://atcoder.jp/contests/abc179/tasks/abc179_e)"
      ],
      "metadata": {
        "id": "yinh5mKn1REw"
      }
    },
    {
      "cell_type": "code",
      "source": [
        "N, X, M = map(int, input().split())"
      ],
      "metadata": {
        "colab": {
          "base_uri": "https://localhost:8080/"
        },
        "id": "AE_x-xzcCnPU",
        "outputId": "2d77337c-8fe1-4ebe-8887-479b60255fbd"
      },
      "execution_count": 26,
      "outputs": [
        {
          "name": "stdout",
          "output_type": "stream",
          "text": [
            "10000000000 10 99959\n"
          ]
        }
      ]
    },
    {
      "cell_type": "code",
      "source": [
        "path = [X]\n",
        "cycle = []\n",
        "cnt = [0] * (M + 1)\n",
        "cnt[X] += 1"
      ],
      "metadata": {
        "id": "3JilpV-sCnMT"
      },
      "execution_count": 27,
      "outputs": []
    },
    {
      "cell_type": "code",
      "source": [
        "now = X\n",
        "while True:\n",
        "    next = pow(now, 2, M)\n",
        "    cnt[next] += 1\n",
        "    if cnt[next] == 1:\n",
        "        path.append(next)\n",
        "    elif cnt[next] == 2:\n",
        "        cycle.append(next)\n",
        "    else:\n",
        "        break\n",
        "    now = next"
      ],
      "metadata": {
        "id": "_K0pH8LYCnJS"
      },
      "execution_count": 28,
      "outputs": []
    },
    {
      "cell_type": "code",
      "source": [
        "if N <= len(path):\n",
        "    print(sum(path[:N]))\n",
        "else:\n",
        "    s = sum(path)\n",
        "    c = sum(cycle)\n",
        "    res = N - len(path)\n",
        "    ans = s + c * (res // len(cycle)) + sum(cycle[:res % len(cycle)])\n",
        "    print(ans)"
      ],
      "metadata": {
        "colab": {
          "base_uri": "https://localhost:8080/"
        },
        "id": "DBsIwo-hCnEB",
        "outputId": "3a83ec8e-437d-4968-872d-2aedd52502c6"
      },
      "execution_count": 15,
      "outputs": [
        {
          "output_type": "stream",
          "name": "stdout",
          "text": [
            "1369\n"
          ]
        }
      ]
    }
  ]
}