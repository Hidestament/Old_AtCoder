{
  "nbformat": 4,
  "nbformat_minor": 0,
  "metadata": {
    "colab": {
      "name": "ABC180.ipynb",
      "provenance": [],
      "collapsed_sections": [],
      "authorship_tag": "ABX9TyNNJChjfuDdI5naqh1iY3Uw",
      "include_colab_link": true
    },
    "kernelspec": {
      "name": "python3",
      "display_name": "Python 3"
    },
    "language_info": {
      "name": "python"
    }
  },
  "cells": [
    {
      "cell_type": "markdown",
      "metadata": {
        "id": "view-in-github",
        "colab_type": "text"
      },
      "source": [
        "<a href=\"https://colab.research.google.com/github/Hidestament/AtCoder/blob/main/ABC/ABC180.ipynb\" target=\"_parent\"><img src=\"https://colab.research.google.com/assets/colab-badge.svg\" alt=\"Open In Colab\"/></a>"
      ]
    },
    {
      "cell_type": "markdown",
      "source": [
        "# [AtCoder Beginner Contest 180](https://atcoder.jp/contests/abc180)"
      ],
      "metadata": {
        "id": "bSCcNBri_cK8"
      }
    },
    {
      "cell_type": "markdown",
      "source": [
        "## [A - box](https://atcoder.jp/contests/abc180/tasks/abc180_a)"
      ],
      "metadata": {
        "id": "P_mGo2K2_dr8"
      }
    },
    {
      "cell_type": "code",
      "execution_count": null,
      "metadata": {
        "id": "NERUe-M7_aor"
      },
      "outputs": [],
      "source": [
        "N, A, B = map(int, input().split())\n",
        "print(N - A + B)"
      ]
    },
    {
      "cell_type": "markdown",
      "source": [
        "## [B - Various distances](https://atcoder.jp/contests/abc180/tasks/abc180_b)"
      ],
      "metadata": {
        "id": "3ew6JMOd_k28"
      }
    },
    {
      "cell_type": "code",
      "source": [
        "N = int(input())\n",
        "X = list(map(int, input().split()))\n",
        "d1, d2, d3 = 0, 0, 0\n",
        "for x in X:\n",
        "    d1 += abs(x)\n",
        "    d2 += x**2\n",
        "    d3 = max(d3, abs(x))\n",
        "print(d1)\n",
        "print(d2 ** 0.5)\n",
        "print(d3)"
      ],
      "metadata": {
        "id": "f5WYl7RJ_nrl"
      },
      "execution_count": null,
      "outputs": []
    },
    {
      "cell_type": "markdown",
      "source": [
        "## [C - Cream puff](https://atcoder.jp/contests/abc180/tasks/abc180_c)"
      ],
      "metadata": {
        "id": "cjplbStkAP4o"
      }
    },
    {
      "cell_type": "code",
      "source": [
        "N = int(input())"
      ],
      "metadata": {
        "colab": {
          "base_uri": "https://localhost:8080/"
        },
        "id": "myq3VaFJASXx",
        "outputId": "606bfc80-2466-4ebd-9f45-b039dc521048"
      },
      "execution_count": null,
      "outputs": [
        {
          "name": "stdout",
          "output_type": "stream",
          "text": [
            "720\n"
          ]
        }
      ]
    },
    {
      "cell_type": "code",
      "source": [
        "factors = set()\n",
        "for p in range(1, int(N**0.5) + 10):\n",
        "    if N % p == 0:\n",
        "        factors.add(p)\n",
        "        factors.add(N // p)"
      ],
      "metadata": {
        "id": "ngW-4O0HAzw4"
      },
      "execution_count": null,
      "outputs": []
    },
    {
      "cell_type": "code",
      "source": [
        "print(*sorted(list(factors)), sep=\"\\n\")"
      ],
      "metadata": {
        "colab": {
          "base_uri": "https://localhost:8080/"
        },
        "id": "KQrYwSC9A2Ep",
        "outputId": "230efb7e-82e7-4afd-941f-4db82ae81011"
      },
      "execution_count": null,
      "outputs": [
        {
          "output_type": "stream",
          "name": "stdout",
          "text": [
            "1\n",
            "2\n",
            "3\n",
            "4\n",
            "5\n",
            "6\n",
            "8\n",
            "9\n",
            "10\n",
            "12\n",
            "15\n",
            "16\n",
            "18\n",
            "20\n",
            "24\n",
            "30\n",
            "36\n",
            "40\n",
            "45\n",
            "48\n",
            "60\n",
            "72\n",
            "80\n",
            "90\n",
            "120\n",
            "144\n",
            "180\n",
            "240\n",
            "360\n",
            "720\n"
          ]
        }
      ]
    },
    {
      "cell_type": "markdown",
      "source": [
        "## [D - Takahashi Unevolved](https://atcoder.jp/contests/abc180/tasks/abc180_d)"
      ],
      "metadata": {
        "id": "kAJbYVAfBxaa"
      }
    },
    {
      "cell_type": "code",
      "source": [
        "X, Y, A, B = map(int, input().split())"
      ],
      "metadata": {
        "colab": {
          "base_uri": "https://localhost:8080/"
        },
        "id": "blqf1vCoqXOb",
        "outputId": "ae70dbf8-83b1-4506-b398-1c2291f532d2"
      },
      "execution_count": 10,
      "outputs": [
        {
          "name": "stdout",
          "output_type": "stream",
          "text": [
            "4 20 2 10\n"
          ]
        }
      ]
    },
    {
      "cell_type": "code",
      "source": [
        "cnt = 0\n",
        "while True:\n",
        "    if (X * A < X + B) and (X * A < Y):\n",
        "        cnt += 1\n",
        "        X *= A\n",
        "    else:\n",
        "        res = max(0, Y - X)\n",
        "        cnt += (res - 1) // B\n",
        "        print(cnt)\n",
        "        break"
      ],
      "metadata": {
        "colab": {
          "base_uri": "https://localhost:8080/"
        },
        "id": "fB0qdHbmtN5S",
        "outputId": "7896111c-4b1f-4c1e-f4f6-dd2d717414ef"
      },
      "execution_count": 11,
      "outputs": [
        {
          "output_type": "stream",
          "name": "stdout",
          "text": [
            "2\n"
          ]
        }
      ]
    },
    {
      "cell_type": "markdown",
      "source": [
        "## [E - Traveling Salesman among Aerial Cities](https://atcoder.jp/contests/abc180/tasks/abc180_e)"
      ],
      "metadata": {
        "id": "5CUKd4RSC4S5"
      }
    },
    {
      "cell_type": "code",
      "source": [
        "def dist(P1, P2):\n",
        "    a, b, c = P1\n",
        "    p, q, r = P2\n",
        "    return abs(p - a) + abs(q - b) + max(0, r - c)"
      ],
      "metadata": {
        "id": "wbXmN4zMwohK"
      },
      "execution_count": 21,
      "outputs": []
    },
    {
      "cell_type": "code",
      "source": [
        "N = int(input())\n",
        "P = []\n",
        "for _ in range(N):\n",
        "    x, y, z = map(int, input().split())\n",
        "    P.append([x, y, z])"
      ],
      "metadata": {
        "colab": {
          "base_uri": "https://localhost:8080/"
        },
        "id": "iaw1CPDswoeU",
        "outputId": "a0ecda22-f519-4397-b70c-a81d0f965dc7"
      },
      "execution_count": 16,
      "outputs": [
        {
          "name": "stdout",
          "output_type": "stream",
          "text": [
            "2\n",
            "0 0 0\n",
            "1 2 3\n"
          ]
        }
      ]
    },
    {
      "cell_type": "code",
      "source": [
        "# DP[s][i]: sを通って, 最後にiにいるときの最短路\n",
        "INF = 10**15\n",
        "DP = [[INF] * (N) for _ in range(1 << N)]"
      ],
      "metadata": {
        "id": "PYQpb841wob1"
      },
      "execution_count": 18,
      "outputs": []
    },
    {
      "cell_type": "code",
      "source": [
        "# 都市0からstartするとする\n",
        "DP[0][0] = 0"
      ],
      "metadata": {
        "id": "VnfjxYWHwoZe"
      },
      "execution_count": 19,
      "outputs": []
    },
    {
      "cell_type": "code",
      "source": [
        "# DP[s][u] -> DP[s cup v][v]\n",
        "for s in range(1 << N):\n",
        "    # u -> v とする\n",
        "    for u in range(N):\n",
        "        for v in range(N):\n",
        "            # s == 0のときは例外的にどこに行っても良い.\n",
        "            # s != 0のときは, uは既に訪問済である必要がある\n",
        "            if (s != 0) and not (s & (1 << u)): continue\n",
        "            # vは訪問済でない and u != v である必要がある\n",
        "            if not (s & (1 << v)) and v != u:\n",
        "                DP[s | (1 << v)][v] = min(DP[s | 1 << v][v], DP[s][u] + dist(P[u], P[v]))"
      ],
      "metadata": {
        "id": "HK5c2uKswoWm"
      },
      "execution_count": 22,
      "outputs": []
    },
    {
      "cell_type": "code",
      "source": [
        "# 0...Nが訪問済で 最後に0を訪問したモノ の最短距離が答え\n",
        "print(DP[(1 << N) - 1][0])"
      ],
      "metadata": {
        "colab": {
          "base_uri": "https://localhost:8080/"
        },
        "id": "1IoA8i8B0YQV",
        "outputId": "739c64b3-f309-400a-a04d-99d863844e47"
      },
      "execution_count": 27,
      "outputs": [
        {
          "output_type": "execute_result",
          "data": {
            "text/plain": [
              "9"
            ]
          },
          "metadata": {},
          "execution_count": 27
        }
      ]
    }
  ]
}