{
  "nbformat": 4,
  "nbformat_minor": 0,
  "metadata": {
    "colab": {
      "name": "ABC180.ipynb",
      "provenance": [],
      "authorship_tag": "ABX9TyOPxEOsoivHqR5mfyeNCkRI",
      "include_colab_link": true
    },
    "kernelspec": {
      "name": "python3",
      "display_name": "Python 3"
    }
  },
  "cells": [
    {
      "cell_type": "markdown",
      "metadata": {
        "id": "view-in-github",
        "colab_type": "text"
      },
      "source": [
        "<a href=\"https://colab.research.google.com/github/Hidestament/AtCoder/blob/main/ABC/ABC180.ipynb\" target=\"_parent\"><img src=\"https://colab.research.google.com/assets/colab-badge.svg\" alt=\"Open In Colab\"/></a>"
      ]
    },
    {
      "cell_type": "markdown",
      "metadata": {
        "id": "gpr6ERyYpZiI"
      },
      "source": [
        "# A - box"
      ]
    },
    {
      "cell_type": "code",
      "metadata": {
        "colab": {
          "base_uri": "https://localhost:8080/"
        },
        "id": "a1QH88iKosfk",
        "outputId": "ad3729a0-a66e-469b-aecc-21143a602cd0"
      },
      "source": [
        "n, a, b = map(int, input().split())\r\n",
        "print(n - a + b)"
      ],
      "execution_count": 6,
      "outputs": [
        {
          "output_type": "stream",
          "text": [
            "100 1 2\n",
            "101\n"
          ],
          "name": "stdout"
        }
      ]
    },
    {
      "cell_type": "markdown",
      "metadata": {
        "id": "FY-Uod2Npjce"
      },
      "source": [
        "# B - Various distance"
      ]
    },
    {
      "cell_type": "code",
      "metadata": {
        "colab": {
          "base_uri": "https://localhost:8080/"
        },
        "id": "OUJ5L1SGowKY",
        "outputId": "e9b0a2a7-dbf3-4f52-fa1b-a1be311ea844"
      },
      "source": [
        "n = int(input())\r\n",
        "x = list(map(int, input().split()))"
      ],
      "execution_count": 8,
      "outputs": [
        {
          "output_type": "stream",
          "text": [
            "2\n",
            "2 -1\n"
          ],
          "name": "stdout"
        }
      ]
    },
    {
      "cell_type": "code",
      "metadata": {
        "colab": {
          "base_uri": "https://localhost:8080/"
        },
        "id": "DNo3N18Oowmx",
        "outputId": "4efb6a3b-7202-49cb-810e-be8d3d81ef43"
      },
      "source": [
        "l1_dis = 0\r\n",
        "l2_dis = 0\r\n",
        "l3_dis = 0\r\n",
        "for i in x:\r\n",
        "  l1_dis += abs(i)\r\n",
        "  l2_dis += (i * i)\r\n",
        "  if l3_dis < abs(i):\r\n",
        "    l3_dis = abs(i)\r\n",
        "\r\n",
        "print(l1_dis)\r\n",
        "print(l2_dis ** 0.5)\r\n",
        "print(l3_dis)"
      ],
      "execution_count": 9,
      "outputs": [
        {
          "output_type": "stream",
          "text": [
            "3\n",
            "2.23606797749979\n",
            "2\n"
          ],
          "name": "stdout"
        }
      ]
    },
    {
      "cell_type": "markdown",
      "metadata": {
        "id": "X-tjAqaqqbA7"
      },
      "source": [
        "# C - Cream puff"
      ]
    },
    {
      "cell_type": "code",
      "metadata": {
        "colab": {
          "base_uri": "https://localhost:8080/"
        },
        "id": "YzI6f0mJo6bJ",
        "outputId": "fdaea6de-3099-4050-ef97-fd8e9d57faf0"
      },
      "source": [
        "n = int(input())"
      ],
      "execution_count": 12,
      "outputs": [
        {
          "output_type": "stream",
          "text": [
            "6\n"
          ],
          "name": "stdout"
        }
      ]
    },
    {
      "cell_type": "code",
      "metadata": {
        "colab": {
          "base_uri": "https://localhost:8080/"
        },
        "id": "IEOYz9_8o9Ve",
        "outputId": "dfb26bcc-134d-4751-c8e8-be770edb6bb8"
      },
      "source": [
        "ans = set()\r\n",
        "for i in range(1, int(n**0.5) + 1):\r\n",
        "  if n % i == 0:\r\n",
        "    ans.add(i)\r\n",
        "    ans.add(n // i)\r\n",
        "\r\n",
        "ans = sorted(list(ans))"
      ],
      "execution_count": 15,
      "outputs": [
        {
          "output_type": "stream",
          "text": [
            "[1, 2, 3, 6]\n"
          ],
          "name": "stdout"
        }
      ]
    },
    {
      "cell_type": "code",
      "metadata": {
        "id": "YaD7C7awrDKy"
      },
      "source": [
        "for i in ans:\r\n",
        "  print(i)"
      ],
      "execution_count": null,
      "outputs": []
    },
    {
      "cell_type": "markdown",
      "metadata": {
        "id": "g2Sg2VhrrbQj"
      },
      "source": [
        "# D - Takahasi Unevolved"
      ]
    },
    {
      "cell_type": "markdown",
      "metadata": {
        "id": "IatyX12JtYgj"
      },
      "source": [
        "## TLEになってしまった.\r\n",
        "貪欲法的に選ぶ"
      ]
    },
    {
      "cell_type": "code",
      "metadata": {
        "colab": {
          "base_uri": "https://localhost:8080/"
        },
        "id": "0PpqlFSqrc_Z",
        "outputId": "490cd4b3-8159-4f52-c9c6-b45e9967c8dc"
      },
      "source": [
        "x, y, a, b = map(int, input().split())"
      ],
      "execution_count": 26,
      "outputs": [
        {
          "output_type": "stream",
          "text": [
            "4 20 2 10\n"
          ],
          "name": "stdout"
        }
      ]
    },
    {
      "cell_type": "code",
      "metadata": {
        "colab": {
          "base_uri": "https://localhost:8080/"
        },
        "id": "WuNUHG96r6SC",
        "outputId": "90f1cd8d-2570-423a-fc76-5ef3ed2c1849"
      },
      "source": [
        "ans = 0\r\n",
        "while min(a * x, x+b) < y:\r\n",
        "  ans += 1\r\n",
        "  if a * x < x + b:\r\n",
        "    x = a*x\r\n",
        "  elif a * x >= x + b:\r\n",
        "    x += b\r\n",
        "print(ans)"
      ],
      "execution_count": 27,
      "outputs": [
        {
          "output_type": "stream",
          "text": [
            "0\n",
            "1\n",
            "2\n"
          ],
          "name": "stdout"
        }
      ]
    },
    {
      "cell_type": "markdown",
      "metadata": {
        "id": "BEibtvyNuRJJ"
      },
      "source": [
        "## 通う順番は決定できる\r\n",
        "過去問ジム(*a) と Atcoderジム(+b) はどちらを最初に通うべきかというと, 過去問ジムである.\r\n",
        "\r\n",
        "これは指数関数の増加が, 最初は緩やかだが途中から急になることからわかると思う.\r\n",
        "\r\n",
        "よって, 過去問ジムに通える最高回数を計算し, それぞれの回数において, Atcoderジムに通える回数を計算する.\r\n",
        "\r\n",
        "その中で一番経験値が多かったものが答えになる.\r\n",
        "\r\n",
        "過去問ジムに通える最高回数の計算\r\n",
        "$$\r\n",
        "x * a^n < y \\\\\r\n",
        "\r\n",
        "a^n < y/x \\\\\r\n",
        "\r\n",
        "n < \\log_a y/x\r\n",
        "$$\r\n",
        "\r\n",
        "過去問ジムにn回通ったときの, Atcoderジムに通える最高回数k\r\n",
        "$$\r\n",
        "x * a^n + b * k < y \\\\\r\n",
        "b * k < y - x * a^n \\\\\r\n",
        "k < (y-x*a^n) / b\r\n",
        "$$"
      ]
    },
    {
      "cell_type": "code",
      "metadata": {
        "colab": {
          "base_uri": "https://localhost:8080/"
        },
        "id": "XaKnubkjsUXo",
        "outputId": "214e7d6b-646c-4687-b57c-81db7471c3e8"
      },
      "source": [
        "x, y, a, b = map(int, input().split())"
      ],
      "execution_count": 45,
      "outputs": [
        {
          "output_type": "stream",
          "text": [
            "1 1000000000000000000 10 1000000000\n"
          ],
          "name": "stdout"
        }
      ]
    },
    {
      "cell_type": "code",
      "metadata": {
        "colab": {
          "base_uri": "https://localhost:8080/"
        },
        "id": "zcNnnxiZtzBC",
        "outputId": "e109bd0a-1a1c-48c0-a13c-6eed876f1aaa"
      },
      "source": [
        "import math\r\n",
        "ans = 0\r\n",
        "max_kakomon = int(math.log(y/x, a)) \r\n",
        "\r\n",
        "for i in range(max_kakomon + 1):\r\n",
        "  temp = 0\r\n",
        "  temp += i\r\n",
        "  # yは含んじゃだめなので, y-1 であることに注意\r\n",
        "  res = (y-1) - (x * (a ** i))\r\n",
        "  if res > 0:\r\n",
        "    max_atcoder = res // b\r\n",
        "    temp += max_atcoder\r\n",
        "    if ans < temp:\r\n",
        "      ans = temp\r\n",
        "\r\n",
        "print(ans)"
      ],
      "execution_count": 50,
      "outputs": [
        {
          "output_type": "stream",
          "text": [
            "1000000007\n"
          ],
          "name": "stdout"
        }
      ]
    },
    {
      "cell_type": "markdown",
      "metadata": {
        "id": "7tVcgv_7yTZf"
      },
      "source": [
        "## きれいな解答"
      ]
    },
    {
      "cell_type": "code",
      "metadata": {
        "colab": {
          "base_uri": "https://localhost:8080/"
        },
        "id": "usLOazClvwH6",
        "outputId": "6d30046c-9dfa-403f-8eb8-849104fd65da"
      },
      "source": [
        "x, y, a, b = map(int, input().split())\r\n",
        "\r\n",
        "ans = 0\r\n",
        "while a*x <= x + b and a * x < y:\r\n",
        "  x *= a\r\n",
        "  ans += 1\r\n",
        "print(ans + ((y-1-x)//b))"
      ],
      "execution_count": 53,
      "outputs": [
        {
          "output_type": "stream",
          "text": [
            "1 1000000000000000000 10 1000000000\n",
            "9\n",
            "1000000007\n"
          ],
          "name": "stdout"
        }
      ]
    },
    {
      "cell_type": "markdown",
      "metadata": {
        "id": "raivLM83z3si"
      },
      "source": [
        "## おまけ：n^k と k * n の増加の仕方"
      ]
    },
    {
      "cell_type": "code",
      "metadata": {
        "colab": {
          "base_uri": "https://localhost:8080/"
        },
        "id": "jxq0MfQA0FBp",
        "outputId": "9e47f756-4534-4777-a7d3-51b433a5fcfa"
      },
      "source": [
        "x, y, a, b = map(int, input().split())"
      ],
      "execution_count": 2,
      "outputs": [
        {
          "output_type": "stream",
          "text": [
            "4 20 2 10\n"
          ],
          "name": "stdout"
        }
      ]
    },
    {
      "cell_type": "code",
      "metadata": {
        "colab": {
          "base_uri": "https://localhost:8080/",
          "height": 265
        },
        "id": "go_ykMoHzqAd",
        "outputId": "5fcebc70-dc61-4265-ef45-5a745c0b6275"
      },
      "source": [
        "import matplotlib.pyplot as plt\r\n",
        "import numpy as np\r\n",
        "import math\r\n",
        "\r\n",
        "# nはジムに通う回数\r\n",
        "n = np.arange(0, int(math.log(y/x, a)) + 1, 1)\r\n",
        "ex = x * (a ** n)\r\n",
        "\r\n",
        "k = np.arange(0, (y-x)//b + 1, 1)\r\n",
        "ex_k = x + (b * k)\r\n",
        "\r\n",
        "plt.plot(n,ex)\r\n",
        "plt.plot(k, ex_k)\r\n",
        "plt.show()"
      ],
      "execution_count": 9,
      "outputs": [
        {
          "output_type": "display_data",
          "data": {
            "image/png": "[encoded data removed]",
            "text/plain": [
              "<Figure size 432x288 with 1 Axes>"
            ]
          },
          "metadata": {
            "tags": [],
            "needs_background": "light"
          }
        }
      ]
    },
    {
      "cell_type": "code",
      "metadata": {
        "id": "aSJtC9Mn0gvK"
      },
      "source": [
        ""
      ],
      "execution_count": null,
      "outputs": []
    }
  ]
}