{
  "nbformat": 4,
  "nbformat_minor": 0,
  "metadata": {
    "colab": {
      "name": "ABC181.ipynb",
      "provenance": [],
      "authorship_tag": "ABX9TyMZTvGrM6Us5eFa9L4aUWFb",
      "include_colab_link": true
    },
    "kernelspec": {
      "name": "python3",
      "display_name": "Python 3"
    }
  },
  "cells": [
    {
      "cell_type": "markdown",
      "metadata": {
        "id": "view-in-github",
        "colab_type": "text"
      },
      "source": [
        "<a href=\"https://colab.research.google.com/github/Hidestament/AtCoder/blob/main/ABC/ABC181.ipynb\" target=\"_parent\"><img src=\"https://colab.research.google.com/assets/colab-badge.svg\" alt=\"Open In Colab\"/></a>"
      ]
    },
    {
      "cell_type": "markdown",
      "metadata": {
        "id": "xsEGXUCV7EkC"
      },
      "source": [
        "# A - Heavy Rotation\r\n"
      ]
    },
    {
      "cell_type": "code",
      "metadata": {
        "colab": {
          "base_uri": "https://localhost:8080/"
        },
        "id": "RMGsOwaj7C8o",
        "outputId": "9046ed95-1839-4600-a6c5-1e4ce77bcc09"
      },
      "source": [
        "n = int(input())"
      ],
      "execution_count": null,
      "outputs": [
        {
          "output_type": "stream",
          "text": [
            "2\n"
          ],
          "name": "stdout"
        }
      ]
    },
    {
      "cell_type": "code",
      "metadata": {
        "colab": {
          "base_uri": "https://localhost:8080/"
        },
        "id": "2jQuricL7IyF",
        "outputId": "ed82af45-f92e-4842-8ecd-7df866c2a9e9"
      },
      "source": [
        "print(\"White\" if n % 2 == 0 else \"Black\")"
      ],
      "execution_count": null,
      "outputs": [
        {
          "output_type": "stream",
          "text": [
            "White\n"
          ],
          "name": "stdout"
        }
      ]
    },
    {
      "cell_type": "markdown",
      "metadata": {
        "id": "4pZtxW5r7UoT"
      },
      "source": [
        "# B - Trapezoid Sum"
      ]
    },
    {
      "cell_type": "markdown",
      "metadata": {
        "id": "7cuffyEH8HMK"
      },
      "source": [
        "## 愚直に（TLE）"
      ]
    },
    {
      "cell_type": "code",
      "metadata": {
        "colab": {
          "base_uri": "https://localhost:8080/"
        },
        "id": "1efaAhhr7R-k",
        "outputId": "4fd720ba-f408-4af9-fdb0-0e5eed682454"
      },
      "source": [
        "n = int(input())"
      ],
      "execution_count": null,
      "outputs": [
        {
          "output_type": "stream",
          "text": [
            "2\n"
          ],
          "name": "stdout"
        }
      ]
    },
    {
      "cell_type": "code",
      "metadata": {
        "colab": {
          "base_uri": "https://localhost:8080/"
        },
        "id": "Td-AeUtG7j_N",
        "outputId": "541c4e8b-5b49-488c-dda3-c14d0f47e9f1"
      },
      "source": [
        "num = list()\r\n",
        "for _ in range(n):\r\n",
        "  a,b = map(int, input().split())\r\n",
        "  for i in range(a, b+1):\r\n",
        "    num.append(i)"
      ],
      "execution_count": null,
      "outputs": [
        {
          "output_type": "stream",
          "text": [
            "1 3\n",
            "3 5\n"
          ],
          "name": "stdout"
        }
      ]
    },
    {
      "cell_type": "code",
      "metadata": {
        "colab": {
          "base_uri": "https://localhost:8080/"
        },
        "id": "y8v76AJN724F",
        "outputId": "bbf866ce-3395-40b7-f382-0675d764afc0"
      },
      "source": [
        "print(sum(num))"
      ],
      "execution_count": null,
      "outputs": [
        {
          "output_type": "stream",
          "text": [
            "18\n"
          ],
          "name": "stdout"
        }
      ]
    },
    {
      "cell_type": "markdown",
      "metadata": {
        "id": "NlX_BbYn8JHc"
      },
      "source": [
        "## 累積和 （PythonでAC）\r\n",
        "累積和のリストを作っておき, そこから a1 + (a1+1) + ... + b1 を計算すれば良い.\r\n",
        "\r\n",
        "a1 ～ b1 の和は, (b1+1)までの累積和 - (a1までの累積和) で出る\r\n",
        "\r\n",
        "累積和を作るのに$O(n)$かかる\r\n"
      ]
    },
    {
      "cell_type": "code",
      "metadata": {
        "colab": {
          "base_uri": "https://localhost:8080/"
        },
        "id": "CldRqapYDDrJ",
        "outputId": "e3e8610b-36a0-4fec-8989-c07dc7c4cfc4"
      },
      "source": [
        "n = int(input())"
      ],
      "execution_count": null,
      "outputs": [
        {
          "output_type": "stream",
          "text": [
            "3\n"
          ],
          "name": "stdout"
        }
      ]
    },
    {
      "cell_type": "code",
      "metadata": {
        "id": "s-6LhdIElNHe"
      },
      "source": [
        "num = [i for i in range(10**6 + 2)]\r\n",
        "for i in range(len(num)-1):\r\n",
        "  num[i+1] += num[i]  "
      ],
      "execution_count": null,
      "outputs": []
    },
    {
      "cell_type": "code",
      "metadata": {
        "colab": {
          "base_uri": "https://localhost:8080/"
        },
        "id": "KWl4J3tKlp02",
        "outputId": "de31da4f-26ea-4a9d-f753-e25553dfb5d2"
      },
      "source": [
        "ans = 0\r\n",
        "for _ in range(n):\r\n",
        "  a,b = map(int, input().split())\r\n",
        "  ans += num[b] - num[a-1]\r\n",
        "print(ans) "
      ],
      "execution_count": null,
      "outputs": [
        {
          "output_type": "stream",
          "text": [
            "3 5\n",
            "1 2\n",
            "4 6\n",
            "30\n"
          ],
          "name": "stdout"
        }
      ]
    },
    {
      "cell_type": "markdown",
      "metadata": {
        "id": "G3xOT_UGxFOT"
      },
      "source": [
        "## sum n = n(n+1) / 2を利用する\r\n",
        "\r\n",
        "$$\r\n",
        "\\sum_{1}^{n} n = \\frac{n(n+1)}{2}\r\n",
        "$$\r\n",
        "なので, 累積和リストを作らずとも, 以下を計算すれば良い.\r\n",
        "\r\n",
        "(A以上B以下の全ての整数の和) = (1以上B以下の全ての和) - (1以上A-1以下の全ての話)\r\n",
        "$$\r\n",
        "\\frac{B(B+1)}{2} - \\frac{A(A-1)}{2}\r\n",
        "$$"
      ]
    },
    {
      "cell_type": "code",
      "metadata": {
        "id": "aOw1CY4axGuA"
      },
      "source": [
        "n = int(input())\r\n",
        "ans = 0\r\n",
        "for _ in range(n):\r\n",
        "  a,b = map(int, input().split())\r\n",
        "  ans += (b*(b+1) // 2) - (a*(a-1) // 2)\r\n",
        "print(ans)"
      ],
      "execution_count": null,
      "outputs": []
    },
    {
      "cell_type": "markdown",
      "metadata": {
        "id": "uR0iYbIYmMGC"
      },
      "source": [
        "# C - Collinearity\r\n",
        "$N \\leq 10^2 $ より, 3個の点の組み合わせは全列挙できる.\r\n",
        "\r\n",
        "最初に選んだ点を原点(0,0)に移動させることにより, 傾きだけを考えればよくなる.\r\n",
        "\r\n",
        "$y1 / x1 = y2 / x2 $ を計算すれば良いのだが, 0割が怖いので, 両辺$*x1x2$する.\r\n"
      ]
    },
    {
      "cell_type": "code",
      "metadata": {
        "colab": {
          "base_uri": "https://localhost:8080/"
        },
        "id": "LzYndVl1l6Le",
        "outputId": "14e3ffa3-ebfc-4e9c-eeff-2a3d287d401c"
      },
      "source": [
        "n = int(input())\r\n",
        "points = [tuple(map(int, input().split())) for _ in range(n)]"
      ],
      "execution_count": null,
      "outputs": [
        {
          "output_type": "stream",
          "text": [
            "14\n",
            "5 5\n",
            "0 1\n",
            "2 5\n",
            "8 0\n",
            "2 1\n",
            "0 0\n",
            "3 6\n",
            "8 6\n",
            "5 9\n",
            "7 9\n",
            "3 4\n",
            "9 2\n",
            "9 8\n",
            "7 2\n"
          ],
          "name": "stdout"
        }
      ]
    },
    {
      "cell_type": "code",
      "metadata": {
        "colab": {
          "base_uri": "https://localhost:8080/"
        },
        "id": "PyT-hRTXnD3a",
        "outputId": "609a784b-c4b1-48ef-92b1-85f572cf3062"
      },
      "source": [
        "points"
      ],
      "execution_count": null,
      "outputs": [
        {
          "output_type": "execute_result",
          "data": {
            "text/plain": [
              "[(8, 2), (2, 3), (1, 3), (3, 7), (1, 0), (8, 8), (5, 6), (9, 7), (0, 1)]"
            ]
          },
          "metadata": {
            "tags": []
          },
          "execution_count": 40
        }
      ]
    },
    {
      "cell_type": "code",
      "metadata": {
        "id": "YRXwpDYSmuNP"
      },
      "source": [
        "for i in range(n-2):\r\n",
        "  x0,y0 = points[i][0], points[i][1]\r\n",
        "  for j in range(i+1, n-1):\r\n",
        "    x1, y1 = points[j][0], points[j][1]\r\n",
        "    x1 -= x0\r\n",
        "    y1 -= y0\r\n",
        "    for k in range(j+1, n):\r\n",
        "      x2, y2 = points[k][0], points[k][1]\r\n",
        "      x2 -= x0\r\n",
        "      y2 -= y0\r\n",
        "      if x2 * y1 == x1 * y2:\r\n",
        "        print(\"Yes\")\r\n",
        "        exit()\r\n",
        "print(\"No\")"
      ],
      "execution_count": null,
      "outputs": []
    },
    {
      "cell_type": "markdown",
      "metadata": {
        "id": "EFj735usiI-d"
      },
      "source": [
        "# D - Hachi\r\n",
        "8の倍数の判定方法は, 下3桁が8の倍数かどうか確認すれば良い.\r\n",
        "\r\n",
        "3桁の3の倍数は, 112 ~ 1000で判定すれば良い（104も8の倍数だが, 0はないので112からでOK）"
      ]
    },
    {
      "cell_type": "code",
      "metadata": {
        "colab": {
          "base_uri": "https://localhost:8080/"
        },
        "id": "t5lLJ4nxiOcC",
        "outputId": "d26bc00f-3961-41f0-b060-59c89231a252"
      },
      "source": [
        "s = str(input())"
      ],
      "execution_count": 2,
      "outputs": [
        {
          "output_type": "stream",
          "text": [
            "1333\n"
          ],
          "name": "stdout"
        }
      ]
    },
    {
      "cell_type": "code",
      "metadata": {
        "colab": {
          "base_uri": "https://localhost:8080/"
        },
        "id": "UDD1pImEiSjT",
        "outputId": "f9c99f33-3852-4e07-af75-2af74da41001"
      },
      "source": [
        "from collections import Counter\r\n",
        "num_s = Counter(s)\r\n",
        "num_s"
      ],
      "execution_count": 3,
      "outputs": [
        {
          "output_type": "execute_result",
          "data": {
            "text/plain": [
              "Counter({'1': 1, '3': 3})"
            ]
          },
          "metadata": {
            "tags": []
          },
          "execution_count": 3
        }
      ]
    },
    {
      "cell_type": "code",
      "metadata": {
        "colab": {
          "base_uri": "https://localhost:8080/"
        },
        "id": "3dw6mbbXiY10",
        "outputId": "4f2201ce-ae73-4811-a5c3-f23b0c0b3a1b"
      },
      "source": [
        "for i in range(112, 1000, 8):\r\n",
        "  temp = Counter(str(i)) - num_s\r\n",
        "  if not temp:\r\n",
        "    print(\"Yes\")\r\n",
        "    exit()\r\n",
        "print(\"No\")"
      ],
      "execution_count": 5,
      "outputs": [
        {
          "output_type": "stream",
          "text": [
            "No\n"
          ],
          "name": "stdout"
        }
      ]
    },
    {
      "cell_type": "markdown",
      "metadata": {
        "id": "QZ3zBRcnkSxc"
      },
      "source": [
        "sの長さが1 or 2のときは別途処理が必要."
      ]
    },
    {
      "cell_type": "code",
      "metadata": {
        "id": "PDs12ty0ktnw"
      },
      "source": [
        "from collections import Counter\r\n",
        "s = str(input())"
      ],
      "execution_count": null,
      "outputs": []
    },
    {
      "cell_type": "code",
      "metadata": {
        "id": "6G_9hHPfji0E"
      },
      "source": [
        "if len(s) == 1:\r\n",
        "  print(\"Yes\" if int(s) % 8 == 0 else \"No\")\r\n",
        "elif len(s) == 2:\r\n",
        "  print(\"Yes\" if int(s) % 8 == 0 or int(s[::-1]) % 8 == 0 else \"No\")\r\n",
        "else:\r\n",
        "  num_s = Counter(s)\r\n",
        "  \r\n",
        "  for i in range(112, 1000, 8):\r\n",
        "    temp = Counter(str(i)) - num_s\r\n",
        "    if not temp:\r\n",
        "      print(\"Yes\")\r\n",
        "      exit()\r\n",
        "  print(\"No\")"
      ],
      "execution_count": null,
      "outputs": []
    }
  ]
}