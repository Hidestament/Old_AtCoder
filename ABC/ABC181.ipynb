{
  "nbformat": 4,
  "nbformat_minor": 0,
  "metadata": {
    "colab": {
      "name": "ABC181.ipynb",
      "provenance": [],
      "collapsed_sections": [],
      "authorship_tag": "ABX9TyNkXpBo2BE4U3udl6hK+Nn1",
      "include_colab_link": true
    },
    "kernelspec": {
      "name": "python3",
      "display_name": "Python 3"
    },
    "language_info": {
      "name": "python"
    }
  },
  "cells": [
    {
      "cell_type": "markdown",
      "metadata": {
        "id": "view-in-github",
        "colab_type": "text"
      },
      "source": [
        "<a href=\"https://colab.research.google.com/github/Hidestament/AtCoder/blob/main/ABC/ABC181.ipynb\" target=\"_parent\"><img src=\"https://colab.research.google.com/assets/colab-badge.svg\" alt=\"Open In Colab\"/></a>"
      ]
    },
    {
      "cell_type": "markdown",
      "source": [
        "# [AtCoder Beginner Contest 181](https://atcoder.jp/contests/abc181)"
      ],
      "metadata": {
        "id": "XtVLM5JfmX2w"
      }
    },
    {
      "cell_type": "markdown",
      "source": [
        "## [A - Heavy Rotation](https://atcoder.jp/contests/abc181/tasks/abc181_a)"
      ],
      "metadata": {
        "id": "7iNKKa67mabi"
      }
    },
    {
      "cell_type": "code",
      "execution_count": null,
      "metadata": {
        "colab": {
          "base_uri": "https://localhost:8080/"
        },
        "id": "VbPed8t6mWG0",
        "outputId": "8905224e-05a7-4e78-ed21-e2a5be0b934b"
      },
      "outputs": [
        {
          "output_type": "stream",
          "name": "stdout",
          "text": [
            "2\n",
            "White\n"
          ]
        }
      ],
      "source": [
        "N = int(input())\n",
        "now = 0\n",
        "cnt = 0\n",
        "while True:\n",
        "    now = not now\n",
        "    cnt += 1\n",
        "    if cnt == N:\n",
        "        print(\"White\" if now == 0 else \"Black\")\n",
        "        break"
      ]
    },
    {
      "cell_type": "markdown",
      "source": [
        "こっちのほうが簡潔"
      ],
      "metadata": {
        "id": "Ii56mnD6m3GP"
      }
    },
    {
      "cell_type": "code",
      "source": [
        "N = int(input())\n",
        "print(\"White\" if N % 2 == 0 else \"Black\")"
      ],
      "metadata": {
        "id": "7Obgg4Z3m3Tl"
      },
      "execution_count": null,
      "outputs": []
    },
    {
      "cell_type": "markdown",
      "source": [
        "## [B - Trapezoid Sum](https://atcoder.jp/contests/abc181/tasks/abc181_b)"
      ],
      "metadata": {
        "id": "Q850WNwcmxir"
      }
    },
    {
      "cell_type": "markdown",
      "source": [
        "### imos法を使う"
      ],
      "metadata": {
        "id": "0dCPUtgtoCi9"
      }
    },
    {
      "cell_type": "code",
      "source": [
        "from itertools import accumulate\n",
        "N = int(input())\n",
        "imos = [0] * 10**7\n",
        "for _ in range(N):\n",
        "    a, b = map(int, input().split())\n",
        "    imos[a] += 1\n",
        "    imos[b+1] -= 1"
      ],
      "metadata": {
        "colab": {
          "base_uri": "https://localhost:8080/"
        },
        "id": "ryDH5wLjmqeX",
        "outputId": "95e38049-efb2-4afd-8a6c-cd26c5d41538"
      },
      "execution_count": null,
      "outputs": [
        {
          "name": "stdout",
          "output_type": "stream",
          "text": [
            "2\n",
            "1 3\n",
            "3 5\n"
          ]
        }
      ]
    },
    {
      "cell_type": "code",
      "source": [
        "imos = list(accumulate(imos))\n",
        "s = 0\n",
        "for i in range(len(imos)):\n",
        "    s += i * imos[i]\n",
        "print(s)"
      ],
      "metadata": {
        "colab": {
          "base_uri": "https://localhost:8080/"
        },
        "id": "UhPtIsqMnYCR",
        "outputId": "926278a9-c349-40ae-8728-0115ec78052e"
      },
      "execution_count": null,
      "outputs": [
        {
          "output_type": "stream",
          "name": "stdout",
          "text": [
            "18\n"
          ]
        }
      ]
    },
    {
      "cell_type": "markdown",
      "source": [
        "### シグマの公式を使う方法"
      ],
      "metadata": {
        "id": "YFSDXZz7oCIi"
      }
    },
    {
      "cell_type": "code",
      "source": [
        "N = int(input())\n",
        "s = 0\n",
        "for _ in range(N):\n",
        "    a, b = map(int, input().split())\n",
        "    s += (b * (b+1))//2 - (a * (a-1))//2\n",
        "print(s)"
      ],
      "metadata": {
        "colab": {
          "base_uri": "https://localhost:8080/"
        },
        "id": "-VBAYW7RoCUP",
        "outputId": "ad57519e-9cf7-4b55-ae00-8d4212d33b9c"
      },
      "execution_count": null,
      "outputs": [
        {
          "output_type": "stream",
          "name": "stdout",
          "text": [
            "2\n",
            "1 3\n",
            "3 5\n",
            "18\n"
          ]
        }
      ]
    },
    {
      "cell_type": "markdown",
      "source": [
        "## [C - Collinearity](https://atcoder.jp/contests/abc181/tasks/abc181_c)"
      ],
      "metadata": {
        "id": "OM9anJPOni7b"
      }
    },
    {
      "cell_type": "code",
      "source": [
        "N = int(input())\n",
        "points = []\n",
        "for _ in range(N):\n",
        "    x, y = map(int, input().split())\n",
        "    points.append((x, y))"
      ],
      "metadata": {
        "id": "Eeye6lWKne0p"
      },
      "execution_count": null,
      "outputs": []
    },
    {
      "cell_type": "code",
      "source": [
        "flag = False\n",
        "for i in range(N-2):\n",
        "    x1, y1 = points[i]\n",
        "    for j in range(i+1, N-1):\n",
        "        x2, y2 = points[j]\n",
        "        for k in range(j+1, N):\n",
        "            x3, y3 = points[k]\n",
        "            \n",
        "            dx1 = x2 - x1\n",
        "            dx2 = x3 - x1\n",
        "            dy1 = y2 - y1\n",
        "            dy2 = y3 - y1\n",
        "            if dx2 * dy1 == dx1 * dy2:\n",
        "                flag = True\n",
        "                break\n",
        "print(\"Yes\" if flag else \"No\")"
      ],
      "metadata": {
        "id": "tF1lisaMpWkN"
      },
      "execution_count": null,
      "outputs": []
    },
    {
      "cell_type": "markdown",
      "source": [
        "## [D - Hachi](https://atcoder.jp/contests/abc181/tasks/abc181_d)"
      ],
      "metadata": {
        "id": "50CzTo4Ep_eF"
      }
    },
    {
      "cell_type": "code",
      "source": [
        "from collections import Counter\n",
        "from itertools import permutations"
      ],
      "metadata": {
        "id": "hevRoU2NLZLy"
      },
      "execution_count": null,
      "outputs": []
    },
    {
      "cell_type": "code",
      "source": [
        "S = str(input())\n",
        "cnt = Counter(S)"
      ],
      "metadata": {
        "id": "1CNPDeAkLZGL"
      },
      "execution_count": null,
      "outputs": []
    },
    {
      "cell_type": "code",
      "source": [
        "# Sの長さが3以下のときはめんどくさいので全列挙する\n",
        "flag = False\n",
        "if len(S) <= 3:\n",
        "    for per in permutations(S):\n",
        "        now = int(\"\".join(per))\n",
        "        if now % 8 == 0:\n",
        "            flag = True\n",
        "            break\n",
        "else:\n",
        "    eight = set()\n",
        "    for i in range(104, 1000, 8):\n",
        "        now = str(i)\n",
        "        if all(cnt[now[i]] >= now.count(now[i]) for i in range(3)):\n",
        "            flag = True\n",
        "            break"
      ],
      "metadata": {
        "id": "zfhUFrWMLZDj"
      },
      "execution_count": null,
      "outputs": []
    },
    {
      "cell_type": "code",
      "source": [
        "print(\"Yes\" if flag else \"No\")"
      ],
      "metadata": {
        "id": "SRttya0DLYvO"
      },
      "execution_count": null,
      "outputs": []
    },
    {
      "cell_type": "markdown",
      "source": [
        "## [E - Transformable Teacher](https://atcoder.jp/contests/abc181/tasks/abc181_e)"
      ],
      "metadata": {
        "id": "I7Wbz89tr-pF"
      }
    },
    {
      "cell_type": "markdown",
      "source": [
        "### 一生懸命実装する\n",
        "どの生徒を先生とマッチさせるかを全探索する. このときの先生の最適な身長は二分探索で高速に求める.\n",
        "\n",
        "次の生徒を考えるときに, 差分のみを計算することにより高速に頑張って求める."
      ],
      "metadata": {
        "id": "HZOrjgaMVksw"
      }
    },
    {
      "cell_type": "code",
      "source": [
        "from bisect import bisect_left\n",
        "N, M = map(int, input().split())\n",
        "H = list(map(int, input().split()))\n",
        "W = list(map(int, input().split()))"
      ],
      "metadata": {
        "id": "kG_RaUbGOs1D",
        "colab": {
          "base_uri": "https://localhost:8080/"
        },
        "outputId": "e63dfc46-c39c-4f0d-899e-c2efea6359ea"
      },
      "execution_count": null,
      "outputs": [
        {
          "name": "stdout",
          "output_type": "stream",
          "text": [
            "5 3\n",
            "1 2 3 4 7\n",
            "1 3 8\n"
          ]
        }
      ]
    },
    {
      "cell_type": "code",
      "source": [
        "H.sort()\n",
        "W.sort()"
      ],
      "metadata": {
        "id": "M6iX7ly8Osyr"
      },
      "execution_count": null,
      "outputs": []
    },
    {
      "cell_type": "code",
      "source": [
        "# 番兵入れると計算しやすい\n",
        "W = [-10**15] + W + [10**15]"
      ],
      "metadata": {
        "id": "SIPnKaIGOswI"
      },
      "execution_count": null,
      "outputs": []
    },
    {
      "cell_type": "code",
      "source": [
        "# 最初の１回は別で軽s擦る\n",
        "s = sum(abs(H[i] - H[i+1]) for i in range(1, N, 2))\n",
        "ind = bisect_left(W, H[0])\n",
        "ans = s + min(abs(H[0] - W[ind]), abs(H[0] - W[ind-1]))"
      ],
      "metadata": {
        "id": "3VDJYvaRRqNp"
      },
      "execution_count": null,
      "outputs": []
    },
    {
      "cell_type": "code",
      "source": [
        "for i in range(1, N):\n",
        "    now = H[i]\n",
        "    if i % 2 == 1:\n",
        "        s -= abs(H[i] - H[i+1])\n",
        "        s += abs(H[i-1] - H[i+1])\n",
        "    else:\n",
        "        s -= abs(H[i] - H[i-2])\n",
        "        s += abs(H[i-1] - H[i-2])\n",
        "    ind = bisect_left(W, now)\n",
        "    temp = min(abs(now - W[ind]), abs(now - W[ind-1]))\n",
        "    ans = min(s + temp, ans)"
      ],
      "metadata": {
        "colab": {
          "base_uri": "https://localhost:8080/"
        },
        "id": "gJ6SFfTyUVIi",
        "outputId": "a52ff2d9-185d-4c05-b627-b9fb99811c49"
      },
      "execution_count": null,
      "outputs": [
        {
          "output_type": "stream",
          "name": "stdout",
          "text": [
            "5 1 4 2\n",
            "4 0 5 3\n",
            "5 1 5 4\n",
            "2 1 5 7\n"
          ]
        }
      ]
    },
    {
      "cell_type": "code",
      "source": [
        "print(ans)"
      ],
      "metadata": {
        "colab": {
          "base_uri": "https://localhost:8080/"
        },
        "id": "D8bC0hk5RaBP",
        "outputId": "6d8e7699-fac8-414c-8494-78a9b66993e6"
      },
      "execution_count": null,
      "outputs": [
        {
          "output_type": "stream",
          "name": "stdout",
          "text": [
            "4\n"
          ]
        }
      ]
    },
    {
      "cell_type": "markdown",
      "source": [
        "### 左右からの累積和を事前に計算する方法"
      ],
      "metadata": {
        "id": "FS_NbvvO2SvR"
      }
    },
    {
      "cell_type": "code",
      "source": [
        "from itertools import accumulate\n",
        "from bisect import bisect_left"
      ],
      "metadata": {
        "id": "5DyqgwJyZn0l"
      },
      "execution_count": 33,
      "outputs": []
    },
    {
      "cell_type": "code",
      "source": [
        "N, M = map(int, input().split())\n",
        "H = list(map(int, input().split()))\n",
        "W = list(map(int, input().split()))\n",
        "H.sort()\n",
        "W.sort()"
      ],
      "metadata": {
        "colab": {
          "base_uri": "https://localhost:8080/"
        },
        "id": "XtqYIte3Znx6",
        "outputId": "00ba6c78-199a-464f-cf24-cf25b7175ef6"
      },
      "execution_count": 34,
      "outputs": [
        {
          "name": "stdout",
          "output_type": "stream",
          "text": [
            "5 3\n",
            "1 2 3 4 7\n",
            "1 3 8\n"
          ]
        }
      ]
    },
    {
      "cell_type": "code",
      "source": [
        "# 番兵入れると計算しやすい\n",
        "W = [-10**15] + W + [10**15]"
      ],
      "metadata": {
        "id": "8Ot3d1TCZnvN"
      },
      "execution_count": 35,
      "outputs": []
    },
    {
      "cell_type": "code",
      "source": [
        "left = [0] * N\n",
        "for i in range(1, N):\n",
        "    if i % 2 == 1:\n",
        "        left[i] = left[i-1]\n",
        "    else:\n",
        "        left[i] = left[i-1] + abs(H[i-2] - H[i-1])\n",
        "    \n",
        "right = [0] * N\n",
        "rH = H[::-1]\n",
        "for i in range(1, N):\n",
        "    if i % 2 == 1:\n",
        "        right[i] = right[i-1]\n",
        "    else:\n",
        "        right[i] = right[i-1] + abs(rH[i-2] - rH[i-1])\n",
        "right = right[::-1]"
      ],
      "metadata": {
        "id": "VAsNx8OLZnsb"
      },
      "execution_count": 40,
      "outputs": []
    },
    {
      "cell_type": "code",
      "source": [
        "ans = 10**15\n",
        "for i, h in enumerate(H):\n",
        "    s = left[i] + right[i]\n",
        "    if i % 2 == 1:\n",
        "        s += abs(H[i+1] - H[i-1])\n",
        "    ind = bisect_left(W, H[i])\n",
        "    s += min(abs(H[i] - W[ind]), abs(H[i] - W[ind-1]))\n",
        "    ans = min(s, ans)\n",
        "print(ans)"
      ],
      "metadata": {
        "id": "5wiQB3q7Znpq"
      },
      "execution_count": null,
      "outputs": []
    }
  ]
}