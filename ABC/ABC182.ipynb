{
  "nbformat": 4,
  "nbformat_minor": 0,
  "metadata": {
    "colab": {
      "name": "ABC182.ipynb",
      "provenance": [],
      "collapsed_sections": [],
      "authorship_tag": "ABX9TyOhDI0iOBn9YhKhB2AmHmzW",
      "include_colab_link": true
    },
    "kernelspec": {
      "name": "python3",
      "display_name": "Python 3"
    },
    "language_info": {
      "name": "python"
    }
  },
  "cells": [
    {
      "cell_type": "markdown",
      "metadata": {
        "id": "view-in-github",
        "colab_type": "text"
      },
      "source": [
        "<a href=\"https://colab.research.google.com/github/Hidestament/AtCoder/blob/main/ABC/ABC182.ipynb\" target=\"_parent\"><img src=\"https://colab.research.google.com/assets/colab-badge.svg\" alt=\"Open In Colab\"/></a>"
      ]
    },
    {
      "cell_type": "markdown",
      "source": [
        "# [AtCoder Beginner Contest 182](https://atcoder.jp/contests/abc182)"
      ],
      "metadata": {
        "id": "drE7ff3TViNN"
      }
    },
    {
      "cell_type": "markdown",
      "source": [
        "## [A - twiblr](https://atcoder.jp/contests/abc182/tasks/abc182_a)"
      ],
      "metadata": {
        "id": "ws2_eCFjVkiB"
      }
    },
    {
      "cell_type": "code",
      "execution_count": null,
      "metadata": {
        "colab": {
          "base_uri": "https://localhost:8080/"
        },
        "id": "kV3ZWP-1VdHb",
        "outputId": "b8a6e960-c833-4962-8126-5f227564a90f"
      },
      "outputs": [
        {
          "output_type": "stream",
          "name": "stdout",
          "text": [
            "200 300\n",
            "200\n"
          ]
        }
      ],
      "source": [
        "A, B = map(int, input().split())\n",
        "print(2 * A + 100 - B)"
      ]
    },
    {
      "cell_type": "markdown",
      "source": [
        "## [B - Almost GCD](https://atcoder.jp/contests/abc182/tasks/abc182_b)"
      ],
      "metadata": {
        "id": "3E8bpmY8V0MU"
      }
    },
    {
      "cell_type": "code",
      "source": [
        "N = int(input())\n",
        "A = list(map(int, input().split()))"
      ],
      "metadata": {
        "id": "678EEMnwVwXs"
      },
      "execution_count": null,
      "outputs": []
    },
    {
      "cell_type": "code",
      "source": [
        "max_cnt = 0\n",
        "ans = -1\n",
        "for k in range(2, max(A) + 1):\n",
        "    cnt = 0\n",
        "    for a in A:\n",
        "        if a % k == 0:\n",
        "            cnt += 1\n",
        "    if max_cnt <= cnt:\n",
        "        max_cnt = cnt\n",
        "        ans = k\n",
        "print(ans)"
      ],
      "metadata": {
        "id": "TbZlGs7rWZ89"
      },
      "execution_count": null,
      "outputs": []
    },
    {
      "cell_type": "markdown",
      "source": [
        "## [C - To 3](https://atcoder.jp/contests/abc182/tasks/abc182_c)"
      ],
      "metadata": {
        "id": "GG1wcIxNXI64"
      }
    },
    {
      "cell_type": "markdown",
      "source": [
        "### `itertools.product`を使う"
      ],
      "metadata": {
        "id": "Wh2Wf2UOZE_u"
      }
    },
    {
      "cell_type": "code",
      "source": [
        "N = list(str(input()))\n",
        "digits = len(N)"
      ],
      "metadata": {
        "colab": {
          "base_uri": "https://localhost:8080/"
        },
        "id": "92vhCVtjXbbX",
        "outputId": "4f82cee0-2205-41b8-88aa-6babfc16d36c"
      },
      "execution_count": null,
      "outputs": [
        {
          "name": "stdout",
          "output_type": "stream",
          "text": [
            "369\n"
          ]
        }
      ]
    },
    {
      "cell_type": "code",
      "source": [
        "from itertools import product\n",
        "ans = 10**10\n",
        "for bits in product([0,1], repeat=digits):\n",
        "    if all(a == 0 for a in bits): continue\n",
        "    \n",
        "    temp = 0\n",
        "    for i in range(digits):\n",
        "        if bits[i] == 1:\n",
        "            temp += int(N[i])\n",
        "    if temp % 3 == 0:\n",
        "        ans = min(ans, digits - sum(bits))"
      ],
      "metadata": {
        "id": "1qTgWHF9Xsuk"
      },
      "execution_count": null,
      "outputs": []
    },
    {
      "cell_type": "code",
      "source": [
        "print(ans if ans < 10**10 else -1)"
      ],
      "metadata": {
        "colab": {
          "base_uri": "https://localhost:8080/"
        },
        "id": "HzXqsCogYFs6",
        "outputId": "3fed1caf-1e7b-4c54-88bf-8bf65403c986"
      },
      "execution_count": null,
      "outputs": [
        {
          "output_type": "stream",
          "name": "stdout",
          "text": [
            "0\n"
          ]
        }
      ]
    },
    {
      "cell_type": "markdown",
      "source": [
        "### bit全探索でやる"
      ],
      "metadata": {
        "id": "5rolkVewZIfp"
      }
    },
    {
      "cell_type": "code",
      "source": [
        "N = list(str(input()))\n",
        "digits = len(N)\n",
        "ans = 10**10"
      ],
      "metadata": {
        "id": "YSQBuKZYZJ2M"
      },
      "execution_count": null,
      "outputs": []
    },
    {
      "cell_type": "code",
      "source": [
        "for bits in range(2 << digits):\n",
        "    s = 0\n",
        "    cnt = 0\n",
        "    for i in range(digits):\n",
        "        if (bits >> i) & 1:\n",
        "            s += int(N[i])\n",
        "            cnt += 1\n",
        "    if s == 0: continue\n",
        "    if s % 3 == 0:\n",
        "        ans = min(ans, digits - cnt)\n",
        "print(ans if ans < 10**10 else -1)"
      ],
      "metadata": {
        "id": "eeBZw7PdZJzs"
      },
      "execution_count": null,
      "outputs": []
    },
    {
      "cell_type": "markdown",
      "source": [
        "### 3の倍数の特性に着目した解法"
      ],
      "metadata": {
        "id": "IM2M0EcOZCP8"
      }
    },
    {
      "cell_type": "code",
      "source": [
        "from collections import defaultdict\n",
        "N = list(str(input()))\n",
        "cnt = defaultdict(int)\n",
        "s = 0\n",
        "for n in N:\n",
        "    s += int(n)\n",
        "    cnt[int(n) % 3] += 1"
      ],
      "metadata": {
        "colab": {
          "base_uri": "https://localhost:8080/"
        },
        "id": "lH3OVjiQYf_e",
        "outputId": "f2365b00-a5d9-4dd1-8d18-056dbedf737c"
      },
      "execution_count": null,
      "outputs": [
        {
          "name": "stdout",
          "output_type": "stream",
          "text": [
            "35\n"
          ]
        }
      ]
    },
    {
      "cell_type": "code",
      "source": [
        "if s % 3 == 0:\n",
        "    print(0)\n",
        "elif s % 3 == 1:\n",
        "    if len(N) == 1:\n",
        "        print(-1)\n",
        "    elif cnt[1] > 0:\n",
        "        print(1)\n",
        "    elif len(N) == 2:\n",
        "        print(-1)\n",
        "    elif cnt[2] > 1:\n",
        "        print(2)\n",
        "    else:\n",
        "        print(-1)\n",
        "else:\n",
        "    if len(N) == 1:\n",
        "        print(-1)\n",
        "    elif cnt[2] > 0:\n",
        "        print(1)\n",
        "    elif len(N) == 2:\n",
        "        print(-1)\n",
        "    elif cnt[1] > 1:\n",
        "        print(2)\n",
        "    else:\n",
        "        print(-1)"
      ],
      "metadata": {
        "colab": {
          "base_uri": "https://localhost:8080/"
        },
        "id": "I0W-9C5Man-N",
        "outputId": "de08fcb1-1f56-4d3f-e222-d720bd3ad520"
      },
      "execution_count": null,
      "outputs": [
        {
          "output_type": "execute_result",
          "data": {
            "text/plain": [
              "defaultdict(int, {0: 1, 2: 1})"
            ]
          },
          "metadata": {},
          "execution_count": 18
        }
      ]
    },
    {
      "cell_type": "markdown",
      "source": [
        "## [D - Wandering](https://atcoder.jp/contests/abc182/tasks/abc182_d)"
      ],
      "metadata": {
        "id": "EMOsdOxZbmrV"
      }
    },
    {
      "cell_type": "code",
      "source": [
        "N = int(input())\n",
        "A = list(map(int, input().split()))"
      ],
      "metadata": {
        "colab": {
          "base_uri": "https://localhost:8080/"
        },
        "id": "D-0lz1r_aqiU",
        "outputId": "ea61e0de-a56c-46b2-9f5a-ce29b80300d1"
      },
      "execution_count": null,
      "outputs": [
        {
          "name": "stdout",
          "output_type": "stream",
          "text": [
            "5\n",
            "-2 1 3 -1 -1\n"
          ]
        }
      ]
    },
    {
      "cell_type": "code",
      "source": [
        "# k回目の移動における位置\n",
        "P = [0] * (N+1)\n",
        "# k回目の移動までの, 一番右まで進む移動\n",
        "max_move = [-10**10] * (N+1)\n",
        "s = 0\n",
        "for i in range(1, N+1):\n",
        "    s += A[i-1]\n",
        "    max_move[i] = max(max_move[i-1], s)\n",
        "    P[i] = P[i-1] + s"
      ],
      "metadata": {
        "id": "RP-yo-GrcUJX"
      },
      "execution_count": null,
      "outputs": []
    },
    {
      "cell_type": "code",
      "source": [
        "ans = 0\n",
        "for i in range(N):\n",
        "    ans = max(ans, P[i] + max_move[i+1])"
      ],
      "metadata": {
        "id": "enIQpt8Wd4kp"
      },
      "execution_count": null,
      "outputs": []
    },
    {
      "cell_type": "code",
      "source": [
        "print(ans)"
      ],
      "metadata": {
        "colab": {
          "base_uri": "https://localhost:8080/"
        },
        "id": "BbtILGuzd43i",
        "outputId": "50792408-df41-47b0-f37f-914396f105cd"
      },
      "execution_count": null,
      "outputs": [
        {
          "output_type": "stream",
          "name": "stdout",
          "text": [
            "2\n"
          ]
        }
      ]
    },
    {
      "cell_type": "markdown",
      "source": [
        "## [E - Akari](https://atcoder.jp/contests/abc182/tasks/abc182_e)"
      ],
      "metadata": {
        "id": "SyXp6RZwecGx"
      }
    },
    {
      "cell_type": "markdown",
      "source": [
        "- 左から照らされているか\n",
        "- 右から照らされているか\n",
        "- 上から照らされているか\n",
        "- 下から照らされているか\n",
        "\n",
        "を記録して, どれか一つからでも照らされてたらそのマスは照らされている"
      ],
      "metadata": {
        "id": "LNlHK90ul_Rj"
      }
    },
    {
      "cell_type": "code",
      "source": [
        "H, W, N, M = map(int, input().split())\n",
        "grid = [[0] * W for _ in range(H)]\n",
        "for _ in range(N):\n",
        "    a, b = map(int, input().split())\n",
        "    grid[a-1][b-1] = 1\n",
        "for _ in range(M):\n",
        "    c, d = map(int, input().split())\n",
        "    grid[c-1][d-1] = -1"
      ],
      "metadata": {
        "colab": {
          "base_uri": "https://localhost:8080/"
        },
        "id": "Jo7fDzVBeWk8",
        "outputId": "3fc5158d-5d0b-4e96-cd4b-e1ebe6b0d144"
      },
      "execution_count": null,
      "outputs": [
        {
          "name": "stdout",
          "output_type": "stream",
          "text": [
            "3 3 2 1\n",
            "1 1\n",
            "2 3\n",
            "2 2\n"
          ]
        }
      ]
    },
    {
      "cell_type": "code",
      "source": [
        "L = [[0] * W for _ in range(H)]\n",
        "R = [[0] * W for _ in range(H)]\n",
        "U = [[0] * W for _ in range(H)]\n",
        "D = [[0] * W for _ in range(H)]"
      ],
      "metadata": {
        "id": "ISg8SZDeiKB2"
      },
      "execution_count": null,
      "outputs": []
    },
    {
      "cell_type": "code",
      "source": [
        "for h in range(H):\n",
        "    flag = 0\n",
        "    for w in range(W):\n",
        "        if grid[h][w] == 1:\n",
        "            flag = 1\n",
        "        if grid[h][w] == -1:\n",
        "            flag = 0\n",
        "        L[h][w] = flag\n",
        "\n",
        "for h in range(H):\n",
        "    flag = 0\n",
        "    for w in range(W)[::-1]:\n",
        "        if grid[h][w] == 1:\n",
        "            flag = 1\n",
        "        if grid[h][w] == -1:\n",
        "            flag = 0\n",
        "        R[h][w] = flag\n",
        "\n",
        "for w in range(W):\n",
        "    flag = 0\n",
        "    for h in range(H):\n",
        "        if grid[h][w] == 1:\n",
        "            flag = 1\n",
        "        if grid[h][w] == -1:\n",
        "            flag = 0\n",
        "        D[h][w] = flag\n",
        "\n",
        "for w in range(W):\n",
        "    flag = 0\n",
        "    for h in range(H)[::-1]:\n",
        "        if grid[h][w] == 1:\n",
        "            flag = 1\n",
        "        if grid[h][w] == -1:\n",
        "            flag = 0\n",
        "        U[h][w] = flag"
      ],
      "metadata": {
        "id": "Z8UnUQnoh3vh"
      },
      "execution_count": null,
      "outputs": []
    },
    {
      "cell_type": "code",
      "source": [
        "cnt = 0\n",
        "for h in range(H):\n",
        "    for w in range(W):\n",
        "        cnt += L[h][w] | R[h][w] | U[h][w] | D[h][w]\n",
        "print(cnt)"
      ],
      "metadata": {
        "colab": {
          "base_uri": "https://localhost:8080/"
        },
        "id": "U6ooNHBfjPkX",
        "outputId": "84a40e4a-684a-4b6a-907a-5df8cfc70433"
      },
      "execution_count": null,
      "outputs": [
        {
          "output_type": "stream",
          "name": "stdout",
          "text": [
            "7\n"
          ]
        }
      ]
    },
    {
      "cell_type": "code",
      "source": [
        ""
      ],
      "metadata": {
        "id": "2V8ciLnMjoLc"
      },
      "execution_count": null,
      "outputs": []
    }
  ]
}