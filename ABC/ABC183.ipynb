{
  "nbformat": 4,
  "nbformat_minor": 0,
  "metadata": {
    "colab": {
      "name": "ABC183.ipynb",
      "provenance": [],
      "collapsed_sections": [],
      "authorship_tag": "ABX9TyMk1TMVpC9vWiYPcDW9LfS0",
      "include_colab_link": true
    },
    "kernelspec": {
      "name": "python3",
      "display_name": "Python 3"
    },
    "language_info": {
      "name": "python"
    }
  },
  "cells": [
    {
      "cell_type": "markdown",
      "metadata": {
        "id": "view-in-github",
        "colab_type": "text"
      },
      "source": [
        "<a href=\"https://colab.research.google.com/github/Hidestament/AtCoder/blob/main/ABC/ABC183.ipynb\" target=\"_parent\"><img src=\"https://colab.research.google.com/assets/colab-badge.svg\" alt=\"Open In Colab\"/></a>"
      ]
    },
    {
      "cell_type": "markdown",
      "source": [
        "# [AtCoder Beginner Contest 183](https://atcoder.jp/contests/abc183)"
      ],
      "metadata": {
        "id": "-qJTEkyZ02AT"
      }
    },
    {
      "cell_type": "markdown",
      "source": [
        "## [A - ReLU](https://atcoder.jp/contests/abc183/tasks/abc183_a)"
      ],
      "metadata": {
        "id": "fyalKc4l04A_"
      }
    },
    {
      "cell_type": "code",
      "execution_count": null,
      "metadata": {
        "id": "4WuLo1Eq00zS"
      },
      "outputs": [],
      "source": [
        "x = int(input())\n",
        "print(x if x >= 0 else 0)"
      ]
    },
    {
      "cell_type": "markdown",
      "source": [
        "## [B - Billiards](https://atcoder.jp/contests/abc183/tasks/abc183_b)"
      ],
      "metadata": {
        "id": "iUQfysZ81A1F"
      }
    },
    {
      "cell_type": "code",
      "source": [
        "Sx, Sy, Gx, Gy = map(int, input().split())"
      ],
      "metadata": {
        "colab": {
          "base_uri": "https://localhost:8080/"
        },
        "id": "6qIaLcXn1FcY",
        "outputId": "a1acd98a-bfb4-4f3c-b6a7-32d5de942f8e"
      },
      "execution_count": null,
      "outputs": [
        {
          "name": "stdout",
          "output_type": "stream",
          "text": [
            "1 1 7 2\n"
          ]
        }
      ]
    },
    {
      "cell_type": "code",
      "source": [
        "a = (-1 * Gy - Sy) / (Gx - Sx)\n",
        "print(-Sy / a + Sx)"
      ],
      "metadata": {
        "colab": {
          "base_uri": "https://localhost:8080/"
        },
        "id": "T1awy2f32Yc9",
        "outputId": "765994e2-e4c2-49e2-a77e-0abef57f90e6"
      },
      "execution_count": null,
      "outputs": [
        {
          "output_type": "stream",
          "name": "stdout",
          "text": [
            "3.0\n"
          ]
        }
      ]
    },
    {
      "cell_type": "markdown",
      "source": [
        "## [C - Travel](https://atcoder.jp/contests/abc183/tasks/abc183_c)"
      ],
      "metadata": {
        "id": "tRnd7dxn3DPS"
      }
    },
    {
      "cell_type": "code",
      "source": [
        "N, K = map(int, input().split())\n",
        "T = [list(map(int, input().split())) for _ in range(N)]"
      ],
      "metadata": {
        "colab": {
          "base_uri": "https://localhost:8080/"
        },
        "id": "LvSwEEDh2ky5",
        "outputId": "d228ce0a-4de9-464f-bd3e-3a9892c77b5c"
      },
      "execution_count": null,
      "outputs": [
        {
          "name": "stdout",
          "output_type": "stream",
          "text": [
            "4 330\n",
            "0 1 10 100\n",
            "1 0 20 200\n",
            "10 20 0 300\n",
            "100 200 300 0\n"
          ]
        }
      ]
    },
    {
      "cell_type": "code",
      "source": [
        "from itertools import permutations\n",
        "ans = 0\n",
        "for bits in permutations(range(1, N)):\n",
        "    dist = T[0][bits[0]] + T[bits[-1]][0]\n",
        "    for i in range(len(bits) - 1):\n",
        "        dist += T[bits[i]][bits[(i+1)]]\n",
        "    if dist == K:\n",
        "        ans += 1"
      ],
      "metadata": {
        "colab": {
          "base_uri": "https://localhost:8080/"
        },
        "id": "ND4wqk_z3v4W",
        "outputId": "a2219b0f-0704-4067-d4e7-9d4eb4e13e6c"
      },
      "execution_count": null,
      "outputs": [
        {
          "output_type": "stream",
          "name": "stdout",
          "text": [
            "(1, 2, 3)\n",
            "421\n",
            "(1, 3, 2)\n",
            "511\n",
            "(2, 1, 3)\n",
            "330\n",
            "(2, 3, 1)\n",
            "511\n",
            "(3, 1, 2)\n",
            "330\n",
            "(3, 2, 1)\n",
            "421\n"
          ]
        }
      ]
    },
    {
      "cell_type": "code",
      "source": [
        "print(ans)"
      ],
      "metadata": {
        "colab": {
          "base_uri": "https://localhost:8080/"
        },
        "id": "GyfOZ41_34y-",
        "outputId": "6dd85e85-cacb-4a80-cbd4-82b4a985f1c9"
      },
      "execution_count": null,
      "outputs": [
        {
          "output_type": "stream",
          "name": "stdout",
          "text": [
            "2\n"
          ]
        }
      ]
    },
    {
      "cell_type": "markdown",
      "source": [
        "## [D - Water Heater](https://atcoder.jp/contests/abc183/tasks/abc183_d)"
      ],
      "metadata": {
        "id": "XUsAvroE5ckE"
      }
    },
    {
      "cell_type": "code",
      "source": [
        "N, W = map(int, input().split())\n",
        "imos = [0] * (10**6)\n",
        "for _ in range(N):\n",
        "    S, T, P = map(int, input().split())\n",
        "    imos[S] += P\n",
        "    imos[T] -= P"
      ],
      "metadata": {
        "colab": {
          "base_uri": "https://localhost:8080/"
        },
        "id": "tXWakGJo4Oc3",
        "outputId": "145f1a1c-78d1-4214-edf9-7770cf55d5b9"
      },
      "execution_count": null,
      "outputs": [
        {
          "name": "stdout",
          "output_type": "stream",
          "text": [
            "4 10\n",
            "1 3 5\n",
            "2 4 4\n",
            "3 10 6\n",
            "2 4 1\n"
          ]
        }
      ]
    },
    {
      "cell_type": "code",
      "source": [
        "from itertools import accumulate\n",
        "imos = list(accumulate(imos))"
      ],
      "metadata": {
        "id": "-YU5Xq8l6BPS"
      },
      "execution_count": null,
      "outputs": []
    },
    {
      "cell_type": "code",
      "source": [
        "print(\"Yes\" if all(a <= W for a in imos) else \"No\")"
      ],
      "metadata": {
        "colab": {
          "base_uri": "https://localhost:8080/"
        },
        "id": "nQlkfz_r6PXP",
        "outputId": "cdd503e4-5d82-4dec-ae40-6addb537ad18"
      },
      "execution_count": null,
      "outputs": [
        {
          "output_type": "stream",
          "name": "stdout",
          "text": [
            "No\n"
          ]
        }
      ]
    },
    {
      "cell_type": "markdown",
      "source": [
        "## [E - Queen on Grid](https://atcoder.jp/contests/abc183/tasks/abc183_e)"
      ],
      "metadata": {
        "id": "Nk2EBc2u6soU"
      }
    },
    {
      "cell_type": "markdown",
      "source": [
        "### とりあえずTLEする愚直解法\n",
        "これは正しい答えは出力するけど, TLEになる"
      ],
      "metadata": {
        "id": "a8tRHltAJzHy"
      }
    },
    {
      "cell_type": "code",
      "source": [
        "H, W = map(int, input().split())\n",
        "grid = [input() for _ in range(H)]\n",
        "mod = 10**9 + 7"
      ],
      "metadata": {
        "colab": {
          "base_uri": "https://localhost:8080/"
        },
        "id": "BGRM9LnM6Py-",
        "outputId": "afe72aed-1f0d-42f9-cc26-e393303277e1"
      },
      "execution_count": null,
      "outputs": [
        {
          "name": "stdout",
          "output_type": "stream",
          "text": [
            "3 3\n",
            "...\n",
            ".#.\n",
            "...\n"
          ]
        }
      ]
    },
    {
      "cell_type": "code",
      "source": [
        "DP = [[0] * W for _ in range(H)]\n",
        "DP[0][0] = 1"
      ],
      "metadata": {
        "id": "I8XQwp408v-7"
      },
      "execution_count": null,
      "outputs": []
    },
    {
      "cell_type": "code",
      "source": [
        "for h in range(H):\n",
        "    for w in range(W):\n",
        "        # 横\n",
        "        for k in range(1, h+1):\n",
        "            if grid[h-k][w] == \"#\":\n",
        "                break\n",
        "            DP[h][w] += DP[h-k][w]\n",
        "            DP[h][w] %= mod\n",
        "        # 縦\n",
        "        for k in range(1, w+1):\n",
        "            if grid[h][w-k] == \"#\":\n",
        "                break\n",
        "            DP[h][w] += DP[h][w-k]\n",
        "            DP[h][w] %= mod\n",
        "        # 斜め\n",
        "        for k in range(1, min(h, w) + 1):\n",
        "            if grid[h-k][w-k] == \"#\":\n",
        "                break\n",
        "            DP[h][w] += DP[h-k][w-k]\n",
        "            DP[h][w] %= mod"
      ],
      "metadata": {
        "id": "Y1zb8H2vGHwz"
      },
      "execution_count": null,
      "outputs": []
    },
    {
      "cell_type": "code",
      "source": [
        "print(DP[-1][-1] % mod)"
      ],
      "metadata": {
        "colab": {
          "base_uri": "https://localhost:8080/"
        },
        "id": "urZ5y-AHGHt1",
        "outputId": "03c5815d-9139-451e-bbf9-46ada5c729ad"
      },
      "execution_count": null,
      "outputs": [
        {
          "output_type": "stream",
          "name": "stdout",
          "text": [
            "10\n"
          ]
        }
      ]
    },
    {
      "cell_type": "markdown",
      "source": [
        "### 累積和を用いて高速化"
      ],
      "metadata": {
        "id": "K2JxXjmULX15"
      }
    },
    {
      "cell_type": "code",
      "source": [
        "H, W = map(int, input().split())\n",
        "grid = [input() for _ in range(H)]\n",
        "mod = 10**9 + 7"
      ],
      "metadata": {
        "colab": {
          "base_uri": "https://localhost:8080/"
        },
        "id": "baB0E5tCGHrH",
        "outputId": "44732873-a41b-4044-b668-38649c6c058d"
      },
      "execution_count": null,
      "outputs": [
        {
          "name": "stdout",
          "output_type": "stream",
          "text": [
            "3 3\n",
            "...\n",
            ".#.\n",
            "...\n"
          ]
        }
      ]
    },
    {
      "cell_type": "code",
      "source": [
        "DP = [[0] * W for _ in range(H)]\n",
        "X = [[0] * W for _ in range(H)]\n",
        "Y = [[0] * W for _ in range(H)]\n",
        "Z = [[0] * W for _ in range(H)]\n",
        "DP[0][0], X[0][0], Y[0][0], Z[0][0] = 1, 1, 1, 1"
      ],
      "metadata": {
        "id": "62NteqzFGHoc"
      },
      "execution_count": null,
      "outputs": []
    },
    {
      "cell_type": "code",
      "source": [
        "for h in range(H):\n",
        "    for w in range(W):\n",
        "        if grid[h][w] == \"#\": continue\n",
        "        if (h == 0) and (w == 0): continue\n",
        "        if h == 0:\n",
        "            DP[h][w] = X[h][w-1] % mod\n",
        "            X[h][w] = (X[h][w-1] + DP[h][w]) % mod\n",
        "            Y[h][w] = DP[h][w] % mod\n",
        "            Z[h][w] = DP[h][w] % mod\n",
        "        elif w == 0:\n",
        "            DP[h][w] = Y[h-1][w] % mod\n",
        "            Y[h][w] = (Y[h-1][w] + DP[h][w]) % mod\n",
        "            X[h][w] = DP[h][w] % mod\n",
        "            Z[h][w] = DP[h][w] % mod\n",
        "        else:\n",
        "            DP[h][w] = (X[h][w-1] + Y[h-1][w] + Z[h-1][w-1]) % mod\n",
        "            X[h][w] = (X[h][w-1] + DP[h][w]) % mod\n",
        "            Y[h][w] = (Y[h-1][w] + DP[h][w]) % mod\n",
        "            Z[h][w] = (Z[h-1][w-1] + DP[h][w]) % mod"
      ],
      "metadata": {
        "id": "2HgR3AuWGHlx"
      },
      "execution_count": null,
      "outputs": []
    },
    {
      "cell_type": "code",
      "source": [
        "print(DP[-1][-1] % mod)"
      ],
      "metadata": {
        "colab": {
          "base_uri": "https://localhost:8080/"
        },
        "id": "uPVaU27_GHi3",
        "outputId": "208fcb25-fab9-4d1b-9993-3dec57f8d1f2"
      },
      "execution_count": null,
      "outputs": [
        {
          "output_type": "stream",
          "name": "stdout",
          "text": [
            "10\n"
          ]
        }
      ]
    },
    {
      "cell_type": "markdown",
      "source": [
        "## [F - Confluence](https://atcoder.jp/contests/abc183/tasks/abc183_f)"
      ],
      "metadata": {
        "id": "PEfebWj6PzHU"
      }
    },
    {
      "cell_type": "code",
      "source": [
        "from collections import defaultdict\n",
        "class UnionFindTree:\n",
        "    def __init__(self, n):\n",
        "        self.parents = [0] * n\n",
        "        for i in range(n):\n",
        "            d = defaultdict(int)\n",
        "            d[C[i]] += 1\n",
        "            d[\"parents\"] = -1\n",
        "            self.parents[i] = d\n",
        "  \n",
        "    def find(self, x):\n",
        "        if isinstance(self.parents[x], defaultdict):\n",
        "            return x\n",
        "        else:\n",
        "            return self.find(self.parents[x])\n",
        "  \n",
        "    def union(self, x, y):\n",
        "        x = self.find(x)\n",
        "        y = self.find(y)\n",
        "        if x == y: return\n",
        "        if self.parents[x][\"parents\"] > self.parents[y][\"parents\"]:\n",
        "            x, y = y, x\n",
        "        \n",
        "        for key, value in self.parents[y].items():\n",
        "            self.parents[x][key] += value\n",
        "        self.parents[y] = x"
      ],
      "metadata": {
        "id": "BvjYXCFbQz0f"
      },
      "execution_count": null,
      "outputs": []
    },
    {
      "cell_type": "code",
      "source": [
        "N, Q = map(int, input().split())\n",
        "C = list(map(int, input().split()))"
      ],
      "metadata": {
        "colab": {
          "base_uri": "https://localhost:8080/"
        },
        "id": "2AU4QpbWSTk9",
        "outputId": "2fb9930c-2f30-421c-814a-783bacd3975c"
      },
      "execution_count": null,
      "outputs": [
        {
          "name": "stdout",
          "output_type": "stream",
          "text": [
            "5 5\n",
            "1 2 3 2 1\n"
          ]
        }
      ]
    },
    {
      "cell_type": "code",
      "source": [
        "uf = UnionFindTree(N)"
      ],
      "metadata": {
        "id": "ExyV1tDaSTip"
      },
      "execution_count": null,
      "outputs": []
    },
    {
      "cell_type": "code",
      "source": [
        "for _ in range(Q):\n",
        "    t, a, b = map(int, input().split())\n",
        "    if t == 1:\n",
        "        uf.union(a-1, b-1)\n",
        "    else:\n",
        "        root = uf.find(a-1)\n",
        "        print(uf.parents[root][b])"
      ],
      "metadata": {
        "colab": {
          "base_uri": "https://localhost:8080/"
        },
        "id": "J9vI2MzlSTf3",
        "outputId": "e8a5def2-ec28-4601-db90-7e3718b02513"
      },
      "execution_count": null,
      "outputs": [
        {
          "output_type": "stream",
          "name": "stdout",
          "text": [
            "1 1 2\n",
            "1 2 5\n",
            "2 1 1\n",
            "2\n",
            "1 3 4\n",
            "2 3 4\n",
            "0\n"
          ]
        }
      ]
    }
  ]
}