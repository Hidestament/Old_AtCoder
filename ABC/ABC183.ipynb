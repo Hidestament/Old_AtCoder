{
  "nbformat": 4,
  "nbformat_minor": 0,
  "metadata": {
    "colab": {
      "name": "ABC183.ipynb",
      "provenance": [],
      "authorship_tag": "ABX9TyO10Gk4ckKu/0UWW4qYbbnK",
      "include_colab_link": true
    },
    "kernelspec": {
      "name": "python3",
      "display_name": "Python 3"
    }
  },
  "cells": [
    {
      "cell_type": "markdown",
      "metadata": {
        "id": "view-in-github",
        "colab_type": "text"
      },
      "source": [
        "<a href=\"https://colab.research.google.com/github/Hidestament/AtCoder/blob/main/ABC/ABC183.ipynb\" target=\"_parent\"><img src=\"https://colab.research.google.com/assets/colab-badge.svg\" alt=\"Open In Colab\"/></a>"
      ]
    },
    {
      "cell_type": "markdown",
      "metadata": {
        "id": "q9iVymFrtPJM"
      },
      "source": [
        "# A - ReLU\r\n",
        "$$\r\n",
        "ReLU(x) = \\begin{cases}\r\n",
        "x \\ (x \\geq 0) \\\\\r\n",
        "0 \\ (x < 0)\r\n",
        "\\end{cases}\r\n",
        "$$\r\n",
        "を実装"
      ]
    },
    {
      "cell_type": "code",
      "metadata": {
        "colab": {
          "base_uri": "https://localhost:8080/"
        },
        "id": "sYCf_X1DtJsa",
        "outputId": "1653be16-ad6c-44f0-d723-5a53710c7aa4"
      },
      "source": [
        "x = int(input())\r\n",
        "print(x if x >= 0 else 0)"
      ],
      "execution_count": 3,
      "outputs": [
        {
          "output_type": "stream",
          "text": [
            "-1\n",
            "0\n"
          ],
          "name": "stdout"
        }
      ]
    },
    {
      "cell_type": "markdown",
      "metadata": {
        "id": "wzEi0Njctm1S"
      },
      "source": [
        "# B - Billiards\r\n",
        "狙うx座標をxとすると, 入力(Sx, Sy) -> (x,0) の傾きと, (x,0) -> (Gx, Gy) の傾きの絶対値が等しくなるので, \r\n",
        "$$\r\n",
        "\\frac{0 - S_y}{x - S_x} = - \\frac{G_y - 0 }{G_x - x}\r\n",
        "\\Leftrightarrow \\\\\r\n",
        "(S_y + G_y)x = G_y S_x + S_y G_x\r\n",
        "\\Leftrightarrow \\\\\r\n",
        "x = \\frac{S_y + G_y}{G_y S_x + S_y G_x}\r\n",
        "$$\r\n",
        "となるので, これを計算する\r\n"
      ]
    },
    {
      "cell_type": "code",
      "metadata": {
        "colab": {
          "base_uri": "https://localhost:8080/"
        },
        "id": "KHJ2JlSdti7B",
        "outputId": "b069479b-f40e-45a3-d0a9-7c1f83b47859"
      },
      "source": [
        "sx, sy, gx, gy = map(int, input().split())"
      ],
      "execution_count": 10,
      "outputs": [
        {
          "output_type": "stream",
          "text": [
            "-9 99 -999 9999\n"
          ],
          "name": "stdout"
        }
      ]
    },
    {
      "cell_type": "code",
      "metadata": {
        "id": "HtND-t0uvJ8h"
      },
      "source": [
        "x = (gy*sx + sy*gx) / (sy + gy)"
      ],
      "execution_count": 11,
      "outputs": []
    },
    {
      "cell_type": "code",
      "metadata": {
        "colab": {
          "base_uri": "https://localhost:8080/"
        },
        "id": "7pu_M868vQxo",
        "outputId": "ec679959-d9d1-44ca-94c0-e68945a3572e"
      },
      "source": [
        "print(x)"
      ],
      "execution_count": 12,
      "outputs": [
        {
          "output_type": "execute_result",
          "data": {
            "text/plain": [
              "-18.705882352941178"
            ]
          },
          "metadata": {
            "tags": []
          },
          "execution_count": 12
        }
      ]
    },
    {
      "cell_type": "markdown",
      "metadata": {
        "id": "S6ZMC8yPvm8p"
      },
      "source": [
        "# C - Travel\r\n",
        "TSPの距離が決まっている問題 的な感じ."
      ]
    },
    {
      "cell_type": "markdown",
      "metadata": {
        "id": "clLUGZa3vIjD"
      },
      "source": [
        "## 全列挙（PythonでAC）\r\n",
        "2 <= N <= 8, なので, (N-1)! 個の全列挙はできそう."
      ]
    },
    {
      "cell_type": "code",
      "metadata": {
        "colab": {
          "base_uri": "https://localhost:8080/"
        },
        "id": "vTBGVD9JvRcI",
        "outputId": "fe2f2a0a-cf47-4907-df08-e7f2b7f9163c"
      },
      "source": [
        "n, k = map(int, input().split())"
      ],
      "execution_count": 4,
      "outputs": [
        {
          "output_type": "stream",
          "text": [
            "4 330\n"
          ],
          "name": "stdout"
        }
      ]
    },
    {
      "cell_type": "code",
      "metadata": {
        "id": "HJgBSA6q1Zz0"
      },
      "source": [
        "import itertools\r\n",
        "a = list(itertools.permutations(range(1, n)))"
      ],
      "execution_count": 7,
      "outputs": []
    },
    {
      "cell_type": "code",
      "metadata": {
        "colab": {
          "base_uri": "https://localhost:8080/"
        },
        "id": "HIDwf8QxuH62",
        "outputId": "af12da67-66ba-4229-a594-9de60d52b369"
      },
      "source": [
        "cost = [list(map(int, input().split())) for _ in range(n)]"
      ],
      "execution_count": 9,
      "outputs": [
        {
          "output_type": "stream",
          "text": [
            "0 1 10 100\n",
            "1 0 20 200\n",
            "10 20 0 300\n",
            "100 200 300 0\n"
          ],
          "name": "stdout"
        }
      ]
    },
    {
      "cell_type": "code",
      "metadata": {
        "id": "9e4JeDh9sNEl"
      },
      "source": [
        "ans = 0\r\n",
        "for i in range(len(a)):\r\n",
        "  distance = 0\r\n",
        "  distance += cost[0][a[i][0]] + cost[a[i][-1]][0]\r\n",
        "  for j in range(len(a[i])-1):\r\n",
        "    distance += cost[a[i][j]][a[i][j+1]]\r\n",
        "  if distance == k:\r\n",
        "    ans += 1"
      ],
      "execution_count": 17,
      "outputs": []
    },
    {
      "cell_type": "markdown",
      "metadata": {
        "id": "goeKH_pdvXOI"
      },
      "source": [
        "# D - Water Heater"
      ]
    },
    {
      "cell_type": "markdown",
      "metadata": {
        "id": "dsJuvHCP4oVt"
      },
      "source": [
        "## 愚直に実装（PythonでTLE）\r\n",
        "各時刻に使用する水の量をリストwaterとして最初に作る.\r\n",
        "\r\n",
        "それぞれの人に関して, water の s ～ t に p を足す.\r\n",
        "\r\n",
        "最後にwaterの最大値を計算し, wと比較する\r\n",
        "\r\n",
        "numpyを使うと便利"
      ]
    },
    {
      "cell_type": "code",
      "metadata": {
        "colab": {
          "base_uri": "https://localhost:8080/"
        },
        "id": "87zAClCWuhOT",
        "outputId": "ecd33693-bde7-4592-a097-5b449af904f2"
      },
      "source": [
        "import numpy as np\r\n",
        "n, w = map(int, input().split())\r\n",
        "water = np.array( [0] * (2 * 100000 + 1))"
      ],
      "execution_count": 31,
      "outputs": [
        {
          "output_type": "stream",
          "text": [
            "4 10\n"
          ],
          "name": "stdout"
        }
      ]
    },
    {
      "cell_type": "code",
      "metadata": {
        "id": "vdcoz0UB2UnV"
      },
      "source": [
        "for _ in range(n):\r\n",
        "  s,t,p = map(int, input().split())\r\n",
        "  water[s:t] += p\r\n",
        "if np.max(water) > W:\r\n",
        "  print(\"No\")\r\n",
        "else:\r\n",
        "  print(\"Yes\")"
      ],
      "execution_count": null,
      "outputs": []
    },
    {
      "cell_type": "markdown",
      "metadata": {
        "id": "6PYOfFPw5BME"
      },
      "source": [
        "## いもす法による実装（PythonでAC）\r\n",
        "いもす法の説明は長くなるので, 以下参照 \\\r\n",
        "https://mochablog.org/imosu-method/"
      ]
    },
    {
      "cell_type": "code",
      "metadata": {
        "colab": {
          "base_uri": "https://localhost:8080/"
        },
        "id": "HMP_3WGp8q1V",
        "outputId": "1eef8386-ccb4-483c-e8a4-2c70ca08d16f"
      },
      "source": [
        "n,w = map(int, input().split())\r\n",
        "water = [0] * (2 * 100000 + 1)"
      ],
      "execution_count": 32,
      "outputs": [
        {
          "output_type": "stream",
          "text": [
            "4 10\n"
          ],
          "name": "stdout"
        }
      ]
    },
    {
      "cell_type": "code",
      "metadata": {
        "colab": {
          "base_uri": "https://localhost:8080/"
        },
        "id": "21YIUm7D8ygr",
        "outputId": "1512cc50-43cb-4483-bad8-94fdbc1785f5"
      },
      "source": [
        "for _ in range(n):\r\n",
        "  s,t,p = map(int, input().split())\r\n",
        "  water[s] += p\r\n",
        "  water[t] -= p"
      ],
      "execution_count": 33,
      "outputs": [
        {
          "output_type": "stream",
          "text": [
            "1 3 5\n",
            "2 4 4\n",
            "3 10 6\n",
            "2 4 1\n"
          ],
          "name": "stdout"
        }
      ]
    },
    {
      "cell_type": "code",
      "metadata": {
        "id": "QVVujz4689Fj"
      },
      "source": [
        "for i in range(1, len(water)):\r\n",
        "  water[i] += water[i-1]"
      ],
      "execution_count": 37,
      "outputs": []
    },
    {
      "cell_type": "code",
      "metadata": {
        "colab": {
          "base_uri": "https://localhost:8080/"
        },
        "id": "DjxENh5b9WlK",
        "outputId": "3d2f0b34-17b6-464a-f085-cc3cda38b2e2"
      },
      "source": [
        "print(\"No\" if max(water) > w else \"Yes\")"
      ],
      "execution_count": 40,
      "outputs": [
        {
          "output_type": "stream",
          "text": [
            "No\n"
          ],
          "name": "stdout"
        }
      ]
    }
  ]
}