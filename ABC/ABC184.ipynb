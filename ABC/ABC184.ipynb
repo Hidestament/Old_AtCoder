{
  "nbformat": 4,
  "nbformat_minor": 0,
  "metadata": {
    "colab": {
      "name": "ABC184.ipynb",
      "provenance": [],
      "authorship_tag": "ABX9TyOtwckqGHKBq4o8iGUXre19",
      "include_colab_link": true
    },
    "kernelspec": {
      "name": "python3",
      "display_name": "Python 3"
    }
  },
  "cells": [
    {
      "cell_type": "markdown",
      "metadata": {
        "id": "view-in-github",
        "colab_type": "text"
      },
      "source": [
        "<a href=\"https://colab.research.google.com/github/Hidestament/AtCoder/blob/main/ABC/ABC184.ipynb\" target=\"_parent\"><img src=\"https://colab.research.google.com/assets/colab-badge.svg\" alt=\"Open In Colab\"/></a>"
      ]
    },
    {
      "cell_type": "markdown",
      "metadata": {
        "id": "VxT_tutGCjdv"
      },
      "source": [
        "# A - Determinant\r\n",
        "2×2の行列式の計算"
      ]
    },
    {
      "cell_type": "code",
      "metadata": {
        "colab": {
          "base_uri": "https://localhost:8080/"
        },
        "id": "sN40skvtCgeD",
        "outputId": "c033bed9-bb0c-4913-b906-41d8dc016bfc"
      },
      "source": [
        "a,b = map(int, input().split())\r\n",
        "c,d = map(int, input().split())\r\n",
        "print(a*d - b*c)"
      ],
      "execution_count": 3,
      "outputs": [
        {
          "output_type": "stream",
          "text": [
            "100 100\n",
            "100 100\n",
            "0\n"
          ],
          "name": "stdout"
        }
      ]
    },
    {
      "cell_type": "markdown",
      "metadata": {
        "id": "AnjLemfLC9eJ"
      },
      "source": [
        "# B - Quizzes\r\n",
        "シミュレーション. 得点がマイナスにならないように注意"
      ]
    },
    {
      "cell_type": "code",
      "metadata": {
        "colab": {
          "base_uri": "https://localhost:8080/"
        },
        "id": "JkxrY5HzCrsW",
        "outputId": "c3532c0b-99f9-4645-a613-d420a9781637"
      },
      "source": [
        "n, x = map(int, input().split())\r\n",
        "s = input()"
      ],
      "execution_count": 8,
      "outputs": [
        {
          "output_type": "stream",
          "text": [
            "20 199999\n",
            "oooooooooxoooooooooo\n"
          ],
          "name": "stdout"
        }
      ]
    },
    {
      "cell_type": "code",
      "metadata": {
        "id": "4zcad53gDNOB"
      },
      "source": [
        "ans = x\r\n",
        "for quiz in s:\r\n",
        "  if quiz == \"o\":\r\n",
        "    ans += 1\r\n",
        "  else:\r\n",
        "    ans = max(0, ans-1)"
      ],
      "execution_count": 9,
      "outputs": []
    },
    {
      "cell_type": "code",
      "metadata": {
        "colab": {
          "base_uri": "https://localhost:8080/"
        },
        "id": "uhj_x10jDoUJ",
        "outputId": "5e08a10d-bed9-415c-c272-297c6dcd6c7e"
      },
      "source": [
        "print(ans)"
      ],
      "execution_count": 10,
      "outputs": [
        {
          "output_type": "stream",
          "text": [
            "200017\n"
          ],
          "name": "stdout"
        }
      ]
    },
    {
      "cell_type": "markdown",
      "metadata": {
        "id": "ifAnlaqSDz7C"
      },
      "source": [
        "# C - Super Ryuma\r\n",
        "$$\r\n",
        "1. \\ \\ a + b = c + d \\\\\r\n",
        "2. \\ \\ a - b = c - d \\\\\r\n",
        "3. \\ \\ |a - c | + |b - d| \\leq 3\r\n",
        "$$\r\n",
        "\r\n",
        "\r\n",
        "たかだか3回で任意のマスに移動できる気がする.\r\n",
        "\r\n",
        "0回 : 初期点(a,b) ＝ 目的地(c,d) のとき\r\n",
        "\r\n",
        "1回 : 初期点と目的値が1 ~ 3の少なくともどれかの式を満たす.\r\n",
        "\r\n",
        "2回 : 複雑になるので後述\r\n",
        "\r\n",
        "\r\n"
      ]
    },
    {
      "cell_type": "code",
      "metadata": {
        "colab": {
          "base_uri": "https://localhost:8080/"
        },
        "id": "bjKIx0hOD2cT",
        "outputId": "cac9aedd-48a9-44ad-f167-0cade20f79ce"
      },
      "source": [
        "# 入力\r\n",
        "r1, c1 = map(int, input().split())\r\n",
        "r2, c2 = map(int, input().split())"
      ],
      "execution_count": 21,
      "outputs": [
        {
          "output_type": "stream",
          "text": [
            "2 3\n",
            "998244353 998244853\n"
          ],
          "name": "stdout"
        }
      ]
    },
    {
      "cell_type": "code",
      "metadata": {
        "colab": {
          "base_uri": "https://localhost:8080/"
        },
        "id": "zq8BlujAcc8t",
        "outputId": "a97ae907-3c74-470c-d2bb-97c315e807bf"
      },
      "source": [
        "# 0回 or 1回でたどり着ける場合\r\n",
        "if r1 == r2 and c1 == c2:\r\n",
        "  ans = 0\r\n",
        "elif (r1 + c1 == r2 + c2) or (r1 - c1 == r2 - c2) or (abs(r1-r2) + abs(c1-c2) <= 3):\r\n",
        "  ans = 1\r\n",
        "\r\n",
        "print(ans)"
      ],
      "execution_count": 22,
      "outputs": [
        {
          "output_type": "stream",
          "text": [
            "3\n"
          ],
          "name": "stdout"
        }
      ]
    },
    {
      "cell_type": "markdown",
      "metadata": {
        "id": "3t4IWmoi0lIs"
      },
      "source": [
        "**2回でたどり着ける場合**\r\n",
        "\r\n",
        "決められた3つの移動のうち, 2つを用いて到着できるものが2回移動可能な地点である.\r\n",
        "\r\n",
        "- 移動3 + 移動3 \\\r\n",
        "移動3を2回行うと, 合計6マス移動できる.\\\r\n",
        "よって, $|a-c| + |b-d| \\leq 6$\r\n",
        "\r\n",
        "\r\n",
        "- 斜め移動2回（移動1 or 2を2回） \\\r\n",
        "1回の斜め移動で, x軸とy軸が同じだけ移動される. よって, x軸移動をkとすると, \r\n",
        "$ 2k,0,-2k$ のどれかのマスを移動する.\\\r\n",
        "よって, OriginとDestinationのマンハッタン距離が偶数なら斜め移動2回で移動できる.\\\r\n",
        "つまり, $(|a-c| + |b-d|) \\% 2 == 0$\r\n",
        "\r\n",
        "\r\n",
        "- 斜め移動 + 移動3 \\\r\n",
        "斜め移動で移動できるマスは, \\\r\n",
        "$$\r\n",
        "a + b = c + d \\\\\r\n",
        "a - b = c - d \\\\\r\n",
        "\\Leftrightarrow\r\n",
        "(a+b) - (c+d) = 0 \\\\\r\n",
        "(a-b) - (c-d) = 0\r\n",
        "$$\r\n",
        "を満たすマス. \\\r\n",
        "このマスに移動した後, 3マス移動できるので, \r\n",
        "$$\r\n",
        "|(a+b) - (c+d)| \\leq 3 \\\\\r\n",
        "|(a-b) - (c-d)| \\leq 3\r\n",
        "$$\r\n",
        "となる.\r\n"
      ]
    },
    {
      "cell_type": "code",
      "metadata": {
        "id": "aXblorTWHjk3"
      },
      "source": [
        "# 移動3 + 移動3\r\n",
        "abs(r1-r2) + abs(c1-c2) <= 3"
      ],
      "execution_count": null,
      "outputs": []
    },
    {
      "cell_type": "code",
      "metadata": {
        "id": "hyA4LWWA0cOL"
      },
      "source": [
        "# 斜め移動2回\r\n",
        "(abs(r1-r2) + abs(c1-c2)) % 2 == 0"
      ],
      "execution_count": null,
      "outputs": []
    },
    {
      "cell_type": "code",
      "metadata": {
        "id": "A8W2jSQj0cLy"
      },
      "source": [
        "# 斜め + 移動\r\n",
        "abs((r1+c1)-(r2+c2)) <= 3\r\n",
        "abs((r1-c1)-(r2-c2)) <= 3"
      ],
      "execution_count": null,
      "outputs": []
    },
    {
      "cell_type": "markdown",
      "metadata": {
        "id": "9c272TxF3Vye"
      },
      "source": [
        "上の条件以外が移動回数3となる\r\n",
        "\r\n",
        "斜め移動2回で, マンハッタン距離が偶数の箇所にはいける.\r\n",
        "\r\n",
        "つまり, 1回の移動で隣のマスに移動すれば, Originから考えてマンハッタン距離が奇数の箇所には3回でいける."
      ]
    },
    {
      "cell_type": "code",
      "metadata": {
        "id": "5zxVyfGV0cJP"
      },
      "source": [
        "# まとめる\r\n",
        "r1, c1 = map(int, input().split())\r\n",
        "r2, c2 = map(int, input().split())\r\n",
        "\r\n",
        "if r1 == r2 and c1 == c2:\r\n",
        "  ans = 0\r\n",
        "elif (r1 + c1 == r2 + c2) or (r1 - c1 == r2 - c2) or (abs(r1-r2) + abs(c1-c2) <= 3):\r\n",
        "  ans = 1\r\n",
        "elif (abs(r1-r2) + abs(c1-c2) <= 6) or ((abs(r1-r2) + abs(c1-c2)) % 2 == 0) or (abs((r1+c1) - (r2+c2)) <= 3) or (abs((r1-c1)- (r2-c2)) <= 3):\r\n",
        "  ans = 2\r\n",
        "else:\r\n",
        "  ans = 3\r\n",
        "\r\n",
        "print(ans)"
      ],
      "execution_count": null,
      "outputs": []
    },
    {
      "cell_type": "markdown",
      "metadata": {
        "id": "d85s84Oy3xcl"
      },
      "source": [
        "## おまけ：移動が原点対称である\r\n",
        "移動が原点対称なので, \r\n",
        "\r\n",
        "Origin : (0,0)\r\n",
        "\r\n",
        "Destination : (|r2-r1|, |c2-c1|) \r\n",
        "\r\n",
        "と考えても良い."
      ]
    },
    {
      "cell_type": "code",
      "metadata": {
        "id": "AwEzUset0cGh"
      },
      "source": [
        "r1, c1 = map(int, input().split())\r\n",
        "r2, c2 = map(int, input().split())\r\n",
        "\r\n",
        "a,b = (0,0)\r\n",
        "c,d = (abs(r2-r1), abs(c2-c1))"
      ],
      "execution_count": null,
      "outputs": []
    },
    {
      "cell_type": "code",
      "metadata": {
        "id": "HM-sapBu0cCF"
      },
      "source": [
        "# 0回 or 1回でたどり着ける場合\r\n",
        "if c == 0 and d == 0:\r\n",
        "  ans = 0\r\n",
        "elif c == d or (c + d) <= 3:\r\n",
        "  ans = 1\r\n",
        "elif (c + d) % 2 == 0 or (c + d <= 6) or (abs(c -d) <= 3):\r\n",
        "  ans = 2\r\n",
        "else:\r\n",
        "  ans = 3\r\n",
        "\r\n",
        "print(ans)"
      ],
      "execution_count": null,
      "outputs": []
    }
  ]
}