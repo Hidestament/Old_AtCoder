{
  "nbformat": 4,
  "nbformat_minor": 0,
  "metadata": {
    "colab": {
      "name": "ABC185.ipynb",
      "provenance": [],
      "authorship_tag": "ABX9TyNwwXsQ45wYrEpwyjoiNPug",
      "include_colab_link": true
    },
    "kernelspec": {
      "name": "python3",
      "display_name": "Python 3"
    }
  },
  "cells": [
    {
      "cell_type": "markdown",
      "metadata": {
        "id": "view-in-github",
        "colab_type": "text"
      },
      "source": [
        "<a href=\"https://colab.research.google.com/github/Hidestament/AtCoder/blob/main/ABC/ABC185.ipynb\" target=\"_parent\"><img src=\"https://colab.research.google.com/assets/colab-badge.svg\" alt=\"Open In Colab\"/></a>"
      ]
    },
    {
      "cell_type": "markdown",
      "metadata": {
        "id": "ZLPvXP6ae6rr"
      },
      "source": [
        "# A - ABC Preparation"
      ]
    },
    {
      "cell_type": "code",
      "metadata": {
        "colab": {
          "base_uri": "https://localhost:8080/"
        },
        "id": "Oz9qX7DVejBP",
        "outputId": "2f182ad3-3996-4450-c8f3-842ab9a83600"
      },
      "source": [
        "a = list(map(int, input().split()))\r\n",
        "print(min(a))"
      ],
      "execution_count": 1,
      "outputs": [
        {
          "output_type": "stream",
          "text": [
            "5 3 7 11\n",
            "3\n"
          ],
          "name": "stdout"
        }
      ]
    },
    {
      "cell_type": "markdown",
      "metadata": {
        "id": "m0WpekJPfMhu"
      },
      "source": [
        "# B - Smartphone Addiction"
      ]
    },
    {
      "cell_type": "markdown",
      "metadata": {
        "id": "xps0Swn6Ta4f"
      },
      "source": [
        "## そのままシミュレーション（AC）"
      ]
    },
    {
      "cell_type": "code",
      "metadata": {
        "id": "O7lOMn-5fH7q"
      },
      "source": [
        "n, m, t = map(int, input().split())\r\n",
        "now_time = 0\r\n",
        "now_bat = n\r\n",
        "for i in range(m):\r\n",
        "  a,b = map(int, input().split())  \r\n",
        "  now_bat -= (a - now_time)\r\n",
        "  if now_bat <= 0:\r\n",
        "    exit(print(\"No\"))\r\n",
        "  now_bat = min(n, now_bat+(b-a))\r\n",
        "  now_time = b\r\n",
        "\r\n",
        "if now_bat - (t - b) > 0:\r\n",
        "  print(\"Yes\")\r\n",
        "else:\r\n",
        "  print(\"No\")"
      ],
      "execution_count": null,
      "outputs": []
    },
    {
      "cell_type": "markdown",
      "metadata": {
        "id": "VzbYP93CTd2W"
      },
      "source": [
        "## きれいに修正"
      ]
    },
    {
      "cell_type": "code",
      "metadata": {
        "colab": {
          "base_uri": "https://localhost:8080/"
        },
        "id": "S8NM_PwHTeHM",
        "outputId": "e2834327-0f46-4cf2-a372-0a69e371b9c1"
      },
      "source": [
        "n, m, t = map(int, input().split())\r\n",
        "td = 0\r\n",
        "battery = n\r\n",
        "for i in range(m):\r\n",
        "  a,b = map(int, input().split())\r\n",
        "  battery -= (a - td)\r\n",
        "  if battery <= 0:\r\n",
        "    exit(print(\"No\"))\r\n",
        "  battery = min(n, battery+(b - a))\r\n",
        "  td = b\r\n",
        "print(\"Yes\" if battery - t + b > 0 else \"No\")"
      ],
      "execution_count": 84,
      "outputs": [
        {
          "output_type": "stream",
          "text": [
            "10 2 20\n",
            "9 11\n",
            "13 17\n"
          ],
          "name": "stdout"
        }
      ]
    },
    {
      "cell_type": "markdown",
      "metadata": {
        "id": "b349igaJp6fc"
      },
      "source": [
        "# C - Duodecim Ferra\r\n",
        "切り口の個数$L-1$から, 11個を選ぶ組み合わせ $_n C _r$を計算すれば良い.\r\n",
        "\r\n",
        "解答の参考 : \r\n",
        "https://drken1215.hatenablog.com/entry/2020/12/14/015500\r\n",
        "\r\n",
        "Pythonにおける組み合わせの参考：\r\n",
        "https://qiita.com/derodero24/items/91b6468e66923a87f39f"
      ]
    },
    {
      "cell_type": "markdown",
      "metadata": {
        "id": "31RAFNnLXEjC"
      },
      "source": [
        "## Scipyを使う（PythonでAC）\r\n",
        "`scipy.special.comb(n,r)` で, combinationsを計算できる.\r\n",
        "\r\n",
        "第三引数 `exact=True` にするとちゃんと計算してint で返ってくる."
      ]
    },
    {
      "cell_type": "code",
      "metadata": {
        "colab": {
          "base_uri": "https://localhost:8080/"
        },
        "id": "DRrqeTa4p-K6",
        "outputId": "18a11135-15b4-4cb6-b736-7d81ddb6db66"
      },
      "source": [
        "from scipy.special import comb\r\n",
        "l = int(input())\r\n",
        "ans = comb(l-1, 11, exact=True)\r\n",
        "print(ans)"
      ],
      "execution_count": 96,
      "outputs": [
        {
          "output_type": "stream",
          "text": [
            "17\n",
            "4368\n"
          ],
          "name": "stdout"
        }
      ]
    },
    {
      "cell_type": "markdown",
      "metadata": {
        "id": "LBl-PkGRZA6Y"
      },
      "source": [
        "## itertoolsを使う（PythonでTLE）\r\n",
        "いちいちリスト作らないといけない"
      ]
    },
    {
      "cell_type": "code",
      "metadata": {
        "colab": {
          "base_uri": "https://localhost:8080/"
        },
        "id": "3sVg_6VxYnbM",
        "outputId": "3dcbc019-ef68-433b-b2dc-45607c9be3fe"
      },
      "source": [
        "import itertools\r\n",
        "l = int(input())\r\n",
        "l_list = [i for i in range(l-1)]\r\n",
        "l_list = list(itertools.combinations(l_list,11))\r\n",
        "print(len(l_list))"
      ],
      "execution_count": 90,
      "outputs": [
        {
          "output_type": "stream",
          "text": [
            "17\n",
            "4368\n"
          ],
          "name": "stdout"
        }
      ]
    },
    {
      "cell_type": "markdown",
      "metadata": {
        "id": "Cs9GYnWIZqEM"
      },
      "source": [
        "## mathを使う（PythonでAC）\r\n",
        "$$\r\n",
        "_n C _r = \\frac{n!}{r! * (n - r)!}\r\n",
        "$$\r\n",
        "を計算する.\r\n",
        "\r\n",
        "階上計算は, `math`の`factorial()`を使う\r\n",
        "\r\n",
        "計算誤差の小数点が気になるときは, // でやったりすると良さそう."
      ]
    },
    {
      "cell_type": "code",
      "metadata": {
        "colab": {
          "base_uri": "https://localhost:8080/"
        },
        "id": "effq1JiNYnYT",
        "outputId": "79e8c1f7-2b6f-4585-ff18-dc1faa2defcc"
      },
      "source": [
        "import math\r\n",
        "l = int(input())\r\n",
        "ans = math.factorial(l-1) // math.factorial(11) // math.factorial(l-12)\r\n",
        "print(int(ans))"
      ],
      "execution_count": 95,
      "outputs": [
        {
          "output_type": "stream",
          "text": [
            "17\n",
            "4368\n"
          ],
          "name": "stdout"
        }
      ]
    },
    {
      "cell_type": "markdown",
      "metadata": {
        "id": "tdAiGowxgoO2"
      },
      "source": [
        "## 再帰で自分で計算（PythonでAC）\r\n",
        "$_n C _r = _{n-1} C _r + _{n-1} C _{r-1}$ を利用して再帰的に自分で計算する"
      ]
    },
    {
      "cell_type": "code",
      "metadata": {
        "id": "Q1ZoQrMaYnVP"
      },
      "source": [
        "nCr = {}\r\n",
        "def cmb(n, r):\r\n",
        "  if r == 0 or r == n:\r\n",
        "    return 1\r\n",
        "  if r == 1:\r\n",
        "    return n\r\n",
        "  if (n,r) in nCr:\r\n",
        "    return nCr[(n,r)]\r\n",
        "  nCr[(n,r)] = cmb(n-1,r) + cmb(n-1, r-1)\r\n",
        "  return nCr[(n,r)]"
      ],
      "execution_count": 99,
      "outputs": []
    },
    {
      "cell_type": "code",
      "metadata": {
        "colab": {
          "base_uri": "https://localhost:8080/"
        },
        "id": "R67d08UZYnQQ",
        "outputId": "90ba8a52-d3fa-4dc6-ced6-3fba7ca2c705"
      },
      "source": [
        "\r\n",
        "\r\n"
      ],
      "execution_count": 104,
      "outputs": [
        {
          "output_type": "stream",
          "text": [
            "17\n",
            "4368\n"
          ],
          "name": "stdout"
        }
      ]
    },
    {
      "cell_type": "markdown",
      "metadata": {
        "id": "eUv-LyhjqWYl"
      },
      "source": [
        "# D - Stamp\r\n",
        "考え方.\r\n",
        "\r\n",
        "1. 白マスの連続区間長を全部計算する\r\n",
        "2. 連続区間長の中で最小のモノをスタンプ長kとする\r\n",
        "3. 白マス連続区間長の各要素をkで割って, 天井値(ceil)の総和が答え\r\n",
        "\r\n",
        "ただし, 全部青マスの場合と青マスが存在しない場合には別の処理をする.\r\n"
      ]
    },
    {
      "cell_type": "markdown",
      "metadata": {
        "id": "rsvd-1ibSg48"
      },
      "source": [
        "## TLEになってしまった\r\n"
      ]
    },
    {
      "cell_type": "code",
      "metadata": {
        "colab": {
          "base_uri": "https://localhost:8080/"
        },
        "id": "oRp-T1LyqXgK",
        "outputId": "642f94f6-2358-4047-c35c-4371aa34d6e8"
      },
      "source": [
        "n, m = map(int, input().split())\r\n",
        "a = sorted(list(map(int, input().split())))"
      ],
      "execution_count": 65,
      "outputs": [
        {
          "output_type": "stream",
          "text": [
            "13 3\n",
            "13 3 9\n"
          ],
          "name": "stdout"
        }
      ]
    },
    {
      "cell_type": "code",
      "metadata": {
        "id": "xIEWhXsovfB7"
      },
      "source": [
        "m0 = 0\r\n",
        "k = 10000\r\n",
        "mas = [i for i in range(n)]\r\n",
        "ans_list = []\r\n",
        "for i in a:\r\n",
        "  temp = mas[m0:i-1]\r\n",
        "  if temp != []:\r\n",
        "    ans_list.append(temp)\r\n",
        "  m0 = i"
      ],
      "execution_count": 70,
      "outputs": []
    },
    {
      "cell_type": "code",
      "metadata": {
        "id": "YIsbIChDQhc0"
      },
      "source": [
        "k = len(min(ans_list, key=lambda x:len(x)))"
      ],
      "execution_count": 74,
      "outputs": []
    },
    {
      "cell_type": "code",
      "metadata": {
        "id": "a05GxLypQ2NR"
      },
      "source": [
        "import math\r\n",
        "ans = 0\r\n",
        "for i in ans_list:\r\n",
        "  ans += math.ceil(len(i) / k )\r\n",
        "print(ans)"
      ],
      "execution_count": 79,
      "outputs": []
    },
    {
      "cell_type": "code",
      "metadata": {
        "colab": {
          "base_uri": "https://localhost:8080/"
        },
        "id": "kduzj3zgRPrr",
        "outputId": "94f919f9-bfe8-4035-9bca-207d3cb7cdaf"
      },
      "source": [
        "import math\r\n",
        "n, m = map(int, input().split())\r\n",
        "a = sorted(list(map(int, input().split())))\r\n",
        "\r\n",
        "if m == 0:\r\n",
        "  print(1)\r\n",
        "elif m == n:\r\n",
        "  print(0)\r\n",
        "else:\r\n",
        "  m0 = 0\r\n",
        "  ans_list = []\r\n",
        "  mas = [i for i in range(n)]\r\n",
        "  for i in a:\r\n",
        "    temp = mas[m0:i-1]\r\n",
        "    if temp != []:\r\n",
        "      ans_list.append(temp)\r\n",
        "    m0 = i\r\n",
        "  print(ans_list)\r\n",
        "  k = len(min(ans_list, key=lambda x:len(x)))\r\n",
        "  ans = 0\r\n",
        "  for i in ans_list:\r\n",
        "    ans += math.ceil(len(i)/k)\r\n",
        "  print(ans)"
      ],
      "execution_count": 81,
      "outputs": [
        {
          "output_type": "stream",
          "text": [
            "13 3\n",
            "13 3 9\n",
            "[[0, 1], [3, 4, 5, 6, 7], [9, 10, 11]]\n",
            "6\n"
          ],
          "name": "stdout"
        }
      ]
    },
    {
      "cell_type": "markdown",
      "metadata": {
        "id": "voRfEbWu3rMM"
      },
      "source": [
        "## 模範解答（PythonでAC）\r\n",
        "m個の青マスによって, (m+1)個の区間に分けられるので, 予め白マスが連続する区間の長さのリストbを作成してから計算している.\r\n",
        "\r\n",
        "また, Aの入力値を全て-1して, リストのインデックスと対応するようにしている."
      ]
    },
    {
      "cell_type": "code",
      "metadata": {
        "colab": {
          "base_uri": "https://localhost:8080/"
        },
        "id": "8udhA_4VSFvJ",
        "outputId": "f41f57b5-f45c-49ca-a6c6-4703bdead983"
      },
      "source": [
        "n,m = map(int, input().split())\r\n",
        "a = sorted(list(map(lambda x:int(x)-1, input().split())))"
      ],
      "execution_count": 113,
      "outputs": [
        {
          "output_type": "stream",
          "text": [
            "5 5\n",
            "5 2 1 4 3\n"
          ],
          "name": "stdout"
        }
      ]
    },
    {
      "cell_type": "code",
      "metadata": {
        "colab": {
          "base_uri": "https://localhost:8080/"
        },
        "id": "YzqEENJQ5C5R",
        "outputId": "f52bdfa8-a054-4c77-9296-f54d2f7f1873"
      },
      "source": [
        "if m == 0:\r\n",
        "  ans = 1\r\n",
        "else:\r\n",
        "  b = [0 for _ in range(m+1)]\r\n",
        "  b[0] = a[0] - 0\r\n",
        "\r\n",
        "  for i in range(1,m):\r\n",
        "    b[i] = a[i] - a[i-1] - 1\r\n",
        "  b[m] = (n-1) - a[m-1]\r\n",
        "\r\n",
        "  if all(i == 0 for i in b):\r\n",
        "    ans = 0\r\n",
        "  else:\r\n",
        "    k = min(i for i in b if i != 0)\r\n",
        "    ans = sum(-(-i // k) for i in b)\r\n",
        "\r\n",
        "print(ans)"
      ],
      "execution_count": 114,
      "outputs": [
        {
          "output_type": "stream",
          "text": [
            "0\n"
          ],
          "name": "stdout"
        }
      ]
    },
    {
      "cell_type": "markdown",
      "metadata": {
        "id": "8R5NCcE6Aaz_"
      },
      "source": [
        "## おまけ：天井関数\r\n",
        "連続値 x の小数点を切り上げる関数を一般に天井関数（ceil）と言ったりする.\r\n",
        "\r\n",
        "ex.\r\n",
        "- ceil(2.2) = 3\r\n",
        "- ceil(-3.4) = -3\r\n",
        "- ceil(5.0) = 5"
      ]
    },
    {
      "cell_type": "code",
      "metadata": {
        "colab": {
          "base_uri": "https://localhost:8080/"
        },
        "id": "IF_abLei9ZyL",
        "outputId": "0fbd4e3a-0856-4d38-baf4-58f37e9da9e2"
      },
      "source": [
        "import math\r\n",
        "print(math.ceil(2.3))\r\n",
        "print(math.ceil(-3.4))\r\n",
        "print(math.ceil(5.0))"
      ],
      "execution_count": 118,
      "outputs": [
        {
          "output_type": "stream",
          "text": [
            "3\n",
            "-3\n",
            "5\n"
          ],
          "name": "stdout"
        }
      ]
    },
    {
      "cell_type": "markdown",
      "metadata": {
        "id": "MvGNNF08BGO5"
      },
      "source": [
        "`//` の演算が, 余り切り捨てであり, 負の数は大小逆になることを利用して以下のようにしてかける"
      ]
    },
    {
      "cell_type": "code",
      "metadata": {
        "colab": {
          "base_uri": "https://localhost:8080/"
        },
        "id": "GgnoQn2-A_hC",
        "outputId": "b3ec9ca3-2c5a-4995-be3f-efc1b92eef93"
      },
      "source": [
        "x = 5\r\n",
        "k = 2\r\n",
        "\r\n",
        "# x/k の小数点切り上げを計算したい\r\n",
        "ans = - (-x//k)\r\n",
        "print(ans)"
      ],
      "execution_count": 121,
      "outputs": [
        {
          "output_type": "stream",
          "text": [
            "3\n"
          ],
          "name": "stdout"
        }
      ]
    }
  ]
}