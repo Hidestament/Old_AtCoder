{
  "nbformat": 4,
  "nbformat_minor": 0,
  "metadata": {
    "colab": {
      "name": "ABC185.ipynb",
      "provenance": [],
      "collapsed_sections": [],
      "authorship_tag": "ABX9TyMhutOoTk4eWPnIXMwWYaVx",
      "include_colab_link": true
    },
    "kernelspec": {
      "name": "python3",
      "display_name": "Python 3"
    },
    "language_info": {
      "name": "python"
    }
  },
  "cells": [
    {
      "cell_type": "markdown",
      "metadata": {
        "id": "view-in-github",
        "colab_type": "text"
      },
      "source": [
        "<a href=\"https://colab.research.google.com/github/Hidestament/AtCoder/blob/main/ABC/ABC185.ipynb\" target=\"_parent\"><img src=\"https://colab.research.google.com/assets/colab-badge.svg\" alt=\"Open In Colab\"/></a>"
      ]
    },
    {
      "cell_type": "markdown",
      "source": [
        "# [AtCoder Beginner Contest 185](https://atcoder.jp/contests/abc185)"
      ],
      "metadata": {
        "id": "0msIG0Krk5qS"
      }
    },
    {
      "cell_type": "markdown",
      "source": [
        "## [A - ABC Preparation](https://atcoder.jp/contests/abc185/tasks/abc185_a)"
      ],
      "metadata": {
        "id": "3_iai7qRk2nm"
      }
    },
    {
      "cell_type": "code",
      "execution_count": null,
      "metadata": {
        "id": "Immmtfp7k0K4"
      },
      "outputs": [],
      "source": [
        "A1, A2, A3, A4 = map(int, input().split())\n",
        "print(min(A1, A2, A3, A4))"
      ]
    },
    {
      "cell_type": "markdown",
      "source": [
        "## [B - Smartphone Addiction](https://atcoder.jp/contests/abc185/tasks/abc185_b)"
      ],
      "metadata": {
        "id": "b7OC5osalGA0"
      }
    },
    {
      "cell_type": "code",
      "source": [
        "N, M, T = map(int, input().split())\n",
        "\n",
        "now = N\n",
        "time = 0\n",
        "for _ in range(M):\n",
        "    A, B = map(int, input().split())\n",
        "    dec = A - time\n",
        "    if now - dec <= 0:\n",
        "        print(\"No\")\n",
        "        exit()\n",
        "    now -= dec\n",
        "    now = min(now+(B-A), N)\n",
        "    time = B\n",
        "else:\n",
        "    dec = T - time\n",
        "    if now - dec <= 0:\n",
        "        print(\"No\")\n",
        "    else:\n",
        "        print(\"Yes\")"
      ],
      "metadata": {
        "colab": {
          "base_uri": "https://localhost:8080/"
        },
        "id": "UjTLLYwclJSd",
        "outputId": "a349d1b9-3b6c-4d72-fc1b-07657dfda4c1"
      },
      "execution_count": null,
      "outputs": [
        {
          "output_type": "stream",
          "name": "stdout",
          "text": [
            "10 2 20\n",
            "9 11\n",
            "13 16\n",
            "No\n"
          ]
        }
      ]
    },
    {
      "cell_type": "markdown",
      "source": [
        "## [C - Duodecim Ferra](https://atcoder.jp/contests/abc185/tasks/abc185_c)"
      ],
      "metadata": {
        "id": "gELRF9dRnIXg"
      }
    },
    {
      "cell_type": "code",
      "source": [
        "L = int(input())\n",
        "from math import factorial\n",
        "print(factorial(L-1) // factorial(11) // factorial(L - 1 - 11))"
      ],
      "metadata": {
        "colab": {
          "base_uri": "https://localhost:8080/"
        },
        "id": "_DrfdbNtmpt4",
        "outputId": "c52d75b9-4b33-4acf-e3e1-1b941849e32c"
      },
      "execution_count": null,
      "outputs": [
        {
          "output_type": "stream",
          "name": "stdout",
          "text": [
            "200\n",
            "366461620334848584\n"
          ]
        }
      ]
    },
    {
      "cell_type": "markdown",
      "source": [
        "### Scipyでもできる"
      ],
      "metadata": {
        "id": "avi_rjAEqWum"
      }
    },
    {
      "cell_type": "code",
      "source": [
        "from scipy.special import comb\n",
        "L = int(input())\n",
        "print(comb(L-1, 11, exact=True))"
      ],
      "metadata": {
        "id": "wfwEqTc_qWcy"
      },
      "execution_count": null,
      "outputs": []
    },
    {
      "cell_type": "markdown",
      "source": [
        "## [D - Stamp](https://atcoder.jp/contests/abc185/tasks/abc185_d)"
      ],
      "metadata": {
        "id": "1YLvz71LpLK2"
      }
    },
    {
      "cell_type": "code",
      "source": [
        "N, M = map(int, input().split())\n",
        "A = list(map(int, input().split()))\n",
        "A.sort()"
      ],
      "metadata": {
        "colab": {
          "base_uri": "https://localhost:8080/"
        },
        "id": "XcNvNz0wpN6O",
        "outputId": "fbb451e9-23c7-4bfa-de6b-b8f01c6e4a3a"
      },
      "execution_count": null,
      "outputs": [
        {
          "name": "stdout",
          "output_type": "stream",
          "text": [
            "5 2\n",
            "1 3\n"
          ]
        }
      ]
    },
    {
      "cell_type": "code",
      "source": [
        "A = [0] + A + [N+1]\n",
        "k = 10**10\n",
        "for i in range(1, len(A)):\n",
        "    if A[i] - A[i-1] > 1:\n",
        "        k = min(k, A[i] - A[i-1] - 1)"
      ],
      "metadata": {
        "id": "jeLEhEFyt8un"
      },
      "execution_count": null,
      "outputs": []
    },
    {
      "cell_type": "code",
      "source": [
        "cnt = 0\n",
        "for i in range(1, len(A)):\n",
        "    if A[i] - A[i-1] > 1:\n",
        "        cnt += -int(-(A[i] - A[i-1] - 1)//k)\n",
        "print(cnt if k < 10**10 else 0)"
      ],
      "metadata": {
        "colab": {
          "base_uri": "https://localhost:8080/"
        },
        "id": "_JOMFA3zroWQ",
        "outputId": "0e585556-3f9d-49b8-cdfd-db9c78239f83"
      },
      "execution_count": null,
      "outputs": [
        {
          "output_type": "stream",
          "name": "stdout",
          "text": [
            "1\n"
          ]
        }
      ]
    },
    {
      "cell_type": "markdown",
      "source": [
        "## [E - Sequence Matchiing](https://atcoder.jp/contests/abc185/tasks/abc185_e)"
      ],
      "metadata": {
        "id": "Lr3PtosetOfu"
      }
    },
    {
      "cell_type": "markdown",
      "source": [
        "まずは最長共通部分列のDPを復習する"
      ],
      "metadata": {
        "id": "zNCSnM2XUFPY"
      }
    },
    {
      "cell_type": "code",
      "source": [
        "s = str(input())\n",
        "t = str(input())"
      ],
      "metadata": {
        "colab": {
          "base_uri": "https://localhost:8080/"
        },
        "id": "lJNwrsBfUFCF",
        "outputId": "30bde6ba-561a-4b07-da7b-fd9032cdf8ed"
      },
      "execution_count": null,
      "outputs": [
        {
          "name": "stdout",
          "output_type": "stream",
          "text": [
            "abracadabra\n",
            "avadakedavra\n"
          ]
        }
      ]
    },
    {
      "cell_type": "code",
      "source": [
        "DP = [[0] * (len(t) + 1) for _ in range(len(s) + 1)]"
      ],
      "metadata": {
        "id": "ajPx_O6QUE_Y"
      },
      "execution_count": null,
      "outputs": []
    },
    {
      "cell_type": "code",
      "source": [
        "for i in range(1, len(s) + 1):\n",
        "    for j in range(1, len(t) + 1):\n",
        "        if s[i-1] == t[j-1]:\n",
        "            DP[i][j] = DP[i-1][j-1] + 1\n",
        "        else:\n",
        "            DP[i][j] = max(DP[i][j], DP[i-1][j], DP[i][j-1])"
      ],
      "metadata": {
        "id": "lEnBxwblUE8q"
      },
      "execution_count": null,
      "outputs": []
    },
    {
      "cell_type": "markdown",
      "source": [
        "この問題"
      ],
      "metadata": {
        "id": "YLFB-4oMVv85"
      }
    },
    {
      "cell_type": "code",
      "source": [
        "N, M = map(int, input().split())\n",
        "A = list(map(int, input().split()))\n",
        "B = list(map(int, input().split()))"
      ],
      "metadata": {
        "colab": {
          "base_uri": "https://localhost:8080/"
        },
        "id": "Fi_cvXNXVPo3",
        "outputId": "1a4deb9f-563b-41b4-f664-b88d379631aa"
      },
      "execution_count": null,
      "outputs": [
        {
          "name": "stdout",
          "output_type": "stream",
          "text": [
            "4 3\n",
            "1 2 1 3\n",
            "1 3 1\n"
          ]
        }
      ]
    },
    {
      "cell_type": "code",
      "source": [
        "INF = 10**10\n",
        "DP = [[INF] * (M+1) for _ in range(N+1)]"
      ],
      "metadata": {
        "id": "eUy4OdUoVPmd"
      },
      "execution_count": null,
      "outputs": []
    },
    {
      "cell_type": "code",
      "source": [
        "for i in range(N+1):\n",
        "    DP[i][0] = i\n",
        "for j in range(M+1):\n",
        "    DP[0][j] = j"
      ],
      "metadata": {
        "id": "zy4PqOTPs7-M"
      },
      "execution_count": null,
      "outputs": []
    },
    {
      "cell_type": "code",
      "source": [
        "for i in range(1, N+1):\n",
        "    for j in range(1, M+1):\n",
        "        if A[i-1] == B[j-1]:\n",
        "            y = 0\n",
        "        else:\n",
        "            y = 1\n",
        "\n",
        "        DP[i][j] = min(DP[i][j], DP[i][j-1] + 1, DP[i-1][j] + 1, DP[i-1][j-1] + y)"
      ],
      "metadata": {
        "id": "69b_vMP8s77e"
      },
      "execution_count": null,
      "outputs": []
    },
    {
      "cell_type": "code",
      "source": [
        "print(DP[-1][-1])"
      ],
      "metadata": {
        "colab": {
          "base_uri": "https://localhost:8080/"
        },
        "id": "y5qMMsqVs75C",
        "outputId": "d78333e5-7364-4630-b6df-7275de763980"
      },
      "execution_count": null,
      "outputs": [
        {
          "output_type": "execute_result",
          "data": {
            "text/plain": [
              "[[0, 1, 2, 3], [1, 0, 1, 2], [2, 1, 1, 2], [2, 2, 2, 1], [2, 3, 2, 2]]"
            ]
          },
          "metadata": {},
          "execution_count": 6
        }
      ]
    },
    {
      "cell_type": "markdown",
      "source": [
        "## [F - Range Xor Query](https://atcoder.jp/contests/abc185/tasks/abc185_f)"
      ],
      "metadata": {
        "id": "hiwKPsO8tKP_"
      }
    },
    {
      "cell_type": "code",
      "source": [
        "class SegmentTree:\n",
        "    \"\"\" 1点更新・区間集約 Segment Tree. 非再起・1-index・非可換\n",
        "\n",
        "    Attributes:\n",
        "        tree (List[Union[int, float]]): セグメントツリーを表す配列\n",
        "        segfunc (Callable): 集約を行う関数 (モノイド上の演算)\n",
        "        ide_ele (float): 集約の関数における単位元　（モノイド上の単位元）\n",
        "        update (int, float): 元の配列の更新 & セグメントツリーの更新\n",
        "        query (int, int): 区間集約値の取得\n",
        "    \"\"\"\n",
        "    def __init__(self, n: int, ide_ele: float, seg_func: callable):\n",
        "        \"\"\"\n",
        "        Args:\n",
        "            n (int): 元の配列のサイズ\n",
        "            ide_ele (float): モノイドにおける単位元\n",
        "            segfunc (callable): 集約を行う関数 （モノイド上の演算）\n",
        "        \"\"\"\n",
        "        self.segfunc = seg_func\n",
        "        self.ide_ele = ide_ele\n",
        "        self.num = 1 << (n - 1).bit_length()\n",
        "        self.tree = [self.ide_ele] * (2 * self.num)\n",
        "    \n",
        "    def update(self, i: int, x: float) -> None:\n",
        "        \"\"\"元の配列のi番目を x に変更（上書き）する. それに伴ってセグメントツリーも更新する. +=のようなupdateではない.\n",
        "\n",
        "        Args:\n",
        "            i (int): 元の配列のi番目の要素. 元の配列の0-indexの\n",
        "            x (float): 変更後の値        \n",
        "        \"\"\"\n",
        "        i += self.num\n",
        "        self.tree[i] ^= x\n",
        "        while i > 1:\n",
        "            i >>= 1\n",
        "            self.tree[i] = self.segfunc(self.tree[i << 1], self.tree[(i << 1) + 1])\n",
        "        \n",
        "    def query(self, l: int, r: int):\n",
        "        \"\"\"元の配列の閉区間[l, r]のsegfuncにおける集約値を取得する\n",
        "\n",
        "        Args:\n",
        "            l (int): 元の配列の集約を行う区間の左端のindex. 0-index\n",
        "            r (int): 元の配列の集約を行う区間の右端のindex. 0-index\n",
        "        \"\"\"\n",
        "        # [l, r) として葉から計算していく\n",
        "        l += self.num\n",
        "        r += self.num + 1\n",
        "\n",
        "        l_res = self.ide_ele\n",
        "        r_res = self.ide_ele\n",
        "        \n",
        "        while l < r:\n",
        "            if l & 1:  # lが奇数だったらそのノードを集約する\n",
        "                l_res = self.segfunc(l_res, self.tree[l])\n",
        "                l += 1  # 右に進む\n",
        "            if r & 1:  # rが奇数だったら, rは開区間なので その1つ左ノードを集約する\n",
        "                r_res = self.segfunc(self.tree[r - 1], r_res)\n",
        "\n",
        "            l >>= 1  # 上に進む（２で割って切り捨て）\n",
        "            r >>= 1\n",
        "        \n",
        "        return self.segfunc(l_res, r_res)"
      ],
      "metadata": {
        "id": "ngVcb92-sxET"
      },
      "execution_count": null,
      "outputs": []
    },
    {
      "cell_type": "code",
      "source": [
        "N, Q = map(int, input().split())\n",
        "A = list(map(int, input().split()))\n",
        "seg = SegmentTree(N, 0, lambda x, y: x^y)"
      ],
      "metadata": {
        "colab": {
          "base_uri": "https://localhost:8080/"
        },
        "id": "0JqDTTHzBsKl",
        "outputId": "860665f2-6f07-4c46-fdc1-961f0355e15e"
      },
      "execution_count": null,
      "outputs": [
        {
          "name": "stdout",
          "output_type": "stream",
          "text": [
            "3 4\n",
            "1 2 3\n"
          ]
        }
      ]
    },
    {
      "cell_type": "code",
      "source": [
        "# 初期配列の設定\n",
        "for i, x in enumerate(A):\n",
        "    seg.update(i, x)"
      ],
      "metadata": {
        "id": "4f6to5vaB0rn"
      },
      "execution_count": null,
      "outputs": []
    },
    {
      "cell_type": "code",
      "source": [
        "# クエリ処理\n",
        "for _ in range(Q):\n",
        "    t, x, y = map(int, input().split())\n",
        "    if t == 1:  # 更新\n",
        "        seg.update(x-1, y)\n",
        "    else:\n",
        "        print(seg.query(x-1, y-1))"
      ],
      "metadata": {
        "colab": {
          "base_uri": "https://localhost:8080/"
        },
        "id": "QSm_zD55B8Rb",
        "outputId": "be65af24-5786-4f87-f6c5-1c4bea586548"
      },
      "execution_count": null,
      "outputs": [
        {
          "output_type": "stream",
          "name": "stdout",
          "text": [
            "2 1 3\n",
            "0\n",
            "2 2 3\n",
            "1\n",
            "1 2 3\n",
            "2 2 3\n",
            "2\n"
          ]
        }
      ]
    }
  ]
}