{
  "nbformat": 4,
  "nbformat_minor": 0,
  "metadata": {
    "colab": {
      "name": "ABC186.ipynb",
      "provenance": [],
      "collapsed_sections": [],
      "authorship_tag": "ABX9TyOylHSS3TzhLRV21GUKECGB",
      "include_colab_link": true
    },
    "kernelspec": {
      "name": "python3",
      "display_name": "Python 3"
    },
    "language_info": {
      "name": "python"
    }
  },
  "cells": [
    {
      "cell_type": "markdown",
      "metadata": {
        "id": "view-in-github",
        "colab_type": "text"
      },
      "source": [
        "<a href=\"https://colab.research.google.com/github/Hidestament/AtCoder/blob/main/ABC/ABC186.ipynb\" target=\"_parent\"><img src=\"https://colab.research.google.com/assets/colab-badge.svg\" alt=\"Open In Colab\"/></a>"
      ]
    },
    {
      "cell_type": "markdown",
      "source": [
        "# [AtCoder Beginner Contest 186](https://atcoder.jp/contests/abc186)"
      ],
      "metadata": {
        "id": "FDln9bDT3NNS"
      }
    },
    {
      "cell_type": "markdown",
      "source": [
        "## [A - Brick](https://atcoder.jp/contests/abc186/tasks/abc186_a)"
      ],
      "metadata": {
        "id": "eOdqwmPF3RPy"
      }
    },
    {
      "cell_type": "code",
      "execution_count": null,
      "metadata": {
        "id": "ZBgh9EGR3MYN"
      },
      "outputs": [],
      "source": [
        "N, W = map(int, input().split())\n",
        "print(N // W)"
      ]
    },
    {
      "cell_type": "markdown",
      "source": [
        "## [B - Blocks on Grid](https://atcoder.jp/contests/abc186/tasks/abc186_b)"
      ],
      "metadata": {
        "id": "NWflSrwh3bnO"
      }
    },
    {
      "cell_type": "code",
      "source": [
        "H, W = map(int, input().split())\n",
        "grid = [list(map(int, input().split())) for _ in range(H)]\n",
        "\n",
        "min_a = min(grid[h][w] for w in range(W) for h in range(H))\n",
        "s = sum([grid[h][w] - min_a for w in range(W) for h in range(H)])"
      ],
      "metadata": {
        "colab": {
          "base_uri": "https://localhost:8080/"
        },
        "id": "-MQTKEW83d8Q",
        "outputId": "8dbc0fcb-e6bd-444b-b7e0-e1336a7fc63c"
      },
      "execution_count": null,
      "outputs": [
        {
          "name": "stdout",
          "output_type": "stream",
          "text": [
            "2 3\n",
            "2 2 3\n",
            "3 2 2\n"
          ]
        }
      ]
    },
    {
      "cell_type": "code",
      "source": [
        "print(s)"
      ],
      "metadata": {
        "colab": {
          "base_uri": "https://localhost:8080/"
        },
        "id": "xIqp-w_Y4L32",
        "outputId": "9af6c090-221f-409c-ceff-36ddb7c5a857"
      },
      "execution_count": null,
      "outputs": [
        {
          "output_type": "stream",
          "name": "stdout",
          "text": [
            "2\n"
          ]
        }
      ]
    },
    {
      "cell_type": "markdown",
      "source": [
        "## [C - Unlucky 7](https://atcoder.jp/contests/abc186/tasks/abc186_c)"
      ],
      "metadata": {
        "id": "FsS5lPDY4S74"
      }
    },
    {
      "cell_type": "code",
      "source": [
        "N = int(input())\n",
        "cnt = 0\n",
        "for i in range(1, N+1):\n",
        "    if \"7\" in str(i): continue\n",
        "    if \"7\" in format(i, 'o'): continue\n",
        "    cnt += 1\n",
        "print(cnt)"
      ],
      "metadata": {
        "id": "U39s83ux31uB"
      },
      "execution_count": null,
      "outputs": []
    },
    {
      "cell_type": "markdown",
      "source": [
        "## [D - Sum of difference](https://atcoder.jp/contests/abc186/tasks/abc186_d)"
      ],
      "metadata": {
        "id": "nNd_eI6H4_N3"
      }
    },
    {
      "cell_type": "code",
      "source": [
        "from itertools import accumulate\n",
        "N = int(input())\n",
        "A = list(map(int, input().split()))"
      ],
      "metadata": {
        "colab": {
          "base_uri": "https://localhost:8080/"
        },
        "id": "23KoKm-936tq",
        "outputId": "b697c571-a330-4e61-d3d1-550e9924e1da"
      },
      "execution_count": null,
      "outputs": [
        {
          "name": "stdout",
          "output_type": "stream",
          "text": [
            "3\n",
            "5 1 2\n"
          ]
        }
      ]
    },
    {
      "cell_type": "code",
      "source": [
        "A.sort(reverse=True)\n",
        "acc = list(accumulate(A))"
      ],
      "metadata": {
        "id": "C5say4ET37eJ"
      },
      "execution_count": null,
      "outputs": []
    },
    {
      "cell_type": "code",
      "source": [
        "s = 0\n",
        "for i in range(N-1):\n",
        "    s += (N - (i + 1)) * A[i] - (acc[-1] - acc[i])\n",
        "print(s)"
      ],
      "metadata": {
        "colab": {
          "base_uri": "https://localhost:8080/"
        },
        "id": "P56Ld7zWPNZa",
        "outputId": "f8fb3e7b-2424-459c-e7ba-03c26fe4365b"
      },
      "execution_count": null,
      "outputs": [
        {
          "output_type": "stream",
          "name": "stdout",
          "text": [
            "8\n"
          ]
        }
      ]
    },
    {
      "cell_type": "markdown",
      "source": [
        "## [E - Throne](https://atcoder.jp/contests/abc186/tasks/abc186_e)"
      ],
      "metadata": {
        "id": "mDIVCSbuSgXE"
      }
    },
    {
      "cell_type": "markdown",
      "source": [
        "Python 3.8からは `pow(a, -1, m)`で mod m 上でのaの逆元を求められる. Colaboratory上のPythonはPython 3.7なのでエラーが出る"
      ],
      "metadata": {
        "id": "3-1QcSpRhxTM"
      }
    },
    {
      "cell_type": "code",
      "source": [
        "T = int(input())"
      ],
      "metadata": {
        "colab": {
          "base_uri": "https://localhost:8080/"
        },
        "id": "TGwYy_G-MiyS",
        "outputId": "916a9edd-276f-44f7-b984-718f4ff7c2ed"
      },
      "execution_count": null,
      "outputs": [
        {
          "name": "stdout",
          "output_type": "stream",
          "text": [
            "4\n"
          ]
        }
      ]
    },
    {
      "cell_type": "code",
      "source": [
        "from math import gcd\n",
        "def solve_linear_congruential_equation(a, b, m):\n",
        "    \"\"\"\n",
        "    ax = b (mod m) を 解く\n",
        "    \"\"\"\n",
        "    g = gcd(a, m)\n",
        "    if g == 1:\n",
        "        x = b * pow(a, -1, m)\n",
        "        return x % m\n",
        "    elif b % g == 0:\n",
        "        return solve_linear_congruential_equation(a//g, b//g, m//g)\n",
        "    else:\n",
        "        return -1"
      ],
      "metadata": {
        "id": "Yh6JHyjQf4xg"
      },
      "execution_count": null,
      "outputs": []
    },
    {
      "cell_type": "code",
      "source": [
        "for _ in range(T):\n",
        "    N, S, K = map(int, input().split())\n",
        "    print(solve_linear_congruential_equation(K, -1 * S, N))"
      ],
      "metadata": {
        "id": "-VwUwHUbMlzM"
      },
      "execution_count": null,
      "outputs": []
    }
  ]
}