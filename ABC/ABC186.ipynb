{
  "nbformat": 4,
  "nbformat_minor": 0,
  "metadata": {
    "colab": {
      "name": "ABC186.ipynb",
      "provenance": [],
      "authorship_tag": "ABX9TyOxPqC7+mjayxXgYj8Wv7Nf",
      "include_colab_link": true
    },
    "kernelspec": {
      "name": "python3",
      "display_name": "Python 3"
    }
  },
  "cells": [
    {
      "cell_type": "markdown",
      "metadata": {
        "id": "view-in-github",
        "colab_type": "text"
      },
      "source": [
        "<a href=\"https://colab.research.google.com/github/Hidestament/AtCoder/blob/main/ABC/ABC186.ipynb\" target=\"_parent\"><img src=\"https://colab.research.google.com/assets/colab-badge.svg\" alt=\"Open In Colab\"/></a>"
      ]
    },
    {
      "cell_type": "markdown",
      "metadata": {
        "id": "xQdNM53J-mgP"
      },
      "source": [
        "# A - Brick"
      ]
    },
    {
      "cell_type": "code",
      "metadata": {
        "colab": {
          "base_uri": "https://localhost:8080/"
        },
        "id": "PwglVusT-bci",
        "outputId": "9ffad9e0-9d8e-4672-fe8d-afbc15c834bd"
      },
      "source": [
        "n, w = map(int, input().split())\r\n",
        "print(n // w)"
      ],
      "execution_count": 5,
      "outputs": [
        {
          "output_type": "stream",
          "text": [
            "10 3\n",
            "3\n"
          ],
          "name": "stdout"
        }
      ]
    },
    {
      "cell_type": "markdown",
      "metadata": {
        "id": "moaCTlqy_CW9"
      },
      "source": [
        "# B - Blocks on Grid"
      ]
    },
    {
      "cell_type": "markdown",
      "metadata": {
        "id": "nA8QjjFdMBaZ"
      },
      "source": [
        "## 通ったが, 複雑になってしまった"
      ]
    },
    {
      "cell_type": "code",
      "metadata": {
        "colab": {
          "base_uri": "https://localhost:8080/"
        },
        "id": "6xzu36vu-3Hf",
        "outputId": "7d366cee-ace5-4a7d-975e-48873c7d2844"
      },
      "source": [
        "h, w = map(int, input().split())\r\n",
        "grid = [sorted(list(map(int, input().split()))) for _ in range(h)]"
      ],
      "execution_count": 54,
      "outputs": [
        {
          "output_type": "stream",
          "text": [
            "3 2\n",
            "4 4\n",
            "4 4\n",
            "4 4\n"
          ],
          "name": "stdout"
        }
      ]
    },
    {
      "cell_type": "code",
      "metadata": {
        "colab": {
          "base_uri": "https://localhost:8080/"
        },
        "id": "OohZWmvQ_dMo",
        "outputId": "92a3eb40-fe29-4e69-aa1b-c3690090582e"
      },
      "source": [
        "min_val = 1000\r\n",
        "ans = 0\r\n",
        "for i in range(h):\r\n",
        "  temp = grid[i][0]\r\n",
        "  if temp < min_val:\r\n",
        "    ans += (min_val - temp) * i * w\r\n",
        "    ans += sum(j - temp for j in grid[i] if j > temp)\r\n",
        "    min_val = temp\r\n",
        "  elif temp >= min_val:\r\n",
        "    ans += sum(j - min_val for j in grid[i] if j > min_val)\r\n",
        "\r\n",
        "print(ans)"
      ],
      "execution_count": 55,
      "outputs": [
        {
          "output_type": "stream",
          "text": [
            "0\n",
            "0\n",
            "0\n",
            "0\n"
          ],
          "name": "stdout"
        }
      ]
    },
    {
      "cell_type": "markdown",
      "metadata": {
        "id": "PB8_O3_hMFym"
      },
      "source": [
        "## Numpy使ってみる"
      ]
    },
    {
      "cell_type": "code",
      "metadata": {
        "colab": {
          "base_uri": "https://localhost:8080/"
        },
        "id": "48UyVO3hMHxB",
        "outputId": "4bbf9223-588f-47af-a70b-0e9913b78267"
      },
      "source": [
        "import numpy as np\r\n",
        "h, w = map(int, input().split())\r\n",
        "grid = [list(map(int, input().split())) for _ in range(h)]\r\n",
        "grid = np.array(grid)"
      ],
      "execution_count": 92,
      "outputs": [
        {
          "output_type": "stream",
          "text": [
            "3 2\n",
            "4 4\n",
            "4 4\n",
            "4 4\n"
          ],
          "name": "stdout"
        }
      ]
    },
    {
      "cell_type": "code",
      "metadata": {
        "colab": {
          "base_uri": "https://localhost:8080/"
        },
        "id": "q4aRI0L3MO4f",
        "outputId": "881b1ee6-2200-4e76-ea88-bdc02956f32b"
      },
      "source": [
        "min_val = np.min(grid)\r\n",
        "ans = np.sum(grid - min_val)\r\n",
        "print(ans)"
      ],
      "execution_count": 88,
      "outputs": [
        {
          "output_type": "execute_result",
          "data": {
            "text/plain": [
              "2"
            ]
          },
          "metadata": {
            "tags": []
          },
          "execution_count": 88
        }
      ]
    },
    {
      "cell_type": "markdown",
      "metadata": {
        "id": "8fL6YElvNf8a"
      },
      "source": [
        "## きれいに"
      ]
    },
    {
      "cell_type": "code",
      "metadata": {
        "colab": {
          "base_uri": "https://localhost:8080/"
        },
        "id": "9DLQ2tojNhAL",
        "outputId": "e060f70d-d29a-48c4-ef34-e598a2e495f1"
      },
      "source": [
        "import numpy as np\r\n",
        "h, w = map(int, input().split())\r\n",
        "grid = [list(map(int, input().split())) for _ in range(h)]\r\n",
        "grid = np.array(grid)\r\n",
        "print(np.sum(grid - np.min(grid)))"
      ],
      "execution_count": 93,
      "outputs": [
        {
          "output_type": "stream",
          "text": [
            "2 3\n",
            "2 2 3\n",
            "3 2 2\n",
            "2\n"
          ],
          "name": "stdout"
        }
      ]
    },
    {
      "cell_type": "markdown",
      "metadata": {
        "id": "a_AqSOokBAle"
      },
      "source": [
        "# C - Unlucky 7"
      ]
    },
    {
      "cell_type": "code",
      "metadata": {
        "colab": {
          "base_uri": "https://localhost:8080/"
        },
        "id": "Re4ENfq-BDHU",
        "outputId": "91ee46b5-bb7d-4d07-9d77-a065aab0e9de"
      },
      "source": [
        "n = int(input())"
      ],
      "execution_count": 68,
      "outputs": [
        {
          "output_type": "stream",
          "text": [
            "100000\n"
          ],
          "name": "stdout"
        }
      ]
    },
    {
      "cell_type": "code",
      "metadata": {
        "colab": {
          "base_uri": "https://localhost:8080/"
        },
        "id": "-CIFohzrHLnW",
        "outputId": "df0fc7ca-27fb-4428-bec0-867016f28202"
      },
      "source": [
        "ans = 0\r\n",
        "for i in range(1, n+1):\r\n",
        "  if \"7\" in str(i) or \"7\" in oct(i):\r\n",
        "    ans += 1\r\n",
        "print(n - ans)"
      ],
      "execution_count": 69,
      "outputs": [
        {
          "output_type": "stream",
          "text": [
            "30555\n"
          ],
          "name": "stdout"
        }
      ]
    },
    {
      "cell_type": "markdown",
      "metadata": {
        "id": "eGuvpM5aJOkR"
      },
      "source": [
        "# D - Sum of difference"
      ]
    },
    {
      "cell_type": "markdown",
      "metadata": {
        "id": "9ySWqXSNJ3aA"
      },
      "source": [
        "## TLEになる解答\r\n",
        "N ～ 10^5 なので, 2重for文はTLE（Pypy3でもTLE）"
      ]
    },
    {
      "cell_type": "code",
      "metadata": {
        "colab": {
          "base_uri": "https://localhost:8080/"
        },
        "id": "QFMqXVfiJSYi",
        "outputId": "1c2a973c-d903-43de-a016-eb3baa6f5481"
      },
      "source": [
        "n = int(input())\r\n",
        "a = list(map(int, input().split()))"
      ],
      "execution_count": 75,
      "outputs": [
        {
          "output_type": "stream",
          "text": [
            "5\n",
            "31 41 59 26 53\n"
          ],
          "name": "stdout"
        }
      ]
    },
    {
      "cell_type": "code",
      "metadata": {
        "colab": {
          "base_uri": "https://localhost:8080/"
        },
        "id": "BnwS-tkKJfO2",
        "outputId": "8d5f1a31-9563-450f-9053-f39aa76579ce"
      },
      "source": [
        "ans = 0\r\n",
        "for i in range(n-1):\r\n",
        "  for j in range(i, n):\r\n",
        "    ans += abs(a[i] - a[j])\r\n",
        "print(ans)"
      ],
      "execution_count": 76,
      "outputs": [
        {
          "output_type": "stream",
          "text": [
            "176\n"
          ],
          "name": "stdout"
        }
      ]
    },
    {
      "cell_type": "markdown",
      "metadata": {
        "id": "c1_4XBrJO6NL"
      },
      "source": [
        "## ソートする（しかしPypy3でもTLEになった）\r\n",
        "aをソートすると, $|A_i - A_j| = A_j - A_i$ となる.\r\n",
        "\r\n",
        "\r\n",
        "$$\r\n",
        "\\sum_{i=1}^{N-1} \\sum_{j=i+1}^{N} |A_i - A_j| = \\sum_{i=1}^{N-1} \\sum_{j=i+1}^{N} (A_j - A_i) =\\sum_{i=1}^{N-1} \\left( \\sum_{j=i+1}^{N} A_j - \\sum_{j=i+1}^{N} A_i \\right) = \\sum_{i=1}^{N-1} \\left( \\sum_{j=i+1}^{N} A_j - (N-i-1+1) A_i \\right) = \\sum_{i=1}^{N-1} \\left( \\sum_{j=i+1}^{N} A_j - (N-i) A_i \\right)\r\n",
        "$$\r\n",
        "\r\n",
        "Pythonの配列では, N -> N-1 となることに注意.\r\n",
        "\r\n",
        "すべての $i$ について, $\\sum_{j=i+1}^{N} A_{j}$ を予め求めておく."
      ]
    },
    {
      "cell_type": "code",
      "metadata": {
        "colab": {
          "base_uri": "https://localhost:8080/"
        },
        "id": "BbzuCP2PPhMa",
        "outputId": "bf30e50d-37a5-4b95-a6a7-9f020956c3b2"
      },
      "source": [
        "n = int(input())\r\n",
        "a = sorted(list(map(int, input().split())))"
      ],
      "execution_count": 130,
      "outputs": [
        {
          "output_type": "stream",
          "text": [
            "5\n",
            "31 41 59 26 53\n"
          ],
          "name": "stdout"
        }
      ]
    },
    {
      "cell_type": "code",
      "metadata": {
        "id": "lWwitp-yKE2V"
      },
      "source": [
        "cum_sum = []\r\n",
        "for i in range(n-1):\r\n",
        "  cum_sum.append(sum(a[i+1:]))"
      ],
      "execution_count": 131,
      "outputs": []
    },
    {
      "cell_type": "code",
      "metadata": {
        "id": "93mnTqK9PehE"
      },
      "source": [
        "ans = 0\r\n",
        "for i in range(n-1):\r\n",
        "  ans += cum_sum[i] - (n-1-i) * a[i]"
      ],
      "execution_count": 132,
      "outputs": []
    },
    {
      "cell_type": "code",
      "metadata": {
        "colab": {
          "base_uri": "https://localhost:8080/"
        },
        "id": "NX-9Yh6lRRTd",
        "outputId": "ba9f3000-8541-4aa6-cd95-5610dcab75dc"
      },
      "source": [
        "print(ans)"
      ],
      "execution_count": 123,
      "outputs": [
        {
          "output_type": "stream",
          "text": [
            "176\n"
          ],
          "name": "stdout"
        }
      ]
    },
    {
      "cell_type": "markdown",
      "metadata": {
        "id": "4DYWJisGXmS7"
      },
      "source": [
        "## PythonでAC\r\n",
        "上のcum_sumの作り方を変えてAC（`sum(a[:])`だと計算時間がO(n)かかる）"
      ]
    },
    {
      "cell_type": "code",
      "metadata": {
        "colab": {
          "base_uri": "https://localhost:8080/"
        },
        "id": "EdUC5mGwRZrE",
        "outputId": "b5d75ba1-f662-4b11-e054-6745f053be4c"
      },
      "source": [
        "n = int(input())\r\n",
        "a = sorted(list(map(int, input().split())))\r\n",
        "\r\n",
        "cum_sum = [0 for i in range(n-1)]\r\n",
        "cum_sum[0] = a[-1]\r\n",
        "for i in range(1, n-1):\r\n",
        "  cum_sum[i] = cum_sum[i-1] + a[-i-1]\r\n",
        "\r\n",
        "ans = 0\r\n",
        "for i in range(n-1):\r\n",
        "  ans += cum_sum[-i] - (n-1-i) * a[i]"
      ],
      "execution_count": 142,
      "outputs": [
        {
          "output_type": "stream",
          "text": [
            "5\n",
            "31 41 59 26 53\n"
          ],
          "name": "stdout"
        }
      ]
    }
  ]
}