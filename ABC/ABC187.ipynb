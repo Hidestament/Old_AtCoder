{
  "nbformat": 4,
  "nbformat_minor": 0,
  "metadata": {
    "colab": {
      "name": "ABC187.ipynb",
      "provenance": [],
      "authorship_tag": "ABX9TyOuti9QDNKIHJzAldsXWB/I",
      "include_colab_link": true
    },
    "kernelspec": {
      "name": "python3",
      "display_name": "Python 3"
    }
  },
  "cells": [
    {
      "cell_type": "markdown",
      "metadata": {
        "id": "view-in-github",
        "colab_type": "text"
      },
      "source": [
        "<a href=\"https://colab.research.google.com/github/Hidestament/AtCoder/blob/main/ABC/ABC187.ipynb\" target=\"_parent\"><img src=\"https://colab.research.google.com/assets/colab-badge.svg\" alt=\"Open In Colab\"/></a>"
      ]
    },
    {
      "cell_type": "markdown",
      "metadata": {
        "id": "o2l0Kk7cylbo"
      },
      "source": [
        "# A\r\n"
      ]
    },
    {
      "cell_type": "code",
      "metadata": {
        "colab": {
          "base_uri": "https://localhost:8080/"
        },
        "id": "AW57IQeUyIz7",
        "outputId": "180fb4a2-fa4a-4e58-e100-02e3c3cad954"
      },
      "source": [
        "a, b = map(str, input().split())\r\n",
        "s_a = 0\r\n",
        "s_b = 0\r\n",
        "for i in range(len(a)):\r\n",
        "  s_a += int(a[i])\r\n",
        "  s_b += int(b[i])\r\n",
        "print(max(s_a, s_b))"
      ],
      "execution_count": null,
      "outputs": [
        {
          "output_type": "stream",
          "text": [
            "123 234\n",
            "9\n"
          ],
          "name": "stdout"
        }
      ]
    },
    {
      "cell_type": "markdown",
      "metadata": {
        "id": "SQC-GxUjzf5V"
      },
      "source": [
        "# B"
      ]
    },
    {
      "cell_type": "markdown",
      "metadata": {
        "id": "RhoEhoR90N7x"
      },
      "source": [
        "(x1, y1) と (x2, y2) を通る直線の傾きaは\r\n",
        "\r\n",
        "a = (y2 - y1) / (x2 - x1)"
      ]
    },
    {
      "cell_type": "code",
      "metadata": {
        "colab": {
          "base_uri": "https://localhost:8080/"
        },
        "id": "rC6IqVa-zGC2",
        "outputId": "6b686d97-9437-4fa9-ac71-7e0ceb846aa1"
      },
      "source": [
        "n = int(input())\r\n",
        "points = [tuple(map(int, input().split())) for _ in range(n)]"
      ],
      "execution_count": null,
      "outputs": [
        {
          "output_type": "stream",
          "text": [
            "1\n",
            "-691 273\n"
          ],
          "name": "stdout"
        }
      ]
    },
    {
      "cell_type": "code",
      "metadata": {
        "colab": {
          "base_uri": "https://localhost:8080/"
        },
        "id": "3KvkykQK0C_w",
        "outputId": "a3610a5d-27eb-4fa0-9174-d33f8eab21ec"
      },
      "source": [
        "import itertools\r\n",
        "list(itertools.combinations(points, 2))"
      ],
      "execution_count": null,
      "outputs": [
        {
          "output_type": "execute_result",
          "data": {
            "text/plain": [
              "[((0, 0), (1, 2)), ((0, 0), (2, 1)), ((1, 2), (2, 1))]"
            ]
          },
          "metadata": {
            "tags": []
          },
          "execution_count": 12
        }
      ]
    },
    {
      "cell_type": "code",
      "metadata": {
        "colab": {
          "base_uri": "https://localhost:8080/"
        },
        "id": "XvzAAwQT0E2e",
        "outputId": "c92d49c5-b651-4b33-fe89-346750a0aac0"
      },
      "source": [
        "ans = 0\r\n",
        "for i in itertools.combinations(points,2):\r\n",
        "  x1 = i[0][0]\r\n",
        "  y1 = i[0][1]\r\n",
        "  x2 = i[1][0]\r\n",
        "  y2 = i[1][1]\r\n",
        "\r\n",
        "  a = (y2 - y1) / (x2 - x1)\r\n",
        "  if -1 <= a <= 1:\r\n",
        "    ans += 1\r\n",
        "\r\n",
        "print(ans)"
      ],
      "execution_count": null,
      "outputs": [
        {
          "output_type": "stream",
          "text": [
            "0\n"
          ],
          "name": "stdout"
        }
      ]
    },
    {
      "cell_type": "markdown",
      "metadata": {
        "id": "5qkSlGTu11uA"
      },
      "source": [
        "# C"
      ]
    },
    {
      "cell_type": "markdown",
      "metadata": {
        "id": "h1yvvBS5461p"
      },
      "source": [
        "## TLEになった回答"
      ]
    },
    {
      "cell_type": "code",
      "metadata": {
        "colab": {
          "base_uri": "https://localhost:8080/"
        },
        "id": "JGD3Y-9I12FF",
        "outputId": "ff6b2585-e350-48ef-d7ad-a08fb3980f1b"
      },
      "source": [
        "n = int(input())\r\n",
        "strings = list(input() for _ in range(n))"
      ],
      "execution_count": null,
      "outputs": [
        {
          "output_type": "stream",
          "text": [
            "5\n",
            "a\n",
            "!a\n",
            "b\n",
            "!c\n",
            "d\n"
          ],
          "name": "stdout"
        }
      ]
    },
    {
      "cell_type": "code",
      "metadata": {
        "id": "ttl1gU1x21vP"
      },
      "source": [
        "for i in strings:\r\n",
        "  if i[0] != \"!\":\r\n",
        "    if ( \"!\" + i ) in strings:\r\n",
        "      print(i)\r\n",
        "      exit()\r\n",
        "print(\"satisfiable\")"
      ],
      "execution_count": null,
      "outputs": []
    },
    {
      "cell_type": "markdown",
      "metadata": {
        "id": "3Dz82WUG49XG"
      },
      "source": [
        "## setにするとACされる"
      ]
    },
    {
      "cell_type": "code",
      "metadata": {
        "colab": {
          "base_uri": "https://localhost:8080/"
        },
        "id": "OKUGeZ5H7zj4",
        "outputId": "07d546c7-0b15-46db-8380-ebbfa7c0d360"
      },
      "source": [
        "n = int(input())\r\n",
        "strings = set(input() for _ in range(n))\r\n",
        "for i in strings:\r\n",
        "  if \"!\" + i in strings:\r\n",
        "    print(i)\r\n",
        "    exit()\r\n",
        "print(\"satisfiable\")"
      ],
      "execution_count": null,
      "outputs": [
        {
          "output_type": "stream",
          "text": [
            "a\n",
            "satisfiable\n"
          ],
          "name": "stdout"
        }
      ]
    }
  ]
}