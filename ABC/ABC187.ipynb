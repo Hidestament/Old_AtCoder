{
  "nbformat": 4,
  "nbformat_minor": 0,
  "metadata": {
    "colab": {
      "name": "ABC187.ipynb",
      "provenance": [],
      "collapsed_sections": [],
      "authorship_tag": "ABX9TyPC+GQDlJR7t1XJj9QBcq/V",
      "include_colab_link": true
    },
    "kernelspec": {
      "name": "python3",
      "display_name": "Python 3"
    },
    "language_info": {
      "name": "python"
    }
  },
  "cells": [
    {
      "cell_type": "markdown",
      "metadata": {
        "id": "view-in-github",
        "colab_type": "text"
      },
      "source": [
        "<a href=\"https://colab.research.google.com/github/Hidestament/AtCoder/blob/main/ABC/ABC187.ipynb\" target=\"_parent\"><img src=\"https://colab.research.google.com/assets/colab-badge.svg\" alt=\"Open In Colab\"/></a>"
      ]
    },
    {
      "cell_type": "markdown",
      "source": [
        "# [AtCoder Beginner Contest 187](https://atcoder.jp/contests/abc187)"
      ],
      "metadata": {
        "id": "QDD0e1ZcdLET"
      }
    },
    {
      "cell_type": "markdown",
      "source": [
        "## [A - Large Digits](https://atcoder.jp/contests/abc187/tasks/abc187_a)"
      ],
      "metadata": {
        "id": "I-tinDfudM_S"
      }
    },
    {
      "cell_type": "code",
      "execution_count": null,
      "metadata": {
        "id": "OJD2S7n_dGyp"
      },
      "outputs": [],
      "source": [
        "A, B = map(str, input().split())\n",
        "print(max(sum(int(s) for s in A), sum(int(s) for s in B)))"
      ]
    },
    {
      "cell_type": "markdown",
      "source": [
        "## [B - Gentle Pairs](https://atcoder.jp/contests/abc187/tasks/abc187_b)"
      ],
      "metadata": {
        "id": "pAnsiapmdkdR"
      }
    },
    {
      "cell_type": "code",
      "source": [
        "N = int(input())\n",
        "coordinates = []\n",
        "for _ in range(N):\n",
        "    x, y = map(int, input().split())\n",
        "    coordinates.append([x, y])"
      ],
      "metadata": {
        "id": "w3i8CqmndmwB"
      },
      "execution_count": null,
      "outputs": []
    },
    {
      "cell_type": "code",
      "source": [
        "cnt = 0\n",
        "for i in range(N-1):\n",
        "    x1, y1 = coordinates[i]\n",
        "    for j in range(i+1, N):\n",
        "        x2, y2 = coordinates[j]\n",
        "\n",
        "        if (x1 == x2) or (y1 == y2):\n",
        "            cnt += 1\n",
        "        else:\n",
        "            a = (y2 - y1) / (x2 - x1)\n",
        "            if -1 <= a <= 1:\n",
        "                cnt += 1\n",
        "print(cnt)"
      ],
      "metadata": {
        "id": "2BtiE0hDdvpR"
      },
      "execution_count": null,
      "outputs": []
    },
    {
      "cell_type": "markdown",
      "source": [
        "## [C - 1-SAT](https://atcoder.jp/contests/abc187/tasks/abc187_c)"
      ],
      "metadata": {
        "id": "QK-JbayTfb29"
      }
    },
    {
      "cell_type": "code",
      "source": [
        "from collections import defaultdict\n",
        "N = int(input())\n",
        "\n",
        "cnt = defaultdict(int)\n",
        "notcnt = defaultdict(int)\n",
        "for _ in range(N):\n",
        "    s = str(input())\n",
        "    if s[0] == \"!\":\n",
        "        notcnt[s[1:]] += 1\n",
        "    else:\n",
        "        cnt[s] += 1"
      ],
      "metadata": {
        "colab": {
          "base_uri": "https://localhost:8080/"
        },
        "id": "xxAwYAKcffBY",
        "outputId": "74575926-0601-4517-9b56-6c5b4178a23f"
      },
      "execution_count": null,
      "outputs": [
        {
          "name": "stdout",
          "output_type": "stream",
          "text": [
            "6\n"
          ]
        }
      ]
    },
    {
      "cell_type": "code",
      "source": [
        "for key, value in cnt.items():\n",
        "    if key in notcnt:\n",
        "        print(key)\n",
        "        break\n",
        "else:\n",
        "    print(\"satisfiable\")"
      ],
      "metadata": {
        "id": "6KQ6T4WygPEE"
      },
      "execution_count": null,
      "outputs": []
    },
    {
      "cell_type": "markdown",
      "source": [
        "## [D - Choose Me](https://atcoder.jp/contests/abc187/tasks/abc187_d)"
      ],
      "metadata": {
        "id": "stSLTtCGhAOW"
      }
    },
    {
      "cell_type": "code",
      "source": [
        "N = int(input())\n",
        "points = []\n",
        "for _ in range(N):\n",
        "    a, b = map(int, input().split())\n",
        "    points.append([a, b])"
      ],
      "metadata": {
        "colab": {
          "base_uri": "https://localhost:8080/"
        },
        "id": "N33LuvFihBwm",
        "outputId": "3a149052-c176-469e-b72e-c8763bf5114c"
      },
      "execution_count": null,
      "outputs": [
        {
          "name": "stdout",
          "output_type": "stream",
          "text": [
            "5\n",
            "2 1\n",
            "2 1\n",
            "2 1\n",
            "2 1\n",
            "2 1\n"
          ]
        }
      ]
    },
    {
      "cell_type": "code",
      "source": [
        "points.sort(reverse=True, key=lambda x: (2 * x[0] + x[1]))"
      ],
      "metadata": {
        "id": "HKcV1oSWlUSx"
      },
      "execution_count": null,
      "outputs": []
    },
    {
      "cell_type": "code",
      "source": [
        "A = sum([a for a, b in points])\n",
        "T = 0\n",
        "cnt = 0\n",
        "for i in range(N):\n",
        "    a, b = points[i]\n",
        "    A -= a\n",
        "    T += (a + b)\n",
        "\n",
        "    if T > A:\n",
        "        print(i + 1)\n",
        "        break"
      ],
      "metadata": {
        "colab": {
          "base_uri": "https://localhost:8080/"
        },
        "id": "NYMAAYaslghY",
        "outputId": "15b051f5-8551-4378-9be0-4b91e465f71d"
      },
      "execution_count": null,
      "outputs": [
        {
          "output_type": "stream",
          "name": "stdout",
          "text": [
            "3\n"
          ]
        }
      ]
    },
    {
      "cell_type": "markdown",
      "source": [
        "## [E - Through Path](https://atcoder.jp/contests/abc187/tasks/abc187_e)"
      ],
      "metadata": {
        "id": "oSiTdV2_m8Gm"
      }
    },
    {
      "cell_type": "markdown",
      "source": [
        "### 処理は全て正しいけど, DFSしてるせいでPypyだとめちゃ遅くなってTLEになる"
      ],
      "metadata": {
        "id": "Q-_D37g_0Lga"
      }
    },
    {
      "cell_type": "code",
      "source": [
        "import sys\n",
        "sys.setrecursionlimit(10**7)\n",
        "N = int(input())\n",
        "graph = [[] for _ in range(N)]\n",
        "edges = []\n",
        "for _ in range(N-1):\n",
        "    a, b = map(int, input().split())\n",
        "    a -= 1\n",
        "    b -= 1\n",
        "    graph[a].append(b)\n",
        "    graph[b].append(a)\n",
        "    edges.append([a, b])"
      ],
      "metadata": {
        "colab": {
          "base_uri": "https://localhost:8080/"
        },
        "id": "J78AfF0Olesm",
        "outputId": "d3be54ad-8b9c-47a0-b5d7-1fee849a3ae2"
      },
      "execution_count": null,
      "outputs": [
        {
          "name": "stdout",
          "output_type": "stream",
          "text": [
            "5\n",
            "1 2\n",
            "2 3\n",
            "2 4\n",
            "4 5\n"
          ]
        }
      ]
    },
    {
      "cell_type": "code",
      "source": [
        "from collections import deque\n",
        "dist = [-1] * N\n",
        "dist[0] = 0\n",
        "dq = deque()\n",
        "dq.append([0, 0])\n",
        "while dq:\n",
        "    c, now = dq.popleft()\n",
        "    for to in graph[now]:\n",
        "        if dist[to] == -1:\n",
        "            dist[to] = c + 1\n",
        "            dq.append([c+1, to])"
      ],
      "metadata": {
        "id": "qY4COYaaup0l"
      },
      "execution_count": null,
      "outputs": []
    },
    {
      "cell_type": "code",
      "source": [
        "imos = [0] * N"
      ],
      "metadata": {
        "id": "cCwer6eiwCf-"
      },
      "execution_count": null,
      "outputs": []
    },
    {
      "cell_type": "code",
      "source": [
        "Q = int(input())\n",
        "for _ in range(Q):\n",
        "    t, e, x = map(int, input().split())\n",
        "    \n",
        "    a, b = edges[e-1]\n",
        "\n",
        "    # t = 1 ならば, aの部分木\n",
        "    if t == 1:\n",
        "        # aの方が葉っぱに近かったら\n",
        "        if dist[a] > dist[b]:\n",
        "            imos[a] += x\n",
        "        else:\n",
        "            imos[0] += x\n",
        "            imos[b] -= x\n",
        "        \n",
        "    # t = 2 ならば, bの部分木\n",
        "    else:\n",
        "        if dist[b] > dist[a]:\n",
        "            imos[b] += x\n",
        "        else:\n",
        "            imos[0] += x\n",
        "            imos[a] -= x"
      ],
      "metadata": {
        "colab": {
          "base_uri": "https://localhost:8080/"
        },
        "id": "Tnaof9AovOu-",
        "outputId": "7aad5eff-a7b9-43c0-ed20-a8676316c908"
      },
      "execution_count": null,
      "outputs": [
        {
          "name": "stdout",
          "output_type": "stream",
          "text": [
            "4\n",
            "1 1 1\n",
            "1 4 10\n",
            "2 1 100\n",
            "2 2 1000\n"
          ]
        }
      ]
    },
    {
      "cell_type": "code",
      "source": [
        "C = [0] * N\n",
        "def dfs(now, bef, c):\n",
        "    for to in graph[now]:\n",
        "        if to != bef:\n",
        "            C[to] = c + imos[to]\n",
        "            dfs(to, now, c + imos[to])"
      ],
      "metadata": {
        "id": "qVmT1wFQvPSJ"
      },
      "execution_count": null,
      "outputs": []
    },
    {
      "cell_type": "code",
      "source": [
        "dfs(0, -1, imos[0])"
      ],
      "metadata": {
        "id": "zats1Qj5xbB1"
      },
      "execution_count": null,
      "outputs": []
    },
    {
      "cell_type": "code",
      "source": [
        "C[0] = imos[0]"
      ],
      "metadata": {
        "id": "K7mdgzaaxddg"
      },
      "execution_count": null,
      "outputs": []
    },
    {
      "cell_type": "code",
      "source": [
        "for c in C:\n",
        "    print(c)"
      ],
      "metadata": {
        "colab": {
          "base_uri": "https://localhost:8080/"
        },
        "id": "AVMHZPrFxp4n",
        "outputId": "b596aa21-5ce9-4b6c-d650-9c59f404ffd0"
      },
      "execution_count": null,
      "outputs": [
        {
          "output_type": "stream",
          "name": "stdout",
          "text": [
            "11\n",
            "110\n",
            "1110\n",
            "110\n",
            "100\n"
          ]
        }
      ]
    },
    {
      "cell_type": "markdown",
      "source": [
        "### 最後の処理をBFSでやる"
      ],
      "metadata": {
        "id": "Fo6PiYH_zBsR"
      }
    },
    {
      "cell_type": "code",
      "source": [
        "N = int(input())\n",
        "graph = [[] for _ in range(N)]\n",
        "edges = []\n",
        "for _ in range(N-1):\n",
        "    a, b = map(int, input().split())\n",
        "    a -= 1\n",
        "    b -= 1\n",
        "    graph[a].append(b)\n",
        "    graph[b].append(a)\n",
        "    edges.append([a, b])\n",
        "\n",
        "from collections import deque\n",
        "dist = [-1] * N\n",
        "dist[0] = 0\n",
        "dq = deque()\n",
        "dq.append([0, 0])\n",
        "while dq:\n",
        "    c, now = dq.popleft()\n",
        "    for to in graph[now]:\n",
        "        if dist[to] == -1:\n",
        "            dist[to] = c + 1\n",
        "            dq.append([c+1, to])\n",
        "\n",
        "imos = [0] * N\n",
        "Q = int(input())\n",
        "for _ in range(Q):\n",
        "    t, e, x = map(int, input().split())\n",
        "    \n",
        "    a, b = edges[e-1]\n",
        "\n",
        "    # t = 1 ならば, aの部分木\n",
        "    if t == 1:\n",
        "        # aの方が葉っぱに近かったら, aの部分木に + x\n",
        "        if dist[a] > dist[b]:\n",
        "            imos[a] += x\n",
        "        # aが親だったら, 全体に + x, bの部分木に -x\n",
        "        else:\n",
        "            imos[0] += x\n",
        "            imos[b] -= x\n",
        "        \n",
        "    # t = 2なら上と全く逆\n",
        "    else:\n",
        "        if dist[b] > dist[a]:\n",
        "            imos[b] += x\n",
        "        else:\n",
        "            imos[0] += x\n",
        "            imos[a] -= x\n"
      ],
      "metadata": {
        "id": "KdLtk65dxd7n"
      },
      "execution_count": null,
      "outputs": []
    },
    {
      "cell_type": "code",
      "source": [
        "C = [-1] * N\n",
        "C[0] = imos[0]\n",
        "dq = deque()\n",
        "dq.append([C[0], 0])\n",
        "while dq:\n",
        "    c, now = dq.popleft()\n",
        "    for to in graph[now]:\n",
        "        if C[to] == -1:\n",
        "            C[to] = c + imos[to]\n",
        "            dq.append([imos[to] + c, to])"
      ],
      "metadata": {
        "id": "x5ZhH7KjzOmn"
      },
      "execution_count": null,
      "outputs": []
    },
    {
      "cell_type": "code",
      "source": [
        "print(*ans, sep=\"\\n\")"
      ],
      "metadata": {
        "id": "C4y-EW1B1wzt"
      },
      "execution_count": null,
      "outputs": []
    },
    {
      "cell_type": "markdown",
      "source": [
        "### きれいに書き直す"
      ],
      "metadata": {
        "id": "yOFUVlXg5SRk"
      }
    },
    {
      "cell_type": "code",
      "source": [
        "N = int(input())\n",
        "graph = [[] for _ in range(N)]\n",
        "edges = []\n",
        "for _ in range(N-1):\n",
        "    a, b = map(int, input().split())\n",
        "    graph[a-1].append(b-1)\n",
        "    graph[b-1].append(a-1)\n",
        "    edges.append([a-1, b-1])"
      ],
      "metadata": {
        "colab": {
          "base_uri": "https://localhost:8080/"
        },
        "id": "VGmZCBU_1wTr",
        "outputId": "f8cd33ec-14dd-493b-eb35-392e2f0b401f"
      },
      "execution_count": 4,
      "outputs": [
        {
          "name": "stdout",
          "output_type": "stream",
          "text": [
            "5\n",
            "1 2\n",
            "2 3\n",
            "2 4\n",
            "4 5\n"
          ]
        }
      ]
    },
    {
      "cell_type": "code",
      "source": [
        "from collections import deque\n",
        "dist = [-1] * N\n",
        "dq = deque([0])\n",
        "dist[0] = 0\n",
        "while dq:\n",
        "    now = dq.popleft()\n",
        "    for to in graph[now]:\n",
        "        if dist[to] == -1:\n",
        "            dist[to] = dist[now] + 1\n",
        "            dq.append(to)"
      ],
      "metadata": {
        "id": "tyE07ut31wQy"
      },
      "execution_count": 5,
      "outputs": []
    },
    {
      "cell_type": "code",
      "source": [
        "Q = int(input())\n",
        "query = [0] * N\n",
        "for _ in range(Q):\n",
        "    t, e, x = map(int, input().split())\n",
        "    ae, be = edges[e-1]\n",
        "\n",
        "    # t == 2なら t == 1 のときと全く逆の処理になるので, a, b = b, aとswapする\n",
        "    if t == 2:\n",
        "        ae, be = be, ae\n",
        "\n",
        "    # aeが子なら, aeの部分木に + x\n",
        "    if dist[ae] > dist[be]:\n",
        "        query[ae] += x\n",
        "    # aeが親なら, 木全体に + x, beの部分木に -x\n",
        "    else:\n",
        "        query[0] += x\n",
        "        query[be] -= x"
      ],
      "metadata": {
        "colab": {
          "base_uri": "https://localhost:8080/"
        },
        "id": "l98UEcHC2UVM",
        "outputId": "07f580fa-965f-434d-8b7b-570b10587764"
      },
      "execution_count": 6,
      "outputs": [
        {
          "name": "stdout",
          "output_type": "stream",
          "text": [
            "4\n",
            "1 1 1\n",
            "1 4 10\n",
            "2 1 100\n",
            "2 2 1000\n"
          ]
        }
      ]
    },
    {
      "cell_type": "code",
      "source": [
        "dq = deque()\n",
        "dq.append([query[0], 0])\n",
        "ans = [-1] * N\n",
        "ans[0] = query[0]\n",
        "while dq:\n",
        "    c, now = dq.popleft()\n",
        "    for to in graph[now]:\n",
        "        if ans[to] == -1:\n",
        "            ans[to] = c + query[to]\n",
        "            dq.append([ans[to], to])"
      ],
      "metadata": {
        "id": "iIf6N6gj2UR4"
      },
      "execution_count": 8,
      "outputs": []
    },
    {
      "cell_type": "code",
      "source": [
        "print(*ans, sep=\"\\n\")"
      ],
      "metadata": {
        "colab": {
          "base_uri": "https://localhost:8080/"
        },
        "id": "CWGZBScW2UOr",
        "outputId": "8331390c-d194-4133-f7de-77cd93662350"
      },
      "execution_count": 11,
      "outputs": [
        {
          "output_type": "stream",
          "name": "stdout",
          "text": [
            "11\n",
            "110\n",
            "1110\n",
            "110\n",
            "100\n"
          ]
        }
      ]
    }
  ]
}