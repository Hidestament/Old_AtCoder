{
  "nbformat": 4,
  "nbformat_minor": 0,
  "metadata": {
    "colab": {
      "name": "ABC188.ipynb",
      "provenance": [],
      "collapsed_sections": [],
      "authorship_tag": "ABX9TyP3BDYy8jiw2rILD/WitqbQ",
      "include_colab_link": true
    },
    "kernelspec": {
      "name": "python3",
      "display_name": "Python 3"
    },
    "language_info": {
      "name": "python"
    }
  },
  "cells": [
    {
      "cell_type": "markdown",
      "metadata": {
        "id": "view-in-github",
        "colab_type": "text"
      },
      "source": [
        "<a href=\"https://colab.research.google.com/github/Hidestament/AtCoder/blob/main/ABC/ABC188.ipynb\" target=\"_parent\"><img src=\"https://colab.research.google.com/assets/colab-badge.svg\" alt=\"Open In Colab\"/></a>"
      ]
    },
    {
      "cell_type": "markdown",
      "metadata": {
        "id": "nBbKEqKJREHA"
      },
      "source": [
        "# [AtCoder Beginner Contest 188](https://atcoder.jp/contests/abc188)"
      ]
    },
    {
      "cell_type": "markdown",
      "metadata": {
        "id": "7dShVCc4RGNj"
      },
      "source": [
        "## [A - Three-Point Shot](https://atcoder.jp/contests/abc188/tasks/abc188_a)"
      ]
    },
    {
      "cell_type": "code",
      "metadata": {
        "id": "vNDjh0RDRDoX"
      },
      "source": [
        "X, Y = map(int, input().split())\n",
        "if min(X, Y) + 3 > max(X, Y):\n",
        "    print(\"Yes\")\n",
        "else:\n",
        "    print(\"No\")"
      ],
      "execution_count": null,
      "outputs": []
    },
    {
      "cell_type": "markdown",
      "metadata": {
        "id": "GL7Pl2hPRW6g"
      },
      "source": [
        "## [B - Orthogonality](https://atcoder.jp/contests/abc188/tasks/abc188_b)"
      ]
    },
    {
      "cell_type": "code",
      "metadata": {
        "id": "eD5KX80TRZcP"
      },
      "source": [
        "N = int(input())\n",
        "A = list(map(int, input().split()))\n",
        "B = list(map(int, input().split()))\n",
        "\n",
        "ans = sum(a * b for a, b in zip(A, B))\n",
        "print(\"Yes\" if ans == 0 else \"No\")    "
      ],
      "execution_count": null,
      "outputs": []
    },
    {
      "cell_type": "markdown",
      "metadata": {
        "id": "dq4fsvw0RmY3"
      },
      "source": [
        "## [C - ABC Tournament](https://atcoder.jp/contests/abc188/tasks/abc188_c)"
      ]
    },
    {
      "cell_type": "markdown",
      "source": [
        "### シミュレーションする"
      ],
      "metadata": {
        "id": "akdxWt_KMmGR"
      }
    },
    {
      "cell_type": "code",
      "metadata": {
        "id": "CGahDZ7SRpzp",
        "colab": {
          "base_uri": "https://localhost:8080/"
        },
        "outputId": "053ca0e4-470e-4b8b-be91-9b0d08f38385"
      },
      "source": [
        "from collections import deque\n",
        "N = int(input())\n",
        "A = list(map(int, input().split()))"
      ],
      "execution_count": null,
      "outputs": [
        {
          "name": "stdout",
          "output_type": "stream",
          "text": [
            "2\n",
            "1 4 2 5\n"
          ]
        }
      ]
    },
    {
      "cell_type": "code",
      "source": [
        "dq = deque()\n",
        "for i, a in enumerate(A, start=1):\n",
        "    dq.append((i, a))"
      ],
      "metadata": {
        "id": "NXHs24ngImgR"
      },
      "execution_count": null,
      "outputs": []
    },
    {
      "cell_type": "code",
      "source": [
        "for _ in range(N-1):\n",
        "    print(dq)\n",
        "    for __ in range(len(dq) // 2):\n",
        "        Ai = dq.popleft()\n",
        "        Aj = dq.popleft()\n",
        "        if Ai[1] < Aj[1]:\n",
        "            dq.append(Aj)\n",
        "        else:\n",
        "            dq.append(Ai)"
      ],
      "metadata": {
        "colab": {
          "base_uri": "https://localhost:8080/"
        },
        "id": "9ICR2JVVIma1",
        "outputId": "6ea68b2f-1acc-4d20-9a1c-d817e3dfcc4c"
      },
      "execution_count": null,
      "outputs": [
        {
          "output_type": "stream",
          "name": "stdout",
          "text": [
            "deque([(1, 1), (2, 4), (3, 2), (4, 5)])\n",
            "deque([(2, 4), (4, 5)])\n"
          ]
        }
      ]
    },
    {
      "cell_type": "code",
      "source": [
        "Ai = dq.popleft()\n",
        "Aj = dq.popleft()\n",
        "if Ai[1] < Aj[1]:\n",
        "    print(Ai[0])\n",
        "else:\n",
        "    print(Aj[0])"
      ],
      "metadata": {
        "id": "TQDFh12mImYY"
      },
      "execution_count": null,
      "outputs": []
    },
    {
      "cell_type": "markdown",
      "source": [
        "### よく考える"
      ],
      "metadata": {
        "id": "LY6QMrGkMgUK"
      }
    },
    {
      "cell_type": "code",
      "source": [
        "N = int(input())\n",
        "A = list(map(int, input().split()))"
      ],
      "metadata": {
        "colab": {
          "base_uri": "https://localhost:8080/"
        },
        "id": "v6geM1icMlZ_",
        "outputId": "a81b23b5-1acd-495a-d2de-a269051bab03"
      },
      "execution_count": null,
      "outputs": [
        {
          "name": "stdout",
          "output_type": "stream",
          "text": [
            "2\n",
            "1 4 2 5\n"
          ]
        }
      ]
    },
    {
      "cell_type": "code",
      "source": [
        "half_ind = len(A) // 2\n",
        "winner = A.index(max(A))\n",
        "if winner < half_ind:\n",
        "    ans = A.index(max(A[half_ind:])) + 1\n",
        "    print(ans)\n",
        "else:\n",
        "    ans = A.index(max(A[:half_ind])) + 1\n",
        "    print(ans)"
      ],
      "metadata": {
        "colab": {
          "base_uri": "https://localhost:8080/"
        },
        "id": "5bnrsmHfMqhW",
        "outputId": "09f81abb-becd-46bd-f046-0a5ff050b4f1"
      },
      "execution_count": null,
      "outputs": [
        {
          "output_type": "stream",
          "name": "stdout",
          "text": [
            "2\n"
          ]
        }
      ]
    },
    {
      "cell_type": "markdown",
      "metadata": {
        "id": "VeRaN1LwSHvY"
      },
      "source": [
        "## [D - Snuke Prime](https://atcoder.jp/contests/abc188/tasks/abc188_d)"
      ]
    },
    {
      "cell_type": "markdown",
      "source": [
        "1. イベントソートする\n",
        "2. 現在時刻から次のイベント発生時までの料金を計算する. \n",
        "3. その料金 と Prime料金の小さいほうをかさんする"
      ],
      "metadata": {
        "id": "v9TR_lct40j9"
      }
    },
    {
      "cell_type": "code",
      "metadata": {
        "id": "YQGVHuEXSKd4",
        "colab": {
          "base_uri": "https://localhost:8080/"
        },
        "outputId": "9029a05c-b5de-449c-f752-a999bd1441ca"
      },
      "source": [
        "N, C = map(int, input().split())\n",
        "event = []\n",
        "for _ in range(N):\n",
        "    a, b, c = map(int, input().split())\n",
        "    b += 1\n",
        "    event.append([a, c])\n",
        "    event.append([b, -1 * c])\n",
        "event.sort()"
      ],
      "execution_count": null,
      "outputs": [
        {
          "name": "stdout",
          "output_type": "stream",
          "text": [
            "2 6\n",
            "1 2 4\n",
            "2 2 4\n"
          ]
        }
      ]
    },
    {
      "cell_type": "code",
      "metadata": {
        "id": "vKMil9XKUGMt"
      },
      "source": [
        "ans = 0\n",
        "date = 1\n",
        "s = 0\n",
        "for d, c in event:\n",
        "    if date != d:\n",
        "        ans += min(s, C) * (d - date)\n",
        "        date = d\n",
        "    s += c"
      ],
      "execution_count": null,
      "outputs": []
    },
    {
      "cell_type": "code",
      "metadata": {
        "id": "JiBsG4mPUGHg"
      },
      "source": [
        "print(ans)"
      ],
      "execution_count": null,
      "outputs": []
    },
    {
      "cell_type": "markdown",
      "source": [
        "座標圧縮 + imos法"
      ],
      "metadata": {
        "id": "M1i20SIaOBlq"
      }
    },
    {
      "cell_type": "code",
      "source": [
        "def compress(A):\n",
        "    B = sorted(set(A))\n",
        "    zipped = {}\n",
        "    unzipped = {}\n",
        "    for i, x in enumerate(B):\n",
        "        zipped[x] = i\n",
        "        unzipped[i] = x\n",
        "    return zipped, unzipped"
      ],
      "metadata": {
        "id": "X3C1IBsPHtgh"
      },
      "execution_count": null,
      "outputs": []
    },
    {
      "cell_type": "code",
      "source": [
        "from itertools import accumulate\n",
        "N, C = map(int, input().split())\n",
        "event = []\n",
        "points = []\n",
        "for _ in range(N):\n",
        "    a, b, c = map(int, input().split())\n",
        "    b += 1\n",
        "    event.append([a, b, c])\n",
        "    points.append(a)\n",
        "    points.append(b)"
      ],
      "metadata": {
        "colab": {
          "base_uri": "https://localhost:8080/"
        },
        "id": "M6JInoJsNAyr",
        "outputId": "d1e58787-fa5b-4eec-ddea-9baf57a79577"
      },
      "execution_count": null,
      "outputs": [
        {
          "name": "stdout",
          "output_type": "stream",
          "text": [
            "2 6\n",
            "1 2 4\n",
            "2 2 4\n"
          ]
        }
      ]
    },
    {
      "cell_type": "code",
      "source": [
        "zipped, unzipped = compress(points)"
      ],
      "metadata": {
        "id": "gsOiIAQZNAv4"
      },
      "execution_count": null,
      "outputs": []
    },
    {
      "cell_type": "code",
      "source": [
        "imos = [0] * len(zipped)\n",
        "for a, b, c in event:\n",
        "    imos[zipped[a]] += c\n",
        "    imos[zipped[b]] -= c\n",
        "imos = list(accumulate(imos))"
      ],
      "metadata": {
        "id": "95V8CfeWNAtO"
      },
      "execution_count": null,
      "outputs": []
    },
    {
      "cell_type": "code",
      "source": [
        "ans = 0\n",
        "for i in range(len(imos) - 1):\n",
        "    ans += min(imos[i], C) * (unzipped[i+1] - unzipped[i])\n",
        "print(ans)"
      ],
      "metadata": {
        "id": "Ee_9ITmpNAqc"
      },
      "execution_count": null,
      "outputs": []
    },
    {
      "cell_type": "markdown",
      "metadata": {
        "id": "ezT_MzCMUGd3"
      },
      "source": [
        "## [E - Peddler](https://atcoder.jp/contests/abc188/tasks/abc188_e)"
      ]
    },
    {
      "cell_type": "markdown",
      "source": [
        "DPでとく"
      ],
      "metadata": {
        "id": "LN9oSMd0Z1-_"
      }
    },
    {
      "cell_type": "code",
      "metadata": {
        "id": "57nkK473UKUL",
        "colab": {
          "base_uri": "https://localhost:8080/"
        },
        "outputId": "1d93f426-7fd9-426b-cfac-524d3836087c"
      },
      "source": [
        "N, M = map(int, input().split())\n",
        "A = list(map(int, input().split()))\n",
        "graph = [[] for _ in range(N)]\n",
        "for _ in range(M):\n",
        "    x, y = map(int, input().split())\n",
        "    x -= 1\n",
        "    y -= 1\n",
        "    graph[x].append(y)"
      ],
      "execution_count": null,
      "outputs": [
        {
          "name": "stdout",
          "output_type": "stream",
          "text": [
            "4 3\n",
            "2 3 1 5\n",
            "2 4\n",
            "1 2\n",
            "1 3\n"
          ]
        }
      ]
    },
    {
      "cell_type": "code",
      "source": [
        "# DP[i]: 頂点iに到達できる頂点の中で, 最安値の金の値段\n",
        "INF = 10**10\n",
        "DP = [INF] * N"
      ],
      "metadata": {
        "id": "2ddWQfUXNamq"
      },
      "execution_count": null,
      "outputs": []
    },
    {
      "cell_type": "code",
      "source": [
        "for now in range(N):\n",
        "    for to in graph[now]:\n",
        "        DP[to] = min(DP[to], DP[now], A[now])"
      ],
      "metadata": {
        "id": "AdHbmtiGUoTT"
      },
      "execution_count": null,
      "outputs": []
    },
    {
      "cell_type": "code",
      "source": [
        "print(max(A[i] - DP[i] for i in range(N)))"
      ],
      "metadata": {
        "id": "rC8EQ3MLNaj7"
      },
      "execution_count": null,
      "outputs": []
    },
    {
      "cell_type": "markdown",
      "source": [
        "BFSでとく"
      ],
      "metadata": {
        "id": "9AXOzf4BZ0ls"
      }
    },
    {
      "cell_type": "code",
      "source": [
        "N, M = map(int, input().split())\n",
        "A = list(map(int, input().split()))\n",
        "graph = [[] for _ in range(N)]\n",
        "for _ in range(M):\n",
        "    x, y = map(int, input().split())\n",
        "    x -= 1\n",
        "    y -= 1\n",
        "    graph[x].append(y)"
      ],
      "metadata": {
        "colab": {
          "base_uri": "https://localhost:8080/"
        },
        "id": "CdeRB11NuNpk",
        "outputId": "190425fe-07c0-4199-fd03-1bc116d92a05"
      },
      "execution_count": 62,
      "outputs": [
        {
          "name": "stdout",
          "output_type": "stream",
          "text": [
            "4 3\n",
            "2 3 1 5\n",
            "2 4\n",
            "1 2\n",
            "1 3\n"
          ]
        }
      ]
    },
    {
      "cell_type": "code",
      "source": [
        "sortedA = sorted([[a, i] for i, a in enumerate(A)])"
      ],
      "metadata": {
        "id": "VPz_9d-CuNk2"
      },
      "execution_count": 63,
      "outputs": []
    },
    {
      "cell_type": "code",
      "source": [
        "from collections import deque\n",
        "def bfs(s):\n",
        "    dq = deque([s])\n",
        "    ans = -10**10\n",
        "    while dq:\n",
        "        now = dq.popleft()\n",
        "        for to in graph[now]:\n",
        "            if flag[to]: continue\n",
        "            ans = max(ans, A[to])\n",
        "            flag[to] = 1\n",
        "            dq.append(to)\n",
        "    return ans - A[s]"
      ],
      "metadata": {
        "id": "KlbFteqpuNie"
      },
      "execution_count": 64,
      "outputs": []
    },
    {
      "cell_type": "code",
      "source": [
        "flag = [0] * N\n",
        "ans = max(bfs(i) for _, i in sortedA)\n",
        "print(ans)"
      ],
      "metadata": {
        "colab": {
          "base_uri": "https://localhost:8080/"
        },
        "id": "7LJE3nvguNgZ",
        "outputId": "9d65c817-5cb0-47e2-b0e5-92a9d2738ec8"
      },
      "execution_count": 65,
      "outputs": [
        {
          "output_type": "stream",
          "name": "stdout",
          "text": [
            "3\n"
          ]
        }
      ]
    }
  ]
}