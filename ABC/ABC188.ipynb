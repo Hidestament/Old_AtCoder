{
  "nbformat": 4,
  "nbformat_minor": 0,
  "metadata": {
    "colab": {
      "name": "ABC188.ipynb",
      "provenance": [],
      "authorship_tag": "ABX9TyNex2GIMnyHZe19wll8hODr",
      "include_colab_link": true
    },
    "kernelspec": {
      "name": "python3",
      "display_name": "Python 3"
    }
  },
  "cells": [
    {
      "cell_type": "markdown",
      "metadata": {
        "id": "view-in-github",
        "colab_type": "text"
      },
      "source": [
        "<a href=\"https://colab.research.google.com/github/Hidestament/AtCoder/blob/main/ABC/ABC188.ipynb\" target=\"_parent\"><img src=\"https://colab.research.google.com/assets/colab-badge.svg\" alt=\"Open In Colab\"/></a>"
      ]
    },
    {
      "cell_type": "markdown",
      "metadata": {
        "id": "4FBX_Vtb6B6C"
      },
      "source": [
        "# A"
      ]
    },
    {
      "cell_type": "code",
      "metadata": {
        "colab": {
          "base_uri": "https://localhost:8080/"
        },
        "id": "K6PEbToB5ygq",
        "outputId": "d1b47669-f693-4ab5-a6fa-895f127bdde9"
      },
      "source": [
        "x, y = map(int, input().split())\r\n",
        "print(\"Yes\" if (min(x,y) + 3 > max(x,y)) else \"No\")"
      ],
      "execution_count": null,
      "outputs": [
        {
          "output_type": "stream",
          "text": [
            "12 15\n",
            "No\n"
          ],
          "name": "stdout"
        }
      ]
    },
    {
      "cell_type": "markdown",
      "metadata": {
        "id": "LWVdE-mK6ff8"
      },
      "source": [
        "# B"
      ]
    },
    {
      "cell_type": "code",
      "metadata": {
        "colab": {
          "base_uri": "https://localhost:8080/"
        },
        "id": "uvcE5hiS6aRf",
        "outputId": "48b26619-ed1c-4753-e6f6-552a6d2dac88"
      },
      "source": [
        "n = int(input())\r\n",
        "A = list(map(int, input().split()))\r\n",
        "B = list(map(int, input().split()))\r\n",
        "\r\n",
        "ans = 0\r\n",
        "for i in range(n):\r\n",
        "  ans += (A[i] * B[i])\r\n",
        "print(\"Yes\" if ans == 0 else \"No\")"
      ],
      "execution_count": null,
      "outputs": [
        {
          "output_type": "stream",
          "text": [
            "3\n",
            "1 3 5\n",
            "3 -6 3\n"
          ],
          "name": "stdout"
        }
      ]
    },
    {
      "cell_type": "markdown",
      "metadata": {
        "id": "_rykdrWCM7BE"
      },
      "source": [
        "## Numpyのほうが遅かった"
      ]
    },
    {
      "cell_type": "code",
      "metadata": {
        "colab": {
          "base_uri": "https://localhost:8080/"
        },
        "id": "xjS5yaI87Z_c",
        "outputId": "91f0991f-94bb-44ee-c44c-e94971ded5c7"
      },
      "source": [
        "import numpy as np\r\n",
        "n = int(input())\r\n",
        "A = np.array(list(map(int, input().split())))\r\n",
        "B = np.array(list(map(int, input().split())))\r\n",
        "\r\n",
        "print(\"Yes\" if np.dot(A,B) == 0 else \"No\")"
      ],
      "execution_count": null,
      "outputs": [
        {
          "output_type": "stream",
          "text": [
            "3\n",
            "1 3 5\n",
            "3 -6 3\n",
            "0\n"
          ],
          "name": "stdout"
        }
      ]
    },
    {
      "cell_type": "markdown",
      "metadata": {
        "id": "Xc56_sd17ONT"
      },
      "source": [
        "# C"
      ]
    },
    {
      "cell_type": "markdown",
      "metadata": {
        "id": "juSfhGaPM_bK"
      },
      "source": [
        "## シミュレーションして解く"
      ]
    },
    {
      "cell_type": "code",
      "metadata": {
        "colab": {
          "base_uri": "https://localhost:8080/"
        },
        "id": "V2aj_Z0Y620h",
        "outputId": "cc3963a6-4cf6-4238-8a3b-d38d13431a17"
      },
      "source": [
        "n = int(input())\r\n",
        "people = list(map(int, input().split()))"
      ],
      "execution_count": null,
      "outputs": [
        {
          "output_type": "stream",
          "text": [
            "4\n",
            "6 13 12 5 3 7 10 11 16 9 8 15 2 1 14 4\n"
          ],
          "name": "stdout"
        }
      ]
    },
    {
      "cell_type": "code",
      "metadata": {
        "colab": {
          "base_uri": "https://localhost:8080/"
        },
        "id": "ptlFkgqJ-X4C",
        "outputId": "c6a5835a-99b2-4904-afa5-ae58e064ee1f"
      },
      "source": [
        "n = int(input())\r\n",
        "people = list(map(int, input().split()))\r\n",
        "next = []\r\n",
        "now = people[:]\r\n",
        "while len(now) > 2:\r\n",
        "  next = []\r\n",
        "  for i in range(0, len(now),2):\r\n",
        "    next.append(max(now[i], now[i+1]))\r\n",
        "  now = next\r\n",
        "print(people.index(min(now)) + 1)"
      ],
      "execution_count": null,
      "outputs": [
        {
          "output_type": "stream",
          "text": [
            "[13, 12, 7, 11, 16, 15, 2, 14]\n",
            "[13, 11, 16, 14]\n",
            "[13, 16]\n",
            "[13, 16]\n",
            "2\n"
          ],
          "name": "stdout"
        }
      ]
    },
    {
      "cell_type": "markdown",
      "metadata": {
        "id": "rDmoU-YcNEKa"
      },
      "source": [
        "## 左側と右側に分ければすぐ解ける"
      ]
    },
    {
      "cell_type": "code",
      "metadata": {
        "colab": {
          "base_uri": "https://localhost:8080/"
        },
        "id": "qBfkcseS_PTo",
        "outputId": "83bfbb9f-66f9-4abe-af11-de0b7e19e676"
      },
      "source": [
        "n = int(input())\r\n",
        "people = list(map(int, input().split()))\r\n",
        "half = int(len(people) / 2)\r\n",
        "\r\n",
        "left_block = people[:half]\r\n",
        "right_block = people[half:]\r\n",
        "\r\n",
        "print(people.index(min(max(left_block), max(right_block))) + 1)"
      ],
      "execution_count": null,
      "outputs": [
        {
          "output_type": "stream",
          "text": [
            "2\n",
            "3 1 5 4\n"
          ],
          "name": "stdout"
        }
      ]
    }
  ]
}