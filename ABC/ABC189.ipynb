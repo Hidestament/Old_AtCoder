{
  "nbformat": 4,
  "nbformat_minor": 0,
  "metadata": {
    "colab": {
      "name": "ABC189.ipynb",
      "provenance": [],
      "authorship_tag": "ABX9TyMUA05fJ6gfuy6ZJKBceyCG",
      "include_colab_link": true
    },
    "kernelspec": {
      "name": "python3",
      "display_name": "Python 3"
    }
  },
  "cells": [
    {
      "cell_type": "markdown",
      "metadata": {
        "id": "view-in-github",
        "colab_type": "text"
      },
      "source": [
        "<a href=\"https://colab.research.google.com/github/Hidestament/AtCoder/blob/main/ABC/ABC189.ipynb\" target=\"_parent\"><img src=\"https://colab.research.google.com/assets/colab-badge.svg\" alt=\"Open In Colab\"/></a>"
      ]
    },
    {
      "cell_type": "markdown",
      "metadata": {
        "id": "6XyK9CqaI3yv"
      },
      "source": [
        "# A"
      ]
    },
    {
      "cell_type": "code",
      "metadata": {
        "colab": {
          "base_uri": "https://localhost:8080/"
        },
        "id": "6ytnCKEnI165",
        "outputId": "0c45787d-c918-4225-834a-d10f08e49a74"
      },
      "source": [
        "c = list(input())\r\n",
        "print(\"Won\" if all([c[0] == c[1], c[1] == c[2]]) else \"Lost\")"
      ],
      "execution_count": null,
      "outputs": [
        {
          "output_type": "stream",
          "text": [
            "WVW\n",
            "Lost\n"
          ],
          "name": "stdout"
        }
      ]
    },
    {
      "cell_type": "markdown",
      "metadata": {
        "id": "-kmV9fnfJYkc"
      },
      "source": [
        "# B\r\n",
        "少数は誤差があるので, 両辺 100 かけて計算"
      ]
    },
    {
      "cell_type": "code",
      "metadata": {
        "colab": {
          "base_uri": "https://localhost:8080/"
        },
        "id": "hU8nyfZmJHM0",
        "outputId": "430c8ff4-c580-4a29-c68b-946a410e2c43"
      },
      "source": [
        "n,x = map(int, input().split())\r\n",
        "x *= 100"
      ],
      "execution_count": null,
      "outputs": [
        {
          "output_type": "stream",
          "text": [
            "2 10\n"
          ],
          "name": "stdout"
        }
      ]
    },
    {
      "cell_type": "code",
      "metadata": {
        "colab": {
          "base_uri": "https://localhost:8080/"
        },
        "id": "t9Xy8S56JpEO",
        "outputId": "7c12e5c9-4ba2-477b-9581-d410d366adfb"
      },
      "source": [
        "total_alc = 0\r\n",
        "for i in range(n):\r\n",
        "  v, p = map(int, input().split())\r\n",
        "  total_alc += v * p\r\n",
        "  if total_alc > x:\r\n",
        "    print(i + 1)\r\n",
        "    exit()\r\n",
        "print(-1)"
      ],
      "execution_count": null,
      "outputs": [
        {
          "output_type": "stream",
          "text": [
            "200 5\n",
            "350 3\n",
            "2\n",
            "-1\n"
          ],
          "name": "stdout"
        }
      ]
    },
    {
      "cell_type": "markdown",
      "metadata": {
        "id": "7cctI6J0Kn_D"
      },
      "source": [
        "# C"
      ]
    },
    {
      "cell_type": "markdown",
      "metadata": {
        "id": "pDEuWF6KNvjM"
      },
      "source": [
        "## TLEになった\r\n",
        "2重for文（n^2） × min(リスト)（n）で O(n^3) になりTLE "
      ]
    },
    {
      "cell_type": "code",
      "metadata": {
        "colab": {
          "base_uri": "https://localhost:8080/"
        },
        "id": "JUiUDuLeKU0m",
        "outputId": "244a0d45-8728-407c-94cc-beacc9715afb"
      },
      "source": [
        "n = int(input())\r\n",
        "mikan = list(map(int, input().split()))"
      ],
      "execution_count": null,
      "outputs": [
        {
          "output_type": "stream",
          "text": [
            "6\n",
            "200 4 4 9 4 9\n"
          ],
          "name": "stdout"
        }
      ]
    },
    {
      "cell_type": "code",
      "metadata": {
        "colab": {
          "base_uri": "https://localhost:8080/"
        },
        "id": "L5jYAi9PNkC_",
        "outputId": "4fb15102-2ebc-49fe-8c02-fdade2c36191"
      },
      "source": [
        "ans = 0\r\n",
        "for l in range(n):\r\n",
        "  for r in range(l, n):\r\n",
        "    x = min(mikan[l:r+1])\r\n",
        "    if (x*(r - l + 1)) > ans:\r\n",
        "      ans = x * (r - l + 1)\r\n",
        "print(ans)"
      ],
      "execution_count": null,
      "outputs": [
        {
          "output_type": "stream",
          "text": [
            "200\n"
          ],
          "name": "stdout"
        }
      ]
    },
    {
      "cell_type": "markdown",
      "metadata": {
        "id": "5H16faH0N8hw"
      },
      "source": [
        "## min()を工夫\r\n",
        "min(orange[l:r]) = min(orange[l:r-1], orange[r]) を利用"
      ]
    },
    {
      "cell_type": "code",
      "metadata": {
        "colab": {
          "base_uri": "https://localhost:8080/"
        },
        "id": "ppycv4Vnw7Lh",
        "outputId": "544bb4ad-11b5-4f07-d54e-947396661541"
      },
      "source": [
        "n = int(input())\r\n",
        "orange =  list(map(int, input().split()))"
      ],
      "execution_count": null,
      "outputs": [
        {
          "output_type": "stream",
          "text": [
            "6\n",
            "200 4 4 9 4 9\n"
          ],
          "name": "stdout"
        }
      ]
    },
    {
      "cell_type": "code",
      "metadata": {
        "colab": {
          "base_uri": "https://localhost:8080/"
        },
        "id": "TXGJ7mqgw7G_",
        "outputId": "54c5e2f0-a461-45f9-8ad9-2b7fdbc86656"
      },
      "source": [
        "ans = 0\r\n",
        "for l in range(n):\r\n",
        "  x = 10 ** 6\r\n",
        "  for r in range(l,n):\r\n",
        "    x = min(x, orange[r])\r\n",
        "    if x * (r - l + 1) > ans:\r\n",
        "      ans = x * (r - l + 1)\r\n",
        "print(ans)"
      ],
      "execution_count": null,
      "outputs": [
        {
          "output_type": "stream",
          "text": [
            "200\n"
          ],
          "name": "stdout"
        }
      ]
    }
  ]
}