{
  "nbformat": 4,
  "nbformat_minor": 0,
  "metadata": {
    "colab": {
      "name": "ABC190.ipynb",
      "provenance": [],
      "authorship_tag": "ABX9TyPwiwHqHSuRZbIjn6YNP9dF",
      "include_colab_link": true
    },
    "kernelspec": {
      "name": "python3",
      "display_name": "Python 3"
    }
  },
  "cells": [
    {
      "cell_type": "markdown",
      "metadata": {
        "id": "view-in-github",
        "colab_type": "text"
      },
      "source": [
        "<a href=\"https://colab.research.google.com/github/Hidestament/AtCoder/blob/main/ABC/ABC190.ipynb\" target=\"_parent\"><img src=\"https://colab.research.google.com/assets/colab-badge.svg\" alt=\"Open In Colab\"/></a>"
      ]
    },
    {
      "cell_type": "markdown",
      "metadata": {
        "id": "cP8N9ZExSrmo"
      },
      "source": [
        "# A - Very Very Primitive Game\r\n"
      ]
    },
    {
      "cell_type": "markdown",
      "metadata": {
        "id": "uqcWmBRLS2i3"
      },
      "source": [
        "## 愚直に"
      ]
    },
    {
      "cell_type": "code",
      "metadata": {
        "colab": {
          "base_uri": "https://localhost:8080/"
        },
        "id": "P_Scq7hlSG-M",
        "outputId": "75f5116d-7cac-45ca-cbb7-1e43412dd3b0"
      },
      "source": [
        "a, b, c = map(int, input().split())\r\n",
        "\r\n",
        "if c == 0:\r\n",
        "  if a > b:\r\n",
        "    winner = \"Takahashi\"\r\n",
        "  else:\r\n",
        "    winner = \"Aoki\"\r\n",
        "else:\r\n",
        "  if b > a:\r\n",
        "    winner = \"Aoki\"\r\n",
        "  else:\r\n",
        "    winner = \"Takahashi\"\r\n",
        "\r\n",
        "print(winner)"
      ],
      "execution_count": 2,
      "outputs": [
        {
          "output_type": "stream",
          "text": [
            "2 1 0\n",
            "Takahashi\n"
          ],
          "name": "stdout"
        }
      ]
    },
    {
      "cell_type": "markdown",
      "metadata": {
        "id": "CpHmiIUkS6YH"
      },
      "source": [
        "## きれいに"
      ]
    },
    {
      "cell_type": "code",
      "metadata": {
        "colab": {
          "base_uri": "https://localhost:8080/"
        },
        "id": "ZsC-a7oZS53L",
        "outputId": "7feae5ef-a7a7-4e93-99bd-ad1cfd169676"
      },
      "source": [
        "a,b,c = map(int, input().split())\r\n",
        "print(\"Takahashi\" if (a > b - c) else \"Aoki\")"
      ],
      "execution_count": 3,
      "outputs": [
        {
          "output_type": "stream",
          "text": [
            "2 1 0\n",
            "Takahashi\n"
          ],
          "name": "stdout"
        }
      ]
    },
    {
      "cell_type": "markdown",
      "metadata": {
        "id": "Criqy5ddTAC0"
      },
      "source": [
        "# B - Magic 3"
      ]
    },
    {
      "cell_type": "markdown",
      "metadata": {
        "id": "v0OEUWJDTMX_"
      },
      "source": [
        "## 愚直に"
      ]
    },
    {
      "cell_type": "code",
      "metadata": {
        "colab": {
          "base_uri": "https://localhost:8080/"
        },
        "id": "9yddxZl9S-yb",
        "outputId": "dae3560b-5b6e-4e19-c7ca-864e25c73e0b"
      },
      "source": [
        "n, s, d = map(int, input().split())\r\n",
        "magics = [tuple(map(int, input().split())) for _ in range(n)]"
      ],
      "execution_count": 4,
      "outputs": [
        {
          "output_type": "stream",
          "text": [
            "4 9 9\n",
            "5 5\n",
            "15 5\n",
            "5 15\n",
            "15 15\n"
          ],
          "name": "stdout"
        }
      ]
    },
    {
      "cell_type": "code",
      "metadata": {
        "colab": {
          "base_uri": "https://localhost:8080/"
        },
        "id": "knDM9XCITGOT",
        "outputId": "e7957486-aaf4-4ac0-a505-727370081e48"
      },
      "source": [
        "ans = \"No\"\r\n",
        "for x,y in magics:\r\n",
        "  if (x < s) and (y > d):\r\n",
        "    ans = \"Yes\"\r\n",
        "    exit()\r\n",
        "print(ans)"
      ],
      "execution_count": 5,
      "outputs": [
        {
          "output_type": "stream",
          "text": [
            "Yes\n"
          ],
          "name": "stdout"
        }
      ]
    },
    {
      "cell_type": "markdown",
      "metadata": {
        "id": "-R3vP9lqTNz7"
      },
      "source": [
        "## きれいに"
      ]
    },
    {
      "cell_type": "code",
      "metadata": {
        "colab": {
          "base_uri": "https://localhost:8080/"
        },
        "id": "6Yv_Qjg_TLqL",
        "outputId": "dab3ded8-de42-45f1-b216-ce9713cd73b8"
      },
      "source": [
        "n, s, d = map(int, input().split())\r\n",
        "magics = [tuple(map(int, input().split())) for _ in range(n)]\r\n",
        "print(\"Yes\" if any(x < s and y > d for x,y in magics) else \"No\") "
      ],
      "execution_count": 1,
      "outputs": [
        {
          "output_type": "stream",
          "text": [
            "4 9 9\n",
            "5 5\n",
            "15 5\n",
            "5 15\n",
            "15 15\n",
            "Yes\n"
          ],
          "name": "stdout"
        }
      ]
    },
    {
      "cell_type": "markdown",
      "metadata": {
        "id": "lpK_LR2pTUU3"
      },
      "source": [
        "# C - Bowls and Dishes\r\n",
        "基本的に全列挙"
      ]
    },
    {
      "cell_type": "code",
      "metadata": {
        "colab": {
          "base_uri": "https://localhost:8080/"
        },
        "id": "ocTHmvEKTQAb",
        "outputId": "b0357460-cac3-4a83-a259-fdc3b4520cb8"
      },
      "source": [
        "n,m = map(int, input().split())\r\n",
        "dishes = [tuple(map(int, input().split())) for _ in range(m)]\r\n",
        "k = int(input())\r\n",
        "bowls = [tuple(map(int,input().split())) for _ in range(k)]"
      ],
      "execution_count": 2,
      "outputs": [
        {
          "output_type": "stream",
          "text": [
            "4 4\n",
            "1 2\n",
            "1 3\n",
            "2 4\n",
            "3 4\n",
            "3\n",
            "1 2\n",
            "1 3\n",
            "2 3\n"
          ],
          "name": "stdout"
        }
      ]
    },
    {
      "cell_type": "code",
      "metadata": {
        "colab": {
          "base_uri": "https://localhost:8080/"
        },
        "id": "AyngfjLnTkrD",
        "outputId": "b4c33428-836d-45a4-e8cb-0e91df3d63df"
      },
      "source": [
        "import itertools\r\n",
        "ans = 0\r\n",
        "for balls in itertools.product(*bowls):\r\n",
        "  balls = set(balls)\r\n",
        "  cnt = sum(A in balls and B in balls for A, B in dishes)\r\n",
        "  if cnt > ans:\r\n",
        "    ans = cnt\r\n",
        "\r\n",
        "print(cnt)"
      ],
      "execution_count": 3,
      "outputs": [
        {
          "output_type": "stream",
          "text": [
            "0\n"
          ],
          "name": "stdout"
        }
      ]
    }
  ]
}