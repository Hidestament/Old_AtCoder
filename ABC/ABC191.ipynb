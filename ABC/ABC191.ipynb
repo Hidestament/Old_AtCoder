{
  "nbformat": 4,
  "nbformat_minor": 0,
  "metadata": {
    "colab": {
      "name": "ABC191.ipynb",
      "provenance": [],
      "collapsed_sections": [],
      "authorship_tag": "ABX9TyM3cEn34J0VlFh2U8U5D4zX",
      "include_colab_link": true
    },
    "kernelspec": {
      "name": "python3",
      "display_name": "Python 3"
    },
    "language_info": {
      "name": "python"
    }
  },
  "cells": [
    {
      "cell_type": "markdown",
      "metadata": {
        "id": "view-in-github",
        "colab_type": "text"
      },
      "source": [
        "<a href=\"https://colab.research.google.com/github/Hidestament/AtCoder/blob/main/ABC/ABC191.ipynb\" target=\"_parent\"><img src=\"https://colab.research.google.com/assets/colab-badge.svg\" alt=\"Open In Colab\"/></a>"
      ]
    },
    {
      "cell_type": "markdown",
      "source": [
        "# [AtCoder Beginner Contest 191](https://atcoder.jp/contests/abc191)"
      ],
      "metadata": {
        "id": "25IaYfzmgRi4"
      }
    },
    {
      "cell_type": "markdown",
      "source": [
        "## [A - Vanishing Pitch](https://atcoder.jp/contests/abc191/tasks/abc191_a)"
      ],
      "metadata": {
        "id": "nQAsx1J2ggAI"
      }
    },
    {
      "cell_type": "code",
      "execution_count": null,
      "metadata": {
        "colab": {
          "base_uri": "https://localhost:8080/"
        },
        "id": "SRYjb1DFgQPd",
        "outputId": "7c5bd6b6-7263-4646-e640-e60af23d7b9b"
      },
      "outputs": [
        {
          "output_type": "stream",
          "name": "stdout",
          "text": [
            "10 3 5 20\n",
            "Yes\n"
          ]
        }
      ],
      "source": [
        "V, T, S, D = map(int, input().split())\n",
        "print(\"No\" if V*T <= D <= V*S else \"Yes\")"
      ]
    },
    {
      "cell_type": "markdown",
      "source": [
        "## [B - Remove It](https://atcoder.jp/contests/abc191/tasks/abc191_b)"
      ],
      "metadata": {
        "id": "zFROnFXyhF_-"
      }
    },
    {
      "cell_type": "code",
      "source": [
        "N, X = map(int, input().split())\n",
        "A = list(map(int, input().split()))"
      ],
      "metadata": {
        "id": "T_YHIsxrL7z3"
      },
      "execution_count": null,
      "outputs": []
    },
    {
      "cell_type": "code",
      "source": [
        "ans = [a for a in A if a != X]\n",
        "print(*ans)"
      ],
      "metadata": {
        "id": "z-yb2vk7MKRa"
      },
      "execution_count": null,
      "outputs": []
    },
    {
      "cell_type": "markdown",
      "source": [
        "## [C - Digital Graffiti](https://atcoder.jp/contests/abc191/tasks/abc191_c)"
      ],
      "metadata": {
        "id": "MkBtehDEurSy"
      }
    },
    {
      "cell_type": "code",
      "source": [
        "H, W = map(int, input().split())\n",
        "S = [input() for _ in range(H)]"
      ],
      "metadata": {
        "id": "uiJG88WySTe-"
      },
      "execution_count": null,
      "outputs": []
    },
    {
      "cell_type": "code",
      "source": [
        "grid = [[0] * W for _ in range(H)]\n",
        "for h in range(H):\n",
        "    for w in range(W):\n",
        "        if S[h][w] == \"#\":\n",
        "            grid[h][w] = 1"
      ],
      "metadata": {
        "id": "PqHCTnOhSTYM"
      },
      "execution_count": null,
      "outputs": []
    },
    {
      "cell_type": "code",
      "source": [
        "cnt = 0\n",
        "for h in range(H-1):\n",
        "    for w in range(W-1):\n",
        "        s = grid[h][w] + grid[h][w+1] + grid[h+1][w] + grid[h+1][w+1]\n",
        "        if (s == 1) or (s == 3):\n",
        "            cnt += 1\n",
        "print(cnt)"
      ],
      "metadata": {
        "id": "Z4Q6WeVdSTVI"
      },
      "execution_count": null,
      "outputs": []
    },
    {
      "cell_type": "markdown",
      "source": [
        "## [D - Circle Lattice Points](https://atcoder.jp/contests/abc191/tasks/abc191_d)"
      ],
      "metadata": {
        "id": "P4zBu2HzF6_o"
      }
    },
    {
      "cell_type": "markdown",
      "source": [
        "### 誤差でバグる解答"
      ],
      "metadata": {
        "id": "cI8kXwa9PUY7"
      }
    },
    {
      "cell_type": "code",
      "source": [
        "X, Y, R = map(float, input().split())"
      ],
      "metadata": {
        "id": "OetvCi6dPcsY"
      },
      "execution_count": null,
      "outputs": []
    },
    {
      "cell_type": "code",
      "source": [
        "from math import sqrt\n",
        "left_x = -int(-(X-R)//1)\n",
        "right_x = int(X+R)\n",
        "\n",
        "cnt = 0\n",
        "for x in range(left_x, right_x + 1):\n",
        "    y = sqrt(R**2 - (X - x)**2)\n",
        "    top = int(Y + y)\n",
        "    down = -int(-(Y-y)//1)\n",
        "    cnt += max(0, top - down + 1)\n",
        "print(cnt)"
      ],
      "metadata": {
        "id": "xJRD8CV-Pcp1"
      },
      "execution_count": null,
      "outputs": []
    },
    {
      "cell_type": "markdown",
      "source": [
        "### 少数を正しく扱う\n",
        "Decimalを使う"
      ],
      "metadata": {
        "id": "hif3PDHMPWO0"
      }
    },
    {
      "cell_type": "code",
      "source": [
        "from decimal import Decimal\n",
        "X, Y, R = map(Decimal, input().split())"
      ],
      "metadata": {
        "colab": {
          "base_uri": "https://localhost:8080/"
        },
        "id": "1d2xHsT3PcnL",
        "outputId": "3f2f3795-4711-448b-c504-4af980d415d8"
      },
      "execution_count": 2,
      "outputs": [
        {
          "name": "stdout",
          "output_type": "stream",
          "text": [
            "42782.4720 31949.0192 99999.99\n"
          ]
        }
      ]
    },
    {
      "cell_type": "code",
      "source": [
        "left_x = Decimal.__ceil__(X - R)\n",
        "right_x = Decimal.__floor__(X + R)"
      ],
      "metadata": {
        "id": "bfjWtu8UPckd"
      },
      "execution_count": null,
      "outputs": []
    },
    {
      "cell_type": "code",
      "source": [
        "cnt = 0\n",
        "for x in range(left_x, right_x + 1):\n",
        "    y = Decimal.sqrt(R**2 - (X - x)**2)\n",
        "    top = Decimal.__floor__(Y + y)\n",
        "    down = Decimal.__ceil__(Y - y)\n",
        "    cnt += max(0, top - down + 1)\n",
        "print(cnt)"
      ],
      "metadata": {
        "id": "MS3VXs4VPch0"
      },
      "execution_count": null,
      "outputs": []
    },
    {
      "cell_type": "markdown",
      "source": [
        "## [E - Come Back Quickly](https://atcoder.jp/contests/abc191/tasks/abc191_e)"
      ],
      "metadata": {
        "id": "bjvEB-RANvAZ"
      }
    },
    {
      "cell_type": "code",
      "source": [
        "N, M = map(int, input().split())\n",
        "graph = [[] for _ in range(N)]\n",
        "INF = 10**10\n",
        "loop = [INF] * N\n",
        "for _ in range(M):\n",
        "    a, b, c = map(int, input().split())\n",
        "    if a == b:\n",
        "        loop[a-1] = min(loop[a-1], c)\n",
        "    else:\n",
        "        graph[a-1].append([b-1, c])"
      ],
      "metadata": {
        "id": "nuMMdkAHX1Ui"
      },
      "execution_count": null,
      "outputs": []
    },
    {
      "cell_type": "code",
      "source": [
        "from heapq import heappush, heappop\n",
        "def dijkstra(s):\n",
        "    hq = []\n",
        "    for to, cost in graph[s]:\n",
        "        heappush(hq, [cost, to])\n",
        "    dist = [INF] * N\n",
        "    flag = [0] * N\n",
        "    while hq:\n",
        "        c, now = heappop(hq)\n",
        "        if flag[now]: continue\n",
        "        if now == s:\n",
        "            return c\n",
        "        \n",
        "        flag[now] = True    \n",
        "        for to, cost in graph[now]:\n",
        "            if not flag[to] and c + cost <= dist[to]:\n",
        "                dist[to] = c + cost\n",
        "                heappush(hq, [c + cost, to])\n",
        "\n",
        "    return INF"
      ],
      "metadata": {
        "id": "kZya44vJX1Rm"
      },
      "execution_count": 3,
      "outputs": []
    },
    {
      "cell_type": "code",
      "source": [
        "for v in range(N):\n",
        "    d = min(dijkstra(v), loop[v])\n",
        "    print(d if d < INF else -1)"
      ],
      "metadata": {
        "id": "79Az0aeeX1O2"
      },
      "execution_count": null,
      "outputs": []
    }
  ]
}