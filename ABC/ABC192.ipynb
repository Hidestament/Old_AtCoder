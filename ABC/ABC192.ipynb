{
  "nbformat": 4,
  "nbformat_minor": 0,
  "metadata": {
    "colab": {
      "name": "ABC192.ipynb",
      "provenance": [],
      "collapsed_sections": [],
      "authorship_tag": "ABX9TyMNu88uXw7x2usrFg+/P3qa",
      "include_colab_link": true
    },
    "kernelspec": {
      "name": "python3",
      "display_name": "Python 3"
    },
    "language_info": {
      "name": "python"
    }
  },
  "cells": [
    {
      "cell_type": "markdown",
      "metadata": {
        "id": "view-in-github",
        "colab_type": "text"
      },
      "source": [
        "<a href=\"https://colab.research.google.com/github/Hidestament/AtCoder/blob/main/ABC/ABC192.ipynb\" target=\"_parent\"><img src=\"https://colab.research.google.com/assets/colab-badge.svg\" alt=\"Open In Colab\"/></a>"
      ]
    },
    {
      "cell_type": "markdown",
      "source": [
        "# [AtCoder Beginner Contest 192](https://atcoder.jp/contests/abc192)"
      ],
      "metadata": {
        "id": "yw4cyLFR10Nd"
      }
    },
    {
      "cell_type": "markdown",
      "source": [
        "## [A - Star](https://atcoder.jp/contests/abc192/tasks/abc192_a)"
      ],
      "metadata": {
        "id": "k47YSe9T13aH"
      }
    },
    {
      "cell_type": "markdown",
      "source": [
        "脳死全探索"
      ],
      "metadata": {
        "id": "DVDbPfvRWx-D"
      }
    },
    {
      "cell_type": "code",
      "execution_count": null,
      "metadata": {
        "colab": {
          "base_uri": "https://localhost:8080/"
        },
        "id": "neu_FpIl1ztk",
        "outputId": "fd802c9c-16b2-4aff-f0d1-077cf016dc1d"
      },
      "outputs": [
        {
          "output_type": "stream",
          "name": "stdout",
          "text": [
            "140\n",
            "60\n"
          ]
        }
      ],
      "source": [
        "X = int(input())\n",
        "cnt = 0\n",
        "while True:\n",
        "    cnt += 1\n",
        "    X += 1\n",
        "    if X % 100 == 0:\n",
        "        print(cnt)\n",
        "        break"
      ]
    },
    {
      "cell_type": "markdown",
      "source": [
        "考える"
      ],
      "metadata": {
        "id": "v_LnOWZrWzu6"
      }
    },
    {
      "cell_type": "code",
      "source": [
        "X = int(input())\n",
        "print(100 - (X % 100))"
      ],
      "metadata": {
        "id": "mLupqmwUW23q"
      },
      "execution_count": null,
      "outputs": []
    },
    {
      "cell_type": "markdown",
      "source": [
        "## [B - uNrEaDaBlE sTrInG](https://atcoder.jp/contests/abc192/tasks/abc192_b)"
      ],
      "metadata": {
        "id": "dMxhMWzx2LEE"
      }
    },
    {
      "cell_type": "code",
      "source": [
        "S = str(input())\n",
        "flag = True\n",
        "for i, s in enumerate(S, start=1):\n",
        "    if i % 2 == 0:\n",
        "        if not s.isupper():\n",
        "            flag = False\n",
        "            break\n",
        "    else:\n",
        "        if not s.islower():\n",
        "            flag = False\n",
        "            break"
      ],
      "metadata": {
        "colab": {
          "base_uri": "https://localhost:8080/"
        },
        "id": "6DdZ66tw2HcI",
        "outputId": "68c62251-97ce-4494-acae-e43a7949d324"
      },
      "execution_count": null,
      "outputs": [
        {
          "name": "stdout",
          "output_type": "stream",
          "text": [
            "dIfFiCuLt\n"
          ]
        }
      ]
    },
    {
      "cell_type": "code",
      "source": [
        "print(\"Yes\" if flag else \"No\")"
      ],
      "metadata": {
        "colab": {
          "base_uri": "https://localhost:8080/"
        },
        "id": "lEiommWt2icf",
        "outputId": "6d9a0cb2-4c83-4e7e-afe9-dd735f6a22a3"
      },
      "execution_count": null,
      "outputs": [
        {
          "output_type": "execute_result",
          "data": {
            "text/plain": [
              "True"
            ]
          },
          "metadata": {},
          "execution_count": 3
        }
      ]
    },
    {
      "cell_type": "markdown",
      "source": [
        "## [C - Kaprekar Number](https://atcoder.jp/contests/abc192/tasks/abc192_c)"
      ],
      "metadata": {
        "id": "OQUDMQep2n9v"
      }
    },
    {
      "cell_type": "code",
      "source": [
        "def g1(x):\n",
        "    num = list(str(x))\n",
        "    num.sort(reverse=True)\n",
        "    return int(\"\".join(num))"
      ],
      "metadata": {
        "id": "9OHnlpTN2jrc"
      },
      "execution_count": null,
      "outputs": []
    },
    {
      "cell_type": "code",
      "source": [
        "def g2(x):\n",
        "    num = list(str(x))\n",
        "    num.sort()\n",
        "    return int(\"\".join(num))"
      ],
      "metadata": {
        "id": "_FRiV2gq3k3t"
      },
      "execution_count": null,
      "outputs": []
    },
    {
      "cell_type": "code",
      "source": [
        "def f(x):\n",
        "    return g1(x) - g2(x)"
      ],
      "metadata": {
        "id": "qDPjusib3lsa"
      },
      "execution_count": null,
      "outputs": []
    },
    {
      "cell_type": "code",
      "source": [
        "N, K = map(int, input().split())\n",
        "now = N\n",
        "cnt = 0\n",
        "while True:\n",
        "    if cnt == K:\n",
        "        print(now)\n",
        "        break\n",
        "    now = f(now)\n",
        "    cnt += 1"
      ],
      "metadata": {
        "colab": {
          "base_uri": "https://localhost:8080/"
        },
        "id": "ZnJ2iYGI3mMx",
        "outputId": "11a2801c-0aae-4253-e72d-9276385c38e9"
      },
      "execution_count": null,
      "outputs": [
        {
          "output_type": "stream",
          "name": "stdout",
          "text": [
            "314 2\n",
            "693\n"
          ]
        }
      ]
    },
    {
      "cell_type": "markdown",
      "source": [
        "## [D - Base n](https://atcoder.jp/contests/abc192/tasks/abc192_d)"
      ],
      "metadata": {
        "id": "emB8AM_N4qsM"
      }
    },
    {
      "cell_type": "code",
      "source": [
        "X = str(input())\n",
        "M = int(input())"
      ],
      "metadata": {
        "id": "LrJ98CjP4hja",
        "colab": {
          "base_uri": "https://localhost:8080/"
        },
        "outputId": "e1866651-2bb8-4819-a412-6849cf04f0f5"
      },
      "execution_count": null,
      "outputs": [
        {
          "name": "stdout",
          "output_type": "stream",
          "text": [
            "22\n",
            "10\n"
          ]
        }
      ]
    },
    {
      "cell_type": "code",
      "source": [
        "d = int(max(X)) + 1"
      ],
      "metadata": {
        "id": "lCe-j26rJiWP"
      },
      "execution_count": null,
      "outputs": []
    },
    {
      "cell_type": "code",
      "source": [
        "def check(n):\n",
        "    value = 0\n",
        "    for i, s in enumerate(X[::-1]):\n",
        "        value += int(s) * (n ** i)\n",
        "    return True if value <= M else False"
      ],
      "metadata": {
        "id": "2DvcU086Jb2n"
      },
      "execution_count": null,
      "outputs": []
    },
    {
      "cell_type": "code",
      "source": [
        "# l = 0 からstartするのが良い. 確実に満たすから\n",
        "l, r = 0, M + 1\n",
        "while (r - l) > 1:\n",
        "    mid = (l + r) // 2\n",
        "    if check(mid):\n",
        "        l = mid\n",
        "    else:\n",
        "        r = mid"
      ],
      "metadata": {
        "id": "4thW-soFJOR-"
      },
      "execution_count": null,
      "outputs": []
    },
    {
      "cell_type": "code",
      "source": [
        "if len(X) == 1:\n",
        "    if int(X) <= M:\n",
        "        print(1)\n",
        "    else:\n",
        "        print(0)\n",
        "else:\n",
        "    print(max(0, l - d + 1))"
      ],
      "metadata": {
        "colab": {
          "base_uri": "https://localhost:8080/"
        },
        "id": "7OTBU3LiJOPN",
        "outputId": "06d274cd-17bc-42f1-84f6-e191c5773428"
      },
      "execution_count": null,
      "outputs": [
        {
          "output_type": "execute_result",
          "data": {
            "text/plain": [
              "(4, 5, 3)"
            ]
          },
          "metadata": {},
          "execution_count": 18
        }
      ]
    },
    {
      "cell_type": "markdown",
      "source": [
        "## [E - Train](https://atcoder.jp/contests/abc192/tasks/abc192_e)"
      ],
      "metadata": {
        "id": "n_5PXdq-PLQJ"
      }
    },
    {
      "cell_type": "code",
      "source": [
        "N, M, X, Y = map(int, input().split())\n",
        "X -= 1\n",
        "Y -= 1\n",
        "\n",
        "graph = [[] for _ in range(N)]\n",
        "for _ in range(M):\n",
        "    a, b, t, k = map(int, input().split())\n",
        "    a -= 1\n",
        "    b -= 1\n",
        "    graph[a].append([b, t, k])\n",
        "    graph[b].append([a, t, k])"
      ],
      "metadata": {
        "id": "F6t4sjHc43Fh",
        "colab": {
          "base_uri": "https://localhost:8080/"
        },
        "outputId": "4a03880d-93ee-43c3-a2de-52087dd9bbbe"
      },
      "execution_count": null,
      "outputs": [
        {
          "name": "stdout",
          "output_type": "stream",
          "text": [
            "3 2 1 3\n",
            "1 2 2 3\n",
            "2 3 3 4\n"
          ]
        }
      ]
    },
    {
      "cell_type": "code",
      "source": [
        "from heapq import heappush, heappop\n",
        "def dijkstra(x, y):\n",
        "    dist = [-1] * N\n",
        "    flag = [0] * N\n",
        "    dist[x] = 0\n",
        "    hq = [(0, x)]\n",
        "    while hq:\n",
        "        d, now = heappop(hq)\n",
        "        # 高速化1: もうすでに確定している頂点だったら飛ばす\n",
        "        if flag[now]:\n",
        "            continue\n",
        "\n",
        "        flag[now] = 1\n",
        "\n",
        "        # 高速化2: yが確定したら終わり\n",
        "        if now == y:\n",
        "            break\n",
        "        \n",
        "        for to, weight, offset in graph[now]:\n",
        "            # departure_time = d + ((offset - (d % offset)) % offset)\n",
        "            # これでも良い\n",
        "            departure_time = -int(-d//offset) * offset\n",
        "            if not flag[to]:\n",
        "                if (dist[to] == -1) or departure_time + weight < dist[to]:\n",
        "                    dist[to] = departure_time + weight\n",
        "                    heappush(hq, (departure_time + weight, to))\n",
        "\n",
        "    return dist[y]"
      ],
      "metadata": {
        "id": "sbxRTEooeMZ5"
      },
      "execution_count": null,
      "outputs": []
    },
    {
      "cell_type": "code",
      "source": [
        "print(dijkstra(X, Y))"
      ],
      "metadata": {
        "id": "trBaghAgeMWs"
      },
      "execution_count": null,
      "outputs": []
    }
  ]
}