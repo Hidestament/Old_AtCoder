{
  "nbformat": 4,
  "nbformat_minor": 0,
  "metadata": {
    "colab": {
      "name": "ABC192.ipynb",
      "provenance": [],
      "authorship_tag": "ABX9TyNeD5n/AgrIZZzjbXzkzDNh",
      "include_colab_link": true
    },
    "kernelspec": {
      "name": "python3",
      "display_name": "Python 3"
    }
  },
  "cells": [
    {
      "cell_type": "markdown",
      "metadata": {
        "id": "view-in-github",
        "colab_type": "text"
      },
      "source": [
        "<a href=\"https://colab.research.google.com/github/Hidestament/AtCoder/blob/main/ABC/ABC192.ipynb\" target=\"_parent\"><img src=\"https://colab.research.google.com/assets/colab-badge.svg\" alt=\"Open In Colab\"/></a>"
      ]
    },
    {
      "cell_type": "markdown",
      "metadata": {
        "id": "lQQFIo_cVNFy"
      },
      "source": [
        "# 問題A"
      ]
    },
    {
      "cell_type": "code",
      "metadata": {
        "colab": {
          "base_uri": "https://localhost:8080/"
        },
        "id": "JMlZLRH5T4MR",
        "outputId": "eaacf7f9-b969-46af-ac45-47d7468972ed"
      },
      "source": [
        "x = int(input())\r\n",
        "next_num = int(x/100) + 1\r\n",
        "ans = next_num * 100 - x\r\n",
        "print(ans)"
      ],
      "execution_count": null,
      "outputs": [
        {
          "output_type": "stream",
          "text": [
            "98\n",
            "2\n"
          ],
          "name": "stdout"
        }
      ]
    },
    {
      "cell_type": "markdown",
      "metadata": {
        "id": "fXOXgvL5VKdx"
      },
      "source": [
        "# 問題B"
      ]
    },
    {
      "cell_type": "markdown",
      "metadata": {
        "id": "0iL8q8IJQOyG"
      },
      "source": [
        "## 愚直に"
      ]
    },
    {
      "cell_type": "code",
      "metadata": {
        "colab": {
          "base_uri": "https://localhost:8080/"
        },
        "id": "nDJpMIt7UYi6",
        "outputId": "7d41de5d-cf6f-4b83-f4d5-8d151eeaacb3"
      },
      "source": [
        "S = input()\r\n",
        "ans = True\r\n",
        "for i in range(len(S)):\r\n",
        "  if i % 2 == 0:\r\n",
        "    if S[i].isupper():\r\n",
        "      ans = False\r\n",
        "  else:\r\n",
        "    if S[i].islower():\r\n",
        "      ans = False\r\n",
        "if ans:\r\n",
        "  print(\"Yes\")\r\n",
        "else:\r\n",
        "  print(\"No\")    "
      ],
      "execution_count": null,
      "outputs": [
        {
          "output_type": "stream",
          "text": [
            "a\n",
            "Yes\n"
          ],
          "name": "stdout"
        }
      ]
    },
    {
      "cell_type": "markdown",
      "metadata": {
        "id": "LSyeu5W7QQGW"
      },
      "source": [
        "## もう少しきれいに"
      ]
    },
    {
      "cell_type": "code",
      "metadata": {
        "colab": {
          "base_uri": "https://localhost:8080/"
        },
        "id": "eW8mNKRg4NKn",
        "outputId": "d197e689-bfc2-402a-bee4-4a069426112a"
      },
      "source": [
        "S = input()\r\n",
        "is_unreadable = all([c.islower() if i%2==0 else c.isupper() for i,c in enumerate(S)])\r\n",
        "if is_unreadable:\r\n",
        "  print(\"Yes\")\r\n",
        "else:\r\n",
        "  print(\"No\")"
      ],
      "execution_count": 1,
      "outputs": [
        {
          "output_type": "stream",
          "text": [
            "aaaa\n",
            "No\n"
          ],
          "name": "stdout"
        }
      ]
    },
    {
      "cell_type": "markdown",
      "metadata": {
        "id": "ADsVd-8LWAKu"
      },
      "source": [
        "# 問題C\r\n",
        "- g1 : 各桁を大きい順. g1(314) = 431\r\n",
        "- g2 : 各桁を小さい順. g2(3021) = 123\r\n",
        "- f : g1(x) - g2(x). f(271) = 721 - 127 = 594"
      ]
    },
    {
      "cell_type": "markdown",
      "metadata": {
        "id": "sUdaTiYKQaY5"
      },
      "source": [
        "## 愚直に"
      ]
    },
    {
      "cell_type": "code",
      "metadata": {
        "colab": {
          "base_uri": "https://localhost:8080/"
        },
        "id": "fARoWtQKV_15",
        "outputId": "8cb0687d-ab1e-441f-a835-bec23adf2d7d"
      },
      "source": [
        "n, k = map(int, input().split())"
      ],
      "execution_count": null,
      "outputs": [
        {
          "output_type": "stream",
          "text": [
            "1000000000 100\n"
          ],
          "name": "stdout"
        }
      ]
    },
    {
      "cell_type": "code",
      "metadata": {
        "id": "grOkKDUQWsDZ"
      },
      "source": [
        "def g1(x):\r\n",
        "  num_list = []\r\n",
        "  for num in str(x):\r\n",
        "    num_list.append(int(num))\r\n",
        "  num_list.sort(reverse=True)\r\n",
        "  ans = \"\".join(str(x) for x in num_list)\r\n",
        "  return int(ans)"
      ],
      "execution_count": null,
      "outputs": []
    },
    {
      "cell_type": "code",
      "metadata": {
        "id": "qtTzCIwWYgv4"
      },
      "source": [
        "def g2(x):\r\n",
        "  num_list = []\r\n",
        "  for num in str(x):\r\n",
        "    num_list.append(int(num))\r\n",
        "  num_list.sort()\r\n",
        "  ans = \"\".join(str(x) for x in num_list)\r\n",
        "  return int(ans)"
      ],
      "execution_count": null,
      "outputs": []
    },
    {
      "cell_type": "code",
      "metadata": {
        "id": "3hEryS2IYmIg"
      },
      "source": [
        "def f(x):\r\n",
        "  return g1(x) - g2(x)"
      ],
      "execution_count": null,
      "outputs": []
    },
    {
      "cell_type": "code",
      "metadata": {
        "colab": {
          "base_uri": "https://localhost:8080/"
        },
        "id": "lKkmy2B4YOgR",
        "outputId": "6b0587fe-1040-462a-da1a-409b347e48cb"
      },
      "source": [
        "count = 0\r\n",
        "a = n\r\n",
        "while count < k:\r\n",
        "  next_a = f(a)\r\n",
        "  if next_a == 0:\r\n",
        "    a = next_a\r\n",
        "    break\r\n",
        "  if a == next_a:\r\n",
        "    break\r\n",
        "  a = next_a\r\n",
        "  count += 1\r\n",
        "print(a)"
      ],
      "execution_count": null,
      "outputs": [
        {
          "output_type": "stream",
          "text": [
            "next_a =  999999999\n",
            "next_a =  0\n",
            "0\n"
          ],
          "name": "stdout"
        }
      ]
    },
    {
      "cell_type": "markdown",
      "metadata": {
        "id": "Q6tVLCQOQYo_"
      },
      "source": [
        "## きれいに"
      ]
    },
    {
      "cell_type": "code",
      "metadata": {
        "colab": {
          "base_uri": "https://localhost:8080/"
        },
        "id": "en6HGj-w76mF",
        "outputId": "67d8c61a-bedf-4666-f726-40ed729ec9ae"
      },
      "source": [
        "def g1(x):\r\n",
        "\treturn int(\"\".join(sorted(str(x))[::-1]))\r\n",
        "\r\n",
        "def g2(x):\r\n",
        "\treturn int(\"\".join(sorted(str(x))))\r\n",
        "\r\n",
        "def f(x):\r\n",
        "\treturn g1(x) - g2(x)\r\n",
        "\r\n",
        "n, k = map(int, input().split())\r\n",
        "for _ in range(k):\r\n",
        "\tn = f(n)\r\n",
        "print(n)"
      ],
      "execution_count": null,
      "outputs": [
        {
          "output_type": "stream",
          "text": [
            "314 2\n",
            "693\n"
          ],
          "name": "stdout"
        }
      ]
    },
    {
      "cell_type": "markdown",
      "metadata": {
        "id": "JnATkcYUc2DY"
      },
      "source": [
        "# 問題D\r\n",
        "|x| = 1 のときに注意\r\n",
        "\r\n",
        "そうでないときは, 二分探索"
      ]
    },
    {
      "cell_type": "code",
      "metadata": {
        "colab": {
          "base_uri": "https://localhost:8080/"
        },
        "id": "wgljjy10c3JX",
        "outputId": "7a6d4300-0836-4f33-ab50-03e5fdf6ecca"
      },
      "source": [
        "x = input()\r\n",
        "m = int(input())"
      ],
      "execution_count": null,
      "outputs": [
        {
          "output_type": "stream",
          "text": [
            "22\n",
            "10\n"
          ],
          "name": "stdout"
        }
      ]
    },
    {
      "cell_type": "code",
      "metadata": {
        "id": "h_9aRMdwQmS5"
      },
      "source": [
        "# 10進数に変換する関数\r\n",
        "def to_n(x, n):\r\n",
        "  ans = 0\r\n",
        "  for i,c in enumerate(x[::-1]):\r\n",
        "    ans += int(c) * (n**i)\r\n",
        "  return ans"
      ],
      "execution_count": null,
      "outputs": []
    },
    {
      "cell_type": "code",
      "metadata": {
        "colab": {
          "base_uri": "https://localhost:8080/"
        },
        "id": "tc8NCF2RDmVD",
        "outputId": "a99edfb3-8bb1-4ffa-eddd-9f44fd44d18f"
      },
      "source": [
        "if len(x) == 1:\r\n",
        "  if int(x) <= m:\r\n",
        "    count = 1\r\n",
        "  else:\r\n",
        "    count = 0\r\n",
        "else:\r\n",
        "  n = int(max(x)) + 1\r\n",
        "  max_n = m + 1\r\n",
        "  if to_n(x, n) > m:\r\n",
        "    count = 0\r\n",
        "  else:\r\n",
        "    while (max_n - n) != 1:\r\n",
        "      half = n + int((max_n - n) / 2)\r\n",
        "      if to_n(x, half) <= m:\r\n",
        "        n = half\r\n",
        "      else:\r\n",
        "        max_n = half\r\n",
        "    count = n - int(max(x))  \r\n",
        "\r\n",
        "print(count)"
      ],
      "execution_count": null,
      "outputs": [
        {
          "output_type": "stream",
          "text": [
            "100000000000000000000000000000000000000000000000000000000000\n",
            "1000000000000000000\n",
            "1\n"
          ],
          "name": "stdout"
        }
      ]
    }
  ]
}