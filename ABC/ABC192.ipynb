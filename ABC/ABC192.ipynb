{
  "nbformat": 4,
  "nbformat_minor": 0,
  "metadata": {
    "colab": {
      "name": "ABC192.ipynb",
      "provenance": [],
      "authorship_tag": "ABX9TyN57r3MrFqaXwATCu1DQDhn",
      "include_colab_link": true
    },
    "kernelspec": {
      "name": "python3",
      "display_name": "Python 3"
    }
  },
  "cells": [
    {
      "cell_type": "markdown",
      "metadata": {
        "id": "view-in-github",
        "colab_type": "text"
      },
      "source": [
        "<a href=\"https://colab.research.google.com/github/Hidestament/AtCoder/blob/main/ABC/ABC192.ipynb\" target=\"_parent\"><img src=\"https://colab.research.google.com/assets/colab-badge.svg\" alt=\"Open In Colab\"/></a>"
      ]
    },
    {
      "cell_type": "markdown",
      "metadata": {
        "id": "lQQFIo_cVNFy"
      },
      "source": [
        "# 問題A"
      ]
    },
    {
      "cell_type": "code",
      "metadata": {
        "colab": {
          "base_uri": "https://localhost:8080/"
        },
        "id": "JMlZLRH5T4MR",
        "outputId": "eaacf7f9-b969-46af-ac45-47d7468972ed"
      },
      "source": [
        "x = int(input())\r\n",
        "next_num = int(x/100) + 1\r\n",
        "ans = next_num * 100 - x\r\n",
        "print(ans)"
      ],
      "execution_count": null,
      "outputs": [
        {
          "output_type": "stream",
          "text": [
            "98\n",
            "2\n"
          ],
          "name": "stdout"
        }
      ]
    },
    {
      "cell_type": "markdown",
      "metadata": {
        "id": "fXOXgvL5VKdx"
      },
      "source": [
        "# 問題B"
      ]
    },
    {
      "cell_type": "code",
      "metadata": {
        "colab": {
          "base_uri": "https://localhost:8080/"
        },
        "id": "nDJpMIt7UYi6",
        "outputId": "7d41de5d-cf6f-4b83-f4d5-8d151eeaacb3"
      },
      "source": [
        "S = input()\r\n",
        "ans = True\r\n",
        "for i in range(len(S)):\r\n",
        "  if i % 2 == 0:\r\n",
        "    if S[i].isupper():\r\n",
        "      ans = False\r\n",
        "  else:\r\n",
        "    if S[i].islower():\r\n",
        "      ans = False\r\n",
        "if ans:\r\n",
        "  print(\"Yes\")\r\n",
        "else:\r\n",
        "  print(\"No\")    "
      ],
      "execution_count": null,
      "outputs": [
        {
          "output_type": "stream",
          "text": [
            "a\n",
            "Yes\n"
          ],
          "name": "stdout"
        }
      ]
    },
    {
      "cell_type": "code",
      "metadata": {
        "colab": {
          "base_uri": "https://localhost:8080/"
        },
        "id": "eW8mNKRg4NKn",
        "outputId": "f9eb9427-dd19-4bab-a892-31afabcbc8c5"
      },
      "source": [
        "S = input()\r\n",
        "is_unreadable = all([c.islower() if i%2==0 else c.isupper() for i,c in enumerate(S)])\r\n",
        "if is_unreadable:\r\n",
        "  print(\"Yes\")\r\n",
        "else:\r\n",
        "  print(\"No\")"
      ],
      "execution_count": null,
      "outputs": [
        {
          "output_type": "stream",
          "text": [
            "dIfFiCuLt\n",
            "Yes\n"
          ],
          "name": "stdout"
        }
      ]
    },
    {
      "cell_type": "markdown",
      "metadata": {
        "id": "ADsVd-8LWAKu"
      },
      "source": [
        "# 問題C\r\n",
        "- g1 : 各桁を大きい順. g1(314) = 431\r\n",
        "- g2 : 各桁を小さい順. g2(3021) = 123\r\n",
        "- f : g1(x) - g2(x). f(271) = 721 - 127 = 594"
      ]
    },
    {
      "cell_type": "code",
      "metadata": {
        "colab": {
          "base_uri": "https://localhost:8080/"
        },
        "id": "fARoWtQKV_15",
        "outputId": "8cb0687d-ab1e-441f-a835-bec23adf2d7d"
      },
      "source": [
        "n, k = map(int, input().split())"
      ],
      "execution_count": null,
      "outputs": [
        {
          "output_type": "stream",
          "text": [
            "1000000000 100\n"
          ],
          "name": "stdout"
        }
      ]
    },
    {
      "cell_type": "code",
      "metadata": {
        "id": "grOkKDUQWsDZ"
      },
      "source": [
        "def g1(x):\r\n",
        "  num_list = []\r\n",
        "  for num in str(x):\r\n",
        "    num_list.append(int(num))\r\n",
        "  num_list.sort(reverse=True)\r\n",
        "  ans = \"\".join(str(x) for x in num_list)\r\n",
        "  return int(ans)"
      ],
      "execution_count": null,
      "outputs": []
    },
    {
      "cell_type": "code",
      "metadata": {
        "id": "qtTzCIwWYgv4"
      },
      "source": [
        "def g2(x):\r\n",
        "  num_list = []\r\n",
        "  for num in str(x):\r\n",
        "    num_list.append(int(num))\r\n",
        "  num_list.sort()\r\n",
        "  ans = \"\".join(str(x) for x in num_list)\r\n",
        "  return int(ans)"
      ],
      "execution_count": null,
      "outputs": []
    },
    {
      "cell_type": "code",
      "metadata": {
        "id": "3hEryS2IYmIg"
      },
      "source": [
        "def f(x):\r\n",
        "  return g1(x) - g2(x)"
      ],
      "execution_count": null,
      "outputs": []
    },
    {
      "cell_type": "code",
      "metadata": {
        "colab": {
          "base_uri": "https://localhost:8080/"
        },
        "id": "lKkmy2B4YOgR",
        "outputId": "6b0587fe-1040-462a-da1a-409b347e48cb"
      },
      "source": [
        "count = 0\r\n",
        "a = n\r\n",
        "while count < k:\r\n",
        "  next_a = f(a)\r\n",
        "  if next_a == 0:\r\n",
        "    a = next_a\r\n",
        "    break\r\n",
        "  if a == next_a:\r\n",
        "    break\r\n",
        "  a = next_a\r\n",
        "  count += 1\r\n",
        "print(a)"
      ],
      "execution_count": null,
      "outputs": [
        {
          "output_type": "stream",
          "text": [
            "next_a =  999999999\n",
            "next_a =  0\n",
            "0\n"
          ],
          "name": "stdout"
        }
      ]
    },
    {
      "cell_type": "code",
      "metadata": {
        "colab": {
          "base_uri": "https://localhost:8080/"
        },
        "id": "r_ICI2BG6-PB",
        "outputId": "10341aa0-d399-420b-cc81-4d684cef9019"
      },
      "source": [
        "x = 9401\r\n",
        "int(\"\".join(sorted(str(x))))\r\n"
      ],
      "execution_count": null,
      "outputs": [
        {
          "output_type": "execute_result",
          "data": {
            "text/plain": [
              "149"
            ]
          },
          "metadata": {
            "tags": []
          },
          "execution_count": 152
        }
      ]
    },
    {
      "cell_type": "code",
      "metadata": {
        "colab": {
          "base_uri": "https://localhost:8080/"
        },
        "id": "en6HGj-w76mF",
        "outputId": "67d8c61a-bedf-4666-f726-40ed729ec9ae"
      },
      "source": [
        "def g1(x):\r\n",
        "\treturn int(\"\".join(sorted(str(x))[::-1]))\r\n",
        "\r\n",
        "def g2(x):\r\n",
        "\treturn int(\"\".join(sorted(str(x))))\r\n",
        "\r\n",
        "def f(x):\r\n",
        "\treturn g1(x) - g2(x)\r\n",
        "\r\n",
        "n, k = map(int, input().split())\r\n",
        "for _ in range(k):\r\n",
        "\tn = f(n)\r\n",
        "print(n)"
      ],
      "execution_count": null,
      "outputs": [
        {
          "output_type": "stream",
          "text": [
            "314 2\n",
            "693\n"
          ],
          "name": "stdout"
        }
      ]
    },
    {
      "cell_type": "markdown",
      "metadata": {
        "id": "JnATkcYUc2DY"
      },
      "source": [
        "# 問題D"
      ]
    },
    {
      "cell_type": "code",
      "metadata": {
        "colab": {
          "base_uri": "https://localhost:8080/"
        },
        "id": "wgljjy10c3JX",
        "outputId": "7a6d4300-0836-4f33-ab50-03e5fdf6ecca"
      },
      "source": [
        "x = input()\r\n",
        "m = int(input())"
      ],
      "execution_count": null,
      "outputs": [
        {
          "output_type": "stream",
          "text": [
            "22\n",
            "10\n"
          ],
          "name": "stdout"
        }
      ]
    },
    {
      "cell_type": "code",
      "metadata": {
        "colab": {
          "base_uri": "https://localhost:8080/"
        },
        "id": "tc8NCF2RDmVD",
        "outputId": "a99edfb3-8bb1-4ffa-eddd-9f44fd44d18f"
      },
      "source": [
        "x = input()\r\n",
        "m = int(input())\r\n",
        "\r\n",
        "def to_n(x, n):\r\n",
        "  ans = 0\r\n",
        "  for i,c in enumerate(x[::-1]):\r\n",
        "    ans += int(c) * (n**i)\r\n",
        "  return ans\r\n",
        "\r\n",
        "if len(x) == 1:\r\n",
        "  if int(x) <= m:\r\n",
        "    count = 1\r\n",
        "  else:\r\n",
        "    count = 0\r\n",
        "else:\r\n",
        "  n = int(max(x)) + 1\r\n",
        "  max_n = m + 1\r\n",
        "  if to_n(x, n) > m:\r\n",
        "    count = 0\r\n",
        "  else:\r\n",
        "    while (max_n - n) != 1:\r\n",
        "      half = n + int((max_n - n) / 2)\r\n",
        "      if to_n(x, half) <= m:\r\n",
        "        n = half\r\n",
        "      else:\r\n",
        "        max_n = half\r\n",
        "    count = n - int(max(x))  \r\n",
        "\r\n",
        "print(count)"
      ],
      "execution_count": null,
      "outputs": [
        {
          "output_type": "stream",
          "text": [
            "100000000000000000000000000000000000000000000000000000000000\n",
            "1000000000000000000\n",
            "1\n"
          ],
          "name": "stdout"
        }
      ]
    },
    {
      "cell_type": "code",
      "metadata": {
        "id": "NyzqU2r3DmSl"
      },
      "source": [
        "n0 = int(max(x)) + 1\r\n",
        "max_n = m + 1"
      ],
      "execution_count": null,
      "outputs": []
    },
    {
      "cell_type": "code",
      "metadata": {
        "id": "TwO4geyiFlqh"
      },
      "source": [
        "half = n + int((max_n - n) / 2)"
      ],
      "execution_count": null,
      "outputs": []
    },
    {
      "cell_type": "code",
      "metadata": {
        "id": "KF58HcU2Fln4"
      },
      "source": [
        "if to_n(x, half) <= m:\r\n",
        "  n = half\r\n",
        "else:\r\n",
        "  max_n = half\r\n",
        "\r\n",
        "\r\n",
        "0 = int(max(x)) + 1\r\n",
        "max_n = m + 1\r\n",
        "while (max_n - n) != 1:\r\n",
        "  half = n + int((max_n - n) / 2)\r\n",
        "  if to_n(x, half) <= m:\r\n",
        "    n = half\r\n",
        "  else:\r\n",
        "    max_n = half  \r\n",
        "\r\n",
        "print(n - int(max(x)))"
      ],
      "execution_count": null,
      "outputs": []
    },
    {
      "cell_type": "code",
      "metadata": {
        "colab": {
          "base_uri": "https://localhost:8080/"
        },
        "id": "hlRCd9OzFllD",
        "outputId": "0a76bbd5-7c9b-4ade-a65a-5ed6583392f2"
      },
      "source": [
        "n"
      ],
      "execution_count": null,
      "outputs": [
        {
          "output_type": "execute_result",
          "data": {
            "text/plain": [
              "4"
            ]
          },
          "metadata": {
            "tags": []
          },
          "execution_count": 175
        }
      ]
    },
    {
      "cell_type": "code",
      "metadata": {
        "colab": {
          "base_uri": "https://localhost:8080/"
        },
        "id": "zMczzh5WFliJ",
        "outputId": "3e15851b-bc85-4b66-fc9c-4d806963bd85"
      },
      "source": [
        "int(max(x)) + 1"
      ],
      "execution_count": null,
      "outputs": [
        {
          "output_type": "execute_result",
          "data": {
            "text/plain": [
              "3"
            ]
          },
          "metadata": {
            "tags": []
          },
          "execution_count": 178
        }
      ]
    },
    {
      "cell_type": "code",
      "metadata": {
        "colab": {
          "base_uri": "https://localhost:8080/"
        },
        "id": "JoFXIR9NFldG",
        "outputId": "b10043e5-3310-4fdc-ddf7-6ddab8cd8890"
      },
      "source": [
        "n - int(max(x)) - 1 + 1"
      ],
      "execution_count": null,
      "outputs": [
        {
          "output_type": "execute_result",
          "data": {
            "text/plain": [
              "2"
            ]
          },
          "metadata": {
            "tags": []
          },
          "execution_count": 179
        }
      ]
    },
    {
      "cell_type": "code",
      "metadata": {
        "id": "qZkt6frYDmPX"
      },
      "source": [
        "def to_n(x, n):\r\n",
        "  ans = 0\r\n",
        "  for i,c in enumerate(x[::-1]):\r\n",
        "    ans += int(c) * (n**i)\r\n",
        "  return ans"
      ],
      "execution_count": null,
      "outputs": []
    },
    {
      "cell_type": "code",
      "metadata": {
        "colab": {
          "base_uri": "https://localhost:8080/"
        },
        "id": "OXujYB4WDmMD",
        "outputId": "8ab56e8d-6899-4e0c-a16c-d470c3b5ec4d"
      },
      "source": [
        "to_n(\"999\", 11)"
      ],
      "execution_count": null,
      "outputs": [
        {
          "output_type": "execute_result",
          "data": {
            "text/plain": [
              "1197"
            ]
          },
          "metadata": {
            "tags": []
          },
          "execution_count": 168
        }
      ]
    },
    {
      "cell_type": "code",
      "metadata": {
        "id": "XrQDqTNpDmII"
      },
      "source": [
        ""
      ],
      "execution_count": null,
      "outputs": []
    },
    {
      "cell_type": "code",
      "metadata": {
        "id": "SEC6_x6ud1jp"
      },
      "source": [
        "max_num = 0\r\n",
        "for num in x:\r\n",
        "  if max_num < int(num):\r\n",
        "    max_num = int(num)"
      ],
      "execution_count": null,
      "outputs": []
    },
    {
      "cell_type": "code",
      "metadata": {
        "id": "q1XnImtaegdQ"
      },
      "source": [
        "n_shin = max_num + 1\r\n",
        "count = 0\r\n",
        "while True:\r\n",
        "  if int(x,n_shin) <= m:\r\n",
        "    count += 1\r\n",
        "    n_shin += 1\r\n",
        "  else:\r\n",
        "    break"
      ],
      "execution_count": null,
      "outputs": []
    },
    {
      "cell_type": "code",
      "metadata": {
        "colab": {
          "base_uri": "https://localhost:8080/"
        },
        "id": "LEu12uvRe019",
        "outputId": "7019f7da-b1d3-4c1a-a6e5-8b4ba166fadf"
      },
      "source": [
        "print(count)"
      ],
      "execution_count": null,
      "outputs": [
        {
          "output_type": "stream",
          "text": [
            "2\n"
          ],
          "name": "stdout"
        }
      ]
    },
    {
      "cell_type": "code",
      "metadata": {
        "colab": {
          "base_uri": "https://localhost:8080/"
        },
        "id": "bvUMvrYGfEXe",
        "outputId": "10b5f78d-f8cd-4265-9504-b5bdcb4e2161"
      },
      "source": [
        "x = input()\r\n",
        "m = int(input())\r\n",
        "max_num = 0\r\n",
        "for num in x:\r\n",
        "  if max_num < int(num):\r\n",
        "    max_num = int(num)\r\n",
        "n_shin = max_num + 1\r\n",
        "count = 0\r\n",
        "while True:\r\n",
        "  try:\r\n",
        "    int(x,n_shin)\r\n",
        "  except:\r\n",
        "    n_shin += 1\r\n",
        "    continue\r\n",
        "  if int(x,n_shin) <= m:\r\n",
        "    count += 1\r\n",
        "    n_shin += 1\r\n",
        "  else:\r\n",
        "    break\r\n",
        "print(count)"
      ],
      "execution_count": null,
      "outputs": [
        {
          "output_type": "stream",
          "text": [
            "1\n",
            "2\n",
            "4\n"
          ],
          "name": "stdout"
        }
      ]
    },
    {
      "cell_type": "markdown",
      "metadata": {
        "id": "LsomRRwToG_D"
      },
      "source": [
        "# 問題E"
      ]
    },
    {
      "cell_type": "code",
      "metadata": {
        "id": "s85xQWsSmK3H"
      },
      "source": [
        ""
      ],
      "execution_count": null,
      "outputs": []
    },
    {
      "cell_type": "code",
      "metadata": {
        "id": "sawjl3ErOon9"
      },
      "source": [
        "n,m = map(int, input().split())\r\n",
        "ans = int(10**n / m) % m\r\n",
        "print(ans)"
      ],
      "execution_count": null,
      "outputs": []
    },
    {
      "cell_type": "code",
      "metadata": {
        "id": "M1vfw1RdOz23"
      },
      "source": [
        ""
      ],
      "execution_count": null,
      "outputs": []
    }
  ]
}