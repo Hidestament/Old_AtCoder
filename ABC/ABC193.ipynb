{
  "nbformat": 4,
  "nbformat_minor": 0,
  "metadata": {
    "colab": {
      "name": "ABC193.ipynb",
      "provenance": [],
      "collapsed_sections": [],
      "authorship_tag": "ABX9TyNkCe3Wzzgy6B6mlukcVBrp",
      "include_colab_link": true
    },
    "kernelspec": {
      "name": "python3",
      "display_name": "Python 3"
    },
    "language_info": {
      "name": "python"
    }
  },
  "cells": [
    {
      "cell_type": "markdown",
      "metadata": {
        "id": "view-in-github",
        "colab_type": "text"
      },
      "source": [
        "<a href=\"https://colab.research.google.com/github/Hidestament/AtCoder/blob/main/ABC/ABC193.ipynb\" target=\"_parent\"><img src=\"https://colab.research.google.com/assets/colab-badge.svg\" alt=\"Open In Colab\"/></a>"
      ]
    },
    {
      "cell_type": "markdown",
      "source": [
        "# [AtCoder Beginner Contest 193](https://atcoder.jp/contests/abc193)"
      ],
      "metadata": {
        "id": "7toVHoXR9O9f"
      }
    },
    {
      "cell_type": "markdown",
      "source": [
        "## [A - Discount](https://atcoder.jp/contests/abc193/tasks/abc193_a)"
      ],
      "metadata": {
        "id": "qSJQpOh79Uiw"
      }
    },
    {
      "cell_type": "code",
      "execution_count": null,
      "metadata": {
        "colab": {
          "base_uri": "https://localhost:8080/"
        },
        "id": "x2ZEoszI9OaG",
        "outputId": "0fcec719-95bd-430b-c209-37d5168a90b8"
      },
      "outputs": [
        {
          "output_type": "stream",
          "name": "stdout",
          "text": [
            "99999 99998\n",
            "0.001000010000100001\n"
          ]
        }
      ],
      "source": [
        "A, B = map(int, input().split())\n",
        "print((A - B) / A * 100)"
      ]
    },
    {
      "cell_type": "markdown",
      "source": [
        "## [B - Play Snuke](https://atcoder.jp/contests/abc193/tasks/abc193_b)"
      ],
      "metadata": {
        "id": "JJ9iLGm49tmj"
      }
    },
    {
      "cell_type": "code",
      "source": [
        "N = int(input())\n",
        "machines = []\n",
        "for _ in range(N):\n",
        "    a, p, x = map(int, input().split())\n",
        "    machines.append([a, p, x])"
      ],
      "metadata": {
        "id": "MSgpCUVh9kMA"
      },
      "execution_count": null,
      "outputs": []
    },
    {
      "cell_type": "code",
      "source": [
        "ans = 10**10\n",
        "for a, p, x in machines:\n",
        "    if x - a > 0:\n",
        "        ans = min(ans, p)\n",
        "print(ans if ans < 10**10 else -1)"
      ],
      "metadata": {
        "id": "-8EyvdM4qNVA"
      },
      "execution_count": null,
      "outputs": []
    },
    {
      "cell_type": "markdown",
      "source": [
        "## [C - Unexpressed](https://atcoder.jp/contests/abc193/tasks/abc193_c)"
      ],
      "metadata": {
        "id": "ns-zuVPTqykZ"
      }
    },
    {
      "cell_type": "code",
      "source": [
        "N = int(input())"
      ],
      "metadata": {
        "colab": {
          "base_uri": "https://localhost:8080/"
        },
        "id": "mXk4tfUGq6Fp",
        "outputId": "a0b22ee0-6ba9-415e-8720-3076c84597a8"
      },
      "execution_count": null,
      "outputs": [
        {
          "name": "stdout",
          "output_type": "stream",
          "text": [
            "100000\n"
          ]
        }
      ]
    },
    {
      "cell_type": "code",
      "source": [
        "eratosthenes = set()\n",
        "for a in range(2, int(N**0.5) + 10):\n",
        "    now = a\n",
        "    while now * a <= N:\n",
        "        now *= a\n",
        "        eratosthenes.add(now)\n",
        "print(N - len(eratosthenes))"
      ],
      "metadata": {
        "colab": {
          "base_uri": "https://localhost:8080/"
        },
        "id": "MEaJFMwRsv9K",
        "outputId": "910d2bf6-0004-4bff-ea51-a3120fd6bb35"
      },
      "execution_count": null,
      "outputs": [
        {
          "output_type": "stream",
          "name": "stdout",
          "text": [
            "99634\n"
          ]
        }
      ]
    },
    {
      "cell_type": "markdown",
      "source": [
        "## [D - Poker](https://atcoder.jp/contests/abc193/tasks/abc193_d)"
      ],
      "metadata": {
        "id": "ccbOb1MAteuY"
      }
    },
    {
      "cell_type": "code",
      "source": [
        "from collections import Counter\n",
        "K = int(input())\n",
        "S = str(input())\n",
        "T = str(input())"
      ],
      "metadata": {
        "colab": {
          "base_uri": "https://localhost:8080/"
        },
        "id": "5YPIyZFLtb62",
        "outputId": "e03cf699-4f92-4a13-fcff-b5f3ac3be52f"
      },
      "execution_count": null,
      "outputs": [
        {
          "name": "stdout",
          "output_type": "stream",
          "text": [
            "2\n",
            "1144#\n",
            "2233#\n"
          ]
        }
      ]
    },
    {
      "cell_type": "code",
      "source": [
        "s_cnt = Counter(S)\n",
        "t_cnt = Counter(T)\n",
        "all_cnt = s_cnt + t_cnt"
      ],
      "metadata": {
        "id": "E1k146aKtog5"
      },
      "execution_count": null,
      "outputs": []
    },
    {
      "cell_type": "code",
      "source": [
        "all_pattern = 0\n",
        "ans_pattern = 0\n",
        "for s in range(1, 10):\n",
        "    for t in range(1, 10):\n",
        "        if s == t:\n",
        "            res = K - all_cnt[str(s)]\n",
        "            pattern = res * (res - 1)\n",
        "        else:\n",
        "            s_res = K - all_cnt[str(s)]\n",
        "            t_res = K - all_cnt[str(t)]\n",
        "            pattern = s_res * t_res\n",
        "        all_pattern += pattern\n",
        "\n",
        "        s_cnt[str(s)] += 1\n",
        "        t_cnt[str(t)] += 1\n",
        "\n",
        "\n",
        "        s_score = sum(i * (10 ** s_cnt[str(i)]) for i in range(1, 10))\n",
        "        t_score = sum(i * (10 ** t_cnt[str(i)]) for i in range(1, 10))\n",
        "        \n",
        "        if s_score > t_score:\n",
        "            ans_pattern += pattern\n",
        "\n",
        "        s_cnt[str(s)] -= 1\n",
        "        t_cnt[str(t)] -= 1"
      ],
      "metadata": {
        "id": "99MdVPoDu8kW"
      },
      "execution_count": null,
      "outputs": []
    },
    {
      "cell_type": "code",
      "source": [
        "print(ans_pattern / all_pattern)"
      ],
      "metadata": {
        "id": "N_Dv6li82FWh"
      },
      "execution_count": null,
      "outputs": []
    }
  ]
}