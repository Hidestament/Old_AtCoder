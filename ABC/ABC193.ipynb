{
  "nbformat": 4,
  "nbformat_minor": 0,
  "metadata": {
    "colab": {
      "name": "ABC193.ipynb",
      "provenance": [],
      "authorship_tag": "ABX9TyOfPveFFel84/2W8Jtusbs4",
      "include_colab_link": true
    },
    "kernelspec": {
      "name": "python3",
      "display_name": "Python 3"
    }
  },
  "cells": [
    {
      "cell_type": "markdown",
      "metadata": {
        "id": "view-in-github",
        "colab_type": "text"
      },
      "source": [
        "<a href=\"https://colab.research.google.com/github/Hidestament/AtCoder/blob/main/ABC/ABC193.ipynb\" target=\"_parent\"><img src=\"https://colab.research.google.com/assets/colab-badge.svg\" alt=\"Open In Colab\"/></a>"
      ]
    },
    {
      "cell_type": "markdown",
      "metadata": {
        "id": "ox7doubuXTxg"
      },
      "source": [
        "# A - Discound\r\n",
        "1 - B/A を 100%にすれば良いので, (1-b/a) * 100 すれば良い"
      ]
    },
    {
      "cell_type": "code",
      "metadata": {
        "colab": {
          "base_uri": "https://localhost:8080/"
        },
        "id": "v0b46iKcXRy9",
        "outputId": "daea1ee4-4c39-458b-8aad-a8402bab06bd"
      },
      "source": [
        "a, b = map(int, input().split())\r\n",
        "print((1 - b/a) * 100)"
      ],
      "execution_count": 4,
      "outputs": [
        {
          "output_type": "stream",
          "text": [
            "99999 99998\n",
            "0.0010000100000961964\n"
          ],
          "name": "stdout"
        }
      ]
    },
    {
      "cell_type": "markdown",
      "metadata": {
        "id": "tAyerkn_XqMI"
      },
      "source": [
        "# B\r\n",
        "それぞれの店に到着したときに商品が残っているかどうか判定して, 残っている かつ これまでの買える値段よりも低ければ更新していく"
      ]
    },
    {
      "cell_type": "code",
      "metadata": {
        "colab": {
          "base_uri": "https://localhost:8080/"
        },
        "id": "C5tBrikOXb1o",
        "outputId": "14e034e9-0a1f-42f4-93b7-0d24972f7903"
      },
      "source": [
        "n = int(input())"
      ],
      "execution_count": 5,
      "outputs": [
        {
          "output_type": "stream",
          "text": [
            "3\n"
          ],
          "name": "stdout"
        }
      ]
    },
    {
      "cell_type": "code",
      "metadata": {
        "colab": {
          "base_uri": "https://localhost:8080/"
        },
        "id": "xWX_37X4X7ig",
        "outputId": "af04b8b1-2e6d-4a8a-903b-c127c671c7cd"
      },
      "source": [
        "ans = 10 ** 9 + 1\r\n",
        "for _ in range(n):\r\n",
        "  a, p, x = map(int, input().split())\r\n",
        "  res = x - a\r\n",
        "  if res > 0:\r\n",
        "    if p < ans:\r\n",
        "      ans = p\r\n",
        "\r\n",
        "print(ans if ans < 10 ** 9 else -1)"
      ],
      "execution_count": 7,
      "outputs": [
        {
          "output_type": "stream",
          "text": [
            "5 9 5\n",
            "6 8 5\n",
            "7 7 5\n",
            "-1\n"
          ],
          "name": "stdout"
        }
      ]
    },
    {
      "cell_type": "markdown",
      "metadata": {
        "id": "QZlCo1hKYnqr"
      },
      "source": [
        "# C - Unexpressed\r\n",
        "\r\n",
        "aの範囲は, $ 2 \\leq a \\leq \\sqrt{n}$\r\n",
        "\r\n",
        "上記のaの範囲で, a^bで表せる数を全探索する.\r\n",
        "\r\n",
        "重複が怖いので, pythonのsetを使う\r\n",
        "\r\n"
      ]
    },
    {
      "cell_type": "code",
      "metadata": {
        "colab": {
          "base_uri": "https://localhost:8080/"
        },
        "id": "F7d4DC96YgiW",
        "outputId": "9a94287e-adfa-4406-f8e6-028017ce2dbe"
      },
      "source": [
        "import math\r\n",
        "n = int(input())"
      ],
      "execution_count": 181,
      "outputs": [
        {
          "output_type": "stream",
          "text": [
            "100000\n"
          ],
          "name": "stdout"
        }
      ]
    },
    {
      "cell_type": "code",
      "metadata": {
        "colab": {
          "base_uri": "https://localhost:8080/"
        },
        "id": "LCL_uKEuhM4b",
        "outputId": "b9802984-87f7-490a-cce5-7aad98277ca0"
      },
      "source": [
        "a_b = set()\r\n",
        "for a in range(2, int(n**0.5)+1):\r\n",
        "  x = a * a\r\n",
        "  while x <= n:\r\n",
        "    a_b.add(x)\r\n",
        "    x *= a\r\n",
        "print(n - len(a_b))"
      ],
      "execution_count": 184,
      "outputs": [
        {
          "output_type": "stream",
          "text": [
            "99634\n"
          ],
          "name": "stdout"
        }
      ]
    },
    {
      "cell_type": "markdown",
      "metadata": {
        "id": "NOqhaJbTYzVI"
      },
      "source": [
        "# D - Poker"
      ]
    },
    {
      "cell_type": "markdown",
      "metadata": {
        "id": "6nlaSUNeyvf1"
      },
      "source": [
        "## 愚直な方法（PythonでAC）\r\n",
        "愚直には, お互いの#に当てはまる数字を全列挙して, \r\n",
        "\r\n",
        "sが勝つ場合にその時の場合の数を足していけば良い."
      ]
    },
    {
      "cell_type": "code",
      "metadata": {
        "colab": {
          "base_uri": "https://localhost:8080/"
        },
        "id": "IsMFWAoiZZxE",
        "outputId": "0be5fc1e-1c59-43de-b098-e04621238e45"
      },
      "source": [
        "k = int(input())\r\n",
        "s = input()\r\n",
        "t = input()"
      ],
      "execution_count": 76,
      "outputs": [
        {
          "output_type": "stream",
          "text": [
            "6\n",
            "1122#\n",
            "2228#\n"
          ],
          "name": "stdout"
        }
      ]
    },
    {
      "cell_type": "code",
      "metadata": {
        "id": "pb30F6HBaPtg"
      },
      "source": [
        "import itertools\r\n",
        "\r\n",
        "# 残りの数字の枚数\r\n",
        "total = 9 * k - 8\r\n",
        "\r\n",
        "win = 0\r\n",
        "for s1, t1 in itertools.product(range(1,10), range(1,10)):\r\n",
        "  s_point = 0\r\n",
        "  t_point = 0\r\n",
        "  now_s = s[:] + str(s1)\r\n",
        "  now_t = t[:] + str(t1)\r\n",
        "  for i in range(1,10):\r\n",
        "    s_point += i * (10 ** now_s.count(str(i)))\r\n",
        "    t_point += i * (10 ** now_t.count(str(i)))\r\n",
        "  \r\n",
        "  if s_point > t_point:\r\n",
        "    res_s1 = k - (s.count(str(s1)) + t.count(str(s1)))\r\n",
        "    if res_s1 > 0:\r\n",
        "      res_t1 = k - (now_s.count(str(t1)) + t.count(str(t1)))\r\n",
        "      \r\n",
        "      win += (res_s1 / total) * (res_t1 / (total - 1))"
      ],
      "execution_count": 77,
      "outputs": []
    },
    {
      "cell_type": "code",
      "metadata": {
        "colab": {
          "base_uri": "https://localhost:8080/"
        },
        "id": "uWdfyNTWiwLA",
        "outputId": "719543cc-34f5-4b7f-b2be-0860272f2f5b"
      },
      "source": [
        "win"
      ],
      "execution_count": 78,
      "outputs": [
        {
          "output_type": "execute_result",
          "data": {
            "text/plain": [
              "0.001932367149758454"
            ]
          },
          "metadata": {
            "tags": []
          },
          "execution_count": 78
        }
      ]
    }
  ]
}