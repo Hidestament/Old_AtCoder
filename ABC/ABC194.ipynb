{
  "nbformat": 4,
  "nbformat_minor": 0,
  "metadata": {
    "colab": {
      "name": "ABC194.ipynb",
      "provenance": [],
      "collapsed_sections": [],
      "authorship_tag": "ABX9TyMNqUjnraMgq6trqGztwash",
      "include_colab_link": true
    },
    "kernelspec": {
      "name": "python3",
      "display_name": "Python 3"
    },
    "language_info": {
      "name": "python"
    }
  },
  "cells": [
    {
      "cell_type": "markdown",
      "metadata": {
        "id": "view-in-github",
        "colab_type": "text"
      },
      "source": [
        "<a href=\"https://colab.research.google.com/github/Hidestament/AtCoder/blob/main/ABC/ABC194.ipynb\" target=\"_parent\"><img src=\"https://colab.research.google.com/assets/colab-badge.svg\" alt=\"Open In Colab\"/></a>"
      ]
    },
    {
      "cell_type": "markdown",
      "source": [
        "# [AtCoder Beginner Contest 194](https://atcoder.jp/contests/abc194)"
      ],
      "metadata": {
        "id": "R47MM7NfyW0n"
      }
    },
    {
      "cell_type": "markdown",
      "source": [
        "## [A - I Scream](https://atcoder.jp/contests/abc194/tasks/abc194_a)"
      ],
      "metadata": {
        "id": "Wzz4XNmtyYen"
      }
    },
    {
      "cell_type": "code",
      "execution_count": null,
      "metadata": {
        "colab": {
          "base_uri": "https://localhost:8080/"
        },
        "id": "ew7DvJr4yVYn",
        "outputId": "7ab19b80-34fb-41a7-a15b-75e1e4ff60c6"
      },
      "outputs": [
        {
          "output_type": "stream",
          "name": "stdout",
          "text": [
            "0 0\n",
            "4\n"
          ]
        }
      ],
      "source": [
        "A, B = map(int, input().split())\n",
        "if A + B >= 15 and B >= 8:\n",
        "    print(1)\n",
        "elif A + B >= 10 and B >= 3:\n",
        "    print(2)\n",
        "elif A + B >= 3:\n",
        "    print(3)\n",
        "else:\n",
        "    print(4)"
      ]
    },
    {
      "cell_type": "markdown",
      "source": [
        "## [B - Job Assignment](https://atcoder.jp/contests/abc194/tasks/abc194_b)"
      ],
      "metadata": {
        "id": "VUvyh7k1y2v0"
      }
    },
    {
      "cell_type": "markdown",
      "source": [
        "### 全探索"
      ],
      "metadata": {
        "id": "FYsPryz3YNra"
      }
    },
    {
      "cell_type": "code",
      "source": [
        "N = int(input())\n",
        "jobs = [list(map(int, input().split())) for _ in range(N)]"
      ],
      "metadata": {
        "colab": {
          "base_uri": "https://localhost:8080/"
        },
        "id": "kobQWR0Ty1ly",
        "outputId": "ced13bc7-e0b8-4b6f-9ffa-b29a9343da91"
      },
      "execution_count": null,
      "outputs": [
        {
          "name": "stdout",
          "output_type": "stream",
          "text": [
            "3\n",
            "8 5\n",
            "4 4\n",
            "7 9\n"
          ]
        }
      ]
    },
    {
      "cell_type": "code",
      "source": [
        "ans = 10**10\n",
        "for i in range(N):\n",
        "    for j in range(N):\n",
        "        if i == j:\n",
        "            temp = jobs[i][0] + jobs[j][1]\n",
        "        else:\n",
        "            temp = max(jobs[i][0], jobs[j][1])\n",
        "\n",
        "        ans = min(ans, temp)\n",
        "print(ans)"
      ],
      "metadata": {
        "colab": {
          "base_uri": "https://localhost:8080/"
        },
        "id": "uda45cKuzRH8",
        "outputId": "f8368180-4c9a-4332-941a-341a79dc9589"
      },
      "execution_count": null,
      "outputs": [
        {
          "output_type": "stream",
          "name": "stdout",
          "text": [
            "5\n"
          ]
        }
      ]
    },
    {
      "cell_type": "markdown",
      "source": [
        "### O(N)解法"
      ],
      "metadata": {
        "id": "jBWwlHcIYLsm"
      }
    },
    {
      "cell_type": "code",
      "source": [
        "N = int(input())\n",
        "A = []\n",
        "B = []\n",
        "for _ in range(N):\n",
        "    a, b = map(int, input().split())\n",
        "    A.append(a)\n",
        "    B.append(b)"
      ],
      "metadata": {
        "colab": {
          "base_uri": "https://localhost:8080/"
        },
        "id": "O5XoGbRKYLP-",
        "outputId": "29fb110b-f1d2-4b3f-f56d-a7cd78b49df0"
      },
      "execution_count": null,
      "outputs": [
        {
          "name": "stdout",
          "output_type": "stream",
          "text": [
            "3\n",
            "8 5\n",
            "4 4\n",
            "7 9\n"
          ]
        }
      ]
    },
    {
      "cell_type": "code",
      "source": [
        "min_a_ind = A.index(min(A))\n",
        "min_b_ind = B.index(min(B))"
      ],
      "metadata": {
        "id": "59P2qvMJYPc-"
      },
      "execution_count": null,
      "outputs": []
    },
    {
      "cell_type": "code",
      "source": [
        "if min_a_ind == min_b_ind:\n",
        "    ans = 10**10\n",
        "    for i in range(N):\n",
        "        if i != min_a_ind:\n",
        "            ans = min(ans, max(A[min_a_ind], B[i]), max(A[i], B[min_b_ind]))\n",
        "    ans = min(ans, min(A) + min(B))\n",
        "else:\n",
        "    ans = max(min(A), min(B))"
      ],
      "metadata": {
        "colab": {
          "base_uri": "https://localhost:8080/"
        },
        "id": "27V7yCWeYPaE",
        "outputId": "c2e97eab-4ef1-414f-9046-7338112450bf"
      },
      "execution_count": null,
      "outputs": [
        {
          "output_type": "stream",
          "name": "stdout",
          "text": [
            "5\n",
            "7\n"
          ]
        }
      ]
    },
    {
      "cell_type": "code",
      "source": [
        "print(ans)"
      ],
      "metadata": {
        "id": "Jg_9OfXyYLNF"
      },
      "execution_count": null,
      "outputs": []
    },
    {
      "cell_type": "markdown",
      "source": [
        "## [C - Squared Error](https://atcoder.jp/contests/abc194/tasks/abc194_c)"
      ],
      "metadata": {
        "id": "PCeikVpAzl5c"
      }
    },
    {
      "cell_type": "markdown",
      "source": [
        "### 式変形によるO(N)解法"
      ],
      "metadata": {
        "id": "vivn4BOzbOJA"
      }
    },
    {
      "cell_type": "code",
      "source": [
        "from itertools import accumulate\n",
        "N = int(input())\n",
        "A = list(map(int, input().split()))"
      ],
      "metadata": {
        "id": "5PDZHB52zisL",
        "colab": {
          "base_uri": "https://localhost:8080/"
        },
        "outputId": "b84bf94b-aa09-4b79-e3ee-d6cad81681bf"
      },
      "execution_count": null,
      "outputs": [
        {
          "name": "stdout",
          "output_type": "stream",
          "text": [
            "3\n",
            "2 8 4\n"
          ]
        }
      ]
    },
    {
      "cell_type": "code",
      "source": [
        "ans = 0\n",
        "for i in range(N):\n",
        "    ans += (A[i] ** 2)\n",
        "ans *= N"
      ],
      "metadata": {
        "id": "LQ4NbTGhL7kD"
      },
      "execution_count": null,
      "outputs": []
    },
    {
      "cell_type": "code",
      "source": [
        "s = sum(A)\n",
        "for i in range(N):\n",
        "    ans -= A[i] * s"
      ],
      "metadata": {
        "id": "YeNsO_f1L7hH"
      },
      "execution_count": null,
      "outputs": []
    },
    {
      "cell_type": "code",
      "source": [
        "print(ans)"
      ],
      "metadata": {
        "colab": {
          "base_uri": "https://localhost:8080/"
        },
        "id": "Gegft_wzL7eS",
        "outputId": "2f77c2a0-1958-4b8a-8f3a-d0948633c777"
      },
      "execution_count": null,
      "outputs": [
        {
          "output_type": "execute_result",
          "data": {
            "text/plain": [
              "56"
            ]
          },
          "metadata": {},
          "execution_count": 26
        }
      ]
    },
    {
      "cell_type": "markdown",
      "source": [
        "簡潔にかくと"
      ],
      "metadata": {
        "id": "B0P5FqlENKUt"
      }
    },
    {
      "cell_type": "code",
      "source": [
        "from itertools import accumulate\n",
        "N = int(input())\n",
        "A = list(map(int, input().split()))"
      ],
      "metadata": {
        "id": "1WJNfXGkNKL6"
      },
      "execution_count": null,
      "outputs": []
    },
    {
      "cell_type": "code",
      "source": [
        "ans = N * sum(A[i] ** 2 for i in range(N))\n",
        "s = sum(A)\n",
        "ans = ans - sum(A[i] * s for i in range(N))\n",
        "print(ans)"
      ],
      "metadata": {
        "id": "V5ENrXYTNKJG"
      },
      "execution_count": null,
      "outputs": []
    },
    {
      "cell_type": "markdown",
      "source": [
        "### |A| <= 200を利用する解法"
      ],
      "metadata": {
        "id": "L56T-OjrbQtA"
      }
    },
    {
      "cell_type": "code",
      "source": [
        "from collections import Counter\n",
        "N = int(input())\n",
        "A = list(map(int, input().split()))\n",
        "cnt = Counter(A)"
      ],
      "metadata": {
        "id": "alxusx0FmuHl"
      },
      "execution_count": null,
      "outputs": []
    },
    {
      "cell_type": "code",
      "source": [
        "ans = 0\n",
        "for key1, value1 in cnt.items():\n",
        "    for key2, value2 in cnt.items():\n",
        "        ans += (key1 - key2) ** 2 * value1 * value2\n",
        "print(ans // 2)"
      ],
      "metadata": {
        "id": "zx8WzimfmuE5"
      },
      "execution_count": null,
      "outputs": []
    },
    {
      "cell_type": "markdown",
      "source": [
        "## [D - Journey](https://atcoder.jp/contests/abc194/tasks/abc194_d)"
      ],
      "metadata": {
        "id": "z9ftwsD40LdS"
      }
    },
    {
      "cell_type": "code",
      "source": [
        "N = int(input())"
      ],
      "metadata": {
        "id": "_zjbX0RE0NnA",
        "colab": {
          "base_uri": "https://localhost:8080/"
        },
        "outputId": "5da314bf-02af-4e8c-c938-da09a3594399"
      },
      "execution_count": null,
      "outputs": [
        {
          "name": "stdout",
          "output_type": "stream",
          "text": [
            "2\n"
          ]
        }
      ]
    },
    {
      "cell_type": "code",
      "source": [
        "ans = N * sum(1/i for i in range(1, N))\n",
        "print(ans)"
      ],
      "metadata": {
        "colab": {
          "base_uri": "https://localhost:8080/"
        },
        "id": "H8Om5AlUNPJw",
        "outputId": "abcc4757-35a1-48ae-ec95-0b14b8e6079b"
      },
      "execution_count": null,
      "outputs": [
        {
          "output_type": "stream",
          "name": "stdout",
          "text": [
            "2.0\n"
          ]
        }
      ]
    },
    {
      "cell_type": "markdown",
      "source": [
        "## [E - Mex Min](https://atcoder.jp/contests/abc194/tasks/abc194_e)"
      ],
      "metadata": {
        "id": "kd9nKq1NOAWv"
      }
    },
    {
      "cell_type": "markdown",
      "source": [
        "### 解法1: heapqで頑張る（自力）"
      ],
      "metadata": {
        "id": "d2CMi7MPiCaU"
      }
    },
    {
      "cell_type": "code",
      "source": [
        "from collections import deque\n",
        "from heapq import heapify, heappop, heappush\n",
        "N, M = map(int, input().split())\n",
        "A = list(map(int, input().split()))"
      ],
      "metadata": {
        "colab": {
          "base_uri": "https://localhost:8080/"
        },
        "id": "wfuVj0IrOCf0",
        "outputId": "841e3709-b8c7-4f4f-9964-ad1f52e30795"
      },
      "execution_count": null,
      "outputs": [
        {
          "name": "stdout",
          "output_type": "stream",
          "text": [
            "7 3\n",
            "0 0 1 2 0 1 0\n"
          ]
        }
      ]
    },
    {
      "cell_type": "code",
      "source": [
        "hq = [i for i in range(N+10)]\n",
        "heapify(hq)"
      ],
      "metadata": {
        "id": "G4wgEFlMSnbr"
      },
      "execution_count": null,
      "outputs": []
    },
    {
      "cell_type": "code",
      "source": [
        "from collections import deque\n",
        "used = [0] * (N+1)\n",
        "exist = set([i for i in range(N+10)])\n",
        "dq = deque()\n",
        "ans = 10**10\n",
        "for l in range(N):\n",
        "    a = A[l]\n",
        "    used[a] += 1\n",
        "    dq.append(a)\n",
        "\n",
        "    if len(dq) > M:\n",
        "        res = dq.popleft()\n",
        "        used[res] -= 1\n",
        "        if used[res] == 0 and res not in exist:\n",
        "            heappush(hq, res)\n",
        "\n",
        "    if len(dq) == M:\n",
        "        while True:\n",
        "            minimum = heappop(hq)\n",
        "            if used[minimum] == 0:\n",
        "                break\n",
        "            else:\n",
        "                exist.discard(minimum)\n",
        "\n",
        "        ans = min(ans, minimum)"
      ],
      "metadata": {
        "id": "WnY7bH-UO19K"
      },
      "execution_count": null,
      "outputs": []
    },
    {
      "cell_type": "code",
      "source": [
        "print(ans)"
      ],
      "metadata": {
        "colab": {
          "base_uri": "https://localhost:8080/"
        },
        "id": "eAKJGQlqPmMA",
        "outputId": "24d4ec91-00b1-4e42-99e5-f946e8b861ad"
      },
      "execution_count": null,
      "outputs": [
        {
          "output_type": "execute_result",
          "data": {
            "text/plain": [
              "2"
            ]
          },
          "metadata": {},
          "execution_count": 40
        }
      ]
    },
    {
      "cell_type": "markdown",
      "source": [
        "### 解法2"
      ],
      "metadata": {
        "id": "gdhirLoEf8UL"
      }
    },
    {
      "cell_type": "code",
      "source": [
        "from collections import deque\n",
        "N, M = map(int, input().split())\n",
        "A = list(map(int, input().split()))\n",
        "dq = deque()\n",
        "used = [0] * (N+10)"
      ],
      "metadata": {
        "colab": {
          "base_uri": "https://localhost:8080/"
        },
        "id": "SaE7DV-zT9DR",
        "outputId": "26015721-fb0b-4002-e3dc-678357750c40"
      },
      "execution_count": null,
      "outputs": [
        {
          "name": "stdout",
          "output_type": "stream",
          "text": [
            "7 3\n",
            "0 0 1 2 0 1 0\n"
          ]
        }
      ]
    },
    {
      "cell_type": "code",
      "source": [
        "# 最初の 0 ~ M の区間に対するmexを求める\n",
        "ans = 10**10\n",
        "dq = deque()\n",
        "for i in range(M):\n",
        "    a = A[i]\n",
        "    dq.append(a)\n",
        "    used[a] += 1\n",
        "\n",
        "for i in range(N+10):\n",
        "    if used[i] == 0:\n",
        "        ans = min(ans, i)"
      ],
      "metadata": {
        "id": "kIFpC3ZVg8Tc"
      },
      "execution_count": null,
      "outputs": []
    },
    {
      "cell_type": "code",
      "source": [
        "# その後の区間の変化に対するmexを求める\n",
        "for i in range(M, N):\n",
        "    a = A[i]\n",
        "    dq.append(a)\n",
        "    res = dq.popleft()\n",
        "    used[a] += 1\n",
        "    used[res] -= 1\n",
        "    if used[res] == 0:\n",
        "        ans = min(ans, res)"
      ],
      "metadata": {
        "id": "BYQyA-Btg8Q3"
      },
      "execution_count": null,
      "outputs": []
    },
    {
      "cell_type": "code",
      "source": [
        "print(ans)"
      ],
      "metadata": {
        "colab": {
          "base_uri": "https://localhost:8080/"
        },
        "id": "B9CX2FPAg8OL",
        "outputId": "71ad0209-bfb5-4d2f-ab9f-424f4a1db42f"
      },
      "execution_count": null,
      "outputs": [
        {
          "output_type": "stream",
          "name": "stdout",
          "text": [
            "2\n"
          ]
        }
      ]
    },
    {
      "cell_type": "markdown",
      "source": [
        "### 解答3: Seg木で頑張る"
      ],
      "metadata": {
        "id": "hE69rNWk5R9y"
      }
    },
    {
      "cell_type": "code",
      "source": [
        "class SegmentTree:\n",
        "    \"\"\" 1点更新・区間集約 Segment Tree. 非再起・1-index・非可換\n",
        "\n",
        "    Attributes:\n",
        "        tree (List[Union[int, float]]): セグメントツリーを表す配列\n",
        "        segfunc (Callable): 集約を行う関数 (モノイド上の演算)\n",
        "        ide_ele (float): 集約の関数における単位元　（モノイド上の単位元）\n",
        "        update (int, float): 元の配列の更新 & セグメントツリーの更新\n",
        "        query (int, int): 区間集約値の取得\n",
        "    \"\"\"\n",
        "    def __init__(self, n: int, ide_ele: float, seg_func: callable):\n",
        "        \"\"\"\n",
        "        Args:\n",
        "            n (int): 元の配列のサイズ\n",
        "            ide_ele (float): モノイドにおける単位元\n",
        "            segfunc (callable): 集約を行う関数 （モノイド上の演算）\n",
        "        \"\"\"\n",
        "        self.segfunc = seg_func\n",
        "        self.ide_ele = ide_ele\n",
        "        self.num = 1 << (n - 1).bit_length()\n",
        "        self.tree = [self.ide_ele] * (2 * self.num)\n",
        "    \n",
        "    def update(self, i: int, x: float) -> None:\n",
        "        \"\"\"元の配列のi番目を x に変更（上書き）する. それに伴ってセグメントツリーも更新する. +=のようなupdateではない.\n",
        "\n",
        "        Args:\n",
        "            i (int): 元の配列のi番目の要素. 元の配列の0-indexの\n",
        "            x (float): 変更後の値        \n",
        "        \"\"\"\n",
        "        i += self.num\n",
        "        self.tree[i] = x\n",
        "        while i > 1:\n",
        "            i >>= 1\n",
        "            self.tree[i] = self.segfunc(self.tree[i << 1], self.tree[(i << 1) + 1])\n",
        "        \n",
        "    def query(self, l: int, r: int):\n",
        "        \"\"\"元の配列の閉区間[l, r]のsegfuncにおける集約値を取得する\n",
        "\n",
        "        Args:\n",
        "            l (int): 元の配列の集約を行う区間の左端のindex. 0-index\n",
        "            r (int): 元の配列の集約を行う区間の右端のindex. 0-index\n",
        "        \"\"\"\n",
        "        # [l, r) として葉から計算していく\n",
        "        l += self.num\n",
        "        r += self.num + 1\n",
        "\n",
        "        l_res = self.ide_ele\n",
        "        r_res = self.ide_ele\n",
        "        \n",
        "        while l < r:\n",
        "            if l & 1:  # lが奇数だったらそのノードを集約する\n",
        "                l_res = self.segfunc(l_res, self.tree[l])\n",
        "                l += 1  # 右に進む\n",
        "            if r & 1:  # rが奇数だったら, rは開区間なので その1つ左ノードを集約する\n",
        "                r_res = self.segfunc(self.tree[r - 1], r_res)\n",
        "\n",
        "            l >>= 1  # 上に進む（２で割って切り捨て）\n",
        "            r >>= 1\n",
        "        \n",
        "        return self.segfunc(l_res, r_res)"
      ],
      "metadata": {
        "id": "fjBtNDp55Tv7"
      },
      "execution_count": 62,
      "outputs": []
    },
    {
      "cell_type": "code",
      "source": [
        "from collections import deque\n",
        "N, M = map(int, input().split())\n",
        "A = list(map(int, input().split()))\n",
        "cnt = [0] * (N + 10)"
      ],
      "metadata": {
        "colab": {
          "base_uri": "https://localhost:8080/"
        },
        "id": "8JxCPwme58oI",
        "outputId": "04fcb583-ebcc-41a8-de0a-2dd851b31603"
      },
      "execution_count": 67,
      "outputs": [
        {
          "name": "stdout",
          "output_type": "stream",
          "text": [
            "3 2\n",
            "0 0 1\n"
          ]
        }
      ]
    },
    {
      "cell_type": "code",
      "source": [
        "seg = SegmentTree(N+10, 10**15, min)\n",
        "for i in range(N+10):\n",
        "    seg.update(i, i)"
      ],
      "metadata": {
        "id": "XpvYtJ5h6AP3"
      },
      "execution_count": 68,
      "outputs": []
    },
    {
      "cell_type": "code",
      "source": [
        "INF = 10**15\n",
        "ans = INF\n",
        "for i in range(N):\n",
        "    cnt[A[i]] += 1\n",
        "    seg.update(A[i], INF)\n",
        "    if i >= M:\n",
        "        a = A[i - M]\n",
        "        cnt[a] -= 1\n",
        "        if cnt[a] == 0:\n",
        "            seg.update(a, a)\n",
        "\n",
        "    if i >= M - 1:\n",
        "        ans = min(ans, seg.query(0, N + 10))\n",
        "print(ans)"
      ],
      "metadata": {
        "colab": {
          "base_uri": "https://localhost:8080/"
        },
        "id": "PXrJnG8L7PjC",
        "outputId": "df6a5fb8-a742-49b2-cd91-9b343b000c65"
      },
      "execution_count": 69,
      "outputs": [
        {
          "output_type": "stream",
          "name": "stdout",
          "text": [
            "1\n"
          ]
        }
      ]
    }
  ]
}