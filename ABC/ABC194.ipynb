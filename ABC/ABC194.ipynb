{
  "nbformat": 4,
  "nbformat_minor": 0,
  "metadata": {
    "colab": {
      "name": "ABC194.ipynb",
      "provenance": [],
      "authorship_tag": "ABX9TyNpNM8c9RHGC1wWZf0R76rx",
      "include_colab_link": true
    },
    "kernelspec": {
      "name": "python3",
      "display_name": "Python 3"
    }
  },
  "cells": [
    {
      "cell_type": "markdown",
      "metadata": {
        "id": "view-in-github",
        "colab_type": "text"
      },
      "source": [
        "<a href=\"https://colab.research.google.com/github/Hidestament/AtCoder/blob/main/ABC/ABC194.ipynb\" target=\"_parent\"><img src=\"https://colab.research.google.com/assets/colab-badge.svg\" alt=\"Open In Colab\"/></a>"
      ]
    },
    {
      "cell_type": "markdown",
      "metadata": {
        "id": "xzDatsFSjWdl"
      },
      "source": [
        "# A - I scream"
      ]
    },
    {
      "cell_type": "code",
      "metadata": {
        "colab": {
          "base_uri": "https://localhost:8080/"
        },
        "id": "NECUKxWHjU_j",
        "outputId": "e2757705-0775-42d9-81ee-296bb168e125"
      },
      "source": [
        "a,b = map(int, input().split())\r\n",
        "\r\n",
        "if a+b >= 15 and b >= 8:\r\n",
        "  print(1)\r\n",
        "elif a+b >= 10 and b >= 3:\r\n",
        "  print(2)\r\n",
        "elif a+b >= 3:\r\n",
        "  print(3)\r\n",
        "else:\r\n",
        "  print(4)"
      ],
      "execution_count": null,
      "outputs": [
        {
          "output_type": "stream",
          "text": [
            "0 0\n",
            "4\n"
          ],
          "name": "stdout"
        }
      ]
    },
    {
      "cell_type": "markdown",
      "metadata": {
        "id": "kev94JLEj7zY"
      },
      "source": [
        "# B - Job Assignment"
      ]
    },
    {
      "cell_type": "markdown",
      "metadata": {
        "id": "rsKJ8v9nOKy0"
      },
      "source": [
        "## $O(n)の解法$\r\n",
        "Aが最小の人とBが最小の人が同じ場合と異なる場合を考えなくてはいけない."
      ]
    },
    {
      "cell_type": "code",
      "metadata": {
        "colab": {
          "base_uri": "https://localhost:8080/"
        },
        "id": "UVpjKU1HkZvd",
        "outputId": "54351260-96be-45f7-fdb8-07799f57d318"
      },
      "source": [
        "n = int(input())"
      ],
      "execution_count": 30,
      "outputs": [
        {
          "output_type": "stream",
          "text": [
            "3\n"
          ],
          "name": "stdout"
        }
      ]
    },
    {
      "cell_type": "code",
      "metadata": {
        "id": "TZHX2NMok5g_",
        "colab": {
          "base_uri": "https://localhost:8080/"
        },
        "outputId": "4b6419a4-9cf7-454f-d534-fde7916a8eda"
      },
      "source": [
        "T = [list(map(int, input().split())) for _ in range(n)]\r\n",
        "T1 = T[:]\r\n",
        "T2 = T[:]"
      ],
      "execution_count": 31,
      "outputs": [
        {
          "output_type": "stream",
          "text": [
            "11 7\n",
            "3 2\n",
            "6 7\n"
          ],
          "name": "stdout"
        }
      ]
    },
    {
      "cell_type": "code",
      "metadata": {
        "id": "CqYtFvMXN6mu"
      },
      "source": [
        "ab_min = sum(min(T, key=lambda x:x[0]+x[1]))\r\n",
        "a_min_1 = T1.pop(T1.index(min(T1, key=lambda x:x[0])))[0]\r\n",
        "b_min_1 = T1.pop(T1.index(min(T1, key=lambda x:x[1])))[1]"
      ],
      "execution_count": 32,
      "outputs": []
    },
    {
      "cell_type": "code",
      "metadata": {
        "id": "SMdRV57UcXuL"
      },
      "source": [
        "a_min_2 = T2.pop(T2.index(min(T2, key=lambda x:x[0])))[0]\r\n",
        "b_min_2 = T2.pop(T2.index(min(T2, key=lambda x:x[1])))[1]"
      ],
      "execution_count": null,
      "outputs": []
    },
    {
      "cell_type": "code",
      "metadata": {
        "colab": {
          "base_uri": "https://localhost:8080/"
        },
        "id": "zsVLA3bGRgaa",
        "outputId": "f559f84c-5360-4b4e-bdbe-698ba36f9ef2"
      },
      "source": [
        "print(min(max(a_min_1, b_min_1), max(a_min_2, b_min_2), ab_min))"
      ],
      "execution_count": 33,
      "outputs": [
        {
          "output_type": "stream",
          "text": [
            "5\n"
          ],
          "name": "stdout"
        }
      ]
    },
    {
      "cell_type": "markdown",
      "metadata": {
        "id": "SX52r_J2Ninj"
      },
      "source": [
        "## $O(n^2)$, 全列挙で解いてみる."
      ]
    },
    {
      "cell_type": "code",
      "metadata": {
        "colab": {
          "base_uri": "https://localhost:8080/"
        },
        "id": "FXh-DseXNY6N",
        "outputId": "ea5e01f5-4b00-4b6d-c6b6-69a2baa29061"
      },
      "source": [
        "n = int(input())\r\n",
        "a = [0] * n\r\n",
        "b = [0] * n\r\n",
        "for i in range(n):\r\n",
        "  a[i], b[i] = map(int, input().split())"
      ],
      "execution_count": 8,
      "outputs": [
        {
          "output_type": "stream",
          "text": [
            "3\n",
            "8 5\n",
            "4 4\n",
            "7 9\n"
          ],
          "name": "stdout"
        }
      ]
    },
    {
      "cell_type": "code",
      "metadata": {
        "id": "widMP8FkNY3W"
      },
      "source": [
        "ans = 10**6\r\n",
        "for i in range(n):\r\n",
        "  for j in range(n):\r\n",
        "    ans = min(ans, a[i] + b[j] if i == j else max(a[i], b[j]))"
      ],
      "execution_count": 9,
      "outputs": []
    },
    {
      "cell_type": "code",
      "metadata": {
        "colab": {
          "base_uri": "https://localhost:8080/"
        },
        "id": "OVUGEMZJNY0A",
        "outputId": "55bdfcd4-2d5c-4c5b-da95-0a1d5de5fb07"
      },
      "source": [
        "print(ans)"
      ],
      "execution_count": 10,
      "outputs": [
        {
          "output_type": "stream",
          "text": [
            "5\n"
          ],
          "name": "stdout"
        }
      ]
    },
    {
      "cell_type": "markdown",
      "metadata": {
        "id": "pVGbUflfSm39"
      },
      "source": [
        "# C - Squared Error\r\n"
      ]
    },
    {
      "cell_type": "markdown",
      "metadata": {
        "id": "G_Lt6hoFPeT7"
      },
      "source": [
        "## 累積和を使う\r\n",
        "iを0始まりにして, 固定すると\r\n",
        "$$\r\n",
        "\\sum_{j=1}^{i-1} (A_i - A_j)^2 \\\\\r\n",
        "= \\sum_{j=1}^{i-1} \\left( A_i^2 - 2 A_i A_j + A_j^2 \\right) \\\\\r\n",
        "= i * A_i^2 - 2A_i \\sum_{j=1}^{i-1} A_j + \\sum_{j=1}^{i-1} A_j^2 \r\n",
        "$$\r\n",
        "累積和を使えばこれはO(1)で解けるので, iに対してfor文を回す"
      ]
    },
    {
      "cell_type": "code",
      "metadata": {
        "colab": {
          "base_uri": "https://localhost:8080/"
        },
        "id": "Hl8OnoeCSvfA",
        "outputId": "2e49054d-35a0-4083-e889-5c4cbdab740a"
      },
      "source": [
        "n = int(input())\r\n",
        "a = list(map(int, input().split()))"
      ],
      "execution_count": 37,
      "outputs": [
        {
          "output_type": "stream",
          "text": [
            "3\n",
            "2 8 4\n"
          ],
          "name": "stdout"
        }
      ]
    },
    {
      "cell_type": "code",
      "metadata": {
        "id": "mQrldYWMTamt"
      },
      "source": [
        "a_j = [0] * (n+1)\r\n",
        "a_j_2 = [0] + [0]*n\r\n",
        "for i in range(1, n+1):\r\n",
        "  a_j[i] = a[i-1] + a_j[i-1]\r\n",
        "  a_j_2[i] = a[i-1]**2 + a_j_2[i-1]"
      ],
      "execution_count": 86,
      "outputs": []
    },
    {
      "cell_type": "code",
      "metadata": {
        "id": "GoYXViaZVG2h"
      },
      "source": [
        "ans = 0\r\n",
        "for i in range(1, n):\r\n",
        "  ans += i * (a[i] ** 2) - 2 * a[i] * a_j[i] + a_j_2[i]"
      ],
      "execution_count": 91,
      "outputs": []
    },
    {
      "cell_type": "code",
      "metadata": {
        "colab": {
          "base_uri": "https://localhost:8080/"
        },
        "id": "Nd5FNmn_W8NL",
        "outputId": "8b3af813-5943-4c3f-8014-7b399321711c"
      },
      "source": [
        "print(ans)"
      ],
      "execution_count": 92,
      "outputs": [
        {
          "output_type": "stream",
          "text": [
            "56\n"
          ],
          "name": "stdout"
        }
      ]
    },
    {
      "cell_type": "markdown",
      "metadata": {
        "id": "PL1DGtn_PiRF"
      },
      "source": [
        "## Σの展開を工夫する\r\n",
        "$$\r\n",
        "\\sum_{i=2}^n \\sum_{j=1}^{i-1} (A_i - A_j)^2   \\\\\r\n",
        "= \\sum_{1 \\leq j < i \\leq n} (A_i - A_j)^2 \\\\\r\n",
        "= \\frac{1}{2}\\left( \\sum_{i,j=1}^n (A_i - A_j)^2 - \\sum_{k=1}^n (A_k - A_k)^2 \\right)\r\n",
        "$$\r\n",
        "最後の変形は, $1\\leq j < i \\leq n$に対して和をとる事が, $1 \\leq i,j \\leq n$ に対して和を取ったモノから, $(i,j)$と$(j,i)$で同じモノが2回たされているので, ÷2.\r\n",
        "さらに, $i==j の (i,j)$ と同じモノがたされているので, それ分を引いている.\r\n",
        "\r\n",
        "$(A_k -A_k) = 0$より, \r\n",
        "$$\r\n",
        "= \\frac{1}{2} \\sum_{i,j = 1}^n (A_i - A_j) ^2\\\\\r\n",
        "= \\frac{1}{2} \\left( \\sum_{i=1}^n \\sum_{j=1}^n A_i^2 - 2 * \\left( \\sum_{i=1}^n A_i \\right) \\left( \\sum_{j=1}^n A_j \\right) + \\sum_{i=1}^n \\sum_{j=1}^n A_j^2  \\right) \\\\\r\n",
        "= \\frac{1}{2} \\left( n *  \\sum_{i=1}^n  A_i^2 - 2 * \\left( \\sum_{i=1}^n A_i \\right)^2  + n *  \\sum_{j=1}^n A_j^2  \\right) \\\\\r\n",
        "\r\n",
        "= \\frac{1}{2} \\left( 2n *  \\sum_{i=1}^n  A_i^2 - 2 * \\left( \\sum_{i=1}^n A_i \\right)^2   \\right) \\\\\r\n",
        "= \\left( n *  \\sum_{i=1}^n  A_i^2 -  \\left( \\sum_{i=1}^n A_i \\right)^2   \\right) \\\\\r\n",
        "$$\r\n",
        "\r\n",
        "となるので, Aの二乗の和と, 和の二乗を求めれば良い."
      ]
    },
    {
      "cell_type": "code",
      "metadata": {
        "id": "S01BIDj7Pi4j"
      },
      "source": [
        "n = int(input())\r\n",
        "a = list(map(int, input().split()))"
      ],
      "execution_count": null,
      "outputs": []
    },
    {
      "cell_type": "code",
      "metadata": {
        "id": "XK4pKrf2Pi2a"
      },
      "source": [
        "ans = 0\r\n",
        "temp = 0\r\n",
        "for i in range(n):\r\n",
        "  ans += a[i] ** 2\r\n",
        "  temp += a[i]\r\n",
        "ans = n * ans - temp**2\r\n",
        "print(ans)"
      ],
      "execution_count": null,
      "outputs": []
    },
    {
      "cell_type": "markdown",
      "metadata": {
        "id": "cTUegWhEW3vy"
      },
      "source": [
        "# D - Journey\r\n",
        "全ての頂点が選ばれたときに連結になる.\r\n",
        "\r\n",
        "よって, 全ての頂点が選ばれる回数の期待値を求めれば良い.\r\n",
        "\r\n",
        "これは, 「ガチャにおいて全ての商品を獲得できる期待値」を求める所謂コンプガチャ\r\n"
      ]
    },
    {
      "cell_type": "code",
      "metadata": {
        "colab": {
          "base_uri": "https://localhost:8080/"
        },
        "id": "o8aW8nSUVIcx",
        "outputId": "733aed08-7743-4ae2-f03a-65efe564d639"
      },
      "source": [
        "n = int(input())"
      ],
      "execution_count": 1,
      "outputs": [
        {
          "output_type": "stream",
          "text": [
            "3\n"
          ],
          "name": "stdout"
        }
      ]
    },
    {
      "cell_type": "code",
      "metadata": {
        "id": "PGOw2TTjJMb1"
      },
      "source": [
        "ans = 0\r\n",
        "for i in range(1, n):\r\n",
        "  ans += 1 / (n-i)\r\n",
        "ans *= n"
      ],
      "execution_count": 5,
      "outputs": []
    },
    {
      "cell_type": "code",
      "metadata": {
        "id": "xVETpvKaJcvT"
      },
      "source": [
        "print(ans)"
      ],
      "execution_count": 6,
      "outputs": []
    }
  ]
}