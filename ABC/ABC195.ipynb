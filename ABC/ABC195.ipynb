{
  "nbformat": 4,
  "nbformat_minor": 0,
  "metadata": {
    "colab": {
      "name": "ABC195.ipynb",
      "provenance": [],
      "authorship_tag": "ABX9TyOyQU1GmV3KqzvnlksnyBGD",
      "include_colab_link": true
    },
    "kernelspec": {
      "name": "python3",
      "display_name": "Python 3"
    }
  },
  "cells": [
    {
      "cell_type": "markdown",
      "metadata": {
        "id": "view-in-github",
        "colab_type": "text"
      },
      "source": [
        "<a href=\"https://colab.research.google.com/github/Hidestament/AtCoder/blob/main/ABC/ABC195.ipynb\" target=\"_parent\"><img src=\"https://colab.research.google.com/assets/colab-badge.svg\" alt=\"Open In Colab\"/></a>"
      ]
    },
    {
      "cell_type": "markdown",
      "metadata": {
        "id": "GiE8RYuJb01w"
      },
      "source": [
        "# A - Health M Death"
      ]
    },
    {
      "cell_type": "code",
      "metadata": {
        "colab": {
          "base_uri": "https://localhost:8080/"
        },
        "id": "M1S_MAWwbzB7",
        "outputId": "8c29bb2e-2bdf-48fc-a94a-3f7b6d31d794"
      },
      "source": [
        "m, h = map(int, input().split())\r\n",
        "print(\"YNeos\"[h%m!=0::2])"
      ],
      "execution_count": 87,
      "outputs": [
        {
          "output_type": "stream",
          "text": [
            "10 125\n",
            "No\n"
          ],
          "name": "stdout"
        }
      ]
    },
    {
      "cell_type": "markdown",
      "metadata": {
        "id": "arVk7z4EdiNh"
      },
      "source": [
        "# B - Many Oranges"
      ]
    },
    {
      "cell_type": "markdown",
      "metadata": {
        "id": "yO5n2eJSIg6K"
      },
      "source": [
        "必要なみかんの個数を$N$とする.\r\n",
        "\r\n",
        "このとき, まず明らかなことは, $N$の最小値の上界と最大値の下界である.\r\n",
        "$$\r\n",
        "N \\leq \\frac{1000W}{A} \\\\\r\n",
        "\\frac{1000W}{B} \\leq N\r\n",
        "$$\r\n",
        "つまり, どんなに頑張っても$N$は, $\\frac{1000W}{B}$より小さくはならないし, $\\frac{1000W}{A}$ より大きくはならない."
      ]
    },
    {
      "cell_type": "markdown",
      "metadata": {
        "id": "7AfSGn4qKr9y"
      },
      "source": [
        "この最小値の上界と, 最大値の下界を達成できるか確認する.\r\n",
        "\r\n",
        "ここで, $ceil(1000W/B) = N_{min}$, $floor(1000W/A) = N_{max}$ とする.\r\n"
      ]
    },
    {
      "cell_type": "markdown",
      "metadata": {
        "id": "xV1MijVYo62n"
      },
      "source": [
        "- 解が存在しない場合 \\\\\r\n",
        "$N_{min} > N_{max}$のときは, 解が存在しない.\r\n",
        "\r\n",
        "これは, $N_{min} \\leq N$かつ$N \\leq N_{max}$となる整数$N$が存在しないことより明らか.\r\n",
        "\r\n",
        "- 解が存在する場合 \\\\\r\n",
        "上記の解が存在する場合を考える.\r\n",
        "\r\n",
        "このとき, $N_{min}$で達成できる重さWWの範囲は,\r\n",
        "$$\r\n",
        "A*N_{min}\\leq WW \\leq B*N_{min}\r\n",
        "$$\r\n",
        "この範囲内に, $W'$が入っていれば良い.\r\n",
        "\r\n",
        "$$\r\n",
        "W' - A*N_{min} = W' - floor(W'/A) \\\\ \r\n",
        "\\geq W' - A * (W'/A) \\geq 0\r\n",
        "$$\r\n",
        "また, \r\n",
        "$$\r\n",
        "BN_{min} - W' = B*ceil(W'/B) - W' \\\\\r\n",
        "\\geq B*(W'/B) - W' \\geq 0\r\n",
        "$$\r\n",
        "\r\n",
        "より, $A*N_{min}\\leq W' \\leq B*N_{min}$が成立する.\r\n",
        "\r\n",
        "\r\n",
        "同様に, $B*N_{max}\\leq W'\\leq B*N_{max}$も成立する.\r\n",
        "\r\n",
        "よって, $N_{min}$と$N_{max}$で$W'$は表現可能であるため, これが最小値と最大値になる."
      ]
    },
    {
      "cell_type": "code",
      "metadata": {
        "colab": {
          "base_uri": "https://localhost:8080/"
        },
        "id": "omDIE5m6dcXF",
        "outputId": "16fc6bf0-4509-49a3-baa3-8ebd730ff6e3"
      },
      "source": [
        "a, b, w = map(int, input().split())\r\n",
        "w *= 1000\r\n",
        "max_num = w // a\r\n",
        "min_num = -(-w//b)\r\n",
        "\r\n",
        "if min_num > max_num:\r\n",
        "  print(\"UNSATISFIABLE\")\r\n",
        "else:\r\n",
        "  print(min_num, max_num)"
      ],
      "execution_count": null,
      "outputs": [
        {
          "output_type": "stream",
          "text": [
            "100 200 2\n"
          ],
          "name": "stdout"
        }
      ]
    },
    {
      "cell_type": "markdown",
      "metadata": {
        "id": "VixHEYKujbAa"
      },
      "source": [
        "## 全列挙\r\n"
      ]
    },
    {
      "cell_type": "markdown",
      "metadata": {
        "id": "8-VEBmuLkGcm"
      },
      "source": [
        "みかんの個数を$k$としたときに, $Ak$グラム以上$Bk$グラム未満の重さは表現可能である.\r\n",
        "\r\n",
        "これは, みかんの重さを$w$としたときに, $wk$を$w$の関数とみなせば明らかである. $w$は連続値でokなので.\r\n",
        "\r\n",
        "よって, 任意の$k$に対して, 重さ$W$キログラムが表現可能かどうか全列挙すれば良い.\r\n",
        "\r\n",
        "$k$の範囲は, 1以上(W*1000+1)以下である.\r\n",
        "\r\n",
        "最大は, 全てのミカンを1グラムとしたときに表現できる重さの最大値(W*1000)から来ている."
      ]
    },
    {
      "cell_type": "code",
      "metadata": {
        "colab": {
          "base_uri": "https://localhost:8080/"
        },
        "id": "ZxfdReLpjbh2",
        "outputId": "c6284b1d-5841-4622-88c1-c8995206f251"
      },
      "source": [
        "a,b, w = map(int, input().split())"
      ],
      "execution_count": 91,
      "outputs": [
        {
          "output_type": "stream",
          "text": [
            "300 333 1\n"
          ],
          "name": "stdout"
        }
      ]
    },
    {
      "cell_type": "code",
      "metadata": {
        "colab": {
          "base_uri": "https://localhost:8080/"
        },
        "id": "fUjvRZ25jbfJ",
        "outputId": "08eeb7bb-efcb-4ce7-d51d-cf5e8cddf685"
      },
      "source": [
        "ok = []\r\n",
        "for i in range(1, 1000*1000 + 1):\r\n",
        "  if a *i <= 1000*w <= b * i:\r\n",
        "    ok.append(i)\r\n",
        "if len(ok) != 0:\r\n",
        "  print(min(ok), max(ok))\r\n",
        "else:\r\n",
        "  print(\"UNSATISFIABLE\")"
      ],
      "execution_count": 94,
      "outputs": [
        {
          "output_type": "stream",
          "text": [
            "-1\n"
          ],
          "name": "stdout"
        }
      ]
    },
    {
      "cell_type": "markdown",
      "metadata": {
        "id": "T-EYlT2rd4r_"
      },
      "source": [
        "# C - Comma"
      ]
    },
    {
      "cell_type": "markdown",
      "metadata": {
        "id": "WMdRX-v7bQN4"
      },
      "source": [
        "- 1 ～ 999 は コンマ 0 個\r\n",
        "- 1,000 ～ 999,999 は コンマ 1 個\r\n",
        "- 1,000,000 ～ 999,999,999 は コンマ 2個 である.\r\n",
        "\r\n",
        "よって, 小さい方から3桁ずつずらして行って, コンマが何個あるかカウントしていく.\r\n",
        "\r\n",
        "コンマの個数が変わるのは, 10**3 おきにコンマの個数が1つずつ増えていく.\r\n",
        "\r\n",
        "次の3桁先が, 与えられたnのサイズよりも大きいなら, n から その現在のカンマの個数を n - 10**i + 1 で求める.\r\n",
        "\r\n",
        "次の3桁先が, 与えられたnのサイズよりも小さいなら, その現在のカンマの個数を最大分カウントする."
      ]
    },
    {
      "cell_type": "code",
      "metadata": {
        "colab": {
          "base_uri": "https://localhost:8080/"
        },
        "id": "PY0oZdOCd5Ns",
        "outputId": "8fdf246d-2acf-4172-ced0-dad161efbbec"
      },
      "source": [
        "n = int(input())"
      ],
      "execution_count": 60,
      "outputs": [
        {
          "output_type": "stream",
          "text": [
            "100000000000000\n"
          ],
          "name": "stdout"
        }
      ]
    },
    {
      "cell_type": "code",
      "metadata": {
        "id": "zKcFSRKqd8nF"
      },
      "source": [
        "if n < 1000:\r\n",
        "  print(0)\r\n",
        "else:\r\n",
        "  ans = 0\r\n",
        "  comma = 1\r\n",
        "  for i in range(3, len(str(n)), 3):\r\n",
        "    x = n // (10**i)\r\n",
        "    next_x = n // (10**(i+3))\r\n",
        "    if next_x == 0:\r\n",
        "      ans += (n - 10**i + 1) * comma\r\n",
        "    else:\r\n",
        "      ans += (10**(i+3)  - 10**i) * comma\r\n",
        "    comma += 1\r\n",
        "  print(ans)"
      ],
      "execution_count": 61,
      "outputs": []
    },
    {
      "cell_type": "markdown",
      "metadata": {
        "id": "IbR6HaoOkHEQ"
      },
      "source": [
        "# D - Shipping Center\r\n",
        "貪欲法で解ける.\r\n",
        "\r\n",
        "通常のKPでは, ある価値の高いアイテムを入れないことによって, 2つ以上のそれぞれ価値の低いアイテムを入れることができ, それによって総価値が高くなることがある.\r\n",
        "\r\n",
        "このため, KPでは貪欲法で最適解を求められない.\r\n",
        "\r\n",
        "今回の問題では, あるアイテムを取り除くことによって, 新しく入れられるアイテムの個数はたかだか1個である.\r\n",
        "\r\n",
        "で, あるならば価値の大きいものから順番に入れていけば最適解となる.\r\n",
        "\r\n",
        "この際, アイテムを価値の大きい順, コンテナを小さい順に並べておく.\r\n",
        "\r\n",
        "そして, なるべくアイテムの重さに近いコンテナを選ぶことによって, 無駄に大きいコンテナを選ばないようにする.\r\n",
        "\r\n"
      ]
    },
    {
      "cell_type": "code",
      "metadata": {
        "colab": {
          "base_uri": "https://localhost:8080/"
        },
        "id": "WzDNfuSfkHxS",
        "outputId": "bad514a6-ed98-432e-9ebd-cd63535bcc72"
      },
      "source": [
        "n, m, q = map(int, input().split())\r\n",
        "items = sorted(list(list(map(int, input().split())) for _ in range(n)), key=lambda x:x[1], reverse=True)\r\n",
        "bag = list(map(int, input().split()))"
      ],
      "execution_count": 65,
      "outputs": [
        {
          "output_type": "stream",
          "text": [
            "3 4 3\n",
            "1 9\n",
            "5 3\n",
            "7 8\n",
            "1 8 6 9\n"
          ],
          "name": "stdout"
        }
      ]
    },
    {
      "cell_type": "code",
      "metadata": {
        "colab": {
          "base_uri": "https://localhost:8080/"
        },
        "id": "DPzyxjmdo1pB",
        "outputId": "130a3564-1349-483a-93d7-fb744bc6232a"
      },
      "source": [
        "sorted(items, key=lambda x:x[1], reverse=True)"
      ],
      "execution_count": 68,
      "outputs": [
        {
          "output_type": "execute_result",
          "data": {
            "text/plain": [
              "[[1, 9], [7, 8], [5, 3]]"
            ]
          },
          "metadata": {
            "tags": []
          },
          "execution_count": 68
        }
      ]
    },
    {
      "cell_type": "code",
      "metadata": {
        "colab": {
          "base_uri": "https://localhost:8080/"
        },
        "id": "yoj-z4_dpFtJ",
        "outputId": "b319fc4b-16fe-4ee1-9370-1363c802a0a0"
      },
      "source": [
        "for k in range(q):\r\n",
        "  l, r = map(int, input().split())\r\n",
        "  l -= 1\r\n",
        "  ans = 0\r\n",
        "  aa = bag[::]\r\n",
        "  new_bag = aa[:l] + aa[r:]\r\n",
        "  new_bag = sorted(new_bag)\r\n",
        "  for i in items:\r\n",
        "    for j in range(len(new_bag)):\r\n",
        "     #  print(i, new_bag[j])\r\n",
        "      if i[0] <= new_bag[j]:\r\n",
        "        ans += i[1]\r\n",
        "        new_bag.pop(j)\r\n",
        "        break\r\n",
        "  print(ans)"
      ],
      "execution_count": 85,
      "outputs": [
        {
          "output_type": "stream",
          "text": [
            "4 4\n",
            "[1, 9] 1\n",
            "[5, 3] 6\n",
            "[7, 8] 8\n",
            "20\n",
            "1 4\n",
            "0\n",
            "1 3\n",
            "[1, 9] 9\n",
            "9\n"
          ],
          "name": "stdout"
        }
      ]
    }
  ]
}