{
  "nbformat": 4,
  "nbformat_minor": 0,
  "metadata": {
    "colab": {
      "name": "ABC195.ipynb",
      "provenance": [],
      "collapsed_sections": [],
      "authorship_tag": "ABX9TyPF1jJdLgJC9N+V6YT9hL5c",
      "include_colab_link": true
    },
    "kernelspec": {
      "name": "python3",
      "display_name": "Python 3"
    },
    "language_info": {
      "name": "python"
    }
  },
  "cells": [
    {
      "cell_type": "markdown",
      "metadata": {
        "id": "view-in-github",
        "colab_type": "text"
      },
      "source": [
        "<a href=\"https://colab.research.google.com/github/Hidestament/AtCoder/blob/main/ABC/ABC195.ipynb\" target=\"_parent\"><img src=\"https://colab.research.google.com/assets/colab-badge.svg\" alt=\"Open In Colab\"/></a>"
      ]
    },
    {
      "cell_type": "markdown",
      "source": [
        "# [AtCoder Beginner Contest 195](https://atcoder.jp/contests/abc195)"
      ],
      "metadata": {
        "id": "J6bVy0KyayOH"
      }
    },
    {
      "cell_type": "markdown",
      "source": [
        "## [A - Health M Death](https://atcoder.jp/contests/abc195/tasks/abc195_a)"
      ],
      "metadata": {
        "id": "EbQVZiCna13x"
      }
    },
    {
      "cell_type": "code",
      "execution_count": null,
      "metadata": {
        "id": "MId6OK8MawIc"
      },
      "outputs": [],
      "source": [
        "M, H = map(int, input().split())\n",
        "print(\"Yes\" if H % M == 0 else \"No\")"
      ]
    },
    {
      "cell_type": "markdown",
      "source": [
        "## [B - Many Oranges](https://atcoder.jp/contests/abc195/tasks/abc195_b)"
      ],
      "metadata": {
        "id": "7AbuZYqabIV1"
      }
    },
    {
      "cell_type": "code",
      "source": [
        "A, B, W = map(int, input().split())\n",
        "W *= 1000"
      ],
      "metadata": {
        "id": "9_BlInFnOezM",
        "colab": {
          "base_uri": "https://localhost:8080/"
        },
        "outputId": "759c93e3-2383-41e8-f508-5bed635ee7a1"
      },
      "execution_count": 1,
      "outputs": [
        {
          "name": "stdout",
          "output_type": "stream",
          "text": [
            "300 333 1\n"
          ]
        }
      ]
    },
    {
      "cell_type": "code",
      "source": [
        "min_ans = 10**10\n",
        "max_ans = 0\n",
        "for num in range(10**7):\n",
        "    if A*num <= W <= B*num:\n",
        "        min_ans = min(min_ans, num)\n",
        "        max_ans = max(max_ans, num)\n",
        "\n",
        "if max_ans == 0:\n",
        "    print(\"UNSATISFIABLE\")\n",
        "else:\n",
        "    print(min_ans, max_ans)"
      ],
      "metadata": {
        "id": "j7q8l823Oewk",
        "colab": {
          "base_uri": "https://localhost:8080/"
        },
        "outputId": "ec7fe222-500b-4c91-99c8-0aed7e2ad7d2"
      },
      "execution_count": 4,
      "outputs": [
        {
          "output_type": "stream",
          "name": "stdout",
          "text": [
            "UNSATISFIABLE 0\n"
          ]
        }
      ]
    },
    {
      "cell_type": "markdown",
      "source": [
        "## [C - Comma](https://atcoder.jp/contests/abc195/tasks/abc195_c)"
      ],
      "metadata": {
        "id": "Uk8Bi6-mbYTw"
      }
    },
    {
      "cell_type": "code",
      "source": [
        "N = int(input())\n",
        "dig = len(str(N))"
      ],
      "metadata": {
        "colab": {
          "base_uri": "https://localhost:8080/"
        },
        "id": "4qgRone9bZ69",
        "outputId": "a6720f19-09a7-4215-9d38-fd7d6519b0c4"
      },
      "execution_count": null,
      "outputs": [
        {
          "name": "stdout",
          "output_type": "stream",
          "text": [
            "1010\n"
          ]
        }
      ]
    },
    {
      "cell_type": "code",
      "source": [
        "if dig <= 3:\n",
        "    print(0)\n",
        "    exit()"
      ],
      "metadata": {
        "id": "9Zs-HdPOciZz"
      },
      "execution_count": null,
      "outputs": []
    },
    {
      "cell_type": "code",
      "source": [
        "ans = 0\n",
        "for k in range(4, dig+1):\n",
        "    if k == dig:\n",
        "        ans += (N - 10**(k-1) + 1) * ((k-1) // 3)\n",
        "    else:\n",
        "        ans += (10**k - 10**(k-1)) * ((k-1) // 3)"
      ],
      "metadata": {
        "id": "n0Ox_RULbjpz"
      },
      "execution_count": null,
      "outputs": []
    },
    {
      "cell_type": "code",
      "source": [
        "print(ans)"
      ],
      "metadata": {
        "colab": {
          "base_uri": "https://localhost:8080/"
        },
        "id": "TZhT44OAbndS",
        "outputId": "c6e1130e-6cfe-4cb2-9890-dfdacd01a0b6"
      },
      "execution_count": null,
      "outputs": [
        {
          "output_type": "stream",
          "name": "stdout",
          "text": [
            "11\n"
          ]
        }
      ]
    },
    {
      "cell_type": "markdown",
      "source": [
        "## [D - Shipping Center](https://atcoder.jp/contests/abc195/tasks/abc195_d)"
      ],
      "metadata": {
        "id": "MQ2jJ7mIe-n7"
      }
    },
    {
      "cell_type": "code",
      "source": [
        "N, M, Q = map(int, input().split())\n",
        "items = [list(map(int, input().split())) for _ in range(N)]\n",
        "X = list(map(int, input().split()))"
      ],
      "metadata": {
        "colab": {
          "base_uri": "https://localhost:8080/"
        },
        "id": "BmxZ6MxE3wDj",
        "outputId": "7b28af7a-8fcb-402d-c74d-c389a94578ef"
      },
      "execution_count": 28,
      "outputs": [
        {
          "name": "stdout",
          "output_type": "stream",
          "text": [
            "3 4 3\n",
            "2 2\n",
            "3 3\n",
            "4 4\n",
            "1 2 3 4\n"
          ]
        }
      ]
    },
    {
      "cell_type": "code",
      "source": [
        "items.sort(key=lambda x:(x[1], x[0]), reverse=True)"
      ],
      "metadata": {
        "id": "kQUoM_nz3wAo"
      },
      "execution_count": 29,
      "outputs": []
    },
    {
      "cell_type": "code",
      "source": [
        "from bisect import bisect_left\n",
        "for _ in range(Q):\n",
        "    l, r = map(int, input().split())\n",
        "    boxes = sorted([X[i] for i in range(M) if not (l-1 <= i <= r-1)])\n",
        "    \n",
        "    if not boxes:\n",
        "        print(0)\n",
        "        continue\n",
        "\n",
        "    temp = 0\n",
        "    for w, v in items:\n",
        "        ind = bisect_left(boxes, w)\n",
        "        if ind >= len(boxes):\n",
        "            continue\n",
        "        if not boxes:\n",
        "            break\n",
        "        temp += v\n",
        "        boxes.pop(ind)\n",
        "    print(temp)"
      ],
      "metadata": {
        "colab": {
          "base_uri": "https://localhost:8080/"
        },
        "id": "2hYDzlV73v-C",
        "outputId": "923e911a-f223-4205-b575-1bd30201929a"
      },
      "execution_count": 34,
      "outputs": [
        {
          "output_type": "stream",
          "name": "stdout",
          "text": [
            "1 1\n",
            "9\n",
            "4 4\n",
            "5\n",
            "2 4\n",
            "0\n"
          ]
        }
      ]
    }
  ]
}