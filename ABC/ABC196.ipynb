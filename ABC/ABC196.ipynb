{
  "nbformat": 4,
  "nbformat_minor": 0,
  "metadata": {
    "colab": {
      "name": "ABC196.ipynb",
      "provenance": [],
      "collapsed_sections": [],
      "authorship_tag": "ABX9TyNQIm7JWtJl7fzgQoBADI/i",
      "include_colab_link": true
    },
    "kernelspec": {
      "name": "python3",
      "display_name": "Python 3"
    },
    "language_info": {
      "name": "python"
    }
  },
  "cells": [
    {
      "cell_type": "markdown",
      "metadata": {
        "id": "view-in-github",
        "colab_type": "text"
      },
      "source": [
        "<a href=\"https://colab.research.google.com/github/Hidestament/AtCoder/blob/main/ABC/ABC196.ipynb\" target=\"_parent\"><img src=\"https://colab.research.google.com/assets/colab-badge.svg\" alt=\"Open In Colab\"/></a>"
      ]
    },
    {
      "cell_type": "markdown",
      "source": [
        "# [AtCoder Beginner Contest 196](https://atcoder.jp/contests/abc196)"
      ],
      "metadata": {
        "id": "WnFGsFOZMJb5"
      }
    },
    {
      "cell_type": "markdown",
      "source": [
        "## [A - Difference Max](https://atcoder.jp/contests/abc196/tasks/abc196_a)"
      ],
      "metadata": {
        "id": "xwJwZbnTMMHM"
      }
    },
    {
      "cell_type": "markdown",
      "source": [
        "### 全探索"
      ],
      "metadata": {
        "id": "WuuSaFY7w0Q0"
      }
    },
    {
      "cell_type": "code",
      "execution_count": null,
      "metadata": {
        "id": "537yziC_MGNs"
      },
      "outputs": [],
      "source": [
        "a, b = map(int, input().split())\n",
        "c, d = map(int, input().split())\n",
        "\n",
        "ans = -10**10\n",
        "for x in range(a, b+1):\n",
        "    for y in range(c, d+1):\n",
        "        ans = max(ans, x-y)\n",
        "print(ans)"
      ]
    },
    {
      "cell_type": "markdown",
      "source": [
        "### O(1)で"
      ],
      "metadata": {
        "id": "m5h5nIA9w19F"
      }
    },
    {
      "cell_type": "code",
      "source": [
        "a, b = map(int, input().split())\n",
        "c, d = map(int, input().split())\n",
        "print(b - c)"
      ],
      "metadata": {
        "id": "vfkZBSTOw10F"
      },
      "execution_count": null,
      "outputs": []
    },
    {
      "cell_type": "markdown",
      "source": [
        "## [B - Round Down](https://atcoder.jp/contests/abc196/tasks/abc196_b)"
      ],
      "metadata": {
        "id": "i7tDPhzrMz-p"
      }
    },
    {
      "cell_type": "code",
      "source": [
        "N = str(input())\n",
        "if \".\" in N:\n",
        "    print(N[:N.index(\".\")])\n",
        "else:\n",
        "    print(N)"
      ],
      "metadata": {
        "colab": {
          "base_uri": "https://localhost:8080/"
        },
        "id": "tvqaFsQwM2Qh",
        "outputId": "2387655e-a6be-4ee7-ff58-f04a966e638b"
      },
      "execution_count": null,
      "outputs": [
        {
          "output_type": "stream",
          "name": "stdout",
          "text": [
            "5.90\n",
            "5\n"
          ]
        }
      ]
    },
    {
      "cell_type": "markdown",
      "source": [
        "## [C - Doubled](https://atcoder.jp/contests/abc196/tasks/abc196_c)"
      ],
      "metadata": {
        "id": "zBvmhkm1NV45"
      }
    },
    {
      "cell_type": "markdown",
      "source": [
        "### $O(\\sqrt{N})$解法"
      ],
      "metadata": {
        "id": "GPW07ZyAyC4Q"
      }
    },
    {
      "cell_type": "code",
      "source": [
        "N = int(input())"
      ],
      "metadata": {
        "colab": {
          "base_uri": "https://localhost:8080/"
        },
        "id": "ZMLVq1shNXwM",
        "outputId": "7410acf4-4081-47b6-a526-237a7df12467"
      },
      "execution_count": null,
      "outputs": [
        {
          "name": "stdout",
          "output_type": "stream",
          "text": [
            "10000000\n"
          ]
        }
      ]
    },
    {
      "cell_type": "code",
      "source": [
        "cnt = 0\n",
        "for x in range(1, int(N**0.5) + 1):\n",
        "    if int(str(x) + str(x)) <= N:\n",
        "        cnt += 1\n",
        "print(cnt)"
      ],
      "metadata": {
        "colab": {
          "base_uri": "https://localhost:8080/"
        },
        "id": "ZSIH9fszN_fW",
        "outputId": "247dd9d4-3eb8-465a-a8cd-fbe0b359f5f6"
      },
      "execution_count": null,
      "outputs": [
        {
          "output_type": "stream",
          "name": "stdout",
          "text": [
            "999\n"
          ]
        }
      ]
    },
    {
      "cell_type": "markdown",
      "source": [
        "### $O(\\log(N)$解法"
      ],
      "metadata": {
        "id": "aNvVv4omyISk"
      }
    },
    {
      "cell_type": "code",
      "source": [
        "N = int(input())"
      ],
      "metadata": {
        "colab": {
          "base_uri": "https://localhost:8080/"
        },
        "id": "mcgdIanQyI1p",
        "outputId": "ecf68a59-7faa-4da4-ec17-b5f3445b7a29"
      },
      "execution_count": 4,
      "outputs": [
        {
          "name": "stdout",
          "output_type": "stream",
          "text": [
            "33\n"
          ]
        }
      ]
    },
    {
      "cell_type": "code",
      "source": [
        "def check(x):\n",
        "    if int(str(x) + str(x)) <= N:\n",
        "        return True\n",
        "    else:\n",
        "        return False"
      ],
      "metadata": {
        "id": "fvSg8pMYyjcO"
      },
      "execution_count": 5,
      "outputs": []
    },
    {
      "cell_type": "code",
      "source": [
        "l, r = 0, N\n",
        "while r - l > 1:\n",
        "    mid = (r + l) // 2\n",
        "    if check(mid):\n",
        "        l = mid\n",
        "    else:\n",
        "        r = mid"
      ],
      "metadata": {
        "id": "6wAF-BytyIy2"
      },
      "execution_count": 6,
      "outputs": []
    },
    {
      "cell_type": "code",
      "source": [
        "print(l)"
      ],
      "metadata": {
        "colab": {
          "base_uri": "https://localhost:8080/"
        },
        "id": "iRcT9_b2yS19",
        "outputId": "54d3be20-7c2a-4711-c789-5e70f854342b"
      },
      "execution_count": 7,
      "outputs": [
        {
          "output_type": "stream",
          "name": "stdout",
          "text": [
            "3\n"
          ]
        }
      ]
    },
    {
      "cell_type": "markdown",
      "source": [
        "## [D - Hanjo](https://atcoder.jp/contests/abc196/tasks/abc196_d)"
      ],
      "metadata": {
        "id": "jxDPsyfhO9aT"
      }
    },
    {
      "cell_type": "markdown",
      "source": [
        "### 頑張ってBFSで全列挙する"
      ],
      "metadata": {
        "id": "5xzBQ0nlNoQm"
      }
    },
    {
      "cell_type": "code",
      "source": [
        "from collections import deque\n",
        "import copy\n",
        "H, W, A, B = map(int, input().split())"
      ],
      "metadata": {
        "colab": {
          "base_uri": "https://localhost:8080/"
        },
        "id": "FpupgodKOPu0",
        "outputId": "61eb5556-f5e7-4c3c-993d-50e28e0b998a"
      },
      "execution_count": null,
      "outputs": [
        {
          "name": "stdout",
          "output_type": "stream",
          "text": [
            "2 2 1 2\n"
          ]
        }
      ]
    },
    {
      "cell_type": "code",
      "source": [
        "# grid[h][w] = 0: (h, w)はまだ塗られていない\n",
        "# grid[h][w] = 1: (h, w)を赤に塗る\n",
        "# grid[h][w] = 2: (h, w)を青に塗る"
      ],
      "metadata": {
        "id": "HnMmX55AIwaJ"
      },
      "execution_count": null,
      "outputs": []
    },
    {
      "cell_type": "code",
      "source": [
        "dq = deque()\n",
        "first_grid = [[0] * W for _ in range(H)]\n",
        "dq.append(first_grid)"
      ],
      "metadata": {
        "id": "a0Yev6rDRBKB"
      },
      "execution_count": null,
      "outputs": []
    },
    {
      "cell_type": "code",
      "source": [
        "ans = []\n",
        "while dq:\n",
        "    grid = dq.popleft()\n",
        "    if all(grid[h][w] != 0 for h in range(H) for w in range(W)):\n",
        "        ans.append(grid)\n",
        "    else:\n",
        "        for h in range(H):\n",
        "            for w in range(W):\n",
        "                if grid[h][w] == 0:\n",
        "                    next_grid = copy.deepcopy(grid)\n",
        "                    next_grid[h][w] = 1\n",
        "                    dq.append(next_grid)\n",
        "                    if h + 1 < H:\n",
        "                        if grid[h+1][w] == 0:\n",
        "                            next_grid = copy.deepcopy(grid)\n",
        "                            next_grid[h][w] = 2\n",
        "                            next_grid[h+1][w] = 2\n",
        "                            dq.append(next_grid)\n",
        "                    if w + 1 < W:\n",
        "                        if grid[h][w+1] == 0:\n",
        "                            next_grid = copy.deepcopy(grid)\n",
        "                            next_grid[h][w] = 2\n",
        "                            next_grid[h][w+1] = 2\n",
        "                            dq.append(next_grid)\n",
        "                    break\n",
        "            \n",
        "            else:\n",
        "                continue\n",
        "            break"
      ],
      "metadata": {
        "id": "ViztKGBSRBHZ"
      },
      "execution_count": null,
      "outputs": []
    },
    {
      "cell_type": "code",
      "source": [
        "cnt = 0\n",
        "for grid in ans:\n",
        "    red_cnt = 0\n",
        "    blue_cnt = 0\n",
        "    for h in range(H):\n",
        "        for w in range(W):\n",
        "            if grid[h][w] == 1:\n",
        "                red_cnt += 1\n",
        "            else:\n",
        "                blue_cnt += 1\n",
        "\n",
        "    if (red_cnt == B) and (blue_cnt == 2 * A):\n",
        "        cnt += 1"
      ],
      "metadata": {
        "id": "uKN3RyhFRBCL"
      },
      "execution_count": null,
      "outputs": []
    },
    {
      "cell_type": "code",
      "source": [
        "print(cnt)"
      ],
      "metadata": {
        "id": "1grQE1iMRA_n",
        "colab": {
          "base_uri": "https://localhost:8080/"
        },
        "outputId": "e082599d-5363-4190-a593-e5187dd6af3c"
      },
      "execution_count": null,
      "outputs": [
        {
          "output_type": "execute_result",
          "data": {
            "text/plain": [
              "4"
            ]
          },
          "metadata": {},
          "execution_count": 57
        }
      ]
    },
    {
      "cell_type": "markdown",
      "source": [
        "### bitを用いたdfs"
      ],
      "metadata": {
        "id": "opW4we_2Ntja"
      }
    },
    {
      "cell_type": "code",
      "source": [
        "import sys\n",
        "sys.setrecursionlimit(10**7)\n",
        "H, W, A, B = map(int, input().split())"
      ],
      "metadata": {
        "colab": {
          "base_uri": "https://localhost:8080/"
        },
        "id": "A4YOEQjR48W0",
        "outputId": "4655ab59-5c52-443d-92a0-ef62e086dcb3"
      },
      "execution_count": 13,
      "outputs": [
        {
          "name": "stdout",
          "output_type": "stream",
          "text": [
            "2 2 1 2\n"
          ]
        }
      ]
    },
    {
      "cell_type": "code",
      "source": [
        "# Aの畳の場所だけ決めていく\n",
        "# 畳の配置を bit で管理する\n",
        "# 0 0 0\n",
        "# 0 1 0  ->  1 1 1 0 1 0 0 0 0\n",
        "# 1 1 1"
      ],
      "metadata": {
        "id": "e997uf0g5B4I"
      },
      "execution_count": 9,
      "outputs": []
    },
    {
      "cell_type": "code",
      "source": [
        "def dfs(i, bit, a, b):\n",
        "    global ans\n",
        "    # 全部埋まってたら終わり\n",
        "    if i == H * W:\n",
        "        ans += 1\n",
        "        return        \n",
        "\n",
        "    # もう畳が置かれてたら次のマスへ\n",
        "    if (bit >> i) & 1:\n",
        "        dfs(i+1, bit, a, b)\n",
        "        return\n",
        "\n",
        "    # 1*1の畳の配置\n",
        "    if b:\n",
        "        dfs(i+1, bit | 1 << i, a, b-1)\n",
        "    \n",
        "    # 2*1の畳の配置\n",
        "    if a:\n",
        "        # 横配置: 横のマスが存在して畳が置かれていないとき\n",
        "        if (i % W != W - 1) and not (bit >> (i + 1)) & 1:\n",
        "            dfs(i+1, bit | 1 << i | 1 << (i+1), a-1, b)\n",
        "        # 縦配置: 下のマスが存在して畳が置かれていないとき\n",
        "        if (i + W < H * W) and not (bit >> (i + W)) & 1:\n",
        "            dfs(i+1, bit | 1 << i | 1 << (i + W), a-1, b)"
      ],
      "metadata": {
        "id": "PpmzPyvz4_EY"
      },
      "execution_count": 14,
      "outputs": []
    },
    {
      "cell_type": "code",
      "source": [
        "ans = 0\n",
        "dfs(0, 0, A, B)\n",
        "print(ans)"
      ],
      "metadata": {
        "id": "nVB1LV5N8R2_"
      },
      "execution_count": null,
      "outputs": []
    },
    {
      "cell_type": "markdown",
      "source": [
        "### bitを用いないDFS"
      ],
      "metadata": {
        "id": "G1iCR_ivDj5z"
      }
    },
    {
      "cell_type": "code",
      "source": [
        "import sys\n",
        "sys.setrecursionlimit(10**7)\n",
        "H, W, A, B = map(int, input().split())\n",
        "grid = [[0] * W for _ in range(H)]"
      ],
      "metadata": {
        "id": "X2ori9dIBrdQ"
      },
      "execution_count": null,
      "outputs": []
    },
    {
      "cell_type": "code",
      "source": [
        "def dfs(h, w, a, b):\n",
        "    global ans\n",
        "    # 一番最後まできたら答え + 1\n",
        "    if h == H:\n",
        "        ans += 1\n",
        "        return \n",
        "    \n",
        "    # 一番右まで来てたら下へ\n",
        "    if w == W:\n",
        "        dfs(h+1, 0, a, b)\n",
        "        return\n",
        "\n",
        "    # 畳が置かれてたら次へ\n",
        "    if grid[h][w]:\n",
        "        dfs(h, w+1, a, b)\n",
        "        return\n",
        "\n",
        "    if b:\n",
        "        grid[h][w] = 1\n",
        "        dfs(h, w+1, a, b-1)\n",
        "        grid[h][w] = 0\n",
        "    if a:\n",
        "        # 横置き\n",
        "        if (w + 1 < W) and not grid[h][w+1]:\n",
        "            grid[h][w], grid[h][w+1] = 1, 1\n",
        "            dfs(h, w+1, a-1, b)\n",
        "            grid[h][w], grid[h][w+1] = 0, 0\n",
        "        if (h + 1 < H) and not grid[h+1][w]:\n",
        "            grid[h][w], grid[h+1][w] = 1, 1\n",
        "            dfs(h, w+1, a-1, b)\n",
        "            grid[h][w], grid[h+1][w] = 0, 0"
      ],
      "metadata": {
        "id": "iMWdNnPcBwgA"
      },
      "execution_count": null,
      "outputs": []
    },
    {
      "cell_type": "code",
      "source": [
        "ans = 0\n",
        "dfs(0, 0, A, B)\n",
        "print(ans)"
      ],
      "metadata": {
        "colab": {
          "base_uri": "https://localhost:8080/"
        },
        "id": "ksBPOWf1Cwx-",
        "outputId": "f82a7d60-62f4-450c-c944-629e38af79ff"
      },
      "execution_count": 12,
      "outputs": [
        {
          "output_type": "execute_result",
          "data": {
            "text/plain": [
              "1"
            ]
          },
          "metadata": {},
          "execution_count": 12
        }
      ]
    },
    {
      "cell_type": "code",
      "source": [
        ""
      ],
      "metadata": {
        "id": "6nPnQXiZCxFu"
      },
      "execution_count": null,
      "outputs": []
    }
  ]
}