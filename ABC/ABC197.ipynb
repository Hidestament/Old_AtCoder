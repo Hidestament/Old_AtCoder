{
  "nbformat": 4,
  "nbformat_minor": 0,
  "metadata": {
    "colab": {
      "name": "ABC197.ipynb",
      "provenance": [],
      "collapsed_sections": [],
      "authorship_tag": "ABX9TyN9LVZKSOqDhgYzdZD8c0Je",
      "include_colab_link": true
    },
    "kernelspec": {
      "name": "python3",
      "display_name": "Python 3"
    },
    "language_info": {
      "name": "python"
    }
  },
  "cells": [
    {
      "cell_type": "markdown",
      "metadata": {
        "id": "view-in-github",
        "colab_type": "text"
      },
      "source": [
        "<a href=\"https://colab.research.google.com/github/Hidestament/AtCoder/blob/main/ABC/ABC197.ipynb\" target=\"_parent\"><img src=\"https://colab.research.google.com/assets/colab-badge.svg\" alt=\"Open In Colab\"/></a>"
      ]
    },
    {
      "cell_type": "markdown",
      "source": [
        "# [AtCoder Beginner Contest 197](https://atcoder.jp/contests/abc197)"
      ],
      "metadata": {
        "id": "WLAXMszpNc_J"
      }
    },
    {
      "cell_type": "markdown",
      "source": [
        "## [A - Rotate](https://atcoder.jp/contests/abc197/tasks/abc197_a)"
      ],
      "metadata": {
        "id": "2wfTlzFeNfpP"
      }
    },
    {
      "cell_type": "code",
      "execution_count": null,
      "metadata": {
        "id": "mkKK33ChNYsY"
      },
      "outputs": [],
      "source": [
        "S = str(input())\n",
        "print(S[1:] + S[0])"
      ]
    },
    {
      "cell_type": "markdown",
      "source": [
        "## [B - Visibility](https://atcoder.jp/contests/abc197/tasks/abc197_b)"
      ],
      "metadata": {
        "id": "CtAI5xorNmPW"
      }
    },
    {
      "cell_type": "code",
      "source": [
        "H, W, X, Y = map(int, input().split())\n",
        "grid = [str(input()) for _ in range(H)]\n",
        "X -= 1\n",
        "Y -= 1"
      ],
      "metadata": {
        "colab": {
          "base_uri": "https://localhost:8080/"
        },
        "id": "aCJ1bmU-NmKa",
        "outputId": "6c8bf802-2416-4292-a0b4-7d3878e0d7a8"
      },
      "execution_count": null,
      "outputs": [
        {
          "name": "stdout",
          "output_type": "stream",
          "text": [
            "4 4 2 2\n",
            "##..\n",
            "...#\n",
            "#.#.\n",
            ".#.#\n"
          ]
        }
      ]
    },
    {
      "cell_type": "code",
      "source": [
        "# 左方向\n",
        "cnt = 0\n",
        "for w in range(W):\n",
        "    nw = Y - w\n",
        "    if 0 <= nw:\n",
        "        if grid[X][nw] == \"#\":\n",
        "            break\n",
        "        else:\n",
        "            cnt += 1\n",
        "\n",
        "# 右方向\n",
        "for w in range(W):\n",
        "    nw = Y + w\n",
        "    if nw < W:\n",
        "        if grid[X][nw] == \"#\":\n",
        "            break\n",
        "        else:\n",
        "            cnt += 1\n",
        "\n",
        "# 上方向\n",
        "for h in range(H):\n",
        "    nh = X + h\n",
        "    if nh < H:\n",
        "        if grid[nh][Y] == \"#\":\n",
        "            break\n",
        "        else:\n",
        "            cnt += 1\n",
        "\n",
        "# 下方向\n",
        "for h in range(H):\n",
        "    nh = X - h\n",
        "    if 0 <= nh:\n",
        "        if grid[nh][Y] == \"#\":\n",
        "            break\n",
        "        else:\n",
        "            cnt += 1\n",
        "\n",
        "print(cnt - 3)"
      ],
      "metadata": {
        "id": "kVgGoJOiN0RY"
      },
      "execution_count": null,
      "outputs": []
    },
    {
      "cell_type": "markdown",
      "source": [
        "## [C - ORXOR](https://atcoder.jp/contests/abc197/tasks/abc197_c)"
      ],
      "metadata": {
        "id": "i7u2NMj8O6MW"
      }
    },
    {
      "cell_type": "code",
      "source": [
        "N = int(input())\n",
        "A = list(map(int, input().split()))"
      ],
      "metadata": {
        "colab": {
          "base_uri": "https://localhost:8080/"
        },
        "id": "R3q7_P9WO9KZ",
        "outputId": "8213b813-80bf-48c3-9d57-6631243ebadb"
      },
      "execution_count": null,
      "outputs": [
        {
          "name": "stdout",
          "output_type": "stream",
          "text": [
            "3\n",
            "1 5 7\n"
          ]
        }
      ]
    },
    {
      "cell_type": "code",
      "source": [
        "ans = 10**15\n",
        "for bit in range(1 << (N - 1)):\n",
        "    temp = []\n",
        "    now = A[0]\n",
        "    for i in range(N-1):\n",
        "        if (bit & (1 << i)):\n",
        "            temp.append(now)\n",
        "            now = A[i+1]\n",
        "        else:\n",
        "            now = now | A[i+1]\n",
        "    temp.append(now)\n",
        "\n",
        "    xor = 0\n",
        "    for i in temp:\n",
        "        xor = xor ^ i\n",
        "    \n",
        "    ans = min(ans, xor)"
      ],
      "metadata": {
        "colab": {
          "base_uri": "https://localhost:8080/"
        },
        "id": "fx95TFx2PIY5",
        "outputId": "335f0764-47bc-40b0-ed1a-39523e66a999"
      },
      "execution_count": null,
      "outputs": [
        {
          "output_type": "stream",
          "name": "stdout",
          "text": [
            "0 [7]\n",
            "1 [1, 7]\n",
            "2 [5, 7]\n",
            "3 [1, 5, 7]\n"
          ]
        }
      ]
    },
    {
      "cell_type": "code",
      "source": [
        "print(ans)"
      ],
      "metadata": {
        "colab": {
          "base_uri": "https://localhost:8080/"
        },
        "id": "CpnVYxdxPYNG",
        "outputId": "d7c8601b-7251-452e-d105-baf089bbbf34"
      },
      "execution_count": null,
      "outputs": [
        {
          "output_type": "stream",
          "name": "stdout",
          "text": [
            "2\n"
          ]
        }
      ]
    },
    {
      "cell_type": "markdown",
      "source": [
        "## [D - Opposite](https://atcoder.jp/contests/abc197/tasks/abc197_d)"
      ],
      "metadata": {
        "id": "UYkfg051RAwp"
      }
    },
    {
      "cell_type": "code",
      "source": [
        "N = int(input())\n",
        "x0, y0 = map(int, input().split())\n",
        "xn, yn = map(int, input().split())\n",
        "xc, yc = (x0 + xn)/2, (y0 + yn)/2"
      ],
      "metadata": {
        "colab": {
          "base_uri": "https://localhost:8080/"
        },
        "id": "pU6kMKJrP3gc",
        "outputId": "01a31214-bb09-4ffb-e09c-c4cf0a4cad38"
      },
      "execution_count": null,
      "outputs": [
        {
          "name": "stdout",
          "output_type": "stream",
          "text": [
            "6\n",
            "5 3\n",
            "7 4\n"
          ]
        }
      ]
    },
    {
      "cell_type": "code",
      "source": [
        "from math import radians, sin, cos\n",
        "vector = [x0 - xc, y0 - yc]\n",
        "theta = 360 / N\n",
        "x1_vector = vector[0] * cos(radians(theta)) - vector[1] * sin(radians(theta))\n",
        "y1_vector = vector[0] * sin(radians(theta)) + vector[1] * cos(radians(theta))\n",
        "print(x1_vector + xc, y1_vector + yc)"
      ],
      "metadata": {
        "colab": {
          "base_uri": "https://localhost:8080/"
        },
        "id": "RSCamitQTZTQ",
        "outputId": "a2dc7838-26bf-4399-9611-700a3064a904"
      },
      "execution_count": null,
      "outputs": [
        {
          "output_type": "stream",
          "name": "stdout",
          "text": [
            "5.933012701892219 2.3839745962155616\n"
          ]
        }
      ]
    },
    {
      "cell_type": "markdown",
      "source": [
        "## [E - Traveler](https://atcoder.jp/contests/abc197/tasks/abc197_e)"
      ],
      "metadata": {
        "id": "TKCMxkdRU9ML"
      }
    },
    {
      "cell_type": "code",
      "source": [
        "N = int(input())\n",
        "temp = [[] for _ in range(N)]\n",
        "for _ in range(N):\n",
        "    x, c = map(int, input().split())\n",
        "    temp[c-1].append(x)\n",
        "balls = [[0, 0]]\n",
        "for i in range(N):\n",
        "    if temp[i]:\n",
        "        balls.append([min(temp[i]), max(temp[i])])"
      ],
      "metadata": {
        "colab": {
          "base_uri": "https://localhost:8080/"
        },
        "id": "x4ZGlV-mYIdG",
        "outputId": "4e0434cf-e2ac-4a2f-ebbf-b30fdcd44db4"
      },
      "execution_count": 20,
      "outputs": [
        {
          "name": "stdout",
          "output_type": "stream",
          "text": [
            "5\n",
            "2 2\n",
            "3 1\n",
            "1 3\n",
            "4 2\n",
            "5 3\n"
          ]
        }
      ]
    },
    {
      "cell_type": "code",
      "source": [
        "\"\"\"\n",
        "DP[i][0]: i番目以下のボールを全て拾って, 一番左側で終わる場合の最小値\n",
        "DP[i][1]: i番目以下のぼーるを全て拾って, 一番右側で終わる場合の最小値\n",
        "\"\"\"\n",
        "DP = [[0] * 2 for _ in range(len(balls))]"
      ],
      "metadata": {
        "id": "S9Ux2JYFYIan"
      },
      "execution_count": 29,
      "outputs": []
    },
    {
      "cell_type": "code",
      "source": [
        "DP[0][0] = 0\n",
        "DP[0][1] = 0"
      ],
      "metadata": {
        "id": "7MS4dEpmYIX1"
      },
      "execution_count": 30,
      "outputs": []
    },
    {
      "cell_type": "code",
      "source": [
        "for i in range(1, len(balls)):\n",
        "    l = balls[i][0]\n",
        "    r = balls[i][1]\n",
        "    \n",
        "    # l -> l or r -> l\n",
        "    DP[i][0] = min(DP[i-1][0] + abs(balls[i-1][0] - r) + abs(r - l),\n",
        "                   DP[i-1][1] + abs(balls[i-1][1] - r) + abs(r - l))\n",
        "\n",
        "    # l -> r or r -> r\n",
        "    DP[i][1] = min(DP[i-1][0] + abs(balls[i-1][0] - l) + abs(l - r), \n",
        "                   DP[i-1][1] + abs(balls[i-1][1]- l) + abs(l - r))"
      ],
      "metadata": {
        "id": "r6O8AS-OYIVI"
      },
      "execution_count": 31,
      "outputs": []
    },
    {
      "cell_type": "code",
      "source": [
        "# 最後は0に戻らないといけない\n",
        "print(min(DP[-1][0] + abs(balls[-1][0]), DP[-1][1] + abs(balls[-1][1])))"
      ],
      "metadata": {
        "colab": {
          "base_uri": "https://localhost:8080/"
        },
        "id": "nI9djE2xYISI",
        "outputId": "2644179b-159c-4a18-fca8-f4b3fae71920"
      },
      "execution_count": 32,
      "outputs": [
        {
          "output_type": "stream",
          "name": "stdout",
          "text": [
            "12\n"
          ]
        }
      ]
    }
  ]
}