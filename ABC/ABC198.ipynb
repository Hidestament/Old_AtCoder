{
  "nbformat": 4,
  "nbformat_minor": 0,
  "metadata": {
    "colab": {
      "name": "ABC198.ipynb",
      "provenance": [],
      "authorship_tag": "ABX9TyPFeIXMCyufvPS3JUckHRFC",
      "include_colab_link": true
    },
    "kernelspec": {
      "name": "python3",
      "display_name": "Python 3"
    },
    "language_info": {
      "name": "python"
    }
  },
  "cells": [
    {
      "cell_type": "markdown",
      "metadata": {
        "id": "view-in-github",
        "colab_type": "text"
      },
      "source": [
        "<a href=\"https://colab.research.google.com/github/Hidestament/AtCoder/blob/main/ABC/ABC198.ipynb\" target=\"_parent\"><img src=\"https://colab.research.google.com/assets/colab-badge.svg\" alt=\"Open In Colab\"/></a>"
      ]
    },
    {
      "cell_type": "markdown",
      "source": [
        "# [AtCoder Beginner Contest 198](https://atcoder.jp/contests/abc198)"
      ],
      "metadata": {
        "id": "XxC-SrGtSnJS"
      }
    },
    {
      "cell_type": "markdown",
      "source": [
        "## [A - Div](https://atcoder.jp/contests/abc198/tasks/abc198_a)"
      ],
      "metadata": {
        "id": "9uG23pxsSokQ"
      }
    },
    {
      "cell_type": "code",
      "execution_count": null,
      "metadata": {
        "id": "S8IumS7OSl_j"
      },
      "outputs": [],
      "source": [
        "N = int(input())\n",
        "print(N - 1)"
      ]
    },
    {
      "cell_type": "markdown",
      "source": [
        "## [B - Palindrome with leading zeros](https://atcoder.jp/contests/abc198/tasks/abc198_b)"
      ],
      "metadata": {
        "id": "_HOKGnMXSy5q"
      }
    },
    {
      "cell_type": "code",
      "source": [
        "N = str(input())"
      ],
      "metadata": {
        "id": "AVoG5DDaS5Mn"
      },
      "execution_count": null,
      "outputs": []
    },
    {
      "cell_type": "code",
      "source": [
        "N = int(str(N)[::-1])\n",
        "if str(N) == str(N)[::-1]:\n",
        "    print(\"Yes\")\n",
        "else:\n",
        "    print(\"No\")"
      ],
      "metadata": {
        "id": "ger1WIIQSzNS"
      },
      "execution_count": null,
      "outputs": []
    },
    {
      "cell_type": "markdown",
      "source": [
        "## [C - Compass Walking](https://atcoder.jp/contests/abc198/tasks/abc198_c)"
      ],
      "metadata": {
        "id": "OvnGuTTnSy1K"
      }
    },
    {
      "cell_type": "code",
      "source": [
        "import math\n",
        "R, X, Y = map(int, input().split())"
      ],
      "metadata": {
        "colab": {
          "base_uri": "https://localhost:8080/"
        },
        "id": "iGEGSnJD_NGj",
        "outputId": "994f1b84-6373-4af3-d5ee-e88ffd2e963f"
      },
      "execution_count": 1,
      "outputs": [
        {
          "name": "stdout",
          "output_type": "stream",
          "text": [
            "5 15 0\n"
          ]
        }
      ]
    },
    {
      "cell_type": "code",
      "source": [
        "dist = math.sqrt(X**2 + Y**2)\n",
        "if dist < R:\n",
        "    print(2)\n",
        "else:\n",
        "    print(-int(-dist//R))"
      ],
      "metadata": {
        "colab": {
          "base_uri": "https://localhost:8080/"
        },
        "id": "iryZ2p0U_NEG",
        "outputId": "e6ba5a87-0163-4cab-ada8-85ca765b80b0"
      },
      "execution_count": 2,
      "outputs": [
        {
          "output_type": "stream",
          "name": "stdout",
          "text": [
            "3\n"
          ]
        }
      ]
    },
    {
      "cell_type": "markdown",
      "source": [
        "## [D - Send More Money](https://atcoder.jp/contests/abc198/tasks/abc198_d)"
      ],
      "metadata": {
        "id": "VRNJ8LdlVRXw"
      }
    },
    {
      "cell_type": "code",
      "source": [
        "S1 = list(str(input()))\n",
        "S2 = list(str(input()))\n",
        "S3 = list(str(input()))"
      ],
      "metadata": {
        "colab": {
          "base_uri": "https://localhost:8080/"
        },
        "id": "X6vljb1MUbj_",
        "outputId": "8b85d158-0c57-44f7-b8cd-8056ad84d0ef"
      },
      "execution_count": null,
      "outputs": [
        {
          "name": "stdout",
          "output_type": "stream",
          "text": [
            "x\n",
            "x\n",
            "y\n"
          ]
        }
      ]
    },
    {
      "cell_type": "code",
      "source": [
        "used = list(set(S1 + S2 + S3))"
      ],
      "metadata": {
        "id": "Dyz-rA-RKnIk"
      },
      "execution_count": null,
      "outputs": []
    },
    {
      "cell_type": "code",
      "source": [
        "if len(used) >= 11:\n",
        "    print(\"UNSOLVABLE\")"
      ],
      "metadata": {
        "id": "WH59E_oeKucf"
      },
      "execution_count": null,
      "outputs": []
    },
    {
      "cell_type": "code",
      "source": [
        "def make_n(S):\n",
        "    n1 = \"\"\n",
        "    for s in S:\n",
        "        n1 += table[s]\n",
        "    return int(n1)"
      ],
      "metadata": {
        "id": "MwI7fVTnMhBq"
      },
      "execution_count": null,
      "outputs": []
    },
    {
      "cell_type": "code",
      "source": [
        "from itertools import permutations\n",
        "for per in permutations(range(10), r=len(used)):\n",
        "    table = {s: str(v) for s, v in zip(used, per)}\n",
        "    if table[S1[0]] == \"0\" or table[S2[0]] == \"0\" or table[S3[0]] == \"0\":\n",
        "        continue\n",
        "    N1, N2, N3 = make_n(S1), make_n(S2), make_n(S3)\n",
        "    if N1 + N2 == N3:\n",
        "        print(N1)\n",
        "        print(N2)\n",
        "        print(N3)\n",
        "        break\n",
        "else:\n",
        "    print(\"UNSOLVABLE\")"
      ],
      "metadata": {
        "colab": {
          "base_uri": "https://localhost:8080/"
        },
        "id": "trJAtp2jKZyG",
        "outputId": "8c94d641-c7d1-42f7-84b1-32ff755f61cf"
      },
      "execution_count": null,
      "outputs": [
        {
          "output_type": "stream",
          "name": "stdout",
          "text": [
            "1\n",
            "1\n",
            "2\n"
          ]
        }
      ]
    },
    {
      "cell_type": "markdown",
      "source": [
        "## [E - Unique Color](https://atcoder.jp/contests/abc198/tasks/abc198_e)"
      ],
      "metadata": {
        "id": "pf48epqAXRFX"
      }
    },
    {
      "cell_type": "code",
      "source": [
        "import sys\n",
        "sys.setrecursionlimit(10**8)"
      ],
      "metadata": {
        "id": "_yLTf3lcZxTl"
      },
      "execution_count": null,
      "outputs": []
    },
    {
      "cell_type": "code",
      "source": [
        "N = int(input())\n",
        "C = list(map(int, input().split()))\n",
        "graph = [[] for _ in range(N)]\n",
        "for _ in range(N-1):\n",
        "    a, b = map(int, input().split())\n",
        "    a -= 1\n",
        "    b -= 1\n",
        "    graph[a].append(b)\n",
        "    graph[b].append(a)"
      ],
      "metadata": {
        "colab": {
          "base_uri": "https://localhost:8080/"
        },
        "id": "eRvCIduYXT7q",
        "outputId": "277babe3-fb43-4413-f1f2-56b41d46f589"
      },
      "execution_count": null,
      "outputs": [
        {
          "name": "stdout",
          "output_type": "stream",
          "text": [
            "6\n",
            "2 7 1 8 2 8\n",
            "1 2\n",
            "3 6\n",
            "3 2\n",
            "4 3\n",
            "2 5\n"
          ]
        }
      ]
    },
    {
      "cell_type": "code",
      "source": [
        "ans = [1]\n",
        "used = [0] * (10**6)\n",
        "def dfs(now, bef):\n",
        "    for to in graph[now]:\n",
        "        if to != bef:\n",
        "            color = C[to]\n",
        "            if used[color] == 0:\n",
        "                ans.append(to+1)\n",
        "            used[color] += 1\n",
        "            dfs(to, now)\n",
        "            used[color] -= 1"
      ],
      "metadata": {
        "id": "h_LnNQZBXXBa"
      },
      "execution_count": null,
      "outputs": []
    },
    {
      "cell_type": "code",
      "source": [
        "used[C[0]] += 1\n",
        "dfs(0, -1)"
      ],
      "metadata": {
        "id": "S_dzocZwYTub"
      },
      "execution_count": null,
      "outputs": []
    },
    {
      "cell_type": "code",
      "source": [
        "ans.sort()\n",
        "print(*ans)"
      ],
      "metadata": {
        "colab": {
          "base_uri": "https://localhost:8080/"
        },
        "id": "xakVwmINYU3S",
        "outputId": "d7603535-2daa-4f56-ac2a-4c3d2055b709"
      },
      "execution_count": null,
      "outputs": [
        {
          "output_type": "stream",
          "name": "stdout",
          "text": [
            "1 2 3 4 6\n"
          ]
        }
      ]
    },
    {
      "cell_type": "code",
      "source": [
        ""
      ],
      "metadata": {
        "id": "qGb42WcGYhS9"
      },
      "execution_count": null,
      "outputs": []
    }
  ]
}