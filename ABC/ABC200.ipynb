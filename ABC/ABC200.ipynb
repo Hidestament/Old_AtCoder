{
  "nbformat": 4,
  "nbformat_minor": 0,
  "metadata": {
    "colab": {
      "name": "ABC200.ipynb",
      "provenance": [],
      "authorship_tag": "ABX9TyMNACs7EjSfYKML0bRa1NE3",
      "include_colab_link": true
    },
    "kernelspec": {
      "name": "python3",
      "display_name": "Python 3"
    },
    "language_info": {
      "name": "python"
    }
  },
  "cells": [
    {
      "cell_type": "markdown",
      "metadata": {
        "id": "view-in-github",
        "colab_type": "text"
      },
      "source": [
        "<a href=\"https://colab.research.google.com/github/Hidestament/AtCoder/blob/main/ABC/ABC200.ipynb\" target=\"_parent\"><img src=\"https://colab.research.google.com/assets/colab-badge.svg\" alt=\"Open In Colab\"/></a>"
      ]
    },
    {
      "cell_type": "markdown",
      "source": [
        "# [AtCoder Beginner Contest 200](https://atcoder.jp/contests/abc200)"
      ],
      "metadata": {
        "id": "VyGanr-cZLW9"
      }
    },
    {
      "cell_type": "markdown",
      "source": [
        "## [A - Century](https://atcoder.jp/contests/abc200/tasks/abc200_a)"
      ],
      "metadata": {
        "id": "6_JvTXPHZQBN"
      }
    },
    {
      "cell_type": "code",
      "execution_count": null,
      "metadata": {
        "id": "Zfc6pa3PZKPL"
      },
      "outputs": [],
      "source": [
        "N = int(input())\n",
        "print(-int(-N//100))"
      ]
    },
    {
      "cell_type": "markdown",
      "source": [
        "## [B - 200th ABC-200](https://atcoder.jp/contests/abc200/tasks/abc200_b)"
      ],
      "metadata": {
        "id": "rzi4Ed56ZZl-"
      }
    },
    {
      "cell_type": "code",
      "source": [
        "N, K = map(int, input().split())\n",
        "for _ in range(K):\n",
        "    if N % 200 == 0:\n",
        "        N //= 200\n",
        "    else:\n",
        "        N = int(str(N) + \"200\")\n",
        "print(N)"
      ],
      "metadata": {
        "id": "QbuksRhmZcN9"
      },
      "execution_count": null,
      "outputs": []
    },
    {
      "cell_type": "markdown",
      "source": [
        "## [C - Ringo's Favorite Numbers 2](https://atcoder.jp/contests/abc200/tasks/abc200_c)"
      ],
      "metadata": {
        "id": "0wBIRYpDZpov"
      }
    },
    {
      "cell_type": "code",
      "source": [
        "N = int(input())\n",
        "A = list(map(int, input().split()))"
      ],
      "metadata": {
        "colab": {
          "base_uri": "https://localhost:8080/"
        },
        "id": "ZoyTf-TFZsWB",
        "outputId": "16bad8bb-62b3-438d-9f79-181bce6d9d33"
      },
      "execution_count": 1,
      "outputs": [
        {
          "name": "stdout",
          "output_type": "stream",
          "text": [
            "6\n",
            "123 223 123 523 200 2000\n"
          ]
        }
      ]
    },
    {
      "cell_type": "code",
      "source": [
        "from collections import defaultdict\n",
        "cnt = defaultdict(int)\n",
        "for i in range(N):\n",
        "    cnt[A[i] % 200] += 1"
      ],
      "metadata": {
        "id": "ijmWD8QFZzcD"
      },
      "execution_count": 2,
      "outputs": []
    },
    {
      "cell_type": "code",
      "source": [
        "ans = 0\n",
        "for left in range(N):\n",
        "    ans += cnt[A[left] % 200] - 1\n",
        "print(ans // 2)"
      ],
      "metadata": {
        "colab": {
          "base_uri": "https://localhost:8080/"
        },
        "id": "Aq4oWPSBZ535",
        "outputId": "57f39c3e-a86e-41e0-d6cf-faad889e559f"
      },
      "execution_count": 3,
      "outputs": [
        {
          "output_type": "stream",
          "name": "stdout",
          "text": [
            "4\n"
          ]
        }
      ]
    },
    {
      "cell_type": "markdown",
      "source": [
        "## [D - Happy Birthday! 2](https://atcoder.jp/contests/abc200/tasks/abc200_d)"
      ],
      "metadata": {
        "id": "5Zn4nZ9naVW1"
      }
    },
    {
      "cell_type": "code",
      "source": [
        "N = int(input())\n",
        "A = list(map(int, input().split()))"
      ],
      "metadata": {
        "id": "76me6zj8aPsf"
      },
      "execution_count": null,
      "outputs": []
    },
    {
      "cell_type": "code",
      "source": [
        "cnt = {}\n",
        "for bit in range(1, 1 << N):\n",
        "    b = []\n",
        "    amari = 0\n",
        "    for i in range(N):\n",
        "        if bit & 1<<i:\n",
        "            b.append(i+1)\n",
        "            amari += A[i]\n",
        "            amari %= 200\n",
        "    \n",
        "    if amari in cnt:\n",
        "        print(\"Yes\")\n",
        "        print(len(cnt[amari]), *cnt[amari])\n",
        "        print(len(b), *b)\n",
        "        break\n",
        "    \n",
        "    cnt[amari] = b\n",
        "else:\n",
        "    print(\"No\")"
      ],
      "metadata": {
        "id": "ejVzKteUaa93"
      },
      "execution_count": null,
      "outputs": []
    }
  ]
}