{
  "nbformat": 4,
  "nbformat_minor": 0,
  "metadata": {
    "colab": {
      "name": "ABC200.ipynb",
      "provenance": [],
      "authorship_tag": "ABX9TyMyhXjeioNdmUuY9CU+CGCD",
      "include_colab_link": true
    },
    "kernelspec": {
      "name": "python3",
      "display_name": "Python 3"
    },
    "language_info": {
      "name": "python"
    }
  },
  "cells": [
    {
      "cell_type": "markdown",
      "metadata": {
        "id": "view-in-github",
        "colab_type": "text"
      },
      "source": [
        "<a href=\"https://colab.research.google.com/github/Hidestament/AtCoder/blob/main/ABC/ABC200.ipynb\" target=\"_parent\"><img src=\"https://colab.research.google.com/assets/colab-badge.svg\" alt=\"Open In Colab\"/></a>"
      ]
    },
    {
      "cell_type": "markdown",
      "metadata": {
        "id": "6G3rrYqsRfCl"
      },
      "source": [
        "# ABC 200\n",
        "https://atcoder.jp/contests/abc200"
      ]
    },
    {
      "cell_type": "markdown",
      "metadata": {
        "id": "NqiR9aJeaJ95"
      },
      "source": [
        "## A - Century"
      ]
    },
    {
      "cell_type": "code",
      "metadata": {
        "colab": {
          "base_uri": "https://localhost:8080/"
        },
        "id": "59holCZMaGnV",
        "outputId": "d2cedde2-fb46-4271-d6de-d361e5ed7d21"
      },
      "source": [
        "N = int(input())\n",
        "print(-(-N//100))"
      ],
      "execution_count": null,
      "outputs": [
        {
          "output_type": "stream",
          "text": [
            "1\n"
          ],
          "name": "stdout"
        }
      ]
    },
    {
      "cell_type": "markdown",
      "metadata": {
        "id": "c5FiSjxE8vcU"
      },
      "source": [
        "## B  - 200th ABC-200"
      ]
    },
    {
      "cell_type": "code",
      "metadata": {
        "colab": {
          "base_uri": "https://localhost:8080/"
        },
        "id": "w8SZzu848Kud",
        "outputId": "9d21a64b-4b60-40ce-d885-b8b5e9071980"
      },
      "source": [
        "N, K = map(int, input().split())\n",
        "for _ in range(K):\n",
        "  if N % 200 == 0:\n",
        "    N = N // 200\n",
        "  else:\n",
        "    N = int(str(N) + \"200\")\n",
        "print(N)"
      ],
      "execution_count": null,
      "outputs": [
        {
          "output_type": "stream",
          "text": [
            "8691 20\n",
            "84875488281\n"
          ],
          "name": "stdout"
        }
      ]
    },
    {
      "cell_type": "markdown",
      "metadata": {
        "id": "FMwptXDt9ZXV"
      },
      "source": [
        "## C - Ringo's Favorite Numbers 2"
      ]
    },
    {
      "cell_type": "markdown",
      "metadata": {
        "id": "C5LvR2cV-YBs"
      },
      "source": [
        "愚直にやるとTLE"
      ]
    },
    {
      "cell_type": "code",
      "metadata": {
        "colab": {
          "base_uri": "https://localhost:8080/"
        },
        "id": "HBDLtelR9eZV",
        "outputId": "4be86d22-6283-4779-f563-309a30bc1432"
      },
      "source": [
        "N = int(input())\n",
        "A = list(map(int, input().split()))"
      ],
      "execution_count": null,
      "outputs": [
        {
          "output_type": "stream",
          "text": [
            "6\n",
            "123 223 123 523 200 2000\n"
          ],
          "name": "stdout"
        }
      ]
    },
    {
      "cell_type": "code",
      "metadata": {
        "colab": {
          "base_uri": "https://localhost:8080/"
        },
        "id": "RnhxqcAH9ogI",
        "outputId": "ea50f390-f032-44fd-eca6-e07a5fcfda72"
      },
      "source": [
        "ans = 0\n",
        "for i in range(N-1):\n",
        "  for j in range(i+1, N):\n",
        "    if (A[i] - A[j]) % 200 == 0:\n",
        "      ans += 1\n",
        "print(ans)"
      ],
      "execution_count": null,
      "outputs": [
        {
          "output_type": "stream",
          "text": [
            "4\n"
          ],
          "name": "stdout"
        }
      ]
    },
    {
      "cell_type": "markdown",
      "metadata": {
        "id": "5fsMtdgB-a-9"
      },
      "source": [
        "### 余りに注目する\n",
        "$$\n",
        "A_i - A_j \\ mod 200 = 0 \\\\ \n",
        "\\Leftrightarrow A_i \\ mod \\ 200 = A_j \\ mod \\ 200\n",
        "$$\n",
        "\n",
        "より, $A_i$と$A_j$を200で割った余りが等しければ, $A_i - A_j$が200の倍数となる.\n",
        "\n"
      ]
    },
    {
      "cell_type": "markdown",
      "metadata": {
        "id": "-OyRsm16QYu1"
      },
      "source": [
        "Aの配列の中に, 200で割った余りが$k$である要素が$n$個あったとする.\n",
        "\n",
        "このとき, $1 \\leq i < j \\leq N$ となるような$(i,j)$の組の個数は, \n",
        "$$\n",
        "\\frac{n * (n-1)}{2}\n",
        "$$\n",
        "となる. \n",
        "\n",
        "なぜなら, n個の中から2個を選んで並べたあと, その並び順$(i,j)$ or $(j,i)$はどちらか一意であるため, その並びを区別せず$2! =2$で割れば良いから."
      ]
    },
    {
      "cell_type": "code",
      "metadata": {
        "colab": {
          "base_uri": "https://localhost:8080/"
        },
        "id": "FUT1dyvF9q_F",
        "outputId": "7cc307e5-e30d-45ab-c26d-a94532ae696c"
      },
      "source": [
        "N = int(input())\n",
        "A = list(map(int, input().split()))"
      ],
      "execution_count": 11,
      "outputs": [
        {
          "output_type": "stream",
          "text": [
            "8\n",
            "199 100 200 400 300 500 600 200\n"
          ],
          "name": "stdout"
        }
      ]
    },
    {
      "cell_type": "markdown",
      "metadata": {
        "id": "Mh-JeIq_RRnM"
      },
      "source": [
        "A[i]を割った余りを求めるときに, 同時に割った余りの個数をカウントすれば効率的にとける."
      ]
    },
    {
      "cell_type": "code",
      "metadata": {
        "id": "RU0CuRx893pY"
      },
      "source": [
        "cnt = [0 for _ in range(200)]\n",
        "for i in range(N):\n",
        "  temp = A[i] % 200\n",
        "  cnt[temp] += 1\n",
        "  A[i] = temp"
      ],
      "execution_count": 12,
      "outputs": []
    },
    {
      "cell_type": "code",
      "metadata": {
        "id": "LYYVgdzbHUcq"
      },
      "source": [
        "ans = 0\n",
        "for i in range(200):\n",
        "  ans += (cnt[i] * (cnt[i]-1)) // 2"
      ],
      "execution_count": 13,
      "outputs": []
    },
    {
      "cell_type": "code",
      "metadata": {
        "id": "mcqCEvBxHU3h",
        "colab": {
          "base_uri": "https://localhost:8080/"
        },
        "outputId": "d219abaf-eb3f-4f9e-d78f-cde60b0bd817"
      },
      "source": [
        "print(ans)"
      ],
      "execution_count": 14,
      "outputs": [
        {
          "output_type": "execute_result",
          "data": {
            "text/plain": [
              "9"
            ]
          },
          "metadata": {
            "tags": []
          },
          "execution_count": 14
        }
      ]
    }
  ]
}