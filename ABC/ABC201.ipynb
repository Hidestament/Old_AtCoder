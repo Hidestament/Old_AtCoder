{
  "nbformat": 4,
  "nbformat_minor": 0,
  "metadata": {
    "colab": {
      "name": "ABC201.ipynb",
      "provenance": [],
      "authorship_tag": "ABX9TyMQEYUAxT0LUxe7HZZn6Y5E",
      "include_colab_link": true
    },
    "kernelspec": {
      "name": "python3",
      "display_name": "Python 3"
    },
    "language_info": {
      "name": "python"
    }
  },
  "cells": [
    {
      "cell_type": "markdown",
      "metadata": {
        "id": "view-in-github",
        "colab_type": "text"
      },
      "source": [
        "<a href=\"https://colab.research.google.com/github/Hidestament/AtCoder/blob/main/ABC/ABC201.ipynb\" target=\"_parent\"><img src=\"https://colab.research.google.com/assets/colab-badge.svg\" alt=\"Open In Colab\"/></a>"
      ]
    },
    {
      "cell_type": "markdown",
      "source": [
        "# [AtCoder Beginner Contest 201](https://atcoder.jp/contests/abc201)"
      ],
      "metadata": {
        "id": "NWj8l3-XsFUw"
      }
    },
    {
      "cell_type": "markdown",
      "source": [
        "## [A - Tiny Arithmetic Sequence](https://atcoder.jp/contests/abc201/tasks/abc201_a)"
      ],
      "metadata": {
        "id": "td4UK8kbsI_9"
      }
    },
    {
      "cell_type": "code",
      "execution_count": null,
      "metadata": {
        "id": "4Bu3jvTZsAPT"
      },
      "outputs": [],
      "source": [
        "A = sorted(list(map(int, input().split())))\n",
        "B = A[::-1]\n",
        "\n",
        "if (A[1] - A[0] == A[2] - A[1]) or (B[1] - B[0] == B[2] - B[1]):\n",
        "    print(\"Yes\")\n",
        "else:\n",
        "    print(\"No\")"
      ]
    },
    {
      "cell_type": "markdown",
      "source": [
        "## [B - Do you know the second highest mountain?](https://atcoder.jp/contests/abc201/tasks/abc201_b)"
      ],
      "metadata": {
        "id": "2AfLHTBfsimd"
      }
    },
    {
      "cell_type": "code",
      "source": [
        "N = int(input())\n",
        "mountains = []\n",
        "for _ in range(N):\n",
        "    s, t = input().split()\n",
        "    mountains.append([s, int(t)])\n",
        "mountains.sort(reverse=True, key=lambda x:x[1])\n",
        "print(mountains[1][0])"
      ],
      "metadata": {
        "id": "KZ-dRRSKsiZs"
      },
      "execution_count": null,
      "outputs": []
    },
    {
      "cell_type": "markdown",
      "source": [
        "## [C - Secret Number](https://atcoder.jp/contests/abc201/tasks/abc201_c)"
      ],
      "metadata": {
        "id": "e8Dh5cHgtHdC"
      }
    },
    {
      "cell_type": "code",
      "source": [
        "S = str(input())"
      ],
      "metadata": {
        "colab": {
          "base_uri": "https://localhost:8080/"
        },
        "id": "dkzuNaurs1gC",
        "outputId": "06a81232-7d75-48bb-ee62-c513b4fcc393"
      },
      "execution_count": null,
      "outputs": [
        {
          "name": "stdout",
          "output_type": "stream",
          "text": [
            "ooo???xxxx\n"
          ]
        }
      ]
    },
    {
      "cell_type": "code",
      "source": [
        "cnt = 0\n",
        "from collections import deque\n",
        "dq = deque()\n",
        "for i in range(10):\n",
        "    dq.append(str(i))\n",
        "while dq:\n",
        "    now = dq.popleft()\n",
        "    if len(now) < 4:\n",
        "        for i in range(10):\n",
        "            dq.append(now + str(i))\n",
        "    if len(now) == 4:\n",
        "        for i in range(10):\n",
        "            if S[i] == \"o\":\n",
        "                if str(i) not in now:\n",
        "                    break\n",
        "            elif S[i] == \"x\":\n",
        "                if str(i) in now:\n",
        "                    break\n",
        "        else:\n",
        "            cnt += 1"
      ],
      "metadata": {
        "id": "Dw7Hf5CCtoYY"
      },
      "execution_count": null,
      "outputs": []
    },
    {
      "cell_type": "code",
      "source": [
        "print(cnt)"
      ],
      "metadata": {
        "id": "OXPm7rZIzz6_"
      },
      "execution_count": null,
      "outputs": []
    },
    {
      "cell_type": "markdown",
      "source": [
        "itertools使った方が良いな"
      ],
      "metadata": {
        "id": "hbsKFgZdz5RJ"
      }
    },
    {
      "cell_type": "code",
      "source": [
        "S = str(input())"
      ],
      "metadata": {
        "colab": {
          "base_uri": "https://localhost:8080/"
        },
        "id": "MtUZhFw80Prz",
        "outputId": "c9e9974f-64ae-4d7a-9698-77ed2ef6121b"
      },
      "execution_count": null,
      "outputs": [
        {
          "name": "stdout",
          "output_type": "stream",
          "text": [
            "ooo???xxxx\n"
          ]
        }
      ]
    },
    {
      "cell_type": "code",
      "source": [
        "from itertools import product\n",
        "\n",
        "cnt = 0\n",
        "for password in product(range(10), repeat=4):\n",
        "    flag = True\n",
        "    for i in range(10):\n",
        "        if S[i] == \"o\":\n",
        "            if i not in password:\n",
        "                flag = False\n",
        "                break\n",
        "        elif S[i] == \"x\":\n",
        "            if i in password:\n",
        "                flag = False\n",
        "                break\n",
        "    if flag: cnt += 1"
      ],
      "metadata": {
        "id": "TKXTnYWYzs6Q"
      },
      "execution_count": null,
      "outputs": []
    },
    {
      "cell_type": "code",
      "source": [
        "print(cnt)"
      ],
      "metadata": {
        "colab": {
          "base_uri": "https://localhost:8080/"
        },
        "id": "SwYDJDbdzs2-",
        "outputId": "d852c1e1-bdc4-41c0-d226-4cb6e68fe3f9"
      },
      "execution_count": null,
      "outputs": [
        {
          "output_type": "stream",
          "name": "stdout",
          "text": [
            "108\n"
          ]
        }
      ]
    },
    {
      "cell_type": "markdown",
      "source": [
        "## [D - Game in Mometetsu World](https://atcoder.jp/contests/abc201/tasks/abc201_d)"
      ],
      "metadata": {
        "id": "Q69Ie7cuvKVA"
      }
    },
    {
      "cell_type": "code",
      "source": [
        "H, W = map(int, input().split())\n",
        "A = [input() for _ in range(H)]"
      ],
      "metadata": {
        "colab": {
          "base_uri": "https://localhost:8080/"
        },
        "id": "zfGagtc3uoX0",
        "outputId": "519fed67-ae98-48ee-b5d4-5b558adb9975"
      },
      "execution_count": null,
      "outputs": [
        {
          "name": "stdout",
          "output_type": "stream",
          "text": [
            "3 3\n",
            "---\n",
            "+-+\n",
            "+--\n"
          ]
        }
      ]
    },
    {
      "cell_type": "code",
      "source": [
        "grid = [[0] * W for _ in range(H)]\n",
        "for h in range(H):\n",
        "    for w in range(W):\n",
        "        if A[h][w] == \"-\":\n",
        "            grid[h][w] = -1\n",
        "        else:\n",
        "            grid[h][w] = 1"
      ],
      "metadata": {
        "id": "WsomOTZK7gcb"
      },
      "execution_count": null,
      "outputs": []
    },
    {
      "cell_type": "code",
      "source": [
        "DP = [[0] * W for _ in range(H)]"
      ],
      "metadata": {
        "id": "QROqGRdX44uY"
      },
      "execution_count": null,
      "outputs": []
    },
    {
      "cell_type": "code",
      "source": [
        "for h in range(H)[::-1]:\n",
        "    for w in range(W)[::-1]:\n",
        "        if (h + w) % 2 == 0: # Takahashi\n",
        "            if h == H - 1 and w == W - 1:\n",
        "                DP[h][w] = 0\n",
        "            elif h == H - 1:\n",
        "                DP[h][w] = DP[h][w + 1] + grid[h][w+1]\n",
        "            elif w == W - 1:\n",
        "                DP[h][w] = DP[h + 1][w] + grid[h + 1][w]\n",
        "            else:\n",
        "                DP[h][w] = max(DP[h + 1][w] + grid[h + 1][w], DP[h][w + 1] + grid[h][w + 1]) \n",
        "        else: # Aoki\n",
        "            if (h == H - 1) and (w == W - 1):\n",
        "                DP[h][w] = 0\n",
        "            elif (h == H - 1):\n",
        "                DP[h][w] = DP[h][w + 1] - grid[h][w + 1]\n",
        "            elif (w == W - 1):\n",
        "                DP[h][w] = DP[h + 1][w] - grid[h + 1][w]\n",
        "            else:\n",
        "                DP[h][w] = min(DP[h + 1][w] - grid[h + 1][w], DP[h][w + 1] - grid[h][w + 1])"
      ],
      "metadata": {
        "id": "Zkw3q7SZ55uJ"
      },
      "execution_count": null,
      "outputs": []
    },
    {
      "cell_type": "code",
      "source": [
        "ans = DP[0][0]\n",
        "if ans > 0:\n",
        "    print(\"Takahashi\")\n",
        "elif ans < 0:\n",
        "    print(\"Aoki\")\n",
        "else:\n",
        "    print(\"Draw\")"
      ],
      "metadata": {
        "colab": {
          "base_uri": "https://localhost:8080/"
        },
        "id": "I5VGQwam55rQ",
        "outputId": "1ba417f4-6c18-4dc6-dcda-997141e31875"
      },
      "execution_count": null,
      "outputs": [
        {
          "output_type": "stream",
          "name": "stdout",
          "text": [
            "Takahashi\n"
          ]
        }
      ]
    }
  ]
}