{
  "nbformat": 4,
  "nbformat_minor": 0,
  "metadata": {
    "colab": {
      "name": "ABC201.ipynb",
      "provenance": [],
      "authorship_tag": "ABX9TyOokS/5RcTTGj6ULxXE5emv",
      "include_colab_link": true
    },
    "kernelspec": {
      "name": "python3",
      "display_name": "Python 3"
    },
    "language_info": {
      "name": "python"
    }
  },
  "cells": [
    {
      "cell_type": "markdown",
      "metadata": {
        "id": "view-in-github",
        "colab_type": "text"
      },
      "source": [
        "<a href=\"https://colab.research.google.com/github/Hidestament/AtCoder/blob/main/ABC/ABC201.ipynb\" target=\"_parent\"><img src=\"https://colab.research.google.com/assets/colab-badge.svg\" alt=\"Open In Colab\"/></a>"
      ]
    },
    {
      "cell_type": "markdown",
      "metadata": {
        "id": "U_KXjrWUUCUm"
      },
      "source": [
        "# ABC 201\n",
        "https://atcoder.jp/contests/abc201"
      ]
    },
    {
      "cell_type": "markdown",
      "metadata": {
        "id": "nFU4pwlCUHYx"
      },
      "source": [
        "## A - Tiny Arithmetic Sequence\n",
        "https://atcoder.jp/contests/abc201/tasks/abc201_a"
      ]
    },
    {
      "cell_type": "code",
      "metadata": {
        "colab": {
          "base_uri": "https://localhost:8080/"
        },
        "id": "QcYaOVyUUHSZ",
        "outputId": "00b295ec-b4c6-426e-d17d-11a3896160dd"
      },
      "source": [
        "A = list(map(int, input().split()))\n",
        "A.sort()\n",
        "print(\"YNeos\"[A[1]-A[0]!=A[2]-A[1]::2])"
      ],
      "execution_count": 3,
      "outputs": [
        {
          "output_type": "stream",
          "text": [
            "5 1 3\n",
            "Yes\n"
          ],
          "name": "stdout"
        }
      ]
    },
    {
      "cell_type": "markdown",
      "metadata": {
        "id": "V9bLgNY5UlaL"
      },
      "source": [
        "## B - Do you know the second highest mountain\n",
        "https://atcoder.jp/contests/abc201/tasks/abc201_b"
      ]
    },
    {
      "cell_type": "markdown",
      "metadata": {
        "id": "eQPu7xYpV9s5"
      },
      "source": [
        "### 逐次更新する方法\n",
        "一番高い山の情報と, 二番目に高い山の情報を常に持っておき, それぞれのクエリごとに更新していく.\n",
        "\n",
        "ここで注意するのが, 一番目に高い山が更新されたときには, 二番目に高い山も更新しなくてはいけないこと."
      ]
    },
    {
      "cell_type": "code",
      "metadata": {
        "colab": {
          "base_uri": "https://localhost:8080/"
        },
        "id": "YJF1xHH8UHP-",
        "outputId": "394436dd-5c5c-42ba-93e9-64a1f5a98666"
      },
      "source": [
        "N = int(input())"
      ],
      "execution_count": 4,
      "outputs": [
        {
          "output_type": "stream",
          "text": [
            "3\n"
          ],
          "name": "stdout"
        }
      ]
    },
    {
      "cell_type": "code",
      "metadata": {
        "colab": {
          "base_uri": "https://localhost:8080/"
        },
        "id": "2qtnWdiZUHNs",
        "outputId": "1d3a166f-ec5d-4da2-fbdf-400825794910"
      },
      "source": [
        "one = (\"\", 0)\n",
        "sec = (\"\", 0)\n",
        "for _ in range(N):\n",
        "  s,t = input().split()\n",
        "  t = int(t)\n",
        "\n",
        "  if one[1] < t:\n",
        "    one, sec = (s,t) , one\n",
        "  elif sec[1] < t:\n",
        "    sec = (s,t)"
      ],
      "execution_count": 9,
      "outputs": [
        {
          "output_type": "stream",
          "text": [
            "Everest 8849\n",
            "K2 8611\n",
            "Kangchenjunga 8586\n"
          ],
          "name": "stdout"
        }
      ]
    },
    {
      "cell_type": "code",
      "metadata": {
        "colab": {
          "base_uri": "https://localhost:8080/"
        },
        "id": "YTmGCIntUHLI",
        "outputId": "79898cbe-032e-47b2-e44d-c04032fafb52"
      },
      "source": [
        "print(sec[0])"
      ],
      "execution_count": 11,
      "outputs": [
        {
          "output_type": "stream",
          "text": [
            "K2\n"
          ],
          "name": "stdout"
        }
      ]
    },
    {
      "cell_type": "markdown",
      "metadata": {
        "id": "cafezDTpV_P2"
      },
      "source": [
        "### リストとして保存してソートする方法"
      ]
    },
    {
      "cell_type": "code",
      "metadata": {
        "colab": {
          "base_uri": "https://localhost:8080/"
        },
        "id": "WqmQSC2RUHDc",
        "outputId": "635c668e-0755-46a1-846b-74b64adc6d80"
      },
      "source": [
        "N = int(input())\n",
        "mt = list((input().split()) for _ in range(N))"
      ],
      "execution_count": 12,
      "outputs": [
        {
          "output_type": "stream",
          "text": [
            "3\n",
            "Everest 8849\n",
            "K2 8611\n",
            "Kangchenjunga 8586\n"
          ],
          "name": "stdout"
        }
      ]
    },
    {
      "cell_type": "code",
      "metadata": {
        "id": "iCDlJwQ6UHAa"
      },
      "source": [
        "mt.sort(reverse=True, key=lambda x:int(x[1]))"
      ],
      "execution_count": 17,
      "outputs": []
    },
    {
      "cell_type": "code",
      "metadata": {
        "colab": {
          "base_uri": "https://localhost:8080/"
        },
        "id": "n9ATp0ZvUG-G",
        "outputId": "abb28de6-82a8-4871-e29c-5858346da96d"
      },
      "source": [
        "print(mt[1][0])"
      ],
      "execution_count": 20,
      "outputs": [
        {
          "output_type": "stream",
          "text": [
            "K2\n"
          ],
          "name": "stdout"
        }
      ]
    },
    {
      "cell_type": "markdown",
      "metadata": {
        "id": "bMFCO1gBZi48"
      },
      "source": [
        "## C - Secret Number\n",
        "https://atcoder.jp/contests/abc201/tasks/abc201_c"
      ]
    },
    {
      "cell_type": "markdown",
      "metadata": {
        "id": "_s7GRuAXhHSa"
      },
      "source": [
        "### 解法１： 0000 ～ 9999 の全てを調べる\n",
        "暗証番号は 0000 ～ 9999 の 10000通りしかないため, 全ての暗証番号がそれぞれ条件を満たすかどうかを調べる.\n",
        "\n",
        "右寄せゼロ埋めして4桁の文字列として扱っている暗証番号をkとする.\n",
        "\n",
        "\"o\" で ある数字が全て k に含まれていて, \"x\" である数字が全て k に含まれていなければ, kは条件を満たす.\n",
        "\n",
        "これを実装する."
      ]
    },
    {
      "cell_type": "code",
      "metadata": {
        "colab": {
          "base_uri": "https://localhost:8080/"
        },
        "id": "3jLAW_T8Ziuv",
        "outputId": "663bd711-5662-4949-a488-9c59e68f07c5"
      },
      "source": [
        "S = str(input())\n",
        "inc = set()\n",
        "exc = set()\n",
        "for s in range(10):\n",
        "  if S[s] == \"o\":\n",
        "    inc.add(str(s))\n",
        "  elif S[s] == \"x\":\n",
        "    exc.add(str(s))"
      ],
      "execution_count": 31,
      "outputs": [
        {
          "output_type": "stream",
          "text": [
            "ooo???xxxx\n"
          ],
          "name": "stdout"
        }
      ]
    },
    {
      "cell_type": "markdown",
      "metadata": {
        "id": "IbpK5BXgiq9I"
      },
      "source": [
        "右寄せゼロ埋めするのは, \n",
        "\n",
        "```\n",
        "str.zfill(桁数)\n",
        "```\n",
        "でできる.\n"
      ]
    },
    {
      "cell_type": "code",
      "metadata": {
        "id": "FBMx7ghcZisa"
      },
      "source": [
        "ans = 0\n",
        "for num in range(10000):\n",
        "  sec = str(num).zfill(4)\n",
        "  if all(s in sec for s in inc) and all(s not in sec for s in exc):\n",
        "    ans += 1\n",
        "print(ans)"
      ],
      "execution_count": null,
      "outputs": []
    },
    {
      "cell_type": "markdown",
      "metadata": {
        "id": "vtH-8O-BhWLp"
      },
      "source": [
        "次のコードでも良いかもしれない. こっちのほうが計算時間は多かった."
      ]
    },
    {
      "cell_type": "code",
      "metadata": {
        "colab": {
          "base_uri": "https://localhost:8080/"
        },
        "id": "HNzxmMa2Zip5",
        "outputId": "1a87230a-1cba-4eac-8805-66cc76c94433"
      },
      "source": [
        "S = str(input())\n",
        "ans = 0\n",
        "for num in range(10000):\n",
        "  sec = str(num).zfill(4)\n",
        "  if all(str(s) in sec for s in range(10) if S[s] == \"o\") and all(str(s) not in sec for s in range(10) if S[s] == \"x\"):\n",
        "    ans += 1\n",
        "print(ans)"
      ],
      "execution_count": 40,
      "outputs": [
        {
          "output_type": "stream",
          "text": [
            "108\n"
          ],
          "name": "stdout"
        }
      ]
    },
    {
      "cell_type": "markdown",
      "metadata": {
        "id": "9kxuniIqipoR"
      },
      "source": [
        "### 解法2 : 場合分け + 組合せの個数の計算\n",
        "まずはじめに, o, x, ? が 実際にどの数字に対応するかは関係なく, それらがいくつ存在するかが問題になる.\n",
        "\n",
        "というのも, それがどの数字になろうとも, 組合せの数には関係がないから.\n",
        "\n",
        "なので, まずは個数をカウントする."
      ]
    },
    {
      "cell_type": "code",
      "metadata": {
        "id": "Wy2ylrEBKSe0",
        "colab": {
          "base_uri": "https://localhost:8080/"
        },
        "outputId": "58c6c1de-7b43-4cc3-db7d-8bbdb4ec842c"
      },
      "source": [
        "S = str(input())\n",
        "used = S.count(\"o\")\n",
        "unused = S.count(\"?\")\n",
        "unknown = S.count(\"x\")"
      ],
      "execution_count": 46,
      "outputs": [
        {
          "output_type": "stream",
          "text": [
            "ooo???xxxx\n"
          ],
          "name": "stdout"
        }
      ]
    },
    {
      "cell_type": "markdown",
      "metadata": {
        "id": "_PzCfJW-oqBX"
      },
      "source": [
        "#### コーナーケースの除去\n",
        "\n",
        "- used + unknown = 0 の場合, 暗証番号を作ることができない\n",
        "- used が 5個以上の場合, 暗証番号を作ることができない\n",
        "\n",
        "よってこれらの場合は, ans = 0 となる."
      ]
    },
    {
      "cell_type": "code",
      "metadata": {
        "id": "5dM3VUbGn4dn"
      },
      "source": [
        "if used + unknown == 0 or used >= 5:\n",
        "  ans = 0"
      ],
      "execution_count": 47,
      "outputs": []
    },
    {
      "cell_type": "markdown",
      "metadata": {
        "id": "oeoA5C4ApIvF"
      },
      "source": [
        "#### ? を どう扱うか\n",
        "? のうち 何個か(add個とする)選んで, o にして, 並び方を考えるとする.\n",
        "\n",
        "used + add個 が 1 ～ 4ならば暗証番号を作ることができて, その組合せが計算できる.\n",
        "\n",
        "unknown から 何個を add個 取ってくるかは, パターンが少ないので全列挙するとする.\n",
        "\n",
        "またこのとき, unknows個からadd個を選ぶ選び方は, \n",
        "$$\n",
        "_{unknown} C _{add}\n",
        "$$\n",
        "\n",
        "となるので, 次で計算する組合せのパターンにこれをかける必要がある. これを pattern_addとおこう."
      ]
    },
    {
      "cell_type": "code",
      "metadata": {
        "id": "ns9rhBwSn5ou"
      },
      "source": [
        "from math import factorial\n",
        "ans = 0\n",
        "\n",
        "for add in range(max(4, unknown) + 1):\n",
        "  pattern_add = factorial(unknown) // factorial(add) // factorial(unknown - add) \n",
        "  print(pattern_add)"
      ],
      "execution_count": null,
      "outputs": []
    },
    {
      "cell_type": "markdown",
      "metadata": {
        "id": "QQFzdPgX54gZ"
      },
      "source": [
        "#### 実際の組合せの計算\n",
        "unknown + add が 1～ 4 ならば組合せを計算することができる.\n",
        "\n",
        "- 1の場合\n",
        "\n",
        "1111 みたいなやつの1通り\n",
        "\n",
        "\n",
        "- 2の場合\n",
        "\n",
        "1112 みたいなやつが 2×4通り（1の選び方2通り × 2の場所4通り）\n",
        "\n",
        "1122 みたいなやつが $_4 C _2$ 通り. \n",
        "\n",
        "- 3の場合\n",
        "\n",
        "1123 みたいなやつが 3×4×3 通り（1の選び方3通り × 2の場所 $_4 C_1$ × 3の場所 $_3 C _ 1$）\n",
        "\n",
        "\n",
        "- 4の場合\n",
        "1234 みたいなやつが 4! 通り （4つの数字を一列に並べる順列）\n"
      ]
    },
    {
      "cell_type": "code",
      "metadata": {
        "id": "1AWuw-rr5DoL"
      },
      "source": [
        "ans = 0\n",
        "if unknown + add == 0:\n",
        "  ans += 0\n",
        "elif unknown + add == 1:\n",
        "  ans += pattern_add * 1\n",
        "\n",
        "elif unknown + add == 2:\n",
        "  ans += pattern_add * 2 * 4\n",
        "  ans += pattern_add * 2 * 3\n",
        "\n",
        "elif unknown + add == 3:\n",
        "  ans += pattern_add * (3 * 4 * 3)\n",
        "  \n",
        "elif unknown + add == 4:\n",
        "  ans += pattern_add * (4 * 3 * 2 * 1) "
      ],
      "execution_count": 49,
      "outputs": []
    },
    {
      "cell_type": "markdown",
      "metadata": {
        "id": "INmMXeL87qkh"
      },
      "source": [
        "#### まとめると"
      ]
    },
    {
      "cell_type": "code",
      "metadata": {
        "colab": {
          "base_uri": "https://localhost:8080/"
        },
        "id": "8hffXkAa7s8P",
        "outputId": "59b81be2-8f19-4b11-f82a-52c15b581d3f"
      },
      "source": [
        "from math import factorial\n",
        "\n",
        "S = str(input())\n",
        "used = S.count(\"o\")\n",
        "unknown = S.count(\"?\")\n",
        "unused = S.count(\"x\")\n",
        "\n",
        "if used + unknown == 0 or used >= 5:\n",
        "  print(0)\n",
        "else:\n",
        "  ans = 0\n",
        "  for add in range(min(4, unknown) + 1):\n",
        "    pattern_add = factorial(unknown) // factorial(add) // factorial(unknown - add)\n",
        "    if used + add == 1:\n",
        "      ans += pattern_add * 1\n",
        "\n",
        "    elif used + add == 2:\n",
        "      ans += pattern_add * 2 * 4\n",
        "      ans += pattern_add * 2 * 3\n",
        "\n",
        "    elif used + add == 3:\n",
        "      ans += pattern_add * (3 * 4 * 3)\n",
        "  \n",
        "    elif used + add == 4:\n",
        "      ans += pattern_add * (4 * 3 * 2 * 1) \n",
        "  print(ans)"
      ],
      "execution_count": 62,
      "outputs": [
        {
          "output_type": "stream",
          "text": [
            "ooo???xxxx\n",
            "108\n"
          ],
          "name": "stdout"
        }
      ]
    }
  ]
}