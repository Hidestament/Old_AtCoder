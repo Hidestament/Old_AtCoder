{
  "nbformat": 4,
  "nbformat_minor": 0,
  "metadata": {
    "colab": {
      "name": "ABC202.ipynb",
      "provenance": [],
      "authorship_tag": "ABX9TyMlva9nkMAGwy1u8z2JPQTK",
      "include_colab_link": true
    },
    "kernelspec": {
      "name": "python3",
      "display_name": "Python 3"
    },
    "language_info": {
      "name": "python"
    }
  },
  "cells": [
    {
      "cell_type": "markdown",
      "metadata": {
        "id": "view-in-github",
        "colab_type": "text"
      },
      "source": [
        "<a href=\"https://colab.research.google.com/github/Hidestament/AtCoder/blob/main/ABC/ABC202.ipynb\" target=\"_parent\"><img src=\"https://colab.research.google.com/assets/colab-badge.svg\" alt=\"Open In Colab\"/></a>"
      ]
    },
    {
      "cell_type": "markdown",
      "metadata": {
        "id": "LcHUv-l7P3FH"
      },
      "source": [
        "# ABC202\n",
        "https://atcoder.jp/contests/abc202"
      ]
    },
    {
      "cell_type": "markdown",
      "metadata": {
        "id": "RWAm52Px8ss_"
      },
      "source": [
        "## A - Three Dice"
      ]
    },
    {
      "cell_type": "code",
      "metadata": {
        "colab": {
          "base_uri": "https://localhost:8080/"
        },
        "id": "ZsjVnJSm8r5a",
        "outputId": "8e37c6ea-6d50-4763-f4f9-1e1cc6a02567"
      },
      "source": [
        "a,b,c = map(int, input().split())\n",
        "print(21 - a - b - c)"
      ],
      "execution_count": null,
      "outputs": [
        {
          "output_type": "stream",
          "text": [
            "1 4 3\n",
            "13\n"
          ],
          "name": "stdout"
        }
      ]
    },
    {
      "cell_type": "markdown",
      "metadata": {
        "id": "Hu9zGeH882zV"
      },
      "source": [
        "## B - 180°\n"
      ]
    },
    {
      "cell_type": "code",
      "metadata": {
        "colab": {
          "base_uri": "https://localhost:8080/"
        },
        "id": "qhSHDYIi8y_f",
        "outputId": "a23efc3f-8043-44ea-cca0-612caeb994e7"
      },
      "source": [
        "S = str(input())\n",
        "ans = \"\"\n",
        "for i in S:\n",
        "  if i == \"6\":\n",
        "    ans = \"9\" + ans\n",
        "  elif i == \"9\":\n",
        "    ans = \"6\" + ans\n",
        "  else:\n",
        "    ans = i + ans\n",
        "print(ans)"
      ],
      "execution_count": null,
      "outputs": [
        {
          "output_type": "stream",
          "text": [
            "0601889\n",
            "6881090\n"
          ],
          "name": "stdout"
        }
      ]
    },
    {
      "cell_type": "markdown",
      "metadata": {
        "id": "thCoj_WX9tzV"
      },
      "source": [
        "## C - Made Up"
      ]
    },
    {
      "cell_type": "code",
      "metadata": {
        "colab": {
          "base_uri": "https://localhost:8080/"
        },
        "id": "qHhZmrWs9Kqd",
        "outputId": "9ee167d6-47a0-491e-ed5f-23a7cac7d124"
      },
      "source": [
        "from collections import Counter\n",
        "N = int(input())\n",
        "A = list(map(int, input().split()))\n",
        "B = list(map(int, input().split()))\n",
        "C = list(map(int, input().split()))"
      ],
      "execution_count": null,
      "outputs": [
        {
          "output_type": "stream",
          "text": [
            "3\n",
            "1 2 2\n",
            "3 1 2\n",
            "2 3 2\n"
          ],
          "name": "stdout"
        }
      ]
    },
    {
      "cell_type": "code",
      "metadata": {
        "id": "l3-yupNQ-kOW"
      },
      "source": [
        "B_C = [0 for j in range(len(C))]\n",
        "for j in range(len(C)):\n",
        "  B_C[j] = B[C[j] - 1]\n",
        "B_C_dict = Counter(B_C)"
      ],
      "execution_count": null,
      "outputs": []
    },
    {
      "cell_type": "code",
      "metadata": {
        "id": "qgxwsCPf-yPQ"
      },
      "source": [
        "ans = 0\n",
        "for a in A:\n",
        "  ans += B_C_dict[a]\n",
        "print(ans)"
      ],
      "execution_count": null,
      "outputs": []
    },
    {
      "cell_type": "markdown",
      "metadata": {
        "id": "kFs63LoU_gtg"
      },
      "source": [
        "## D - aab aba baa"
      ]
    },
    {
      "cell_type": "markdown",
      "metadata": {
        "id": "8aDu06PYCLBT"
      },
      "source": [
        "#### 解法1 : ダメ解法\n",
        "愚直にやると全く終わらない"
      ]
    },
    {
      "cell_type": "code",
      "metadata": {
        "colab": {
          "base_uri": "https://localhost:8080/"
        },
        "id": "BronI2QW_Vfo",
        "outputId": "9f3a011a-be1f-4835-fae4-b8f1ddaa1799"
      },
      "source": [
        "A, B, K = map(int, input().split())"
      ],
      "execution_count": null,
      "outputs": [
        {
          "output_type": "stream",
          "text": [
            "30 30 118264581564861424\n"
          ],
          "name": "stdout"
        }
      ]
    },
    {
      "cell_type": "code",
      "metadata": {
        "id": "P4H4jWqg_nPa"
      },
      "source": [
        "temp = 0\n",
        "for now in range(0, 2**(A+B)):\n",
        "  now = str(bin(now))[2:].zfill(A+B)\n",
        "  if now.count(\"0\") == A and now.count(\"1\") == B:\n",
        "    temp += 1\n",
        "  if temp == K:\n",
        "    print(now.replace(\"0\", \"a\").replace(\"1\", \"b\"))"
      ],
      "execution_count": null,
      "outputs": []
    },
    {
      "cell_type": "markdown",
      "metadata": {
        "id": "-RAj2BIvCMfy"
      },
      "source": [
        "#### 解法2 : 先頭から a or b を決めていく\n",
        "辞書順の並び方を求めるときは, 先頭から決めていくのが定石.\n",
        "\n",
        "辞書順では, a -> b の順で進んでいく. ここで, 先頭がaである場合の並べ方の総数をnとすると, $n < k $ であるなら, 先頭がaでは $k$番目の順番を表現することができない.\n",
        "\n",
        "よって, $n < k $なら先頭の文字は b となる.\n",
        "\n",
        "逆に$n \\geq k$ なら$k$番目の順番を先頭が$a$で表現することができる.\n",
        "\n",
        "よって, この場合先頭の文字はaとなる."
      ]
    },
    {
      "cell_type": "markdown",
      "metadata": {
        "id": "j4DaxeiOs9js"
      },
      "source": [
        "- 並べ方の総数をどう計算するか\n",
        "\n",
        "今, 使用していないaとbの個数が, それぞれA, Bであるとする.\n",
        "\n",
        "このとき, 先頭をaと固定して, 残りの全てを並べるので, \n",
        "$$\n",
        "_{A-1+B} C _{B} * _{A-1} C _{A-1} = _{A-1+B} C _{B}\n",
        "$$\n",
        "となる. これは, A+B-1の場所から, bの場所をB個選ぶ組合せである.\n",
        "\n",
        "以下ではmath.factorial() を使ったが, パスカルの3角形を使って事前に計算すると良いらしい."
      ]
    },
    {
      "cell_type": "code",
      "metadata": {
        "id": "wv1Mqt2OJ3hp"
      },
      "source": [
        "from math import factorial\n",
        "A, B, K = map(int, input().split())\n",
        "ans = [0 for _ in range(A+B)]\n",
        "pattern = 0\n",
        "for i in range(A+B):\n",
        "  res_a = A - ans.count(\"a\") - 1\n",
        "  res_b = B - ans.count(\"b\")\n",
        "\n",
        "  if res_a < 0:\n",
        "    ans[i] = \"b\"\n",
        "  elif res_b < 0:\n",
        "    ans[i] = \"a\"\n",
        "  else:\n",
        "    temp = factorial(res_a + res_b) // factorial(res_a) // factorial(res_b)\n",
        "  \n",
        "    if pattern + temp < K:\n",
        "      ans[i] = \"b\"\n",
        "      pattern += temp\n",
        "    else:\n",
        "      ans[i] = \"a\"\n",
        "print(\"\".join(ans))"
      ],
      "execution_count": null,
      "outputs": []
    },
    {
      "cell_type": "markdown",
      "metadata": {
        "id": "HW6tNhhvt-iI"
      },
      "source": [
        "#### 解法2' : パスカルの3角形\n",
        "上のcombinationsのところをパスカルの３角形でやってみる"
      ]
    },
    {
      "cell_type": "code",
      "metadata": {
        "colab": {
          "base_uri": "https://localhost:8080/"
        },
        "id": "dKOKG1lfuA7r",
        "outputId": "1b8dc2c2-c001-43bf-c3d6-dd7b1f8ad229"
      },
      "source": [
        "A, B, K = map(int, input().split())"
      ],
      "execution_count": 44,
      "outputs": [
        {
          "output_type": "stream",
          "text": [
            "2 2 4\n"
          ],
          "name": "stdout"
        }
      ]
    },
    {
      "cell_type": "code",
      "metadata": {
        "id": "w_YxB4QRujIl"
      },
      "source": [
        "combinations = [[0 for _ in range(A+B+1)] for __ in range(A+B+1)]\n",
        "combinations[0][0] = 1\n",
        "for i in range(A+B):\n",
        "  for j in range(i+1):\n",
        "    combinations[i+1][j] += combinations[i][j]\n",
        "    combinations[i+1][j+1] +=  combinations[i][j]"
      ],
      "execution_count": 45,
      "outputs": []
    },
    {
      "cell_type": "code",
      "metadata": {
        "id": "qEU30Kvev5sj"
      },
      "source": [
        "ans = [0 for _ in range(A+B)]\n",
        "for i in range(A+B):\n",
        "  res_a = A - ans.count(\"a\") - 1\n",
        "  res_b = B - ans.count(\"b\") - 1\n",
        "\n",
        "  if res_a < 0:\n",
        "    ans[i] = \"b\"\n",
        "  elif res_b <= 0:\n",
        "    ans[i] = \"a\"\n",
        "  else:\n",
        "    temp = combinations[res_a + res_b][res_a]\n",
        "    if temp < K:\n",
        "      ans[i] = \"b\"\n",
        "      K -= temp\n",
        "    else:\n",
        "      ans[i] = \"a\""
      ],
      "execution_count": 46,
      "outputs": []
    },
    {
      "cell_type": "code",
      "metadata": {
        "colab": {
          "base_uri": "https://localhost:8080/"
        },
        "id": "xni94Ztjv701",
        "outputId": "e31b23aa-5686-4a31-a3fd-6a9c30b75567"
      },
      "source": [
        "print(\"\".join(ans))"
      ],
      "execution_count": 49,
      "outputs": [
        {
          "output_type": "stream",
          "text": [
            "baab\n"
          ],
          "name": "stdout"
        }
      ]
    }
  ]
}