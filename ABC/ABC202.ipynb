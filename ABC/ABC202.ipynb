{
  "nbformat": 4,
  "nbformat_minor": 0,
  "metadata": {
    "colab": {
      "name": "ABC202.ipynb",
      "provenance": [],
      "collapsed_sections": [],
      "authorship_tag": "ABX9TyPBPSnnPinv+H7zAzqHvhLQ",
      "include_colab_link": true
    },
    "kernelspec": {
      "name": "python3",
      "display_name": "Python 3"
    },
    "language_info": {
      "name": "python"
    }
  },
  "cells": [
    {
      "cell_type": "markdown",
      "metadata": {
        "id": "view-in-github",
        "colab_type": "text"
      },
      "source": [
        "<a href=\"https://colab.research.google.com/github/Hidestament/AtCoder/blob/main/ABC/ABC202.ipynb\" target=\"_parent\"><img src=\"https://colab.research.google.com/assets/colab-badge.svg\" alt=\"Open In Colab\"/></a>"
      ]
    },
    {
      "cell_type": "markdown",
      "source": [
        "# [AtCoder Beginner Contest 202](https://atcoder.jp/contests/abc202)"
      ],
      "metadata": {
        "id": "KC_Y3qlzejkb"
      }
    },
    {
      "cell_type": "markdown",
      "source": [
        "## [A - Three Dice](https://atcoder.jp/contests/abc202/tasks/abc202_a)"
      ],
      "metadata": {
        "id": "Oao-zHfjelXB"
      }
    },
    {
      "cell_type": "code",
      "execution_count": null,
      "metadata": {
        "id": "3fya6QleeieA"
      },
      "outputs": [],
      "source": [
        "a, b, c = map(int, input().split())\n",
        "print(21 - (a + b + c))"
      ]
    },
    {
      "cell_type": "markdown",
      "source": [
        "## [B - 180°](https://atcoder.jp/contests/abc202/tasks/abc202_b)"
      ],
      "metadata": {
        "id": "Elw7UnJYeyLI"
      }
    },
    {
      "cell_type": "code",
      "source": [
        "S = str(input())\n",
        "S = S.replace(\"6\", \"a\")\n",
        "S = S.replace(\"9\", \"b\")\n",
        "S = S.replace(\"a\", \"9\")\n",
        "S = S.replace(\"b\", \"6\")\n",
        "print(S[::-1])"
      ],
      "metadata": {
        "id": "dynSyBM0e2C2"
      },
      "execution_count": null,
      "outputs": []
    },
    {
      "cell_type": "markdown",
      "source": [
        "## [C - Made Up](https://atcoder.jp/contests/abc202/tasks/abc202_c)"
      ],
      "metadata": {
        "id": "2XRypRNMfGJO"
      }
    },
    {
      "cell_type": "code",
      "source": [
        "from collections import Counter\n",
        "\n",
        "N = int(input())\n",
        "A = list(map(int, input().split()))\n",
        "B = list(map(int, input().split()))\n",
        "C = list(map(int, input().split()))"
      ],
      "metadata": {
        "id": "XvCPM1ESfcFj"
      },
      "execution_count": null,
      "outputs": []
    },
    {
      "cell_type": "code",
      "source": [
        "BC = []\n",
        "for i in range(N):\n",
        "    BC.append(B[C[i] - 1])"
      ],
      "metadata": {
        "id": "Pl4Nopd-fu-l"
      },
      "execution_count": null,
      "outputs": []
    },
    {
      "cell_type": "code",
      "source": [
        "cnt = Counter(BC)\n",
        "ans = 0\n",
        "for i in range(N):\n",
        "    ans += cnt[A[i]]\n",
        "print(ans)"
      ],
      "metadata": {
        "id": "NusIyK08gJqx"
      },
      "execution_count": null,
      "outputs": []
    },
    {
      "cell_type": "markdown",
      "source": [
        "## [D - aab aba baa](https://atcoder.jp/contests/abc202/tasks/abc202_d)"
      ],
      "metadata": {
        "id": "AWpJvs0fgbQo"
      }
    },
    {
      "cell_type": "code",
      "source": [
        "aabb、abab、abba、baab、baba、bbaa\n",
        "1桁目\n",
        "a ~ の個数は 3C1 = 3\n",
        "-> 1桁目はbに決定\n",
        "\n",
        "K = 1\n",
        "a, a, b\n",
        "a ~ の個数は 2C1 = 2\n",
        "-> 2桁目は a 決定\n",
        "\n",
        "\n",
        "K = 1\n",
        "a, b\n",
        "a ~ の 個数は 1\n",
        "-> 3桁目は a に決定"
      ],
      "metadata": {
        "id": "28avyrjtj4hx"
      },
      "execution_count": null,
      "outputs": []
    },
    {
      "cell_type": "code",
      "source": [
        "A, B, K = map(int, input().split())"
      ],
      "metadata": {
        "id": "X4_nACeQbm9g"
      },
      "execution_count": null,
      "outputs": []
    },
    {
      "cell_type": "code",
      "source": [
        "from scipy.special import comb\n",
        "ans = \"\"\n",
        "def make_number(a, b, k):\n",
        "    global ans\n",
        "    if a == 0 and b == 0:\n",
        "        return\n",
        "    elif a == 0 or b == 0:\n",
        "        ans += \"a\" * a\n",
        "        ans += \"b\" * b\n",
        "        return\n",
        "    # 現在の桁をaにしたときの, それ以降の数の個数\n",
        "    else:\n",
        "        cnt = comb(a-1+b, a-1, exact=True)\n",
        "        if k > cnt:\n",
        "            ans += \"b\"\n",
        "            return make_number(a, b-1, k-cnt)\n",
        "        else:\n",
        "            ans += \"a\"\n",
        "            return make_number(a-1, b, k)"
      ],
      "metadata": {
        "id": "Ciu6y9MiiPtc"
      },
      "execution_count": null,
      "outputs": []
    },
    {
      "cell_type": "code",
      "source": [
        "make_number(A, B, K)\n",
        "print(ans)"
      ],
      "metadata": {
        "id": "gYtx9CMLmCeS"
      },
      "execution_count": null,
      "outputs": []
    },
    {
      "cell_type": "markdown",
      "source": [
        "## [E - Count Descendants](https://atcoder.jp/contests/abc202/tasks/abc202_e)"
      ],
      "metadata": {
        "id": "3GW_jpa0moD6"
      }
    },
    {
      "cell_type": "markdown",
      "source": [
        "### 解法1: オイラーツアー + 二分探索\n",
        "PythonでAC"
      ],
      "metadata": {
        "id": "uWx4PkSxhFOt"
      }
    },
    {
      "cell_type": "code",
      "source": [
        "import sys\n",
        "sys.setrecursionlimit(10**7)\n",
        "N = int(input())\n",
        "P = list(map(int, input().split()))\n",
        "Q = int(input())"
      ],
      "metadata": {
        "colab": {
          "base_uri": "https://localhost:8080/"
        },
        "id": "drfdbW_vdIbL",
        "outputId": "1c2b93a1-ab74-4d8a-cafb-5388df45e66b"
      },
      "execution_count": null,
      "outputs": [
        {
          "name": "stdout",
          "output_type": "stream",
          "text": [
            "7\n",
            "1 1 2 2 4 2\n",
            "4\n"
          ]
        }
      ]
    },
    {
      "cell_type": "code",
      "source": [
        "graph = [[] for _ in range(N)]\n",
        "for i, p in enumerate(P, start=1):\n",
        "    graph[p-1].append(i)"
      ],
      "metadata": {
        "id": "PpNyLoeOdIYb"
      },
      "execution_count": null,
      "outputs": []
    },
    {
      "cell_type": "code",
      "source": [
        "# オイラーツアーとdepthの計算\n",
        "euler_tour = []\n",
        "depth = [0] * N\n",
        "def dfs(now):\n",
        "    euler_tour.append(now)\n",
        "    for to in graph[now]:\n",
        "        depth[to] = depth[now] + 1\n",
        "        dfs(to)\n",
        "        euler_tour.append(now)\n",
        "dfs(0)"
      ],
      "metadata": {
        "id": "fLVp2mqpdIV8"
      },
      "execution_count": null,
      "outputs": []
    },
    {
      "cell_type": "code",
      "source": [
        "# visited_time[v]: vを訪れた時間のリスト\n",
        "visited_time = [[] for _ in range(N)]\n",
        "for t, v in enumerate(euler_tour):\n",
        "    visited_time[v].append(t)\n",
        "\n",
        "# start_time[v]: 頂点vを初めて訪れた時間\n",
        "# end_time[v]: 頂点vを最後に訪れた時間 の作成\n",
        "start_time = [0] * N\n",
        "end_time = [0] * N\n",
        "for v in range(N):\n",
        "    start_time[v] = visited_time[v][0]\n",
        "    end_time[v] = visited_time[v][-1]"
      ],
      "metadata": {
        "id": "eum_8BM5dITW"
      },
      "execution_count": null,
      "outputs": []
    },
    {
      "cell_type": "code",
      "source": [
        "# depth_time[d]: depth = d　の頂点v の start_time[v]の配列\n",
        "depth_time = [[] for _ in range(N)]\n",
        "for v in range(N):\n",
        "    d = depth[v]\n",
        "    depth_time[d].append(start_time[v])\n",
        "for d in range(N):\n",
        "    # 番兵を入れて, ソートする\n",
        "    depth_time[d] = [-1] + sorted(depth_time[d]) + [10**10]"
      ],
      "metadata": {
        "id": "4AYa6C5cdIQg"
      },
      "execution_count": null,
      "outputs": []
    },
    {
      "cell_type": "code",
      "source": [
        "from bisect import bisect_left, bisect_right\n",
        "# 各クエリに対して, 頂点Uのs = start_time[U], e = end_time[U] とすると\n",
        "# depth = D の 中で, [s, e]区間にstart_timeが含まれる頂点の個数が答え\n",
        "# time_depth[D]に対して, s, eの挿入場所を binary searchで計算\n",
        "for _ in range(Q):\n",
        "    u, d = map(int, input().split())\n",
        "    u -= 1\n",
        "    s = start_time[u]\n",
        "    e = end_time[u]\n",
        "    left_ind = bisect_left(depth_time[d], e)\n",
        "    right_ind = bisect_right(depth_time[d], e)\n",
        "    print(right_ind - left_ind)"
      ],
      "metadata": {
        "colab": {
          "base_uri": "https://localhost:8080/"
        },
        "id": "QiVrA7gEdIN4",
        "outputId": "3b956514-c3c9-4bdc-cd4d-9b8748e8278c"
      },
      "execution_count": null,
      "outputs": [
        {
          "output_type": "stream",
          "name": "stdout",
          "text": [
            "1 2\n",
            "3\n",
            "7 2\n",
            "1\n",
            "4 1\n",
            "0\n",
            "5 5\n",
            "0\n"
          ]
        }
      ]
    },
    {
      "cell_type": "markdown",
      "source": [
        "### 解法2: オイラーツアー (再帰DFS) + クエリ先読み + BIT\n",
        "Pypyで通った. 再帰上限に注意"
      ],
      "metadata": {
        "id": "Uq1mKPlDJfIT"
      }
    },
    {
      "cell_type": "code",
      "source": [
        "import sys\n",
        "sys.setrecursionlimit(7 * 10**5)"
      ],
      "metadata": {
        "id": "r-7DYC0xh-1u"
      },
      "execution_count": null,
      "outputs": []
    },
    {
      "cell_type": "code",
      "source": [
        "# BIT\n",
        "class BinaryIndexedTree:\n",
        "    \"\"\"\n",
        "    A = [a0, a1, a2, ..., an-1]\n",
        "    元のAの配列は0-indexだが, BIT上では1-indexで扱う\n",
        "    \"\"\"\n",
        "    def __init__(self, n=10**6):\n",
        "        self.size = n + 1\n",
        "        self.tree = [0] * (n + 1)\n",
        "        self.depth = n.bit_length()\n",
        "        \n",
        "    def update(self, i, x):\n",
        "        \"\"\"\n",
        "        ai += x を する\n",
        "        i: 0-index\n",
        "        \"\"\"\n",
        "        # 1-indexに直す\n",
        "        pos = i + 1\n",
        "        while pos <= self.size:\n",
        "            self.tree[pos] += x\n",
        "            # 真上の位置は, iにiのLSBを加えたモノ\n",
        "            pos += pos & -pos\n",
        "\n",
        "    def sum(self, i):\n",
        "        \"\"\"\n",
        "        a[0] + a[1] + ... + a[i] を 求める\n",
        "        i は 0-index\n",
        "        \"\"\"\n",
        "        pos = i + 1\n",
        "        s = 0\n",
        "        while pos > 0:\n",
        "            s += self.tree[pos]\n",
        "            # 左上は i に iのLSBを引いたモノ\n",
        "            pos -= pos & -pos\n",
        "        return s\n",
        "\n",
        "    def sum_range(self, i, j):\n",
        "        \"\"\"\n",
        "        a[i] + a[i+1] + ... + a[j] を 求める\n",
        "        i, j は 0-index\n",
        "        \"\"\"\n",
        "        return self.sum(j) - self.sum(i - 1)\n",
        "    \n",
        "    def lower_bound(self, x):\n",
        "        \"\"\"\n",
        "        a0 + a1 + ... + ai >= x となる最小のiを取得.\n",
        "        各項は非負である必要がある\n",
        "        iは0 - index\n",
        "        \"\"\"\n",
        "        if x <= 0:\n",
        "            return -1\n",
        "        \n",
        "        k = 1 << (self.size.bit_length() - 1)\n",
        "        pos = 0\n",
        "        s = 0\n",
        "        while k > 0:\n",
        "            # (pos + kが配列の長さを超えない) and 和がxを超えない\n",
        "            if (pos + k < self.size) and self.tree[pos + k] + s < x:\n",
        "                s += self.tree[pos + k]\n",
        "                pos += k\n",
        "            # 1つ下の段に行く\n",
        "            k //= 2\n",
        "        return pos"
      ],
      "metadata": {
        "id": "ZtksTaysiD-G"
      },
      "execution_count": null,
      "outputs": []
    },
    {
      "cell_type": "code",
      "source": [
        "N = int(input())\n",
        "P = list(map(int, input().split()))\n",
        "Q = int(input())"
      ],
      "metadata": {
        "id": "zDBXYoHJh-y-"
      },
      "execution_count": null,
      "outputs": []
    },
    {
      "cell_type": "code",
      "source": [
        "graph = [[] for _ in range(N)]\n",
        "for i, p in enumerate(P, start=1):\n",
        "    graph[p-1].append(i)"
      ],
      "metadata": {
        "id": "-19bkW6xh-xh"
      },
      "execution_count": null,
      "outputs": []
    },
    {
      "cell_type": "code",
      "source": [
        "# オイラーツアーとdepthの計算\n",
        "euler_tour = []\n",
        "depth = [0] * N\n",
        "def dfs(now):\n",
        "    euler_tour.append(now)\n",
        "    for to in graph[now]:\n",
        "        depth[to] = depth[now] + 1\n",
        "        dfs(to)\n",
        "        euler_tour.append(now)\n",
        "dfs(0)"
      ],
      "metadata": {
        "id": "Hdy1oGe2h-uj"
      },
      "execution_count": null,
      "outputs": []
    },
    {
      "cell_type": "code",
      "source": [
        "# visited_time[v]: vを訪れた時間のリスト\n",
        "visited_time = [[] for _ in range(N)]\n",
        "for t, v in enumerate(euler_tour):\n",
        "    visited_time[v].append(t)\n",
        "\n",
        "# start_time[v]: 頂点vを初めて訪れた時間\n",
        "# end_time[v]: 頂点vを最後に訪れた時間 の作成\n",
        "start_time = [0] * N\n",
        "end_time = [0] * N\n",
        "for v in range(N):\n",
        "    start_time[v] = visited_time[v][0]\n",
        "    end_time[v] = visited_time[v][-1]"
      ],
      "metadata": {
        "id": "PPG7j6kEh-rs"
      },
      "execution_count": null,
      "outputs": []
    },
    {
      "cell_type": "code",
      "source": [
        "# クエリ先読みして, depth順に処理する\n",
        "query = [[] for _ in range(N)]\n",
        "for i in range(Q):\n",
        "    u, d = map(int, input().split())\n",
        "    query[d].append([i, u-1])\n",
        "ans = [0] * Q"
      ],
      "metadata": {
        "id": "5a4U2F1hh-pI"
      },
      "execution_count": null,
      "outputs": []
    },
    {
      "cell_type": "code",
      "source": [
        "# depthごとに, そのdepthの頂点を初めて訪れた時間を記録\n",
        "from collections import deque\n",
        "depth_query = [deque() for _ in range(N)]\n",
        "for v in range(N):\n",
        "    d = depth[v]\n",
        "    depth_query[d].append(start_time[v])"
      ],
      "metadata": {
        "id": "jl9g8YGkh-mf"
      },
      "execution_count": null,
      "outputs": []
    },
    {
      "cell_type": "code",
      "source": [
        "bit = BinaryIndexedTree()"
      ],
      "metadata": {
        "id": "zc5eOKNojmgP"
      },
      "execution_count": null,
      "outputs": []
    },
    {
      "cell_type": "code",
      "source": [
        "# クエリ処理:\n",
        "# 1. [L, R]区間に存在する, Depth (d - 1)以下の頂点の個数 h を計算\n",
        "# 2. depth d の頂点に対して, bit[start_time[v]]に +1 加算\n",
        "# 3. [L, R]区間に存在する, Depth d以下の頂点の個数 g を計算\n",
        "# 4. クエリi に対して, g - h が答え\n",
        "for d in range(N):\n",
        "    if not query[d]: continue\n",
        "    for i, u in query[d]:\n",
        "        s, e = start_time[u], end_time[u]\n",
        "        ans[i] -= bit.sum_range(s, e)\n",
        "    \n",
        "    dq = depth_query[d]\n",
        "    while dq:\n",
        "        time = dq.popleft()\n",
        "        bit.update(time, 1)\n",
        "    \n",
        "    for i, u in query[d]:\n",
        "        s, e = start_time[u], end_time[u]\n",
        "        ans[i] += bit.sum_range(s, e)"
      ],
      "metadata": {
        "id": "DAYQpahPjWCK"
      },
      "execution_count": null,
      "outputs": []
    },
    {
      "cell_type": "code",
      "source": [
        "print(*ans)"
      ],
      "metadata": {
        "id": "1kl73Wloj2fo"
      },
      "execution_count": null,
      "outputs": []
    },
    {
      "cell_type": "markdown",
      "source": [
        "### 解法3: クエリ先よみ + DFS"
      ],
      "metadata": {
        "id": "IpHE0dosUqPY"
      }
    },
    {
      "cell_type": "code",
      "source": [
        "import sys\n",
        "from bisect import bisect_left\n",
        "sys.setrecursionlimit(10**7)"
      ],
      "metadata": {
        "id": "Sbiw9GzGPkkZ"
      },
      "execution_count": null,
      "outputs": []
    },
    {
      "cell_type": "code",
      "source": [
        "N = int(input())\n",
        "P = list(map(int, input().split()))\n",
        "Q = int(input())\n",
        "graph = [[] for _ in range(N)]\n",
        "for i, p in enumerate(P, start=1):\n",
        "    graph[p-1].append(i)"
      ],
      "metadata": {
        "colab": {
          "base_uri": "https://localhost:8080/"
        },
        "id": "nLbv5NXxVtNW",
        "outputId": "3b6c01e0-a8a1-468d-90bb-09bec2cf54d6"
      },
      "execution_count": null,
      "outputs": [
        {
          "name": "stdout",
          "output_type": "stream",
          "text": [
            "7\n",
            "1 1 2 2 4 2\n",
            "4\n"
          ]
        }
      ]
    },
    {
      "cell_type": "code",
      "source": [
        "query = [[] for _ in range(N)]\n",
        "ans = [0] * Q\n",
        "for i in range(Q):\n",
        "    u, d = map(int, input().split())\n",
        "    query[u-1].append([i, d])"
      ],
      "metadata": {
        "colab": {
          "base_uri": "https://localhost:8080/"
        },
        "id": "Kffa0wafVu09",
        "outputId": "58b8c311-672b-4c2d-e5a2-d5315f03979f"
      },
      "execution_count": null,
      "outputs": [
        {
          "name": "stdout",
          "output_type": "stream",
          "text": [
            "1 2\n",
            "7 2\n",
            "4 1\n",
            "5 5\n"
          ]
        }
      ]
    },
    {
      "cell_type": "code",
      "source": [
        "depth_cnt = [0] * N\n",
        "depth = [0] * N\n",
        "def dfs(now):\n",
        "    # クエリ処理: nowの部分木に入る前のdepth_cntの記録\n",
        "    for i, d in query[now]:\n",
        "        ans[i] -= depth_cnt[d]\n",
        "\n",
        "    # depth_cntの更新\n",
        "    depth_cnt[depth[now]] += 1\n",
        "    # nowの部分木に突入\n",
        "    for to in graph[now]:\n",
        "        depth[to] = depth[now] + 1\n",
        "        dfs(to)\n",
        "\n",
        "    # クエリ処理: nowの部分木に入った後のdepth_cntの記録\n",
        "    for i, d in query[now]:\n",
        "        ans[i] += depth_cnt[d]"
      ],
      "metadata": {
        "id": "_JRadR_3WB32"
      },
      "execution_count": null,
      "outputs": []
    },
    {
      "cell_type": "code",
      "source": [
        "dfs(0)"
      ],
      "metadata": {
        "id": "YC_j1q9VW309"
      },
      "execution_count": null,
      "outputs": []
    },
    {
      "cell_type": "code",
      "source": [
        "print(*ans)"
      ],
      "metadata": {
        "colab": {
          "base_uri": "https://localhost:8080/"
        },
        "id": "8qNsU-eJW62N",
        "outputId": "307ad2a2-ab78-4060-e103-1dac6af849f2"
      },
      "execution_count": null,
      "outputs": [
        {
          "output_type": "stream",
          "name": "stdout",
          "text": [
            "0 1 0 0\n"
          ]
        }
      ]
    }
  ]
}