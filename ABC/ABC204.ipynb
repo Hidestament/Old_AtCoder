{
  "nbformat": 4,
  "nbformat_minor": 0,
  "metadata": {
    "colab": {
      "name": "ABC204.ipynb",
      "provenance": [],
      "collapsed_sections": [],
      "authorship_tag": "ABX9TyPoBwh4Td5bFr5Rqkp9KXl/",
      "include_colab_link": true
    },
    "kernelspec": {
      "name": "python3",
      "display_name": "Python 3"
    },
    "language_info": {
      "name": "python"
    }
  },
  "cells": [
    {
      "cell_type": "markdown",
      "metadata": {
        "id": "view-in-github",
        "colab_type": "text"
      },
      "source": [
        "<a href=\"https://colab.research.google.com/github/Hidestament/AtCoder/blob/main/ABC/ABC204.ipynb\" target=\"_parent\"><img src=\"https://colab.research.google.com/assets/colab-badge.svg\" alt=\"Open In Colab\"/></a>"
      ]
    },
    {
      "cell_type": "markdown",
      "source": [
        "# [AtCoder Beginner Contest 204](https://atcoder.jp/contests/abc204)"
      ],
      "metadata": {
        "id": "plIfxDDOa2Nw"
      }
    },
    {
      "cell_type": "markdown",
      "source": [
        "## [A - Rock-paper-scissors](https://atcoder.jp/contests/abc204/tasks/abc204_a)"
      ],
      "metadata": {
        "id": "k0F9-67Oa4D6"
      }
    },
    {
      "cell_type": "code",
      "execution_count": null,
      "metadata": {
        "id": "0aAfqITka07Y"
      },
      "outputs": [],
      "source": [
        "x, y = map(int, input().split())\n",
        "if x == y:\n",
        "    print(x)\n",
        "else:\n",
        "    print(3 - x - y)"
      ]
    },
    {
      "cell_type": "markdown",
      "source": [
        "## [B - Nuts](https://atcoder.jp/contests/abc204/tasks/abc204_b)"
      ],
      "metadata": {
        "id": "1u_kiONQbHrw"
      }
    },
    {
      "cell_type": "code",
      "source": [
        "N = int(input())\n",
        "A = list(map(int, input().split()))\n",
        "cnt = 0\n",
        "for a in A:\n",
        "    if a <= 10: continue\n",
        "    cnt += a - 10\n",
        "print(cnt)"
      ],
      "metadata": {
        "id": "YaGpcT6cbLFG"
      },
      "execution_count": null,
      "outputs": []
    },
    {
      "cell_type": "markdown",
      "source": [
        "## [C - Tour](https://atcoder.jp/contests/abc204/tasks/abc204_c)"
      ],
      "metadata": {
        "id": "8y80MkKSbZce"
      }
    },
    {
      "cell_type": "code",
      "source": [
        "N, M = map(int, input().split())\n",
        "graph = [[] for _ in range(N)]\n",
        "for _ in range(M):\n",
        "    A, B = map(int, input().split())\n",
        "    A -= 1\n",
        "    B -= 1\n",
        "    graph[A].append(B)"
      ],
      "metadata": {
        "id": "c-Q135GxhqQk"
      },
      "execution_count": null,
      "outputs": []
    },
    {
      "cell_type": "code",
      "source": [
        "from collections import deque\n",
        "def bfs(s):\n",
        "    dq = deque([s])\n",
        "    flag = [0] * N\n",
        "    flag[s] = 1\n",
        "    while dq:\n",
        "        now = dq.popleft()\n",
        "        for to in graph[now]:\n",
        "            if not flag[to]:\n",
        "                flag[to] = 1\n",
        "                dq.append(to)\n",
        "    return flag.count(1)"
      ],
      "metadata": {
        "id": "v_MXNzlsh-BS"
      },
      "execution_count": null,
      "outputs": []
    },
    {
      "cell_type": "code",
      "source": [
        "ans = 0\n",
        "for v in range(N):\n",
        "    ans += bfs(v)\n",
        "print(ans)"
      ],
      "metadata": {
        "id": "TGoMPCschqNb"
      },
      "execution_count": null,
      "outputs": []
    },
    {
      "cell_type": "markdown",
      "source": [
        "## [D - Cooking](https://atcoder.jp/contests/abc204/tasks/abc204_d)"
      ],
      "metadata": {
        "id": "pD1OtD-qcgGX"
      }
    },
    {
      "cell_type": "code",
      "source": [
        "N = int(input())\n",
        "T = list(map(int, input().split()))\n",
        "S = sum(T)"
      ],
      "metadata": {
        "colab": {
          "base_uri": "https://localhost:8080/"
        },
        "id": "qeZ-MfUdiyVi",
        "outputId": "de41de46-218d-4f8d-d527-3f3b508cf4bb"
      },
      "execution_count": 2,
      "outputs": [
        {
          "name": "stdout",
          "output_type": "stream",
          "text": [
            "5\n",
            "8 3 7 2 5\n"
          ]
        }
      ]
    },
    {
      "cell_type": "code",
      "source": [
        "# DP[i][s]: i番目までを使って, 合計時間をsにできるかどうか\n",
        "DP = [[0] * (1 + S//2) for _ in range(N+1)]\n",
        "DP[0][0] = 1"
      ],
      "metadata": {
        "id": "K0HCY-oPiySl"
      },
      "execution_count": 3,
      "outputs": []
    },
    {
      "cell_type": "code",
      "source": [
        "for i in range(1, N+1):\n",
        "    t = T[i-1]\n",
        "    for s in range(1 + S//2):\n",
        "        # T[i]を使用しない場合\n",
        "        DP[i][s] = DP[i-1][s]\n",
        "        # T[i]を使用する場合\n",
        "        if s - t >= 0:\n",
        "            DP[i][s] = DP[i][s] | DP[i-1][s - t]"
      ],
      "metadata": {
        "id": "t7jUr8C8iyP5"
      },
      "execution_count": 4,
      "outputs": []
    },
    {
      "cell_type": "code",
      "source": [
        "for i in range(S//2, -1, -1):\n",
        "    if DP[N][i] == 1:\n",
        "        print(max(i, S - i))\n",
        "        break"
      ],
      "metadata": {
        "colab": {
          "base_uri": "https://localhost:8080/"
        },
        "id": "d0utNpb6iyM8",
        "outputId": "e78a8d57-c37c-4acb-808f-be519e9d44e0"
      },
      "execution_count": 9,
      "outputs": [
        {
          "output_type": "stream",
          "name": "stdout",
          "text": [
            "13\n"
          ]
        }
      ]
    }
  ]
}