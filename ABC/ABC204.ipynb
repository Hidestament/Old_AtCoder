{
  "nbformat": 4,
  "nbformat_minor": 0,
  "metadata": {
    "colab": {
      "name": "ABC204.ipynb",
      "provenance": [],
      "authorship_tag": "ABX9TyPPqwf0QpZHG6sx7CweMz/J",
      "include_colab_link": true
    },
    "kernelspec": {
      "name": "python3",
      "display_name": "Python 3"
    },
    "language_info": {
      "name": "python"
    }
  },
  "cells": [
    {
      "cell_type": "markdown",
      "metadata": {
        "id": "view-in-github",
        "colab_type": "text"
      },
      "source": [
        "<a href=\"https://colab.research.google.com/github/Hidestament/AtCoder/blob/main/ABC/ABC204.ipynb\" target=\"_parent\"><img src=\"https://colab.research.google.com/assets/colab-badge.svg\" alt=\"Open In Colab\"/></a>"
      ]
    },
    {
      "cell_type": "markdown",
      "metadata": {
        "id": "FK1bH2p5R8mb"
      },
      "source": [
        "# ABC204\n",
        "https://atcoder.jp/contests/abc204"
      ]
    },
    {
      "cell_type": "markdown",
      "metadata": {
        "id": "sJ-WF1ZiR--p"
      },
      "source": [
        "## A - Rock-paper-scissors"
      ]
    },
    {
      "cell_type": "code",
      "metadata": {
        "colab": {
          "base_uri": "https://localhost:8080/"
        },
        "id": "aVSH5z3LR62H",
        "outputId": "36779669-93b6-44d0-a95a-2839f137cd93"
      },
      "source": [
        "x,y = map(int, input().split())\n",
        "print(x if x == y else 3 - x - y)"
      ],
      "execution_count": 1,
      "outputs": [
        {
          "output_type": "stream",
          "text": [
            "0 1\n",
            "2\n"
          ],
          "name": "stdout"
        }
      ]
    },
    {
      "cell_type": "markdown",
      "metadata": {
        "id": "mrT1T19HSlLk"
      },
      "source": [
        "## B - Nuts"
      ]
    },
    {
      "cell_type": "code",
      "metadata": {
        "colab": {
          "base_uri": "https://localhost:8080/"
        },
        "id": "GK-67O4OShj0",
        "outputId": "cd6fe776-39a1-46cd-c063-e59323a327cc"
      },
      "source": [
        "N = int(input())\n",
        "A = list(map(int, input().split()))"
      ],
      "execution_count": 4,
      "outputs": [
        {
          "output_type": "stream",
          "text": [
            "4\n",
            "8 9 10 11\n"
          ],
          "name": "stdout"
        }
      ]
    },
    {
      "cell_type": "code",
      "metadata": {
        "colab": {
          "base_uri": "https://localhost:8080/"
        },
        "id": "7Ov_ipcb4gDZ",
        "outputId": "08f30bcd-0594-48f3-a6e4-caeef6bd5644"
      },
      "source": [
        "ans = 0\n",
        "for i in A:\n",
        "  if i > 10:\n",
        "    ans += i - 10\n",
        "print(ans)"
      ],
      "execution_count": 5,
      "outputs": [
        {
          "output_type": "stream",
          "text": [
            "1\n"
          ],
          "name": "stdout"
        }
      ]
    },
    {
      "cell_type": "markdown",
      "metadata": {
        "id": "wuUJz3eH4yhN"
      },
      "source": [
        "## C - Tour"
      ]
    },
    {
      "cell_type": "markdown",
      "metadata": {
        "id": "WJ5-WMhEM-sk"
      },
      "source": [
        "ある頂点に到達できるかどうかは基本的に, BFS or DFSを使う.\n",
        "\n",
        "これらの計算量は, $O(V+E)$"
      ]
    },
    {
      "cell_type": "code",
      "metadata": {
        "colab": {
          "base_uri": "https://localhost:8080/"
        },
        "id": "RFzP92RL4uXQ",
        "outputId": "8b253e66-b08d-4717-9ac4-c6390af33178"
      },
      "source": [
        "n, m = map(int, input().split())"
      ],
      "execution_count": 50,
      "outputs": [
        {
          "output_type": "stream",
          "text": [
            "4 4\n"
          ],
          "name": "stdout"
        }
      ]
    },
    {
      "cell_type": "markdown",
      "metadata": {
        "id": "RLarv8I5N2k0"
      },
      "source": [
        "ある頂点に接続する頂点をリストとして保存してグラフ構造を持つ"
      ]
    },
    {
      "cell_type": "code",
      "metadata": {
        "colab": {
          "base_uri": "https://localhost:8080/"
        },
        "id": "iIpR_sPK_olC",
        "outputId": "2b495a43-0a48-44b1-d99c-da5cacaf8c0d"
      },
      "source": [
        "g = [[] for _ in range(n+1)]\n",
        "for _ in range(m):\n",
        "  a, b = map(int, input().split())\n",
        "  g[a].append(b)"
      ],
      "execution_count": 51,
      "outputs": [
        {
          "output_type": "stream",
          "text": [
            "1 2\n",
            "2 3\n",
            "3 4\n",
            "4 1\n"
          ],
          "name": "stdout"
        }
      ]
    },
    {
      "cell_type": "markdown",
      "metadata": {
        "id": "wsPUIPJBN7sg"
      },
      "source": [
        "### BFS(幅優先探索)\n",
        "幅優先探索あんまり使ったことなかった. 参考にした記事\n",
        "\n",
        "基本的な考え方 : https://note.com/momomo0214/n/nee9ff9511ffd\n",
        "\n",
        "Pythonでの実装 : https://ebisuke33.hatenablog.com/entry/abc204c"
      ]
    },
    {
      "cell_type": "code",
      "metadata": {
        "id": "rvvMrjkB_oiM"
      },
      "source": [
        "from collections import deque"
      ],
      "execution_count": 52,
      "outputs": []
    },
    {
      "cell_type": "code",
      "metadata": {
        "id": "_xVmVFqWD681"
      },
      "source": [
        "def bfs(v):\n",
        "  global ans\n",
        "  visited = [0] * (n+1)\n",
        "  v_list = deque([v])\n",
        "  visited[v] = 1\n",
        "  ans += 1\n",
        "  while len(v_list):\n",
        "    next = v_list.popleft()\n",
        "    for j in g[next]:\n",
        "      if visited[j] == 0:\n",
        "        visited[j] = 1\n",
        "        v_list.append(j)\n",
        "        ans += 1\n",
        "  return"
      ],
      "execution_count": 53,
      "outputs": []
    },
    {
      "cell_type": "code",
      "metadata": {
        "colab": {
          "base_uri": "https://localhost:8080/"
        },
        "id": "nPB-meZMD655",
        "outputId": "1eafc1f3-6241-43d1-fdce-56f23420216c"
      },
      "source": [
        "ans = 0\n",
        "for v in range(1, n+1):\n",
        "  bfs(v)\n",
        "print(ans)"
      ],
      "execution_count": 54,
      "outputs": [
        {
          "output_type": "stream",
          "text": [
            "16\n"
          ],
          "name": "stdout"
        }
      ]
    },
    {
      "cell_type": "markdown",
      "metadata": {
        "id": "9VCweUV4OQnG"
      },
      "source": [
        "### DFS(深さ優先探索)\n",
        "DFSは再帰で書くと楽. このとき再帰上限を上げとかないとREになった.\n",
        "\n",
        "参考 : https://atcoder.jp/contests/abc204/editorial/1991\n",
        "これも : https://qiita.com/u2dayo/items/1ed77ef0ac2cf3de7c15#c%E5%95%8F%E9%A1%8Ctour\n"
      ]
    },
    {
      "cell_type": "code",
      "metadata": {
        "id": "nRkhftd9TkDG"
      },
      "source": [
        "# 再帰上限を上げる\n",
        "import sys\n",
        "sys.setrecursionlimit(10 ** 6)"
      ],
      "execution_count": 97,
      "outputs": []
    },
    {
      "cell_type": "code",
      "metadata": {
        "id": "Hrc9rImIOcn2"
      },
      "source": [
        "# 今いる頂点を探索済にして, その隣接頂点に対して再帰的に同様の操作を行う\n",
        "def dfs(v):\n",
        "  visited[v] = 1\n",
        "  for vv in g[v]:\n",
        "    if visited[vv] == 0:\n",
        "      dfs(vv)"
      ],
      "execution_count": 98,
      "outputs": []
    },
    {
      "cell_type": "code",
      "metadata": {
        "colab": {
          "base_uri": "https://localhost:8080/"
        },
        "id": "Xf7Siqn7PeVK",
        "outputId": "58a7b2df-581a-4b40-a716-57693d532f49"
      },
      "source": [
        "n, m = map(int, input().split())\n",
        "g = [[] for _ in range(n+1)]\n",
        "for _ in range(m):\n",
        "  a, b = map(int, input().split())\n",
        "  g[a].append(b)"
      ],
      "execution_count": 99,
      "outputs": [
        {
          "output_type": "stream",
          "text": [
            "3 3\n",
            "1 2\n",
            "2 3\n",
            "3 2\n"
          ],
          "name": "stdout"
        }
      ]
    },
    {
      "cell_type": "code",
      "metadata": {
        "colab": {
          "base_uri": "https://localhost:8080/"
        },
        "id": "RvcaAs7iPUqG",
        "outputId": "982b2dff-ce36-4041-dddb-42f919e26078"
      },
      "source": [
        "ans = 0\n",
        "for v in range(1, n+1):\n",
        "  visited = [0] * (n+1)\n",
        "  dfs(v)\n",
        "  ans += sum(visited)\n",
        "print(ans)"
      ],
      "execution_count": 100,
      "outputs": [
        {
          "output_type": "stream",
          "text": [
            "7\n"
          ],
          "name": "stdout"
        }
      ]
    }
  ]
}