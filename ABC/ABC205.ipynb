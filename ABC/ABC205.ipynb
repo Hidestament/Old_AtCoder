{
  "nbformat": 4,
  "nbformat_minor": 0,
  "metadata": {
    "colab": {
      "name": "ABC205.ipynb",
      "provenance": [],
      "authorship_tag": "ABX9TyMWgYja1aNG8wvzkAxBRqsX",
      "include_colab_link": true
    },
    "kernelspec": {
      "name": "python3",
      "display_name": "Python 3"
    },
    "language_info": {
      "name": "python"
    }
  },
  "cells": [
    {
      "cell_type": "markdown",
      "metadata": {
        "id": "view-in-github",
        "colab_type": "text"
      },
      "source": [
        "<a href=\"https://colab.research.google.com/github/Hidestament/AtCoder/blob/main/ABC/ABC205.ipynb\" target=\"_parent\"><img src=\"https://colab.research.google.com/assets/colab-badge.svg\" alt=\"Open In Colab\"/></a>"
      ]
    },
    {
      "cell_type": "markdown",
      "metadata": {
        "id": "l8XyoYK0rHLY"
      },
      "source": [
        "# ABC 206\n",
        "https://atcoder.jp/contests/abc205"
      ]
    },
    {
      "cell_type": "markdown",
      "metadata": {
        "id": "ljaJAytCPjBJ"
      },
      "source": [
        "## A - kcal\n",
        "https://atcoder.jp/contests/abc205/tasks/abc205_a"
      ]
    },
    {
      "cell_type": "code",
      "metadata": {
        "colab": {
          "base_uri": "https://localhost:8080/"
        },
        "id": "69mnRoBaPg12",
        "outputId": "55a515df-90e0-4ecb-8065-ac5c1c52a6ec"
      },
      "source": [
        "a,b = map(int, input().split())\n",
        "print(a * (b / 100))"
      ],
      "execution_count": null,
      "outputs": [
        {
          "output_type": "stream",
          "text": [
            "37 450\n",
            "166.5\n"
          ],
          "name": "stdout"
        }
      ]
    },
    {
      "cell_type": "markdown",
      "metadata": {
        "id": "kKJOd8ahP1mH"
      },
      "source": [
        "## B - Permutation Check\n",
        "https://atcoder.jp/contests/abc205/tasks/abc205_b"
      ]
    },
    {
      "cell_type": "code",
      "metadata": {
        "colab": {
          "base_uri": "https://localhost:8080/"
        },
        "id": "Gp6_vZUZPvLc",
        "outputId": "a17b203a-249e-4bd8-d3d3-5a2c179dc65a"
      },
      "source": [
        "N = int(input())\n",
        "A = sorted(list(map(int, input().split())))\n",
        "ans = [i for i in range(1, N+1)]\n",
        "print(\"Yes\" if A == ans else \"No\")"
      ],
      "execution_count": null,
      "outputs": [
        {
          "output_type": "stream",
          "text": [
            "1\n",
            "1\n",
            "Yes\n"
          ],
          "name": "stdout"
        }
      ]
    },
    {
      "cell_type": "markdown",
      "metadata": {
        "id": "f2rQcTQwr5HK"
      },
      "source": [
        "次のでもOK"
      ]
    },
    {
      "cell_type": "code",
      "metadata": {
        "id": "_6h4EpOFr5ZC"
      },
      "source": [
        "N = int(input())\n",
        "A = sorted(list(map(int, input().split())))\n",
        "for i in range(N):\n",
        "  if A[i] != i + 1:\n",
        "    print(\"No\")\n",
        "    exit()\n",
        "print(\"Yes\")"
      ],
      "execution_count": null,
      "outputs": []
    },
    {
      "cell_type": "markdown",
      "metadata": {
        "id": "3D_OwZdzQVJf"
      },
      "source": [
        "## C - POW\n",
        "https://atcoder.jp/contests/abc205/tasks/abc205_c"
      ]
    },
    {
      "cell_type": "markdown",
      "metadata": {
        "id": "EaRFs-8JsW_t"
      },
      "source": [
        "### コンテスト中にACしたコード\n",
        "コンテスト中はとんでもない分岐のコードを書いてしまった"
      ]
    },
    {
      "cell_type": "code",
      "metadata": {
        "colab": {
          "base_uri": "https://localhost:8080/"
        },
        "id": "uL7ndxHaQEyz",
        "outputId": "70c2bd5b-fd99-4bbd-905c-6cda4f7f550c"
      },
      "source": [
        "A,B,C = map(int, input().split())"
      ],
      "execution_count": null,
      "outputs": [
        {
          "output_type": "stream",
          "text": [
            "-8 6 3\n"
          ],
          "name": "stdout"
        }
      ]
    },
    {
      "cell_type": "code",
      "metadata": {
        "colab": {
          "base_uri": "https://localhost:8080/"
        },
        "id": "vR7mBXOEQH6u",
        "outputId": "5abec158-3ab2-41fe-a3d5-626dec913329"
      },
      "source": [
        "if A >= 0 and B >= 0:\n",
        "  if A > B:\n",
        "    print(\">\")\n",
        "  elif A < B:\n",
        "    print(\"<\")\n",
        "  else:\n",
        "    print(\"=\")\n",
        "\n",
        "elif A >= 0 and B < 0:\n",
        "  B *= -1\n",
        "  if C % 2 == 0:\n",
        "    if A > B:\n",
        "      print(\">\")\n",
        "    elif A < B:\n",
        "      print(\"<\")\n",
        "    else:\n",
        "      print(\"=\")\n",
        "  else:\n",
        "    print(\">\")\n",
        "\n",
        "elif A < 0 and B >= 0:\n",
        "  A *= -1\n",
        "  if C % 2 == 0:\n",
        "    if A > B:\n",
        "      print(\">\")\n",
        "    elif A < B:\n",
        "      print(\"<\")\n",
        "    else:\n",
        "      print(\"=\")\n",
        "  else:\n",
        "    print(\"<\")\n",
        "\n",
        "elif A < 0 and B < 0:\n",
        "  A *= -1\n",
        "  B *= -1\n",
        "  if C % 2 == 0:\n",
        "    if A > B:\n",
        "      print(\">\")\n",
        "    elif A < B:\n",
        "      print(\"<\")\n",
        "    else:\n",
        "      print(\"=\")\n",
        "  else:\n",
        "    if A > B:\n",
        "      print(\"<\")\n",
        "    elif A < B:\n",
        "      print(\">\")\n",
        "    else:\n",
        "      print(\"=\")\n",
        "    "
      ],
      "execution_count": null,
      "outputs": [
        {
          "output_type": "stream",
          "text": [
            "<\n"
          ],
          "name": "stdout"
        }
      ]
    },
    {
      "cell_type": "markdown",
      "metadata": {
        "id": "MXS89EMescHH"
      },
      "source": [
        "### もう少しきれいに掛けないか考える\n",
        "Cが奇数か偶数かを先に分岐させれば簡単になる.\n",
        "\n",
        "Cが偶数の場合は, $A^C$と$B^C$が必ず非負になるので, $A$と$B$の絶対値を比較すれば良い.\n",
        "\n",
        "奇数の場合は, $x < 0$なら$x^c < 0 $になり, $x >= 0 $なら$x^c >= 0$になるので, そのまま$A$と$B$の値を比較すれば良い."
      ]
    },
    {
      "cell_type": "code",
      "metadata": {
        "colab": {
          "base_uri": "https://localhost:8080/"
        },
        "id": "bP7_PTHmsesF",
        "outputId": "e70c9a30-97a2-4988-b42a-5f4b353c5a4c"
      },
      "source": [
        "A,B,C = map(int, input().split())"
      ],
      "execution_count": null,
      "outputs": [
        {
          "output_type": "stream",
          "text": [
            "-8 6 3\n"
          ],
          "name": "stdout"
        }
      ]
    },
    {
      "cell_type": "code",
      "metadata": {
        "colab": {
          "base_uri": "https://localhost:8080/"
        },
        "id": "GKeVocoVuBKi",
        "outputId": "5b225fcb-b3b1-4c14-f261-22efa4599e5c"
      },
      "source": [
        "if C % 2 == 0:\n",
        "  A, B = abs(A), abs(B)\n",
        "if A > B: print(\">\")\n",
        "elif A < B: print(\"<\")\n",
        "else: print(\"=\")"
      ],
      "execution_count": null,
      "outputs": [
        {
          "output_type": "stream",
          "text": [
            "<\n"
          ],
          "name": "stdout"
        }
      ]
    },
    {
      "cell_type": "markdown",
      "metadata": {
        "id": "pqxvO-TmSXU2"
      },
      "source": [
        "## D - Kth Excluded\n",
        "https://atcoder.jp/contests/abc205/tasks/abc205_d\n",
        "\n",
        "ここに簡単にまとめた\n",
        "https://qiita.com/snhrhdt/items/378de323285f6ce46afa"
      ]
    },
    {
      "cell_type": "markdown",
      "metadata": {
        "id": "k-yLYdMzvs9i"
      },
      "source": [
        "やり方はわかった. 累積和 + 二分探索をする.\n",
        "\n",
        "しかし実装がめちゃくちゃになってしまって, WAだった。。。。。。"
      ]
    },
    {
      "cell_type": "markdown",
      "metadata": {
        "id": "Xl657uOMIw6f"
      },
      "source": [
        "A = [A0, A1, A2, ..., ]\n",
        "\n",
        "Aのi項目, つまりAiよりも前に良い数字がいくつあるかの配列\n",
        "\n",
        "good_num = [A0より前, A1より前, A2より前, A3より前, ... , ]\n",
        "\n",
        "を作る"
      ]
    },
    {
      "cell_type": "markdown",
      "metadata": {
        "id": "pIUWa8B6Iw3w"
      },
      "source": [
        "k番目の良い数字を求めるために, good numがk以上となる最小の数字を求める.\n",
        "\n",
        "これを$s_k$とする.\n",
        "\n",
        "数直線上でちゃんと確かめれば"
      ]
    },
    {
      "cell_type": "markdown",
      "metadata": {
        "id": "ABtOWvK2Iw0m"
      },
      "source": [
        "(A[s_k] - 1) - (g[k] - s)"
      ]
    },
    {
      "cell_type": "markdown",
      "metadata": {
        "id": "_ZvuyYQDIwuQ"
      },
      "source": [
        "A = [1, 3, 6, 7]\n",
        "g = [0, 1, 3, 3]\n",
        "\n",
        "k = 2 とすると, s = 2\n",
        "\n"
      ]
    },
    {
      "cell_type": "markdown",
      "metadata": {
        "id": "FP4AYZUSIwoJ"
      },
      "source": [
        "g[-1] < kのときは少し事情が変わる.\n",
        "\n",
        "A[-1] + (k - g[-1])"
      ]
    },
    {
      "cell_type": "code",
      "metadata": {
        "colab": {
          "base_uri": "https://localhost:8080/"
        },
        "id": "0rMWyVWlMPiF",
        "outputId": "4f32b378-e0c6-4885-8475-2f6a1750d144"
      },
      "source": [
        "N, Q = map(int, input().split())\n",
        "A = list(map(int, input().split()))"
      ],
      "execution_count": 12,
      "outputs": [
        {
          "output_type": "stream",
          "text": [
            "4 3\n",
            "3 5 6 7\n"
          ],
          "name": "stdout"
        }
      ]
    },
    {
      "cell_type": "code",
      "metadata": {
        "id": "i1IaM6aDMPfU"
      },
      "source": [
        "good_num = [0 for i in range(len(A))]\n",
        "good_num[0] = A[0] - 1\n",
        "for i in range(1, len(A)):\n",
        "  good_num[i] = good_num[i-1] + (A[i] - A[i-1] - 1)"
      ],
      "execution_count": 13,
      "outputs": []
    },
    {
      "cell_type": "markdown",
      "metadata": {
        "id": "Y-Wh0xPeNKu5"
      },
      "source": [
        "### がばったのでリニア探索でやってみる\n",
        "二分探索でがばったので, リニア探索でちょっとちゃんとできるかを確かめる.\n",
        "\n",
        "あってそう. しかし時間は間に合わない"
      ]
    },
    {
      "cell_type": "code",
      "metadata": {
        "id": "CRyUXYqfQMCv"
      },
      "source": [
        "def linear_search(data, k):\n",
        "  for i in range(len(data)):\n",
        "    if data[i] >= k:\n",
        "      return i"
      ],
      "execution_count": 5,
      "outputs": []
    },
    {
      "cell_type": "code",
      "metadata": {
        "colab": {
          "base_uri": "https://localhost:8080/"
        },
        "id": "yZV_G8QfShYv",
        "outputId": "d93e5bdc-f469-44c0-9eaf-6681246963dc"
      },
      "source": [
        "for _ in range(Q):\n",
        "  k = int(input())\n",
        "  if good_num[-1] < k:\n",
        "    ans = A[-1] + (k - good_num[-1])\n",
        "  else:\n",
        "    s = linear_search(good_num, k)\n",
        "    ans = (A[s] - 1) - (good_num[s] - k)\n",
        "  print(ans)"
      ],
      "execution_count": 6,
      "outputs": [
        {
          "output_type": "stream",
          "text": [
            "2\n",
            "2\n",
            "5\n",
            "9\n",
            "3\n",
            "4\n"
          ],
          "name": "stdout"
        }
      ]
    },
    {
      "cell_type": "markdown",
      "metadata": {
        "id": "9p5cgJPUS8AL"
      },
      "source": [
        "### 二分探索\n",
        "リニアだとできたけどTLEになるので, 二分探索を実装する\n",
        "\n",
        "この記事を参考にした\n",
        "https://qiita.com/drken/items/97e37dd6143e33a64c8c"
      ]
    },
    {
      "cell_type": "code",
      "metadata": {
        "id": "AXjVLECnRt4b"
      },
      "source": [
        "def binary_search(data, k):\n",
        "  left = 0\n",
        "  right = len(data) - 1\n",
        "  while right - left > 1:\n",
        "    mid = (left + right) // 2\n",
        "    if data[mid] >= k:\n",
        "      right = mid\n",
        "    else:\n",
        "      left = mid\n",
        "  return right"
      ],
      "execution_count": 14,
      "outputs": []
    },
    {
      "cell_type": "code",
      "metadata": {
        "colab": {
          "base_uri": "https://localhost:8080/"
        },
        "id": "NSy-Deb-Rt1W",
        "outputId": "64ad6402-7eb6-4442-e237-69ba9e4a3e9d"
      },
      "source": [
        "for _ in range(Q):\n",
        "  k = int(input())\n",
        "  if good_num[0] >= k:\n",
        "    ans = k\n",
        "  elif good_num[-1] < k:\n",
        "    ans = A[-1] + (k - good_num[-1])\n",
        "  else:\n",
        "    s = binary_search(good_num, k)\n",
        "    ans = (A[s] - 1) - (good_num[s] - k)\n",
        "  print(ans)"
      ],
      "execution_count": 15,
      "outputs": [
        {
          "output_type": "stream",
          "text": [
            "2\n",
            "2\n",
            "5\n",
            "9\n",
            "3\n",
            "4\n"
          ],
          "name": "stdout"
        }
      ]
    }
  ]
}