{
  "nbformat": 4,
  "nbformat_minor": 0,
  "metadata": {
    "colab": {
      "name": "ABC205.ipynb",
      "provenance": [],
      "authorship_tag": "ABX9TyOY5OjUaWOAeZ7IP9LQwp6J",
      "include_colab_link": true
    },
    "kernelspec": {
      "name": "python3",
      "display_name": "Python 3"
    },
    "language_info": {
      "name": "python"
    }
  },
  "cells": [
    {
      "cell_type": "markdown",
      "metadata": {
        "id": "view-in-github",
        "colab_type": "text"
      },
      "source": [
        "<a href=\"https://colab.research.google.com/github/Hidestament/AtCoder/blob/main/ABC/ABC205.ipynb\" target=\"_parent\"><img src=\"https://colab.research.google.com/assets/colab-badge.svg\" alt=\"Open In Colab\"/></a>"
      ]
    },
    {
      "cell_type": "markdown",
      "source": [
        "# [AtCoder Beginner Contest 205](https://atcoder.jp/contests/abc205)"
      ],
      "metadata": {
        "id": "fBb997yr0aHk"
      }
    },
    {
      "cell_type": "markdown",
      "source": [
        "## [A - kcal](https://atcoder.jp/contests/abc205/tasks/abc205_a)"
      ],
      "metadata": {
        "id": "kyCYKGH10bac"
      }
    },
    {
      "cell_type": "code",
      "execution_count": null,
      "metadata": {
        "id": "qOa01muBz0qo"
      },
      "outputs": [],
      "source": [
        "A, B = map(int, input().split())\n",
        "print((A/100) * B)"
      ]
    },
    {
      "cell_type": "markdown",
      "source": [
        "## [B - Permutation Check](https://atcoder.jp/contests/abc205/tasks/abc205_b)"
      ],
      "metadata": {
        "id": "OWnF0Apw0nF_"
      }
    },
    {
      "cell_type": "code",
      "source": [
        "N = int(input())\n",
        "A = list(map(int, input().split()))\n",
        "A.sort()\n",
        "ans = [i+1 for i in range(N)]\n",
        "print(\"Yes\" if A == ans else \"No\")"
      ],
      "metadata": {
        "id": "r7nvaUjJ0pcW"
      },
      "execution_count": null,
      "outputs": []
    },
    {
      "cell_type": "markdown",
      "source": [
        "## [C - POW](https://atcoder.jp/contests/abc205/tasks/abc205_c)"
      ],
      "metadata": {
        "id": "a2SNCMRU03tb"
      }
    },
    {
      "cell_type": "code",
      "source": [
        "A, B, C = map(int, input().split())"
      ],
      "metadata": {
        "colab": {
          "base_uri": "https://localhost:8080/"
        },
        "id": "NjRzople06hi",
        "outputId": "ed10f46e-b43a-4e48-c515-4d49641e03f6"
      },
      "execution_count": null,
      "outputs": [
        {
          "output_type": "execute_result",
          "data": {
            "text/plain": [
              "{1, 2, 3}"
            ]
          },
          "metadata": {},
          "execution_count": 1
        }
      ]
    },
    {
      "cell_type": "code",
      "source": [
        "if A == B:\n",
        "    print(\"=\")\n",
        "else:\n",
        "    if C % 2 == 0:\n",
        "        if abs(A) > abs(B):\n",
        "            print(\">\")\n",
        "        elif abs(A) < abs(B):\n",
        "            print(\"<\")\n",
        "        else:\n",
        "            print(\"=\")\n",
        "    else:\n",
        "        if A > B:\n",
        "            print(\">\")\n",
        "        else:\n",
        "            print(\"<\")"
      ],
      "metadata": {
        "id": "DKNePvkF1Tag"
      },
      "execution_count": null,
      "outputs": []
    },
    {
      "cell_type": "markdown",
      "source": [
        "こっちのほうが良さそう"
      ],
      "metadata": {
        "id": "9Ojj20BZ8qmW"
      }
    },
    {
      "cell_type": "code",
      "source": [
        "A, B, C = map(int, input().split())"
      ],
      "metadata": {
        "id": "AuDAmSZ58uFj"
      },
      "execution_count": null,
      "outputs": []
    },
    {
      "cell_type": "code",
      "source": [
        "if C % 2 == 0:\n",
        "    if abs(A) > abs(B):\n",
        "        print(\">\")\n",
        "    elif abs(A) < abs(B):\n",
        "        print(\"<\")\n",
        "    else:\n",
        "        print(\"=\")\n",
        "else:\n",
        "    if A > B:\n",
        "        print(\">\")\n",
        "    elif A < B:\n",
        "        print(\"<\")\n",
        "    else:\n",
        "        print(\"=\")"
      ],
      "metadata": {
        "id": "ICNsz3ir8q1p"
      },
      "execution_count": null,
      "outputs": []
    },
    {
      "cell_type": "markdown",
      "source": [
        "## [D - Kth Excluded](https://atcoder.jp/contests/abc205/tasks/abc205_d)"
      ],
      "metadata": {
        "id": "wD4K2Zhd1K4q"
      }
    },
    {
      "cell_type": "code",
      "source": [
        "from itertools import accumulate\n",
        "from bisect import bisect_left\n",
        "\n",
        "\n",
        "N, Q = map(int, input().split())\n",
        "A = list(map(int, input().split()))"
      ],
      "metadata": {
        "colab": {
          "base_uri": "https://localhost:8080/"
        },
        "id": "cVSux_Ry07Ol",
        "outputId": "f5a3a8ed-d2b3-49ce-888a-357fa1c4b4ad"
      },
      "execution_count": null,
      "outputs": [
        {
          "name": "stdout",
          "output_type": "stream",
          "text": [
            "4 3\n",
            "3 5 6 7\n"
          ]
        }
      ]
    },
    {
      "cell_type": "code",
      "source": [
        "A = [0] + A + [10**19]\n",
        "diff = [A[i] - A[i-1] - 1 for i in range(1, len(A))]\n",
        "acc = [0] + list(accumulate(diff))"
      ],
      "metadata": {
        "id": "jpqa7O-p25J5"
      },
      "execution_count": null,
      "outputs": []
    },
    {
      "cell_type": "code",
      "source": [
        "for _ in range(Q):\n",
        "    k = int(input())\n",
        "    ind = bisect_left(acc, k)\n",
        "    res = k - acc[ind - 1]\n",
        "    print(A[ind-1] + res)"
      ],
      "metadata": {
        "colab": {
          "base_uri": "https://localhost:8080/"
        },
        "id": "dWALkvJ43dev",
        "outputId": "73fb79b4-1a1c-40e5-a264-8e1b37d0298b"
      },
      "execution_count": null,
      "outputs": [
        {
          "output_type": "stream",
          "name": "stdout",
          "text": [
            "2\n",
            "2\n",
            "5\n",
            "9\n",
            "3\n",
            "4\n"
          ]
        }
      ]
    },
    {
      "cell_type": "markdown",
      "source": [
        "### 解答2"
      ],
      "metadata": {
        "id": "rxzo99rlxWk_"
      }
    },
    {
      "cell_type": "code",
      "source": [
        "from bisect import bisect_left\n",
        "\n",
        "N, Q = map(int, input().split())\n",
        "A = list(map(int, input().split()))"
      ],
      "metadata": {
        "id": "aMnQ6aG47JAb"
      },
      "execution_count": null,
      "outputs": []
    },
    {
      "cell_type": "code",
      "source": [
        "diffs = [A[i] - (i + 1) for i in range(N)]\n",
        "for _ in range(Q):\n",
        "    K = int(input())\n",
        "    ind = bisect_left(diffs, K)\n",
        "    if ind == 0: print(K)\n",
        "    else:\n",
        "        print(A[ind-1] + (K - diffs[ind - 1]))"
      ],
      "metadata": {
        "id": "gp-SISBrxaNQ"
      },
      "execution_count": null,
      "outputs": []
    }
  ]
}