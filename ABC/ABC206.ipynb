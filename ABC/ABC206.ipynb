{
  "nbformat": 4,
  "nbformat_minor": 0,
  "metadata": {
    "colab": {
      "name": "ABC206.ipynb",
      "provenance": [],
      "authorship_tag": "ABX9TyPG79LWkAwrGYbSw3OvHSJn",
      "include_colab_link": true
    },
    "kernelspec": {
      "name": "python3",
      "display_name": "Python 3"
    },
    "language_info": {
      "name": "python"
    }
  },
  "cells": [
    {
      "cell_type": "markdown",
      "metadata": {
        "id": "view-in-github",
        "colab_type": "text"
      },
      "source": [
        "<a href=\"https://colab.research.google.com/github/Hidestament/AtCoder/blob/main/ABC/ABC206.ipynb\" target=\"_parent\"><img src=\"https://colab.research.google.com/assets/colab-badge.svg\" alt=\"Open In Colab\"/></a>"
      ]
    },
    {
      "cell_type": "markdown",
      "source": [
        "# [AtCoder Beginner Contest 206](https://atcoder.jp/contests/abc206)"
      ],
      "metadata": {
        "id": "6espfa4Sor6L"
      }
    },
    {
      "cell_type": "markdown",
      "source": [
        "## [A - Maxi-Buying](https://atcoder.jp/contests/abc206/tasks/abc206_a)"
      ],
      "metadata": {
        "id": "_46Lc0JrotuJ"
      }
    },
    {
      "cell_type": "code",
      "execution_count": null,
      "metadata": {
        "colab": {
          "base_uri": "https://localhost:8080/"
        },
        "id": "ch8gm7E1oqqc",
        "outputId": "8d3e4e7d-9a27-4641-97d3-310d7803aee5"
      },
      "outputs": [
        {
          "output_type": "stream",
          "name": "stdout",
          "text": [
            "200\n",
            "Yay!\n"
          ]
        }
      ],
      "source": [
        "N = int(input())\n",
        "N = int(1.08 * N)\n",
        "if N < 206:\n",
        "    print(\"Yay!\")\n",
        "elif N == 206:\n",
        "    print(\"so-so\")\n",
        "else:\n",
        "    print(\":(\")"
      ]
    },
    {
      "cell_type": "markdown",
      "source": [
        "## [B - Savings](https://atcoder.jp/contests/abc206/tasks/abc206_b)"
      ],
      "metadata": {
        "id": "5PWxcuMJpH6a"
      }
    },
    {
      "cell_type": "code",
      "source": [
        "N = int(input())\n",
        "now = 0\n",
        "cnt = 0\n",
        "while True:\n",
        "    cnt += 1\n",
        "    now += cnt\n",
        "    if now >= N:\n",
        "        print(cnt)\n",
        "        break"
      ],
      "metadata": {
        "colab": {
          "base_uri": "https://localhost:8080/"
        },
        "id": "hAmBO3p9o_zN",
        "outputId": "5d81cf32-9ab8-4257-f1ad-528894e3df6c"
      },
      "execution_count": null,
      "outputs": [
        {
          "output_type": "stream",
          "name": "stdout",
          "text": [
            "10000000000\n",
            "141421\n"
          ]
        }
      ]
    },
    {
      "cell_type": "markdown",
      "source": [
        "## [C - Swappable](https://atcoder.jp/contests/abc206/tasks/abc206_c)"
      ],
      "metadata": {
        "id": "Mgf9ah-Gpw9K"
      }
    },
    {
      "cell_type": "code",
      "source": [
        "N = int(input())\n",
        "A = list(map(int, input().split()))"
      ],
      "metadata": {
        "colab": {
          "base_uri": "https://localhost:8080/"
        },
        "id": "qFKDDy7HpD-r",
        "outputId": "aa8840aa-25bd-4156-964b-dc7e946fc27b"
      },
      "execution_count": null,
      "outputs": [
        {
          "name": "stdout",
          "output_type": "stream",
          "text": [
            "3\n",
            "1 7 1\n"
          ]
        }
      ]
    },
    {
      "cell_type": "code",
      "source": [
        "from collections import Counter\n",
        "cnt = Counter(A)\n",
        "ans = 0\n",
        "for i, a in enumerate(A):\n",
        "    ans += (N - i - cnt[a])\n",
        "    cnt[a] -= 1\n",
        "print(ans)"
      ],
      "metadata": {
        "colab": {
          "base_uri": "https://localhost:8080/"
        },
        "id": "l_W9xq7bp56H",
        "outputId": "f0d06d3d-04b8-4ceb-b647-749ef0ab7efb"
      },
      "execution_count": null,
      "outputs": [
        {
          "output_type": "stream",
          "name": "stdout",
          "text": [
            "2\n"
          ]
        }
      ]
    },
    {
      "cell_type": "markdown",
      "source": [
        "## [D - KAIBUNsyo](https://atcoder.jp/contests/abc206/tasks/abc206_d)"
      ],
      "metadata": {
        "id": "hVuQa0d-qYI8"
      }
    },
    {
      "cell_type": "code",
      "source": [
        "class UnionFindTree:\n",
        "    def __init__(self, n):\n",
        "        self.parents = [-1] * n\n",
        "  \n",
        "    def find(self, x):\n",
        "        if self.parents[x] < 0:\n",
        "            return x\n",
        "        else:\n",
        "            self.parents[x] = self.find(self.parents[x])\n",
        "            return self.find(self.parents[x])\n",
        "  \n",
        "    def union(self, x, y):\n",
        "        x = self.find(x)\n",
        "        y = self.find(y)\n",
        "        if x == y: return    \n",
        "        if self.parents[x] > self.parents[y]:\n",
        "            x, y = y, x\n",
        "        self.parents[x] += self.parents[y]\n",
        "        self.parents[y] = x\n",
        "\n",
        "    def same_check(self, x, y):\n",
        "        return self.find(x) == self.find(y)\n",
        "\n",
        "    def size(self, x):\n",
        "        return -1 * self.parents[self.find(x)]"
      ],
      "metadata": {
        "id": "pD1GNM-Kvf9H"
      },
      "execution_count": null,
      "outputs": []
    },
    {
      "cell_type": "code",
      "source": [
        "N = int(input())\n",
        "A = list(map(int, input().split()))\n",
        "uf = UnionFindTree(10**6)"
      ],
      "metadata": {
        "id": "ueKN4n4i_FiF"
      },
      "execution_count": null,
      "outputs": []
    },
    {
      "cell_type": "code",
      "source": [
        "for i in range(N//2):\n",
        "    uf.union(A[i], A[-(i+1)])"
      ],
      "metadata": {
        "id": "Ei-t2t3i_Fet"
      },
      "execution_count": null,
      "outputs": []
    },
    {
      "cell_type": "code",
      "source": [
        "ans = sum(abs(num) - 1 for num in uf.parents if num < 0)\n",
        "print(ans)"
      ],
      "metadata": {
        "id": "2VWepm09_FcH"
      },
      "execution_count": null,
      "outputs": []
    }
  ]
}