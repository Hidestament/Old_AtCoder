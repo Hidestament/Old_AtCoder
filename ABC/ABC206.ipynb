{
  "nbformat": 4,
  "nbformat_minor": 0,
  "metadata": {
    "colab": {
      "name": "ABC206.ipynb",
      "provenance": [],
      "authorship_tag": "ABX9TyODu0/9o0Hgo0SwDOyriUgC",
      "include_colab_link": true
    },
    "kernelspec": {
      "name": "python3",
      "display_name": "Python 3"
    },
    "language_info": {
      "name": "python"
    }
  },
  "cells": [
    {
      "cell_type": "markdown",
      "metadata": {
        "id": "view-in-github",
        "colab_type": "text"
      },
      "source": [
        "<a href=\"https://colab.research.google.com/github/Hidestament/AtCoder/blob/main/ABC/ABC206.ipynb\" target=\"_parent\"><img src=\"https://colab.research.google.com/assets/colab-badge.svg\" alt=\"Open In Colab\"/></a>"
      ]
    },
    {
      "cell_type": "markdown",
      "metadata": {
        "id": "vIAtMq32G-TR"
      },
      "source": [
        "# ABC 206\n",
        "https://atcoder.jp/contests/abc206"
      ]
    },
    {
      "cell_type": "markdown",
      "metadata": {
        "id": "U979-AwRFYoG"
      },
      "source": [
        "Qiitaに投稿した\n",
        "https://qiita.com/snhrhdt/items/da1a226d78df38e85a1e"
      ]
    },
    {
      "cell_type": "markdown",
      "metadata": {
        "id": "kVsZ5MyPHAfp"
      },
      "source": [
        "## A - Maxi-Buying\n",
        "https://atcoder.jp/contests/abc206/tasks/abc206_a"
      ]
    },
    {
      "cell_type": "code",
      "metadata": {
        "id": "ElC1DCAdk1yC"
      },
      "source": [
        "N = int(input())\n",
        "ans = int(1.08 * N)\n",
        "if ans < 206:\n",
        "  print(\"Yay!\")\n",
        "elif ans == 206:\n",
        "  print(\"so-so\")\n",
        "else:\n",
        "  print(\":(\")"
      ],
      "execution_count": null,
      "outputs": []
    },
    {
      "cell_type": "markdown",
      "metadata": {
        "id": "LolJl45eHCPp"
      },
      "source": [
        "## B - Savings\n",
        "https://atcoder.jp/contests/abc206/tasks/abc206_b"
      ]
    },
    {
      "cell_type": "code",
      "metadata": {
        "id": "gZik1KHtlVbH"
      },
      "source": [
        "N = int(input())\n",
        "now = 0\n",
        "for i in range(N+1):\n",
        "  now += i\n",
        "  if now >= N:\n",
        "    print(i)\n",
        "    exit()"
      ],
      "execution_count": null,
      "outputs": []
    },
    {
      "cell_type": "markdown",
      "metadata": {
        "id": "MtKl_zM6mmNI"
      },
      "source": [
        "whileでかくと簡潔かもしれない"
      ]
    },
    {
      "cell_type": "code",
      "metadata": {
        "id": "dipU6TrSHCqE",
        "colab": {
          "base_uri": "https://localhost:8080/"
        },
        "outputId": "1cc0c8a7-9796-4ecf-90fa-f41afc177b82"
      },
      "source": [
        "N = int(input())\n",
        "savings = 0\n",
        "days = 0\n",
        "while savings < N:\n",
        "  days += 1\n",
        "  savings += days\n",
        "print(days)"
      ],
      "execution_count": 6,
      "outputs": [
        {
          "output_type": "stream",
          "text": [
            "12\n",
            "5\n"
          ],
          "name": "stdout"
        }
      ]
    },
    {
      "cell_type": "markdown",
      "metadata": {
        "id": "Wg1A91Ytn7_x"
      },
      "source": [
        "### 二分探索による実装\n",
        "N日後の貯金額は, $1 + 2 + 3 + ... + N = \\sum_{i = 1}^N i = \\frac{N(N+1)}{2}$である.\n",
        "\n",
        "よって, $\\frac{i(i+1)}{2} \\geq N$ となるような, 最小の$i$を求めれば良い.\n",
        "\n",
        "この関数が**単調増加** で, **条件を満たす最小のindex** を求めるには二分探索を用いれば良い（前回の問題にもこんな問題があった）."
      ]
    },
    {
      "cell_type": "code",
      "metadata": {
        "id": "vCeFvOwMHDmr",
        "colab": {
          "base_uri": "https://localhost:8080/"
        },
        "outputId": "9244c400-7d8e-42ca-c847-89621b06a451"
      },
      "source": [
        "N = int(input())\n",
        "\n",
        "def n_savings(n):\n",
        "  return (n+1) * n // 2\n",
        "\n",
        "left = 0\n",
        "right = 10**18 + 1\n",
        "\n",
        "while right - left > 1:\n",
        "  mid = (left + right) // 2\n",
        "  if n_savings(mid) >= N:\n",
        "    right = mid\n",
        "  else:\n",
        "    left = mid\n",
        "\n",
        "print(right)"
      ],
      "execution_count": 31,
      "outputs": [
        {
          "output_type": "stream",
          "text": [
            "1\n",
            "1\n"
          ],
          "name": "stdout"
        }
      ]
    },
    {
      "cell_type": "markdown",
      "metadata": {
        "id": "5mvCzMPwHD0O"
      },
      "source": [
        "## C - Swappable\n",
        "https://atcoder.jp/contests/abc206/tasks/abc206_c"
      ]
    },
    {
      "cell_type": "markdown",
      "metadata": {
        "id": "6p8HMumS8KOZ"
      },
      "source": [
        "$1 \\leq i < j \\leq N$という条件はひとまずおいておく.\n",
        "\n",
        "$A_i \\neq A_j$という条件を満たすものの個数を数えるのは大変なので, $全体 - (A_i=A_jとなる個数)$というふうに求める.\n",
        "\n",
        "$A_i = A_j$となる個数は, PythonのCounterを使えば良い."
      ]
    },
    {
      "cell_type": "markdown",
      "metadata": {
        "id": "g40cZiM68eLg"
      },
      "source": [
        "上のようにして求めると, $(i,j)$と$(j,i)$がそれぞれ1回ずつカウントされることになる.\n",
        "\n",
        "ここで, $1 \\leq i < j \\leq N$の条件を考えると, これらはどちらか一方のみしかカウントしてはならないので, 最後に2で割る."
      ]
    },
    {
      "cell_type": "code",
      "metadata": {
        "colab": {
          "base_uri": "https://localhost:8080/"
        },
        "id": "D-X6ac29HFBT",
        "outputId": "f2a6b19c-9543-44a2-fc09-0803c2fc64ba"
      },
      "source": [
        "from collections import Counter\n",
        "N = int(input())\n",
        "A = list(map(int, input().split()))\n",
        "\n",
        "cnt = Counter(A)\n",
        "\n",
        "ans = 0\n",
        "for i in range(N):\n",
        "  ans += (N - cnt[A[i]])\n",
        "print(ans // 2)"
      ],
      "execution_count": 34,
      "outputs": [
        {
          "output_type": "stream",
          "text": [
            "20\n",
            "7 8 1 1 4 9 9 6 8 2 4 1 1 9 5 5 5 3 6 4\n",
            "173\n"
          ],
          "name": "stdout"
        }
      ]
    },
    {
      "cell_type": "markdown",
      "metadata": {
        "id": "cqVixCYVHFWp"
      },
      "source": [
        "## D - KAIBUNsyo\n",
        "https://atcoder.jp/contests/abc206/tasks/abc206_d\n"
      ]
    },
    {
      "cell_type": "markdown",
      "metadata": {
        "id": "BDzevXmycs4D"
      },
      "source": [
        "この解説が一番わかりやすかった.\n",
        "\n",
        "https://blog.hamayanhamayan.com/entry/2021/06/19/233819"
      ]
    },
    {
      "cell_type": "markdown",
      "metadata": {
        "id": "INhM--StAw_n"
      },
      "source": [
        "後自分でまとめたので, 解説はそっちで\n"
      ]
    },
    {
      "cell_type": "code",
      "metadata": {
        "colab": {
          "base_uri": "https://localhost:8080/"
        },
        "id": "03gHvIlWHHAA",
        "outputId": "01ec5a16-c0e8-4d64-d4a4-8d2700b9b3b7"
      },
      "source": [
        "N = int(input())\n",
        "A = list(map(int, input().split()))"
      ],
      "execution_count": null,
      "outputs": [
        {
          "output_type": "stream",
          "text": [
            "8\n",
            "1 5 3 2 5 2 3 1\n"
          ],
          "name": "stdout"
        }
      ]
    },
    {
      "cell_type": "code",
      "metadata": {
        "id": "ABD6PGucHG97"
      },
      "source": [
        "class UnionFindTree:\n",
        "  def __init__(self, n):\n",
        "    self.parents = [-1] * (n+1)\n",
        "  def find(self, v):\n",
        "    if self.parents[v] < 0:\n",
        "      return v\n",
        "    else:\n",
        "      self.parents[v] = self.find(self.parents[v])\n",
        "      return self.find(self.parents[v])\n",
        "\n",
        "  def same_check(self, u, v):\n",
        "    return self.find(u) == self.find(v)\n",
        "\n",
        "  # ノードvが属する連結成分の個数を返す\n",
        "  def size(self, v):\n",
        "    return -1 * self.parents[self.find(v)]\n",
        "\n",
        "  def union(self, u, v):\n",
        "    u = self.find(u)\n",
        "    v = self.find(v)\n",
        "\n",
        "    if (-1 * self.parents[u]) > (-1 * self.parents[v]):\n",
        "      self.parents[u] += self.parents[v]\n",
        "      self.parents[v] = u\n",
        "    else:\n",
        "      self.parents[v] += self.parents[u]\n",
        "      self.parents[u] = v"
      ],
      "execution_count": 24,
      "outputs": []
    },
    {
      "cell_type": "code",
      "metadata": {
        "colab": {
          "base_uri": "https://localhost:8080/"
        },
        "id": "oTPJoXRrHGdO",
        "outputId": "c43aa3c6-bff7-4184-e01f-0c7535e6e02e"
      },
      "source": [
        "N = int(input())\n",
        "A = list(map(int, input().split()))\n",
        "tree = UnionFindTree(10**6)\n",
        "for i in range(N//2):\n",
        "  u,v = A[i], A[N - i - 1]\n",
        "  if not tree.same_check(u, v):\n",
        "    tree.union(u, v)"
      ],
      "execution_count": 26,
      "outputs": [
        {
          "output_type": "stream",
          "text": [
            "1\n",
            "20000\n"
          ],
          "name": "stdout"
        }
      ]
    },
    {
      "cell_type": "code",
      "metadata": {
        "id": "wwshWYTgHGad"
      },
      "source": [
        "ans = 0\n",
        "for i in tree.parents:\n",
        "  if i < 0:\n",
        "    ans += (-1 * i) - 1\n",
        "print(ans)"
      ],
      "execution_count": 30,
      "outputs": []
    }
  ]
}