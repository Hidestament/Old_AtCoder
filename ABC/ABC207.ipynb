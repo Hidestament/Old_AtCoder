{
  "nbformat": 4,
  "nbformat_minor": 0,
  "metadata": {
    "colab": {
      "name": "ABC207.ipynb",
      "provenance": [],
      "authorship_tag": "ABX9TyPcjYJ/Z1DjlQKZGRTXLKf4",
      "include_colab_link": true
    },
    "kernelspec": {
      "name": "python3",
      "display_name": "Python 3"
    },
    "language_info": {
      "name": "python"
    }
  },
  "cells": [
    {
      "cell_type": "markdown",
      "metadata": {
        "id": "view-in-github",
        "colab_type": "text"
      },
      "source": [
        "<a href=\"https://colab.research.google.com/github/Hidestament/AtCoder/blob/main/ABC/ABC207.ipynb\" target=\"_parent\"><img src=\"https://colab.research.google.com/assets/colab-badge.svg\" alt=\"Open In Colab\"/></a>"
      ]
    },
    {
      "cell_type": "markdown",
      "metadata": {
        "id": "5kzgmSEQLekl"
      },
      "source": [
        "# [ABC207](https://atcoder.jp/contests/abc207)"
      ]
    },
    {
      "cell_type": "markdown",
      "metadata": {
        "id": "AsXzCMkZLevg"
      },
      "source": [
        "## [A - Repression](https://atcoder.jp/contests/abc207/tasks/abc207_a)"
      ]
    },
    {
      "cell_type": "markdown",
      "metadata": {
        "id": "JSGuCZJ6o_rb"
      },
      "source": [
        "リストをソートして最大値を2つ取得する方法"
      ]
    },
    {
      "cell_type": "code",
      "metadata": {
        "colab": {
          "base_uri": "https://localhost:8080/"
        },
        "id": "XRdUk-ZwLHcU",
        "outputId": "ec8737f4-1ea5-47a0-b5d6-e8c6f3ed13a1"
      },
      "source": [
        "A  = sorted(list(map(int, input().split())), reverse=True)\n",
        "print(A[0] + A[1])"
      ],
      "execution_count": null,
      "outputs": [
        {
          "output_type": "stream",
          "text": [
            "3 4 5\n",
            "3 4 5\n",
            "9\n"
          ],
          "name": "stdout"
        }
      ]
    },
    {
      "cell_type": "markdown",
      "metadata": {
        "id": "JNUdL4yGpDaD"
      },
      "source": [
        "全ての和から, 最小値を引く方法"
      ]
    },
    {
      "cell_type": "code",
      "metadata": {
        "id": "paK3g6KrLgOL"
      },
      "source": [
        "A,B,C = map(int, input().split())\n",
        "print(A + B + C - min(A, B, C))"
      ],
      "execution_count": null,
      "outputs": []
    },
    {
      "cell_type": "markdown",
      "metadata": {
        "id": "Q2rukWDWpLmm"
      },
      "source": [
        "頑張る方法"
      ]
    },
    {
      "cell_type": "code",
      "metadata": {
        "id": "dSw0_7sqLgLp"
      },
      "source": [
        "A,B,C = map(int, input().split())\n",
        "print(max(A+B, A+C, B+C))"
      ],
      "execution_count": null,
      "outputs": []
    },
    {
      "cell_type": "markdown",
      "metadata": {
        "id": "24y-jaYqLgZX"
      },
      "source": [
        "## [B - Hydrate](https://atcoder.jp/contests/abc207/tasks/abc207_b)"
      ]
    },
    {
      "cell_type": "markdown",
      "metadata": {
        "id": "AHfG9O9openu"
      },
      "source": [
        "初期状態 : 水色A個, 赤色0個\n",
        "\n",
        "操作を1回すると, 水色 +B個, 赤色+C個\n",
        "\n",
        "よって, 操作k回目の水色と赤色の個数は, 水色(A + kB)個, 赤色 kC個\n",
        "\n",
        "と表せるので, 水色が赤色のD倍以下になるという条件は, \n",
        "\n",
        "$$\n",
        "A + kB \\leq kC *D \\\\\n",
        "\\Leftrightarrow A \\leq k( CD- B) \\\\\n",
        "\\Leftrightarrow \\frac{A}{CD-B} \\leq k\n",
        "$$\n",
        "となる.\n",
        "\n",
        "よって, kの最小値は, $ceil(\\frac{A}{CD-B})$ となる.\n",
        "\n"
      ]
    },
    {
      "cell_type": "markdown",
      "metadata": {
        "id": "x1ZBOhBBqaya"
      },
      "source": [
        "### 例外1\n",
        "\n",
        "$B = CD$のときは, 元の不等式が, \n",
        "$$\n",
        "A \\leq 0\n",
        "$$\n",
        "となってしまう.\n",
        "\n",
        "このとき, 条件より$1\\leq A$であるので, この不等式は常にFalseとなる.\n",
        "\n",
        "よってこのときは解が存在しない."
      ]
    },
    {
      "cell_type": "markdown",
      "metadata": {
        "id": "gX8WWVB_rAOK"
      },
      "source": [
        "### 例外2\n",
        "$ceil(\\frac{A}{CD-B}) < 0$のとき,  つまり操作をマイナス回行えば目的を達成させられるとき. このときは, $k \\geq 0$という条件から, 目的を達成することができない.\n",
        "\n",
        "よって, このときは解なし"
      ]
    },
    {
      "cell_type": "markdown",
      "metadata": {
        "id": "n_hTWhAvsu7f"
      },
      "source": [
        "### まとめると"
      ]
    },
    {
      "cell_type": "code",
      "metadata": {
        "colab": {
          "base_uri": "https://localhost:8080/"
        },
        "id": "HaaxHbheLg1S",
        "outputId": "2f00c7a0-f65e-45d4-b410-6a7b39a3d4c8"
      },
      "source": [
        "A, B, C, D = map(int, input().split())\n",
        "if (C*D) == B:\n",
        "  print(-1)\n",
        "else:\n",
        "  k = -1*(A//(C*D-B))\n",
        "  print(max(-1, k))"
      ],
      "execution_count": 1,
      "outputs": [
        {
          "output_type": "stream",
          "text": [
            "6 9 2 3\n"
          ],
          "name": "stdout"
        }
      ]
    },
    {
      "cell_type": "markdown",
      "metadata": {
        "id": "1-owxodcLhrc"
      },
      "source": [
        "## [C - Many Segments](https://atcoder.jp/contests/abc207/tasks/abc207_c)"
      ]
    },
    {
      "cell_type": "markdown",
      "metadata": {
        "id": "klf7GTEozYQ4"
      },
      "source": [
        "### 頑張る方法\n",
        "$N \\leq 2000$なので, $i,j$については, 全列挙でOK\n",
        "\n",
        "それぞれについて, どういう場合に共通部分を含むのか, tによる場合分けを頑張って行う.\n",
        "\n",
        "このとき, $l_i$と$l_j$について, $l_i > l_j$ならば, $l_i, l_j = l_j, l_i$として交換すれば場合分けがすくなくなる."
      ]
    },
    {
      "cell_type": "code",
      "metadata": {
        "id": "zN_4liioLi4r"
      },
      "source": [
        "N = int(input())\n",
        "kukan = [list(map(int, input().split())) for _ in range(N)]"
      ],
      "execution_count": null,
      "outputs": []
    },
    {
      "cell_type": "code",
      "metadata": {
        "colab": {
          "base_uri": "https://localhost:8080/"
        },
        "id": "aCkXSVFvLi2K",
        "outputId": "04ebfe62-7106-463b-85f9-a20e4623380a"
      },
      "source": [
        "ans = 0\n",
        "for i in range(N-1):\n",
        "  for j in range(i+1, N):\n",
        "    kukan1 = kukan[i]\n",
        "    kukan2 = kukan[j]\n",
        "    if kukan1[1] > kukan2[1]:\n",
        "      kukan1, kukan2 = kukan2, kukan1\n",
        "    \n",
        "    t1, l1, r1 = kukan1[0], kukan1[1], kukan1[2]\n",
        "    t2, l2, r2 = kukan2[0], kukan2[1], kukan2[2]\n",
        "\n",
        "    if t1 == 1:\n",
        "      if t2 == 1 or t2 == 2:\n",
        "        if l1 <= l2 <= r1:\n",
        "          ans += 1\n",
        "      elif t2 == 3 or t2 == 4:\n",
        "        if l1 <= l2 < r1:\n",
        "          ans += 1\n",
        "    \n",
        "    elif t1 == 2:\n",
        "      if l1 <= l2 < r1:\n",
        "        ans += 1\n",
        "    \n",
        "    elif t1 == 3:\n",
        "      if t2 == 1 or t2 == 2:\n",
        "        if l1 <= l2 <= r1:\n",
        "          ans += 1\n",
        "      if t2 == 3 or t2 == 4:\n",
        "        if l1 <= l2 < r1:\n",
        "          ans += 1\n",
        "\n",
        "    else:\n",
        "      if l1 <= l2 < r1:\n",
        "        ans += 1\n",
        "\n",
        "print(ans)"
      ],
      "execution_count": null,
      "outputs": [
        {
          "output_type": "execute_result",
          "data": {
            "text/plain": [
              "[[1, 1, 2], [2, 2, 3], [3, 2, 4]]"
            ]
          },
          "metadata": {
            "tags": []
          },
          "execution_count": 12
        }
      ]
    },
    {
      "cell_type": "markdown",
      "metadata": {
        "id": "eu2EQMhV1NuQ"
      },
      "source": [
        "### 閉区間に統一する方法\n",
        "\n",
        "今与えられる$l,r$が整数であるため以下のように閉区間に変換することができる.\n",
        "- $[l_i, r_i] $ -> $[l_i, r_i]$\n",
        "- $[l_i, r_i)$ -> $[l_i, r_i - 0.5]$\n",
        "- $(l_i, r_i]$ -> $[l_i+0.5, r_i]$\n",
        "- $(l_i, r_i)$ -> $[l_i + 0.5, r_i - 0.5]$ \n"
      ]
    },
    {
      "cell_type": "code",
      "metadata": {
        "id": "ysml-DDZLiwq"
      },
      "source": [
        "N = int(input())\n",
        "kukan = []\n",
        "for _ in range(N):\n",
        "  t,l,r = map(int, input().split())\n",
        "  if t == 1:\n",
        "    kukan.append((l, r))\n",
        "  elif t == 2:\n",
        "    kukan.append((l, r - 0.5))\n",
        "  elif t == 3:\n",
        "    kukan.append((l+0.5, r))\n",
        "  else:\n",
        "    kukan.append((l+0.5, r - 0.5))"
      ],
      "execution_count": null,
      "outputs": []
    },
    {
      "cell_type": "code",
      "metadata": {
        "id": "v7y55NQe1vkj"
      },
      "source": [
        "ans = 0\n",
        "for i in range(N-1):\n",
        "  for j in range(i+1, N):\n",
        "    kukan1, kukan2 = kukan[i], kukan[j]\n",
        "    if kukan[i][0] > kukan[j][0]:\n",
        "      kukan1, kukan2 = kukan2, kukan1\n",
        "    \n",
        "    if kukan1[0] <= kukan2[0] <= kukan1[1]:\n",
        "      ans += 1\n",
        "print(ans)"
      ],
      "execution_count": null,
      "outputs": []
    },
    {
      "cell_type": "markdown",
      "metadata": {
        "id": "uhXvgqG_2oso"
      },
      "source": [
        "### 共通部分を持つかの判定\n",
        "2つの閉区間$[a,b]$と$[c,d]$が共通部分を持つかどうかの判定は, $\\max(a,c) \\leq \\min(b,d)$で判定できる."
      ]
    },
    {
      "cell_type": "code",
      "metadata": {
        "id": "ubLxy1_dLite"
      },
      "source": [
        "N = int(input())\n",
        "kukan = []\n",
        "for _ in range(N):\n",
        "  t,l,r = map(int, input().split())\n",
        "  if t == 1:\n",
        "    kukan.append((l, r))\n",
        "  elif t == 2:\n",
        "    kukan.append((l, r - 0.5))\n",
        "  elif t == 3:\n",
        "    kukan.append((l+0.5, r))\n",
        "  else:\n",
        "    kukan.append((l+0.5, r - 0.5))"
      ],
      "execution_count": null,
      "outputs": []
    },
    {
      "cell_type": "code",
      "metadata": {
        "id": "zMvsPKCzLiqw"
      },
      "source": [
        "ans = 0\n",
        "for i in range(N-1):\n",
        "  kukan1 = kukan[i]\n",
        "  for j in range(i+1, N):\n",
        "    kukan2 = kukan[j]\n",
        "    ans += max(kukan1[0], kukan2[0]) <= min(kukan1[1], kukan2[1])\n",
        "print(ans)"
      ],
      "execution_count": null,
      "outputs": []
    }
  ]
}