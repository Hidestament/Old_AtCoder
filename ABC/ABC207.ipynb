{
  "nbformat": 4,
  "nbformat_minor": 0,
  "metadata": {
    "colab": {
      "name": "ABC207.ipynb",
      "provenance": [],
      "collapsed_sections": [],
      "authorship_tag": "ABX9TyM0JCGvbTw40QlFJ4kX4j61",
      "include_colab_link": true
    },
    "kernelspec": {
      "name": "python3",
      "display_name": "Python 3"
    },
    "language_info": {
      "name": "python"
    }
  },
  "cells": [
    {
      "cell_type": "markdown",
      "metadata": {
        "id": "view-in-github",
        "colab_type": "text"
      },
      "source": [
        "<a href=\"https://colab.research.google.com/github/Hidestament/AtCoder/blob/main/ABC/ABC207.ipynb\" target=\"_parent\"><img src=\"https://colab.research.google.com/assets/colab-badge.svg\" alt=\"Open In Colab\"/></a>"
      ]
    },
    {
      "cell_type": "markdown",
      "source": [
        "# [AtCoder Beginner Contest 207](https://atcoder.jp/contests/abc207)"
      ],
      "metadata": {
        "id": "BGDIIk9Xriw_"
      }
    },
    {
      "cell_type": "markdown",
      "source": [
        "## [A - Repression](https://atcoder.jp/contests/abc207/tasks/abc207_a)"
      ],
      "metadata": {
        "id": "O-28Vzu_rkWG"
      }
    },
    {
      "cell_type": "code",
      "execution_count": null,
      "metadata": {
        "id": "w-JZJ1sgrhjq"
      },
      "outputs": [],
      "source": [
        "A, B, C = map(int, input().split())\n",
        "print(max(A+B, A+C, B+C))"
      ]
    },
    {
      "cell_type": "markdown",
      "source": [
        "## [B - Hydrate](https://atcoder.jp/contests/abc207/tasks/abc207_b)"
      ],
      "metadata": {
        "id": "b8WFZKDcrsHM"
      }
    },
    {
      "cell_type": "code",
      "source": [
        "A, B, C, D = map(int, input().split())"
      ],
      "metadata": {
        "id": "QuscGhQzru1f"
      },
      "execution_count": null,
      "outputs": []
    },
    {
      "cell_type": "code",
      "source": [
        "# A + kB <= D * kC\n",
        "# A  <= k(DC - B)"
      ],
      "metadata": {
        "id": "atK17JsBsrsW"
      },
      "execution_count": null,
      "outputs": []
    },
    {
      "cell_type": "code",
      "source": [
        "if D * C - B <= 0:\n",
        "    print(-1)\n",
        "else:\n",
        "    print(-int(-A//(D*C - B)))"
      ],
      "metadata": {
        "id": "cl_dHExUsrou"
      },
      "execution_count": null,
      "outputs": []
    },
    {
      "cell_type": "markdown",
      "source": [
        "## [C - Many Segments](https://atcoder.jp/contests/abc207/tasks/abc207_c)"
      ],
      "metadata": {
        "id": "DbbjKMinsr_l"
      }
    },
    {
      "cell_type": "code",
      "source": [
        "N = int(input())\n",
        "segments = []\n",
        "for _ in range(N):\n",
        "    query = list(map(int, input().split()))\n",
        "    if query[0] == 1:\n",
        "        segments.append([query[1], query[2]])\n",
        "    elif query[0] == 2:\n",
        "        segments.append([query[1], query[2] - 0.5])\n",
        "    elif query[0] == 3:\n",
        "        segments.append([query[1] + 0.5, query[2]])\n",
        "    else:\n",
        "        segments.append([query[1] + 0.5, query[2] - 0.5])"
      ],
      "metadata": {
        "colab": {
          "base_uri": "https://localhost:8080/"
        },
        "id": "4Zke9vxhsuT1",
        "outputId": "bd2a4764-7daa-4448-e123-9c5eb2114f70"
      },
      "execution_count": null,
      "outputs": [
        {
          "name": "stdout",
          "output_type": "stream",
          "text": [
            "3\n",
            "1 1 2\n",
            "2 2 3\n",
            "3 2 4\n"
          ]
        }
      ]
    },
    {
      "cell_type": "code",
      "source": [
        "cnt = 0\n",
        "for i in range(N-1):\n",
        "    x1, y1 = segments[i]\n",
        "    for j in range(i+1, N):\n",
        "        x2, y2 = segments[j]\n",
        "        if max(x1, x2) <= min(y1, y2):\n",
        "            cnt += 1\n",
        "print(cnt)"
      ],
      "metadata": {
        "id": "jOgZJbQvtTnp"
      },
      "execution_count": null,
      "outputs": []
    },
    {
      "cell_type": "markdown",
      "source": [
        "少数含めるとバグる可能性があるので, 2倍して1引く"
      ],
      "metadata": {
        "id": "ap0SX2LnvOD5"
      }
    },
    {
      "cell_type": "code",
      "source": [
        "N = int(input())\n",
        "segments = []\n",
        "for _ in range(N):\n",
        "    query = list(map(int, input().split()))\n",
        "    if query[0] == 1:\n",
        "        segments.append([2 * query[1], 2 * query[2]])\n",
        "    elif query[0] == 2:\n",
        "        segments.append([2 * query[1], 2 * query[2] - 1])\n",
        "    elif query[0] == 3:\n",
        "        segments.append([2 * query[1] + 1, 2 * query[2]])\n",
        "    else:\n",
        "        segments.append([2 * query[1] + 1, 2 * query[2] - 1])"
      ],
      "metadata": {
        "id": "qtSYJT44vNyO"
      },
      "execution_count": null,
      "outputs": []
    },
    {
      "cell_type": "code",
      "source": [
        "cnt = 0\n",
        "for i in range(N-1):\n",
        "    x1, y1 = segments[i]\n",
        "    for j in range(i+1, N):\n",
        "        x2, y2 = segments[j]\n",
        "        if max(x1, x2) <= min(y1, y2):\n",
        "            cnt += 1\n",
        "print(cnt)"
      ],
      "metadata": {
        "id": "RymTSW9xvOSJ"
      },
      "execution_count": null,
      "outputs": []
    }
  ]
}