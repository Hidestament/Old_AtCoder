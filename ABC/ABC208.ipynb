{
  "nbformat": 4,
  "nbformat_minor": 0,
  "metadata": {
    "colab": {
      "name": "ABC208.ipynb",
      "provenance": [],
      "collapsed_sections": [],
      "authorship_tag": "ABX9TyPFUjGW36kWkTn8EwS/p1Sj",
      "include_colab_link": true
    },
    "kernelspec": {
      "name": "python3",
      "display_name": "Python 3"
    },
    "language_info": {
      "name": "python"
    }
  },
  "cells": [
    {
      "cell_type": "markdown",
      "metadata": {
        "id": "view-in-github",
        "colab_type": "text"
      },
      "source": [
        "<a href=\"https://colab.research.google.com/github/Hidestament/AtCoder/blob/main/ABC/ABC208.ipynb\" target=\"_parent\"><img src=\"https://colab.research.google.com/assets/colab-badge.svg\" alt=\"Open In Colab\"/></a>"
      ]
    },
    {
      "cell_type": "markdown",
      "source": [
        "# [AtCoder Beginner Contest 208](https://atcoder.jp/contests/abc208)"
      ],
      "metadata": {
        "id": "AS0PCPEKfM01"
      }
    },
    {
      "cell_type": "markdown",
      "source": [
        "## [A - Rolling Dice](https://atcoder.jp/contests/abc208/tasks/abc208_a)"
      ],
      "metadata": {
        "id": "zy8reZ1HfO41"
      }
    },
    {
      "cell_type": "code",
      "source": [
        "A, B = map(int, input().split())\n",
        "print(\"Yes\" if 1 * A <= B <= 6 * A else \"No\")"
      ],
      "metadata": {
        "id": "bzpu3JeXd14C"
      },
      "execution_count": null,
      "outputs": []
    },
    {
      "cell_type": "markdown",
      "source": [
        "## [B - Factorial Yen Coin](https://atcoder.jp/contests/abc208/tasks/abc208_b)"
      ],
      "metadata": {
        "id": "dFloU0IFfbe2"
      }
    },
    {
      "cell_type": "code",
      "source": [
        "from math import factorial\n",
        "P = int(input())\n",
        "coins = [factorial(i) for i in range(10, 0, -1)]"
      ],
      "metadata": {
        "colab": {
          "base_uri": "https://localhost:8080/"
        },
        "id": "DPg-_oXNd11i",
        "outputId": "bb04567a-7ae0-4b0f-da81-c9175dba96ff"
      },
      "execution_count": null,
      "outputs": [
        {
          "name": "stdout",
          "output_type": "stream",
          "text": [
            "9\n"
          ]
        }
      ]
    },
    {
      "cell_type": "code",
      "source": [
        "ans = 0\n",
        "for value in coins:\n",
        "    ans += P // value\n",
        "    P = P % value\n",
        "print(ans)"
      ],
      "metadata": {
        "colab": {
          "base_uri": "https://localhost:8080/"
        },
        "id": "0AVcFjLsd1zM",
        "outputId": "0fe0808b-fff2-49cd-cf1c-d999c38319b0"
      },
      "execution_count": null,
      "outputs": [
        {
          "output_type": "execute_result",
          "data": {
            "text/plain": [
              "[3628800, 362880, 40320, 5040, 720, 120, 24, 6, 2, 1]"
            ]
          },
          "metadata": {},
          "execution_count": 22
        }
      ]
    },
    {
      "cell_type": "markdown",
      "source": [
        "DPでやってみる (TLEしちゃう)"
      ],
      "metadata": {
        "id": "2UOxT_5XpTta"
      }
    },
    {
      "cell_type": "code",
      "source": [
        "from math import factorial\n",
        "P = int(input())\n",
        "coins = [factorial(i) for i in range(10, 0, -1)]"
      ],
      "metadata": {
        "id": "PLoz3kOLpTnE"
      },
      "execution_count": null,
      "outputs": []
    },
    {
      "cell_type": "code",
      "source": [
        "# DP[i][p]: コインiまで使って, ちょうどp円払うときの必要な最小枚数\n",
        "INF = 10**10\n",
        "DP = [[INF] * (P+1) for _ in range(len(coins) + 1)]"
      ],
      "metadata": {
        "id": "YmlwmaDypTkl"
      },
      "execution_count": null,
      "outputs": []
    },
    {
      "cell_type": "code",
      "source": [
        "for i in range(len(coins) + 1):\n",
        "    DP[i][0] = 0"
      ],
      "metadata": {
        "id": "BEGXF94NpTiJ"
      },
      "execution_count": null,
      "outputs": []
    },
    {
      "cell_type": "code",
      "source": [
        "for i in range(1, len(coins) + 1):\n",
        "    c = coins[i-1]\n",
        "    for p in range(P+1):\n",
        "        # coinを使わない場合\n",
        "        DP[i][p] = min(DP[i][p], DP[i-1][p])\n",
        "        # coinを初めて使う場合\n",
        "        if p - c >= 0:\n",
        "            DP[i][p] = min(DP[i][p], DP[i-1][p - c] + 1)\n",
        "        # coinを2回目以降に使う場合\n",
        "        if p - c >= 0:\n",
        "            DP[i][p] = min(DP[i][p], DP[i][p - c] + 1)"
      ],
      "metadata": {
        "id": "VHh0q6b-pTfT"
      },
      "execution_count": null,
      "outputs": []
    },
    {
      "cell_type": "code",
      "source": [
        "print(DP[len(coins)][P])"
      ],
      "metadata": {
        "id": "-vwCEdDMpTcl"
      },
      "execution_count": null,
      "outputs": []
    },
    {
      "cell_type": "markdown",
      "source": [
        "## [C - Fair Candy Distribution](https://atcoder.jp/contests/abc208/tasks/abc208_c)"
      ],
      "metadata": {
        "id": "-rd_MIjufF4Y"
      }
    },
    {
      "cell_type": "code",
      "source": [
        "N, K = map(int, input().split())\n",
        "a = list(map(int, input().split()))"
      ],
      "metadata": {
        "colab": {
          "base_uri": "https://localhost:8080/"
        },
        "id": "K718ihpnd1jm",
        "outputId": "ccaf1f16-4ed0-4e8f-a4d4-cbfc18bc7096"
      },
      "execution_count": null,
      "outputs": [
        {
          "name": "stdout",
          "output_type": "stream",
          "text": [
            "2 7\n",
            "1 8\n"
          ]
        }
      ]
    },
    {
      "cell_type": "code",
      "source": [
        "# [国民番号, 何番目の人か, 何個お菓子もってるか]\n",
        "A = [[a[i], i + 1, 0] for i in range(N)]\n",
        "A.sort(key=lambda x: x[0])"
      ],
      "metadata": {
        "id": "8aCczLkEd1hJ"
      },
      "execution_count": null,
      "outputs": []
    },
    {
      "cell_type": "code",
      "source": [
        "all = K // N\n",
        "res = K % N"
      ],
      "metadata": {
        "id": "-gkRFLF-d1e9"
      },
      "execution_count": null,
      "outputs": []
    },
    {
      "cell_type": "code",
      "source": [
        "for i in range(N):\n",
        "    A[i][2] += all\n",
        "    if i < res:\n",
        "        A[i][2] += 1"
      ],
      "metadata": {
        "id": "D3ZKgT58eNxb"
      },
      "execution_count": null,
      "outputs": []
    },
    {
      "cell_type": "code",
      "source": [
        "A.sort(key=lambda x: x[1])"
      ],
      "metadata": {
        "id": "W_cL7iKweNu1"
      },
      "execution_count": null,
      "outputs": []
    },
    {
      "cell_type": "code",
      "source": [
        "for i in range(N):\n",
        "    print(A[i][2])"
      ],
      "metadata": {
        "colab": {
          "base_uri": "https://localhost:8080/"
        },
        "id": "2UMcYTuueNsO",
        "outputId": "92401ce5-2ad2-424c-d26e-070b598983ba"
      },
      "execution_count": null,
      "outputs": [
        {
          "output_type": "stream",
          "name": "stdout",
          "text": [
            "4\n",
            "3\n"
          ]
        }
      ]
    },
    {
      "cell_type": "markdown",
      "source": [
        "## [D - Shortest Path Queries 2](https://atcoder.jp/contests/abc208/tasks/abc208_d)"
      ],
      "metadata": {
        "id": "l9qLiyekduvA"
      }
    },
    {
      "cell_type": "code",
      "execution_count": null,
      "metadata": {
        "id": "ZKiReJpEcxb6"
      },
      "outputs": [],
      "source": [
        "INF = 10 ** 10\n",
        "def warshall_floyd(graph):\n",
        "    N = len(graph)\n",
        "    dist = [[INF] * N for _ in range(N)]\n",
        "\n",
        "    # 初期状態 : i -> i は 距離0\n",
        "    for i in range(N):\n",
        "        dist[i][i] = 0\n",
        "\n",
        "    # 初期状態：隣接頂点のコストをdistに記録する\n",
        "    for now in range(N):\n",
        "        for to, cost in graph[now]:\n",
        "            dist[now][to] = cost\n",
        "\n",
        "    ans = 0\n",
        "    for k in range(N): # 中継点\n",
        "        for i in range(N): # 始点\n",
        "            for j in range(N): # 終点\n",
        "                dist[i][j] = min(dist[i][j], dist[i][k] + dist[k][j])\n",
        "                if dist[i][j] != INF:\n",
        "                    ans += dist[i][j]\n",
        "    return ans"
      ]
    },
    {
      "cell_type": "code",
      "source": [
        "N, M = map(int, input().split())\n",
        "graph = [[] for _ in range(N)]\n",
        "for _ in range(M):\n",
        "    a, b, c = map(int, input().split())\n",
        "    graph[a-1].append([b-1, c])"
      ],
      "metadata": {
        "colab": {
          "base_uri": "https://localhost:8080/"
        },
        "id": "QjTDJAEkc8uV",
        "outputId": "c5cb6f75-c761-47d9-fb60-75d7a45425f6"
      },
      "execution_count": null,
      "outputs": [
        {
          "name": "stdout",
          "output_type": "stream",
          "text": [
            "3 2\n",
            "1 2 3\n",
            "2 3 2\n"
          ]
        }
      ]
    },
    {
      "cell_type": "code",
      "source": [
        "ans = warshall_floyd(graph)\n",
        "print(ans)"
      ],
      "metadata": {
        "id": "AiRtg_ZddnJk"
      },
      "execution_count": null,
      "outputs": []
    },
    {
      "cell_type": "markdown",
      "source": [
        "## [E - Digit Products](https://atcoder.jp/contests/abc208/tasks/abc208_e)"
      ],
      "metadata": {
        "id": "D45_DkMjgPiZ"
      }
    },
    {
      "cell_type": "markdown",
      "source": [
        "復習：桁DP (https://atcoder.jp/contests/dp/tasks/dp_s)\n",
        "- 1 以上 K 以下の整数のうち, 各桁の和がDの倍数であるようなモノは何通り？"
      ],
      "metadata": {
        "id": "rOdUxPXUg7bz"
      }
    },
    {
      "cell_type": "code",
      "source": [
        "K = str(input())\n",
        "D = int(input())\n",
        "mod = 10**9 + 7"
      ],
      "metadata": {
        "colab": {
          "base_uri": "https://localhost:8080/"
        },
        "id": "AtBQCUMtgSBc",
        "outputId": "b837e219-c5cf-4cca-80ad-c18d9949827a"
      },
      "execution_count": null,
      "outputs": [
        {
          "name": "stdout",
          "output_type": "stream",
          "text": [
            "30\n",
            "4\n"
          ]
        }
      ]
    },
    {
      "cell_type": "code",
      "source": [
        "# DP[i][smaller][d]: i桁目未満で, 余りがdであるようなモノの個数. ここでsmaller=1ならK未満と確定\n",
        "DP = [[[0] * D for _ in range(2)] for _ in range(len(K) + 1)]"
      ],
      "metadata": {
        "id": "CuF73-b_hIa2"
      },
      "execution_count": null,
      "outputs": []
    },
    {
      "cell_type": "code",
      "source": [
        "DP[0][0][0] = 1\n",
        "for i in range(1, len(K)+1):\n",
        "    for d in range(D):\n",
        "        for k in range(10):\n",
        "            # smaller=1 -> smaller=1: もうsmaller=Trueだったら, どんな値でもTrue\n",
        "            DP[i][1][(d + k)%D] += DP[i-1][1][d]\n",
        "            DP[i][1][(d + k)%D] %= mod\n",
        "            \n",
        "            # smaller=0 -> smaller=1: K[i-1]より小さい数字を使うとsmaller=1になる\n",
        "            if int(K[i-1]) > k:\n",
        "                DP[i][1][(d + k)%D] += DP[i-1][0][d]\n",
        "            \n",
        "        # smaller=0 -> smaller=0: K[i-1]と同じ数字を使う\n",
        "        DP[i][0][(int(K[i-1]) + d)%D] += DP[i-1][0][d]"
      ],
      "metadata": {
        "id": "CYWHtnPWhZqF"
      },
      "execution_count": null,
      "outputs": []
    },
    {
      "cell_type": "code",
      "source": [
        "print((DP[len(K)][0][0] + DP[len(K)][1][0] -1) % mod)"
      ],
      "metadata": {
        "colab": {
          "base_uri": "https://localhost:8080/"
        },
        "id": "37yC_KRki_ti",
        "outputId": "4a16b4c4-7dc8-4d2f-b296-87acb9f398d3"
      },
      "execution_count": null,
      "outputs": [
        {
          "output_type": "stream",
          "name": "stdout",
          "text": [
            "6\n"
          ]
        }
      ]
    }
  ]
}