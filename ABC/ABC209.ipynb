{
  "nbformat": 4,
  "nbformat_minor": 0,
  "metadata": {
    "colab": {
      "name": "ABC209.ipynb",
      "provenance": [],
      "authorship_tag": "ABX9TyN++vVFzB+W4T+hbngENGun",
      "include_colab_link": true
    },
    "kernelspec": {
      "name": "python3",
      "display_name": "Python 3"
    },
    "language_info": {
      "name": "python"
    }
  },
  "cells": [
    {
      "cell_type": "markdown",
      "metadata": {
        "id": "view-in-github",
        "colab_type": "text"
      },
      "source": [
        "<a href=\"https://colab.research.google.com/github/Hidestament/AtCoder/blob/main/ABC/ABC209.ipynb\" target=\"_parent\"><img src=\"https://colab.research.google.com/assets/colab-badge.svg\" alt=\"Open In Colab\"/></a>"
      ]
    },
    {
      "cell_type": "markdown",
      "metadata": {
        "id": "1f4hp7NSP3h6"
      },
      "source": [
        "# [ABC209](https://atcoder.jp/contests/abc209)"
      ]
    },
    {
      "cell_type": "markdown",
      "metadata": {
        "id": "Zpfdip90P4Gz"
      },
      "source": [
        "## [A - Counting](https://atcoder.jp/contests/abc209/tasks/abc209_a)"
      ]
    },
    {
      "cell_type": "code",
      "metadata": {
        "colab": {
          "base_uri": "https://localhost:8080/"
        },
        "id": "VuYtiJfhP393",
        "outputId": "01c5f9c4-4ea7-40ab-edc4-239d82c3de01"
      },
      "source": [
        "A, B = map(int, input().split())\n",
        "print(B - A + 1 if A < B else 0)"
      ],
      "execution_count": null,
      "outputs": [
        {
          "output_type": "stream",
          "text": [
            "3 2\n",
            "0\n"
          ],
          "name": "stdout"
        }
      ]
    },
    {
      "cell_type": "markdown",
      "metadata": {
        "id": "gCR1Fql4P9HI"
      },
      "source": [
        "## [B - Can you buy them all](https://atcoder.jp/contests/abc209/tasks/abc209_b)\n",
        "配列上では, 偶奇が逆転することに注意"
      ]
    },
    {
      "cell_type": "code",
      "metadata": {
        "colab": {
          "base_uri": "https://localhost:8080/"
        },
        "id": "aHuKlasWQErI",
        "outputId": "5f8074d1-1886-4d1f-bfa8-1e5fd3b6c612"
      },
      "source": [
        "N, X = map(int, input().split())\n",
        "A = list(map(int, input().split()))"
      ],
      "execution_count": null,
      "outputs": [
        {
          "output_type": "stream",
          "text": [
            "2 3\n",
            "1 3\n"
          ],
          "name": "stdout"
        }
      ]
    },
    {
      "cell_type": "code",
      "metadata": {
        "colab": {
          "base_uri": "https://localhost:8080/"
        },
        "id": "_lr0Xz7zQEoi",
        "outputId": "2129ba28-b455-4b68-801b-0b057f6f3dae"
      },
      "source": [
        "now = 0\n",
        "for i in range(N):\n",
        "  if i % 2 == 1:\n",
        "    now += A[i] - 1\n",
        "  else:\n",
        "    now += A[i]\n",
        "print(\"Yes\" if now <= X else \"No\")"
      ],
      "execution_count": null,
      "outputs": [
        {
          "output_type": "stream",
          "text": [
            "Yes\n"
          ],
          "name": "stdout"
        }
      ]
    },
    {
      "cell_type": "markdown",
      "metadata": {
        "id": "4vWbJdzn2Qef"
      },
      "source": [
        "長さNの配列上には, 奇数となるIndexが N//2個存在するので以下のようにもかける"
      ]
    },
    {
      "cell_type": "code",
      "metadata": {
        "colab": {
          "base_uri": "https://localhost:8080/"
        },
        "id": "VgjVGXKd2Q7g",
        "outputId": "fe05436b-3972-48f0-81f2-787e889938bd"
      },
      "source": [
        "N, X = map(int, input().split())\n",
        "A = list(map(int, input().split()))\n",
        "print(\"Yes\" if sum(A) - N//2 <= X else \"No\")"
      ],
      "execution_count": 4,
      "outputs": [
        {
          "output_type": "stream",
          "text": [
            "8 30\n",
            "3 1 4 1 5 9 2 6\n",
            "Yes\n"
          ],
          "name": "stdout"
        }
      ]
    },
    {
      "cell_type": "markdown",
      "metadata": {
        "id": "ceqciwa9P9_-"
      },
      "source": [
        "## [C - Not Equal](https://atcoder.jp/contests/abc209/tasks/abc209_c)"
      ]
    },
    {
      "cell_type": "markdown",
      "metadata": {
        "id": "1CPvY-Zx22G0"
      },
      "source": [
        "mod取る位置がおかしくて, ２回もTLEになってしまった."
      ]
    },
    {
      "cell_type": "code",
      "metadata": {
        "colab": {
          "base_uri": "https://localhost:8080/"
        },
        "id": "WuKGUTUDQEOF",
        "outputId": "5e7c291d-34d9-4335-8305-c83d1a04bf20"
      },
      "source": [
        "N = int(input())\n",
        "C = sorted(list(map(int, input().split())))\n",
        "mod = 10**9 + 7"
      ],
      "execution_count": null,
      "outputs": [
        {
          "output_type": "stream",
          "text": [
            "10\n",
            "999999917 999999914 999999923 999999985 999999907 999999965 999999914 999999908 999999951 999999979\n"
          ],
          "name": "stdout"
        }
      ]
    },
    {
      "cell_type": "code",
      "metadata": {
        "colab": {
          "base_uri": "https://localhost:8080/"
        },
        "id": "5V23PcmRQEMM",
        "outputId": "917b9b7d-b0a2-45e6-fba9-fd4ae87cfd59"
      },
      "source": [
        "ans = C[0]\n",
        "for i in range(1, N):\n",
        "  ans *= (C[i] - i)\n",
        "  ans = ans % mod\n",
        "print(ans % mod)"
      ],
      "execution_count": null,
      "outputs": [
        {
          "output_type": "stream",
          "text": [
            "405924645\n"
          ],
          "name": "stdout"
        }
      ]
    },
    {
      "cell_type": "markdown",
      "metadata": {
        "id": "atyPZL7c3OZX"
      },
      "source": [
        "### 解説\n",
        "具体例から考えてみる. Cは小さい順にソートされているとする.\n",
        "\n",
        "$C = [5, 10, 15]$ という配列が与えられたとする. このとき, $A = [A_1, A_2, A_3]$を求めるわけだが, 条件は\n",
        "1. $1 \\leq A_i \\leq C[i]$\n",
        "2. $A_i \\neq A_j$\n",
        "\n",
        "である. つまり, \n",
        "- $A_1$の取りうる範囲は, $[1,5]$ の 5通りである.\n",
        "- $A_2$の範囲は, $[1,10]$の10通りから, $A_1$で使った数字は使えないので, その1通りを引いた, 9通りである.\n",
        "- $A_3$の範囲は, $[1,15]$の15通りから, $A_1, A_2$で使った2通りを引いた, 13通りである.\n",
        "\n",
        "以上から, $5 * 9 * 13 = 585$ が答えとなる.\n",
        "\n"
      ]
    },
    {
      "cell_type": "markdown",
      "metadata": {
        "id": "8EGAHVqh4m2T"
      },
      "source": [
        "よって, $A_i$で使える数字の組合せは, $[1, C_i]$の範囲からそれより前に使った数字の個数を引いた数となる. \n",
        "\n",
        "$[1, C_i]$の個数 = $C_i - 1 + 1 = C_i$\n",
        "\n",
        "$A_i$より前に使った数字の個数は, $i$個なので, 各$i$について, $(C_i - i)$を掛けた値が答えとなる."
      ]
    },
    {
      "cell_type": "markdown",
      "metadata": {
        "id": "9XLyUcfo5TQ0"
      },
      "source": [
        "Cをソートしても答えがかわらないかどうかは, 感覚的にそうだとわかる."
      ]
    },
    {
      "cell_type": "code",
      "metadata": {
        "colab": {
          "base_uri": "https://localhost:8080/"
        },
        "id": "eifvSxKF3O_H",
        "outputId": "c54db479-d7ce-400a-e5cd-f1646230cd94"
      },
      "source": [
        "N = int(input())\n",
        "C = sorted(list(map(int, input().split())))\n",
        "mod = 10**9 + 7\n",
        "\n",
        "ans = C[0]\n",
        "for i in range(1, N):\n",
        "  ans *= (C[i] - i)\n",
        "  ans %= mod\n",
        "\n",
        "print(ans)"
      ],
      "execution_count": 7,
      "outputs": [
        {
          "output_type": "stream",
          "text": [
            "10\n",
            "999999917 999999914 999999923 999999985 999999907 999999965 999999914 999999908 999999951 999999979\n",
            "405924645\n"
          ],
          "name": "stdout"
        }
      ]
    },
    {
      "cell_type": "markdown",
      "metadata": {
        "id": "4SCluRb1P_lH"
      },
      "source": [
        "## [D - Collision](https://atcoder.jp/contests/abc209/tasks/abc209_d)"
      ]
    },
    {
      "cell_type": "markdown",
      "metadata": {
        "id": "jq6zZgJ36pKF"
      },
      "source": [
        "### 解答1:深さ優先探索\n",
        "cとdの距離が奇数なら\"Road\"となり, 偶数なら\"Town\"となる.\n",
        "\n",
        "深さ優先探索により, あるノードから他の全てのノードへの距離（深さ）を計算する.\n",
        "\n",
        "cとdの距離の偶奇性は, $dist(c-根) - dist(d-根)$の偶奇性と一致する."
      ]
    },
    {
      "cell_type": "code",
      "metadata": {
        "id": "ond1XRHcIEEV"
      },
      "source": [
        "# 深さ優先探索の実装\n",
        "from collections import deque\n",
        "def fukatan(g, n):\n",
        "  dist = [-1] * (n + 1)\n",
        "  dist[0], dist[1] = 0, 0\n",
        "  q = deque([1])\n",
        "  while q:\n",
        "    v = q.popleft()\n",
        "    for u in g[v]:\n",
        "      if dist[u] != -1:\n",
        "        continue\n",
        "      dist[u] = dist[v] + 1\n",
        "      q.append(u)\n",
        "  return dist"
      ],
      "execution_count": 1,
      "outputs": []
    },
    {
      "cell_type": "code",
      "metadata": {
        "id": "d_L2XQ6RIEB-"
      },
      "source": [
        "# 入力の受け取り, グラフの作成\n",
        "N, Q = map(int, input().split())\n",
        "g = [[] for _ in range(N+1)]\n",
        "for _ in range(N-1):\n",
        "  a,b = map(int, input().split())\n",
        "  g[a].append(b)\n",
        "  g[b].append(a)"
      ],
      "execution_count": null,
      "outputs": []
    },
    {
      "cell_type": "code",
      "metadata": {
        "id": "6coPOBNqID-4"
      },
      "source": [
        "# 答えの作成, 距離の偶奇性の確認\n",
        "dist = fukatan(g, N)\n",
        "for _ in range(Q):\n",
        "  c,d = map(int, input().split())\n",
        "  if (dist[c] - dist[d]) % 2 == 0:\n",
        "    print(\"Town\")\n",
        "  else:\n",
        "    print(\"Road\")"
      ],
      "execution_count": null,
      "outputs": []
    },
    {
      "cell_type": "markdown",
      "metadata": {
        "id": "xo8Mm1SjLInK"
      },
      "source": [
        "### 解説1\n",
        "この記事が自分の方針と同じ. わかりやすい\n",
        "\n",
        "https://yunix-kyopro.hatenablog.com/entry/2021/07/11/020240?_ga=2.121161536.9506465.1625937519-1301098457.1625937519\n"
      ]
    },
    {
      "cell_type": "markdown",
      "metadata": {
        "id": "NfImX1roLN56"
      },
      "source": [
        "#### 1.辺で合う条件と, 頂点で合う条件\n",
        "2頂点$c,d$の距離が偶数だと, それの真ん中は辺になるので, 辺で合うことに成る.\n",
        "\n",
        "2頂点$c,d$の距離が奇数だと, それの真ん中は頂点になるので, 頂点で合うことになる.\n",
        "\n",
        "これは, 長さ$N$の配列$[a,b,c,...]$の真ん中が, $d$になるのか or $d$と$d+1$の真ん中になるのかと同じ事である."
      ]
    },
    {
      "cell_type": "markdown",
      "metadata": {
        "id": "RCn2RLTQLWaw"
      },
      "source": [
        "#### 2. 木における2頂点の距離の偶奇性\n",
        "ある頂点$a$を根として, 各頂点への距離（つまりその根付き木におけるそれぞれのノードの深さ）が求まっているとする.\n",
        "\n",
        "このとき, $dist_{c,d}$の偶奇性がどうなるかを確認する.\n",
        "\n",
        "1. $dist_{c,d} = dist_{c,a} + dist_{a,d}$のとき, つまり根$a$を経由するとき\n",
        "\n",
        "このときは, $dist_{a,c} = cの深さ$, $dist_{a,d} = dの深さ$が求まっているので, $dist_{c,a} + dist_{a,d}$の深さを計算して偶奇性を確認すれば良い.\n",
        "\n",
        "2. $dist_{c,d} = dist_{c,f} + dist_{f,d}$のとき, つまり$a$以外の頂点$f$を経由するとき\n",
        "\n",
        "このときは, $dist_{c,d} = dist_{a,c} + dist_{a,d} - 2dist_{a,f}$であるので, $dist_{c,d}$と$dist_{a,c} + dist_{a,d}$の偶奇性は一致する.\n",
        "\n",
        "よって, $dist_{a,c} + dist_{a,d}$の偶奇性をチェックすれば良い.\n",
        "\n"
      ]
    },
    {
      "cell_type": "markdown",
      "metadata": {
        "id": "yuq1IbBDLWXv"
      },
      "source": [
        "### 解答2 : 色を塗り分けていく\n",
        "公式解答のやり方. https://atcoder.jp/contests/abc209/editorial/2229\n",
        "\n",
        "上と結局はやっていることは同じなのだが, ある頂点を根としてそれと隣接する頂点とそうでない頂点を交互に色を塗り分けていく.\n",
        "\n",
        "そうすると, 距離が偶数の頂点同士は同じ色に, 奇数の頂点同士は異なる色に塗られることになる.\n",
        "\n"
      ]
    },
    {
      "cell_type": "code",
      "metadata": {
        "id": "sZdUP6ngID8B"
      },
      "source": [
        "N, Q = map(int, input().split())\n",
        "g = [[] for _ in range(N+1)]\n",
        "for _ in range(N-1):\n",
        "  a, b = map(int, input().split())\n",
        "  g[a].append(b)\n",
        "  g[b].append(a)"
      ],
      "execution_count": null,
      "outputs": []
    },
    {
      "cell_type": "code",
      "metadata": {
        "id": "NXvjEC1ZID5L"
      },
      "source": [
        "from collections import deque\n",
        "def fukatan(g, n):\n",
        "  color = [-1] * (n + 1)\n",
        "  color[1] = 0\n",
        "  q = deque([1])\n",
        "  while q:\n",
        "    v = q.popleft()\n",
        "    for u in g[v]:\n",
        "      if color[u] != -1:\n",
        "        continue\n",
        "      color[u] = (color[v] + 1) % 2\n",
        "      q.append(u)\n",
        "  return color"
      ],
      "execution_count": 4,
      "outputs": []
    },
    {
      "cell_type": "code",
      "metadata": {
        "id": "AqoLJ4TBID2O"
      },
      "source": [
        "color = fukatan(g, N)\n",
        "for _ in range(Q):\n",
        "  c,d = map(int, input().split())\n",
        "  if color[c] == color[d]:\n",
        "    print(\"Town\")\n",
        "  else:\n",
        "    print(\"Road\")"
      ],
      "execution_count": null,
      "outputs": []
    }
  ]
}