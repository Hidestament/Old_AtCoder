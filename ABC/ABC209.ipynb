{
  "nbformat": 4,
  "nbformat_minor": 0,
  "metadata": {
    "colab": {
      "name": "ABC209.ipynb",
      "provenance": [],
      "collapsed_sections": [],
      "authorship_tag": "ABX9TyP6uaqcZcneAEiY5GPOqKSQ",
      "include_colab_link": true
    },
    "kernelspec": {
      "name": "python3",
      "display_name": "Python 3"
    },
    "language_info": {
      "name": "python"
    }
  },
  "cells": [
    {
      "cell_type": "markdown",
      "metadata": {
        "id": "view-in-github",
        "colab_type": "text"
      },
      "source": [
        "<a href=\"https://colab.research.google.com/github/Hidestament/AtCoder/blob/main/ABC/ABC209.ipynb\" target=\"_parent\"><img src=\"https://colab.research.google.com/assets/colab-badge.svg\" alt=\"Open In Colab\"/></a>"
      ]
    },
    {
      "cell_type": "markdown",
      "source": [
        "# [AtCoder Beginner Contest 209](https://atcoder.jp/contests/abc209)"
      ],
      "metadata": {
        "id": "LbRQKT2RSVvI"
      }
    },
    {
      "cell_type": "markdown",
      "source": [
        "## [A - Counting](https://atcoder.jp/contests/abc209/tasks/abc209_a)"
      ],
      "metadata": {
        "id": "vkKmMZyFSYn1"
      }
    },
    {
      "cell_type": "code",
      "execution_count": null,
      "metadata": {
        "id": "r_MtjhsMSTuK"
      },
      "outputs": [],
      "source": [
        "A, B = map(int, input().split())\n",
        "print(max(0, B - A + 1))"
      ]
    },
    {
      "cell_type": "markdown",
      "source": [
        "## [B - Can you buy them all?](https://atcoder.jp/contests/abc209/tasks/abc209_b)"
      ],
      "metadata": {
        "id": "IyBbbKEaSeMT"
      }
    },
    {
      "cell_type": "code",
      "source": [
        "N, X = map(int, input().split())\n",
        "A = list(map(int, input().split()))"
      ],
      "metadata": {
        "id": "DR4Nv0U6Si71"
      },
      "execution_count": null,
      "outputs": []
    },
    {
      "cell_type": "code",
      "source": [
        "s = 0\n",
        "for i, a in enumerate(A, start=1):\n",
        "    if i % 2 == 0:\n",
        "        s += (a - 1)\n",
        "    else:\n",
        "        s += a\n",
        "print(\"Yes\" if s <= X else \"No\")"
      ],
      "metadata": {
        "id": "JJvBp6krSy70"
      },
      "execution_count": null,
      "outputs": []
    },
    {
      "cell_type": "markdown",
      "source": [
        "## [C - Not Equal](https://atcoder.jp/contests/abc209/tasks/abc209_c)"
      ],
      "metadata": {
        "id": "GFs-pRnnS9S2"
      }
    },
    {
      "cell_type": "code",
      "source": [
        "N = int(input())\n",
        "C = list(map(int, input().split()))\n",
        "mod = 10**9 + 7"
      ],
      "metadata": {
        "id": "UfsvUHJ9S_1N"
      },
      "execution_count": null,
      "outputs": []
    },
    {
      "cell_type": "code",
      "source": [
        "C.sort()\n",
        "s = 1\n",
        "for i, c in enumerate(C):\n",
        "    s *= (c - i)\n",
        "    s %= mod\n",
        "print(s)"
      ],
      "metadata": {
        "id": "BRTEVBPjUJ1f"
      },
      "execution_count": null,
      "outputs": []
    },
    {
      "cell_type": "markdown",
      "source": [
        "## [D - Collision](https://atcoder.jp/contests/abc209/tasks/abc209_d)"
      ],
      "metadata": {
        "id": "qh1EeT4rTeQF"
      }
    },
    {
      "cell_type": "code",
      "source": [
        "N, Q = map(int, input().split())\n",
        "graph = [[] for _ in range(N)]\n",
        "for _ in range(N-1):\n",
        "    a, b = map(int, input().split())\n",
        "    graph[a-1].append(b-1)\n",
        "    graph[b-1].append(a-1)"
      ],
      "metadata": {
        "id": "gzwF7FK3Tg8-"
      },
      "execution_count": null,
      "outputs": []
    },
    {
      "cell_type": "code",
      "source": [
        "# BFSで距離を求める\n",
        "from collections import deque\n",
        "dq = deque()\n",
        "dq.append(0)\n",
        "dist = [-1] * N\n",
        "dist[0] = 0\n",
        "while dq:\n",
        "    now = dq.popleft()\n",
        "    for to in graph[now]:\n",
        "        if dist[to] == -1:\n",
        "            dist[to] = dist[now] + 1\n",
        "            dq.append(to)"
      ],
      "metadata": {
        "id": "DCiFm8mQWDSw"
      },
      "execution_count": null,
      "outputs": []
    },
    {
      "cell_type": "code",
      "source": [
        "for _ in range(Q):\n",
        "    c, d = map(int, input().split())\n",
        "    if (dist[c-1] - dist[d-1]) % 2 == 0:\n",
        "        print(\"Town\")\n",
        "    else:\n",
        "        print(\"Road\")"
      ],
      "metadata": {
        "id": "ijU4dr5kWSnP"
      },
      "execution_count": null,
      "outputs": []
    }
  ]
}