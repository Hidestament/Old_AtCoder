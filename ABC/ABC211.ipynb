{
  "nbformat": 4,
  "nbformat_minor": 0,
  "metadata": {
    "colab": {
      "name": "ABC211.ipynb",
      "provenance": [],
      "collapsed_sections": [],
      "authorship_tag": "ABX9TyPqpTvC5Ka/H7pIKL4HcLni",
      "include_colab_link": true
    },
    "kernelspec": {
      "name": "python3",
      "display_name": "Python 3"
    },
    "language_info": {
      "name": "python"
    }
  },
  "cells": [
    {
      "cell_type": "markdown",
      "metadata": {
        "id": "view-in-github",
        "colab_type": "text"
      },
      "source": [
        "<a href=\"https://colab.research.google.com/github/Hidestament/AtCoder/blob/main/ABC/ABC211.ipynb\" target=\"_parent\"><img src=\"https://colab.research.google.com/assets/colab-badge.svg\" alt=\"Open In Colab\"/></a>"
      ]
    },
    {
      "cell_type": "markdown",
      "source": [
        "# [AtCoder Beginner Contest 211](https://atcoder.jp/contests/abc211)"
      ],
      "metadata": {
        "id": "emWlaB-f8VU3"
      }
    },
    {
      "cell_type": "markdown",
      "source": [
        "## [A - Blood Pressure](https://atcoder.jp/contests/abc211/tasks/abc211_a)"
      ],
      "metadata": {
        "id": "UP15EEny8XdK"
      }
    },
    {
      "cell_type": "code",
      "execution_count": null,
      "metadata": {
        "id": "mgQ75UFu8UWy"
      },
      "outputs": [],
      "source": [
        "A, B = map(int, input().split())\n",
        "print((A - B)/3 + B)"
      ]
    },
    {
      "cell_type": "markdown",
      "source": [
        "## [B - Cycle Hit](https://atcoder.jp/contests/abc211/tasks/abc211_b)"
      ],
      "metadata": {
        "id": "a_JNvl7Q8eIJ"
      }
    },
    {
      "cell_type": "code",
      "source": [
        "s = set()\n",
        "for _ in range(4):\n",
        "    S = str(input())\n",
        "    s.add(S)\n",
        "print(\"Yes\" if len(s) == 4 else \"No\")"
      ],
      "metadata": {
        "id": "AbUQf1Er8gUj"
      },
      "execution_count": null,
      "outputs": []
    },
    {
      "cell_type": "markdown",
      "source": [
        "## [C - chokudai](https://atcoder.jp/contests/abc211/tasks/abc211_c)"
      ],
      "metadata": {
        "id": "a1ilg92i8snI"
      }
    },
    {
      "cell_type": "code",
      "source": [
        "S = str(input())\n",
        "mod = 10**9 + 7\n",
        "table = {\"c\": 1, \"h\": 2, \"o\": 3, \"k\": 4, \"u\": 5, \"d\": 6, \"a\": 7, \"i\": 8}"
      ],
      "metadata": {
        "id": "9cbd6pei9giI",
        "colab": {
          "base_uri": "https://localhost:8080/"
        },
        "outputId": "c0579543-575e-4313-8cca-745476c649ab"
      },
      "execution_count": null,
      "outputs": [
        {
          "name": "stdout",
          "output_type": "stream",
          "text": [
            "chchokudai\n"
          ]
        }
      ]
    },
    {
      "cell_type": "code",
      "source": [
        "# DP[i][s]: i文字目までで ch ~ s の 文字を作成する場合の数.\n",
        "DP = [[0] * 9 for _ in range(len(S) + 1)]\n",
        "DP[0][0] = 1"
      ],
      "metadata": {
        "id": "RUpXbVKM9hGN"
      },
      "execution_count": null,
      "outputs": []
    },
    {
      "cell_type": "code",
      "source": [
        "for i in range(1, len(S) + 1):\n",
        "    s = S[i-1]\n",
        "    # sを使用するとき\n",
        "    if s in table:\n",
        "        DP[i][table[s]] += DP[i-1][table[s] - 1]\n",
        "        DP[i][table[s]] %= mod\n",
        "    \n",
        "    # 使用しないとき\n",
        "    for s in range(9):\n",
        "        DP[i][s] += DP[i-1][s]\n",
        "        DP[i][s] %= mod"
      ],
      "metadata": {
        "id": "t2ZA1rDP9hPY"
      },
      "execution_count": null,
      "outputs": []
    },
    {
      "cell_type": "code",
      "source": [
        "print(DP[len(S)][8])"
      ],
      "metadata": {
        "id": "1-GKu4A69hI-",
        "colab": {
          "base_uri": "https://localhost:8080/"
        },
        "outputId": "efe52b58-ca89-4d6d-94e4-3c8ab0a500d4"
      },
      "execution_count": null,
      "outputs": [
        {
          "output_type": "stream",
          "name": "stdout",
          "text": [
            "3\n"
          ]
        }
      ]
    },
    {
      "cell_type": "markdown",
      "source": [
        "## [D - Number of Shortest paths](https://atcoder.jp/contests/abc211/tasks/abc211_d)"
      ],
      "metadata": {
        "id": "3RTKyO889hoX"
      }
    },
    {
      "cell_type": "code",
      "source": [
        "N, M = map(int, input().split())\n",
        "mod = 10**9 + 7\n",
        "graph = [[] for _ in range(N)]\n",
        "for _ in range(M):\n",
        "    a, b = map(int, input().split())\n",
        "    graph[a-1].append(b-1)\n",
        "    graph[b-1].append(a-1)"
      ],
      "metadata": {
        "colab": {
          "base_uri": "https://localhost:8080/"
        },
        "id": "fcY3B_kw9kM3",
        "outputId": "537aaccb-aa8b-4e02-a996-cb6045d59fe1"
      },
      "execution_count": null,
      "outputs": [
        {
          "name": "stdout",
          "output_type": "stream",
          "text": [
            "7 8\n",
            "1 3\n",
            "1 4\n",
            "2 3\n",
            "2 4\n",
            "2 5\n",
            "2 6\n",
            "5 7\n",
            "6 7\n"
          ]
        }
      ]
    },
    {
      "cell_type": "code",
      "source": [
        "from collections import deque\n",
        "\n",
        "DP = [0] * N\n",
        "dist = [-1] * N\n",
        "DP[0], dist[0] = 1, 0\n",
        "dq = deque([0])\n",
        "while dq:\n",
        "    now = dq.popleft()\n",
        "    for to in graph[now]:\n",
        "        if (dist[to] == -1):\n",
        "            dist[to] = dist[now] + 1\n",
        "            DP[to] = DP[now]\n",
        "            dq.append(to)\n",
        "        elif dist[to] == dist[now] + 1:\n",
        "            DP[to] += DP[now]\n",
        "            DP[to] %= mod"
      ],
      "metadata": {
        "id": "kjyb7lBe9trL"
      },
      "execution_count": null,
      "outputs": []
    },
    {
      "cell_type": "code",
      "source": [
        "print(DP[N-1])"
      ],
      "metadata": {
        "colab": {
          "base_uri": "https://localhost:8080/"
        },
        "id": "dDildnr7_5Bi",
        "outputId": "4acffc7a-c400-402e-9598-f06bb95ca5d3"
      },
      "execution_count": null,
      "outputs": [
        {
          "output_type": "stream",
          "name": "stdout",
          "text": [
            "4\n"
          ]
        }
      ]
    },
    {
      "cell_type": "markdown",
      "source": [
        "## [E - Red Polyomino](https://atcoder.jp/contests/abc211/tasks/abc211_e)"
      ],
      "metadata": {
        "id": "JoQ0fRSCOaPq"
      }
    },
    {
      "cell_type": "markdown",
      "source": [
        "最大の答えは64678なので盤面BFS or DFS出来そう？"
      ],
      "metadata": {
        "id": "DID87TY3Ogb3"
      }
    },
    {
      "cell_type": "markdown",
      "source": [
        "これだとTLE. 最初の1マスを塗った状態を初期状態として, その隣接マスをどんどん塗っていくように遷移することにする"
      ],
      "metadata": {
        "id": "ZfgRCjRCbVpJ"
      }
    },
    {
      "cell_type": "code",
      "source": [
        "N = int(input())\n",
        "K = int(input())\n",
        "S = [input() for _ in range(N)]"
      ],
      "metadata": {
        "id": "4gXgHQ5I_82R",
        "colab": {
          "base_uri": "https://localhost:8080/"
        },
        "outputId": "45f95681-d394-4002-ccfe-f340f6539398"
      },
      "execution_count": null,
      "outputs": [
        {
          "name": "stdout",
          "output_type": "stream",
          "text": [
            "2\n",
            "2\n",
            "#.\n",
            ".#\n"
          ]
        }
      ]
    },
    {
      "cell_type": "code",
      "source": [
        "from collections import deque\n",
        "dq = deque()\n",
        "now_grid = 0\n",
        "now_pos = (0, 0)\n",
        "now_red = 0\n",
        "dq.append([now_red, now_grid, now_pos])\n",
        "ans = set()\n",
        "appear = set()\n",
        "appear.add((0, 0, 0))\n",
        "while dq:\n",
        "    now_red, now_grid, now_pos = dq.popleft()\n",
        "    now_now = now_pos[0] * N + now_pos[1]\n",
        "    if now_red == K:\n",
        "        ans.add(now_grid)\n",
        "        continue\n",
        "    \n",
        "    # 塗って移動\n",
        "    if S[now_pos[0]][now_pos[1]] == \".\":\n",
        "        # 今考えているますが塗られていない\n",
        "        if not now_grid & (1 << now_now):\n",
        "            # 隣接マスに赤色のマスがある\n",
        "            flag = 0\n",
        "            # 右\n",
        "            if now_now%N != N - 1:\n",
        "                flag |= now_grid & (1 << (now_now + 1))\n",
        "            # 左\n",
        "            if now_now % N != 0:\n",
        "                flag |= now_grid & (1 << (now_now - 1))\n",
        "            # 下\n",
        "            if now_now + N < N**2:\n",
        "                flag |= now_grid & (1 << (now_now + N))\n",
        "            # 上\n",
        "            if 0 <= now_now - N:\n",
        "                flag |= now_grid & (1 << (now_now - N))\n",
        "\n",
        "            if flag or now_red == 0:\n",
        "                for dx, dy in zip([1, 0, -1, 0], [0, 1, 0, -1]):\n",
        "                    if 0 <= now_pos[0] + dx < N and 0 <= now_pos[1] + dy < N:\n",
        "                        if (now_pos[0] + dx, now_pos[1] + dy, now_grid | 1 << now_now) in appear: continue\n",
        "                        appear.add((now_pos[0] + dx, now_pos[1] + dy, now_grid | 1 << now_now))\n",
        "                        dq.append([now_red + 1, now_grid | 1 << now_now, (now_pos[0] + dx, now_pos[1] + dy)])\n",
        "\n",
        "    # 塗らないで移動\n",
        "    for dx, dy in zip([1, 0, -1, 0], [0, 1, 0, -1]):\n",
        "        if 0 <= now_pos[0] + dx < N and 0 <= now_pos[1] + dy < N:\n",
        "            if (now_pos[0] + dx, now_pos[1] + dy, now_grid) in appear: continue\n",
        "            appear.add((now_pos[0] + dx, now_pos[1] + dy, now_grid))\n",
        "            dq.append([now_red, now_grid, (now_pos[0] + dx, now_pos[1] + dy)])"
      ],
      "metadata": {
        "colab": {
          "base_uri": "https://localhost:8080/"
        },
        "id": "UzVl5QPJNjPU",
        "outputId": "0c8c6b37-aa37-4052-b93b-460dee2b2310"
      },
      "execution_count": null,
      "outputs": [
        {
          "output_type": "stream",
          "name": "stdout",
          "text": [
            "0 0 0\n",
            "0 0 0\n"
          ]
        }
      ]
    },
    {
      "cell_type": "code",
      "source": [
        "print(len(ans))"
      ],
      "metadata": {
        "colab": {
          "base_uri": "https://localhost:8080/"
        },
        "id": "2MxS9BEZO0yd",
        "outputId": "8518e32f-804a-42d7-b764-7ac256c76b14"
      },
      "execution_count": null,
      "outputs": [
        {
          "output_type": "stream",
          "name": "stdout",
          "text": [
            "0\n"
          ]
        }
      ]
    },
    {
      "cell_type": "markdown",
      "source": [
        "### AC取れた！！！！！！！！！！\n",
        "何処か1マス塗ったものを初期状態として, そこから塗りながら移動していく"
      ],
      "metadata": {
        "id": "4NHMeI8Rbfjz"
      }
    },
    {
      "cell_type": "code",
      "source": [
        "N = int(input())\n",
        "K = int(input())\n",
        "S = [input() for _ in range(N)]"
      ],
      "metadata": {
        "colab": {
          "base_uri": "https://localhost:8080/"
        },
        "id": "mfDs-KsoSv-R",
        "outputId": "ef23bf68-8fac-4e6e-d04a-4baba5e461e7"
      },
      "execution_count": null,
      "outputs": [
        {
          "name": "stdout",
          "output_type": "stream",
          "text": [
            "3\n",
            "5\n",
            "#.#\n",
            "...\n",
            "..#\n"
          ]
        }
      ]
    },
    {
      "cell_type": "code",
      "source": [
        "def popcount(x):\n",
        "    '''xの立っているビット数をカウントする関数\n",
        "    (xは64bit整数)'''\n",
        "\n",
        "    # 2bitごとの組に分け、立っているビット数を2bitで表現する\n",
        "    x = x - ((x >> 1) & 0x5555555555555555)\n",
        "\n",
        "    # 4bit整数に 上位2bit + 下位2bit を計算した値を入れる\n",
        "    x = (x & 0x3333333333333333) + ((x >> 2) & 0x3333333333333333)\n",
        "\n",
        "    x = (x + (x >> 4)) & 0x0f0f0f0f0f0f0f0f # 8bitごと\n",
        "    x = x + (x >> 8) # 16bitごと\n",
        "    x = x + (x >> 16) # 32bitごと\n",
        "    x = x + (x >> 32) # 64bitごと = 全部の合計\n",
        "    return x & 0x0000007f"
      ],
      "metadata": {
        "id": "SEfN9kkFcWfA"
      },
      "execution_count": null,
      "outputs": []
    },
    {
      "cell_type": "code",
      "source": [
        "from collections import deque\n",
        "dq = deque()\n",
        "ans = set()\n",
        "appear = set()"
      ],
      "metadata": {
        "id": "AqzoWDTcbjNZ"
      },
      "execution_count": null,
      "outputs": []
    },
    {
      "cell_type": "code",
      "source": [
        "for i in range(N):\n",
        "    for j in range(N):\n",
        "        if S[i][j] == \".\":\n",
        "            dq.append((i, j, 1 << i * N + j))\n",
        "            appear.add((i, j , 1<< i * N + j))"
      ],
      "metadata": {
        "id": "lX5oAYQ4b11r"
      },
      "execution_count": null,
      "outputs": []
    },
    {
      "cell_type": "code",
      "source": [
        "while dq:\n",
        "    i, j, grid = dq.popleft()\n",
        "    if popcount(grid) == K:\n",
        "        ans.add(grid)\n",
        "        continue\n",
        "    \n",
        "    for dx, dy in zip([1, 0, -1, 0], [0, 1, 0, -1]):\n",
        "        if 0 <= i + dx < N and 0 <= j + dy < N:\n",
        "            # 塗って移動する\n",
        "            if S[i+dx][j+dy] == \".\":\n",
        "                num = (i+dx) * N + (j + dy)\n",
        "                next_grid = grid | 1 << num\n",
        "                if (i+dx, j+dy, next_grid) in appear: continue\n",
        "                dq.append((i + dx, j + dy, next_grid))\n",
        "                appear.add((i+dx, j+dy, next_grid))"
      ],
      "metadata": {
        "id": "iJEO7o-McSPo"
      },
      "execution_count": null,
      "outputs": []
    },
    {
      "cell_type": "code",
      "source": [
        "print(len(ans))"
      ],
      "metadata": {
        "colab": {
          "base_uri": "https://localhost:8080/"
        },
        "id": "xNUO6EvZY513",
        "outputId": "4ef5605f-6208-4b5a-f56d-a9106e0cd5e8"
      },
      "execution_count": null,
      "outputs": [
        {
          "output_type": "execute_result",
          "data": {
            "text/plain": [
              "5"
            ]
          },
          "metadata": {},
          "execution_count": 71
        }
      ]
    }
  ]
}