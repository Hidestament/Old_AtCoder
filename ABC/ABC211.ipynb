{
  "nbformat": 4,
  "nbformat_minor": 0,
  "metadata": {
    "colab": {
      "name": "ABC211.ipynb",
      "provenance": [],
      "authorship_tag": "ABX9TyPgY2S8ST6yZT9Pyhb/Dujn",
      "include_colab_link": true
    },
    "kernelspec": {
      "name": "python3",
      "display_name": "Python 3"
    },
    "language_info": {
      "name": "python"
    }
  },
  "cells": [
    {
      "cell_type": "markdown",
      "metadata": {
        "id": "view-in-github",
        "colab_type": "text"
      },
      "source": [
        "<a href=\"https://colab.research.google.com/github/Hidestament/AtCoder/blob/main/ABC/ABC211.ipynb\" target=\"_parent\"><img src=\"https://colab.research.google.com/assets/colab-badge.svg\" alt=\"Open In Colab\"/></a>"
      ]
    },
    {
      "cell_type": "markdown",
      "metadata": {
        "id": "BUgjpj2OXvyg"
      },
      "source": [
        "# [ABC211](https://atcoder.jp/contests/abc211)"
      ]
    },
    {
      "cell_type": "markdown",
      "metadata": {
        "id": "QKASDhhxXyBi"
      },
      "source": [
        "## [A - Blood Pressure](https://atcoder.jp/contests/abc211/tasks/abc211_a)"
      ]
    },
    {
      "cell_type": "code",
      "metadata": {
        "colab": {
          "base_uri": "https://localhost:8080/"
        },
        "id": "mztEdi5AXuEP",
        "outputId": "3797258a-85c8-44a5-feea-1c78b2556297"
      },
      "source": [
        "A,B = map(int, input().split())\n",
        "print((A-B)/3 + B)"
      ],
      "execution_count": null,
      "outputs": [
        {
          "output_type": "stream",
          "text": [
            "130 100\n",
            "110.0\n"
          ],
          "name": "stdout"
        }
      ]
    },
    {
      "cell_type": "markdown",
      "metadata": {
        "id": "00nc_g2SX0kj"
      },
      "source": [
        "## [B - Cycle Hit](https://atcoder.jp/contests/abc211/tasks/abc211_b)"
      ]
    },
    {
      "cell_type": "code",
      "metadata": {
        "colab": {
          "base_uri": "https://localhost:8080/"
        },
        "id": "mMu0TnuPX2F3",
        "outputId": "70c276c6-4f2c-4b09-9c20-6de7d2e03684"
      },
      "source": [
        "S = set()\n",
        "for _ in range(4):\n",
        "  s = str(input())\n",
        "  S.add(s)\n",
        "print(\"Yes\" if len(S) == 4 else \"No\")"
      ],
      "execution_count": null,
      "outputs": [
        {
          "output_type": "stream",
          "text": [
            "3B\n",
            "HR\n",
            "2B\n",
            "H\n",
            "Yes\n"
          ],
          "name": "stdout"
        }
      ]
    },
    {
      "cell_type": "markdown",
      "metadata": {
        "id": "gCYI8l9wX2x3"
      },
      "source": [
        "## [C - chokudai](https://atcoder.jp/contests/abc211/tasks/abc211_c)"
      ]
    },
    {
      "cell_type": "markdown",
      "metadata": {
        "id": "MrKJL30caww0"
      },
      "source": [
        "### コンテスト中に出してACしたコード\n",
        "dp[i][j] : 0 から i-1項目までの成分でchokudaiのj番目まで一致するものがいくつあるか"
      ]
    },
    {
      "cell_type": "code",
      "metadata": {
        "id": "FoLph81aawmj"
      },
      "source": [
        "S = str(input())\n",
        "S = S[S.find(\"c\"):]\n",
        "ans = \"chokudai\"\n",
        "dp = [[0 for j in range(len(S) + 1)] for i in range(len(ans) + 1)]\n",
        "mod = 10**9 + 7\n",
        "dp[0][0] = 1\n",
        "for i in range(1, len(S)):\n",
        "  if S[i] == ans[0]:\n",
        "    dp[0][i] = dp[0][i-1] + 1\n",
        "  else:\n",
        "    dp[0][i] = dp[0][i-1]\n",
        "\n",
        "for j in range(1, len(ans)):\n",
        "  for i in range(1, len(S)):\n",
        "    if S[i] == ans[j]:\n",
        "      dp[j][i] = dp[j][i-1] + dp[j-1][i-1]\n",
        "      dp[j][i] %= mod\n",
        "    else:\n",
        "      dp[j][i] = dp[j][i-1]\n",
        "print(dp[len(ans) - 1][len(S) - 1])"
      ],
      "execution_count": null,
      "outputs": []
    },
    {
      "cell_type": "markdown",
      "metadata": {
        "id": "M-KrKc-Ca5ft"
      },
      "source": [
        "### 解説"
      ]
    },
    {
      "cell_type": "markdown",
      "metadata": {
        "id": "2Mc2UoDKi19v"
      },
      "source": [
        "部分文字列に関する問題は, DPで解く事が多い.\n",
        "\n",
        "$dp[i][j]$ : Sのi文字目までを使って, chokudaiのj文字目までを選択する方法がいくつあるか\n",
        "\n",
        "ここで, $N=|S|, T=chokudai$とすると, dp漸化式は, \n",
        "\n",
        "$$\n",
        "dp[i][j] = \\begin{cases}\n",
        "1 : j = 0\\\\\n",
        "0 : i = 0, 1 \\leq j \\leq 8 \\\\\n",
        "dp[i-1][j] : 1 \\leq i \\leq N, 1 \\leq j \\leq 8, S[i] \\neq T[j] \\\\\n",
        "dp[i-1][j] + dp[i-1][j-1] : 1\\leq i \\leq N, 1 \\leq j \\leq 8, S[i] = T[j]\n",
        "\\end{cases}\n",
        "$$"
      ]
    },
    {
      "cell_type": "markdown",
      "metadata": {
        "id": "rK1lBkQbdDeC"
      },
      "source": [
        "- $j = 0$ の場合\n",
        "\n",
        "j = 0 はすなわち, 「chokudaiの0文字目までを選択する」ということなので, 下線を全くひかないことを表す. つまり1通り\n",
        "\n",
        "- $i = 0, 1 \\leq j \\leq 8$の場合\n",
        "\n",
        "$i=0$ということは, 「Sを1文字も使わないで, chokudaiのj文字目までと一致させる」ということなので不可能である. よって, 0通り\n",
        "\n",
        "- $1 \\leq i \\leq N, 1 \\leq j \\leq 8, S[i] \\neq T[j]$の場合\n",
        "\n",
        "「Sのi文字目までを使って, Tのj文字目まで選択する方法」を考えているが, $S[i] \\neq T[j]$なので, Sのi文字目までに下線は引くことはない. よって, 「Sのi-1文字目までを使って, Tのj文字目までを選択する方法」の場合の数と等しくなる. つまり, $dp[i-1][j]$通り.\n",
        "\n",
        "- $1 \\leq i \\leq N, 1 \\leq j \\leq 8, S[i] = T[j]$の場合\n",
        "\n",
        "Sのi文字目に下線を引かない場合, $dp[i-1][j]$となり, Sのi文字目に下線を引く場合は「Sのi-1文字目までを使って, Tのj-1文字目までを選択する方法」の場合の数と等しいので$dp[i-1][j-1]$となる. 以上より $dp[i-1][j] + dp[i-1][j-1]$となる.\n"
      ]
    },
    {
      "cell_type": "code",
      "metadata": {
        "colab": {
          "base_uri": "https://localhost:8080/"
        },
        "id": "o4pWtfYeX3qM",
        "outputId": "75c5f42b-18ad-4c49-89ca-0b25e0dbb966"
      },
      "source": [
        "S = str(input())\n",
        "S = S[S.find(\"c\"):]\n",
        "ans = \"chokudai\""
      ],
      "execution_count": 23,
      "outputs": [
        {
          "output_type": "stream",
          "text": [
            "chokudaichokudaichokudai\n"
          ],
          "name": "stdout"
        }
      ]
    },
    {
      "cell_type": "code",
      "metadata": {
        "colab": {
          "base_uri": "https://localhost:8080/"
        },
        "id": "gylXY1VqcJ1B",
        "outputId": "4d2237c4-de24-4e84-9cc3-f8a43d5e5b47"
      },
      "source": [
        "mod = 10**9 + 7\n",
        "N = len(S)\n",
        "dp = [[0 for j in range(9)] for i in range(N+1)]\n",
        "\n",
        "# Sのi文字目までを使って, ansの0文字目までを一致させる方法は1通り\n",
        "for i in range(N+1):\n",
        "  dp[i][0] = 1\n",
        "\n",
        "for j in range(1, 9):\n",
        "  for i in range(1, N+1):\n",
        "    if S[i-1] == ans[j-1]:\n",
        "      dp[i][j] = dp[i-1][j] + dp[i-1][j-1]\n",
        "    else:\n",
        "      dp[i][j] = dp[i-1][j]\n",
        "    dp[i][j] %= mod\n",
        "print(dp[N][8])"
      ],
      "execution_count": 24,
      "outputs": [
        {
          "output_type": "stream",
          "text": [
            "45\n"
          ],
          "name": "stdout"
        }
      ]
    },
    {
      "cell_type": "markdown",
      "metadata": {
        "id": "WOKHB_OrZ4YQ"
      },
      "source": [
        "## [D - Number of Shortest Paths](https://atcoder.jp/contests/abc211/tasks/abc211_d)"
      ]
    },
    {
      "cell_type": "markdown",
      "metadata": {
        "id": "TJw_qCYR-VZ7"
      },
      "source": [
        "### コンテスト中にACしたコード\n",
        "ダイクストラ法に経路の本数を保存しておく"
      ]
    },
    {
      "cell_type": "code",
      "metadata": {
        "colab": {
          "base_uri": "https://localhost:8080/"
        },
        "id": "QFWmxSyg_IZC",
        "outputId": "0117c4aa-0244-42ab-aad3-e450d64a03b6"
      },
      "source": [
        "N, M = map(int, input().split())\n",
        "G = [[] for _ in range(N)]\n",
        "for _ in range(M):\n",
        "  a,b = map(int, input().split())\n",
        "  G[a-1].append(b-1)\n",
        "  G[b-1].append(a-1)"
      ],
      "execution_count": 25,
      "outputs": [
        {
          "output_type": "stream",
          "text": [
            "4 5\n",
            "2 4\n",
            "1 2\n",
            "2 3\n",
            "1 3\n",
            "3 4\n"
          ],
          "name": "stdout"
        }
      ]
    },
    {
      "cell_type": "code",
      "metadata": {
        "colab": {
          "base_uri": "https://localhost:8080/"
        },
        "id": "Pm5iwFgi_IWG",
        "outputId": "00a7762a-6014-4aa0-d78d-73809c00dc25"
      },
      "source": [
        "from heapq import heappush, heappop\n",
        "def dijkstra(s, n):\n",
        "  INF = 10**10\n",
        "  dist = [INF] * n\n",
        "  dist[s] = 0\n",
        "  seen = [False] * n\n",
        "  hq = [(0, s)]\n",
        "  cnt = [0] * n\n",
        "  cnt[s] = 1\n",
        "  mod = 10**9 + 7\n",
        "  while hq:\n",
        "    v = heappop(hq)[1]\n",
        "    seen[v] = True\n",
        "    for to in G[v]:\n",
        "      if seen[to] == False and dist[v] + 1 < dist[to]:\n",
        "        dist[to] = dist[v] + 1\n",
        "        cnt[to] = cnt[v]\n",
        "        heappush(hq, (dist[to], to))\n",
        "      elif dist[v] + 1 == dist[to]:\n",
        "        cnt[to] += cnt[v]\n",
        "      cnt[to] %= mod\n",
        "  return cnt\n",
        "\n",
        "cnt = dijkstra(0, N)\n",
        "print(cnt[N-1])"
      ],
      "execution_count": 28,
      "outputs": [
        {
          "output_type": "stream",
          "text": [
            "2\n"
          ],
          "name": "stdout"
        }
      ]
    },
    {
      "cell_type": "markdown",
      "metadata": {
        "id": "SureFNBpBW2D"
      },
      "source": [
        "### BFS\n",
        "辺に重みがない場合の最短経路は幅優先探索を使うのが良い. この際もその頂点にたどり着く最短経路の本数を保存しておく."
      ]
    },
    {
      "cell_type": "code",
      "metadata": {
        "id": "0Sak5M16BWjC"
      },
      "source": [
        "N, M = map(int, input().split())\n",
        "G = [[] for _ in range(N)]\n",
        "for _ in range(M):\n",
        "  a, b = map(int, input().split())\n",
        "  G[a-1].append(b-1)\n",
        "  G[b-1].append(a-1)"
      ],
      "execution_count": null,
      "outputs": []
    },
    {
      "cell_type": "code",
      "metadata": {
        "id": "dN_Z5aiznJgB"
      },
      "source": [
        "from collections import deque\n",
        "def bfs(s, n):\n",
        "  mod = 10**9 + 7\n",
        "  INF = 10**10\n",
        "  dist = [INF] * n\n",
        "  dist[s] = 0\n",
        "  cnt = [0] * n\n",
        "  cnt[s] = 1\n",
        "  dq = deque([s])\n",
        "  while dq:\n",
        "    v = dq.popleft()\n",
        "    for to in G[v]:\n",
        "      if dist[to] == INF:\n",
        "        dist[to] = dist[v] + 1\n",
        "        cnt[to] = cnt[v]\n",
        "        dq.append(to)\n",
        "      elif dist[to] == dist[v] + 1:\n",
        "        cnt[to] += cnt[v]\n",
        "        cnt[to] %= mod\n",
        "  return cnt"
      ],
      "execution_count": 34,
      "outputs": []
    },
    {
      "cell_type": "code",
      "metadata": {
        "id": "mlp2Yr1qnJdC",
        "colab": {
          "base_uri": "https://localhost:8080/"
        },
        "outputId": "77055cce-c2c5-4012-c905-9c1a0a1cb7c6"
      },
      "source": [
        "cnt = bfs(0, N)\n",
        "print(cnt[N-1])"
      ],
      "execution_count": 36,
      "outputs": [
        {
          "output_type": "stream",
          "text": [
            "2\n"
          ],
          "name": "stdout"
        }
      ]
    }
  ]
}