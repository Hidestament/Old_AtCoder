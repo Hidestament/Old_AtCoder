{
  "nbformat": 4,
  "nbformat_minor": 0,
  "metadata": {
    "colab": {
      "name": "ABC212.ipynb",
      "provenance": [],
      "collapsed_sections": [],
      "authorship_tag": "ABX9TyN8HAkMkPwdAAJX6FWMw1XJ",
      "include_colab_link": true
    },
    "kernelspec": {
      "name": "python3",
      "display_name": "Python 3"
    },
    "language_info": {
      "name": "python"
    }
  },
  "cells": [
    {
      "cell_type": "markdown",
      "metadata": {
        "id": "view-in-github",
        "colab_type": "text"
      },
      "source": [
        "<a href=\"https://colab.research.google.com/github/Hidestament/AtCoder/blob/main/ABC/ABC212.ipynb\" target=\"_parent\"><img src=\"https://colab.research.google.com/assets/colab-badge.svg\" alt=\"Open In Colab\"/></a>"
      ]
    },
    {
      "cell_type": "markdown",
      "metadata": {
        "id": "Ix7d_uzhKhOB"
      },
      "source": [
        "# [ABC212](https://atcoder.jp/contests/abc212)"
      ]
    },
    {
      "cell_type": "markdown",
      "metadata": {
        "id": "otLugY-SKlCb"
      },
      "source": [
        "## [A - Alloy](https://atcoder.jp/contests/abc212/tasks/abc212_a)"
      ]
    },
    {
      "cell_type": "code",
      "metadata": {
        "colab": {
          "base_uri": "https://localhost:8080/"
        },
        "id": "0NkDiWTIcHMz",
        "outputId": "bee6be09-a687-4aa1-ea1f-7ef28bb9612f"
      },
      "source": [
        "A, B = map(int, input().split())\n",
        "if 0 < A and B == 0: print(\"Gold\")\n",
        "elif A == 0 and 0 < B: print(\"Silver\")\n",
        "else: print(\"Alloy\")"
      ],
      "execution_count": null,
      "outputs": [
        {
          "output_type": "stream",
          "text": [
            "50 50\n",
            "Alloy\n"
          ],
          "name": "stdout"
        }
      ]
    },
    {
      "cell_type": "markdown",
      "metadata": {
        "id": "JV6VQxr4cx6W"
      },
      "source": [
        "## [B - Weak Password](https://atcoder.jp/contests/abc212/tasks/abc212_b)"
      ]
    },
    {
      "cell_type": "code",
      "metadata": {
        "colab": {
          "base_uri": "https://localhost:8080/"
        },
        "id": "tJxm6qelFgO1",
        "outputId": "f8dd86a4-b195-413a-dab7-576659465547"
      },
      "source": [
        "X = list(map(int, input()))"
      ],
      "execution_count": 1,
      "outputs": [
        {
          "output_type": "stream",
          "text": [
            "7777\n"
          ],
          "name": "stdout"
        }
      ]
    },
    {
      "cell_type": "code",
      "metadata": {
        "colab": {
          "base_uri": "https://localhost:8080/"
        },
        "id": "52NwbM9BFgMN",
        "outputId": "f73b5f06-adee-4d93-aeb7-e127bbaec990"
      },
      "source": [
        "if X.count(X[0]) == 4 or all(X[i+1] == (X[i] + 1) % 10 for i in range(3)):\n",
        "  print(\"Weak\")\n",
        "else:\n",
        "  print(\"Strong\")"
      ],
      "execution_count": 5,
      "outputs": [
        {
          "output_type": "stream",
          "text": [
            "Weak\n"
          ],
          "name": "stdout"
        }
      ]
    },
    {
      "cell_type": "markdown",
      "metadata": {
        "id": "x8tlmg-Re1or"
      },
      "source": [
        "## [C - Min Difference](https://atcoder.jp/contests/abc212/tasks/abc212_c)"
      ]
    },
    {
      "cell_type": "markdown",
      "metadata": {
        "id": "f4edSgDWGWnj"
      },
      "source": [
        "Aの要素を全探索して, それに対する最適なBの要素を二分探索で求める. 計算量は$O(A\\log B)$となって間に合う."
      ]
    },
    {
      "cell_type": "code",
      "metadata": {
        "colab": {
          "base_uri": "https://localhost:8080/"
        },
        "id": "AeX10Ds2dKuf",
        "outputId": "9c0e4e62-d6be-4828-a7b2-5cf3e4332f8d"
      },
      "source": [
        "N, M = map(int, input().split())\n",
        "A = sorted(list(map(int, input().split())))\n",
        "B = sorted(list(map(int, input().split())))"
      ],
      "execution_count": 9,
      "outputs": [
        {
          "output_type": "stream",
          "text": [
            "1 1\n",
            "10\n",
            "10\n"
          ],
          "name": "stdout"
        }
      ]
    },
    {
      "cell_type": "code",
      "metadata": {
        "colab": {
          "base_uri": "https://localhost:8080/"
        },
        "id": "wlpehwJWeuql",
        "outputId": "a585787b-9de4-4923-e196-6cf17524d566"
      },
      "source": [
        "import bisect\n",
        "ans = 10**10\n",
        "for a in A:\n",
        "  index = bisect.bisect_right(B, a)\n",
        "  if index != 0:\n",
        "    ans = min(ans, abs(a - B[index - 1]))\n",
        "  if index != M:\n",
        "    ans = min(ans, abs(a - B[index]))\n",
        "print(ans)"
      ],
      "execution_count": 18,
      "outputs": [
        {
          "output_type": "stream",
          "text": [
            "0\n"
          ],
          "name": "stdout"
        }
      ]
    },
    {
      "cell_type": "markdown",
      "metadata": {
        "id": "ofr2H-27gR9F"
      },
      "source": [
        "## [D - Querying Multiset](https://atcoder.jp/contests/abc212/tasks/abc212_d)"
      ]
    },
    {
      "cell_type": "markdown",
      "metadata": {
        "id": "Ne1imTojMUjb"
      },
      "source": [
        "pythonのheapqを使う. これを使うと, 最小値の取得, 値の挿入が$O(\\log N)$で行える.\n",
        "\n",
        "ここで, 操作1と操作2について考える.\n",
        "\n",
        "操作2のときにすべての要素に値を+するのは効率が悪いので, どれくらい+されたかをtempとして保存しておく. そしてその後操作1で値を追加するときには, そのtempを引いた値を追加する.\n",
        "\n",
        "最後に最小値を取得して表示するときには, 最小値にtempを追加して表示する.\n"
      ]
    },
    {
      "cell_type": "code",
      "metadata": {
        "id": "JJynHLHNMnLB"
      },
      "source": [
        "import heapq\n",
        "Q = int(input())\n",
        "\n",
        "hq = []\n",
        "temp = 0\n",
        "for q in range(Q):\n",
        "  query = list(map(int, input().split()))\n",
        "  if query[0] == 1:\n",
        "    heapq.heappush(hq, query[1] - temp)\n",
        "  elif query[0] == 2:\n",
        "    temp += query[1]\n",
        "  else:\n",
        "    ans = heapq.heappop(hq)\n",
        "    print(ans + temp)"
      ],
      "execution_count": null,
      "outputs": []
    },
    {
      "cell_type": "markdown",
      "metadata": {
        "id": "vt07h5ZjlRuQ"
      },
      "source": [
        "## [E - Safety Journey](https://atcoder.jp/contests/abc212/tasks/abc212_e)"
      ]
    },
    {
      "cell_type": "markdown",
      "metadata": {
        "id": "5a_LialJTr67"
      },
      "source": [
        "### DP1 : TLEになる"
      ]
    },
    {
      "cell_type": "code",
      "metadata": {
        "id": "g-urjZ5P01KP",
        "colab": {
          "base_uri": "https://localhost:8080/"
        },
        "outputId": "441cdfbf-7939-4c42-c543-20efee9288c8"
      },
      "source": [
        "N, M, K = map(int, input().split())\n",
        "G = [set([i]) for i in range(N+1)]\n",
        "for _ in range(M):\n",
        "  u, v = map(int, input().split())\n",
        "  G[u].add(v)\n",
        "  G[v].add(u)"
      ],
      "execution_count": 56,
      "outputs": [
        {
          "output_type": "stream",
          "text": [
            "3 1 4\n",
            "2 3\n"
          ],
          "name": "stdout"
        }
      ]
    },
    {
      "cell_type": "code",
      "metadata": {
        "id": "HNX8AxCD02f6"
      },
      "source": [
        "dp = [[0 for _ in range(N+1)] for __ in range(K+1)]"
      ],
      "execution_count": 57,
      "outputs": []
    },
    {
      "cell_type": "code",
      "metadata": {
        "id": "HyZB4Zlv03eF"
      },
      "source": [
        "dp[0][0] = 1\n",
        "dp[0][1] = 1\n",
        "\n",
        "mod = 998244353\n",
        "for k in range(K):\n",
        "  for n in range(1,N+1):\n",
        "    for v in range(1, N+1):\n",
        "      if v != n and v not in G[n]:\n",
        "        dp[k+1][v] += dp[k][n]\n",
        "        dp[k+1][v] %= mod"
      ],
      "execution_count": 58,
      "outputs": []
    },
    {
      "cell_type": "code",
      "metadata": {
        "colab": {
          "base_uri": "https://localhost:8080/"
        },
        "id": "dgeNJXByTRmf",
        "outputId": "20558db8-7e5f-4356-e487-20b579c26b69"
      },
      "source": [
        "dp[K][1]"
      ],
      "execution_count": 39,
      "outputs": [
        {
          "output_type": "execute_result",
          "data": {
            "text/plain": [
              "428417047"
            ]
          },
          "metadata": {
            "tags": []
          },
          "execution_count": 39
        }
      ]
    },
    {
      "cell_type": "markdown",
      "metadata": {
        "id": "j0gdh8UYTvk1"
      },
      "source": [
        "### DP2 : PypyでAC\n",
        "上を高速化する. "
      ]
    },
    {
      "cell_type": "code",
      "metadata": {
        "colab": {
          "base_uri": "https://localhost:8080/"
        },
        "id": "GEgxjFpqTlWS",
        "outputId": "81c63f65-6df5-4f43-d32d-e0235a417478"
      },
      "source": [
        "N, M, K = map(int, input().split())\n",
        "G = [set([i]) for i in range(N+1)]\n",
        "for _ in range(M):\n",
        "  u, v = map(int, input().split())\n",
        "  G[u].add(v)\n",
        "  G[v].add(u)\n",
        "mod = 998244353"
      ],
      "execution_count": 66,
      "outputs": [
        {
          "output_type": "stream",
          "text": [
            "5 3 100\n",
            "1 2\n",
            "4 5\n",
            "2 3\n"
          ],
          "name": "stdout"
        }
      ]
    },
    {
      "cell_type": "code",
      "metadata": {
        "id": "TB6WeabgTwqU"
      },
      "source": [
        "dp = [[0 for _ in range(N+1)] for __ in range(K+1)]\n",
        "dp[0][0] = 1\n",
        "dp[0][1] = 1\n",
        "\n",
        "temp = 1\n",
        "for k in range(1, K+1):\n",
        "  n_temp = 0\n",
        "  for n in range(1,N+1):\n",
        "    ng = 0\n",
        "    for v in G[n]:\n",
        "      ng += dp[k-1][v]\n",
        "    dp[k][n] = temp - ng\n",
        "    dp[k][n] %= mod\n",
        "    n_temp += dp[k][n]\n",
        "  temp = n_temp"
      ],
      "execution_count": 69,
      "outputs": []
    },
    {
      "cell_type": "code",
      "metadata": {
        "colab": {
          "base_uri": "https://localhost:8080/"
        },
        "id": "BRdBiKC_Vu1a",
        "outputId": "a7acc0f1-7342-4395-fa0f-8fbcfa43c245"
      },
      "source": [
        "print(dp[K][1])"
      ],
      "execution_count": 59,
      "outputs": [
        {
          "output_type": "execute_result",
          "data": {
            "text/plain": [
              "[[1, 1, 0, 0], [0, 0, 1, 1], [0, 2, 0, 0], [0, 0, 2, 2], [0, 4, 0, 0]]"
            ]
          },
          "metadata": {
            "tags": []
          },
          "execution_count": 59
        }
      ]
    },
    {
      "cell_type": "markdown",
      "metadata": {
        "id": "OF23RsgJYEuO"
      },
      "source": [
        "提出は以下のコードでやらないとTLEになる"
      ]
    },
    {
      "cell_type": "code",
      "metadata": {
        "id": "_rZGmzWGWgEX"
      },
      "source": [
        "def main():\n",
        "  N, M, K = map(int, input().split())\n",
        "  G = [set([i]) for i in range(N+1)]\n",
        "  for _ in range(M):\n",
        "    u, v = map(int, input().split())\n",
        "    G[u].add(v)\n",
        "    G[v].add(u)\n",
        "  mod = 998244353\n",
        "\n",
        "  dp = [[0 for _ in range(N+1)] for __ in range(K+1)]\n",
        "  dp[0][0] = 1\n",
        "  dp[0][1] = 1\n",
        "\n",
        "  temp = 1\n",
        "  for k in range(1, K+1):\n",
        "    n_temp = 0\n",
        "    for n in range(1,N+1):\n",
        "      ng = 0\n",
        "      for v in G[n]:\n",
        "        ng += dp[k-1][v]\n",
        "      dp[k][n] = temp - ng\n",
        "      dp[k][n] %= mod\n",
        "      n_temp += dp[k][n]\n",
        "    temp = n_temp\n",
        "  print(dp[K][1])\n",
        "\n",
        "if __name__ == \"__main__\":\n",
        "  main()"
      ],
      "execution_count": null,
      "outputs": []
    }
  ]
}