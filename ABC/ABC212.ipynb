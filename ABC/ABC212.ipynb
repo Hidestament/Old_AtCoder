{
  "nbformat": 4,
  "nbformat_minor": 0,
  "metadata": {
    "colab": {
      "name": "ABC212.ipynb",
      "provenance": [],
      "collapsed_sections": [],
      "authorship_tag": "ABX9TyMDAtPzEhimdznxNZz2nuzS",
      "include_colab_link": true
    },
    "kernelspec": {
      "name": "python3",
      "display_name": "Python 3"
    },
    "language_info": {
      "name": "python"
    }
  },
  "cells": [
    {
      "cell_type": "markdown",
      "metadata": {
        "id": "view-in-github",
        "colab_type": "text"
      },
      "source": [
        "<a href=\"https://colab.research.google.com/github/Hidestament/AtCoder/blob/main/ABC/ABC212.ipynb\" target=\"_parent\"><img src=\"https://colab.research.google.com/assets/colab-badge.svg\" alt=\"Open In Colab\"/></a>"
      ]
    },
    {
      "cell_type": "markdown",
      "source": [
        "# [AtCoder Beginner Contest 212](https://atcoder.jp/contests/abc212)"
      ],
      "metadata": {
        "id": "hKhLOMC9DJVq"
      }
    },
    {
      "cell_type": "markdown",
      "source": [
        "## [A - Alloy](https://atcoder.jp/contests/abc212/tasks/abc212_a)"
      ],
      "metadata": {
        "id": "TxZpKzTDDNLW"
      }
    },
    {
      "cell_type": "code",
      "execution_count": null,
      "metadata": {
        "id": "JvukPtL7DIlh"
      },
      "outputs": [],
      "source": [
        "A, B = map(int, input().split())\n",
        "if 0 < A and B == 0:\n",
        "    print(\"Gold\")\n",
        "elif A == 0 and 0 < B:\n",
        "    print(\"Silver\")\n",
        "else:\n",
        "    print(\"Alloy\")"
      ]
    },
    {
      "cell_type": "markdown",
      "source": [
        "## [B - Weak Password](https://atcoder.jp/contests/abc212/tasks/abc212_b)"
      ],
      "metadata": {
        "id": "vcWmAnS0Djyz"
      }
    },
    {
      "cell_type": "code",
      "source": [
        "X = str(input())\n",
        "flag = True\n",
        "if len(set(X)) == 1:\n",
        "    flag = False\n",
        "if all(int(X[i+1]) % 10 == (int(X[i]) + 1) % 10 for i in range(3)):\n",
        "    flag = False\n",
        "\n",
        "print(\"Strong\" if flag else \"Weak\")"
      ],
      "metadata": {
        "colab": {
          "base_uri": "https://localhost:8080/"
        },
        "id": "KOSK7ylwDlrt",
        "outputId": "4e5a3eb2-896b-4da1-ca49-35215a174577"
      },
      "execution_count": null,
      "outputs": [
        {
          "name": "stdout",
          "output_type": "stream",
          "text": [
            "0112\n"
          ]
        }
      ]
    },
    {
      "cell_type": "markdown",
      "source": [
        "## [C - Min Difference](https://atcoder.jp/contests/abc212/tasks/abc212_c)"
      ],
      "metadata": {
        "id": "ODHVy1gxEz0B"
      }
    },
    {
      "cell_type": "code",
      "source": [
        "N, M = map(int, input().split())\n",
        "A = list(map(int, input().split()))\n",
        "B = list(map(int, input().split()))\n",
        "A.sort()\n",
        "B.sort()\n",
        "B = [-10**15] + B + [10**15]"
      ],
      "metadata": {
        "id": "kna6Js9OOHto"
      },
      "execution_count": null,
      "outputs": []
    },
    {
      "cell_type": "code",
      "source": [
        "from bisect import bisect_left\n",
        "ans = 10**15\n",
        "for a in A:\n",
        "    ind = bisect_left(B, a)\n",
        "    ans = min(ans, abs(a - B[ind]), abs(a - B[ind - 1]))\n",
        "print(ans)"
      ],
      "metadata": {
        "id": "8cet_of4OHre"
      },
      "execution_count": null,
      "outputs": []
    },
    {
      "cell_type": "markdown",
      "source": [
        "## [D - Querying Multiset](https://atcoder.jp/contests/abc212/tasks/abc212_d)"
      ],
      "metadata": {
        "id": "ieNpSUDcGGKM"
      }
    },
    {
      "cell_type": "code",
      "source": [
        "from heapq import heappush, heappop\n",
        "Q = int(input())\n",
        "hq = []\n",
        "offset = 0\n",
        "for _ in range(Q):\n",
        "    query = list(map(int, input().split()))\n",
        "    if query[0] == 1:\n",
        "        X = query[1]\n",
        "        heappush(hq, X - offset)\n",
        "    elif query[0] == 2:\n",
        "        X = query[1]\n",
        "        offset += X\n",
        "    else:\n",
        "        X = heappop(hq)\n",
        "        print(X + offset)"
      ],
      "metadata": {
        "colab": {
          "base_uri": "https://localhost:8080/"
        },
        "id": "DauwOVqLEBWt",
        "outputId": "71a13129-b0a6-4685-8454-96a1ff372ec0"
      },
      "execution_count": null,
      "outputs": [
        {
          "output_type": "stream",
          "name": "stdout",
          "text": [
            "5\n",
            "1 3\n",
            "1 5\n",
            "3\n",
            "3\n",
            "2 2\n",
            "3\n",
            "7\n"
          ]
        }
      ]
    },
    {
      "cell_type": "markdown",
      "source": [
        "## [E - Safety Journey](https://atcoder.jp/contests/abc212/tasks/abc212_e)"
      ],
      "metadata": {
        "id": "jGvUwKUyHdnK"
      }
    },
    {
      "cell_type": "markdown",
      "source": [
        "### とりあえず$O(N^3)$解法（TLE）"
      ],
      "metadata": {
        "id": "50sdzv07eTxE"
      }
    },
    {
      "cell_type": "code",
      "source": [
        "N, M, K = map(int, input().split())\n",
        "mod = 998244353\n",
        "edges = set()\n",
        "for _ in range(M):\n",
        "    u, v = map(int, input().split())\n",
        "    u -= 1\n",
        "    v -= 1\n",
        "    edges.add((u, v))\n",
        "    edges.add((v, u))"
      ],
      "metadata": {
        "id": "Ue6vIDNdG-09",
        "colab": {
          "base_uri": "https://localhost:8080/"
        },
        "outputId": "e1c18bdf-e883-4e12-e512-893c6ca7bd67"
      },
      "execution_count": null,
      "outputs": [
        {
          "name": "stdout",
          "output_type": "stream",
          "text": [
            "3 1 4\n",
            "2 3\n"
          ]
        }
      ]
    },
    {
      "cell_type": "code",
      "source": [
        "# DP[k][v]: 0 -> v の 長さkの歩道の数\n",
        "DP = [[0] * N for _ in range(K + 1)]\n",
        "DP[0][0] = 1"
      ],
      "metadata": {
        "id": "qjajOjH2bfjg"
      },
      "execution_count": null,
      "outputs": []
    },
    {
      "cell_type": "code",
      "source": [
        "for k in range(1, K + 1):\n",
        "    for u in range(N):\n",
        "        for v in range(N):\n",
        "            if u == v: continue\n",
        "            if (u, v) in edges: continue\n",
        "            DP[k][u] += DP[k - 1][v]\n",
        "            DP[k][u] %= mod"
      ],
      "metadata": {
        "id": "OcftJRWtdFbs"
      },
      "execution_count": null,
      "outputs": []
    },
    {
      "cell_type": "code",
      "source": [
        "print(DP[K][0] % mod)"
      ],
      "metadata": {
        "colab": {
          "base_uri": "https://localhost:8080/"
        },
        "id": "T5cScRKpdFZI",
        "outputId": "001e5ddd-fcbe-4e09-8f9e-de0faa8bf86f"
      },
      "execution_count": null,
      "outputs": [
        {
          "output_type": "stream",
          "name": "stdout",
          "text": [
            "4\n"
          ]
        }
      ]
    },
    {
      "cell_type": "markdown",
      "source": [
        "### 累積和（的なやつ）を用いて上のを高速化 $O(N^2)$"
      ],
      "metadata": {
        "id": "ICs3i1nMeagl"
      }
    },
    {
      "cell_type": "code",
      "source": [
        "N, M, K = map(int, input().split())\n",
        "mod = 998244353\n",
        "\n",
        "edges = [[] for _ in range(N)]\n",
        "for _ in range(M):\n",
        "    u, v = map(int, input().split())\n",
        "    u -= 1\n",
        "    v -= 1\n",
        "    edges[u].append(v)\n",
        "    edges[v].append(u)"
      ],
      "metadata": {
        "colab": {
          "base_uri": "https://localhost:8080/"
        },
        "id": "Y0S9yspddFSX",
        "outputId": "37f3ee07-dbd6-4088-ebcd-c7f593df6bc3"
      },
      "execution_count": null,
      "outputs": [
        {
          "name": "stdout",
          "output_type": "stream",
          "text": [
            "3 1 4\n",
            "2 3\n"
          ]
        }
      ]
    },
    {
      "cell_type": "code",
      "source": [
        "# DP[k][v]: 0 -> v の 長さkの歩道の数\n",
        "DP = [[0] * N for _ in range(K + 1)]\n",
        "DP[0][0] = 1"
      ],
      "metadata": {
        "id": "LRsqjWrDgrpv"
      },
      "execution_count": null,
      "outputs": []
    },
    {
      "cell_type": "code",
      "source": [
        "# dest[v]: Σ_{(u, v) in edges} DP[k-1][u]\n",
        "dest = [[0] * N for _ in range(K + 1)]\n",
        "for to in edges[0]:\n",
        "    dest[0][to] += DP[0][0]"
      ],
      "metadata": {
        "id": "mqaI2mRfi2AV"
      },
      "execution_count": null,
      "outputs": []
    },
    {
      "cell_type": "code",
      "source": [
        "s = [0] * (K + 1)\n",
        "s[0] = 1"
      ],
      "metadata": {
        "id": "Z8QkVvnPj_BV"
      },
      "execution_count": null,
      "outputs": []
    },
    {
      "cell_type": "code",
      "source": [
        "for k in range(1, K + 1):\n",
        "    for u in range(N):\n",
        "        # u -> u は 遷移しないので sからその分だけひく\n",
        "        DP[k][u] += (s[k-1] - DP[k-1][u]) - dest[k-1][u]\n",
        "        DP[k][u] %= mod\n",
        " \n",
        "        # sの更新\n",
        "        s[k] += DP[k][u]\n",
        "        s[k] %= mod\n",
        "        \n",
        "        # destの更新\n",
        "        for to in edges[u]:\n",
        "            dest[k][to] += DP[k][u]\n",
        "            dest[k][to] %= mod"
      ],
      "metadata": {
        "id": "GLVeH7KmgrhK"
      },
      "execution_count": null,
      "outputs": []
    },
    {
      "cell_type": "code",
      "source": [
        "print(DP[K][0] % mod)"
      ],
      "metadata": {
        "colab": {
          "base_uri": "https://localhost:8080/"
        },
        "id": "vJn9LaNwgtU1",
        "outputId": "32c70649-2d4b-4568-a1e0-3d8ab07b98b3"
      },
      "execution_count": null,
      "outputs": [
        {
          "output_type": "stream",
          "name": "stdout",
          "text": [
            "4\n"
          ]
        }
      ]
    }
  ]
}