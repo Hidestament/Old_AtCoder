{
  "nbformat": 4,
  "nbformat_minor": 0,
  "metadata": {
    "colab": {
      "name": "ABC213.ipynb",
      "provenance": [],
      "collapsed_sections": [],
      "authorship_tag": "ABX9TyO5rBW5OkFmeiTiLEcvuD4G",
      "include_colab_link": true
    },
    "kernelspec": {
      "name": "python3",
      "display_name": "Python 3"
    },
    "language_info": {
      "name": "python"
    }
  },
  "cells": [
    {
      "cell_type": "markdown",
      "metadata": {
        "id": "view-in-github",
        "colab_type": "text"
      },
      "source": [
        "<a href=\"https://colab.research.google.com/github/Hidestament/AtCoder/blob/main/ABC/ABC213.ipynb\" target=\"_parent\"><img src=\"https://colab.research.google.com/assets/colab-badge.svg\" alt=\"Open In Colab\"/></a>"
      ]
    },
    {
      "cell_type": "markdown",
      "source": [
        "# [AtCoder Beginner Contest 213](https://atcoder.jp/contests/abc213)"
      ],
      "metadata": {
        "id": "PZUzcfmlEjid"
      }
    },
    {
      "cell_type": "markdown",
      "source": [
        "## [A - Bitwise Exclusive Or](https://atcoder.jp/contests/abc213/tasks/abc213_a)"
      ],
      "metadata": {
        "id": "0n3pnKeaElin"
      }
    },
    {
      "cell_type": "code",
      "execution_count": null,
      "metadata": {
        "id": "oaPzAAlWEhx-"
      },
      "outputs": [],
      "source": [
        "A, B = map(int, input().split())\n",
        "print(A ^ B)"
      ]
    },
    {
      "cell_type": "markdown",
      "source": [
        "## [B - Booby Prize](https://atcoder.jp/contests/abc213/tasks/abc213_b)"
      ],
      "metadata": {
        "id": "7-n1_sakEtxJ"
      }
    },
    {
      "cell_type": "code",
      "source": [
        "N = int(input())\n",
        "A = list(map(int, input().split()))\n",
        "\n",
        "enumerate_A = [[i+1, A[i]] for i in range(N)]\n",
        "enumerate_A.sort(key=lambda x:x[1])\n",
        "print(enumerate_A[-2][0])"
      ],
      "metadata": {
        "colab": {
          "base_uri": "https://localhost:8080/"
        },
        "id": "5vaCN-1QEwFp",
        "outputId": "1c425143-ca05-4000-8549-b102ad898764"
      },
      "execution_count": null,
      "outputs": [
        {
          "output_type": "stream",
          "name": "stdout",
          "text": [
            "6\n",
            "1 123 12345 12 1234 123456\n",
            "5\n"
          ]
        }
      ]
    },
    {
      "cell_type": "markdown",
      "source": [
        "## [C - Reorder Cards](https://atcoder.jp/contests/abc213/tasks/abc213_c)"
      ],
      "metadata": {
        "id": "ulwKAoWsFL8q"
      }
    },
    {
      "cell_type": "code",
      "source": [
        "H, W, N = map(int, input().split())\n",
        "hgrid = []\n",
        "wgrid = []\n",
        "for _ in range(N):\n",
        "    a, b = map(int, input().split())\n",
        "    hgrid.append(a)\n",
        "    wgrid.append(b)"
      ],
      "metadata": {
        "colab": {
          "base_uri": "https://localhost:8080/"
        },
        "id": "gDB7n28ptF48",
        "outputId": "7f2fa2bf-3b38-4ffb-dbb8-28aca0839766"
      },
      "execution_count": 2,
      "outputs": [
        {
          "name": "stdout",
          "output_type": "stream",
          "text": [
            "4 5 2\n",
            "3 2\n",
            "2 5\n"
          ]
        }
      ]
    },
    {
      "cell_type": "code",
      "source": [
        "hcompress = {x: i for i, x in enumerate(sorted(set(hgrid)), start=1)}\n",
        "wcompress = {x: i for i, x in enumerate(sorted(set(wgrid)), start=1)}"
      ],
      "metadata": {
        "id": "xvz5uMp9tF2p"
      },
      "execution_count": 6,
      "outputs": []
    },
    {
      "cell_type": "code",
      "source": [
        "for h, w in zip(hgrid, wgrid):\n",
        "    print(hcompress[h], wcompress[w])"
      ],
      "metadata": {
        "colab": {
          "base_uri": "https://localhost:8080/"
        },
        "id": "Smc-crK6tFzx",
        "outputId": "6fbb1bbd-78a0-4e95-f165-4fd2c2f3a79b"
      },
      "execution_count": 8,
      "outputs": [
        {
          "output_type": "stream",
          "name": "stdout",
          "text": [
            "2 1\n",
            "1 2\n"
          ]
        }
      ]
    },
    {
      "cell_type": "markdown",
      "source": [
        "## [D - Takahashi Tour](https://atcoder.jp/contests/abc213/tasks/abc213_d)"
      ],
      "metadata": {
        "id": "wIvchWeTFuvv"
      }
    },
    {
      "cell_type": "code",
      "source": [
        "import sys\n",
        "sys.setrecursionlimit(10**7)\n",
        "\n",
        "N = int(input())\n",
        "graph = [[] for _ in range(N)]\n",
        "for _ in range(N-1):\n",
        "    a, b = map(int, input().split())\n",
        "    graph[a-1].append(b-1)\n",
        "    graph[b-1].append(a-1)\n",
        "for i in range(N):\n",
        "    graph[i] = sorted(graph[i])"
      ],
      "metadata": {
        "colab": {
          "base_uri": "https://localhost:8080/"
        },
        "id": "1a_p3_-zFxIc",
        "outputId": "00c844ca-8e1b-403b-ec6a-270639a0eefe"
      },
      "execution_count": null,
      "outputs": [
        {
          "name": "stdout",
          "output_type": "stream",
          "text": [
            "4\n",
            "1 2\n",
            "4 2\n",
            "3 1\n"
          ]
        }
      ]
    },
    {
      "cell_type": "code",
      "source": [
        "euler_tour = []\n",
        "def dfs(now, bef=-1):\n",
        "    euler_tour.append(now+1)\n",
        "    for to in graph[now]:\n",
        "        if to != bef:\n",
        "            dfs(to, now)\n",
        "            euler_tour.append(now+1)"
      ],
      "metadata": {
        "id": "6m6apzrzGDWh"
      },
      "execution_count": null,
      "outputs": []
    },
    {
      "cell_type": "code",
      "source": [
        "dfs(0)"
      ],
      "metadata": {
        "id": "asiKsBp_GTUD"
      },
      "execution_count": null,
      "outputs": []
    },
    {
      "cell_type": "code",
      "source": [
        "print(*euler_tour)"
      ],
      "metadata": {
        "colab": {
          "base_uri": "https://localhost:8080/"
        },
        "id": "C5FEGeKQGYlG",
        "outputId": "bbaccbd8-7d18-4c6c-fb87-b73f727afdf8"
      },
      "execution_count": null,
      "outputs": [
        {
          "output_type": "execute_result",
          "data": {
            "text/plain": [
              "[1, 2, 4, 2, 1, 3, 1]"
            ]
          },
          "metadata": {},
          "execution_count": 4
        }
      ]
    },
    {
      "cell_type": "markdown",
      "source": [
        "オイラーツアーをライブラリ化しちゃおう"
      ],
      "metadata": {
        "id": "g1hc5yVwc1Le"
      }
    },
    {
      "cell_type": "code",
      "source": [
        "import sys\n",
        "sys.setrecursionlimit(10**7)\n",
        "\n",
        "N = int(input())\n",
        "graph = [[] for _ in range(N)]\n",
        "for _ in range(N-1):\n",
        "    a, b = map(int, input().split())\n",
        "    graph[a-1].append(b-1)\n",
        "    graph[b-1].append(a-1)\n",
        "for i in range(N):\n",
        "    graph[i] = sorted(graph[i])"
      ],
      "metadata": {
        "id": "aJWo8mTfdhtp"
      },
      "execution_count": null,
      "outputs": []
    },
    {
      "cell_type": "code",
      "source": [
        "import sys\n",
        "sys.setrecursionlimit(10**7)\n",
        "\n",
        "\n",
        "def make_euler_tour(graph, r):\n",
        "    euler_tour = []\n",
        "\n",
        "    def dfs(now, bef=-1):\n",
        "        nonlocal euler_tour\n",
        "        # 初めて尋ねた瞬間\n",
        "        euler_tour.append(now)\n",
        "        for to in graph[now]:\n",
        "            if to != bef:\n",
        "                dfs(to, now)\n",
        "                # nowの子を全て訪問し, nowに戻ってきた瞬間\n",
        "                euler_tour.append(now)\n",
        "    dfs(r)\n",
        "    return euler_tour"
      ],
      "metadata": {
        "id": "56ffRdKzc08c"
      },
      "execution_count": null,
      "outputs": []
    },
    {
      "cell_type": "code",
      "source": [
        "euler_tour = make_euler_tour(graph, 0)\n",
        "for i in euler_tour:\n",
        "    print(i + 1)"
      ],
      "metadata": {
        "id": "EY1xFceac05f"
      },
      "execution_count": null,
      "outputs": []
    },
    {
      "cell_type": "markdown",
      "source": [
        "## [E - Stronger Takahashi](https://atcoder.jp/contests/abc213/tasks/abc213_e)"
      ],
      "metadata": {
        "id": "3_rFfaZUcDWi"
      }
    },
    {
      "cell_type": "code",
      "source": [
        "H, W = map(int, input().split())\n",
        "grid = [input() for _ in range(H)]"
      ],
      "metadata": {
        "id": "Qr18jftEBzIH"
      },
      "execution_count": null,
      "outputs": []
    },
    {
      "cell_type": "code",
      "source": [
        "from collections import deque\n",
        "dq = deque()\n",
        "dq.append([0, 0])\n",
        "dist = [[10**10] * W for _ in range(H)]\n",
        "dist[0][0] = 0\n",
        "\n",
        "while dq:\n",
        "    h, w = dq.popleft()\n",
        "    # コスト0の移動\n",
        "    for dh, dw in zip([1, 0, -1, 0], [0, 1, 0, -1]):\n",
        "        nh, nw = h + dh, w + dw\n",
        "        if (0 <= nh < H) and (0 <= nw < W):\n",
        "            if grid[nh][nw] == \"#\": continue\n",
        "            if dist[nh][nw] > dist[h][w]:\n",
        "                dist[nh][nw] = dist[h][w]\n",
        "                dq.appendleft([nh, nw])\n",
        "    \n",
        "    # コスト1の移動\n",
        "    for dh in range(-3, 3):\n",
        "        for dw in range(-3, 3):\n",
        "            nh, nw = h + dh, w + dw\n",
        "            if abs(h - nh) + abs(w - nw) <= 3:\n",
        "                nh, nw = h + dh, w + dw\n",
        "                if (0 <= nh < H) and (0 <= nw < W):\n",
        "                    if dist[nh][nw] > dist[h][w] + 1:\n",
        "                        dq.append([nh, nw])\n",
        "                        dist[nh][nw] = dist[h][w] + 1"
      ],
      "metadata": {
        "id": "Uq9o3or7BzFY"
      },
      "execution_count": null,
      "outputs": []
    },
    {
      "cell_type": "code",
      "source": [
        "print(dist[-1][-1])"
      ],
      "metadata": {
        "id": "8hOayfySB0Xn"
      },
      "execution_count": null,
      "outputs": []
    }
  ]
}