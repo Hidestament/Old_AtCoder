{
  "nbformat": 4,
  "nbformat_minor": 0,
  "metadata": {
    "colab": {
      "name": "ABC213.ipynb",
      "provenance": [],
      "authorship_tag": "ABX9TyM5wZ5KmMmjN1uy7/a0cQKI",
      "include_colab_link": true
    },
    "kernelspec": {
      "name": "python3",
      "display_name": "Python 3"
    },
    "language_info": {
      "name": "python"
    }
  },
  "cells": [
    {
      "cell_type": "markdown",
      "metadata": {
        "id": "view-in-github",
        "colab_type": "text"
      },
      "source": [
        "<a href=\"https://colab.research.google.com/github/Hidestament/AtCoder/blob/main/ABC/ABC213.ipynb\" target=\"_parent\"><img src=\"https://colab.research.google.com/assets/colab-badge.svg\" alt=\"Open In Colab\"/></a>"
      ]
    },
    {
      "cell_type": "markdown",
      "metadata": {
        "id": "bwsy8dOhntwY"
      },
      "source": [
        "# [ABC213](https://atcoder.jp/contests/abc213)"
      ]
    },
    {
      "cell_type": "markdown",
      "metadata": {
        "id": "FvKRW0J2nweu"
      },
      "source": [
        "## [A - Bitwise Exxxclusive Or](https://atcoder.jp/contests/abc213/tasks/abc213_a)"
      ]
    },
    {
      "cell_type": "markdown",
      "metadata": {
        "id": "_g2j4xEf0zPw"
      },
      "source": [
        "Xorは, ある桁の10-1のbitが同じだと, その桁は0となるので,  $A xor A = 0$ となる. \n",
        "\n",
        "よって, $A xor C = B$ の左から$Aをxor$して \n",
        "$$\n",
        "A xor A xor C = A xor B \\\\\n",
        "0 xor C = A xor B \\\\\n",
        "C = A xor B\n",
        "$$\n",
        "となる."
      ]
    },
    {
      "cell_type": "code",
      "metadata": {
        "colab": {
          "base_uri": "https://localhost:8080/"
        },
        "id": "VCoxHRPtnyRX",
        "outputId": "a424a605-cbd9-4410-a03d-88e1bcd1dc1d"
      },
      "source": [
        "A, B = map(int, input().split())"
      ],
      "execution_count": 1,
      "outputs": [
        {
          "output_type": "stream",
          "text": [
            "10 12\n"
          ],
          "name": "stdout"
        }
      ]
    },
    {
      "cell_type": "code",
      "metadata": {
        "id": "e82bSAIkpNTH",
        "colab": {
          "base_uri": "https://localhost:8080/"
        },
        "outputId": "dc724d1e-8f5e-4321-a924-401644301c04"
      },
      "source": [
        "print(A ^ B)"
      ],
      "execution_count": 2,
      "outputs": [
        {
          "output_type": "stream",
          "text": [
            "6\n"
          ],
          "name": "stdout"
        }
      ]
    },
    {
      "cell_type": "markdown",
      "metadata": {
        "id": "pHosZgb6nyfY"
      },
      "source": [
        "## [B - Booby Prize](https://atcoder.jp/contests/abc213/tasks/abc213_b)"
      ]
    },
    {
      "cell_type": "code",
      "metadata": {
        "colab": {
          "base_uri": "https://localhost:8080/"
        },
        "id": "lkuqr6oFnzxj",
        "outputId": "9ceeba11-3615-4783-81d3-d6aa472b1375"
      },
      "source": [
        "N = int(input())\n",
        "A = list(map(int, input().split()))"
      ],
      "execution_count": null,
      "outputs": [
        {
          "output_type": "stream",
          "text": [
            "5\n",
            "3 1 4 15 9\n"
          ],
          "name": "stdout"
        }
      ]
    },
    {
      "cell_type": "code",
      "metadata": {
        "id": "BizNsdM5nztx"
      },
      "source": [
        "B = []\n",
        "for i in range(N):\n",
        "  B.append((i, A[i]))\n",
        "B.sort(key=lambda x:x[1])"
      ],
      "execution_count": null,
      "outputs": []
    },
    {
      "cell_type": "code",
      "metadata": {
        "colab": {
          "base_uri": "https://localhost:8080/"
        },
        "id": "vR6pTknanzWq",
        "outputId": "fcde3803-c5a8-4d9e-cce4-c8d037ff34e7"
      },
      "source": [
        "print(B[-2][0] + 1)"
      ],
      "execution_count": null,
      "outputs": [
        {
          "output_type": "stream",
          "text": [
            "5\n"
          ],
          "name": "stdout"
        }
      ]
    },
    {
      "cell_type": "markdown",
      "metadata": {
        "id": "uREqGnYan0S5"
      },
      "source": [
        "## [C - Reorder Cards](https://atcoder.jp/contests/abc213/tasks/abc213_c)"
      ]
    },
    {
      "cell_type": "markdown",
      "metadata": {
        "id": "sHyXmCtO9VUw"
      },
      "source": [
        "座標圧縮をする問題.\n"
      ]
    },
    {
      "cell_type": "markdown",
      "metadata": {
        "id": "kjnpHpdKGr2g"
      },
      "source": [
        "### 2分探索を使う方法\n",
        "1. 縦軸の座標A （使われるすべての座標一覧）\n",
        "2. Aの要素んぼ重複を消してソートした配列 A'（使われている座標の昇順, 重複なし）\n",
        "3. Aの各要素はdAの何番目かを探索（二分探索bisectを使う）\n",
        "\n",
        "これを横の座標Bにも同様に適応"
      ]
    },
    {
      "cell_type": "code",
      "metadata": {
        "id": "nuUm-4Pon1Y7",
        "colab": {
          "base_uri": "https://localhost:8080/"
        },
        "outputId": "cc3c6c1f-059d-4733-f987-f9b39c0da6b0"
      },
      "source": [
        "from bisect import bisect_left\n",
        "H, W, N = map(int, input().split())\n",
        "A, B = [], []\n",
        "for _ in range(N):\n",
        "  a, b = map(int, input().split())\n",
        "  A.append(a)\n",
        "  B.append(b)\n",
        "\n",
        "dA = sorted(list(set(A)))\n",
        "dB = sorted(list(set(B)))\n",
        "\n",
        "for a,b in zip(A,B):\n",
        "  a_ind = bisect_left(dA, a)\n",
        "  b_ind = bisect_left(dB, b)\n",
        "  print(a_ind+1, b_ind+1)"
      ],
      "execution_count": 1,
      "outputs": [
        {
          "output_type": "stream",
          "text": [
            "4 5 2\n"
          ],
          "name": "stdout"
        }
      ]
    },
    {
      "cell_type": "markdown",
      "metadata": {
        "id": "8LCA7mgOHhba"
      },
      "source": [
        "### 辞書を使う方法\n",
        "1. 縦軸の座標A （使われるすべての座標一覧）\n",
        "2. Aの要素んぼ重複を消してソートした配列 A'（使われている座標の昇順, 重複なし）\n",
        "3. A'の要素の値をkey, A'において何番目かをvalueにした辞書A''\n",
        "4. 各Aの要素のA''における値を取得\n",
        "\n",
        "これを横の座標Bにも同様に適応"
      ]
    },
    {
      "cell_type": "code",
      "metadata": {
        "colab": {
          "base_uri": "https://localhost:8080/"
        },
        "id": "KxHYspN5IDkA",
        "outputId": "ba5fad79-75f9-455d-dbe5-038bc98f42ad"
      },
      "source": [
        "H, W, N = map(int, input().split())\n",
        "A, B = [], []\n",
        "for _ in range(N):\n",
        "  a,b = map(int, input().split())\n",
        "  A.append(a)\n",
        "  B.append(b)\n",
        "\n",
        "dA = sorted(list(set(A)))\n",
        "dB = sorted(list(set(B)))\n",
        "\n",
        "ddA = {x:i+1 for i, x in enumerate(dA)}\n",
        "ddB = {y:j+1 for j, y in enumerate(dB)}\n",
        "\n",
        "for i in range(N):\n",
        "  print(ddA[A[i]], ddB[B[i]])"
      ],
      "execution_count": 15,
      "outputs": [
        {
          "output_type": "stream",
          "text": [
            "4 5 2\n",
            "3 2\n",
            "2 5\n",
            "2 1\n",
            "1 2\n"
          ],
          "name": "stdout"
        }
      ]
    },
    {
      "cell_type": "markdown",
      "metadata": {
        "id": "PLySJaxnn2Jc"
      },
      "source": [
        "## [D - Takahashi Tour](https://atcoder.jp/contests/abc213/tasks/abc213_d)"
      ]
    },
    {
      "cell_type": "markdown",
      "metadata": {
        "id": "AwUkWjE5gg0v"
      },
      "source": [
        "深さ優先探索を行えば良い. 「今どの頂点にいるか」を表示しないといけないが, それをdfsのどのタイミングで行えば良いのかが難しい.\n",
        "\n",
        "再帰的にdfsを行うが, \n",
        "1. その頂点を訪れた瞬間\n",
        "2. その頂点での再帰dfsが終わった瞬間\n",
        "\n",
        "に頂点を追加すると良い.\n",
        "\n",
        "Gの隣接リストをソートしておくのを忘れずに."
      ]
    },
    {
      "cell_type": "code",
      "metadata": {
        "colab": {
          "base_uri": "https://localhost:8080/"
        },
        "id": "9Q9nC_jqYtgB",
        "outputId": "15510238-9b29-46b6-a189-0d9ba13d3c25"
      },
      "source": [
        "import sys\n",
        "sys.setrecursionlimit(10**9) \n",
        "N = int(input())\n",
        "G = [[] for _ in range(N+1)]\n",
        "for _ in range(N-1):\n",
        "  A, B = map(int, input().split())\n",
        "  G[A].append(B)\n",
        "  G[B].append(A)\n",
        "for i in G:\n",
        "  i.sort()"
      ],
      "execution_count": 21,
      "outputs": [
        {
          "output_type": "stream",
          "text": [
            "4\n",
            "1 2\n",
            "4 2\n",
            "3 1\n"
          ],
          "name": "stdout"
        }
      ]
    },
    {
      "cell_type": "code",
      "metadata": {
        "id": "BfapJdhCXU9P"
      },
      "source": [
        "ans = []\n",
        "def dfs(bef, now):\n",
        "  ans.append(now)\n",
        "  for i in G[now]:\n",
        "    if i != bef:\n",
        "      dfs(now, i)\n",
        "      # dfs(now,i)が終わった後は, nowにいる.\n",
        "      # そして, nowに隣接している次の頂点に移動することになる\n",
        "      ans.append(now)"
      ],
      "execution_count": 30,
      "outputs": []
    },
    {
      "cell_type": "code",
      "metadata": {
        "colab": {
          "base_uri": "https://localhost:8080/"
        },
        "id": "aRM7ZA9_X58-",
        "outputId": "06b5e912-0c4d-483f-face-12b7bf987f4b"
      },
      "source": [
        "dfs(-1, 1)\n",
        "print(*ans)"
      ],
      "execution_count": 31,
      "outputs": [
        {
          "output_type": "stream",
          "text": [
            "1 2 4 2 1 3 1\n"
          ],
          "name": "stdout"
        }
      ]
    },
    {
      "cell_type": "markdown",
      "metadata": {
        "id": "6lVfCVkon3HR"
      },
      "source": [
        "## [E - Stronger Takahashi](https://atcoder.jp/contests/abc213/tasks/abc213_e)"
      ]
    },
    {
      "cell_type": "markdown",
      "metadata": {
        "id": "ghdw2Tuc1ux8"
      },
      "source": [
        "隣接する2×2の区間を破壊すると, 今いる箇所からマンハッタン距離が3以内のところにコスト1で移動できることになる.\n",
        "\n",
        "壁のない箇所にはコスト0で移動できる.\n",
        "\n",
        "こう考えると, 辺のコストが0 or 1の最短経路問題と考えることができる. 01-BFSを使って解く.\n",
        "\n",
        "01-BFSの説明 : https://betrue12.hateblo.jp/entry/2018/12/08/000020"
      ]
    },
    {
      "cell_type": "code",
      "metadata": {
        "id": "PTISw7mGn6XC"
      },
      "source": [
        "from collections import deque\n",
        "from itertools import product\n",
        "\n",
        "dh = [-1, 1, 0, 0]\n",
        "dw = [0, 0, -1, 1]\n",
        "\n",
        "# mov1 : 隣接頂点への移動\n",
        "mov1 = tuple((h, w) for h, w in zip(dh, dw))\n",
        "\n",
        "# mov2 : 2*2の壁を破壊しての移動. マンハッタン距離が1以上3以下の箇所に動ける\n",
        "mov2 = tuple((h,w) for h,w in product(range(-2, 3), repeat=2) if 1 <= abs(h) + abs(w) <= 3)"
      ],
      "execution_count": null,
      "outputs": []
    },
    {
      "cell_type": "code",
      "metadata": {
        "id": "kTQ3EGa_3U9w"
      },
      "source": [
        "H, W = map(int, input().split())\n",
        "grid = []\n",
        "for _ in range(H):\n",
        "  temp = input()\n",
        "  grid.append(temp)"
      ],
      "execution_count": null,
      "outputs": []
    },
    {
      "cell_type": "code",
      "metadata": {
        "id": "z3eiL-x63U7g"
      },
      "source": [
        "# 0-1BFS\n",
        "dist = [[10**10] * W for _ in range(H)]\n",
        "dq = deque()\n",
        "\n",
        "# (その頂点までの最短cost, 座標h, 座標w)\n",
        "dq.append((0, 0, 0))\n",
        "while dq:\n",
        "  c, h, w = dq.popleft()\n",
        "  # mov1の移動は壁を通れないのでコストの変化はない\n",
        "  for dh, dw in mov1:\n",
        "    # 次の座標\n",
        "    nh, nw = h + dh, w + dw\n",
        "    # gridからはみ出ないかのチェック\n",
        "    if 0 <= nh < H and 0 <= nw < W:\n",
        "      if grid[nh][nw] == \".\" and c < dist[nh][nw]:\n",
        "        dist[nh][nw] = c\n",
        "        dq.appendleft((c, nh, nw))\n",
        "\n",
        "  # mov2の移動はコストの変化あり\n",
        "  for dh, dw in mov2:\n",
        "    nh, nw = h + dh, w + dw\n",
        "    if 0 <= nh < H and 0 <= nw < W:\n",
        "      # マスに壁があるかどうかの判定はいらない\n",
        "      if c + 1 < dist[nh][nw]:\n",
        "        dist[nh][nw] = c + 1\n",
        "        dq.append((c + 1, nh, nw))\n",
        "\n",
        "print(dist[-1][-1])"
      ],
      "execution_count": null,
      "outputs": []
    }
  ]
}