{
  "nbformat": 4,
  "nbformat_minor": 0,
  "metadata": {
    "colab": {
      "name": "ABC214.ipynb",
      "provenance": [],
      "authorship_tag": "ABX9TyNUP2q9YynML9p3Ap8Jn10V",
      "include_colab_link": true
    },
    "kernelspec": {
      "name": "python3",
      "display_name": "Python 3"
    },
    "language_info": {
      "name": "python"
    }
  },
  "cells": [
    {
      "cell_type": "markdown",
      "metadata": {
        "id": "view-in-github",
        "colab_type": "text"
      },
      "source": [
        "<a href=\"https://colab.research.google.com/github/Hidestament/AtCoder/blob/main/ABC/ABC214.ipynb\" target=\"_parent\"><img src=\"https://colab.research.google.com/assets/colab-badge.svg\" alt=\"Open In Colab\"/></a>"
      ]
    },
    {
      "cell_type": "markdown",
      "metadata": {
        "id": "t5IyQIsPg4Up"
      },
      "source": [
        "# [ABC214](https://atcoder.jp/contests/abc214)"
      ]
    },
    {
      "cell_type": "markdown",
      "metadata": {
        "id": "rJvnIxJgg6eh"
      },
      "source": [
        "## [A - New Generation ABC](https://atcoder.jp/contests/abc214/tasks/abc214_a)"
      ]
    },
    {
      "cell_type": "code",
      "metadata": {
        "colab": {
          "base_uri": "https://localhost:8080/"
        },
        "id": "EcdqTro7g71f",
        "outputId": "76a67b04-d96d-43ce-c3ca-c768dd71ea1e"
      },
      "source": [
        "N = int(input())\n",
        "if N <= 125: print(4)\n",
        "elif N <= 211: print(6)\n",
        "else: print(8)"
      ],
      "execution_count": 1,
      "outputs": [
        {
          "output_type": "stream",
          "text": [
            "50\n",
            "4\n"
          ],
          "name": "stdout"
        }
      ]
    },
    {
      "cell_type": "markdown",
      "metadata": {
        "id": "P2VmwvSQg8Ba"
      },
      "source": [
        "## [B - How many?](https://atcoder.jp/contests/abc214/tasks/abc214_b)"
      ]
    },
    {
      "cell_type": "markdown",
      "metadata": {
        "id": "oKwPSmCWah-O"
      },
      "source": [
        "a,b,c全てを全列挙しても間に合う. cは実は全探索しなくても大丈夫."
      ]
    },
    {
      "cell_type": "code",
      "metadata": {
        "colab": {
          "base_uri": "https://localhost:8080/"
        },
        "id": "eoo7eoUtg9pJ",
        "outputId": "0ff5743e-3b01-4d29-a7d6-960c7aa39057"
      },
      "source": [
        "S, T = map(int, input().split())"
      ],
      "execution_count": null,
      "outputs": [
        {
          "output_type": "stream",
          "text": [
            "10 10\n"
          ],
          "name": "stdout"
        }
      ]
    },
    {
      "cell_type": "code",
      "metadata": {
        "colab": {
          "base_uri": "https://localhost:8080/"
        },
        "id": "4EaMdbCeg9m2",
        "outputId": "9397b757-b5c2-4033-a74b-61071a065614"
      },
      "source": [
        "ans = 0\n",
        "for a in range(101):\n",
        "  for b in range(101):\n",
        "    for c in range(S - b - a + 1):\n",
        "      if a * b * c <= T:\n",
        "        ans += 1\n",
        "print(ans)"
      ],
      "execution_count": null,
      "outputs": [
        {
          "output_type": "stream",
          "text": [
            "213\n"
          ],
          "name": "stdout"
        }
      ]
    },
    {
      "cell_type": "markdown",
      "metadata": {
        "id": "QVOfgIV0g-Ih"
      },
      "source": [
        "## [C - Distribution](https://atcoder.jp/contests/abc214/tasks/abc214_c)"
      ]
    },
    {
      "cell_type": "markdown",
      "metadata": {
        "id": "uC6QpHCZ7fvj"
      },
      "source": [
        "$i$番目の人の最適解を$ans[i]$とすると, $ans[i]$の値は, \n",
        "\n",
        "- $i-1$番目の人からもらう$ans[i-1] + S[i-1]$\n",
        "- 高橋からもらう$T[i]$\n",
        "\n",
        "のどちらかである. よって, \n",
        "$$\n",
        "ans[i] = \\min (ans[i-1] + S[i-1], T[i]) \n",
        "$$\n",
        "となる."
      ]
    },
    {
      "cell_type": "markdown",
      "metadata": {
        "id": "-SeXCDDe8Pqe"
      },
      "source": [
        "ところで, 1番最初に最適解が決まる人は明らかに$T[i]$が一番小さい人である. よって, $T[i]$が一番小さい人からはじめて$N$人分上の更新を行えば良い."
      ]
    },
    {
      "cell_type": "code",
      "metadata": {
        "colab": {
          "base_uri": "https://localhost:8080/"
        },
        "id": "EnBuB4QKg_P7",
        "outputId": "d47bc9a8-41f1-4d2b-db47-d3052fd0521f"
      },
      "source": [
        "N = int(input())\n",
        "S = list(map(int, input().split()))\n",
        "T = list(map(int, input().split()))"
      ],
      "execution_count": null,
      "outputs": [
        {
          "output_type": "stream",
          "text": [
            "8\n",
            "84 87 78 16 94 36 87 93\n",
            "50 22 63 28 91 60 64 27\n"
          ],
          "name": "stdout"
        }
      ]
    },
    {
      "cell_type": "code",
      "metadata": {
        "id": "HdxPh27hg_Nm"
      },
      "source": [
        "ans = [10**10] * N\n",
        "temp = min(T)\n",
        "temp_ind = T.index(temp)\n",
        "ans[temp_ind] = temp\n",
        "\n",
        "for i in range(1, N):\n",
        "  j = temp_ind + i\n",
        "  ans[j % N] = min(ans[j % N], T[j % N], ans[j-1] + S[j-1])"
      ],
      "execution_count": null,
      "outputs": []
    },
    {
      "cell_type": "code",
      "metadata": {
        "colab": {
          "base_uri": "https://localhost:8080/"
        },
        "id": "mBIe28Uxg_K5",
        "outputId": "bf3c83e0-40a2-4bc6-9d1a-6fc2d5aaa3b7"
      },
      "source": [
        "ans"
      ],
      "execution_count": null,
      "outputs": [
        {
          "output_type": "execute_result",
          "data": {
            "text/plain": [
              "[50, 22, 63, 28, 44, 60, 64, 27]"
            ]
          },
          "metadata": {
            "tags": []
          },
          "execution_count": 38
        }
      ]
    },
    {
      "cell_type": "markdown",
      "metadata": {
        "id": "qFNkdGaKlL4p"
      },
      "source": [
        "## [D - Sum of Maximum Weights]()"
      ]
    },
    {
      "cell_type": "markdown",
      "metadata": {
        "id": "ucPzofgEk_lW"
      },
      "source": [
        "$\\sum_{i,j} f(i,j)$の項は大体任意の2頂点間の最短パス分あるので, $O(N^2)$個ある. よって, 最短パスをもとに考えていてはどうにも間に合わない.\n",
        "\n",
        "よってここで, $\\sum_{i,j} f(i,j)$ において, ある辺$(u,v)$が何回カウントされるかを考える.\n",
        "\n",
        "辺は全部で$N-1$個あるので, これがわかれば$O(N)$で答えを求めることができる."
      ]
    },
    {
      "cell_type": "markdown",
      "metadata": {
        "id": "NgFHQ6T-uCZR"
      },
      "source": [
        "ここでどういう条件で辺$(u,v)$がカウントされるかを考える.\n",
        "\n",
        "もとの条件から考えて辺$(u,v)$がカウントされるのはその重さ$w_{u,v}$よりも重みが大きい辺を使用しないパスが存在するときである.\n",
        "\n",
        "これは言い換えれば, 辺$(u,v)$とそれよりも小さい重みの辺で構成されるパスが存在することである.\n",
        "\n",
        "よって, 辺$(u,v)$とその重さ$w_{u,v}$よりも重みが小さい辺から成るグラフを考える. \n",
        "\n",
        "このグラフにおいて辺$(u,v)$を使用するパスの個数が求める辺$(u,v)$のカウントとなる. "
      ]
    },
    {
      "cell_type": "markdown",
      "metadata": {
        "id": "ZrAb8SBx1i8N"
      },
      "source": [
        "辺$(u,v)$を使用するパスの個数は, $u$と連結な頂点の集合を$U$, $v$と連結な頂点の集合を$V$とすると, $|U|*|V|$となる.\n",
        "\n",
        "なぜなら$U$に属する頂点から$V$に属する頂点へのパスは必ず$(u,v)$とそれより重みの小さい辺から構成されるからである. これは木において任意の2頂点$a,b$間の同じ頂点を2回通らないパスは1つしかない, という性質からわかる.\n",
        "\n",
        "$U$内の頂点同士のパスは$(u,v)$を使わないし, $V$も同様. よって, $U$から$V$へいくパスのみが辺$(u,v)$を使う.\n",
        "\n",
        "ちなみに$U$と$V$が同じ（$u,v$が同じ連結成分に属する）であることはありえない. なぜならこのとき辺$(u,v)$を追加すると閉路ができてしまいもとのグラフが木であることに矛盾するからである."
      ]
    },
    {
      "cell_type": "markdown",
      "metadata": {
        "id": "6pH_PBc81x9B"
      },
      "source": [
        "上を実現するには, 辺の重みの小さいものから初めて, UnionFindで逐次連結成分を保存しておけば良い,"
      ]
    },
    {
      "cell_type": "code",
      "metadata": {
        "id": "cmTQ6PKDCBcx",
        "colab": {
          "base_uri": "https://localhost:8080/"
        },
        "outputId": "1c0c41cf-db73-4ae3-a2ab-e14e6e6e902a"
      },
      "source": [
        "N = int(input())\n",
        "edges = []\n",
        "for _ in range(N-1):\n",
        "  u,v,w = map(int, input().split())\n",
        "  edges.append((u, v, w))\n",
        "edges.sort(key=lambda x:x[2])"
      ],
      "execution_count": 11,
      "outputs": [
        {
          "output_type": "stream",
          "text": [
            "3\n",
            "1 2 10\n",
            "2 3 20\n"
          ],
          "name": "stdout"
        }
      ]
    },
    {
      "cell_type": "code",
      "metadata": {
        "id": "ijCtPGV1gwjt"
      },
      "source": [
        "class UnionFindTree:\n",
        "  def __init__(self, n):\n",
        "    self.parents = [-1] * n\n",
        "  \n",
        "  def find(self, x):\n",
        "    if self.parents[x] < 0:\n",
        "      return x\n",
        "    else:\n",
        "      self.parents[x] = self.find(self.parents[x])\n",
        "      return self.find(self.parents[x])\n",
        "    \n",
        "  def union(self, x, y):\n",
        "    x = self.find(x)\n",
        "    y = self.find(y)\n",
        "    if x == y:\n",
        "      return \n",
        "    if self.parents[x] > self.parents[y]:\n",
        "      x, y = y, x\n",
        "    \n",
        "    self.parents[x] += self.parents[y]\n",
        "    self.parents[y] = x\n",
        "  \n",
        "  def same_check(self, x, y):\n",
        "    return self.find(x) == self.find(y)\n",
        "  \n",
        "  def size(self, x):\n",
        "    return -1 * self.parents[self.find(x)]"
      ],
      "execution_count": 12,
      "outputs": []
    },
    {
      "cell_type": "code",
      "metadata": {
        "id": "9IRs0iNkg1Tr"
      },
      "source": [
        "g = UnionFindTree(N+1)"
      ],
      "execution_count": 13,
      "outputs": []
    },
    {
      "cell_type": "code",
      "metadata": {
        "colab": {
          "base_uri": "https://localhost:8080/"
        },
        "id": "9XStRMvNg1uo",
        "outputId": "f3b73309-da11-4ff6-9725-0959f2ddab43"
      },
      "source": [
        "ans = 0\n",
        "for u, v, w in edges:\n",
        "  u_cnt = g.size(u)\n",
        "  v_cnt = g.size(v)\n",
        "  ans += (w * u_cnt * v_cnt)\n",
        "  g.union(u, v)\n",
        "print(ans)"
      ],
      "execution_count": 15,
      "outputs": [
        {
          "output_type": "stream",
          "text": [
            "50\n"
          ],
          "name": "stdout"
        }
      ]
    },
    {
      "cell_type": "code",
      "metadata": {
        "id": "40VIrj5shtkg"
      },
      "source": [
        ""
      ],
      "execution_count": null,
      "outputs": []
    }
  ]
}