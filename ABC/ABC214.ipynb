{
  "nbformat": 4,
  "nbformat_minor": 0,
  "metadata": {
    "colab": {
      "name": "ABC214.ipynb",
      "provenance": [],
      "collapsed_sections": [],
      "authorship_tag": "ABX9TyMt8QQwf0jpwCVRQYSCWs9S",
      "include_colab_link": true
    },
    "kernelspec": {
      "name": "python3",
      "display_name": "Python 3"
    },
    "language_info": {
      "name": "python"
    }
  },
  "cells": [
    {
      "cell_type": "markdown",
      "metadata": {
        "id": "view-in-github",
        "colab_type": "text"
      },
      "source": [
        "<a href=\"https://colab.research.google.com/github/Hidestament/AtCoder/blob/main/ABC/ABC214.ipynb\" target=\"_parent\"><img src=\"https://colab.research.google.com/assets/colab-badge.svg\" alt=\"Open In Colab\"/></a>"
      ]
    },
    {
      "cell_type": "markdown",
      "source": [
        "# [AtCoder Beginner Contest 214](https://atcoder.jp/contests/abc214)"
      ],
      "metadata": {
        "id": "z6C-fOInn9e2"
      }
    },
    {
      "cell_type": "markdown",
      "source": [
        "## [A - New Generation ABC](https://atcoder.jp/contests/abc214/tasks/abc214_a)"
      ],
      "metadata": {
        "id": "qQn5Liy1oAr3"
      }
    },
    {
      "cell_type": "code",
      "execution_count": null,
      "metadata": {
        "id": "CtyfhAejn8yi"
      },
      "outputs": [],
      "source": [
        "N = int(input())\n",
        "if 1 <= N <= 125:\n",
        "    print(4)\n",
        "elif 126 <= N <= 211:\n",
        "    print(6)\n",
        "else:\n",
        "    print(8)"
      ]
    },
    {
      "cell_type": "markdown",
      "source": [
        "## [B - How many?](https://atcoder.jp/contests/abc214/tasks/abc214_b)"
      ],
      "metadata": {
        "id": "ntOXgxzeoSSI"
      }
    },
    {
      "cell_type": "code",
      "source": [
        "S, T = map(int, input().split())"
      ],
      "metadata": {
        "id": "Cv-zd7rPoesy"
      },
      "execution_count": null,
      "outputs": []
    },
    {
      "cell_type": "code",
      "source": [
        "cnt = 0\n",
        "for a in range(S+1):\n",
        "    for b in range(S+1):\n",
        "        for c in range(S+1):\n",
        "            if a + b + c <= S and a * b * c <= T:\n",
        "                cnt += 1\n",
        "print(cnt)"
      ],
      "metadata": {
        "id": "lm_MWFjmohxX"
      },
      "execution_count": null,
      "outputs": []
    },
    {
      "cell_type": "markdown",
      "source": [
        "## [C - Distribution](https://atcoder.jp/contests/abc214/tasks/abc214_c)"
      ],
      "metadata": {
        "id": "OAzRbi0wo36q"
      }
    },
    {
      "cell_type": "code",
      "source": [
        "N = int(input())\n",
        "S = list(map(int, input().split()))\n",
        "T = list(map(int, input().split()))"
      ],
      "metadata": {
        "colab": {
          "base_uri": "https://localhost:8080/"
        },
        "id": "3PLLlRXfo8DM",
        "outputId": "62d0993f-017f-45ed-8cd5-e2290da0bbf1"
      },
      "execution_count": null,
      "outputs": [
        {
          "name": "stdout",
          "output_type": "stream",
          "text": [
            "3\n",
            "4 1 5\n",
            "3 10 100\n"
          ]
        }
      ]
    },
    {
      "cell_type": "code",
      "source": [
        "# DP[i]: i番目の人が宝石をもらう最小の時間\n",
        "DP = [10**15] * N"
      ],
      "metadata": {
        "id": "81BhQUAEqSOL"
      },
      "execution_count": null,
      "outputs": []
    },
    {
      "cell_type": "code",
      "source": [
        "# 一番最初に宝石をもらう人, つまりT[i]が最小の人から始める\n",
        "min_ind = T.index(min(T))\n",
        "\n",
        "for i in range(N):\n",
        "    i += min_ind\n",
        "    DP[i % N] = min(DP[(i - 1) % N] + S[(i - 1) % N], T[i % N])"
      ],
      "metadata": {
        "id": "rXNmCyumqjtl"
      },
      "execution_count": null,
      "outputs": []
    },
    {
      "cell_type": "code",
      "source": [
        "print(*DP)"
      ],
      "metadata": {
        "colab": {
          "base_uri": "https://localhost:8080/"
        },
        "id": "8Do7lvYgqSKR",
        "outputId": "b7781e65-6f6b-451b-9612-bf5677ff945b"
      },
      "execution_count": null,
      "outputs": [
        {
          "output_type": "stream",
          "name": "stdout",
          "text": [
            "3 7 8\n"
          ]
        }
      ]
    },
    {
      "cell_type": "markdown",
      "source": [
        "## [D - Sum of Maximum Weights](https://atcoder.jp/contests/abc214/tasks/abc214_d)"
      ],
      "metadata": {
        "id": "-TYMfZi2raW9"
      }
    },
    {
      "cell_type": "code",
      "source": [
        "N = int(input())\n",
        "edges = [list(map(int, input().split())) for _ in range(N - 1)]"
      ],
      "metadata": {
        "id": "f6BOfwQBrPHa",
        "colab": {
          "base_uri": "https://localhost:8080/"
        },
        "outputId": "29de402c-3952-4031-925c-907e39a476f2"
      },
      "execution_count": null,
      "outputs": [
        {
          "name": "stdout",
          "output_type": "stream",
          "text": [
            "5\n",
            "1 2 1\n",
            "2 3 2\n",
            "4 2 5\n",
            "3 5 14\n"
          ]
        }
      ]
    },
    {
      "cell_type": "code",
      "source": [
        "edges.sort(key=lambda x: x[2])"
      ],
      "metadata": {
        "id": "JJnCvENXHMve"
      },
      "execution_count": null,
      "outputs": []
    },
    {
      "cell_type": "code",
      "source": [
        "class UnionFindTree:\n",
        "    def __init__(self, n):\n",
        "        self.parents = [-1] * n\n",
        "  \n",
        "    def find(self, x):\n",
        "        if self.parents[x] < 0:\n",
        "            return x\n",
        "        else:\n",
        "            self.parents[x] = self.find(self.parents[x])\n",
        "            return self.find(self.parents[x])\n",
        "  \n",
        "    def union(self, x, y):\n",
        "        x = self.find(x)\n",
        "        y = self.find(y)\n",
        "        if x == y: return    \n",
        "        if self.parents[x] > self.parents[y]:\n",
        "            x, y = y, x\n",
        "        self.parents[x] += self.parents[y]\n",
        "        self.parents[y] = x\n",
        "\n",
        "    def same_check(self, x, y):\n",
        "        return self.find(x) == self.find(y)\n",
        "\n",
        "    def size(self, x):\n",
        "        return -1 * self.parents[self.find(x)]"
      ],
      "metadata": {
        "id": "RmahoiKYG9fJ"
      },
      "execution_count": null,
      "outputs": []
    },
    {
      "cell_type": "code",
      "source": [
        "uf = UnionFindTree(N + 1)"
      ],
      "metadata": {
        "id": "CAAJjkaoG9fJ"
      },
      "execution_count": null,
      "outputs": []
    },
    {
      "cell_type": "code",
      "source": [
        "ans = 0\n",
        "for u, v, c in edges:\n",
        "    u_size = uf.size(u)\n",
        "    v_size = uf.size(v)\n",
        "    ans += c * u_size * v_size\n",
        "    uf.union(u, v)\n",
        "print(ans)"
      ],
      "metadata": {
        "colab": {
          "base_uri": "https://localhost:8080/"
        },
        "id": "bZzhchFEGTMB",
        "outputId": "e56bc3d9-29cb-4813-ed5d-65a327f38610"
      },
      "execution_count": null,
      "outputs": [
        {
          "output_type": "stream",
          "name": "stdout",
          "text": [
            "76\n"
          ]
        }
      ]
    }
  ]
}