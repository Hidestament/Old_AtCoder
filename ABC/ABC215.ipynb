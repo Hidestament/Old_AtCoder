{
  "nbformat": 4,
  "nbformat_minor": 0,
  "metadata": {
    "colab": {
      "name": "ABC215.ipynb",
      "provenance": [],
      "collapsed_sections": [],
      "authorship_tag": "ABX9TyMbok2fqsX9szsTEudIZRn3",
      "include_colab_link": true
    },
    "kernelspec": {
      "name": "python3",
      "display_name": "Python 3"
    },
    "language_info": {
      "name": "python"
    }
  },
  "cells": [
    {
      "cell_type": "markdown",
      "metadata": {
        "id": "view-in-github",
        "colab_type": "text"
      },
      "source": [
        "<a href=\"https://colab.research.google.com/github/Hidestament/AtCoder/blob/main/ABC/ABC215.ipynb\" target=\"_parent\"><img src=\"https://colab.research.google.com/assets/colab-badge.svg\" alt=\"Open In Colab\"/></a>"
      ]
    },
    {
      "cell_type": "markdown",
      "source": [
        "# [AtCoder Beginner Contest 215](https://atcoder.jp/contests/abc215)"
      ],
      "metadata": {
        "id": "TeE9g7Ikvm6Y"
      }
    },
    {
      "cell_type": "markdown",
      "source": [
        "## [A - Your First Judge](https://atcoder.jp/contests/abc215/tasks/abc215_a)"
      ],
      "metadata": {
        "id": "k_X3JVeYvo00"
      }
    },
    {
      "cell_type": "code",
      "execution_count": null,
      "metadata": {
        "id": "OZ-nLpJgvlQR"
      },
      "outputs": [],
      "source": [
        "S = str(input())\n",
        "print(\"AC\" if S == \"Hello,World!\" else \"WA\")"
      ]
    },
    {
      "cell_type": "markdown",
      "source": [
        "## [B - log2(N)](https://atcoder.jp/contests/abc215/tasks/abc215_b)"
      ],
      "metadata": {
        "id": "oji_QzCZv5co"
      }
    },
    {
      "cell_type": "code",
      "source": [
        "N = int(input())\n",
        "print(N.bit_length() - 1)"
      ],
      "metadata": {
        "colab": {
          "base_uri": "https://localhost:8080/"
        },
        "id": "69qy56nav7Hg",
        "outputId": "e87ae129-50f9-4004-e1ad-ec20629906f8"
      },
      "execution_count": null,
      "outputs": [
        {
          "output_type": "stream",
          "name": "stdout",
          "text": [
            "1000000000000000000\n",
            "59\n"
          ]
        }
      ]
    },
    {
      "cell_type": "markdown",
      "source": [
        "## [C - One More aab aba baa](https://atcoder.jp/contests/abc215/tasks/abc215_c)"
      ],
      "metadata": {
        "id": "S_5cyg7owKls"
      }
    },
    {
      "cell_type": "code",
      "source": [
        "S, K = input().split()\n",
        "K = int(K)\n",
        "S = list(S)\n",
        "S.sort()"
      ],
      "metadata": {
        "colab": {
          "base_uri": "https://localhost:8080/"
        },
        "id": "nQcIGr0sv-wT",
        "outputId": "a34ea995-d140-412e-cca7-22b4caf9d7a9"
      },
      "execution_count": null,
      "outputs": [
        {
          "name": "stdout",
          "output_type": "stream",
          "text": [
            "baba 4\n"
          ]
        }
      ]
    },
    {
      "cell_type": "code",
      "source": [
        "from itertools import permutations\n",
        "used = set()\n",
        "for per in permutations(S):\n",
        "    s = \"\".join(per)\n",
        "    if s in used: continue\n",
        "    used.add(s)\n",
        "    if len(used) == K:\n",
        "        print(s)\n",
        "        break"
      ],
      "metadata": {
        "colab": {
          "base_uri": "https://localhost:8080/"
        },
        "id": "hJ91Tq1lwCcj",
        "outputId": "2e87db7c-5ff4-42b4-b4c6-a01adf786f89"
      },
      "execution_count": null,
      "outputs": [
        {
          "output_type": "stream",
          "name": "stdout",
          "text": [
            "baab\n"
          ]
        }
      ]
    },
    {
      "cell_type": "markdown",
      "source": [
        "## [D - Coprime 2](https://atcoder.jp/contests/abc215/tasks/abc215_d)"
      ],
      "metadata": {
        "id": "EoBEHoz_x0yI"
      }
    },
    {
      "cell_type": "code",
      "source": [
        "N, M = map(int, input().split())\n",
        "A = list(map(int, input().split()))"
      ],
      "metadata": {
        "colab": {
          "base_uri": "https://localhost:8080/"
        },
        "id": "wZfoQj9nwgpt",
        "outputId": "8b0238ed-e95c-4fab-e50d-c1a8f68ec76b"
      },
      "execution_count": null,
      "outputs": [
        {
          "name": "stdout",
          "output_type": "stream",
          "text": [
            "3 12\n",
            "6 1 5\n"
          ]
        }
      ]
    },
    {
      "cell_type": "code",
      "source": [
        "used_factorize = set()\n",
        "def prime_factorize(n):\n",
        "    while n % 2 == 0:\n",
        "        used_factorize.add(2)\n",
        "        n //= 2\n",
        "    f = 3\n",
        "    while f * f <= n:\n",
        "        if n % f == 0:\n",
        "            used_factorize.add(f)\n",
        "            n //= f\n",
        "        else:\n",
        "            f += 2\n",
        "    if n != 1:\n",
        "        used_factorize.add(n)"
      ],
      "metadata": {
        "id": "o7yG46xpyevK"
      },
      "execution_count": null,
      "outputs": []
    },
    {
      "cell_type": "code",
      "source": [
        "for a in A:\n",
        "    prime_factorize(a)"
      ],
      "metadata": {
        "id": "aNA-ySUFytaq"
      },
      "execution_count": null,
      "outputs": []
    },
    {
      "cell_type": "code",
      "source": [
        "primes = [True] * (M + 1)\n",
        "primes[0] = False\n",
        "\n",
        "used_factorize = sorted(list(used_factorize))\n",
        "for p in used_factorize:\n",
        "    for mp in range(p, M+1, p):\n",
        "        primes[mp] = False"
      ],
      "metadata": {
        "id": "6WSwZiEby6OP"
      },
      "execution_count": null,
      "outputs": []
    },
    {
      "cell_type": "code",
      "source": [
        "print(primes.count(True))\n",
        "for p in range(1, M + 1):\n",
        "    if primes[p]:\n",
        "        print(p)"
      ],
      "metadata": {
        "colab": {
          "base_uri": "https://localhost:8080/"
        },
        "id": "CHaNBY2QytXj",
        "outputId": "5e30ee1e-64f8-4fe7-9a48-58ab30345c4c"
      },
      "execution_count": null,
      "outputs": [
        {
          "output_type": "stream",
          "name": "stdout",
          "text": [
            "3\n",
            "1\n",
            "7\n",
            "11\n"
          ]
        }
      ]
    },
    {
      "cell_type": "markdown",
      "source": [
        "## [E - Chain Contestant](https://atcoder.jp/contests/abc215/tasks/abc215_e)"
      ],
      "metadata": {
        "id": "lfEuATS1z_D5"
      }
    },
    {
      "cell_type": "code",
      "source": [
        "N = int(input())\n",
        "S = str(input())\n",
        "mod = 998244353"
      ],
      "metadata": {
        "colab": {
          "base_uri": "https://localhost:8080/"
        },
        "id": "_KMzPrln0BzS",
        "outputId": "8d7ff8df-b62f-477c-92f3-90b98923dab9"
      },
      "execution_count": null,
      "outputs": [
        {
          "name": "stdout",
          "output_type": "stream",
          "text": [
            "4\n",
            "BGBH\n"
          ]
        }
      ]
    },
    {
      "cell_type": "code",
      "source": [
        "# DP[i][s][last]: i番目未満のコンテストの中で, 参加したコンテスト集合がsで最後に参加したコンテストがlastであるようなものの数\n",
        "DP = [[[0] * 11 for _ in range(1 << 10)] for _ in range(N+1)]\n",
        "DP[0][0][0] = 1"
      ],
      "metadata": {
        "id": "KcC13w5f09cL"
      },
      "execution_count": null,
      "outputs": []
    },
    {
      "cell_type": "code",
      "source": [
        "for i in range(1, N+1):\n",
        "    contest = ord(S[i-1]) - 64\n",
        "    for s in range(1 << 10):\n",
        "        # S[i-1]に参加するとき\n",
        "        # 初めてS[i-1]に参加するとき\n",
        "        if not (s >> (contest - 1) & 1):\n",
        "            for last in range(11):\n",
        "                DP[i][s | 1 << (contest - 1)][contest] += DP[i-1][s][last]\n",
        "                DP[i][s | 1 << (contest - 1)][contest] %= mod\n",
        "\n",
        "        # すでに参加しているとき\n",
        "        if (s >> (contest - 1) & 1):\n",
        "            DP[i][s][contest] += DP[i-1][s][contest]\n",
        "            DP[i][s][contest] %= mod\n",
        "\n",
        "        # S[i-1]に参加しないとき\n",
        "        for last in range(11):\n",
        "            DP[i][s][last] += DP[i-1][s][last]\n",
        "            DP[i][s][last] %= mod"
      ],
      "metadata": {
        "colab": {
          "base_uri": "https://localhost:8080/"
        },
        "id": "I_HuBgCk1TN6",
        "outputId": "35abff3d-adf5-4213-a945-593ebf92cb6e"
      },
      "execution_count": null,
      "outputs": [
        {
          "output_type": "stream",
          "name": "stdout",
          "text": [
            "1\n",
            "1\n",
            "1\n",
            "1\n",
            "1\n",
            "1\n",
            "3\n",
            "1\n",
            "1\n",
            "1\n"
          ]
        }
      ]
    },
    {
      "cell_type": "code",
      "source": [
        "ans = 0\n",
        "for i in range(1, 1 << 10):\n",
        "    ans += sum(DP[N][i])\n",
        "    ans %= mod\n",
        "print(ans)"
      ],
      "metadata": {
        "colab": {
          "base_uri": "https://localhost:8080/"
        },
        "id": "_GLxSkEY2RBz",
        "outputId": "2e6c5ad8-5cc1-4cfe-a19a-4afb850948f5"
      },
      "execution_count": null,
      "outputs": [
        {
          "output_type": "stream",
          "name": "stdout",
          "text": [
            "13\n"
          ]
        }
      ]
    }
  ]
}