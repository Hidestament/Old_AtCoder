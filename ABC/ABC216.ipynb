{
  "nbformat": 4,
  "nbformat_minor": 0,
  "metadata": {
    "colab": {
      "name": "ABC216.ipynb",
      "provenance": [],
      "authorship_tag": "ABX9TyPrws/axQoi7kS67pDjQHBZ",
      "include_colab_link": true
    },
    "kernelspec": {
      "name": "python3",
      "display_name": "Python 3"
    },
    "language_info": {
      "name": "python"
    }
  },
  "cells": [
    {
      "cell_type": "markdown",
      "metadata": {
        "id": "view-in-github",
        "colab_type": "text"
      },
      "source": [
        "<a href=\"https://colab.research.google.com/github/Hidestament/AtCoder/blob/main/ABC/ABC216.ipynb\" target=\"_parent\"><img src=\"https://colab.research.google.com/assets/colab-badge.svg\" alt=\"Open In Colab\"/></a>"
      ]
    },
    {
      "cell_type": "markdown",
      "source": [
        "# [AtCoder Beginner Contest 216](https://atcoder.jp/contests/abc216)"
      ],
      "metadata": {
        "id": "RClr0b43oj2f"
      }
    },
    {
      "cell_type": "markdown",
      "source": [
        "## [A - Signed Difficulty](https://atcoder.jp/contests/abc216/tasks/abc216_a)"
      ],
      "metadata": {
        "id": "94ds2i7UolVu"
      }
    },
    {
      "cell_type": "code",
      "execution_count": null,
      "metadata": {
        "colab": {
          "base_uri": "https://localhost:8080/"
        },
        "id": "FgHO6tMnoikG",
        "outputId": "025a3012-d87e-436d-fde2-2989162ccdd5"
      },
      "outputs": [
        {
          "name": "stdout",
          "output_type": "stream",
          "text": [
            "15.8\n"
          ]
        }
      ],
      "source": [
        "X, Y = map(str, input().split(\".\"))\n",
        "if 0 <= int(Y) <= 2:\n",
        "    print(X + \"-\")\n",
        "elif 3 <= int(Y) <= 6:\n",
        "    print(X)\n",
        "else:\n",
        "    print(X + \"+\")"
      ]
    },
    {
      "cell_type": "markdown",
      "source": [
        "## [B - Same Name](https://atcoder.jp/contests/abc216/tasks/abc216_b)"
      ],
      "metadata": {
        "id": "509Gsi5ro6e5"
      }
    },
    {
      "cell_type": "code",
      "source": [
        "N = int(input())\n",
        "names = set()\n",
        "flag = False\n",
        "for _ in range(N):\n",
        "    s, t = map(str, input().split())\n",
        "    if (s, t) in names:\n",
        "        flag = True\n",
        "    names.add((s, t))\n",
        "print(\"Yes\" if flag else \"No\")"
      ],
      "metadata": {
        "colab": {
          "base_uri": "https://localhost:8080/"
        },
        "id": "Seg4oHGCotT_",
        "outputId": "5c2f05e0-3fbc-4eaa-c829-75389dae691f"
      },
      "execution_count": null,
      "outputs": [
        {
          "output_type": "execute_result",
          "data": {
            "text/plain": [
              "(15, 8)"
            ]
          },
          "metadata": {},
          "execution_count": 2
        }
      ]
    },
    {
      "cell_type": "markdown",
      "source": [
        "## [C - Many Balls](https://atcoder.jp/contests/abc216/tasks/abc216_c)"
      ],
      "metadata": {
        "id": "rFpMftaRpLQa"
      }
    },
    {
      "cell_type": "code",
      "source": [
        "N = int(input())\n",
        "ans = \"\"\n",
        "while N != 0:\n",
        "    if N % 2 == 0:\n",
        "        N //= 2\n",
        "        ans = \"B\" + ans\n",
        "    else:\n",
        "        N -= 1\n",
        "        ans = \"A\" + ans\n",
        "print(ans)"
      ],
      "metadata": {
        "colab": {
          "base_uri": "https://localhost:8080/"
        },
        "id": "2Tme_E4Iovqk",
        "outputId": "201795b2-a811-4284-b47c-2e48e28ea22d"
      },
      "execution_count": null,
      "outputs": [
        {
          "output_type": "stream",
          "name": "stdout",
          "text": [
            "5\n",
            "ABBA\n"
          ]
        }
      ]
    },
    {
      "cell_type": "markdown",
      "source": [
        "## [D - Pair of Balls](https://atcoder.jp/contests/abc216/tasks/abc216_d)"
      ],
      "metadata": {
        "id": "iFFX7Ostp-q0"
      }
    },
    {
      "cell_type": "code",
      "source": [
        "from collections import defaultdict, deque"
      ],
      "metadata": {
        "id": "LRxsWDslomN-"
      },
      "execution_count": null,
      "outputs": []
    },
    {
      "cell_type": "code",
      "source": [
        "N, M = map(int, input().split())\n",
        "top_cnt = defaultdict(int)\n",
        "ind = defaultdict(list)\n",
        "balls = []\n",
        "two_balls = deque()\n",
        "for i in range(M):\n",
        "    k = int(input())\n",
        "    a = deque(list(map(int, input().split())))\n",
        "    for num in a:\n",
        "        ind[num].append(i)\n",
        "    top_cnt[a[0]] += 1\n",
        "    if top_cnt[a[0]] == 2:\n",
        "        two_balls.append(a[0])\n",
        "    balls.append(deque(a))"
      ],
      "metadata": {
        "id": "sPyq076Mp5Fq"
      },
      "execution_count": null,
      "outputs": []
    },
    {
      "cell_type": "code",
      "source": [
        "while two_balls:\n",
        "    num = two_balls.popleft()\n",
        "    i, j = ind[num]\n",
        "    balls[i].popleft()\n",
        "    if balls[i]:\n",
        "        top = balls[i][0]\n",
        "        top_cnt[top] += 1\n",
        "        if top_cnt[top] == 2:\n",
        "            two_balls.append(top)\n",
        "\n",
        "    balls[j].popleft()\n",
        "    if balls[j]:\n",
        "        top = balls[j][0]\n",
        "        top_cnt[top] += 1\n",
        "        if top_cnt[top] == 2:\n",
        "            two_balls.append(top)"
      ],
      "metadata": {
        "id": "1S0VVEuFpAQr"
      },
      "execution_count": null,
      "outputs": []
    },
    {
      "cell_type": "code",
      "source": [
        "print(\"Yes\" if all(len(i) == 0 for i in balls) else \"No\")"
      ],
      "metadata": {
        "colab": {
          "base_uri": "https://localhost:8080/"
        },
        "id": "lDCzVaTBpEWS",
        "outputId": "194bd454-285f-447e-8ebd-bc3154312d99"
      },
      "execution_count": null,
      "outputs": [
        {
          "output_type": "stream",
          "name": "stdout",
          "text": [
            "1\n",
            "2\n",
            "3\n"
          ]
        }
      ]
    },
    {
      "cell_type": "markdown",
      "source": [
        "## [E - Amusement Park](https://atcoder.jp/contests/abc216/tasks/abc216_e)"
      ],
      "metadata": {
        "id": "QJwnUg4mrV8y"
      }
    },
    {
      "cell_type": "markdown",
      "source": [
        "### Greedy"
      ],
      "metadata": {
        "id": "JtwHnwP3sVq5"
      }
    },
    {
      "cell_type": "code",
      "source": [
        "N, K = map(int, input().split())\n",
        "A = sorted(list(map(int, input().split())), reverse=True)"
      ],
      "metadata": {
        "colab": {
          "base_uri": "https://localhost:8080/"
        },
        "id": "kwyzP7kxpyFS",
        "outputId": "f02c191a-5104-4417-bb36-26769c540614"
      },
      "execution_count": null,
      "outputs": [
        {
          "name": "stdout",
          "output_type": "stream",
          "text": [
            "3 5\n",
            "100 50 102\n"
          ]
        }
      ]
    },
    {
      "cell_type": "code",
      "source": [
        "# 番兵\n",
        "A = A + [0]"
      ],
      "metadata": {
        "id": "F7J16igNsLW5"
      },
      "execution_count": null,
      "outputs": []
    },
    {
      "cell_type": "code",
      "source": [
        "def tousa_sum(a, n):\n",
        "    return n * (2*a - (n-1)) // 2"
      ],
      "metadata": {
        "id": "4EtiBGbmqF3k"
      },
      "execution_count": null,
      "outputs": []
    },
    {
      "cell_type": "code",
      "source": [
        "ans = 0\n",
        "for i in range(N):\n",
        "    num = i + 1\n",
        "    diff = A[i] - A[i + 1]\n",
        "    if diff * num <= K:\n",
        "        ans += num * (tousa_sum(A[i], diff))\n",
        "        K -= diff * num\n",
        "    else:\n",
        "        ans += num * (tousa_sum(A[i], K//num))\n",
        "        ans += (K % num) * (A[i] - K//num)\n",
        "        break\n",
        "print(ans)"
      ],
      "metadata": {
        "colab": {
          "base_uri": "https://localhost:8080/"
        },
        "id": "pmevsRRwsLT-",
        "outputId": "0eb0c65d-a0bb-43de-940e-1c02bb6ebc77"
      },
      "execution_count": null,
      "outputs": [
        {
          "output_type": "stream",
          "name": "stdout",
          "text": [
            "502\n"
          ]
        }
      ]
    },
    {
      "cell_type": "markdown",
      "source": [
        "### Binary Search"
      ],
      "metadata": {
        "id": "nfBZ_wPbsNoz"
      }
    },
    {
      "cell_type": "code",
      "source": [
        "N, K = map(int, input().split())\n",
        "A = list(map(int, input().split()))"
      ],
      "metadata": {
        "colab": {
          "base_uri": "https://localhost:8080/"
        },
        "id": "KqyKa-4bsLQ0",
        "outputId": "f870964d-cabd-4621-adf1-7a8849cd69a8"
      },
      "execution_count": 15,
      "outputs": [
        {
          "name": "stdout",
          "output_type": "stream",
          "text": [
            "3 5\n",
            "100 50 102\n"
          ]
        }
      ]
    },
    {
      "cell_type": "code",
      "source": [
        "# 数列Bの要素に含まれるx以上のモノの個数はK個以下か\n",
        "# 1. TrueとFalseの境目 -> x以上のモノの個数がちょうどK個ある\n",
        "# 2. x以上のアトラクションをK回乗れば良い\n",
        "def check(x):\n",
        "    cnt = sum(max(0, a-x+1) for a in A)\n",
        "    return True if cnt <= K else False"
      ],
      "metadata": {
        "id": "vz6OmLoIysEY"
      },
      "execution_count": 16,
      "outputs": []
    },
    {
      "cell_type": "code",
      "source": [
        "# l: False, r: True\n",
        "l, r = 0, 10**18\n",
        "while r - l > 1:\n",
        "    mid = (r + l) // 2\n",
        "    if check(mid):\n",
        "        r = mid\n",
        "    else:\n",
        "        l = mid"
      ],
      "metadata": {
        "id": "lvHVqbDWysB3"
      },
      "execution_count": 17,
      "outputs": []
    },
    {
      "cell_type": "code",
      "source": [
        "def tousa_sum(a, n):\n",
        "    return n * (2*a - (n-1)) // 2"
      ],
      "metadata": {
        "id": "fmMvTwkgz2Pu"
      },
      "execution_count": null,
      "outputs": []
    },
    {
      "cell_type": "code",
      "source": [
        "if check(l):\n",
        "    ans = sum(tousa_sum(a, a-l+1) for a in A)\n",
        "    print(ans)\n",
        "else:\n",
        "    ans = sum(tousa_sum(a, max(0, a-r+1)) for a in A)\n",
        "    # 楽しさr-1のアトラクションに乗れる回数は、中途半端になるのでその処理\n",
        "    K -= (sum(max(0, a-r+1) for a in A))\n",
        "    ans += (r-1) * K\n",
        "    print(ans)"
      ],
      "metadata": {
        "colab": {
          "base_uri": "https://localhost:8080/"
        },
        "id": "D8sYQBK1yr_L",
        "outputId": "bfc41779-49cb-4e95-dc74-0f87850a4faa"
      },
      "execution_count": 21,
      "outputs": [
        {
          "output_type": "stream",
          "name": "stdout",
          "text": [
            "502\n"
          ]
        }
      ]
    },
    {
      "cell_type": "markdown",
      "source": [
        "## [F - Max Sum Counting](https://atcoder.jp/contests/abc216/tasks/abc216_f)"
      ],
      "metadata": {
        "id": "nVXym9ixse3-"
      }
    },
    {
      "cell_type": "code",
      "source": [
        "N = int(input())\n",
        "A = list(map(int, input().split()))\n",
        "B = list(map(int, input().split()))\n",
        "mod = 998244353"
      ],
      "metadata": {
        "colab": {
          "base_uri": "https://localhost:8080/"
        },
        "id": "jK_1HGMmslhR",
        "outputId": "ae185ec9-ff32-4582-d3e8-2a9aba1ccf41"
      },
      "execution_count": null,
      "outputs": [
        {
          "name": "stdout",
          "output_type": "stream",
          "text": [
            "2\n",
            "3 1\n",
            "1 2\n"
          ]
        }
      ]
    },
    {
      "cell_type": "code",
      "source": [
        "AB = sorted(zip(A, B))"
      ],
      "metadata": {
        "id": "BNK2FVVau168"
      },
      "execution_count": null,
      "outputs": []
    },
    {
      "cell_type": "code",
      "source": [
        "# DP[i]: i in S の場合の, Σ_(j<=i, j in S) Bj = s となるモノの個数\n",
        "DP = [[0] * 5001 for _ in range(N+1)]"
      ],
      "metadata": {
        "id": "xtzTrynjvH-h"
      },
      "execution_count": null,
      "outputs": []
    },
    {
      "cell_type": "code",
      "source": [
        "# S = emptyset の とき\n",
        "DP[0][0] = 1"
      ],
      "metadata": {
        "id": "TR3Hiw3JvCBI"
      },
      "execution_count": null,
      "outputs": []
    },
    {
      "cell_type": "code",
      "source": [
        "ans = 0\n",
        "for i in range(1, N+1):\n",
        "    a, b = AB[i-1]\n",
        "    for s in range(5001):\n",
        "        # i番目を入れるとき\n",
        "        if s - b >= 0:\n",
        "            DP[i][s] += DP[i-1][s - b]\n",
        "            DP[i][s] %= mod\n",
        "            \n",
        "            if s <= a:\n",
        "                ans += DP[i][s]\n",
        "                ans %= mod\n",
        "        \n",
        "        # i番目を入れないとき\n",
        "        DP[i][s] += DP[i-1][s]\n",
        "        DP[i][s] %= mod"
      ],
      "metadata": {
        "id": "yrKY3g0IvCZ3"
      },
      "execution_count": null,
      "outputs": []
    },
    {
      "cell_type": "code",
      "source": [
        "print(ans)"
      ],
      "metadata": {
        "id": "JkWKg794xJ-s"
      },
      "execution_count": null,
      "outputs": []
    }
  ]
}