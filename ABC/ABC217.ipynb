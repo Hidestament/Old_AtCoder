{
  "nbformat": 4,
  "nbformat_minor": 0,
  "metadata": {
    "colab": {
      "name": "ABC217.ipynb",
      "provenance": [],
      "collapsed_sections": [],
      "authorship_tag": "ABX9TyOzUjACYwUUY2adaB3rsV1i",
      "include_colab_link": true
    },
    "kernelspec": {
      "name": "python3",
      "display_name": "Python 3"
    },
    "language_info": {
      "name": "python"
    }
  },
  "cells": [
    {
      "cell_type": "markdown",
      "metadata": {
        "id": "view-in-github",
        "colab_type": "text"
      },
      "source": [
        "<a href=\"https://colab.research.google.com/github/Hidestament/AtCoder/blob/main/ABC/ABC217.ipynb\" target=\"_parent\"><img src=\"https://colab.research.google.com/assets/colab-badge.svg\" alt=\"Open In Colab\"/></a>"
      ]
    },
    {
      "cell_type": "markdown",
      "source": [
        "# [AtCoder Beginner Contest 217](https://atcoder.jp/contests/abc217)"
      ],
      "metadata": {
        "id": "4ybdWanC_Zk0"
      }
    },
    {
      "cell_type": "markdown",
      "source": [
        "## [A - Lexicographic Order](https://atcoder.jp/contests/abc217/tasks/abc217_a)"
      ],
      "metadata": {
        "id": "Ni5kH0eD_c-y"
      }
    },
    {
      "cell_type": "code",
      "execution_count": null,
      "metadata": {
        "id": "QZ1AQ55C-Aai"
      },
      "outputs": [],
      "source": [
        "S, T = map(str, input().split())\n",
        "print(\"Yes\" if S <= T else \"No\")"
      ]
    },
    {
      "cell_type": "markdown",
      "source": [
        "## [B - AtCoder Quiz](https://atcoder.jp/contests/abc217/tasks/abc217_b)"
      ],
      "metadata": {
        "id": "1FPD85Yc_z5g"
      }
    },
    {
      "cell_type": "code",
      "source": [
        "contest = [\"ABC\" , \"ARC\" , \"AGC\" , \"AHC\"]\n",
        "for _ in range(3):\n",
        "    s = str(input())\n",
        "    contest.pop(contest.index(s))\n",
        "print(contest[0])"
      ],
      "metadata": {
        "colab": {
          "base_uri": "https://localhost:8080/",
          "height": 35
        },
        "id": "fIz2EuJl-BEM",
        "outputId": "94f46a04-ead4-404e-d52c-f7f183b0b074"
      },
      "execution_count": null,
      "outputs": [
        {
          "output_type": "execute_result",
          "data": {
            "application/vnd.google.colaboratory.intrinsic+json": {
              "type": "string"
            },
            "text/plain": [
              "'a'"
            ]
          },
          "metadata": {},
          "execution_count": 5
        }
      ]
    },
    {
      "cell_type": "markdown",
      "source": [
        "## [C - Inverse of Permutation](https://atcoder.jp/contests/abc217/tasks/abc217_c)"
      ],
      "metadata": {
        "id": "xdL2J69MAOS3"
      }
    },
    {
      "cell_type": "code",
      "source": [
        "N = int(input())\n",
        "P = list(map(int, input().split()))"
      ],
      "metadata": {
        "colab": {
          "base_uri": "https://localhost:8080/"
        },
        "id": "8iemrwGH-BBz",
        "outputId": "b70e98d2-da7a-480d-947c-ea169c6d5807"
      },
      "execution_count": null,
      "outputs": [
        {
          "name": "stdout",
          "output_type": "stream",
          "text": [
            "3\n",
            "2 3 1\n"
          ]
        }
      ]
    },
    {
      "cell_type": "code",
      "source": [
        "# Q の Pi番目の要素がi\n",
        "Q = [-1] * N\n",
        "for i, pi in enumerate(P, start=1):\n",
        "    Q[pi - 1] = i"
      ],
      "metadata": {
        "id": "x2U3Od2T-A9I"
      },
      "execution_count": null,
      "outputs": []
    },
    {
      "cell_type": "code",
      "source": [
        "print(*Q)"
      ],
      "metadata": {
        "colab": {
          "base_uri": "https://localhost:8080/"
        },
        "id": "k_F5ldO4-A7E",
        "outputId": "18daf017-30aa-4b7e-fdbc-ea8f7f9a16aa"
      },
      "execution_count": null,
      "outputs": [
        {
          "output_type": "execute_result",
          "data": {
            "text/plain": [
              "[3, 1, 2]"
            ]
          },
          "metadata": {},
          "execution_count": 9
        }
      ]
    },
    {
      "cell_type": "markdown",
      "source": [
        "## [D - Cutting Woods](https://atcoder.jp/contests/abc217/tasks/abc217_d)"
      ],
      "metadata": {
        "id": "yKLKDoK_A1YO"
      }
    },
    {
      "cell_type": "code",
      "source": [
        "class BinaryIndexedTree:\n",
        "    \"\"\"\n",
        "    A = [a0, a1, a2, ..., an-1]\n",
        "    元のAの配列は0-indexだが, BIT上では1-indexで扱う\n",
        "    \"\"\"\n",
        "    def __init__(self, n=10**6):\n",
        "        self.size = n + 1\n",
        "        self.tree = [0] * (n + 1)\n",
        "        self.depth = n.bit_length()\n",
        "        \n",
        "    def update(self, i, x):\n",
        "        \"\"\"\n",
        "        ai += x を する\n",
        "        i: 0-index\n",
        "        \"\"\"\n",
        "        # 1-indexに直す\n",
        "        pos = i + 1\n",
        "        while pos <= self.size:\n",
        "            self.tree[pos] += x\n",
        "            # 真上の位置は, iにiのLSBを加えたモノ\n",
        "            pos += pos & -pos\n",
        "\n",
        "    def sum(self, i):\n",
        "        \"\"\"\n",
        "        a[0] + a[1] + ... + a[i] を 求める\n",
        "        i は 0-index\n",
        "        \"\"\"\n",
        "        pos = i + 1\n",
        "        s = 0\n",
        "        while pos > 0:\n",
        "            s += self.tree[pos]\n",
        "            # 左上は i に iのLSBを引いたモノ\n",
        "            pos -= pos & -pos\n",
        "        return s\n",
        "\n",
        "    def sum_range(self, i, j):\n",
        "        \"\"\"\n",
        "        a[i] + a[i+1] + ... + a[j] を 求める\n",
        "        i, j は 0-index\n",
        "        \"\"\"\n",
        "        return self.sum(j) - self.sum(i - 1)\n",
        "    \n",
        "    def lower_bound(self, x):\n",
        "        \"\"\"\n",
        "        a0 + a1 + ... + ai >= x となる最小のiを取得.\n",
        "        各項は非負である必要がある\n",
        "        iは0 - index\n",
        "        \"\"\"\n",
        "        if x <= 0:\n",
        "            return -1\n",
        "        \n",
        "        k = 1 << (self.size.bit_length() - 1)\n",
        "        pos = 0\n",
        "        s = 0\n",
        "        while k > 0:\n",
        "            # (pos + kが配列の長さを超えない) and 和がxを超えない\n",
        "            if (pos + k < self.size) and self.tree[pos + k] + s < x:\n",
        "                s += self.tree[pos + k]\n",
        "                pos += k\n",
        "            # 1つ下の段に行く\n",
        "            k //= 2\n",
        "        return pos"
      ],
      "metadata": {
        "colab": {
          "base_uri": "https://localhost:8080/"
        },
        "id": "UY999pIwA5az",
        "outputId": "f782fcf7-6376-4381-ee19-f2a21f34065f"
      },
      "execution_count": null,
      "outputs": [
        {
          "name": "stdout",
          "output_type": "stream",
          "text": [
            "5 3\n"
          ]
        }
      ]
    },
    {
      "cell_type": "code",
      "source": [
        "def compress(A):\n",
        "    B = sorted(set(A))\n",
        "    zipped = {}\n",
        "    unzipped = {}\n",
        "    for i, x in enumerate(B):\n",
        "        zipped[x] = i\n",
        "        unzipped[i] = x\n",
        "    return zipped, unzipped"
      ],
      "metadata": {
        "id": "rjh6yc_AF2OK"
      },
      "execution_count": null,
      "outputs": []
    },
    {
      "cell_type": "code",
      "source": [
        "L, Q = map(int, input().split())\n",
        "query = []\n",
        "used = [0, L]\n",
        "for _ in range(Q):\n",
        "    c, x = map(int, input().split())\n",
        "    used.append(x)\n",
        "    query.append([c, x])"
      ],
      "metadata": {
        "id": "wChqFqhEF2K6"
      },
      "execution_count": null,
      "outputs": []
    },
    {
      "cell_type": "code",
      "source": [
        "zipped, unzipped = compress(used)"
      ],
      "metadata": {
        "id": "5uUmYFqQF2H4"
      },
      "execution_count": null,
      "outputs": []
    },
    {
      "cell_type": "code",
      "source": [
        "bit = BinaryIndexedTree()\n",
        "bit.update(zipped[0], 1)\n",
        "bit.update(zipped[L], 1)"
      ],
      "metadata": {
        "id": "Cac0VxRHF2FX"
      },
      "execution_count": null,
      "outputs": []
    },
    {
      "cell_type": "code",
      "source": [
        "for c, x in query:\n",
        "    if c == 1:\n",
        "        bit.update(zipped[x], 1)\n",
        "    else:\n",
        "        # x以下の箇所で何回切られているかは, x以下の累積和を求めれば良い\n",
        "        num_cut = bit.sum(zipped[x])\n",
        "        \n",
        "        # x以下で切られた箇所の最大の場所は, num_cutのlower_boundを求めれば良い\n",
        "        left = bit.lower_bound(num_cut)\n",
        "\n",
        "        # x以上で切られた箇所の最小の箇所は, num_cut + 1 の lower_boundを求めれば良い\n",
        "        right = bit.lower_bound(num_cut + 1)\n",
        "        print(unzipped[right] - unzipped[left])"
      ],
      "metadata": {
        "id": "fkbAvpSyF2Cb"
      },
      "execution_count": null,
      "outputs": []
    },
    {
      "cell_type": "markdown",
      "source": [
        "## [E - Sorting Queries](https://atcoder.jp/contests/abc217/tasks/abc217_e)"
      ],
      "metadata": {
        "id": "m_EikA-f-Bcq"
      }
    },
    {
      "cell_type": "code",
      "source": [
        "Q = int(input())"
      ],
      "metadata": {
        "colab": {
          "base_uri": "https://localhost:8080/"
        },
        "id": "9ts3O_xx-Eig",
        "outputId": "89a1d373-f702-400c-ee4c-d982a6a4e584"
      },
      "execution_count": null,
      "outputs": [
        {
          "name": "stdout",
          "output_type": "stream",
          "text": [
            "4\n"
          ]
        }
      ]
    },
    {
      "cell_type": "code",
      "source": [
        "from heapq import heappush, heappop\n",
        "from collections import deque\n",
        "hq = []\n",
        "dq = deque()"
      ],
      "metadata": {
        "id": "vpU_lxej-JuY"
      },
      "execution_count": null,
      "outputs": []
    },
    {
      "cell_type": "code",
      "source": [
        "for _ in range(Q):\n",
        "    query = list(map(int, input().split()))\n",
        "    if query[0] == 1:\n",
        "        dq.append(query[1])\n",
        "    elif query[0] == 2:\n",
        "        if hq:\n",
        "            ans = heappop(hq)\n",
        "        else:\n",
        "            ans = dq.popleft()\n",
        "        print(ans)\n",
        "    else:\n",
        "        while dq:\n",
        "            now = dq.popleft()\n",
        "            heappush(hq, now)"
      ],
      "metadata": {
        "id": "-EfpkmFB-Jri"
      },
      "execution_count": null,
      "outputs": []
    }
  ]
}