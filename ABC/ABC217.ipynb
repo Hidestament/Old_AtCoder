{
  "nbformat": 4,
  "nbformat_minor": 0,
  "metadata": {
    "colab": {
      "name": "ABC217.ipynb",
      "provenance": [],
      "authorship_tag": "ABX9TyP7I0lvK5JuxSvm1weHPpB1",
      "include_colab_link": true
    },
    "kernelspec": {
      "name": "python3",
      "display_name": "Python 3"
    },
    "language_info": {
      "name": "python"
    }
  },
  "cells": [
    {
      "cell_type": "markdown",
      "metadata": {
        "id": "view-in-github",
        "colab_type": "text"
      },
      "source": [
        "<a href=\"https://colab.research.google.com/github/Hidestament/AtCoder/blob/main/ABC/ABC217.ipynb\" target=\"_parent\"><img src=\"https://colab.research.google.com/assets/colab-badge.svg\" alt=\"Open In Colab\"/></a>"
      ]
    },
    {
      "cell_type": "markdown",
      "metadata": {
        "id": "KV8XG1sxiPjJ"
      },
      "source": [
        "# [ABC217](https://kenkoooo.com/atcoder/#/table/gore)"
      ]
    },
    {
      "cell_type": "markdown",
      "metadata": {
        "id": "p1hJCqTxiS1I"
      },
      "source": [
        "## [A - Lexicographic Order](https://atcoder.jp/contests/abc217/tasks/abc217_a)"
      ]
    },
    {
      "cell_type": "code",
      "metadata": {
        "id": "hSehEsLUiW_n"
      },
      "source": [
        "S, T = map(str, input().split())\n",
        "print(\"Yes\" if S < T else \"No\")"
      ],
      "execution_count": null,
      "outputs": []
    },
    {
      "cell_type": "markdown",
      "metadata": {
        "id": "_1XjaKF6idHF"
      },
      "source": [
        "## [B - AtCoder Quiz](https://atcoder.jp/contests/abc217/tasks/abc217_b)"
      ]
    },
    {
      "cell_type": "code",
      "metadata": {
        "colab": {
          "base_uri": "https://localhost:8080/"
        },
        "id": "a54B3WKjroP9",
        "outputId": "0d7537d8-4807-4ca0-e3fa-8310c59dd409"
      },
      "source": [
        "ans = [\"ARC\", \"AGC\", \"AHC\", \"ABC\"]\n",
        "for _ in range(3):\n",
        "  S = str(input())\n",
        "  ans.pop(ans.index(S))\n",
        "print(ans[0])"
      ],
      "execution_count": null,
      "outputs": [
        {
          "output_type": "stream",
          "name": "stdout",
          "text": [
            "AGC\n",
            "ABC\n",
            "ARC\n",
            "AHC\n"
          ]
        }
      ]
    },
    {
      "cell_type": "markdown",
      "metadata": {
        "id": "-aMHVgXniwxP"
      },
      "source": [
        "## [C - Inverse of Permutation](https://atcoder.jp/contests/abc217/tasks/abc217_c)"
      ]
    },
    {
      "cell_type": "code",
      "metadata": {
        "id": "83zPiCMYsU2G"
      },
      "source": [
        "N = int(input())\n",
        "P = list(map(int, input().split()))\n",
        "Q = [0] * N\n",
        "for i in range(N):\n",
        "  Q[P[i] - 1] = i+1\n",
        "  Q[P[i] - 1] = str(Q[P[i] - 1])\n",
        "print(*Q)"
      ],
      "execution_count": null,
      "outputs": []
    },
    {
      "cell_type": "markdown",
      "metadata": {
        "id": "Yxnu2eJQi8m7"
      },
      "source": [
        "## [D - Cutting Woods](https://atcoder.jp/contests/abc217/tasks/abc217_d)"
      ]
    },
    {
      "cell_type": "markdown",
      "metadata": {
        "id": "3kW9CIqb3Upc"
      },
      "source": [
        "### 解法1 : 二分探索\n",
        "CutされたPositionをソートされた配列として常にもっておき, c=2が与えられたときに, x以下の最大値とx以上の最小値を二分探索によって取得すれば良い."
      ]
    },
    {
      "cell_type": "markdown",
      "metadata": {
        "id": "N_W9eriE3ofd"
      },
      "source": [
        "listじゃなくて, arrayを使わないとTLEになる"
      ]
    },
    {
      "cell_type": "code",
      "metadata": {
        "colab": {
          "base_uri": "https://localhost:8080/"
        },
        "id": "09XnkHNKjAkw",
        "outputId": "51e227c2-c66e-49b3-8afa-e2236025ab77"
      },
      "source": [
        "def main():\n",
        "  import bisect, array\n",
        "  L, Q = map(int, input().split())\n",
        "  cut = array.array(\"I\", [0, L])\n",
        "  for _ in range(Q):\n",
        "    c, x = map(int, input().split())\n",
        "    if c == 1:\n",
        "      bisect.insort_left(cut, x)\n",
        "    else:\n",
        "      ind = bisect.bisect_left(cut, x)\n",
        "      print(cut[ind] - cut[ind-1])\n",
        "\n",
        "if __name__ == \"__main__\":\n",
        "  main()"
      ],
      "execution_count": 8,
      "outputs": [
        {
          "output_type": "stream",
          "name": "stdout",
          "text": [
            "5 3\n",
            "2 2\n",
            "5\n",
            "1 3\n",
            "2 2\n",
            "3\n"
          ]
        }
      ]
    },
    {
      "cell_type": "markdown",
      "metadata": {
        "id": "ggoU0yoCuTxQ"
      },
      "source": [
        "## [E - Sorting Queries](https://atcoder.jp/contests/abc217/tasks/abc217_e)"
      ]
    },
    {
      "cell_type": "markdown",
      "metadata": {
        "id": "ozifm3Ut2zDk"
      },
      "source": [
        "配列$A$とソートされた配列$B$を考える.\n",
        "\n",
        "1 : Aの後ろにxを追加する \n",
        "\n",
        "2 : Bが空でないならBの最小値を出力する. Bが空ならAの最初の要素を出力する.\n",
        "\n",
        "3 : Aを全てBに移し, Bを再びソートする.\n",
        "\n",
        "とすれば良い. なぜならBが空出ない場合, 本来ならばBの後ろにxが追加されるが, その場合もBの最小値を出力すれば良いからである.\n",
        "\n",
        "これを実現するには, $A$をdeque, $B$をheapqを用いれば良い."
      ]
    },
    {
      "cell_type": "code",
      "metadata": {
        "id": "PtOT5Qf9uYgY"
      },
      "source": [
        "from collections import deque\n",
        "import heapq"
      ],
      "execution_count": 18,
      "outputs": []
    },
    {
      "cell_type": "code",
      "metadata": {
        "colab": {
          "base_uri": "https://localhost:8080/"
        },
        "id": "WDTXW01Xubrg",
        "outputId": "0eeb1a28-e7cb-44d4-e43a-97d7f37a232b"
      },
      "source": [
        "dq = deque()\n",
        "hq = []\n",
        "Q = int(input())"
      ],
      "execution_count": 28,
      "outputs": [
        {
          "name": "stdout",
          "output_type": "stream",
          "text": [
            "8\n"
          ]
        }
      ]
    },
    {
      "cell_type": "code",
      "metadata": {
        "id": "FhnMtUwhuzUw"
      },
      "source": [
        "for _ in range(Q):\n",
        "  q = str(input())\n",
        "  if int(q[0]) == 1:\n",
        "    dq.append(int(q[2:]))\n",
        "  elif int(q[0]) == 2:\n",
        "    if len(hq) == 0:\n",
        "      ans = dq.popleft()\n",
        "    else:\n",
        "      ans = heapq.heappop(hq)\n",
        "    print(ans)\n",
        "  else:\n",
        "    for i in range(len(dq)):\n",
        "      i = dq.popleft()\n",
        "      heapq.heappush(hq, i)"
      ],
      "execution_count": null,
      "outputs": []
    }
  ]
}