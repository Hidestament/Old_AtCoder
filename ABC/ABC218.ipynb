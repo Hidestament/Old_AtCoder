{
  "nbformat": 4,
  "nbformat_minor": 0,
  "metadata": {
    "colab": {
      "name": "ABC218.ipynb",
      "provenance": [],
      "authorship_tag": "ABX9TyNWjp7OLTVrjtHB9I4sABG1",
      "include_colab_link": true
    },
    "kernelspec": {
      "name": "python3",
      "display_name": "Python 3"
    },
    "language_info": {
      "name": "python"
    }
  },
  "cells": [
    {
      "cell_type": "markdown",
      "metadata": {
        "id": "view-in-github",
        "colab_type": "text"
      },
      "source": [
        "<a href=\"https://colab.research.google.com/github/Hidestament/AtCoder/blob/main/ABC/ABC218.ipynb\" target=\"_parent\"><img src=\"https://colab.research.google.com/assets/colab-badge.svg\" alt=\"Open In Colab\"/></a>"
      ]
    },
    {
      "cell_type": "markdown",
      "source": [
        "# [AtCoder Beginner Contest 218](https://atcoder.jp/contests/abc218)"
      ],
      "metadata": {
        "id": "AjC4km3RZEX7"
      }
    },
    {
      "cell_type": "markdown",
      "source": [
        "## [A - Weather Forecast](https://atcoder.jp/contests/abc218/tasks/abc218_a)"
      ],
      "metadata": {
        "id": "06TqIs1CZHGR"
      }
    },
    {
      "cell_type": "code",
      "execution_count": null,
      "metadata": {
        "id": "y9bhER2qZDO7"
      },
      "outputs": [],
      "source": [
        "N = int(input())\n",
        "S = str(input())\n",
        "print(\"Yes\" if S[N-1] == \"o\" else \"No\")"
      ]
    },
    {
      "cell_type": "markdown",
      "source": [
        "## [B - qwerty](https://atcoder.jp/contests/abc218/tasks/abc218_b)"
      ],
      "metadata": {
        "id": "dlIdEbUrZQxW"
      }
    },
    {
      "cell_type": "code",
      "source": [
        "P = list(map(int, input().split()))\n",
        "S = \"\"\n",
        "for p in P:\n",
        "    S += chr(p + 96)\n",
        "print(S)"
      ],
      "metadata": {
        "colab": {
          "base_uri": "https://localhost:8080/"
        },
        "id": "n3o95H0BZSRi",
        "outputId": "fc96cfea-2797-4e2c-8df4-cf6e20408bb1"
      },
      "execution_count": 2,
      "outputs": [
        {
          "output_type": "stream",
          "name": "stdout",
          "text": [
            "1 2 3 4 5 6 7 8 9 10 11 12 13 14 15 16 17 18 19 20 21 22 23 24 25 26\n",
            "abcdefghijklmnopqrstuvwxyz\n"
          ]
        }
      ]
    },
    {
      "cell_type": "markdown",
      "source": [
        "## [C - Shapes](https://atcoder.jp/contests/abc218/tasks/abc218_c)"
      ],
      "metadata": {
        "id": "xd55AFfMZmWD"
      }
    },
    {
      "cell_type": "markdown",
      "source": [
        "90°回転は全通り（４通り）探索する"
      ],
      "metadata": {
        "id": "pP7Ak50hbvEE"
      }
    },
    {
      "cell_type": "code",
      "source": [
        "N = int(input())\n",
        "S = [input() for _ in range(N)]\n",
        "T = [input() for _ in range(N)]"
      ],
      "metadata": {
        "colab": {
          "base_uri": "https://localhost:8080/"
        },
        "id": "9QihtA0IZgJ7",
        "outputId": "2f5d9e7d-bfa9-4207-bca5-02c26d84d424"
      },
      "execution_count": 5,
      "outputs": [
        {
          "name": "stdout",
          "output_type": "stream",
          "text": [
            "5\n",
            ".....\n",
            "..#..\n",
            ".###.\n",
            ".....\n",
            ".....\n",
            ".....\n",
            ".....\n",
            "....#\n",
            "...##\n",
            "....#\n"
          ]
        }
      ]
    },
    {
      "cell_type": "code",
      "source": [
        "# 行列を90°回転するコード\n",
        "rotate = lambda A: [list(x)[::-1] for x in zip(*A)]"
      ],
      "metadata": {
        "id": "kWfkru5_Zgl2"
      },
      "execution_count": 11,
      "outputs": []
    },
    {
      "cell_type": "code",
      "source": [
        "def first_grid(A):\n",
        "    for h in range(N):\n",
        "        for w in range(N):\n",
        "            if A[h][w] == \"#\":\n",
        "                return h, w"
      ],
      "metadata": {
        "id": "1J19yTD5aKBw"
      },
      "execution_count": 12,
      "outputs": []
    },
    {
      "cell_type": "code",
      "source": [
        "def make_grid(A, ah, aw):\n",
        "    grid = set()\n",
        "    for h in range(N):\n",
        "        for w in range(N):\n",
        "            if A[h][w] == \"#\":\n",
        "                grid.add((h-ah, w-aw))\n",
        "    return grid"
      ],
      "metadata": {
        "id": "Ql0av6s2a5qP"
      },
      "execution_count": 13,
      "outputs": []
    },
    {
      "cell_type": "code",
      "source": [
        "th, tw = first_grid(T)\n",
        "t_grid = make_grid(T, th, tw)"
      ],
      "metadata": {
        "id": "rLSJd_JKaXrY"
      },
      "execution_count": 14,
      "outputs": []
    },
    {
      "cell_type": "code",
      "source": [
        "flag = False\n",
        "# SとTが平行移動によって一致するかを確認 -> 左上を一致させて全部のマスをcheckすれば良い\n",
        "for _ in range(4):\n",
        "    S = rotate(S)\n",
        "    sh, sw = first_grid(S)\n",
        "    s_grid = make_grid(S, sh, sw)\n",
        "    if s_grid == t_grid:\n",
        "        flag = True"
      ],
      "metadata": {
        "id": "E3ueaen4aYmW"
      },
      "execution_count": 15,
      "outputs": []
    },
    {
      "cell_type": "code",
      "source": [
        "print(\"Yes\" if flag else \"No\")"
      ],
      "metadata": {
        "colab": {
          "base_uri": "https://localhost:8080/"
        },
        "id": "rK-PALebbSiq",
        "outputId": "9cc0fff0-1055-40b1-fbf9-58529978080f"
      },
      "execution_count": 16,
      "outputs": [
        {
          "output_type": "stream",
          "name": "stdout",
          "text": [
            "Yes\n"
          ]
        }
      ]
    },
    {
      "cell_type": "markdown",
      "source": [
        "## [D - Rectangles](https://atcoder.jp/contests/abc218/tasks/abc218_d)"
      ],
      "metadata": {
        "id": "Y-fXkdjvbzJK"
      }
    },
    {
      "cell_type": "code",
      "source": [
        "N = int(input())\n",
        "points = [tuple(map(int, input().split())) for _ in range(N)]\n",
        "s_points = set(points)"
      ],
      "metadata": {
        "colab": {
          "base_uri": "https://localhost:8080/"
        },
        "id": "p5I_47NObVYP",
        "outputId": "0a4b55d6-257f-46d7-e0f5-71e8a279ad25"
      },
      "execution_count": 4,
      "outputs": [
        {
          "name": "stdout",
          "output_type": "stream",
          "text": [
            "6\n",
            "0 0\n",
            "0 1\n",
            "1 0\n",
            "1 1\n",
            "2 0\n",
            "2 1\n"
          ]
        }
      ]
    },
    {
      "cell_type": "code",
      "source": [
        "ans = 0\n",
        "for x1, y1 in points:\n",
        "    for x2, y2 in points:\n",
        "        if not ((x1 < x2) and (y1 < y2)): continue\n",
        "        if (x1, y2) in s_points and (x2, y1) in s_points:\n",
        "            ans += 1\n",
        "print(ans)"
      ],
      "metadata": {
        "colab": {
          "base_uri": "https://localhost:8080/"
        },
        "id": "BdlLrclBBRou",
        "outputId": "87d341da-4bb9-432b-d233-5288431bb2cc"
      },
      "execution_count": 6,
      "outputs": [
        {
          "output_type": "stream",
          "name": "stdout",
          "text": [
            "3\n"
          ]
        }
      ]
    },
    {
      "cell_type": "markdown",
      "source": [
        "## [E - Destruction](https://atcoder.jp/contests/abc218/tasks/abc218_e)"
      ],
      "metadata": {
        "id": "dVGRRUa0CKky"
      }
    },
    {
      "cell_type": "markdown",
      "source": [
        "取り除く辺の重さを最大にしたい -> のこす辺を最小"
      ],
      "metadata": {
        "id": "JOipfgEDGz5Y"
      }
    },
    {
      "cell_type": "code",
      "source": [
        "class UnionFindTree:\n",
        "    def __init__(self, n):\n",
        "        self.parents = [-1] * n\n",
        "  \n",
        "    def find(self, x):\n",
        "        if self.parents[x] < 0:\n",
        "            return x\n",
        "        else:\n",
        "            self.parents[x] = self.find(self.parents[x])\n",
        "            return self.find(self.parents[x])\n",
        "  \n",
        "    def union(self, x, y):\n",
        "        x = self.find(x)\n",
        "        y = self.find(y)\n",
        "        if x == y: return    \n",
        "        if self.parents[x] > self.parents[y]:\n",
        "            x, y = y, x\n",
        "        self.parents[x] += self.parents[y]\n",
        "        self.parents[y] = x\n",
        "\n",
        "    def same_check(self, x, y):\n",
        "        return self.find(x) == self.find(y)\n",
        "\n",
        "    def size(self, x):\n",
        "        return -1 * self.parents[self.find(x)]"
      ],
      "metadata": {
        "id": "dnn2zO6lDNjs"
      },
      "execution_count": 11,
      "outputs": []
    },
    {
      "cell_type": "code",
      "source": [
        "N, M = map(int, input().split())\n",
        "uf = UnionFindTree(N)\n",
        "edges = []\n",
        "for _ in range(M):\n",
        "    a, b, c = map(int, input().split())\n",
        "    a -= 1\n",
        "    b -= 1\n",
        "    if c <= 0:\n",
        "        uf.union(a, b)\n",
        "    else:\n",
        "        edges.append((c, a, b))\n",
        "edges.sort()"
      ],
      "metadata": {
        "colab": {
          "base_uri": "https://localhost:8080/"
        },
        "id": "mwtmBLryB_wZ",
        "outputId": "d1e72b94-11e9-4ba4-d307-a3e8ebaf42c0"
      },
      "execution_count": 9,
      "outputs": [
        {
          "name": "stdout",
          "output_type": "stream",
          "text": [
            "4 5\n",
            "1 2 1\n",
            "1 3 1\n",
            "1 4 1\n",
            "3 2 2\n",
            "4 2 2\n"
          ]
        }
      ]
    },
    {
      "cell_type": "code",
      "source": [
        "ans = 0\n",
        "for c, a, b in edges:\n",
        "    if uf.same_check(a, b):\n",
        "        ans += c\n",
        "    else:\n",
        "        uf.union(a, b)\n",
        "print(ans)"
      ],
      "metadata": {
        "colab": {
          "base_uri": "https://localhost:8080/"
        },
        "id": "3iqdcSo-EEr7",
        "outputId": "6819aed1-f8ed-4694-b3ae-e7ab819ce9bd"
      },
      "execution_count": 10,
      "outputs": [
        {
          "output_type": "stream",
          "name": "stdout",
          "text": [
            "4\n"
          ]
        }
      ]
    },
    {
      "cell_type": "markdown",
      "source": [
        "## [F - Blocked Roads](https://atcoder.jp/contests/abc218/tasks/abc218_f)"
      ],
      "metadata": {
        "id": "0GKLd9mej6GG"
      }
    },
    {
      "cell_type": "code",
      "source": [
        "import sys\n",
        "sys.setrecursionlimit(10**5)"
      ],
      "metadata": {
        "id": "jK7cARVY2SgI"
      },
      "execution_count": null,
      "outputs": []
    },
    {
      "cell_type": "code",
      "source": [
        "N, M = map(int, input().split())\n",
        "graph = [[] for _ in range(N)]\n",
        "edges = []\n",
        "for _ in range(M):\n",
        "    s, t = map(int, input().split())\n",
        "    s -= 1\n",
        "    t -= 1\n",
        "    graph[s].append(t)\n",
        "    edges.append((s, t))"
      ],
      "metadata": {
        "colab": {
          "base_uri": "https://localhost:8080/"
        },
        "id": "YtKv7rq4GspX",
        "outputId": "1d74a8ec-8a26-4d35-fc20-381a7d0a9ec2"
      },
      "execution_count": 1,
      "outputs": [
        {
          "name": "stdout",
          "output_type": "stream",
          "text": [
            "3 3\n",
            "1 2\n",
            "1 3\n",
            "2 3\n"
          ]
        }
      ]
    },
    {
      "cell_type": "code",
      "source": [
        "from collections import deque\n",
        "def bfs(ng_edge=(-1, -1)):\n",
        "    dist = [-1] * N\n",
        "    prev = [-1] * N\n",
        "    dq = deque([0])\n",
        "    dist[0] = 0\n",
        "    \n",
        "    while dq:\n",
        "        now = dq.popleft()\n",
        "        if now == N-1:\n",
        "            break\n",
        "        \n",
        "        for to in graph[now]:\n",
        "            if (now == ng_edge[0]) and (to == ng_edge[1]): continue\n",
        "            if dist[to] != -1: continue\n",
        "            dist[to] = dist[now] + 1\n",
        "            prev[to] = now\n",
        "            dq.append(to)\n",
        "    \n",
        "    return dist, prev"
      ],
      "metadata": {
        "id": "H2A8VJhw0R6X"
      },
      "execution_count": 2,
      "outputs": []
    },
    {
      "cell_type": "code",
      "source": [
        "# 元のグラフにおける具体的な最短路を求める\n",
        "ori_dist, prev = bfs()\n",
        "path = set()\n",
        "def restore_path(now):\n",
        "    if now == 0 or now == -1:\n",
        "        return\n",
        "    next = prev[now]\n",
        "    path.add((next, now))\n",
        "    restore_path(next)\n",
        "restore_path(N - 1)"
      ],
      "metadata": {
        "id": "KZURsxKa08gV"
      },
      "execution_count": 10,
      "outputs": []
    },
    {
      "cell_type": "code",
      "source": [
        "for s, t in edges:\n",
        "    if (s, t) not in path:\n",
        "        print(ori_dist[N - 1])\n",
        "    else:\n",
        "        d, _ = bfs((s, t))\n",
        "        print(d[N - 1])"
      ],
      "metadata": {
        "colab": {
          "base_uri": "https://localhost:8080/"
        },
        "id": "HZ5dSt--1tbf",
        "outputId": "3b5dfbc4-e146-4ab6-8822-62cd5813fa41"
      },
      "execution_count": 11,
      "outputs": [
        {
          "output_type": "stream",
          "name": "stdout",
          "text": [
            "1\n",
            "2\n",
            "1\n"
          ]
        }
      ]
    }
  ]
}