{
  "nbformat": 4,
  "nbformat_minor": 0,
  "metadata": {
    "colab": {
      "name": "ABC219.ipynb",
      "provenance": [],
      "authorship_tag": "ABX9TyM7OfJ8gbS1vWAmawKlVJeH",
      "include_colab_link": true
    },
    "kernelspec": {
      "name": "python3",
      "display_name": "Python 3"
    },
    "language_info": {
      "name": "python"
    }
  },
  "cells": [
    {
      "cell_type": "markdown",
      "metadata": {
        "id": "view-in-github",
        "colab_type": "text"
      },
      "source": [
        "<a href=\"https://colab.research.google.com/github/Hidestament/AtCoder/blob/main/ABC/ABC219.ipynb\" target=\"_parent\"><img src=\"https://colab.research.google.com/assets/colab-badge.svg\" alt=\"Open In Colab\"/></a>"
      ]
    },
    {
      "cell_type": "markdown",
      "source": [
        "# [AtCoder Beginner Contest 219](https://atcoder.jp/contests/abc219)"
      ],
      "metadata": {
        "id": "knJmNC9a8ZNz"
      }
    },
    {
      "cell_type": "markdown",
      "source": [
        "## [A - AtCoder Quiz 2](https://atcoder.jp/contests/abc219/tasks/abc219_a)"
      ],
      "metadata": {
        "id": "yXCIiMO18csx"
      }
    },
    {
      "cell_type": "code",
      "execution_count": null,
      "metadata": {
        "id": "WbL0kFap8Yu2"
      },
      "outputs": [],
      "source": [
        "X = int(input())\n",
        "if 0 <= X < 40:\n",
        "    print(40 - X)\n",
        "elif 40 <= X < 70:\n",
        "    print(70 - X)\n",
        "elif 70 <= X < 90:\n",
        "    print(90 - X)\n",
        "else:\n",
        "    print(\"expert\")"
      ]
    },
    {
      "cell_type": "markdown",
      "source": [
        "## [B - Maritozzo](https://atcoder.jp/contests/abc219/tasks/abc219_b)"
      ],
      "metadata": {
        "id": "Z9u3iyDa8zZl"
      }
    },
    {
      "cell_type": "code",
      "source": [
        "S = [str(input()) for _ in range(3)]\n",
        "T = str(input())"
      ],
      "metadata": {
        "id": "fiz4zeKu8j6d"
      },
      "execution_count": null,
      "outputs": []
    },
    {
      "cell_type": "code",
      "source": [
        "ans = \"\"\n",
        "for s in T:\n",
        "    ans += S[int(s) - 1]\n",
        "print(ans)"
      ],
      "metadata": {
        "id": "8iDCsiYO8j3A"
      },
      "execution_count": null,
      "outputs": []
    },
    {
      "cell_type": "markdown",
      "source": [
        "## [C - Neo-lexicographic Ordering](https://atcoder.jp/contests/abc219/tasks/abc219_c)"
      ],
      "metadata": {
        "id": "UqAnTSUC9XRZ"
      }
    },
    {
      "cell_type": "code",
      "source": [
        "X = str(input())\n",
        "N = int(input())\n",
        "S = [str(input()) for _ in range(N)]"
      ],
      "metadata": {
        "colab": {
          "base_uri": "https://localhost:8080/"
        },
        "id": "MKQy6trj8jz-",
        "outputId": "7ac29924-3a1d-44fa-ce7b-112a55dbdb7d"
      },
      "execution_count": null,
      "outputs": [
        {
          "name": "stdout",
          "output_type": "stream",
          "text": [
            "bacdefghijklmnopqrstuvwxzy\n",
            "4\n",
            "abx\n",
            "bzz\n",
            "bzy\n",
            "caa\n"
          ]
        }
      ]
    },
    {
      "cell_type": "code",
      "source": [
        "# zipped[s]: AtCoder王国において, sに対応するアルファベット\n",
        "zipped = {chr(97 + i): X[i] for i in range(26)}\n",
        "\n",
        "# zipped[s]: 現実の世界における, sに対応する本来のアルファベット\n",
        "unzipped = {X[i]: chr(97 + i) for i in range(26)}"
      ],
      "metadata": {
        "id": "8d2YKQjB99FM"
      },
      "execution_count": null,
      "outputs": []
    },
    {
      "cell_type": "code",
      "source": [
        "sort_s = []\n",
        "for s in S:\n",
        "    temp = \"\"\n",
        "    for i in range(len(s)):\n",
        "        temp += unzipped[s[i]]\n",
        "    sort_s.append(temp)\n",
        "sort_s.sort()"
      ],
      "metadata": {
        "id": "2vkJFyO6-s2q"
      },
      "execution_count": null,
      "outputs": []
    },
    {
      "cell_type": "code",
      "source": [
        "for s in sort_s:\n",
        "    ans = \"\"\n",
        "    for i in range(len(s)):\n",
        "        ans += zipped[s[i]]\n",
        "    print(ans)"
      ],
      "metadata": {
        "colab": {
          "base_uri": "https://localhost:8080/"
        },
        "id": "zl54pAyM-szx",
        "outputId": "81b7188b-efae-467e-88e3-f8052862e5a6"
      },
      "execution_count": null,
      "outputs": [
        {
          "output_type": "stream",
          "name": "stdout",
          "text": [
            "bzz\n",
            "bzy\n",
            "abx\n",
            "caa\n"
          ]
        }
      ]
    },
    {
      "cell_type": "markdown",
      "source": [
        "## [D - Strange Lunchbox](https://atcoder.jp/contests/abc219/tasks/abc219_d)"
      ],
      "metadata": {
        "id": "quqNqhrN_Weo"
      }
    },
    {
      "cell_type": "code",
      "source": [
        "N = int(input())\n",
        "X, Y = map(int, input().split())\n",
        "lunch = [list(map(int, input().split())) for _ in range(N)]"
      ],
      "metadata": {
        "colab": {
          "base_uri": "https://localhost:8080/"
        },
        "id": "F8tMmyVh-sxS",
        "outputId": "56321412-e64e-45a9-c014-1b86b6b753e2"
      },
      "execution_count": null,
      "outputs": [
        {
          "name": "stdout",
          "output_type": "stream",
          "text": [
            "3\n",
            "5 6\n",
            "2 1\n",
            "3 4\n",
            "2 3\n"
          ]
        }
      ]
    },
    {
      "cell_type": "code",
      "source": [
        "# DP[i][x][y]: i番目未満のランチで, x個y個をgetする際の弁当の最小値\n",
        "# X個以上はX, Y個以上はYにまとめる\n",
        "INF = 400\n",
        "DP = [[[INF] * (Y + 1) for _ in range(X + 1)] for _ in range(N+1)]"
      ],
      "metadata": {
        "id": "tSFXjjHx-suW"
      },
      "execution_count": null,
      "outputs": []
    },
    {
      "cell_type": "code",
      "source": [
        "# 配るDPの方が良さそう\n",
        "DP[0][0][0] = 0\n",
        "for i in range(N):\n",
        "    a, b = lunch[i]\n",
        "    for x in range(X + 1):\n",
        "        for y in range(Y + 1):\n",
        "            # 品物iを使用するとき\n",
        "            DP[i+1][min(X, x+a)][min(Y, y+b)] = min(DP[i+1][min(X, x+a)][min(Y, y+b)], DP[i][x][y] + 1)\n",
        "            # 使用しないとき\n",
        "            DP[i+1][x][y] = min(DP[i+1][x][y], DP[i][x][y])"
      ],
      "metadata": {
        "id": "HWlfnZrZ-squ"
      },
      "execution_count": null,
      "outputs": []
    },
    {
      "cell_type": "code",
      "source": [
        "ans = DP[N][X][Y]\n",
        "print(ans if ans != INF else -1)"
      ],
      "metadata": {
        "colab": {
          "base_uri": "https://localhost:8080/"
        },
        "id": "faUBlb1YCQ7c",
        "outputId": "051521a5-1a6c-46e1-ff37-5d57ce589fec"
      },
      "execution_count": null,
      "outputs": [
        {
          "output_type": "stream",
          "name": "stdout",
          "text": [
            "2\n"
          ]
        }
      ]
    }
  ]
}