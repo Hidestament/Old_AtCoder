{
  "nbformat": 4,
  "nbformat_minor": 0,
  "metadata": {
    "colab": {
      "name": "ABC219.ipynb",
      "provenance": [],
      "authorship_tag": "ABX9TyPfqaHGYqok2EZpWplqFfPS",
      "include_colab_link": true
    },
    "kernelspec": {
      "name": "python3",
      "display_name": "Python 3"
    },
    "language_info": {
      "name": "python"
    }
  },
  "cells": [
    {
      "cell_type": "markdown",
      "metadata": {
        "id": "view-in-github",
        "colab_type": "text"
      },
      "source": [
        "<a href=\"https://colab.research.google.com/github/Hidestament/AtCoder/blob/main/ABC/ABC219.ipynb\" target=\"_parent\"><img src=\"https://colab.research.google.com/assets/colab-badge.svg\" alt=\"Open In Colab\"/></a>"
      ]
    },
    {
      "cell_type": "markdown",
      "metadata": {
        "id": "CjgOZRTRzfQv"
      },
      "source": [
        "# [ABC219](https://atcoder.jp/contests/abc219)"
      ]
    },
    {
      "cell_type": "markdown",
      "metadata": {
        "id": "l4JRZdhEzfL5"
      },
      "source": [
        "## [A - AtCoder Quiz 2](https://atcoder.jp/contests/abc219/tasks/abc219_a)"
      ]
    },
    {
      "cell_type": "code",
      "metadata": {
        "colab": {
          "base_uri": "https://localhost:8080/"
        },
        "id": "Ec4qauGKyseg",
        "outputId": "625abe87-dd11-4202-8fb0-ae61d867cf95"
      },
      "source": [
        "X = int(input())\n",
        "if 0 <= X < 40:\n",
        "  print(40 - X)\n",
        "elif 40 <= X < 70:\n",
        "  print(70 - X)\n",
        "elif 70 <= X < 90:\n",
        "  print(90 - X)\n",
        "else:\n",
        "  print(\"expert\")"
      ],
      "execution_count": null,
      "outputs": [
        {
          "output_type": "stream",
          "name": "stdout",
          "text": [
            "0\n",
            "40\n"
          ]
        }
      ]
    },
    {
      "cell_type": "markdown",
      "metadata": {
        "id": "uUNtqbv2ze1O"
      },
      "source": [
        "## [B - MAritozzo](https://atcoder.jp/contests/abc219/tasks/abc219_b)"
      ]
    },
    {
      "cell_type": "code",
      "metadata": {
        "colab": {
          "base_uri": "https://localhost:8080/"
        },
        "id": "OVhBDt5Dy1N4",
        "outputId": "bb1485e0-a968-4e58-896a-96d175869bfc"
      },
      "source": [
        "S1 = str(input())\n",
        "S2 = str(input())\n",
        "S3 = str(input())\n",
        "T = str(input())\n",
        "ans = \"\"\n",
        "for i in range(len(T)):\n",
        "  if T[i] == \"1\":\n",
        "    ans += S1\n",
        "  elif T[i] == \"2\":\n",
        "    ans += S2\n",
        "  else:\n",
        "    ans += S3\n",
        "print(ans)"
      ],
      "execution_count": null,
      "outputs": [
        {
          "output_type": "stream",
          "name": "stdout",
          "text": [
            "a\n",
            "b\n",
            "c\n",
            "1\n",
            "a\n"
          ]
        }
      ]
    },
    {
      "cell_type": "markdown",
      "metadata": {
        "id": "JRlNTCPKIGg4"
      },
      "source": [
        "replaceを使うと楽"
      ]
    },
    {
      "cell_type": "code",
      "metadata": {
        "colab": {
          "base_uri": "https://localhost:8080/"
        },
        "id": "A7Nr8dpTIEJ7",
        "outputId": "6da3719c-86c5-46f3-98c2-5bbd7cc0e6a0"
      },
      "source": [
        "S1 = str(input())\n",
        "S2 = str(input())\n",
        "S3 = str(input())\n",
        "T = str(input())\n",
        "T = T.replace(\"1\", S1)\n",
        "T = T.replace(\"2\", S2)\n",
        "T = T.replace(\"3\", S3)\n",
        "print(T)"
      ],
      "execution_count": 3,
      "outputs": [
        {
          "output_type": "stream",
          "name": "stdout",
          "text": [
            "mari\n",
            "to\n",
            "zzo\n",
            "1321\n",
            "marizzotomari\n"
          ]
        }
      ]
    },
    {
      "cell_type": "markdown",
      "metadata": {
        "id": "t_A9dgIIzfp9"
      },
      "source": [
        "## [C - Neo-lexxicographic Ordering](https://atcoder.jp/contests/abc219/tasks/abc219_c)"
      ]
    },
    {
      "cell_type": "markdown",
      "metadata": {
        "id": "4hDUicbzIsyn"
      },
      "source": [
        "文字を入れ替えて, ソートすれば良い"
      ]
    },
    {
      "cell_type": "code",
      "metadata": {
        "colab": {
          "base_uri": "https://localhost:8080/"
        },
        "id": "vVM8YRCCzYxm",
        "outputId": "c566e7cb-17c6-4fee-cc6d-04885eaecec7"
      },
      "source": [
        "alpha = \"abcdefghijklmnopqrstuvwxyz\"\n",
        "X = str(input())\n",
        "N = int(input())\n",
        "S = []\n",
        "for _ in range(N):\n",
        "  s = str(input())\n",
        "  new_s = \"\"\n",
        "  for i in range(len(s)):\n",
        "    new_s += alpha[X_dict[s[i]]]\n",
        "  S.append((s, new_s))\n",
        "S.sort(key=lambda x:x[1])\n",
        "for s in S:\n",
        "  print(s[0])"
      ],
      "execution_count": null,
      "outputs": [
        {
          "output_type": "stream",
          "name": "stdout",
          "text": [
            "bacdefghijklmnopqrstuvwxzy\n",
            "4\n",
            "abx\n",
            "bzz\n",
            "bzy\n",
            "caa\n",
            "('bzz', 'ayy')\n",
            "('bzy', 'ayz')\n",
            "('abx', 'bax')\n",
            "('caa', 'cbb')\n"
          ]
        }
      ]
    },
    {
      "cell_type": "markdown",
      "metadata": {
        "id": "Ye-cFoh7IxJJ"
      },
      "source": [
        "## [D - Strange Lunchbox](https://atcoder.jp/contests/abc219/tasks/abc219_d)"
      ]
    },
    {
      "cell_type": "markdown",
      "metadata": {
        "id": "yYYujdXkz5Sb"
      },
      "source": [
        "DP[i][x][y]:i番目までの品物を選んで, Xをx以上, Yをy以上にできる品物の最小値"
      ]
    },
    {
      "cell_type": "markdown",
      "metadata": {
        "id": "1dRz47vz7fNV"
      },
      "source": [
        "- 品物$i$の$x_i, y_i$を使用しない場合 : dp[i-1][x][y] を そのまま引き継げば良いので\n",
        "$$\n",
        "dp[i][x][y] = dp[i-1][x][y]\n",
        "$$\n",
        "\n",
        "- 品物$i$の$x_i, y_i$を使用する場合 : $x-x_i, y-y_i$における使用する品物の最小値に品物$i$を加えた分が一番最小になる. つまり, $dp[i-1][x-x_i][y-y_i] + 1$となる. このとき, $x-x_i, y-y_i \\le 0$となる可能性があるため, その場合は0と大きい方を取れば良い.\n",
        "$$\n",
        "dp[i][x][y] = dp[i-1][x-x_i][y-y_i] + 1\n",
        "$$\n",
        "\n",
        "合わせれば, \n",
        "$$\n",
        "dp[i][x][y] = \\min(dp[i-1][x][y], dp[i-1][\\max(0, x-x_i)][\\max(0, y-y_i]+1)\n",
        "$$\n",
        "\n",
        "となる."
      ]
    },
    {
      "cell_type": "markdown",
      "metadata": {
        "id": "Xf6heCSaNaV6"
      },
      "source": [
        "DPの初期値は明らかに, 任意の$i$について$x=y=0$にする場合$0$となる. つまり,\n",
        "$$\n",
        "dp[i][0][0] = 0, \\forall i\n",
        "$$"
      ]
    },
    {
      "cell_type": "code",
      "metadata": {
        "id": "RvBjTnNWJVIx"
      },
      "source": [
        "N = int(input())\n",
        "X,Y = map(int, input().split())\n",
        "items = []\n",
        "for _ in range(N):\n",
        "  a,b = map(int, input().split())\n",
        "  items.append((a, b))\n",
        "INF = 10**10\n",
        "dp = [[[INF for y in range(Y+1)] for x in range(X+1)] for _ in range(N+1)]"
      ],
      "execution_count": null,
      "outputs": []
    },
    {
      "cell_type": "code",
      "metadata": {
        "id": "00tOHrwrJd9q"
      },
      "source": [
        "for i in range(1, N+1):\n",
        "  for x in range(X+1):\n",
        "    for y in range(Y+1):\n",
        "      if x == 0 and y == 0:\n",
        "        dp[i][x][y] = 0\n",
        "      elif x <= items[i-1][0] and y <= items[i-1][1]:\n",
        "        dp[i][x][y] = 1\n",
        "      else:\n",
        "        dp[i][x][y] = min(dp[i-1][x][y], dp[i-1][max(0, x-items[i-1][0])][max(0, y - items[i-1][1])] + 1)\n",
        "\n",
        "print(dp[N][X][Y] if dp[N][X][Y] != INF else -1)"
      ],
      "execution_count": null,
      "outputs": []
    }
  ]
}