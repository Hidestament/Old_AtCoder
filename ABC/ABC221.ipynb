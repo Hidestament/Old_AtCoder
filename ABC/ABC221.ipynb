{
  "nbformat": 4,
  "nbformat_minor": 0,
  "metadata": {
    "colab": {
      "name": "ABC221.ipynb",
      "provenance": [],
      "collapsed_sections": [],
      "authorship_tag": "ABX9TyNLX3Y2trX6qJu7tVi6QouT",
      "include_colab_link": true
    },
    "kernelspec": {
      "name": "python3",
      "display_name": "Python 3"
    },
    "language_info": {
      "name": "python"
    }
  },
  "cells": [
    {
      "cell_type": "markdown",
      "metadata": {
        "id": "view-in-github",
        "colab_type": "text"
      },
      "source": [
        "<a href=\"https://colab.research.google.com/github/Hidestament/AtCoder/blob/main/ABC/ABC221.ipynb\" target=\"_parent\"><img src=\"https://colab.research.google.com/assets/colab-badge.svg\" alt=\"Open In Colab\"/></a>"
      ]
    },
    {
      "cell_type": "markdown",
      "source": [
        "# [AtCoder Beginner Contest 221](https://atcoder.jp/contests/abc221)"
      ],
      "metadata": {
        "id": "iKB_jgSxyPun"
      }
    },
    {
      "cell_type": "markdown",
      "source": [
        "## [A - Seismic magnitude scales](https://atcoder.jp/contests/abc221/tasks/abc221_a)"
      ],
      "metadata": {
        "id": "TLj3oHw5yRlt"
      }
    },
    {
      "cell_type": "code",
      "execution_count": null,
      "metadata": {
        "id": "nU-ljFUkyKsS"
      },
      "outputs": [],
      "source": [
        "A, B = map(int, input().split())\n",
        "print(pow(32, A - B))"
      ]
    },
    {
      "cell_type": "markdown",
      "source": [
        "## [B - typo](https://atcoder.jp/contests/abc221/tasks/abc221_b)"
      ],
      "metadata": {
        "id": "Ylw_noGUzHiO"
      }
    },
    {
      "cell_type": "code",
      "source": [
        "S = list(str(input()))\n",
        "T = list(str(input()))\n",
        "if S == T:\n",
        "    print(\"Yes\")\n",
        "else:\n",
        "    for i in range(len(S) - 1):\n",
        "        S[i], S[i+1] = S[i+1], S[i]\n",
        "        if S == T:\n",
        "            print(\"Yes\")\n",
        "            break\n",
        "        S[i], S[i+1] = S[i+1], S[i]\n",
        "    else:\n",
        "        print(\"No\")"
      ],
      "metadata": {
        "id": "GiLCKfoAzJ0A"
      },
      "execution_count": null,
      "outputs": []
    },
    {
      "cell_type": "markdown",
      "source": [
        "## [C - Select Mul](https://atcoder.jp/contests/abc221/tasks/abc221_c)"
      ],
      "metadata": {
        "id": "aO62cNt-zrVA"
      }
    },
    {
      "cell_type": "code",
      "source": [
        "N = str(input())"
      ],
      "metadata": {
        "colab": {
          "base_uri": "https://localhost:8080/"
        },
        "id": "9Gxaomat0ERT",
        "outputId": "92d75ddd-8fc1-43f9-b60c-5188045643ce"
      },
      "execution_count": null,
      "outputs": [
        {
          "name": "stdout",
          "output_type": "stream",
          "text": [
            "123\n"
          ]
        }
      ]
    },
    {
      "cell_type": "code",
      "source": [
        "ans = 0\n",
        "for bit in range(1, 1 << len(N) - 1):\n",
        "    left = []\n",
        "    right = []\n",
        "    for i in range(len(N)):\n",
        "        if (bit >> i) & 1:\n",
        "            left.append(N[i])\n",
        "        else:\n",
        "            right.append(N[i])\n",
        "\n",
        "    left.sort(reverse=True)\n",
        "    right.sort(reverse=True)\n",
        "    left = int(\"\".join(left))\n",
        "    right = int(\"\".join(right))\n",
        "    ans = max(ans, left * right)"
      ],
      "metadata": {
        "id": "bN82t0GJ0bt4"
      },
      "execution_count": null,
      "outputs": []
    },
    {
      "cell_type": "code",
      "source": [
        "print(ans)"
      ],
      "metadata": {
        "colab": {
          "base_uri": "https://localhost:8080/"
        },
        "id": "dWTM_3O602c1",
        "outputId": "2b01b156-424a-42dc-ea33-8a011a79aef1"
      },
      "execution_count": null,
      "outputs": [
        {
          "output_type": "stream",
          "name": "stdout",
          "text": [
            "63\n"
          ]
        }
      ]
    },
    {
      "cell_type": "markdown",
      "source": [
        "## [D - Online games](https://atcoder.jp/contests/abc221/tasks/abc221_d)"
      ],
      "metadata": {
        "id": "4gQtMqXg2nPB"
      }
    },
    {
      "cell_type": "code",
      "source": [
        "N = int(input())\n",
        "query = []\n",
        "used = []\n",
        "for _ in range(N):\n",
        "    A, B = map(int, input().split())\n",
        "    used.append(A)\n",
        "    used.append(A+B)\n",
        "    query.append([A, B])"
      ],
      "metadata": {
        "colab": {
          "base_uri": "https://localhost:8080/"
        },
        "id": "wP6Iy5B63IH4",
        "outputId": "c38fcbc3-3873-4cf5-90e7-ced2e49c5e09"
      },
      "execution_count": null,
      "outputs": [
        {
          "name": "stdout",
          "output_type": "stream",
          "text": [
            "3\n",
            "1 2\n",
            "2 3\n",
            "3 1\n"
          ]
        }
      ]
    },
    {
      "cell_type": "code",
      "source": [
        "zipped = {x: i for i, x in enumerate(sorted(list(set(used))))}\n",
        "unzipped = {i: x for i, x in enumerate(sorted(list(set(used))))}"
      ],
      "metadata": {
        "id": "IA7b3zRE3dQr"
      },
      "execution_count": null,
      "outputs": []
    },
    {
      "cell_type": "code",
      "source": [
        "imos = [0] * len(zipped)\n",
        "for a, b in query:\n",
        "    imos[zipped[a]] += 1\n",
        "    imos[zipped[a+b]] -= 1"
      ],
      "metadata": {
        "id": "XHKBYQrC3gQq"
      },
      "execution_count": null,
      "outputs": []
    },
    {
      "cell_type": "code",
      "source": [
        "from collections import defaultdict\n",
        "from itertools import accumulate\n",
        "acc = list(accumulate(imos))"
      ],
      "metadata": {
        "id": "yL_6cewG3tes"
      },
      "execution_count": null,
      "outputs": []
    },
    {
      "cell_type": "code",
      "source": [
        "cnt = defaultdict(int)\n",
        "for i in range(len(acc) - 1):\n",
        "    cnt[acc[i]] += unzipped[i + 1] - unzipped[i]"
      ],
      "metadata": {
        "id": "LnETGtGo4B4A"
      },
      "execution_count": null,
      "outputs": []
    },
    {
      "cell_type": "code",
      "source": [
        "for i in range(1, N+1):\n",
        "    print(cnt[i])"
      ],
      "metadata": {
        "colab": {
          "base_uri": "https://localhost:8080/"
        },
        "id": "nSR24s_I4EPi",
        "outputId": "4be4a37b-a2e2-48f0-ac0d-80065dec2cf7"
      },
      "execution_count": null,
      "outputs": [
        {
          "output_type": "stream",
          "name": "stdout",
          "text": [
            "2\n",
            "2\n",
            "0\n"
          ]
        }
      ]
    },
    {
      "cell_type": "markdown",
      "source": [
        "event sortで解く"
      ],
      "metadata": {
        "id": "uv036Knu57Ef"
      }
    },
    {
      "cell_type": "code",
      "source": [
        "N = int(input())\n",
        "query = []\n",
        "for _ in range(N):\n",
        "    a, b = map(int, input().split())\n",
        "    query.append([a, 1])\n",
        "    query.append([a + b, -1])"
      ],
      "metadata": {
        "id": "0ZdIy1OQPr2k"
      },
      "execution_count": null,
      "outputs": []
    },
    {
      "cell_type": "code",
      "source": [
        "query.sort()"
      ],
      "metadata": {
        "id": "SE0MOfHjPr0A"
      },
      "execution_count": null,
      "outputs": []
    },
    {
      "cell_type": "code",
      "source": [
        "from collections import defaultdict\n",
        "cnt = defaultdict(int)"
      ],
      "metadata": {
        "id": "QB498yD6Prxe"
      },
      "execution_count": 26,
      "outputs": []
    },
    {
      "cell_type": "code",
      "source": [
        "num = 0\n",
        "date = 0\n",
        "for d, x in query:\n",
        "    if date != d:\n",
        "        cnt[num] += (d - date)\n",
        "        date = d\n",
        "    num += x"
      ],
      "metadata": {
        "id": "hVwMVuq9Pruk"
      },
      "execution_count": 27,
      "outputs": []
    },
    {
      "cell_type": "code",
      "source": [
        "for i in range(1, N+1):\n",
        "    print(cnt[i])"
      ],
      "metadata": {
        "id": "ND-NuB1jPrrf"
      },
      "execution_count": null,
      "outputs": []
    },
    {
      "cell_type": "markdown",
      "source": [
        "## [E - LEQ](https://atcoder.jp/contests/abc221/tasks/abc221_e)"
      ],
      "metadata": {
        "id": "3tbo9PCJ5Ds0"
      }
    },
    {
      "cell_type": "markdown",
      "source": [
        "### BIT, 原理的な解法"
      ],
      "metadata": {
        "id": "9tqqog_MHLBr"
      }
    },
    {
      "cell_type": "code",
      "source": [
        "N = int(input())\n",
        "A = list(map(int, input().split()))\n",
        "mod = 998244353"
      ],
      "metadata": {
        "colab": {
          "base_uri": "https://localhost:8080/"
        },
        "id": "B5N3pHb34Mwb",
        "outputId": "3335b740-3d83-42e9-e0cd-0662dbd40f78"
      },
      "execution_count": null,
      "outputs": [
        {
          "name": "stdout",
          "output_type": "stream",
          "text": [
            "10\n",
            "198495780 28463047 859606611 212983738 946249513 789612890 782044670 700201033 367981604 302538501\n"
          ]
        }
      ]
    },
    {
      "cell_type": "code",
      "source": [
        "class BinaryIndexedTree:\n",
        "    \"\"\"\n",
        "    A = [a0, a1, a2, ..., an-1]\n",
        "    元のAの配列は0-indexだが, BIT上では1-indexで扱う\n",
        "    \"\"\"\n",
        "    def __init__(self, n=10**6):\n",
        "        self.size = n + 1\n",
        "        self.tree = [0] * (n + 1)\n",
        "        self.depth = n.bit_length()\n",
        "        \n",
        "    def update(self, i, x):\n",
        "        \"\"\"\n",
        "        ai += x を する\n",
        "        i: 0-index\n",
        "        \"\"\"\n",
        "        # 1-indexに直す\n",
        "        pos = i + 1\n",
        "        while pos <= self.size:\n",
        "            self.tree[pos] += x\n",
        "            # 真上の位置は, iにiのLSBを加えたモノ\n",
        "            pos += pos & -pos\n",
        "\n",
        "    def sum(self, i):\n",
        "        \"\"\"\n",
        "        a[0] + a[1] + ... + a[i] を 求める\n",
        "        i は 0-index\n",
        "        \"\"\"\n",
        "        pos = i + 1\n",
        "        s = 0\n",
        "        while pos > 0:\n",
        "            s += self.tree[pos]\n",
        "            # 左上は i に iのLSBを引いたモノ\n",
        "            pos -= pos & -pos\n",
        "        return s\n",
        "\n",
        "    def sum_range(self, i, j):\n",
        "        \"\"\"\n",
        "        a[i] + a[i+1] + ... + a[j] を 求める\n",
        "        i, j は 0-index\n",
        "        \"\"\"\n",
        "        return self.sum(j) - self.sum(i - 1)"
      ],
      "metadata": {
        "id": "AxAMLe084OVG"
      },
      "execution_count": null,
      "outputs": []
    },
    {
      "cell_type": "code",
      "source": [
        "bit = BinaryIndexedTree()"
      ],
      "metadata": {
        "id": "3UWvMvayDUdl"
      },
      "execution_count": null,
      "outputs": []
    },
    {
      "cell_type": "code",
      "source": [
        "ans = 0\n",
        "for i, a in enumerate(A):\n",
        "    ans += bit.sum(a) * pow(2, i - 1, mod)\n",
        "    bit.update(a, pow(2, -i, mod))\n",
        "print(ans % mod)"
      ],
      "metadata": {
        "id": "gMa5RDw0DZLT"
      },
      "execution_count": null,
      "outputs": []
    },
    {
      "cell_type": "markdown",
      "source": [
        "### 正式解答・BIT + 座圧"
      ],
      "metadata": {
        "id": "UqzY4lplHJVR"
      }
    },
    {
      "cell_type": "code",
      "source": [
        "class BinaryIndexedTree:\n",
        "    \"\"\"\n",
        "    A = [a0, a1, a2, ..., an-1]\n",
        "    元のAの配列は0-indexだが, BIT上では1-indexで扱う\n",
        "    \"\"\"\n",
        "    def __init__(self, n=10**6):\n",
        "        self.size = n + 1\n",
        "        self.tree = [0] * (n + 1)\n",
        "        self.depth = n.bit_length()\n",
        "        \n",
        "    def update(self, i, x):\n",
        "        \"\"\"\n",
        "        ai += x を する\n",
        "        i: 0-index\n",
        "        \"\"\"\n",
        "        # 1-indexに直す\n",
        "        pos = i + 1\n",
        "        while pos <= self.size:\n",
        "            self.tree[pos] += x\n",
        "            # 真上の位置は, iにiのLSBを加えたモノ\n",
        "            pos += pos & -pos\n",
        "\n",
        "    def sum(self, i):\n",
        "        \"\"\"\n",
        "        a[0] + a[1] + ... + a[i] を 求める\n",
        "        i は 0-index\n",
        "        \"\"\"\n",
        "        pos = i + 1\n",
        "        s = 0\n",
        "        while pos > 0:\n",
        "            s += self.tree[pos]\n",
        "            # 左上は i に iのLSBを引いたモノ\n",
        "            pos -= pos & -pos\n",
        "        return s"
      ],
      "metadata": {
        "id": "H85aB2c3DoU6"
      },
      "execution_count": null,
      "outputs": []
    },
    {
      "cell_type": "code",
      "source": [
        "N = int(input())\n",
        "A = list(map(int, input().split()))\n",
        "mod = 998244353"
      ],
      "metadata": {
        "colab": {
          "base_uri": "https://localhost:8080/"
        },
        "id": "l_djB2zDHTvk",
        "outputId": "ae356f10-d5f6-4295-e180-5bf120eb2ecb"
      },
      "execution_count": null,
      "outputs": [
        {
          "name": "stdout",
          "output_type": "stream",
          "text": [
            "10\n",
            "198495780 28463047 859606611 212983738 946249513 789612890 782044670 700201033 367981604 302538501\n"
          ]
        }
      ]
    },
    {
      "cell_type": "code",
      "source": [
        "zipped = {x: i for i, x in enumerate(sorted(list(set(A))))}\n",
        "unzipped = {i: x for i, x in enumerate(sorted(list(set(A))))}\n",
        "bit = BinaryIndexedTree()"
      ],
      "metadata": {
        "id": "1QUH0gxxHO_n"
      },
      "execution_count": null,
      "outputs": []
    },
    {
      "cell_type": "code",
      "source": [
        "ans = 0\n",
        "for i, a in enumerate(A):\n",
        "    a = zipped[a]\n",
        "    ans += bit.sum(a) * pow(2, i - 1, mod)\n",
        "    bit.update(a, pow(2, mod - i - 1, mod))\n",
        "print(ans % mod)"
      ],
      "metadata": {
        "id": "Pn5ALZvsHURs"
      },
      "execution_count": null,
      "outputs": []
    },
    {
      "cell_type": "markdown",
      "source": [
        "### もっかい組んでおく"
      ],
      "metadata": {
        "id": "BHhrFS8OPGhe"
      }
    },
    {
      "cell_type": "code",
      "source": [
        "N = int(input())\n",
        "A = list(map(int, input().split()))\n",
        "mod = 998244353"
      ],
      "metadata": {
        "colab": {
          "base_uri": "https://localhost:8080/"
        },
        "id": "uxEO5y3YPGug",
        "outputId": "218b8d57-91a5-4737-df23-82ffebc67e13"
      },
      "execution_count": null,
      "outputs": [
        {
          "name": "stdout",
          "output_type": "stream",
          "text": [
            "3\n",
            "1 2 1\n"
          ]
        }
      ]
    },
    {
      "cell_type": "code",
      "source": [
        "# 座圧・元のAの配列はいらない. 大きさの大・小のみが必要なので\n",
        "compress = {x: i for i, x in enumerate(sorted(list(set(A))))}"
      ],
      "metadata": {
        "id": "lUFBZBBxRBfw"
      },
      "execution_count": null,
      "outputs": []
    },
    {
      "cell_type": "code",
      "source": [
        "# bitを関数で書いてみる\n",
        "bit = [0] * (10**6)\n",
        "\n",
        "def add(i, x):\n",
        "    # iは0-indexなので1-indexに直す\n",
        "    pos = i + 1\n",
        "    # 加える場合は, 上方向に加えていく. なので len(bit)未満の間, posのLSBを加えていく\n",
        "    while pos < len(bit):\n",
        "        bit[pos] += x\n",
        "        # 上方向に行くので LSBを加える\n",
        "        pos += pos & -pos\n",
        "\n",
        "def sum(i):\n",
        "    # iは0-indexなので1-indexに直す\n",
        "    pos = i + 1\n",
        "    s = 0\n",
        "    # 加える場合は下方向に行くので, 0より大きい間にやる. bit[0]は何も無いので pos > 0\n",
        "    while pos > 0:\n",
        "        s += bit[pos]\n",
        "        # 下方向に行くので LSBを引く\n",
        "        pos -= pos & -pos\n",
        "    return s % mod"
      ],
      "metadata": {
        "id": "tM8g3BybRQ2o"
      },
      "execution_count": null,
      "outputs": []
    },
    {
      "cell_type": "code",
      "source": [
        "# 相対的な位置関係のみ必要なので, 1-indexでstartする\n",
        "ans = 0\n",
        "for i, a in enumerate(A, start=1):\n",
        "    a = compress[a]\n",
        "    ans += sum(a) * pow(2, i - 1, mod)\n",
        "    add(a, pow(2, mod - i - 1, mod))\n",
        "    ans %= mod\n",
        "print(ans % mod)"
      ],
      "metadata": {
        "id": "T0ZXGzxvRRFE"
      },
      "execution_count": null,
      "outputs": []
    }
  ]
}