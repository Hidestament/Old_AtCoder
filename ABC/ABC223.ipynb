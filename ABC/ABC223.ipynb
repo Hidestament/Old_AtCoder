{
  "nbformat": 4,
  "nbformat_minor": 0,
  "metadata": {
    "colab": {
      "name": "ABC223.ipynb",
      "provenance": [],
      "collapsed_sections": [],
      "authorship_tag": "ABX9TyOeWRvoOIzpzi59H/1EqcNq",
      "include_colab_link": true
    },
    "kernelspec": {
      "name": "python3",
      "display_name": "Python 3"
    },
    "language_info": {
      "name": "python"
    }
  },
  "cells": [
    {
      "cell_type": "markdown",
      "metadata": {
        "id": "view-in-github",
        "colab_type": "text"
      },
      "source": [
        "<a href=\"https://colab.research.google.com/github/Hidestament/AtCoder/blob/main/ABC/ABC223.ipynb\" target=\"_parent\"><img src=\"https://colab.research.google.com/assets/colab-badge.svg\" alt=\"Open In Colab\"/></a>"
      ]
    },
    {
      "cell_type": "markdown",
      "metadata": {
        "id": "A8NZMx9kkK2x"
      },
      "source": [
        "# [ABC223](https://atcoder.jp/contests/abc223)"
      ]
    },
    {
      "cell_type": "markdown",
      "metadata": {
        "id": "cQe5jQ7FKIrm"
      },
      "source": [
        "## [A - Exact Price](https://atcoder.jp/contests/abc223/tasks/abc223_a)"
      ]
    },
    {
      "cell_type": "code",
      "metadata": {
        "colab": {
          "base_uri": "https://localhost:8080/"
        },
        "id": "umdmxHGZKI8l",
        "outputId": "a576b873-6116-4f3b-d96b-793b295631f6"
      },
      "source": [
        "X = int(input())\n",
        "if X:\n",
        "  print(\"Yes\" if X % 100 == 0 else \"No\")\n",
        "else:\n",
        "  print(\"No\")"
      ],
      "execution_count": null,
      "outputs": [
        {
          "output_type": "stream",
          "name": "stdout",
          "text": [
            "0\n",
            "No\n"
          ]
        }
      ]
    },
    {
      "cell_type": "markdown",
      "metadata": {
        "id": "AwXgKcGYJZA9"
      },
      "source": [
        "## [B - String Shifting](https://atcoder.jp/contests/abc223/tasks/abc223_b)"
      ]
    },
    {
      "cell_type": "markdown",
      "metadata": {
        "id": "AQuPIyztkwPz"
      },
      "source": [
        "シフトを行うと、Startの文字は変わるが相対的な順番は変わらない.\n",
        "\n",
        "よって, どこの文字からStartするかを全列挙してその中で最小、最大のものを提出する"
      ]
    },
    {
      "cell_type": "code",
      "metadata": {
        "colab": {
          "base_uri": "https://localhost:8080/"
        },
        "id": "3FnXLQOoKqMJ",
        "outputId": "7e4439a4-def7-462f-9658-9122a2f8bda7"
      },
      "source": [
        "s = list(input())\n",
        "ans = []\n",
        "for i in range(len(s)):\n",
        "  ans.append(\"\".join(s[i:] + s[:i]))\n",
        "ans.sort()\n",
        "print(ans[0])\n",
        "print(ans[-1])"
      ],
      "execution_count": null,
      "outputs": [
        {
          "output_type": "stream",
          "name": "stdout",
          "text": [
            "abracadabra\n",
            "aabracadabr\n",
            "racadabraab\n"
          ]
        }
      ]
    },
    {
      "cell_type": "markdown",
      "metadata": {
        "id": "nOtUkREuKHPA"
      },
      "source": [
        "## [C - Doukasen](https://atcoder.jp/contests/abc223/tasks/abc223_c)"
      ]
    },
    {
      "cell_type": "code",
      "metadata": {
        "colab": {
          "base_uri": "https://localhost:8080/"
        },
        "id": "N-19oPkGJ9JH",
        "outputId": "82bbad40-2539-4753-a886-2b7abf2e5291"
      },
      "source": [
        "N = int(input())\n",
        "time = 0\n",
        "line = []\n",
        "for _ in range(N):\n",
        "  a, b = map(int, input().split()) \n",
        "  time += (a / b)\n",
        "  line.append(([a, b]))"
      ],
      "execution_count": null,
      "outputs": [
        {
          "name": "stdout",
          "output_type": "stream",
          "text": [
            "3\n",
            "1 1\n",
            "2 1\n",
            "3 1\n"
          ]
        }
      ]
    },
    {
      "cell_type": "code",
      "metadata": {
        "colab": {
          "base_uri": "https://localhost:8080/"
        },
        "id": "pXLNn70sMxG0",
        "outputId": "d5007da1-ff54-47d8-f4fd-2fefb6ad2ba6"
      },
      "source": [
        "now_time = 0\n",
        "now_length = 0\n",
        "ans_time = time / 2\n",
        "for i in range(N):\n",
        "  if now_time + (line[i][0] / line[i][1]) >= ans_time:\n",
        "    print(now_length + (ans_time - now_time) * line[i][1])\n",
        "    break\n",
        "  else:\n",
        "    now_time += line[i][0] / line[i][1]\n",
        "    now_length += line[i][0]"
      ],
      "execution_count": null,
      "outputs": [
        {
          "output_type": "stream",
          "name": "stdout",
          "text": [
            "3.0\n"
          ]
        }
      ]
    },
    {
      "cell_type": "markdown",
      "metadata": {
        "id": "Lw1-9WE0Mw6m"
      },
      "source": [
        "## [D - Restricted Permutation](https://atcoder.jp/contests/abc223/tasks/abc223_d)"
      ]
    },
    {
      "cell_type": "markdown",
      "metadata": {
        "id": "4upKnNS8gtGE"
      },
      "source": [
        "頂点の番号が小さい順にトポロジカルソートすれば良い.\n",
        "\n",
        "このときは, heapqを使用すれば頂点の小さい順にトポロジカルソートできる."
      ]
    },
    {
      "cell_type": "code",
      "metadata": {
        "id": "ufMVKIG5gsUf"
      },
      "source": [
        "# 入力の受け取り\n",
        "from heapq import *\n",
        "n, m = map(int, input().split())\n",
        "graph = [[] for _ in range(n)]\n",
        "indeg = [0] * n\n",
        "for _ in range(m):\n",
        "    s, t = map(int, input().split())\n",
        "    indeg[t-1] += 1\n",
        "    graph[s-1].append(t-1)\n",
        "for i in range(n):\n",
        "    graph[i] = sorted(graph[i])"
      ],
      "execution_count": null,
      "outputs": []
    },
    {
      "cell_type": "code",
      "metadata": {
        "id": "2AhsuuTxfpQO"
      },
      "source": [
        "def topological_sort(graph, indeg):\n",
        "    ans = []\n",
        "    hq = [v for v in range(len(indeg)) if indeg[v] == 0]\n",
        "    heapify(hq)\n",
        "    while hq:\n",
        "        v = heappop(hq)\n",
        "        ans.append(v)\n",
        "        for to in graph[v]:\n",
        "            indeg[to] -= 1\n",
        "            if indeg[to] == 0:\n",
        "                heappush(hq, to)\n",
        "    return ans"
      ],
      "execution_count": null,
      "outputs": []
    },
    {
      "cell_type": "code",
      "metadata": {
        "id": "wbSCxpm-g6F1"
      },
      "source": [
        "ans = topological_sort(graph, indeg)\n",
        "\n",
        "# ansにn頂点含まれてなければ巡回路が存在することになる\n",
        "if len(ans) == n:\n",
        "    for i in ans:\n",
        "        print(i + 1)\n",
        "else:\n",
        "    print(-1)"
      ],
      "execution_count": null,
      "outputs": []
    }
  ]
}