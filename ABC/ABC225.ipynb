{
  "nbformat": 4,
  "nbformat_minor": 0,
  "metadata": {
    "colab": {
      "name": "ABC225.ipynb",
      "provenance": [],
      "authorship_tag": "ABX9TyOzwDCvzo/76lLNHmQEdcM3",
      "include_colab_link": true
    },
    "kernelspec": {
      "name": "python3",
      "display_name": "Python 3"
    },
    "language_info": {
      "name": "python"
    }
  },
  "cells": [
    {
      "cell_type": "markdown",
      "metadata": {
        "id": "view-in-github",
        "colab_type": "text"
      },
      "source": [
        "<a href=\"https://colab.research.google.com/github/Hidestament/AtCoder/blob/main/ABC/ABC225.ipynb\" target=\"_parent\"><img src=\"https://colab.research.google.com/assets/colab-badge.svg\" alt=\"Open In Colab\"/></a>"
      ]
    },
    {
      "cell_type": "markdown",
      "metadata": {
        "id": "ankV0V27cHyP"
      },
      "source": [
        "# [AtCoder Beginner Contest 225](https://atcoder.jp/contests/abc225)"
      ]
    },
    {
      "cell_type": "markdown",
      "metadata": {
        "id": "-nOvNp44cKEJ"
      },
      "source": [
        "## [A - Distinct Strings](https://atcoder.jp/contests/abc225/tasks/abc225_a)"
      ]
    },
    {
      "cell_type": "code",
      "metadata": {
        "colab": {
          "base_uri": "https://localhost:8080/"
        },
        "id": "v4GP44VkcE9U",
        "outputId": "12318fc6-6b3c-4e78-b9e9-e57c0a868224"
      },
      "source": [
        "S = set(list(input()))\n",
        "if len(S) == 1: print(1)\n",
        "elif len(S) == 2: print(3)\n",
        "else: print(6)"
      ],
      "execution_count": 1,
      "outputs": [
        {
          "name": "stdout",
          "output_type": "stream",
          "text": [
            "aba\n"
          ]
        }
      ]
    },
    {
      "cell_type": "markdown",
      "metadata": {
        "id": "od_aBFROcfeX"
      },
      "source": [
        "## [B - Star or Not](https://atcoder.jp/contests/abc225/tasks/abc225_b)"
      ]
    },
    {
      "cell_type": "code",
      "metadata": {
        "id": "vdKSTtmScXFs"
      },
      "source": [
        "N = int(input())\n",
        "degree = [0] * (N+1)\n",
        "for _ in range(N-1):\n",
        "    a, b = map(int, input().split())\n",
        "    degree[a] += 1\n",
        "    degree[b] += 1\n",
        "\n",
        "print(\"Yes\" if max(degree) == N-1 else \"No\")"
      ],
      "execution_count": null,
      "outputs": []
    },
    {
      "cell_type": "markdown",
      "metadata": {
        "id": "zxiMq8w1cyB_"
      },
      "source": [
        "## [C - Calendar Validator](https://atcoder.jp/contests/abc225/tasks/abc225_c)"
      ]
    },
    {
      "cell_type": "code",
      "metadata": {
        "id": "LzB-L-ztcZX8"
      },
      "source": [
        "N, M = map(int, input().split())\n",
        "B = [list(map(int, input().split())) for _ in range(N)]"
      ],
      "execution_count": null,
      "outputs": []
    },
    {
      "cell_type": "code",
      "metadata": {
        "id": "mhk5furJgQ5r"
      },
      "source": [
        "def yoko_check(b):\n",
        "    if any(i % 7 == 0 for i in b[:-1]):\n",
        "        return False\n",
        "    if [b[0]+i for i in range(len(b))] == b:\n",
        "        return True\n",
        "    return False\n",
        "\n",
        "bef_left = B[0][0]\n",
        "if yoko_check(B[0]):\n",
        "    bef_left = B[0][0]\n",
        "    for i in range(1, N):\n",
        "        if not yoko_check(B[i]):\n",
        "            print(\"No\")\n",
        "            exit()\n",
        "        if bef_left + 7 != B[i][0]:\n",
        "            print(\"No\")\n",
        "            exit()\n",
        "        bef_left = B[i][0]\n",
        "    print(\"Yes\")\n",
        "else:\n",
        "    print(\"No\")"
      ],
      "execution_count": null,
      "outputs": []
    },
    {
      "cell_type": "code",
      "metadata": {
        "colab": {
          "base_uri": "https://localhost:8080/"
        },
        "id": "6uPZczE6gQ2d",
        "outputId": "99adadfe-5d8a-4a10-db29-e9ccab777bb9"
      },
      "source": [
        "a = [1,2,3,4]\n",
        "a[:-1]"
      ],
      "execution_count": 5,
      "outputs": [
        {
          "output_type": "execute_result",
          "data": {
            "text/plain": [
              "[1, 2, 3]"
            ]
          },
          "metadata": {},
          "execution_count": 5
        }
      ]
    },
    {
      "cell_type": "markdown",
      "metadata": {
        "id": "ZMured9XjUkD"
      },
      "source": [
        "こう書いた方が簡潔で良い"
      ]
    },
    {
      "cell_type": "code",
      "metadata": {
        "id": "1RICm3ZRgQzs"
      },
      "source": [
        "N, M = map(int, input().split())\n",
        "B = [list(map(int, input().split())) for _ in range(N)]"
      ],
      "execution_count": null,
      "outputs": []
    },
    {
      "cell_type": "code",
      "metadata": {
        "id": "CqHcew3XgQxC"
      },
      "source": [
        "flag = True\n",
        "for i in range(N):\n",
        "    for j in range(M):\n",
        "        # 横方向のcheck\n",
        "        if (j + 1 < M) and (B[i][j] + 1 != B[i][j+1]):\n",
        "            flag = False\n",
        "        \n",
        "        # 縦方向のcheck\n",
        "        if (i + 1 < N) and (B[i][j] + 7 != B[i+1][j]):\n",
        "            flag = False\n",
        "        \n",
        "        # 途中に7の倍数がないかcheck\n",
        "        if (j < M - 1) and (B[i][j] % 7 == 0):\n",
        "            flag = False\n",
        "\n",
        "print(\"Yes\" if flag else \"No\")"
      ],
      "execution_count": null,
      "outputs": []
    },
    {
      "cell_type": "markdown",
      "metadata": {
        "id": "-GYZm06gdMYk"
      },
      "source": [
        "## [D - Play Train](https://atcoder.jp/contests/abc225/tasks/abc225_d)"
      ]
    },
    {
      "cell_type": "code",
      "metadata": {
        "id": "KsU62M-_fcA_"
      },
      "source": [
        "N, Q = map(int, input().split())\n",
        "prev = [i for i in range(N+1)]\n",
        "next = [i for i in range(N+1)]"
      ],
      "execution_count": null,
      "outputs": []
    },
    {
      "cell_type": "code",
      "metadata": {
        "id": "hYlnpMapfb9v"
      },
      "source": [
        "def dfs(s:int, p:list):\n",
        "    ans = []\n",
        "    now = s\n",
        "    while True:\n",
        "        if p[now] == now: break\n",
        "        ans.append(p[now])\n",
        "        now = p[now]\n",
        "    return ans"
      ],
      "execution_count": null,
      "outputs": []
    },
    {
      "cell_type": "code",
      "metadata": {
        "id": "Jb0BsS6sdOrG"
      },
      "source": [
        "for _ in range(Q):\n",
        "    query = list(map(int, input().split()))\n",
        "    if query[0] == 1:\n",
        "        x, y = query[1], query[2]\n",
        "        next[x] = y\n",
        "        prev[y] = x\n",
        "\n",
        "    elif query[0] == 2:\n",
        "        x, y = query[1], query[2]\n",
        "        next[x] = x\n",
        "        prev[y] = y\n",
        "        \n",
        "    else:\n",
        "        x = query[1]\n",
        "        before = dfs(x, prev)\n",
        "        after = dfs(x, next)\n",
        "        ans = before[::-1] + [x] + after\n",
        "        print(len(ans), *ans)"
      ],
      "execution_count": null,
      "outputs": []
    },
    {
      "cell_type": "code",
      "metadata": {
        "id": "dMcM4d5He_fV"
      },
      "source": [
        ""
      ],
      "execution_count": null,
      "outputs": []
    }
  ]
}