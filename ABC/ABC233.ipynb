{
  "nbformat": 4,
  "nbformat_minor": 0,
  "metadata": {
    "colab": {
      "name": "ABC233.ipynb",
      "provenance": [],
      "authorship_tag": "ABX9TyM2BdlR5x5J0N6cv9cOeQoX",
      "include_colab_link": true
    },
    "kernelspec": {
      "name": "python3",
      "display_name": "Python 3"
    },
    "language_info": {
      "name": "python"
    }
  },
  "cells": [
    {
      "cell_type": "markdown",
      "metadata": {
        "id": "view-in-github",
        "colab_type": "text"
      },
      "source": [
        "<a href=\"https://colab.research.google.com/github/Hidestament/AtCoder/blob/main/ABC/ABC233.ipynb\" target=\"_parent\"><img src=\"https://colab.research.google.com/assets/colab-badge.svg\" alt=\"Open In Colab\"/></a>"
      ]
    },
    {
      "cell_type": "markdown",
      "source": [
        "# [AtCoder Beginner Contest 233](https://atcoder.jp/contests/abc233)"
      ],
      "metadata": {
        "id": "t_BCaFQ1pn0H"
      }
    },
    {
      "cell_type": "markdown",
      "source": [
        "## [A - 10yen Stamp](https://atcoder.jp/contests/abc233/tasks/abc233_a)"
      ],
      "metadata": {
        "id": "DCEhT1x6psBt"
      }
    },
    {
      "cell_type": "code",
      "execution_count": null,
      "metadata": {
        "id": "3FrwtfZCpmGt"
      },
      "outputs": [],
      "source": [
        "X, Y = map(int, input().split())\n",
        "res = max(0, Y - X)\n",
        "print(-int(-res//10))"
      ]
    },
    {
      "cell_type": "markdown",
      "source": [
        "## [B - A Reverse](https://atcoder.jp/contests/abc233/tasks/abc233_b)"
      ],
      "metadata": {
        "id": "fHd4z7uHp3XL"
      }
    },
    {
      "cell_type": "code",
      "source": [
        "L, R = map(int, input().split())\n",
        "L -= 1\n",
        "R -= 1\n",
        "S = str(input())"
      ],
      "metadata": {
        "id": "DIZBkCznp5_Z"
      },
      "execution_count": null,
      "outputs": []
    },
    {
      "cell_type": "code",
      "source": [
        "print(S[:L] + S[L:R+1][::-1] + S[R+1:])"
      ],
      "metadata": {
        "id": "NC-W0gO1p8ap"
      },
      "execution_count": null,
      "outputs": []
    },
    {
      "cell_type": "markdown",
      "source": [
        "## [C - Product](https://atcoder.jp/contests/abc233/tasks/abc233_c)"
      ],
      "metadata": {
        "id": "NuuppmfBqJzM"
      }
    },
    {
      "cell_type": "code",
      "source": [
        "N, X = map(int, input().split())\n",
        "L = []\n",
        "A = []\n",
        "for _ in range(N):\n",
        "    l, *a = map(int, input().split())\n",
        "    L.append(range(l))\n",
        "    A.append(a)"
      ],
      "metadata": {
        "colab": {
          "base_uri": "https://localhost:8080/"
        },
        "id": "sr8siwS3qNc_",
        "outputId": "6d1de986-8080-4e43-a4c7-4430ccaeb0e7"
      },
      "execution_count": 5,
      "outputs": [
        {
          "name": "stdout",
          "output_type": "stream",
          "text": [
            "2 40\n",
            "3 1 8 4\n",
            "2 10 5\n"
          ]
        }
      ]
    },
    {
      "cell_type": "code",
      "source": [
        "from itertools import product\n",
        "ans = 0\n",
        "for bit in product(*L):\n",
        "    p = 1\n",
        "    for i in range(N):\n",
        "        p *= A[i][bit[i]]\n",
        "    if p == X:\n",
        "        ans += 1\n",
        "print(ans)"
      ],
      "metadata": {
        "colab": {
          "base_uri": "https://localhost:8080/"
        },
        "id": "5ng54pm7qiU0",
        "outputId": "71a752a5-3e0b-4870-8c95-ecdeddb2cd06"
      },
      "execution_count": 7,
      "outputs": [
        {
          "output_type": "stream",
          "name": "stdout",
          "text": [
            "2\n"
          ]
        }
      ]
    },
    {
      "cell_type": "markdown",
      "source": [
        "## [D - Count Interval](https://atcoder.jp/contests/abc233/tasks/abc233_d)"
      ],
      "metadata": {
        "id": "UtOnQj5rrFwQ"
      }
    },
    {
      "cell_type": "code",
      "source": [
        "N, K = map(int, input().split())\n",
        "A = [0] + list(map(int, input().split()))"
      ],
      "metadata": {
        "colab": {
          "base_uri": "https://localhost:8080/"
        },
        "id": "lPdbi9Pwqk0H",
        "outputId": "fca515a5-a363-4a03-85f6-2d33a601eed3"
      },
      "execution_count": 10,
      "outputs": [
        {
          "name": "stdout",
          "output_type": "stream",
          "text": [
            "6 5\n",
            "8 -3 5 7 0 -4\n"
          ]
        }
      ]
    },
    {
      "cell_type": "code",
      "source": [
        "from itertools import accumulate\n",
        "from collections import Counter\n",
        "acc = list(accumulate(A))\n",
        "cnt = Counter(acc)\n",
        "cnt[0] -= 1"
      ],
      "metadata": {
        "id": "Xk1tT0v6rLw0"
      },
      "execution_count": 17,
      "outputs": []
    },
    {
      "cell_type": "code",
      "source": [
        "ans = 0\n",
        "for left in range(1, N + 1):\n",
        "    res = K + acc[left - 1]\n",
        "    ans += cnt[res]\n",
        "    cnt[acc[left]] -= 1\n",
        "print(ans)"
      ],
      "metadata": {
        "id": "YLOb5qWPrhWq"
      },
      "execution_count": 19,
      "outputs": []
    },
    {
      "cell_type": "markdown",
      "source": [
        "## [E - Σ[k=0..10^100]floor(X／10^k)](https://atcoder.jp/contests/abc233/tasks/abc233_e)"
      ],
      "metadata": {
        "id": "_NRVd7CbsmbF"
      }
    },
    {
      "cell_type": "code",
      "source": [
        "X = str(input())\n",
        "X = X[::-1]"
      ],
      "metadata": {
        "colab": {
          "base_uri": "https://localhost:8080/"
        },
        "id": "3dkI3P1Wscvt",
        "outputId": "34e0ab7a-d9a0-4a0c-f2b5-46bed065a56a"
      },
      "execution_count": 31,
      "outputs": [
        {
          "name": "stdout",
          "output_type": "stream",
          "text": [
            "99999\n"
          ]
        }
      ]
    },
    {
      "cell_type": "code",
      "source": [
        "s = sum(int(x) for x in X)\n",
        "ans = []\n",
        "k = 0\n",
        "p = 0\n",
        "while True:\n",
        "    if not k and p >= len(X):\n",
        "        break\n",
        "    \n",
        "    now = (k + s) % 10\n",
        "    ans.append(str(now))\n",
        "    k = (k + s) // 10\n",
        "    if p < len(X):\n",
        "        s -= int(X[p])\n",
        "        p += 1"
      ],
      "metadata": {
        "id": "nWcPGTFfsdUW"
      },
      "execution_count": 32,
      "outputs": []
    },
    {
      "cell_type": "code",
      "source": [
        "print(\"\".join(ans[::-1]))"
      ],
      "metadata": {
        "colab": {
          "base_uri": "https://localhost:8080/"
        },
        "id": "FKkHLi2ju1O0",
        "outputId": "08a31afc-ba0c-4925-f873-ef4761788396"
      },
      "execution_count": 33,
      "outputs": [
        {
          "output_type": "stream",
          "name": "stdout",
          "text": [
            "111105\n"
          ]
        }
      ]
    }
  ]
}