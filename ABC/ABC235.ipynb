{
  "nbformat": 4,
  "nbformat_minor": 0,
  "metadata": {
    "colab": {
      "name": "ABC235.ipynb",
      "provenance": [],
      "collapsed_sections": [],
      "authorship_tag": "ABX9TyNuOl69W9FVX97nA7/7ePfH",
      "include_colab_link": true
    },
    "kernelspec": {
      "name": "python3",
      "display_name": "Python 3"
    },
    "language_info": {
      "name": "python"
    }
  },
  "cells": [
    {
      "cell_type": "markdown",
      "metadata": {
        "id": "view-in-github",
        "colab_type": "text"
      },
      "source": [
        "<a href=\"https://colab.research.google.com/github/Hidestament/AtCoder/blob/main/ABC/ABC235.ipynb\" target=\"_parent\"><img src=\"https://colab.research.google.com/assets/colab-badge.svg\" alt=\"Open In Colab\"/></a>"
      ]
    },
    {
      "cell_type": "markdown",
      "source": [
        "# [AtCoder Beginner Contest 235](https://atcoder.jp/contests/abc235)"
      ],
      "metadata": {
        "id": "3sFlVywH1jeu"
      }
    },
    {
      "cell_type": "markdown",
      "source": [
        "## [A - Rotate](https://atcoder.jp/contests/abc235/tasks/abc235_a)"
      ],
      "metadata": {
        "id": "0ZBNyb9x1lA0"
      }
    },
    {
      "cell_type": "code",
      "execution_count": null,
      "metadata": {
        "id": "8mCTlu9H1hxC"
      },
      "outputs": [],
      "source": [
        "abc = str(input())\n",
        "a, b, c = abc[0], abc[1], abc[2]\n",
        "print(int(a + b + c) + int(b + c + a) + int(c + a + b))"
      ]
    },
    {
      "cell_type": "markdown",
      "source": [
        "こっちでもOK"
      ],
      "metadata": {
        "id": "It8Nl3bS1unE"
      }
    },
    {
      "cell_type": "code",
      "source": [
        "abc = str(input())\n",
        "a, b, c = int(abc[0]), int(abc[1]), int(abc[2])\n",
        "print(111*(a + b + c))"
      ],
      "metadata": {
        "id": "TaQ--eAo1wXW"
      },
      "execution_count": null,
      "outputs": []
    },
    {
      "cell_type": "markdown",
      "source": [
        "## [B - Climbing Takahashi](https://atcoder.jp/contests/abc235/tasks/abc235_b)"
      ],
      "metadata": {
        "id": "2fKU-9Mm2ZM8"
      }
    },
    {
      "cell_type": "code",
      "source": [
        "N = int(input())\n",
        "H = list(map(int, input().split()))"
      ],
      "metadata": {
        "colab": {
          "base_uri": "https://localhost:8080/"
        },
        "id": "su9VpYom1wUV",
        "outputId": "65305578-70f8-4318-884b-0d5a1e67d392"
      },
      "execution_count": null,
      "outputs": [
        {
          "output_type": "execute_result",
          "data": {
            "text/plain": [
              "['1', '2', '3']"
            ]
          },
          "metadata": {},
          "execution_count": 4
        }
      ]
    },
    {
      "cell_type": "code",
      "source": [
        "now = H[0]\n",
        "for i in range(1, N):\n",
        "    if now < H[i]:\n",
        "        now = H[i]\n",
        "    else:\n",
        "        break\n",
        "print(now)"
      ],
      "metadata": {
        "id": "-oE6dofp1uxN"
      },
      "execution_count": null,
      "outputs": []
    },
    {
      "cell_type": "markdown",
      "source": [
        "## [C - The Kth Time Query](https://atcoder.jp/contests/abc235/tasks/abc235_c)"
      ],
      "metadata": {
        "id": "cShkqlin2yt4"
      }
    },
    {
      "cell_type": "code",
      "source": [
        "N, Q = map(int, input().split())\n",
        "A = list(map(int, input().split()))"
      ],
      "metadata": {
        "colab": {
          "base_uri": "https://localhost:8080/"
        },
        "id": "ns9uwQ9R1vVI",
        "outputId": "4ad2f5bd-2518-484a-d6c4-e933b7edb732"
      },
      "execution_count": null,
      "outputs": [
        {
          "name": "stdout",
          "output_type": "stream",
          "text": [
            "6 8\n",
            "1 1 2 3 1 2\n"
          ]
        }
      ]
    },
    {
      "cell_type": "code",
      "source": [
        "from collections import defaultdict\n",
        "cnt = defaultdict(list)\n",
        "for i, a in enumerate(A):\n",
        "    cnt[a].append(i + 1)"
      ],
      "metadata": {
        "id": "f_33h4di3EsS"
      },
      "execution_count": null,
      "outputs": []
    },
    {
      "cell_type": "code",
      "source": [
        "for _ in range(Q):\n",
        "    x, k = map(int, input().split())\n",
        "    if len(cnt[x]) >= k:\n",
        "        print(cnt[x][k-1])\n",
        "    else:\n",
        "        print(-1)"
      ],
      "metadata": {
        "id": "TFtfWEEL3xuB"
      },
      "execution_count": null,
      "outputs": []
    },
    {
      "cell_type": "markdown",
      "source": [
        "## [D - Multiply and Rotate](https://atcoder.jp/contests/abc235/tasks/abc235_d)"
      ],
      "metadata": {
        "id": "kFatUD4T40IX"
      }
    },
    {
      "cell_type": "code",
      "source": [
        "a, N = map(int, input().split())"
      ],
      "metadata": {
        "colab": {
          "base_uri": "https://localhost:8080/"
        },
        "id": "8QBGQai44BdJ",
        "outputId": "9c2d212e-eea5-44aa-f72d-1ec6f8dd847e"
      },
      "execution_count": null,
      "outputs": [
        {
          "name": "stdout",
          "output_type": "stream",
          "text": [
            "2 611\n"
          ]
        }
      ]
    },
    {
      "cell_type": "code",
      "source": [
        "from collections import deque\n",
        "dq = deque()\n",
        "dq.append([0, 1])\n",
        "used = set([1])\n",
        "while dq:\n",
        "    depth, x = dq.popleft()\n",
        "    if len(str(x)) > len(str(N)): continue\n",
        "    if x == N:\n",
        "        print(depth)\n",
        "        exit()\n",
        "    \n",
        "    # a倍\n",
        "    ax = a * x\n",
        "    if ax not in used:\n",
        "        used.add(ax)\n",
        "        dq.append([depth+1, ax])\n",
        "\n",
        "    # rotate\n",
        "    if (x >= 10) and (x % 10 != 0):\n",
        "        rotate_x = int(str(x)[-1] + str(x)[:-1])\n",
        "        if rotate_x not in used:\n",
        "            used.add(rotate_x)\n",
        "            dq.append([depth+1, rotate_x])\n",
        "\n",
        "print(-1)"
      ],
      "metadata": {
        "id": "cMyzM-H44Uhj"
      },
      "execution_count": null,
      "outputs": []
    },
    {
      "cell_type": "markdown",
      "source": [
        "## [E - MST + 1](https://atcoder.jp/contests/abc235/tasks/abc235_e)"
      ],
      "metadata": {
        "id": "TxzuLLNj8Cd1"
      }
    },
    {
      "cell_type": "code",
      "source": [
        "class UnionFindTree:\n",
        "    def __init__(self, n):\n",
        "        self.parents = [-1] * n\n",
        "  \n",
        "    def find(self, x):\n",
        "        if self.parents[x] < 0:\n",
        "            return x\n",
        "        else:\n",
        "            self.parents[x] = self.find(self.parents[x])\n",
        "            return self.find(self.parents[x])\n",
        "  \n",
        "    def union(self, x, y):\n",
        "        x = self.find(x)\n",
        "        y = self.find(y)\n",
        "        if x == y: return    \n",
        "        if self.parents[x] > self.parents[y]:\n",
        "            x, y = y, x\n",
        "        self.parents[x] += self.parents[y]\n",
        "        self.parents[y] = x\n",
        "\n",
        "    def same_check(self, x, y):\n",
        "        return self.find(x) == self.find(y)\n",
        "\n",
        "    def size(self, x):\n",
        "        return -1 * self.parents[self.find(x)]"
      ],
      "metadata": {
        "id": "FkuPMyUc9Xhd"
      },
      "execution_count": null,
      "outputs": []
    },
    {
      "cell_type": "code",
      "source": [
        "N, M, Q = map(int, input().split())"
      ],
      "metadata": {
        "id": "aHSDZC8I9Xhe"
      },
      "execution_count": null,
      "outputs": []
    },
    {
      "cell_type": "code",
      "source": [
        "edges = []\n",
        "for _ in range(M):\n",
        "    a, b, c = map(int, input().split())\n",
        "    a -= 1\n",
        "    b -= 1\n",
        "    edges.append([c, a, b, -1])\n",
        "for q in range(Q):\n",
        "    u, v, w = map(int, input().split())\n",
        "    u -= 1\n",
        "    v -= 1\n",
        "    edges.append([w, u, v, q])"
      ],
      "metadata": {
        "colab": {
          "base_uri": "https://localhost:8080/",
          "height": 35
        },
        "id": "QDZcLKI_7dJm",
        "outputId": "4f668394-c1ba-4bc5-9b17-dd89b1615556"
      },
      "execution_count": null,
      "outputs": [
        {
          "output_type": "execute_result",
          "data": {
            "application/vnd.google.colaboratory.intrinsic+json": {
              "type": "string"
            },
            "text/plain": [
              "''"
            ]
          },
          "metadata": {},
          "execution_count": 4
        }
      ]
    },
    {
      "cell_type": "code",
      "source": [
        "edges.sort()\n",
        "ans = [0] * Q\n",
        "uf = UnionFindTree(N)"
      ],
      "metadata": {
        "id": "5QVlIlAiqyu0"
      },
      "execution_count": null,
      "outputs": []
    },
    {
      "cell_type": "code",
      "source": [
        "for c, u, v, q in edges:\n",
        "    if q == -1:\n",
        "        uf.union(u, v)\n",
        "    else:\n",
        "        if uf.same_check(u, v):\n",
        "            ans[q] = \"No\"\n",
        "        else:\n",
        "            ans[q] = \"Yes\""
      ],
      "metadata": {
        "id": "jLjkXsqH7ihV"
      },
      "execution_count": null,
      "outputs": []
    },
    {
      "cell_type": "code",
      "source": [
        "print(*ans, sep=\"\\n\")"
      ],
      "metadata": {
        "id": "QX7OAGS6-bF0"
      },
      "execution_count": null,
      "outputs": []
    }
  ]
}