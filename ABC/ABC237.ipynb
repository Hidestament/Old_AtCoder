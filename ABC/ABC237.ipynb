{
  "nbformat": 4,
  "nbformat_minor": 0,
  "metadata": {
    "colab": {
      "name": "ABC237.ipynb",
      "provenance": [],
      "authorship_tag": "ABX9TyM/ZOC69ZO3Devryygp5tKX",
      "include_colab_link": true
    },
    "kernelspec": {
      "name": "python3",
      "display_name": "Python 3"
    },
    "language_info": {
      "name": "python"
    }
  },
  "cells": [
    {
      "cell_type": "markdown",
      "metadata": {
        "id": "view-in-github",
        "colab_type": "text"
      },
      "source": [
        "<a href=\"https://colab.research.google.com/github/Hidestament/AtCoder/blob/main/ABC/ABC237.ipynb\" target=\"_parent\"><img src=\"https://colab.research.google.com/assets/colab-badge.svg\" alt=\"Open In Colab\"/></a>"
      ]
    },
    {
      "cell_type": "markdown",
      "source": [
        "# [AtCoder Beginner Contest 237](https://atcoder.jp/contests/abc237)"
      ],
      "metadata": {
        "id": "XsiN2RESRMUH"
      }
    },
    {
      "cell_type": "markdown",
      "source": [
        "## [A - Not Overflow](https://atcoder.jp/contests/abc237/tasks/abc237_a)"
      ],
      "metadata": {
        "id": "48ZkKnlJROxR"
      }
    },
    {
      "cell_type": "code",
      "execution_count": null,
      "metadata": {
        "id": "CCGUnweORKpY"
      },
      "outputs": [],
      "source": [
        "N = int(input())\n",
        "print(\"Yes\" if -pow(2, 31) <= N < pow(2, 31) else \"No\")"
      ]
    },
    {
      "cell_type": "markdown",
      "source": [
        "## [B - Matrix Transposition](https://atcoder.jp/contests/abc237/tasks/abc237_b)"
      ],
      "metadata": {
        "id": "u3NSxPPrRXxP"
      }
    },
    {
      "cell_type": "code",
      "source": [
        "H, W = map(int, input().split())\n",
        "A = [list(map(int, input().split())) for _ in range(H)]"
      ],
      "metadata": {
        "colab": {
          "base_uri": "https://localhost:8080/"
        },
        "id": "2QQLzZ8WRaQY",
        "outputId": "120ef91a-191a-46b0-d6d0-20e752684593"
      },
      "execution_count": 1,
      "outputs": [
        {
          "name": "stdout",
          "output_type": "stream",
          "text": [
            "4 3\n",
            "1 2 3\n",
            "4 5 6\n",
            "7 8 9\n",
            "10 11 12\n"
          ]
        }
      ]
    },
    {
      "cell_type": "code",
      "source": [
        "for row in zip(*A):\n",
        "    print(*row)"
      ],
      "metadata": {
        "colab": {
          "base_uri": "https://localhost:8080/"
        },
        "id": "3sTWeRBxRfLx",
        "outputId": "e4733128-065e-4cd6-dcdb-25c54f27f55b"
      },
      "execution_count": 3,
      "outputs": [
        {
          "output_type": "stream",
          "name": "stdout",
          "text": [
            "1 4 7 10\n",
            "2 5 8 11\n",
            "3 6 9 12\n"
          ]
        }
      ]
    },
    {
      "cell_type": "markdown",
      "source": [
        "## [C - kasaka](https://atcoder.jp/contests/abc237/tasks/abc237_c)"
      ],
      "metadata": {
        "id": "GN0ZRjp-Rtyt"
      }
    },
    {
      "cell_type": "code",
      "source": [
        "S = str(input())"
      ],
      "metadata": {
        "id": "arvnfKKhRqEv"
      },
      "execution_count": null,
      "outputs": []
    },
    {
      "cell_type": "code",
      "source": [
        "front = 0\n",
        "for s in S:\n",
        "    if s != \"a\":\n",
        "        break\n",
        "    else:\n",
        "        front += 1\n",
        "\n",
        "last = 0\n",
        "for s in S[::-1]:\n",
        "    if s != \"a\":\n",
        "        break\n",
        "    else:\n",
        "        last += 1"
      ],
      "metadata": {
        "id": "LuCDDuK4SM1x"
      },
      "execution_count": null,
      "outputs": []
    },
    {
      "cell_type": "code",
      "source": [
        "S = \"a\" * max(0, last - front) + S\n",
        "print(\"Yes\" if S == S[::-1] else \"No\")"
      ],
      "metadata": {
        "id": "gMfdyzs_SWrF"
      },
      "execution_count": null,
      "outputs": []
    },
    {
      "cell_type": "markdown",
      "source": [
        "## [D - LR insertion](https://atcoder.jp/contests/abc237/tasks/abc237_d)"
      ],
      "metadata": {
        "id": "yNEUMwN0TFyz"
      }
    },
    {
      "cell_type": "code",
      "source": [
        "N = int(input())\n",
        "S = str(input())"
      ],
      "metadata": {
        "colab": {
          "base_uri": "https://localhost:8080/"
        },
        "id": "Nm-9CZJxTI0h",
        "outputId": "63b1e0bf-8d2f-44ca-f3e5-e0d7d5c52c79"
      },
      "execution_count": 4,
      "outputs": [
        {
          "name": "stdout",
          "output_type": "stream",
          "text": [
            "5\n",
            "LRRLR\n"
          ]
        }
      ]
    },
    {
      "cell_type": "code",
      "source": [
        "from collections import deque\n",
        "dq = deque([N])\n",
        "for i, s in reversed(list(enumerate(S))):\n",
        "    if s == \"R\":\n",
        "        dq.appendleft(i)\n",
        "    else:\n",
        "        dq.append(i)"
      ],
      "metadata": {
        "id": "QCOxb1LzT6-I"
      },
      "execution_count": 7,
      "outputs": []
    },
    {
      "cell_type": "code",
      "source": [
        "print(*dq)"
      ],
      "metadata": {
        "colab": {
          "base_uri": "https://localhost:8080/"
        },
        "id": "LcucZmvAUOwO",
        "outputId": "ac420256-4cb6-41c3-bd62-942fcae37ca6"
      },
      "execution_count": 9,
      "outputs": [
        {
          "output_type": "stream",
          "name": "stdout",
          "text": [
            "1 2 4 5 3 0\n"
          ]
        }
      ]
    },
    {
      "cell_type": "markdown",
      "source": [
        "## [E - Skiing](https://atcoder.jp/contests/abc237/tasks/abc237_e)"
      ],
      "metadata": {
        "id": "uVARjkxtUmDN"
      }
    },
    {
      "cell_type": "code",
      "source": [
        "N, M = map(int, input().split())\n",
        "H = list(map(int, input().split()))\n",
        "graph = [[] for _ in range(N)]\n",
        "for _ in range(M):\n",
        "    u, v = map(int, input().split())\n",
        "    graph[u-1].append(v-1)\n",
        "    graph[v-1].append(u-1)"
      ],
      "metadata": {
        "colab": {
          "base_uri": "https://localhost:8080/"
        },
        "id": "a2J5l2DPUhou",
        "outputId": "ad38589b-a644-4f3e-e590-de3d7fab44b3"
      },
      "execution_count": 10,
      "outputs": [
        {
          "name": "stdout",
          "output_type": "stream",
          "text": [
            "4 4\n",
            "10 8 12 5\n",
            "1 2\n",
            "1 3\n",
            "2 3\n",
            "3 4\n"
          ]
        }
      ]
    },
    {
      "cell_type": "code",
      "source": [
        "from heapq import heappush, heappop\n",
        "hq = [[0, 0]]\n",
        "dist = [-1] * N\n",
        "while hq:\n",
        "    c, now = heappop(hq)\n",
        "    if dist[now] != -1:\n",
        "        continue\n",
        "    dist[now] = c\n",
        "    for to in graph[now]:\n",
        "        if dist[to] != -1: continue\n",
        "        if H[now] >= H[to]:\n",
        "            heappush(hq, [c, to])\n",
        "        else:\n",
        "            heappush(hq, [c + H[to] - H[now], to])"
      ],
      "metadata": {
        "id": "UfJMVgWGU0-B"
      },
      "execution_count": 11,
      "outputs": []
    },
    {
      "cell_type": "code",
      "source": [
        "ans = 0\n",
        "for to in range(N):\n",
        "    d = dist[to] - H[0] + H[to]\n",
        "    ans = max(ans, -d)\n",
        "print(ans)"
      ],
      "metadata": {
        "colab": {
          "base_uri": "https://localhost:8080/"
        },
        "id": "lFtos62QY5lO",
        "outputId": "e323a2d4-ea9f-49aa-c6cc-8d84e45ea1a0"
      },
      "execution_count": 19,
      "outputs": [
        {
          "output_type": "stream",
          "name": "stdout",
          "text": [
            "3\n"
          ]
        }
      ]
    },
    {
      "cell_type": "markdown",
      "source": [
        "## [F - |LIS| = 3](https://atcoder.jp/contests/abc237/tasks/abc237_f)"
      ],
      "metadata": {
        "id": "gxGbN2gTaGys"
      }
    },
    {
      "cell_type": "code",
      "source": [
        "N, M = map(int, input().split())\n",
        "mod = 998244353"
      ],
      "metadata": {
        "id": "sHaL-aaOZsL5"
      },
      "execution_count": null,
      "outputs": []
    },
    {
      "cell_type": "code",
      "source": [
        "# DP[i][x][y][z]: i項からなる配列の中で, LIS配列が(a, b, c)となるようなモノの個数\n",
        "DP = [[[[0] * (M + 1) for _ in range(M+1)] for _ in range(M+1)] for _ in range(N + 1)]\n",
        "\n",
        "# x = M の 場合は∞がLIS配列に入っているとする\n",
        "DP[0][M][M][M] = 1"
      ],
      "metadata": {
        "id": "egEtdtBXdltO"
      },
      "execution_count": null,
      "outputs": []
    },
    {
      "cell_type": "code",
      "source": [
        "# 配るDP\n",
        "for i in range(N):\n",
        "    # nはi項目に入る数字\n",
        "    for n in range(M):\n",
        "        for x in range(M+1):\n",
        "            for y in range(M+1):\n",
        "                for z in range(M+1):\n",
        "                    if not (x <= y <= z): continue\n",
        "                    p = DP[i][x][y][z]\n",
        "                    if n <= x:\n",
        "                        DP[i+1][n][y][z] += p\n",
        "                        DP[i+1][n][y][z] %= mod\n",
        "                    elif n <= y:\n",
        "                        DP[i+1][x][n][z] += p\n",
        "                        DP[i+1][x][n][z] %= mod\n",
        "                    elif n <= z:\n",
        "                        DP[i+1][x][y][n] += p\n",
        "                        DP[i+1][x][y][n] %= mod"
      ],
      "metadata": {
        "id": "D3uL1iS4egxm"
      },
      "execution_count": null,
      "outputs": []
    },
    {
      "cell_type": "code",
      "source": [
        "ans = 0\n",
        "for x in range(M):\n",
        "    for y in range(M):\n",
        "        for z in range(M):\n",
        "            if x <= y <= z:\n",
        "                ans += DP[N][x][y][z]\n",
        "                ans %= mod\n",
        "print(ans)"
      ],
      "metadata": {
        "id": "5zVzL2Zxe8-H"
      },
      "execution_count": null,
      "outputs": []
    }
  ]
}