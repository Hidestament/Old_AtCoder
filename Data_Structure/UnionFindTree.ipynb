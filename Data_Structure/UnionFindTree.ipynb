{
  "nbformat": 4,
  "nbformat_minor": 0,
  "metadata": {
    "colab": {
      "name": "UnionFindTree.ipynb",
      "provenance": [],
      "authorship_tag": "ABX9TyMsQYLdKRcM/fDoNnuExoOy",
      "include_colab_link": true
    },
    "kernelspec": {
      "name": "python3",
      "display_name": "Python 3"
    }
  },
  "cells": [
    {
      "cell_type": "markdown",
      "metadata": {
        "id": "view-in-github",
        "colab_type": "text"
      },
      "source": [
        "<a href=\"https://colab.research.google.com/github/Hidestament/AtCoder/blob/main/Data_Structure/UnionFindTree.ipynb\" target=\"_parent\"><img src=\"https://colab.research.google.com/assets/colab-badge.svg\" alt=\"Open In Colab\"/></a>"
      ]
    },
    {
      "cell_type": "markdown",
      "metadata": {
        "id": "tjkhU9YxbQLo"
      },
      "source": [
        "まずは, それぞれのノードの親を管理する par を作る.\r\n",
        "\r\n",
        "par[x] == x であった場合, そのノード x は根であることになります.\r\n",
        "\r\n",
        "以下では, 単純のため 1 ~ nのノードがあるとし, ノード0は存在しない"
      ]
    },
    {
      "cell_type": "code",
      "metadata": {
        "id": "-8U-LowibAvB"
      },
      "source": [
        "class UnionFindTree:\r\n",
        "  def __init__(self, n):\r\n",
        "    # ノードの親の番号を管理するリスト. par[x] == x でそのノードは根\r\n",
        "    self.par = [i for i in range(n+1)]\r\n",
        "    # 工夫2のために, 木のランクを保存するリストを作る. 初期状態を0としておく\r\n",
        "    self.rank = [0] * (n+1)\r\n",
        "\r\n",
        "  # find操作を再帰で実装\r\n",
        "  def find(self, x):\r\n",
        "    # xが根なら根xを返す\r\n",
        "    if self.par[x] == x:\r\n",
        "      return x\r\n",
        "    else:\r\n",
        "      # 工夫1 : 根をつなぎ直すも実装する\r\n",
        "      self.par[x] = self.find(self.par[x])\r\n",
        "      return self.find(self.par[x])\r\n",
        "\r\n",
        "  # findの発展, 2つの要素が同じ集合に属するかの判定\r\n",
        "  def same_check(self, x, y):\r\n",
        "    return self.find(x) == self.find(y)\r\n",
        "  \r\n",
        "\r\n",
        "  # Union\r\n",
        "  def union(self, x, y):\r\n",
        "    # まずは根を探す\r\n",
        "    x = self.find(x)\r\n",
        "    y = self.find(y)\r\n",
        "\r\n",
        "    # 木の高さを比較し, 小さい方を大きい方にくっつける\r\n",
        "    if self.rank[x] < self.rank[y]:\r\n",
        "      self.par[x] = y\r\n",
        "    else:\r\n",
        "      self.par[y] = x\r\n",
        "    \r\n",
        "    # 木の高さが同じなら片方を1増やす\r\n",
        "      if self.rank[x] == self.rank[y]:\r\n",
        "        self.rank[x] += 1"
      ],
      "execution_count": 1,
      "outputs": []
    },
    {
      "cell_type": "code",
      "metadata": {
        "id": "Tdi3U9RsdSaS"
      },
      "source": [
        "A = UnionFindTree(10)"
      ],
      "execution_count": 2,
      "outputs": []
    },
    {
      "cell_type": "code",
      "metadata": {
        "colab": {
          "base_uri": "https://localhost:8080/"
        },
        "id": "LSJ0tIhgdU9p",
        "outputId": "6be89e2f-66b3-4d06-d9d7-dcf7c04f100c"
      },
      "source": [
        "A.find(4)"
      ],
      "execution_count": 3,
      "outputs": [
        {
          "output_type": "execute_result",
          "data": {
            "text/plain": [
              "4"
            ]
          },
          "metadata": {
            "tags": []
          },
          "execution_count": 3
        }
      ]
    },
    {
      "cell_type": "code",
      "metadata": {
        "id": "aXBpejaKdW0S"
      },
      "source": [
        "A.union(4,5)"
      ],
      "execution_count": 4,
      "outputs": []
    },
    {
      "cell_type": "code",
      "metadata": {
        "colab": {
          "base_uri": "https://localhost:8080/"
        },
        "id": "uFBSY-nSdYXC",
        "outputId": "d9265f96-72ab-4fec-944e-7be5009a9967"
      },
      "source": [
        "A.find(4)"
      ],
      "execution_count": 5,
      "outputs": [
        {
          "output_type": "execute_result",
          "data": {
            "text/plain": [
              "4"
            ]
          },
          "metadata": {
            "tags": []
          },
          "execution_count": 5
        }
      ]
    },
    {
      "cell_type": "code",
      "metadata": {
        "colab": {
          "base_uri": "https://localhost:8080/"
        },
        "id": "3DQWnD2VdZIp",
        "outputId": "499e7c22-0780-47bc-ad6a-0c9d5881a410"
      },
      "source": [
        "A.find(5)"
      ],
      "execution_count": 6,
      "outputs": [
        {
          "output_type": "execute_result",
          "data": {
            "text/plain": [
              "4"
            ]
          },
          "metadata": {
            "tags": []
          },
          "execution_count": 6
        }
      ]
    },
    {
      "cell_type": "code",
      "metadata": {
        "colab": {
          "base_uri": "https://localhost:8080/"
        },
        "id": "VmwwUhrndaHg",
        "outputId": "931c1fab-1bb6-47b6-9b99-6413697e8861"
      },
      "source": [
        "A.same_check(4,5)"
      ],
      "execution_count": 7,
      "outputs": [
        {
          "output_type": "execute_result",
          "data": {
            "text/plain": [
              "True"
            ]
          },
          "metadata": {
            "tags": []
          },
          "execution_count": 7
        }
      ]
    }
  ]
}